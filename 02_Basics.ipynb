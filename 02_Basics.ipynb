{
 "cells": [
  {
   "cell_type": "markdown",
   "metadata": {},
   "source": [
    "# Python building blocks\n",
    "> _\"Everyone can be a programmer.\"_\n",
    ">\n",
    "> -- Chef Gusteau (paraphrased; Ratatouille)\n",
    "\n",
    "## 1 Introduction\n",
    "\n",
    "> When you were a small child, your parents taught you to count and perform simple calculations with your fingers [..].\n",
    "> They would ask \"what's 3 + 2?\" and you would count off the fingers on one hand. They programmed and you computed.\n",
    "> And in some way, that's really all there is to programming and computing.<sup>1</sup>\n",
    "\n",
    "Lets now do some simple computations using Python:"
   ]
  },
  {
   "cell_type": "code",
   "execution_count": null,
   "metadata": {},
   "outputs": [],
   "source": [
    "1"
   ]
  },
  {
   "cell_type": "code",
   "execution_count": null,
   "metadata": {},
   "outputs": [],
   "source": [
    "3 + 2"
   ]
  },
  {
   "cell_type": "code",
   "execution_count": null,
   "metadata": {},
   "outputs": [],
   "source": [
    "5 * 3"
   ]
  },
  {
   "cell_type": "code",
   "execution_count": null,
   "metadata": {},
   "outputs": [],
   "source": [
    "6 / 2"
   ]
  },
  {
   "cell_type": "code",
   "execution_count": null,
   "metadata": {},
   "outputs": [],
   "source": [
    "2 - 8"
   ]
  },
  {
   "cell_type": "code",
   "execution_count": null,
   "metadata": {},
   "outputs": [],
   "source": [
    "2 ** 7"
   ]
  },
  {
   "cell_type": "code",
   "execution_count": null,
   "metadata": {},
   "outputs": [],
   "source": [
    "37 % 5"
   ]
  },
  {
   "cell_type": "code",
   "execution_count": null,
   "metadata": {},
   "outputs": [],
   "source": [
    "abs(-8)"
   ]
  },
  {
   "cell_type": "markdown",
   "metadata": {},
   "source": [
    "---\n",
    "\n",
    "### Exercise 2-1: Error!\n",
    "What happens when you try to divide a number by zero?"
   ]
  },
  {
   "cell_type": "code",
   "execution_count": null,
   "metadata": {},
   "outputs": [],
   "source": []
  },
  {
   "cell_type": "markdown",
   "metadata": {},
   "source": [
    "---\n",
    "\n",
    "Remember the mathematical order of operations; `()` take precedence over * and / take precedence over + and -."
   ]
  },
  {
   "cell_type": "code",
   "execution_count": null,
   "metadata": {},
   "outputs": [],
   "source": [
    "2 + 8 * 3"
   ]
  },
  {
   "cell_type": "code",
   "execution_count": null,
   "metadata": {},
   "outputs": [],
   "source": [
    "41 / (2 - 7)"
   ]
  },
  {
   "cell_type": "markdown",
   "metadata": {},
   "source": [
    "---\n",
    "### Exercise 2-2: BODMAS\n",
    "Introduce brackets into this expression to make it evaluate to 5."
   ]
  },
  {
   "cell_type": "code",
   "execution_count": null,
   "metadata": {},
   "outputs": [],
   "source": [
    "8 * 6 / 4 - 2 * 0.5"
   ]
  },
  {
   "cell_type": "markdown",
   "metadata": {},
   "source": [
    "---\n",
    "\n",
    "Right now you might be wondering if programming is just about mathematics. Fortunately no, there is much more to programming: text, logic, images, and much much more. Let's play with some text (called _strings_ because they're characters strung together."
   ]
  },
  {
   "cell_type": "code",
   "execution_count": null,
   "metadata": {},
   "outputs": [],
   "source": [
    "\"hello world\""
   ]
  },
  {
   "cell_type": "code",
   "execution_count": null,
   "metadata": {},
   "outputs": [],
   "source": [
    "\"hello\" + \"world\""
   ]
  },
  {
   "cell_type": "code",
   "execution_count": null,
   "metadata": {},
   "outputs": [],
   "source": [
    "'hello ' + \"world\""
   ]
  },
  {
   "cell_type": "code",
   "execution_count": null,
   "metadata": {},
   "outputs": [],
   "source": [
    "'hello' + ' ' + \"world\""
   ]
  },
  {
   "cell_type": "code",
   "execution_count": null,
   "metadata": {},
   "outputs": [],
   "source": [
    "'python' * 5"
   ]
  },
  {
   "cell_type": "markdown",
   "metadata": {},
   "source": [
    "You can do many more things with strings, like extract parts, convert all characters to upper case, strip blanks spaces from each end, count the number of characters in the string, or convert the string to a number:"
   ]
  },
  {
   "cell_type": "code",
   "execution_count": null,
   "metadata": {},
   "outputs": [],
   "source": [
    "len('hello world')"
   ]
  },
  {
   "cell_type": "code",
   "execution_count": null,
   "metadata": {},
   "outputs": [],
   "source": [
    "int('42')"
   ]
  },
  {
   "cell_type": "markdown",
   "metadata": {},
   "source": [
    "---\n",
    "\n",
    "### Exercise 2-3: Addition?\n",
    "What do you expect this expression to evaluate to?"
   ]
  },
  {
   "cell_type": "code",
   "execution_count": null,
   "metadata": {},
   "outputs": [],
   "source": [
    "3 + 'five'"
   ]
  },
  {
   "cell_type": "markdown",
   "metadata": {},
   "source": [
    "---\n",
    "\n",
    "Let's now play with another area of programming: logic. There are 2 logical (known as _Boolean_) values:"
   ]
  },
  {
   "cell_type": "code",
   "execution_count": null,
   "metadata": {},
   "outputs": [],
   "source": [
    "True"
   ]
  },
  {
   "cell_type": "code",
   "execution_count": null,
   "metadata": {},
   "outputs": [],
   "source": [
    "False"
   ]
  },
  {
   "cell_type": "markdown",
   "metadata": {},
   "source": [
    "These can be combined in several ways<sup>2</sup>:"
   ]
  },
  {
   "cell_type": "code",
   "execution_count": null,
   "metadata": {},
   "outputs": [],
   "source": [
    "# Are True *and* False both True?\n",
    "True and False"
   ]
  },
  {
   "cell_type": "code",
   "execution_count": null,
   "metadata": {},
   "outputs": [],
   "source": [
    "# Are either or True or False, True?\n",
    "True or False"
   ]
  },
  {
   "cell_type": "code",
   "execution_count": null,
   "metadata": {},
   "outputs": [],
   "source": [
    "not True"
   ]
  },
  {
   "cell_type": "markdown",
   "metadata": {},
   "source": [
    "---\n",
    "\n",
    "### Exercise 2-4: Logic\n",
    "Can you guess what the expression, `not False` will exaluate to?"
   ]
  },
  {
   "cell_type": "code",
   "execution_count": null,
   "metadata": {},
   "outputs": [],
   "source": []
  },
  {
   "cell_type": "markdown",
   "metadata": {},
   "source": [
    "---\n",
    "\n",
    "## 2 Comparing things\n",
    "\n",
    "Python provides several ways to compare values. You can read comparison expressions as asking a question:\n",
    "\n",
    "> Is 3 less than 5?\n",
    "\n",
    "```python3\n",
    "3 < 5\n",
    "```"
   ]
  },
  {
   "cell_type": "code",
   "execution_count": null,
   "metadata": {},
   "outputs": [],
   "source": [
    "# Is the string \"hello\" the same as the string \"world\"?\n",
    "\"hello\" == \"world\""
   ]
  },
  {
   "cell_type": "code",
   "execution_count": null,
   "metadata": {},
   "outputs": [],
   "source": [
    "5 < 10"
   ]
  },
  {
   "cell_type": "code",
   "execution_count": null,
   "metadata": {},
   "outputs": [],
   "source": [
    "10 > 5"
   ]
  },
  {
   "cell_type": "code",
   "execution_count": null,
   "metadata": {},
   "outputs": [],
   "source": [
    "1 <= 1"
   ]
  },
  {
   "cell_type": "markdown",
   "metadata": {},
   "source": [
    "---\n",
    "\n",
    "### Exercise 2-5\n",
    "Make the expression in the following code cell evaluate to `True`. What is the `!=` operator doing?"
   ]
  },
  {
   "cell_type": "code",
   "execution_count": null,
   "metadata": {},
   "outputs": [],
   "source": [
    "\"hello\" != \"hello\""
   ]
  },
  {
   "cell_type": "markdown",
   "metadata": {},
   "source": [
    "---\n",
    "\n",
    "### Exercise 2-6\n",
    "Predict the outcome of each of these operations before evaluating the cells to see if you're correct."
   ]
  },
  {
   "cell_type": "code",
   "execution_count": null,
   "metadata": {},
   "outputs": [],
   "source": [
    "10 >= (5 + 5)"
   ]
  },
  {
   "cell_type": "code",
   "execution_count": null,
   "metadata": {},
   "outputs": [],
   "source": [
    "(1 + 2 + 3 + 4) == 10"
   ]
  },
  {
   "cell_type": "code",
   "execution_count": null,
   "metadata": {},
   "outputs": [],
   "source": [
    "abs(-22) != 1"
   ]
  },
  {
   "cell_type": "code",
   "execution_count": null,
   "metadata": {},
   "outputs": [],
   "source": [
    "\"HELLO\" == \"hello\""
   ]
  },
  {
   "cell_type": "code",
   "execution_count": null,
   "metadata": {},
   "outputs": [],
   "source": [
    "len(\"hello\") <= 4"
   ]
  },
  {
   "cell_type": "code",
   "execution_count": null,
   "metadata": {},
   "outputs": [],
   "source": [
    "\"Guido \" + \"van Rossum\" == 65"
   ]
  },
  {
   "cell_type": "markdown",
   "metadata": {},
   "source": [
    "---\n",
    "\n",
    "## 3 Variables\n",
    "We saw in the previous section that programming consists essentially of values and operations on those values. _Variables_ give you a way to _store the result_ of an operation for later use.\n",
    "Python provides a special operator which you might think of as the \"store a value in a variable\" operator. It's called the _assignment_ operator. Here are some examples:"
   ]
  },
  {
   "cell_type": "code",
   "execution_count": null,
   "metadata": {},
   "outputs": [],
   "source": [
    "myVar = 5\n",
    "myVar + myVar"
   ]
  },
  {
   "cell_type": "code",
   "execution_count": null,
   "metadata": {},
   "outputs": [],
   "source": [
    "# Place the string GATTACACATTAG into a variable (box).  \n",
    "mySequence = \"GATTACACATTAG\"\n",
    "mySequence"
   ]
  },
  {
   "cell_type": "markdown",
   "metadata": {},
   "source": [
    "What happens here is that you assign a **value**: \"*AGAATCGATACGA*\" to a **variable**: `mySequence`. You can now keep on using `mySequence` throughout your program in an identical way you would use the literal string \"*AGAATCGATACGA*\". Note that `mySequence` is not quoted because it is now part of the program, try this for example:"
   ]
  },
  {
   "cell_type": "code",
   "execution_count": null,
   "metadata": {},
   "outputs": [],
   "source": [
    "# Repeat the above, but this time put the variable in quotation marks when you put in the print statement and see what happens\n",
    "mySequence = \"GATTACACATTAG\"\n",
    "\"mySequence\""
   ]
  },
  {
   "cell_type": "markdown",
   "metadata": {},
   "source": [
    "You will now still assign the value \"*GATTACACATTAG*\" to the variable `mySequence`, but because of the quotes, this cell evaluates to the string \"mySequence\", not the value \"\" that is stored in the `mySequence` variable."
   ]
  },
  {
   "cell_type": "markdown",
   "metadata": {},
   "source": [
    "You can perform operation using variables in exactly the same way as you did with values in the previous section. Python simply replaces the name of the variable with is value then evaluates the expression."
   ]
  },
  {
   "cell_type": "code",
   "execution_count": null,
   "metadata": {},
   "outputs": [],
   "source": [
    "x = 5\n",
    "y = 2"
   ]
  },
  {
   "cell_type": "code",
   "execution_count": null,
   "metadata": {},
   "outputs": [],
   "source": [
    "x + 5  # Addition"
   ]
  },
  {
   "cell_type": "code",
   "execution_count": null,
   "metadata": {},
   "outputs": [],
   "source": [
    "x - 8  # Subtraction"
   ]
  },
  {
   "cell_type": "code",
   "execution_count": null,
   "metadata": {},
   "outputs": [],
   "source": [
    "y * x  # Multiplication"
   ]
  },
  {
   "cell_type": "code",
   "execution_count": null,
   "metadata": {},
   "outputs": [],
   "source": [
    "4 / y  # Division"
   ]
  },
  {
   "cell_type": "code",
   "execution_count": null,
   "metadata": {},
   "outputs": [],
   "source": [
    "5 % y  # Modulus, remainder of division"
   ]
  },
  {
   "cell_type": "code",
   "execution_count": null,
   "metadata": {},
   "outputs": [],
   "source": [
    "y ** 3 # Power"
   ]
  },
  {
   "cell_type": "markdown",
   "metadata": {},
   "source": [
    "## 4 Input and Output\n",
    "You can think of your program as it's own little world, happily calculating away. As a programmer you spend most of your time thinking about the details of this word but programming would not be very useful if there were no way of interacting with things outside of this world: displaying things on the screen, getting data from a file, reacting to user input from the keyboard or mouse, responding to network requests, etc.\n",
    "\n",
    "\"The console\" is a term you will often hear being used to describe a _thing_, a standard piece of computer hardware that your program can interact with. You can read input from the console, and you can write output to the console. So what is the console? It's really an abstract idea made concrete by your programming environment. In Jupyter Notebooks the console is this web page displaying the notebook. In other environments it might be a terminal window or even a printer!\n",
    "\n",
    "Suffice it to say that Python, and most other programming languages, provide you a mechanism to interact with whatever the console happens to be. In Python this mechanism is a pair of commands: `print()` and `input()`.\n",
    "\n",
    "The output you have seen below code cells has been the result of evaluating the _last_ expression in that code cell. The `print()` command gives you another mechanism to display output that is not necessarily the result of evaluating a cell. All arguments you supply to the `print()` will be printed to the screen."
   ]
  },
  {
   "cell_type": "code",
   "execution_count": null,
   "metadata": {},
   "outputs": [],
   "source": [
    "a = 5\n",
    "print(a)\n",
    "6 + 5"
   ]
  },
  {
   "cell_type": "markdown",
   "metadata": {},
   "source": [
    "The value of the variable `a` was printed, and `11` was also displayed as the result of evaluating the _last_ expression in the cell.\n",
    "\n",
    "The `print()` command can accept any number of arguments of any data type. Try below and see what happens."
   ]
  },
  {
   "cell_type": "code",
   "execution_count": null,
   "metadata": {},
   "outputs": [],
   "source": [
    "print(\"hello\", 5, 3.14, True)"
   ]
  },
  {
   "cell_type": "code",
   "execution_count": null,
   "metadata": {},
   "outputs": [],
   "source": [
    "# Use input to ask for a sequence string, then print the input sequence\n",
    "mySequence = input(\"Give me a sequence:\")\n",
    "mySequence"
   ]
  },
  {
   "cell_type": "markdown",
   "metadata": {},
   "source": [
    "---\n",
    "\n",
    "### Exercise 2-7: The meaning of life, the universe, and everything\n",
    "\n",
    "Write a program where you ask the computer a question and the computer prints out the answer \"42\"."
   ]
  },
  {
   "cell_type": "code",
   "execution_count": null,
   "metadata": {},
   "outputs": [],
   "source": [
    "# Hint: You can use input() and print()"
   ]
  },
  {
   "cell_type": "markdown",
   "metadata": {
    "tags": []
   },
   "source": [
    "---\n",
    "### Exercise 2-8: Chopping numbers\n",
    "Write a program that prints fractional part (numbers after the decimal point) of an input number. e.g. input of `5.5` should print `0.5`"
   ]
  },
  {
   "cell_type": "code",
   "execution_count": null,
   "metadata": {},
   "outputs": [],
   "source": []
  },
  {
   "cell_type": "markdown",
   "metadata": {},
   "source": [
    "### Exercise 2-9: The area of a circle\n",
    "Write a program that computes the area of a circle with radius given by the user. Reminder: $$A_{circle} = \\pi r^2$$"
   ]
  },
  {
   "cell_type": "code",
   "execution_count": null,
   "metadata": {},
   "outputs": [],
   "source": []
  },
  {
   "cell_type": "markdown",
   "metadata": {},
   "source": [
    "## 5 Practice\n",
    "It is time for you to explore the boundaries of what you've learned already.\n",
    "\n",
    "---\n",
    "\n",
    "### Exercise 2-10\n",
    "Can you compare strings like this? What does it mean for one string to be _less than_ another string?\n",
    "What does the following expression evaluate to and why?"
   ]
  },
  {
   "cell_type": "code",
   "execution_count": null,
   "metadata": {},
   "outputs": [],
   "source": [
    "\"three\" > \"six\""
   ]
  },
  {
   "cell_type": "markdown",
   "metadata": {},
   "source": [
    "---\n",
    "\n",
    "### Exercise 2-11\n",
    "You know that the `*` symbol is the operator for multiplication, `+` is addition, `/` is division, etc. Here are 2 new operators, see if you can find out what these operators do:\n",
    "* `%` (e.g. `5 % 2`)\n",
    "* `//` (e.g. `5 // 2`)"
   ]
  },
  {
   "cell_type": "code",
   "execution_count": null,
   "metadata": {},
   "outputs": [],
   "source": []
  },
  {
   "cell_type": "code",
   "execution_count": null,
   "metadata": {},
   "outputs": [],
   "source": []
  },
  {
   "cell_type": "markdown",
   "metadata": {},
   "source": [
    "---\n",
    "### Exercise 2-12\n",
    "Use the `int()` function to convert fractional numbers (like `3.14159`) into integers."
   ]
  },
  {
   "cell_type": "code",
   "execution_count": null,
   "metadata": {},
   "outputs": [],
   "source": []
  },
  {
   "cell_type": "markdown",
   "metadata": {},
   "source": [
    "---\n",
    "### Exercise 2-13\n",
    "Give the variable `n` a value and display `True` if `n` is even, otherwise display `False`"
   ]
  },
  {
   "cell_type": "code",
   "execution_count": 1,
   "metadata": {},
   "outputs": [],
   "source": [
    "n = 5\n",
    "\n",
    "# Expression resulting in True for even values of n and False for odd values"
   ]
  },
  {
   "cell_type": "markdown",
   "metadata": {},
   "source": [
    "---\n",
    "### Exercise 2-14\n",
    "Write a program to ask the user for their name, then print out a greeting using their name. You can use the `input()` and `print()` commands."
   ]
  },
  {
   "cell_type": "code",
   "execution_count": null,
   "metadata": {},
   "outputs": [],
   "source": []
  },
  {
   "cell_type": "markdown",
   "metadata": {},
   "source": [
    "---\n",
    "\n",
    "## 6 Chapter Review\n",
    "\n",
    "In this chapter you've learned about the \"building blocks\" of programming<sup>7</sup>. Various data types and operations on these data types, variables, and input/output.\n",
    "\n",
    "### Review Questions\n",
    "\n",
    "1. Why is text called \"string\" in programming?\n",
    "<details>\n",
    "    <summary>Answer</summary>\n",
    "    The computer represents text as a series of characters strung together. Each letter, space, and punctuation mark in the string is a character.\n",
    "</details>\n",
    "\n",
    "1. What datatype is this: `\"Hello world\"`?\n",
    "<details>\n",
    "    <summary>Answer</summary>\n",
    "    A string or <code>str</code>\n",
    "</details>\n",
    "\n",
    "1. What operator can you use to combine 2 strings into a single string?\n",
    "<details>\n",
    "    <summary>Answer</summary>\n",
    "    The <code>+</code> operator\n",
    "</details>\n",
    "\n",
    "1. How many boolean values are there? What do they represent?\n",
    "<details>\n",
    "    <summary>Answer</summary>\n",
    "    There are 2 boolean values (<code>True</code> and <code>False</code>). They represent true/false, yes/no, on/off.\n",
    "</details>\n",
    "\n",
    "1. Can a variable be treated as if it is the value it contains?\n",
    "<details>\n",
    "    <summary>Answer</summary>\n",
    "    Yes. The only difference is that a variable is a value with a name.\n",
    "</details>\n",
    "\n",
    "1. What does the code below evaluate to? Why?\n",
    "<details>\n",
    "    <summary>Answer</summary>\n",
    "    <code>False</code>. Because floating point numbers are represented in computers as finite approximations to continuous real valued numbers.\n",
    "</details>"
   ]
  },
  {
   "cell_type": "code",
   "execution_count": null,
   "metadata": {},
   "outputs": [],
   "source": [
    "0.1 + 0.1 + 0.1 == 0.3"
   ]
  },
  {
   "cell_type": "markdown",
   "metadata": {},
   "source": [
    "## 7 References\n",
    "1. Felleisen, M., Findler, R., Flatt, M., Krishnamurthi, S. (2018) _[How to Design Programs](https://htdp.org/) (2 ed.)_. The MIT Press.\n",
    "1. https://philosophy.lander.edu/logic/conjunct.html\n",
    "1. https://en.wikipedia.org/wiki/IEEE_754\n",
    "1. https://en.wikipedia.org/wiki/Floating-point_arithmetic\n",
    "1. https://en.wikipedia.org/wiki/Sentinel_value\n",
    "1. https://lexi-lambda.github.io/blog/2019/11/05/parse-don-t-validate/\n",
    "1. Landin, P.J. (1966) _[The next 700 programming languages](https://www.cs.cmu.edu/~crary/819-f09/Landin66.pdf)_. Communications of the ACM, 9(3):157-166."
   ]
  },
  {
   "cell_type": "markdown",
   "metadata": {},
   "source": [
    "## 8 Next session\n",
    "This may feel slow and unrelated to where you want to be. Unfortunately we cannot rush to the interesting bits, laying these foundations will make the interesting bits far less mystifying.\n",
    "\n",
    "Go to the [next chapter](03_Functions.ipynb). "
   ]
  },
  {
   "cell_type": "code",
   "execution_count": null,
   "metadata": {},
   "outputs": [],
   "source": []
  }
 ],
 "metadata": {
  "kernelspec": {
   "display_name": "Python 3",
   "language": "python",
   "name": "python3"
  },
  "language_info": {
   "codemirror_mode": {
    "name": "ipython",
    "version": 3
   },
   "file_extension": ".py",
   "mimetype": "text/x-python",
   "name": "python",
   "nbconvert_exporter": "python",
   "pygments_lexer": "ipython3",
   "version": "3.9.2"
  }
 },
 "nbformat": 4,
 "nbformat_minor": 4
}
