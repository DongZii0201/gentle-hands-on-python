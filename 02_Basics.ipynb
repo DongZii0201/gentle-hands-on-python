{
 "cells": [
  {
   "cell_type": "markdown",
   "metadata": {},
   "source": [
    "# Building blocks\n",
    "> _\"Everyone can be a programmer.\"_\n",
    ">\n",
    "> -- Chef Gusteau (paraphrased; Ratatouille)\n",
    "\n",
    "## 1. Introduction\n",
    "\n",
    "> When you were a small child, your parents taught you to count and perform simple calculations with your fingers [..].\n",
    "> They would ask \"what's 3 + 2?\" and you would count off the fingers on one hand. They programmed and you computed.\n",
    "> And in some way, that's really all there is to programming and computing.<sup>1</sup>\n",
    "\n",
    "Lets now do some simple computations using Python:"
   ]
  },
  {
   "cell_type": "code",
   "execution_count": null,
   "metadata": {},
   "outputs": [],
   "source": [
    "1"
   ]
  },
  {
   "cell_type": "code",
   "execution_count": null,
   "metadata": {},
   "outputs": [],
   "source": [
    "3 + 2"
   ]
  },
  {
   "cell_type": "code",
   "execution_count": null,
   "metadata": {},
   "outputs": [],
   "source": [
    "5 * 3"
   ]
  },
  {
   "cell_type": "code",
   "execution_count": null,
   "metadata": {},
   "outputs": [],
   "source": [
    "6 / 2"
   ]
  },
  {
   "cell_type": "code",
   "execution_count": null,
   "metadata": {},
   "outputs": [],
   "source": [
    "2 - 8"
   ]
  },
  {
   "cell_type": "code",
   "execution_count": null,
   "metadata": {},
   "outputs": [],
   "source": [
    "2 ** 7"
   ]
  },
  {
   "cell_type": "code",
   "execution_count": null,
   "metadata": {},
   "outputs": [],
   "source": [
    "37 % 5"
   ]
  },
  {
   "cell_type": "code",
   "execution_count": null,
   "metadata": {},
   "outputs": [],
   "source": [
    "abs(-8)"
   ]
  },
  {
   "cell_type": "markdown",
   "metadata": {},
   "source": [
    "---\n",
    "\n",
    "### Exercise 2-1: Error!\n",
    "What happens when you try to divide a number by zero?"
   ]
  },
  {
   "cell_type": "code",
   "execution_count": null,
   "metadata": {},
   "outputs": [],
   "source": []
  },
  {
   "cell_type": "markdown",
   "metadata": {},
   "source": [
    "---\n",
    "\n",
    "Remember the mathematical order of operations; `()` take precedence over * and / take precedence over + and -."
   ]
  },
  {
   "cell_type": "code",
   "execution_count": null,
   "metadata": {},
   "outputs": [],
   "source": [
    "2 + 8 * 3"
   ]
  },
  {
   "cell_type": "code",
   "execution_count": null,
   "metadata": {},
   "outputs": [],
   "source": [
    "41 / (2 - 7)"
   ]
  },
  {
   "cell_type": "code",
   "execution_count": null,
   "metadata": {},
   "outputs": [],
   "source": [
    "8 * 6 / 4 - 2 * 0.5"
   ]
  },
  {
   "cell_type": "markdown",
   "metadata": {},
   "source": [
    "---\n",
    "\n",
    "Right now you might be wondering if programming is just about mathematics. Fortunately no, there is much more to programming: text, logic, images, and much much more. Let's play with some text (called _strings_ because they're characters strung together."
   ]
  },
  {
   "cell_type": "code",
   "execution_count": null,
   "metadata": {},
   "outputs": [],
   "source": [
    "\"hello world\""
   ]
  },
  {
   "cell_type": "code",
   "execution_count": null,
   "metadata": {},
   "outputs": [],
   "source": [
    "\"hello\" + \"world\""
   ]
  },
  {
   "cell_type": "code",
   "execution_count": null,
   "metadata": {},
   "outputs": [],
   "source": [
    "'hello ' + \"world\""
   ]
  },
  {
   "cell_type": "code",
   "execution_count": null,
   "metadata": {},
   "outputs": [],
   "source": [
    "'hello' + ' ' + \"world\""
   ]
  },
  {
   "cell_type": "code",
   "execution_count": null,
   "metadata": {},
   "outputs": [],
   "source": [
    "'python' * 5"
   ]
  },
  {
   "cell_type": "markdown",
   "metadata": {},
   "source": [
    "---\n",
    "\n",
    "### Exercise 2-3: Addition?\n",
    "What do you expect this expression to evaluate to?"
   ]
  },
  {
   "cell_type": "code",
   "execution_count": null,
   "metadata": {},
   "outputs": [],
   "source": [
    "3 + 'five'"
   ]
  },
  {
   "cell_type": "markdown",
   "metadata": {},
   "source": [
    "[Advanced question](Advanced%20Exercises.ipynb#2-3)\n",
    "\n",
    "---\n",
    "\n",
    "Let's now play with another area of programming: logic. There are 2 logical (known as _Boolean_) values:"
   ]
  },
  {
   "cell_type": "code",
   "execution_count": null,
   "metadata": {},
   "outputs": [],
   "source": [
    "True"
   ]
  },
  {
   "cell_type": "code",
   "execution_count": null,
   "metadata": {},
   "outputs": [],
   "source": [
    "False"
   ]
  },
  {
   "cell_type": "markdown",
   "metadata": {},
   "source": [
    "## 2. Comparing things\n",
    "\n",
    "Python provides several ways to compare values. You can read comparison expressions as asking a question:\n",
    "\n",
    "> Is 3 less than 5?\n",
    "\n",
    "```python3\n",
    "3 < 5\n",
    "```"
   ]
  },
  {
   "cell_type": "code",
   "execution_count": null,
   "metadata": {},
   "outputs": [],
   "source": [
    "# Is the string \"hello\" the same as the string \"world\"?\n",
    "\"hello\" == \"world\""
   ]
  },
  {
   "cell_type": "code",
   "execution_count": null,
   "metadata": {},
   "outputs": [],
   "source": [
    "5 < 10"
   ]
  },
  {
   "cell_type": "code",
   "execution_count": null,
   "metadata": {},
   "outputs": [],
   "source": [
    "10 > 5"
   ]
  },
  {
   "cell_type": "code",
   "execution_count": null,
   "metadata": {},
   "outputs": [],
   "source": [
    "1 <= 1"
   ]
  },
  {
   "cell_type": "markdown",
   "metadata": {},
   "source": [
    "---\n",
    "\n",
    "### Exercise 2-4\n",
    "Make the expression in the following code cell evaluate to `True`. What is the `!=` operator doing?"
   ]
  },
  {
   "cell_type": "code",
   "execution_count": null,
   "metadata": {},
   "outputs": [],
   "source": [
    "\"hello\" != \"hello\""
   ]
  },
  {
   "cell_type": "markdown",
   "metadata": {},
   "source": [
    "[Advanced question](Advanced%20Exercises.ipynb#2-5)\n",
    "\n",
    "---\n",
    "\n",
    "### Exercise 2-5\n",
    "Predict the outcome of each of these operations before evaluating the cells to see if you're correct."
   ]
  },
  {
   "cell_type": "code",
   "execution_count": null,
   "metadata": {},
   "outputs": [],
   "source": [
    "10 >= (5 + 5)"
   ]
  },
  {
   "cell_type": "code",
   "execution_count": null,
   "metadata": {},
   "outputs": [],
   "source": [
    "(1 + 2 + 3 + 4) == 10"
   ]
  },
  {
   "cell_type": "code",
   "execution_count": null,
   "metadata": {},
   "outputs": [],
   "source": [
    "abs(-22) != 1"
   ]
  },
  {
   "cell_type": "code",
   "execution_count": null,
   "metadata": {},
   "outputs": [],
   "source": [
    "\"HELLO\" == \"hello\""
   ]
  },
  {
   "cell_type": "code",
   "execution_count": null,
   "metadata": {},
   "outputs": [],
   "source": [
    "len(\"hello\") <= 4"
   ]
  },
  {
   "cell_type": "code",
   "execution_count": null,
   "metadata": {},
   "outputs": [],
   "source": [
    "\"Guido \" + \"van Rossum\" == 65"
   ]
  },
  {
   "cell_type": "markdown",
   "metadata": {},
   "source": [
    "[Advanced question](Advanced%20Exercises.ipynb#2-6)\n",
    "\n",
    "---\n",
    "\n",
    "## 3. Variables\n",
    "We saw in the previous section that programming consists essentially of values and operations on those values. _Variables_ give you a way to _store the result_ of an operation for later use.\n",
    "Python provides a special operator which you might think of as the \"store a value in a variable\" operator. It's called the _assignment_ operator. Here are some examples:"
   ]
  },
  {
   "cell_type": "code",
   "execution_count": null,
   "metadata": {},
   "outputs": [],
   "source": [
    "my_var = 5\n",
    "my_var + my_var"
   ]
  },
  {
   "cell_type": "code",
   "execution_count": null,
   "metadata": {},
   "outputs": [],
   "source": [
    "# Place the string GATTACACATTAG into a variable (box).  \n",
    "sequence = \"GATTACACATTAG\"\n",
    "sequence"
   ]
  },
  {
   "cell_type": "markdown",
   "metadata": {},
   "source": [
    "What happens here is that you assign a **value**: \"*GATTACACATTAG*\" to a **variable**: `sequence`. You can now keep on using `sequence` throughout your program in an identical way you would use the literal string \"*GATTACACATTAG*\". Note that `sequence` is not quoted because it is now part of the program, try this for example:"
   ]
  },
  {
   "cell_type": "code",
   "execution_count": null,
   "metadata": {},
   "outputs": [],
   "source": [
    "# Repeat the above, but this time put the variable in quotation marks and see what happens\n",
    "sequence = \"GATTACACATTAG\"\n",
    "\"sequence\""
   ]
  },
  {
   "cell_type": "markdown",
   "metadata": {},
   "source": [
    "You will now still assign the value \"*GATTACACATTAG*\" to the variable `sequence`, but because of the quotes, this cell evaluates to the string \"sequence\", not the value \"\" that is stored in the `sequence` variable.\n",
    "\n",
    "You can perform operation using variables in exactly the same way as you did with values in the previous section. Python simply replaces the name of the variable with is value then evaluates the expression."
   ]
  },
  {
   "cell_type": "code",
   "execution_count": null,
   "metadata": {},
   "outputs": [],
   "source": [
    "x = 5\n",
    "y = 2"
   ]
  },
  {
   "cell_type": "code",
   "execution_count": null,
   "metadata": {},
   "outputs": [],
   "source": [
    "x + 5  # Addition"
   ]
  },
  {
   "cell_type": "code",
   "execution_count": null,
   "metadata": {},
   "outputs": [],
   "source": [
    "x - 8  # Subtraction"
   ]
  },
  {
   "cell_type": "code",
   "execution_count": null,
   "metadata": {},
   "outputs": [],
   "source": [
    "y * x  # Multiplication"
   ]
  },
  {
   "cell_type": "code",
   "execution_count": null,
   "metadata": {},
   "outputs": [],
   "source": [
    "4 / y  # Division"
   ]
  },
  {
   "cell_type": "code",
   "execution_count": null,
   "metadata": {},
   "outputs": [],
   "source": [
    "5 % y  # Modulus, remainder of division"
   ]
  },
  {
   "cell_type": "code",
   "execution_count": null,
   "metadata": {},
   "outputs": [],
   "source": [
    "y ** 3 # Power"
   ]
  },
  {
   "cell_type": "markdown",
   "metadata": {},
   "source": [
    "You will sometimes want to make a change to a variable (like increasing a counter by 1)"
   ]
  },
  {
   "cell_type": "code",
   "execution_count": null,
   "metadata": {},
   "outputs": [],
   "source": [
    "count = 1\n",
    "count = count + 1"
   ]
  },
  {
   "cell_type": "code",
   "execution_count": null,
   "metadata": {},
   "outputs": [],
   "source": []
  },
  {
   "cell_type": "markdown",
   "metadata": {
    "tags": []
   },
   "source": [
    "## 4. Input and Output\n",
    "You can think of your program as it's own little world, happily calculating away. As a programmer you spend most of your time thinking about the details of this word but programming would not be very useful if there were no way of interacting with things outside of this world: displaying things on the screen, getting data from a file, reacting to user input from the keyboard or mouse, responding to network requests, etc.\n",
    "\n",
    "The most direct way of interacting with the outside world is to print to the screen or get input from a keyboard. In Python you can do this with the pair of commands: `print()` and `input()`.\n",
    "\n",
    "The output you have seen below code cells has been the result of evaluating the _last_ expression in that code cell. The `print()` command gives you another mechanism to display output that is not necessarily the result of evaluating a cell. All arguments you supply to the `print()` will be printed to the screen."
   ]
  },
  {
   "cell_type": "code",
   "execution_count": null,
   "metadata": {},
   "outputs": [],
   "source": [
    "a = 5\n",
    "print(a)\n",
    "6 + 5"
   ]
  },
  {
   "cell_type": "markdown",
   "metadata": {},
   "source": [
    "The value of the variable `a` was printed, and `11` was also displayed as the result of evaluating the _last_ expression in the cell.\n",
    "\n",
    "The `print()` command can accept any number of arguments of any data type. Try below and see what happens."
   ]
  },
  {
   "cell_type": "code",
   "execution_count": null,
   "metadata": {},
   "outputs": [],
   "source": [
    "print(\"hello\", 5, 3.14, True)"
   ]
  },
  {
   "cell_type": "code",
   "execution_count": null,
   "metadata": {},
   "outputs": [],
   "source": [
    "# Use input to ask for a sequence string, then print the input sequence\n",
    "sequence = input(\"Give me a sequence:\")\n",
    "sequence"
   ]
  },
  {
   "cell_type": "markdown",
   "metadata": {},
   "source": [
    "---\n",
    "\n",
    "### Exercise 2-6: The meaning of life, the universe, and everything\n",
    "\n",
    "Write a program where you ask the computer a question and the computer prints out the answer \"42\"."
   ]
  },
  {
   "cell_type": "code",
   "execution_count": null,
   "metadata": {},
   "outputs": [],
   "source": [
    "# Hint: You can use input() and print()"
   ]
  },
  {
   "cell_type": "markdown",
   "metadata": {},
   "source": [
    "You will notice that the `input()` command gives you a string, even if you type in a number. You can easily convert this string back to a number using the `int()` or `float()` functions. Try this in the next exercise."
   ]
  },
  {
   "cell_type": "markdown",
   "metadata": {},
   "source": [
    "### Exercise 2-7: The area of a circle\n",
    "Write a program that computes the area of a circle with radius given by the user. Reminder: $$A_{circle} = \\pi r^2$$"
   ]
  },
  {
   "cell_type": "code",
   "execution_count": null,
   "metadata": {},
   "outputs": [],
   "source": []
  },
  {
   "cell_type": "markdown",
   "metadata": {},
   "source": [
    "[Advanced question](Advanced%20Exercises.ipynb#2-8)\n",
    "\n",
    "---\n",
    "\n",
    "## 5. Practice\n",
    "It is time for you to explore the boundaries of what you've learned already.\n",
    "\n",
    "---\n",
    "\n",
    "### Exercise 2-8\n",
    "Can you compare strings like this? What does it mean for one string to be _less than_ another string?\n",
    "What does the following expression evaluate to and why?"
   ]
  },
  {
   "cell_type": "code",
   "execution_count": null,
   "metadata": {},
   "outputs": [],
   "source": [
    "\"three\" > \"six\""
   ]
  },
  {
   "cell_type": "markdown",
   "metadata": {},
   "source": [
    "---\n",
    "### Exercise 2-9\n",
    "Use the `int()` function to convert fractional numbers (like `3.14159`) into integers."
   ]
  },
  {
   "cell_type": "code",
   "execution_count": null,
   "metadata": {},
   "outputs": [],
   "source": []
  },
  {
   "cell_type": "markdown",
   "metadata": {},
   "source": [
    "[Advanced question](Advanced%20Exercises.ipynb#2-10)\n",
    "\n",
    "---\n",
    "### Exercise 2-10\n",
    "Give the variable `n` a value and display `True` if `n` is even, otherwise display `False`"
   ]
  },
  {
   "cell_type": "code",
   "execution_count": null,
   "metadata": {},
   "outputs": [],
   "source": [
    "n = 5\n",
    "\n",
    "# Expression resulting in True for even values of n and False for odd values"
   ]
  },
  {
   "cell_type": "markdown",
   "metadata": {},
   "source": [
    "---\n",
    "\n",
    "## 6. Commenting\n",
    "\n",
    "In their seminal book \"Structure and Interpretation of Computer Programs\", Abelson and Sussman claim that,\n",
    "\n",
    "> _Programs must be written for people to read, and only incidentally for machines to execute._\n",
    "\n",
    "It is often the case that programs need extra exposition to explain their workings or context. It would be nice to write this exposition inline with the program text, and fortunately, we have a mechanism to do just this. This text is called a **_comment_**. Any text that follows a `#` character is ignored by the computer: it's there to explain things to future programmers (probably yourself).\n",
    "\n",
    "```python\n",
    "# This is a comment\n",
    "```\n",
    "\n",
    "---\n",
    "\n",
    "## 7. A world at your fingertips\n",
    "\n",
    "The functions you have used so far are so-called \"built in\" to the language.\n",
    "Python also comes with an extensive set of functions in a [\"standard library\"](https://docs.python.org/3/library/index.html) that you can \"import\" and use\n",
    "after you have imported them. Indeed Python claims to be \"Batteries included\" meaning that almost everything you might require comes with a Python installation, 3$^{rd}$ party libraries are often not required. A \"library\" is just a collection of Python definitions that you can re-use in different situations. You will see some of these during the course."
   ]
  },
  {
   "cell_type": "code",
   "execution_count": null,
   "metadata": {},
   "outputs": [],
   "source": [
    "import math\n",
    "\n",
    "math.sqrt(9)"
   ]
  },
  {
   "cell_type": "code",
   "execution_count": null,
   "metadata": {},
   "outputs": [],
   "source": [
    "import datetime\n",
    "\n",
    "datetime.datetime.now()"
   ]
  },
  {
   "cell_type": "markdown",
   "metadata": {},
   "source": [
    "---\n",
    "\n",
    "## 8. Chapter Review\n",
    "\n",
    "In this chapter you've learned about the \"building blocks\" of programming<sup>2</sup>. Various data types and operations on these data types, variables, and input/output.\n",
    "\n",
    "### Review Questions\n",
    "\n",
    "1. Why is text called \"string\" in programming?\n",
    "<details>\n",
    "    <summary>Answer</summary>\n",
    "    The computer represents text as a series of characters strung together. Each letter, space, and punctuation mark in the string is a character.\n",
    "</details>\n",
    "\n",
    "1. What datatype is this: `\"Hello world\"`?\n",
    "<details>\n",
    "    <summary>Answer</summary>\n",
    "    A string or <code>str</code>\n",
    "</details>\n",
    "\n",
    "1. What operator can you use to combine 2 strings into a single string?\n",
    "<details>\n",
    "    <summary>Answer</summary>\n",
    "    The <code>+</code> operator\n",
    "</details>\n",
    "\n",
    "1. How many boolean values are there? What do they represent?\n",
    "<details>\n",
    "    <summary>Answer</summary>\n",
    "    There are 2 boolean values (<code>True</code> and <code>False</code>). They represent true/false, yes/no, on/off.\n",
    "</details>\n",
    "\n",
    "1. Can a variable be treated as if it is the value it contains?\n",
    "<details>\n",
    "    <summary>Answer</summary>\n",
    "    Yes. The only difference is that a variable is a value with a name.\n",
    "</details>\n",
    "\n",
    "1. What is a comment?\n",
    "<details>\n",
    "    <summary>Answer</summary>\n",
    "    A comment is text in your program file that the computer ignores. It is intended as explanation for humans to understand.\n",
    "</details>\n",
    "\n",
    "## 9. References\n",
    "1. Felleisen, M., Findler, R., Flatt, M., Krishnamurthi, S. (2018) _[How to Design Programs](https://htdp.org/) (2 ed.)_. The MIT Press.\n",
    "1. Landin, P.J. (1966) _[The next 700 programming languages](https://www.cs.cmu.edu/~crary/819-f09/Landin66.pdf)_. Communications of the ACM, 9(3):157-166.\n",
    "\n",
    "## 10. Supporting material\n",
    "* [Automate the Boring Stuff with Python, Chapter 1](http://automatetheboringstuff.com/2e/chapter1/)\n",
    "* [Automate the Boring Stuff with Python video course, Lesson 2](https://youtu.be/7qHMXu99d88)\n",
    "\n",
    "## 11. Next session\n",
    "This may feel slow and unrelated to where you want to be. Unfortunately we cannot rush to the interesting bits, laying these foundations will make the interesting bits far less mystifying.\n",
    "\n",
    "Go to the [next chapter](03_Functions.ipynb). "
   ]
  },
  {
   "cell_type": "code",
   "execution_count": null,
   "metadata": {},
   "outputs": [],
   "source": []
  }
 ],
 "metadata": {
  "kernelspec": {
   "display_name": "Python 3 (ipykernel)",
   "language": "python",
   "name": "python3"
  },
  "language_info": {
   "codemirror_mode": {
    "name": "ipython",
    "version": 3
   },
   "file_extension": ".py",
   "mimetype": "text/x-python",
   "name": "python",
   "nbconvert_exporter": "python",
   "pygments_lexer": "ipython3",
   "version": "3.10.5"
  }
 },
 "nbformat": 4,
 "nbformat_minor": 4
}
