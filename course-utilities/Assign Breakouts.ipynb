{
 "cells": [
  {
   "cell_type": "markdown",
   "metadata": {},
   "source": [
    "# Assistance in randomly assigning breakout rooms\n",
    "\n",
    "Input: participant list. Choose the correct function for the file type (csv, PDF, etc)\n",
    "Output: List of groups"
   ]
  },
  {
   "cell_type": "code",
   "execution_count": 1,
   "metadata": {},
   "outputs": [],
   "source": [
    "import pandas as pd\n",
    "import random\n",
    "from typing import List, Tuple\n",
    "from pathlib import Path\n",
    "\n",
    "from tabula import read_pdf"
   ]
  },
  {
   "cell_type": "code",
   "execution_count": 2,
   "metadata": {},
   "outputs": [],
   "source": [
    "filename = \"~/Downloads/Participant list_ Gentle hands-on introduction to Python programming_ July 2020.pdf\""
   ]
  },
  {
   "cell_type": "code",
   "execution_count": 3,
   "metadata": {},
   "outputs": [],
   "source": [
    "def format_group(group: Tuple[str]) -> str:\n",
    "    return \", \".join(group)"
   ]
  },
  {
   "cell_type": "code",
   "execution_count": 4,
   "metadata": {},
   "outputs": [],
   "source": [
    "def extract_names(participants: pd.DataFrame) -> List[str]:\n",
    "    columns = list(participants.columns.values)\n",
    "    nameCols = list(filter(lambda n: \"name\" in n.casefold(), columns))\n",
    "    students = zip(*(participants[n] for n in nameCols))\n",
    "    return [\" \".join(name) for name in students]"
   ]
  },
  {
   "cell_type": "code",
   "execution_count": 5,
   "metadata": {},
   "outputs": [],
   "source": [
    "def group_students(participants: pd.DataFrame, group_size=2) -> List[Tuple[str]]:\n",
    "    students = extract_names(participants)\n",
    "    n = len(students)\n",
    "\n",
    "    if (n % group_size) != 0:\n",
    "        raise ValueError(f\"Group size {group_size} does not fit evenly into {n} participants.\")\n",
    "    \n",
    "    random.shuffle(students)\n",
    "    return list(zip(*(students[b * (n // group_size): (b + 1) * (n // group_size)] for b in range(group_size))))"
   ]
  },
  {
   "cell_type": "code",
   "execution_count": 6,
   "metadata": {},
   "outputs": [],
   "source": [
    "def group_students_from_pdf(pdf_file: Path, group_size=2) -> List[Tuple[str]]:\n",
    "    df = read_pdf(filename, pages=\"all\")\n",
    "    return group_students(df[0], group_size)"
   ]
  },
  {
   "cell_type": "code",
   "execution_count": 7,
   "metadata": {},
   "outputs": [],
   "source": [
    "def group_students_from_csv(csv_file: Path, group_size=2):\n",
    "    df = pd.read_csv(csv_file)\n",
    "    return group_students(df, group_size)"
   ]
  },
  {
   "cell_type": "code",
   "execution_count": 9,
   "metadata": {
    "scrolled": true
   },
   "outputs": [
    {
     "name": "stdout",
     "output_type": "stream",
     "text": [
      "Group 1: Nikita Sajeev, Mohamad Al Hassan, Linge Li\n",
      "Group 2: Margarita Simkovicova, Xu Liu, Merijn Kerstens\n",
      "Group 3: Bing Bai, Stuart Jansma, Sebastian Tonn\n",
      "Group 4: Changsheng Li, Amalia Diaz Granados, Kai Ding\n",
      "Group 5: Francesco Pancaldi, Manuel Aguirre Bolaños, Xiaobing Jiang\n",
      "Group 6: Lea Vexler, Agata Gulisano, Milan Plasmeijer\n",
      "Group 7: Zihan Liu, Muhammad Iqbal Maulana, Gilles Vismans\n",
      "Group 8: Deedi Sogbohossou, Vera Veltkamp, Bora Kim\n",
      "Group 9: Mehran Rahimi, Asma Nacer, Iris Zahn\n"
     ]
    }
   ],
   "source": [
    "groups = group_students_from_pdf(Path(filename), 3)\n",
    "print(\"\\n\".join((f\"Group {num + 1}: {format_group(group)}\" for num, group in enumerate(groups))))"
   ]
  },
  {
   "cell_type": "code",
   "execution_count": null,
   "metadata": {},
   "outputs": [],
   "source": []
  }
 ],
 "metadata": {
  "kernelspec": {
   "display_name": "Python 3",
   "language": "python",
   "name": "python3"
  },
  "language_info": {
   "codemirror_mode": {
    "name": "ipython",
    "version": 3
   },
   "file_extension": ".py",
   "mimetype": "text/x-python",
   "name": "python",
   "nbconvert_exporter": "python",
   "pygments_lexer": "ipython3",
   "version": "3.8.3"
  }
 },
 "nbformat": 4,
 "nbformat_minor": 4
}
