{
 "cells": [
  {
   "cell_type": "markdown",
   "metadata": {},
   "source": [
    "# 3. Functions\n",
    "\n",
    "> _\"Programs must be written for people to read, and only incidentally for machines to execute.\"_<sup>1</sup>\n",
    "\n",
    "## 3.1 Introduction\n",
    "\n",
    "In the previous chapter we explored some of the \"arithmetic\" or programming (the fundamental parts), this chapter introduces the \"algebra\" of programming or how to combine the different fundamental parts into a useful whole.\n",
    "\n",
    "> So far we've been writing 'sequential' code, basically following the flow of the code from the top to the bottom of the program. Sometimes, however, you want to re-use code elsewhere without copy/pasting. You can do this with functions; a function holds a block of code that can be called from other places. Functions are essential for larger projects and code maintenance - if there's a problem with that piece of code, for example, you only have to fix it in one place.\n",
    "\n",
    "## 3.2 Functions\n",
    "\n",
    "Programs are functions. They consume inputs and produce outputs.\n",
    "\n",
    "![Function](https://upload.wikimedia.org/wikipedia/commons/thumb/3/3b/Function_machine2.svg/191px-Function_machine2.svg.png)\n",
    "\n",
    "The inputs to a function can be a variety of things (some of which we've seen in the previous chapter), another function, a mouse press, a video stream, signals from a sensor, a file containing sequence data, ...\n",
    "A function _transforms_ its input to produce its output which can be combined with other functions to build up a whole program.\n",
    "\n",
    "We've already been using built-in Python functions, for example **print()** or **len()**. As you've already seen, in Python you _apply_ (or _use_, _call_) a function by typing its name followed by an open parenthesis '(', followed by the argument list, and finally a closing parenthesis ')'. In this section we will build our own functions. When you're writing your own function, this is preceded by the `def` keyword like so:\n",
    ":\n",
    "```python\n",
    "def name_of_my_function(some, function, arguments):\n",
    "    \"\"\"Some information about the function\"\"\"\n",
    " \n",
    "    result = some + function * arguments \n",
    "    \n",
    "    return result \n",
    "```\n",
    "The final part of a function is `return` which specifies what the function evaluates to. This function has `3` arguments called `some`, `function`, and `arguments`. The string immediately after\n",
    "the definition is called the _docstring_ and is what the `help()` function prints.\n",
    "\n",
    "Let's write our own function to compute the square of a number. This function takes a single numeric argument and returns that number squared."
   ]
  },
  {
   "cell_type": "code",
   "execution_count": null,
   "metadata": {},
   "outputs": [],
   "source": [
    "def mySquare(number):\n",
    "    \"Compute the square of the input.\"\n",
    "    return number ** 2"
   ]
  },
  {
   "cell_type": "markdown",
   "metadata": {},
   "source": [
    "Notice that, when you run this cell, nothing seems to happen. That's because this cell only _defines_ the function. It has not yet been run. Think of this as\n",
    "telling Python about your function. In order to call the function, we use the following expression:"
   ]
  },
  {
   "cell_type": "code",
   "execution_count": null,
   "metadata": {},
   "outputs": [],
   "source": [
    "mySquare()"
   ]
  },
  {
   "cell_type": "markdown",
   "metadata": {},
   "source": [
    "😱 `TypeError: mySquare() missing 1 required positional argument: 'number'`\n",
    "\n",
    "What does that mean? It means `mySquare()` expects `1` argument, but we gave it `0` arguments. Let's fix that:"
   ]
  },
  {
   "cell_type": "code",
   "execution_count": null,
   "metadata": {},
   "outputs": [],
   "source": [
    "mySquare(-5)"
   ]
  },
  {
   "cell_type": "markdown",
   "metadata": {},
   "source": [
    "Information about the function can be retrieved by using the `help()` function. "
   ]
  },
  {
   "cell_type": "code",
   "execution_count": null,
   "metadata": {},
   "outputs": [],
   "source": [
    "help(mySquare)"
   ]
  },
  {
   "cell_type": "markdown",
   "metadata": {},
   "source": [
    "The beauty of algebra is that it allows you to _compose_ smaller parts into larger parts. To give you an example of this beauty we will define the function to compute the trajectory of a ball by composing our `mySquare()` function from earlier an a `multiply()` function I will define here. The equation is: $$f(x) = -g x^2 + 10x$$"
   ]
  },
  {
   "cell_type": "code",
   "execution_count": null,
   "metadata": {},
   "outputs": [],
   "source": [
    "def multiply(n, m):\n",
    "    \"Multiply the inputs.\"\n",
    "    return n * m\n",
    "\n",
    "def ball_trajectory(g, x):\n",
    "    \"Compute the height of a ball given a distance (x) from the thrower.\"\n",
    "    return -multiply(g, mySquare(x)) + 10 * x"
   ]
  },
  {
   "cell_type": "code",
   "execution_count": null,
   "metadata": {},
   "outputs": [],
   "source": [
    "ball_trajectory(2, 2.5)"
   ]
  },
  {
   "cell_type": "markdown",
   "metadata": {},
   "source": [
    "Functions can also make code more 'readable', as you can give them a name that is easy to understand so that it's clear what is happening without having to examine the code. "
   ]
  },
  {
   "cell_type": "markdown",
   "metadata": {},
   "source": [
    "---\n",
    "\n",
    "## 3.2.1 Exercise\n",
    "Write a function that accepts 2 numbers called `x` and `y` as arguments and computes the euclidean distance $$d((x, y)) = \\sqrt{x^2 + y^2}$$\n",
    "\n",
    "---"
   ]
  },
  {
   "cell_type": "code",
   "execution_count": null,
   "metadata": {},
   "outputs": [],
   "source": [
    "from math import sqrt\n",
    "\n",
    "# Write your function here\n",
    "# def ..."
   ]
  },
  {
   "cell_type": "markdown",
   "metadata": {},
   "source": [
    "---\n",
    "\n",
    "## Exercise 3.3.2\n",
    "A logical formula (or sentence) is [satisfiable](https://en.wikipedia.org/wiki/Satisfiability) if it is possible to find values that will make the formula true. For example\n",
    "\n",
    "$$\\neg (a \\lor b) \\land c$$\n",
    "\n",
    "This formula is satisfiable where $a = False$, $b = False$, and $c = True$.\n",
    "\n",
    "An example of a non-satisfiable formula is\n",
    "\n",
    "$$a \\land \\neg a$$\n",
    "\n",
    "In this exercise, write a function that encodes these logical statements: \"Nikki saw a black cat. Nikki broke her leg. The black car broke her leg because Nikki saw a black cat and broke her leg or Nikki broke her leg for some other reason.\""
   ]
  },
  {
   "cell_type": "code",
   "execution_count": null,
   "metadata": {},
   "outputs": [],
   "source": []
  },
  {
   "cell_type": "markdown",
   "metadata": {},
   "source": [
    "---\n",
    "\n",
    "## Exercise 3.2.3\n",
    "Since programs are just functions composed of functions and values, it is time for you to write a non-trivial program.\n",
    "\n",
    "Write a program that accept user `input()` for their coordinates relative to a thrower (e.g. 5 metres east, and 7.5 metres south) and compute the height of a ball thrown in their direction. Hint: use the `ball_trajectory()` and distance functions we've defined above.\n",
    "\n",
    "---"
   ]
  },
  {
   "cell_type": "code",
   "execution_count": null,
   "metadata": {},
   "outputs": [],
   "source": []
  },
  {
   "cell_type": "markdown",
   "metadata": {},
   "source": [
    "## 3.3 Chapter Review\n",
    "In this chapter you learned how to write code that simplifies the task of understanding a program by\n",
    "_abstracting away_ details. Functions are a fundamentally important part of writing any non-trivial\n",
    "program. You have now covered _all_ of the very fundamentals of programming. You've understood the \"arithmetic\", the building blocks. And now you've understood the \"algebra\", the combining of things together using function definitions and function composition.\n",
    "\n",
    "If you are new to programming then it is very likely this will seem overwhelming. Learning to program requires mastery of many new concepts. It is ok if you feel overwhelmed, the remaining chapters are here to help you practise. In some sense they are just more details of what we have already covered in the last 2 chapters.\n",
    "\n",
    "### Review Questions\n",
    "\n",
    "1. What is a function?\n",
    "<details>\n",
    "    <summary>&#9654; Answer</summary>\n",
    "    A <em>function</em> is a block of re-usable code with a name, that can be called using that name.\n",
    "</details>\n",
    "\n",
    "2. What is the result of evaluating a function called?\n",
    "<details>\n",
    "    <summary>&#9654; Answer</summary>\n",
    "    The <em>return value</em>. Or the value <em>returned by the function</em>.\n",
    "</details>\n",
    "\n",
    "3. What are docstrings? How to you access them?\n",
    "<details>\n",
    "    <summary>&#9654; Answer</summary>\n",
    "    Docstrings are documentation that can be accessed using the <code>help()</code> function.\n",
    "</details>"
   ]
  },
  {
   "cell_type": "markdown",
   "metadata": {},
   "source": [
    "## 3.4 References\n",
    "\n",
    "1. Abelson, H., Sussman, G.J., Sussman, J. (1996) _[Structure and Interpretation of Computer Programs](https://mitpress.mit.edu/sites/default/files/sicp/full-text/book/book.html) (2 ed.)_. The MIT Press.\n",
    "\n",
    "## 3.5 Next session\n",
    "\n",
    "Go to our [next chapter](04_Conditions.ipynb). "
   ]
  },
  {
   "cell_type": "code",
   "execution_count": null,
   "metadata": {},
   "outputs": [],
   "source": []
  }
 ],
 "metadata": {
  "kernelspec": {
   "display_name": "Python 3",
   "language": "python",
   "name": "python3"
  },
  "language_info": {
   "codemirror_mode": {
    "name": "ipython",
    "version": 3
   },
   "file_extension": ".py",
   "mimetype": "text/x-python",
   "name": "python",
   "nbconvert_exporter": "python",
   "pygments_lexer": "ipython3",
   "version": "3.9.2"
  }
 },
 "nbformat": 4,
 "nbformat_minor": 4
}
