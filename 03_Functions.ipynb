{
 "cells": [
  {
   "cell_type": "markdown",
   "metadata": {},
   "source": [
    "# Functions: building programs\n",
    "\n",
    "> _\"Programs must be written for people to read, and only incidentally for machines to execute.\"_<sup>1</sup>\n",
    "\n",
    "## 1 Introduction\n",
    "\n",
    "In the previous chapter we explored some of the _\"building blocks\"_ (the fundamental parts) of programming, this chapter introduces the _\"combining parts\"_ of programming. In order to build up the solution to a problem the building blocks are combined together into larger and larger forms until, finally, a useful whole is produced. This \"useful whole\" is what we call a program.\n",
    "\n",
    "## 2 Functions\n",
    "The \"combining parts\" of programs are called \"functions\". These are equivalent to mathematical functions but we will not use any more mathematical analogies here. Functions can be _defined_, _applied_ (or _used_, _called_), or _composed_. We will see examples of each in this chapter.\n",
    "Programs are also functions. They consume inputs (also known as arguments) and produce outputs.\n",
    "\n",
    "![Function](https://upload.wikimedia.org/wikipedia/commons/thumb/3/3b/Function_machine2.svg/191px-Function_machine2.svg.png)\n",
    "\n",
    "The inputs to a function can be a variety of things (some of which we've seen in the previous chapter), another function, a mouse press, a video stream, signals from a sensor, a file containing sequence data, ...\n",
    "A function _transforms_ its input to produce its output which can be combined with other functions to build up a whole program.\n",
    "\n",
    "We've already been using some built-in Python functions, for example **abs()** or **len()**. As you've already seen, in Python you _apply_ a function by typing its name followed by an open parenthesis '(', followed by the argument list, and finally a closing parenthesis ')'. In this section we will build (or _define_) our own functions. When you're writing your own function, start with the _keyword_ `def` like so:\n",
    ":\n",
    "```python\n",
    "def name_of_my_function(some, function, arguments):\n",
    "    \"\"\"Some information about the function\"\"\"\n",
    " \n",
    "    result = some + function * arguments \n",
    "    \n",
    "    return result \n",
    "```\n",
    "The final part of a function is `return` which specifies what the function evaluates to. This function has `3` arguments called `some`, `function`, and `arguments`. The string immediately after\n",
    "the definition is called the _docstring_ and is what the `help()` function prints.\n",
    "\n",
    "Let's write our own function to compute the square of a number. This function takes a single numeric argument and returns that number squared."
   ]
  },
  {
   "cell_type": "code",
   "execution_count": null,
   "metadata": {},
   "outputs": [],
   "source": [
    "def mySquare(number):\n",
    "    \"Compute the square of the input.\"\n",
    "    return number ** 2"
   ]
  },
  {
   "cell_type": "markdown",
   "metadata": {},
   "source": [
    "Notice that, when you run this cell, nothing seems to happen. That's because this cell only _defines_ the function. It has not yet been run. Think of this as\n",
    "telling Python about your function. In order to call the function, we use the following expression:"
   ]
  },
  {
   "cell_type": "code",
   "execution_count": null,
   "metadata": {},
   "outputs": [],
   "source": [
    "mySquare()"
   ]
  },
  {
   "cell_type": "markdown",
   "metadata": {},
   "source": [
    "😱 `TypeError: mySquare() missing 1 required positional argument: 'number'`\n",
    "\n",
    "What does that mean? It means `mySquare()` expects `1` argument, but we gave it `0` arguments. Let's fix that:"
   ]
  },
  {
   "cell_type": "code",
   "execution_count": null,
   "metadata": {},
   "outputs": [],
   "source": [
    "mySquare(-5)"
   ]
  },
  {
   "cell_type": "markdown",
   "metadata": {},
   "source": [
    "Information about the function can be retrieved by using the `help()` function. "
   ]
  },
  {
   "cell_type": "code",
   "execution_count": null,
   "metadata": {},
   "outputs": [],
   "source": [
    "help(mySquare)"
   ]
  },
  {
   "cell_type": "markdown",
   "metadata": {},
   "source": [
    "The beauty of algebra is that it allows you to _compose_ smaller parts into larger parts. To give you an example of this beauty we will define the function to compute the trajectory of a ball by composing our `mySquare()` function from earlier an a `multiply()` function I will define here. The equation is: $$f(x) = -g x^2 + 10x$$"
   ]
  },
  {
   "cell_type": "code",
   "execution_count": null,
   "metadata": {},
   "outputs": [],
   "source": [
    "def multiply(n, m):\n",
    "    \"Multiply the inputs.\"\n",
    "    return n * m\n",
    "\n",
    "def ball_trajectory(x):\n",
    "    \"Compute the height of a ball given a distance (x) from the thrower.\"\n",
    "    return -multiply(2, mySquare(x)) + multiply(10, x)"
   ]
  },
  {
   "cell_type": "code",
   "execution_count": null,
   "metadata": {},
   "outputs": [],
   "source": [
    "ball_trajectory(2.5)"
   ]
  },
  {
   "cell_type": "markdown",
   "metadata": {},
   "source": [
    "Functions can also make code more 'readable', as you can give them a name that is easy to understand so that it's clear what is happening without having to examine the code. "
   ]
  },
  {
   "cell_type": "markdown",
   "metadata": {},
   "source": [
    "---\n",
    "\n",
    "## Exercise 3-0: Example exercise\n",
    "Here I will demonstrate solving an exercise and ensuring the test cases pass"
   ]
  },
  {
   "cell_type": "code",
   "execution_count": null,
   "metadata": {},
   "outputs": [],
   "source": [
    "# Write a function definition here\n",
    "\n",
    "# These are _test cases_\n",
    "assert 3 == my_example_function(1, 2), f\"I expected 3, but got {my_example_function(1, 2)}\"\n",
    "assert 0 == my_example_function(-51, 51), f\"I expected 3, but got {my_example_function(1, 2)}\"\n",
    "assert distance.__doc__ is not None, \"You should write a docstring to help others use your function.\""
   ]
  },
  {
   "cell_type": "markdown",
   "metadata": {},
   "source": [
    "---\n",
    "\n",
    "## Exercise 3-1: Testing\n",
    "How would you test the following function. Write some tests, try to discover a bug."
   ]
  },
  {
   "cell_type": "code",
   "execution_count": null,
   "metadata": {},
   "outputs": [],
   "source": [
    "def fractional_part(number):\n",
    "    \"\"\"Find the fractional part of an input floating point number.\"\"\"\n",
    "    int_part = int(number) + 1\n",
    "    frac_part = int_part + number\n",
    "    return int_part\n",
    "\n",
    "# Write your tests here"
   ]
  },
  {
   "cell_type": "markdown",
   "metadata": {},
   "source": [
    "---\n",
    "\n",
    "### Exercise 3-2: Implementation after tests\n",
    "Write a function called `distance` that accepts 2 numbers called `x` and `y` as arguments and computes the euclidean distance of the coordinate $(x,y)$ from the origin $(0,0)$ $$d(x, y) = \\sqrt{x^2 + y^2}$$"
   ]
  },
  {
   "cell_type": "code",
   "execution_count": null,
   "metadata": {},
   "outputs": [],
   "source": [
    "from math import sqrt\n",
    "\n",
    "# Write your function here\n",
    "\n",
    "# These are _test cases_\n",
    "assert 5 == distance(3, 4), f\"The coordinate (3,4) is 5 units from the origin, not {distance(3,4)} units.\"\n",
    "assert 13 == distance(5, 12), f\"The coordinate (4,12) is 13 units from the origin, not {distance(5,12)} units.\"\n",
    "assert 17 == distance(8, 15), f\"The coordinate (8,15) is 17 units from the origin, not {distance(8,15)} units.\"\n",
    "assert distance.__doc__ is not None, \"You should write a docstring to help others use your function.\""
   ]
  },
  {
   "cell_type": "markdown",
   "metadata": {},
   "source": [
    "---\n",
    "\n",
    "### Exercise 3-3: A non-trivial program\n",
    "Since programs are just functions composed of functions and values, it is time for you to write a non-trivial program.\n",
    "\n",
    "Write a program called `ball_height` that accepts coordinates relative to a thrower (e.g. 5 metres east, and 7.5 metres south) and compute the height of a ball, thrown in their direction, when it reaches them. Hint: use the `ball_trajectory()` and distance functions we've defined above."
   ]
  },
  {
   "cell_type": "code",
   "execution_count": null,
   "metadata": {},
   "outputs": [],
   "source": [
    "# Write your function here\n",
    "\n",
    "# These are test cases\n",
    "assert abs(ball_height(0.2, 0.9) - 7.5195) < 0.0001, f\"Got:{ball_height(0.2, 0.9)}; Expected: 7.5195\"\n",
    "assert abs(ball_height(0.1, 0.75) - 6.4213) < 0.0001, f\"Got:{ball_height(0.1, 0.75)}; Expected: 6.4213\"\n",
    "assert abs(ball_height(1, 2.5) - 12.4258) < 0.0001, f\"Got:{ball_height(1, 2.5)}; Expected: 12.4258\"\n",
    "assert ball_height.__doc__ is not None, \"You should write a docstring to help others use your function.\""
   ]
  },
  {
   "cell_type": "markdown",
   "metadata": {},
   "source": [
    "### Exercise 3-4: Function composition\n",
    "\n",
    "Now that you've seen that functions and values can be composed to build programs lets write a function composing function called `compose()`"
   ]
  },
  {
   "cell_type": "code",
   "execution_count": null,
   "metadata": {},
   "outputs": [],
   "source": [
    "def compose(funA, funB):\n",
    "    \"Compose 2 functions that take a single argument into a single function\"\n",
    "    def composed(x):\n",
    "        return funA(funB(x))\n",
    "    \n",
    "    return composed\n",
    "\n",
    "assert (compose(str, len)(\"hello\")) == \"5\" , f\"I expected '5', got: {compose(str, len)('hello')}\"\n",
    "assert (compose(sum, list)({1, 3, 5})) == 9, f\"I expected 9, got: {compose(sum, list)({1, 3, 5})}\""
   ]
  },
  {
   "cell_type": "markdown",
   "metadata": {},
   "source": [
    "---\n",
    "\n",
    "### Exercise 3-5: How many heads?\n",
    "Two functions are defined below that operate on lists of value. The first, called `head()`, gets the first value in a list. The second, called `tail()` drops the first value in the list and returns the \"rest\". Use `compose()` with these 2 functions (`head()` and `tail()`) to write a function to get the second value in a list."
   ]
  },
  {
   "cell_type": "code",
   "execution_count": null,
   "metadata": {},
   "outputs": [],
   "source": [
    "def head(a_list):\n",
    "    \"Return the first value in a list\"\n",
    "    return a_list[0]\n",
    "\n",
    "def tail(a_list):\n",
    "    \"Return the input list without the first element\"\n",
    "    return a_list[1:]\n",
    "\n",
    "second_value_in_list = compose(_, _)\n",
    "\n",
    "assert second_value_in_list([0, 1, 2]) == 1, f\"Expected 1, got: {second_value_in_list([0, 1, 2])}\"\n",
    "assert second_value_in_list(['a', 'b', 'c']) == 'b', f\"Expected 'b', got: {second_value_in_list(['a', 'b', 'c'])}\""
   ]
  },
  {
   "cell_type": "markdown",
   "metadata": {},
   "source": [
    "## 4 Chapter Review\n",
    "In this chapter you learned how to write code that simplifies the task of understanding a program by\n",
    "_abstracting away_ details. Functions are a fundamentally important part of programming, indeed they're the other half of programming. Functions even correspond to mathematical proofs<sup>2</sup>! You have now covered _all_ of the very fundamentals of programming. You've understood the building blocks. And now you've understood the combining of things together using function definition, application, and composition.\n",
    "\n",
    "If you are new to programming then it is very likely this will seem overwhelming. Learning to program requires mastery of many new concepts. It is ok if you feel overwhelmed, the remaining chapters are here to help you practise. In some sense they are just more details of what we have already covered in the last 2 chapters<sup>3</sup>.\n",
    "\n",
    "### Review Questions\n",
    "\n",
    "1. What is a function?\n",
    "<details>\n",
    "    <summary>Answer</summary>\n",
    "    A <em>function</em> is a block of re-usable code with a name, that can be called using that name.\n",
    "</details>\n",
    "\n",
    "2. What is the result of evaluating a function called?\n",
    "<details>\n",
    "    <summary>Answer</summary>\n",
    "    The <em>return value</em>. Or the value <em>returned by the function</em>.\n",
    "</details>\n",
    "\n",
    "3. What are docstrings? How to you access them?\n",
    "<details>\n",
    "    <summary>Answer</summary>\n",
    "    Docstrings are documentation that can be accessed using the <code>help()</code> function.\n",
    "</details>\n",
    "\n",
    "4. What is meant by \"function application\", how is this different from \"function composition\"?\n",
    "<details>\n",
    "    <summary>Answer</summary>\n",
    "    Function application is synonymous with function \"call\" or \"use\". A function is applied to its arguments and evaluated to produce results. Function composition is the combining of several functions together to make a new \"thing\" that may be applied later.\n",
    "</details>"
   ]
  },
  {
   "cell_type": "markdown",
   "metadata": {},
   "source": [
    "## 5 References\n",
    "\n",
    "1. Abelson, H., Sussman, G.J., Sussman, J. (1996) _[Structure and Interpretation of Computer Programs](https://mitpress.mit.edu/sites/default/files/sicp/full-text/book/book.html) (2 ed.)_. The MIT Press.\n",
    "1. https://en.wikipedia.org/wiki/Curry%E2%80%93Howard_correspondence\n",
    "1. Hoare, C.A.R. (1969) _[An Axiomatic Basis for Computer Programming](https://www.cs.cmu.edu/~crary/819-f09/Hoare69.pdf)_. Communications of the ACM, 12(10):576-580 and 583.\n",
    "\n",
    "## 6 Next session\n",
    "\n",
    "Go to our [next chapter](04_Conditions.ipynb). "
   ]
  },
  {
   "cell_type": "code",
   "execution_count": null,
   "metadata": {},
   "outputs": [],
   "source": []
  }
 ],
 "metadata": {
  "kernelspec": {
   "display_name": "Python 3",
   "language": "python",
   "name": "python3"
  },
  "language_info": {
   "codemirror_mode": {
    "name": "ipython",
    "version": 3
   },
   "file_extension": ".py",
   "mimetype": "text/x-python",
   "name": "python",
   "nbconvert_exporter": "python",
   "pygments_lexer": "ipython3",
   "version": "3.9.2"
  }
 },
 "nbformat": 4,
 "nbformat_minor": 4
}
