{
 "cells": [
  {
   "cell_type": "markdown",
   "metadata": {},
   "source": [
    "# Building programs\n",
    "\n",
    "> _\"Programs must be written for people to read, and only incidentally for machines to execute.\"_<sup>1</sup>\n",
    "\n",
    "## 1. Functions\n",
    "\n",
    "In the previous chapter we explored some of the _\"building blocks\"_ (the fundamental parts) of programming, this chapter introduces the _\"combining parts\"_ of programming. In order to build up the solution to a problem the building blocks are combined together into larger and larger forms until, finally, a useful whole is produced. This \"useful whole\" is what we call a program.\n",
    "\n",
    "The \"combining parts\" of programs are called \"functions\". These are equivalent to mathematical functions but we will not use any more mathematical analogies here. Functions can be _defined_, _applied_ (or _used_, _called_), or _composed_. We will see examples of each in this chapter.\n",
    "Programs are also functions. They consume inputs (also known as arguments) and produce outputs.\n",
    "\n",
    "![Function](https://upload.wikimedia.org/wikipedia/commons/thumb/3/3b/Function_machine2.svg/191px-Function_machine2.svg.png)\n",
    "\n",
    "The inputs to a function can be a variety of things (some of which we've seen in the previous chapter), another function, a mouse press, a video stream, signals from a sensor, a file containing sequence data, ...\n",
    "A function _transforms_ its input to produce its output which can be combined with other functions to build up a whole program.\n",
    "\n",
    "We've already been using some built-in Python functions, for example **abs()** or **len()**. As you've already seen, in Python you _apply_ a function by typing its name followed by an open parenthesis '(', followed by the argument list, and finally a closing parenthesis ')'. In this section we will build (or _define_) our own functions. When you're writing your own function, start with the _keyword_ `def` like so:\n",
    ":\n",
    "```python\n",
    "def name_of_my_function(some, function, arguments):\n",
    "    \"\"\"Some information about the function\"\"\"\n",
    " \n",
    "    # Some operations\n",
    "    \n",
    "    return result\n",
    "```\n",
    "The final part of a function is `return` which specifies what the function evaluates to. This function has `3` arguments called `some`, `function`, and `arguments`. The string immediately after\n",
    "the definition is called the _docstring_ and is what the `help()` function prints.\n",
    "\n",
    "Let's write our own function to compute the square of a number. This function takes a single numeric argument and returns that number squared."
   ]
  },
  {
   "cell_type": "code",
   "execution_count": null,
   "metadata": {},
   "outputs": [],
   "source": [
    "def mySquare(number):\n",
    "    \"Compute the square of the input.\"\n",
    "    return number ** 2"
   ]
  },
  {
   "cell_type": "markdown",
   "metadata": {},
   "source": [
    "Notice that, when you run this cell, nothing seems to happen. That's because this cell only _defines_ the function. It has not yet been run. Think of this as\n",
    "telling Python about your function. In order to call the function, we use the following expression:"
   ]
  },
  {
   "cell_type": "code",
   "execution_count": null,
   "metadata": {},
   "outputs": [],
   "source": [
    "mySquare()"
   ]
  },
  {
   "cell_type": "markdown",
   "metadata": {},
   "source": [
    "😱 `TypeError: mySquare() missing 1 required positional argument: 'number'`\n",
    "\n",
    "What does that mean? It means `mySquare()` expects `1` argument, but we gave it `0` arguments. Let's fix that:"
   ]
  },
  {
   "cell_type": "code",
   "execution_count": null,
   "metadata": {},
   "outputs": [],
   "source": [
    "mySquare(-5)"
   ]
  },
  {
   "cell_type": "markdown",
   "metadata": {},
   "source": [
    "Information about the function can be retrieved by using the `help()` function. "
   ]
  },
  {
   "cell_type": "code",
   "execution_count": null,
   "metadata": {},
   "outputs": [],
   "source": [
    "help(mySquare)"
   ]
  },
  {
   "cell_type": "markdown",
   "metadata": {},
   "source": [
    "---\n",
    "## 2. Indentation\n",
    "Python relies on indentation (whitespace at the beginning of a line) to group code into _blocks_. Though this is not a unique characteristic of Python, other programming languages you may've used often use curly brackets or _braces_ (`{}`) for this purpose. \n",
    "\n",
    "There are 2 things to keep in mind about indentation:\n",
    "1. The _indentation level_ (which \"sub-block\") you are in. You have to be careful how you indent the code so that your code is correctly grouped into blocks.\n",
    "2. Consistently indenting code _within_ a block. \n",
    "\n",
    "See what happens if indentation is inconsistent:"
   ]
  },
  {
   "cell_type": "code",
   "execution_count": null,
   "metadata": {},
   "outputs": [],
   "source": [
    "# This is the \"top-level\"\n",
    "\n",
    "def start_of_a_block():\n",
    "    # This is the beginning of an indented block of code. Note the space at the beginning of the line\n",
    "   a_variable = 0\n",
    "    another = 6"
   ]
  },
  {
   "cell_type": "markdown",
   "metadata": {},
   "source": [
    "---\n",
    "\n",
    "The beauty of algebra is that it allows you to _compose_ smaller parts into larger parts. To give you an example of this beauty we will define the function to compute the trajectory of a ball by composing our `mySquare()` function from earlier an a `multiply()` function I will define here. The equation is: $$f(x) = -g x^2 + 10x$$"
   ]
  },
  {
   "cell_type": "code",
   "execution_count": null,
   "metadata": {},
   "outputs": [],
   "source": [
    "def multiply(n, m):\n",
    "    \"Multiply the inputs.\"\n",
    "    return n * m\n",
    "\n",
    "def ball_trajectory(x):\n",
    "    \"Compute the height of a ball given a distance (x) from the thrower.\"\n",
    "    return -multiply(2, mySquare(x)) + multiply(10, x)"
   ]
  },
  {
   "cell_type": "code",
   "execution_count": null,
   "metadata": {},
   "outputs": [],
   "source": [
    "ball_trajectory(2.5)"
   ]
  },
  {
   "cell_type": "markdown",
   "metadata": {},
   "source": [
    "Functions can also make code more 'readable', as you can give them a name that is easy to understand so that it's clear what is happening without having to examine the code.\n",
    "\n",
    "---\n",
    "\n",
    "## 3. Testing\n",
    "You are probably very confident that the code you've written so far is \"correct\". But as you write more complicated programs you will probably begin to feel less confident. Testing, among other virtues, allows you to keep this early confidence in the correctness of your programs. One (rather naiive) way of testing is the _assert_ an expectation about the output of a function. This can be achieved using Python keyword **`assert`**. For example, I could test the `multiply` function from above like so:"
   ]
  },
  {
   "cell_type": "code",
   "execution_count": null,
   "metadata": {},
   "outputs": [],
   "source": [
    "assert 0 == multiply(0, 0)\n",
    "assert 1 == multiply(1, 1)\n",
    "assert 10 == multiply(2, 5)"
   ]
  },
  {
   "cell_type": "markdown",
   "metadata": {},
   "source": [
    "Successfully passing these tests will result in no output at all. Failing will result in **`AssertionError`** with no description of what went wrong. Generally, you will use a special purpose testing library for testing. However, for the purposes of this course, we will use either **`assert`** or some custom functions we have provided. These custom functions will tell you what went wrong and if the test passed:"
   ]
  },
  {
   "cell_type": "code",
   "execution_count": null,
   "metadata": {},
   "outputs": [],
   "source": [
    "from ghoitp import expect_equal, expect_close, expect_not_none\n",
    "\n",
    "expect_equal(0, multiply(0, 0))\n",
    "expect_equal(1, multiply(1, 1))\n",
    "expect_equal(1, multiply(2, 5))"
   ]
  },
  {
   "cell_type": "markdown",
   "metadata": {},
   "source": [
    "You're welcome to look at the implementation of the `expect_equal` function at any point, though the implementation will make more sense at the end of the day today.\n",
    "\n",
    "![Testing](images/testing.png)\n",
    "\n",
    "Your tests become more useful when they check both expected values and unexpected (edge-case) values. If your function expects numbers, does it cope well with very large numbers? What about very small numbers? What about negative numbers? What about zero?"
   ]
  },
  {
   "cell_type": "markdown",
   "metadata": {},
   "source": [
    "---\n",
    "\n",
    "### Exercise 3-0: Example exercise\n",
    "Here I will demonstrate solving an exercise and ensuring the test cases pass"
   ]
  },
  {
   "cell_type": "code",
   "execution_count": null,
   "metadata": {},
   "outputs": [],
   "source": [
    "# Write a function definition here\n",
    "\n",
    "# These are _test cases_\n",
    "expect_equal(3, my_example_function(1, 2))\n",
    "expect_equal(0, my_example_function(-51, 51))\n",
    "expect_not_none(my_example_function.__doc__) # You should write a docstring for your function"
   ]
  },
  {
   "cell_type": "markdown",
   "metadata": {},
   "source": [
    "---\n",
    "\n",
    "### Exercise 3-1: Testing\n",
    "How would you test the following function. Write some tests, try to discover a bug."
   ]
  },
  {
   "cell_type": "code",
   "execution_count": null,
   "metadata": {},
   "outputs": [],
   "source": [
    "def fractional_part(number):\n",
    "    \"\"\"Find the fractional part of an input floating point number.\"\"\"\n",
    "    int_part = int(number) + 1\n",
    "    frac_part = int_part + number\n",
    "    return int_part\n",
    "\n",
    "# Write your tests here"
   ]
  },
  {
   "cell_type": "markdown",
   "metadata": {},
   "source": [
    "---\n",
    "\n",
    "### Exercise 3-2: Implementation after tests\n",
    "Write a function called `distance` that accepts 2 numbers called `x` and `y` as arguments and computes the euclidean distance of the coordinate $(x,y)$ from the origin $(0,0)$ $$d(x, y) = \\sqrt{x^2 + y^2}$$"
   ]
  },
  {
   "cell_type": "code",
   "execution_count": null,
   "metadata": {},
   "outputs": [],
   "source": [
    "from math import sqrt\n",
    "\n",
    "# Write your function here\n",
    "\n",
    "# These are _test cases_\n",
    "expect_close(5, distance(3, 4))\n",
    "expect_close(13, distance(5, 12))\n",
    "expect_close(17, distance(8, 15))\n",
    "expect_not_none(distance.__doc__) # Remember to write a docstring"
   ]
  },
  {
   "cell_type": "markdown",
   "metadata": {},
   "source": [
    "---\n",
    "### Exercise 3-3: Generalised $\\ell^{2}$-norm\n",
    "Write a function called `l2norm` that computes the euclidean distance between any 2 arbitrary points in 3D space.\n",
    "\n",
    "$$\\ell^{2}(\\vec{a}, \\vec{b}) = \\sqrt{\\sum_{k=1}^3(a_k - b_k)^2}$$"
   ]
  },
  {
   "cell_type": "code",
   "execution_count": null,
   "metadata": {},
   "outputs": [],
   "source": [
    "# Write your function here\n",
    "\n",
    "# These are test cases\n",
    "expect_close(9.11756546, l2norm(7.5, -3.6, 0.0, 0.2, 1.4, 2.2))\n",
    "expect_close(26.3818119, l2norm(-8, -13, 1, 2, 1, 21))\n",
    "expect_close(4.030372315, l2norm(0.001, 0.01, 0.1, 1.1, 2.2, 3.3))\n",
    "expect_not_none(l2norm.__doc__)"
   ]
  },
  {
   "cell_type": "markdown",
   "metadata": {},
   "source": [
    "---\n",
    "\n",
    "## 4. Function composition\n",
    "\n",
    "So far you have _defined_ and _applied_ functions. In order to build more complex and useful programs, you must also be able to combine functions together, _compose_ functions. \n",
    "\n",
    "![Function composition](images/function_composition.svg)\n",
    "\n",
    "In fact you have actually already done this too: in **Exercise 3-3** above, you combined your `l2norm` function with the `expect_close` testing function. The **result** of the `l2norm` function was passed directly to `expect_close` as an argument.\n",
    "\n",
    "---\n",
    "\n",
    "### Exercise 3-4: A function composing function\n",
    "Can you write a function that takes 2 functions as arguments and returns the composition of the 2 functions?"
   ]
  },
  {
   "cell_type": "code",
   "execution_count": null,
   "metadata": {},
   "outputs": [],
   "source": [
    "def compose(funA, funB):\n",
    "    \"Compose 2 functions that take a single argument into a single function\"\n",
    "    def composed(x):\n",
    "        return _\n",
    "    \n",
    "    return composed\n",
    "\n",
    "length_as_string = compose(str, len)\n",
    "expect_equal(\"5\", length_as_string(\"hello\"))"
   ]
  },
  {
   "cell_type": "markdown",
   "metadata": {},
   "source": [
    "---\n",
    "\n",
    "## 5. Scope\n",
    "\n",
    "When you define a variable you can think of this as writing it down in a notebook. You can put new, blank pages into the end of the notebook and you can tear the last page out. This roughly corresponds to indentation levels in Python:\n",
    "\n",
    "\n",
    "```python\n",
    "# Global scope\n",
    "global_var = 0\n",
    "\n",
    "def fun():\n",
    "    # Local scope\n",
    "    local_var = 1\n",
    "    print(global_var)\n",
    "\n",
    "fun()\n",
    "print(global_var)\n",
    "print(local_var)\n",
    "```\n",
    "\n",
    "When the flow of execution enters an indented block you place a new page in your notebook and start writing down variables there. When the flow of execution leaves an indented block you tare that page out. This analogy breaks down a little because you can access variables in an \"outer scope\" (previous pages) from a \"local scope\".\n",
    "\n",
    "In the example above, `global_var` is defined in the global scope. Then the `fun()` function is called which defines a `local_var` and prints `global_var`. This occurs in a \"local scope\" so, when the function is finished, the page with `local_var` will be torn out. When we pring `global_var` in the global scope we get `0` as expected, but trying to print `local_var` from the global scope will result in Python complaining that `local_var` is not defined."
   ]
  },
  {
   "cell_type": "markdown",
   "metadata": {},
   "source": [
    "---\n",
    "\n",
    "## 6. Chapter Review\n",
    "In this chapter you learned how to write code that simplifies the task of understanding a program by\n",
    "_abstracting away_ details. Functions are a fundamentally important part of programming, indeed they're the other half of programming. Functions even correspond to mathematical proofs<sup>2</sup>! You have now covered _all_ of the very fundamentals of programming. You've understood the building blocks. And now you've understood the combining of things together using function definition, application, and composition.\n",
    "\n",
    "If you are new to programming then it is very likely this will seem overwhelming. Learning to program requires mastery of many new concepts. It is ok if you feel overwhelmed, the remaining chapters are here to help you practise. In some sense they are just more details of what we have already covered in the last 2 chapters<sup>3</sup>.\n",
    "\n",
    "### Review Questions\n",
    "\n",
    "1. What is a function?\n",
    "<details>\n",
    "    <summary>Answer</summary>\n",
    "    A <em>function</em> is a block of re-usable code with a name, that can be called using that name.\n",
    "</details>\n",
    "\n",
    "2. What is the result of evaluating a function called?\n",
    "<details>\n",
    "    <summary>Answer</summary>\n",
    "    The <em>return value</em>. Or the value <em>returned by the function</em>.\n",
    "</details>\n",
    "\n",
    "3. What are docstrings? How to you access them?\n",
    "<details>\n",
    "    <summary>Answer</summary>\n",
    "    Docstrings are documentation that can be accessed using the <code>help()</code> function.\n",
    "</details>\n",
    "\n",
    "4. What is meant by \"function application\", how is this different from \"function composition\"?\n",
    "<details>\n",
    "    <summary>Answer</summary>\n",
    "    Function application is synonymous with function \"call\" or \"use\". A function is applied to its arguments and evaluated to produce results. Function composition is the combining of several functions together to make a new \"thing\" that may be applied later.\n",
    "</details>"
   ]
  },
  {
   "cell_type": "markdown",
   "metadata": {},
   "source": [
    "## 3. References\n",
    "\n",
    "1. Abelson, H., Sussman, G.J., Sussman, J. (1996) _[Structure and Interpretation of Computer Programs](https://mitpress.mit.edu/sites/default/files/sicp/full-text/book/book.html) (2 ed.)_. The MIT Press.\n",
    "1. [The Curry-Howard correspondence](https://en.wikipedia.org/wiki/Curry%E2%80%93Howard_correspondence)\n",
    "1. Hoare, C.A.R. (1969) _[An Axiomatic Basis for Computer Programming](https://www.cs.cmu.edu/~crary/819-f09/Hoare69.pdf)_. Communications of the ACM, 12(10):576-580 and 583.\n",
    "\n",
    "## 4. Supporting material\n",
    "* [A Data Centric Introduction to Computing, Chapter 5](https://dcic-world.org/2021-08-21/From_Repeated_Expressions_to_Functions.html)\n",
    "* [Automate the Boring Stuff with Python, Chapter 3](http://automatetheboringstuff.com/2e/chapter3/)\n",
    "* [Automate the Boring Stuff with Python video course, Lesson 9](https://youtu.be/WB4hJJkfhLU)\n",
    "\n",
    "## 5. Next session\n",
    "\n",
    "Go to our [next chapter](04_Conditions.ipynb). "
   ]
  },
  {
   "cell_type": "code",
   "execution_count": null,
   "metadata": {},
   "outputs": [],
   "source": []
  }
 ],
 "metadata": {
  "kernelspec": {
   "display_name": "Python 3",
   "language": "python",
   "name": "python3"
  },
  "language_info": {
   "codemirror_mode": {
    "name": "ipython",
    "version": 3
   },
   "file_extension": ".py",
   "mimetype": "text/x-python",
   "name": "python",
   "nbconvert_exporter": "python",
   "pygments_lexer": "ipython3",
   "version": "3.9.2"
  }
 },
 "nbformat": 4,
 "nbformat_minor": 4
}
