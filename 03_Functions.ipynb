{
 "cells": [
  {
   "cell_type": "markdown",
   "metadata": {},
   "source": [
    "# Building programs\n",
    "\n",
    "> _\"Programs must be written for people to read, and only incidentally for machines to execute.\"_<sup><a href=\"#7.-References\">1</a></sup>\n",
    "\n",
    "## 1. Functions\n",
    "\n",
    "In the previous chapter we explored some of the _\"building blocks\"_ (the fundamental parts) of programming, this chapter introduces the _\"combining parts\"_ of programming. In order to build up the solution to a problem the building blocks are combined together into larger and larger forms until, finally, a useful whole is produced. This \"useful whole\" is what we call a program.\n",
    "\n",
    "The \"combining parts\" of programs are called \"functions\". These are equivalent to mathematical functions but we will not use any more mathematical analogies here. Functions can be _defined_, _applied_ (or _used_, _called_), or _composed_. We will see examples of each in this chapter.\n",
    "\n",
    "---\n",
    "\n",
    "### Exercise 3-1: A list of instructions\n",
    "Think of a simple task you perform regularly. Now try to write down a list of instructions describing how to perform this task.\n",
    "For example, here are instructions for how to order Pizza.\n",
    "1. Pick up a telephone\n",
    "2. Call 555-2020\n",
    "3. When someone answers, ask for Hawaiian with extra pinapple\n",
    "4. Wait until delivery arrives and pay\n",
    "\n",
    "Next, notice that each of these steps can itself be described in more basic terms, so pick **one** and write a sub-list of instructions. Here's the example:\n",
    "1. Pick up a telephone\n",
    "    1. Find a telephone\n",
    "    1. Walk towards it until it is within reach\n",
    "    1. Extend your arm towards the telephone and grasp it firmly with your hand\n",
    "    1. Move the hand containing the telephone towards your face.\n",
    "2. Call 555-2020\n",
    "3. When someone answers, ask for Hawaiian with extra pinapple\n",
    "4. Wait until delivery arrives and pay"
   ]
  },
  {
   "cell_type": "code",
   "execution_count": null,
   "metadata": {},
   "outputs": [],
   "source": []
  },
  {
   "cell_type": "markdown",
   "metadata": {},
   "source": [
    "---\n",
    "\n",
    "### 1.1 Function application\n",
    "Programs are also functions. They consume inputs (also known as arguments) and produce outputs.\n",
    "\n",
    "![Function](https://upload.wikimedia.org/wikipedia/commons/thumb/3/3b/Function_machine2.svg/191px-Function_machine2.svg.png)\n",
    "\n",
    "The inputs to a function can be a variety of things (some of which we've seen in the previous chapter), another function, a mouse press, a video stream, signals from a sensor, a file containing sequence data, ...\n",
    "A function _transforms_ its input to produce its output which can be combined with other functions to build up a whole program.\n",
    "\n",
    "We've already been using some built-in Python functions, for example **abs()** or **len()**. As you've already seen, in Python you _apply_ a function by typing its name followed by an open parenthesis '(', followed by the argument list, and finally a closing parenthesis ')'."
   ]
  },
  {
   "cell_type": "code",
   "execution_count": null,
   "metadata": {},
   "outputs": [],
   "source": [
    "abs(-56)"
   ]
  },
  {
   "cell_type": "code",
   "execution_count": null,
   "metadata": {},
   "outputs": [],
   "source": [
    "len(\"hello\")"
   ]
  },
  {
   "cell_type": "markdown",
   "metadata": {},
   "source": [
    "### 1.2 Function definition\n",
    "\n",
    "We can also build (or _define_) our own functions. When you're writing your own function, start with the _keyword_ `def` like so:\n",
    ":\n",
    "```python\n",
    "def name_of_my_function(some, function, arguments):\n",
    "    \"\"\"Some information about the function\"\"\"\n",
    " \n",
    "    # Some operations\n",
    "    \n",
    "    return result\n",
    "```\n",
    "The final part of a function is `return` which specifies what the function evaluates to. This function has `3` arguments called `some`, `function`, and `arguments`. The string immediately after\n",
    "the definition is called the _docstring_ and is what the `help()` function prints.\n",
    "\n",
    "Let's write our own function to compute the square of a number. This function takes a single numeric argument and returns that number squared."
   ]
  },
  {
   "cell_type": "code",
   "execution_count": null,
   "metadata": {},
   "outputs": [],
   "source": [
    "def my_square(number):\n",
    "    \"\"\"Compute the square of the input.\"\"\"\n",
    "    return number ** 2"
   ]
  },
  {
   "cell_type": "markdown",
   "metadata": {},
   "source": [
    "Notice that, when you run this cell, nothing seems to happen. This only _defines_ the function. It has not yet been run. Think of this as telling Python about your function like you would do with a variable. This also means you can pass functions around like variables.\n",
    "\n",
    "In order to call the function, we use the following expression:"
   ]
  },
  {
   "cell_type": "code",
   "execution_count": null,
   "metadata": {},
   "outputs": [],
   "source": [
    "my_square()"
   ]
  },
  {
   "cell_type": "markdown",
   "metadata": {},
   "source": [
    "😱 `TypeError: my_square() missing 1 required positional argument: 'number'`\n",
    "\n",
    "What does that mean? It means `my_square()` expects `1` argument, but we gave it `0` arguments. Let's fix that:"
   ]
  },
  {
   "cell_type": "code",
   "execution_count": null,
   "metadata": {},
   "outputs": [],
   "source": [
    "my_square(-5)"
   ]
  },
  {
   "cell_type": "markdown",
   "metadata": {},
   "source": [
    "So what happens to arguments when they're \"passed\" to a function? Where do they come from? And where do they go? Let us try to build an intuition."
   ]
  },
  {
   "cell_type": "code",
   "execution_count": null,
   "metadata": {},
   "outputs": [],
   "source": [
    "# We apply the my_square() function to some argument\n",
    "my_square(7) # Python then goes off to find the my_square() function\n",
    "# Found it! It looks like this: def my_square(number):\n",
    "# Python then places the value 7 that we passed into a variable or box called number"
   ]
  },
  {
   "cell_type": "code",
   "execution_count": null,
   "metadata": {},
   "outputs": [],
   "source": [
    "# From the point-of-view of Python, this is essentially what happens:\n",
    "number = 7 # Argument passed to the my_square function\n",
    "number ** 2 # Body of the my_square function"
   ]
  },
  {
   "cell_type": "markdown",
   "metadata": {},
   "source": [
    "In your mind, you can simplify this further to just `7 ** 2` or even `49`. When you do this you're using a _metal model_ of Python known as the \"substitution model of execution\"<sup><a href=\"#7.-References\">2</a></sup>, though it is an imprecise model in this case it will get you a long way."
   ]
  },
  {
   "cell_type": "code",
   "execution_count": null,
   "metadata": {},
   "outputs": [],
   "source": [
    "# This mental model also works for passing variables as arguments:\n",
    "my_var = 7\n",
    "my_square(my_var)\n",
    "# Once again, Python places the value in the \"my_var\" box into the variable or box called nnumber."
   ]
  },
  {
   "cell_type": "code",
   "execution_count": null,
   "metadata": {},
   "outputs": [],
   "source": [
    "# From the point-of-view of Python, this is essentially what happens:\n",
    "my_var = 7 # Initial variable assignment\n",
    "number = my_var # Argument passed to the my_square function\n",
    "number ** 2 # Body of the my_square function"
   ]
  },
  {
   "cell_type": "markdown",
   "metadata": {},
   "source": [
    "You can think of function arguments as variables that are assigned on function application.\n",
    "\n",
    "---\n",
    "\n",
    "### Exercise 3-2: Function arguments\n",
    "Try to guess what will be printed before executing the cell."
   ]
  },
  {
   "cell_type": "code",
   "execution_count": null,
   "metadata": {},
   "outputs": [],
   "source": [
    "a = len(\"hello\")\n",
    "b = \"blob\"\n",
    "c = len(b)\n",
    "d = my_square(c)\n",
    "\n",
    "print(a, b, c, d)"
   ]
  },
  {
   "cell_type": "markdown",
   "metadata": {},
   "source": [
    "[Advanced question](Advanced%20Exercises.ipynb#3-2)\n",
    "\n",
    "---\n",
    "\n",
    "Information about the function can be retrieved by using the `help()` function. Notice that we are passing the function `my_square` as an argument to the `help` function as if it was a variable."
   ]
  },
  {
   "cell_type": "code",
   "execution_count": null,
   "metadata": {},
   "outputs": [],
   "source": [
    "help(my_square)"
   ]
  },
  {
   "cell_type": "markdown",
   "metadata": {
    "tags": []
   },
   "source": [
    "---\n",
    "\n",
    "## 2. Indentation\n",
    "Python relies on indentation (whitespace at the beginning of a line) to group code into _blocks_. Though this is not a unique characteristic of Python, other programming languages you may've used often use curly brackets or _braces_ (`{}`) for this purpose. \n",
    "\n",
    "There are 2 things to keep in mind about indentation:\n",
    "1. The _indentation level_ (which \"sub-block\") you are in. You have to be careful how you indent the code so that your code is correctly grouped into blocks.\n",
    "2. Consistently indenting code _within_ a block. \n",
    "\n",
    "See what happens if indentation is inconsistent:"
   ]
  },
  {
   "cell_type": "code",
   "execution_count": null,
   "metadata": {},
   "outputs": [],
   "source": [
    "# This is the \"top-level\"\n",
    "\n",
    "def start_of_a_block():\n",
    "    # This is the beginning of an indented block of code. Note the space at the beginning of the line\n",
    "   a_variable = 0\n",
    "    another = 6"
   ]
  },
  {
   "cell_type": "markdown",
   "metadata": {},
   "source": [
    "---\n",
    "\n",
    "### Exercise 3-3: To return or not to return?\n",
    "In general youf function should evaluate to some value using the `return` keyword. What happens if you forget to use a `return`? What happens if you `return` with no value?"
   ]
  },
  {
   "cell_type": "code",
   "execution_count": null,
   "metadata": {},
   "outputs": [],
   "source": [
    "def a_function():\n",
    "    6\n",
    "    # Solve the exercise here\n",
    "\n",
    "print(a_function())"
   ]
  },
  {
   "cell_type": "markdown",
   "metadata": {},
   "source": [
    "[Advanced question](Advanced%20Exercises.ipynb#3-3)\n",
    "\n",
    "---\n",
    "\n",
    "### Exercise 3-4: Return a function!\n",
    "Python treats functions the same as any other variable. A variable has a name and a value, in this case the value is a function. This means that you can define a function _inside another function definition_ and return that! Use this exercise to try this."
   ]
  },
  {
   "cell_type": "code",
   "execution_count": null,
   "metadata": {},
   "outputs": [],
   "source": [
    "def outside_function(val1):\n",
    "    first_val = val1\n",
    "    \n",
    "    def inside_function(val2):\n",
    "        return first_val + val2\n",
    "    \n",
    "    return inside_function\n",
    "\n",
    "function = outside_function(3)\n",
    "function(7)"
   ]
  },
  {
   "cell_type": "markdown",
   "metadata": {},
   "source": [
    "Can you use the substitution mental model to understand what this code does?"
   ]
  },
  {
   "cell_type": "markdown",
   "metadata": {},
   "source": [
    "---\n",
    "\n",
    "## 3. Testing\n",
    "You are probably very confident that the code you've written so far is \"correct\". But as you write more complicated programs you will probably begin to feel less confident. Testing, among other virtues, allows you to keep this early confidence in the correctness of your programs. One (rather naiive) way of testing is to assert an expectation about the state of your program. This can be achieved using Python keyword **`assert`**. For example, I could test the `multiply` function like so:"
   ]
  },
  {
   "cell_type": "code",
   "execution_count": null,
   "metadata": {},
   "outputs": [],
   "source": [
    "assert 0 == mySquare(0)\n",
    "assert 1 == mySquare(1)\n",
    "assert 4 == mySquare(2)"
   ]
  },
  {
   "cell_type": "markdown",
   "metadata": {},
   "source": [
    "Successfully passing these tests will result in no output at all. Failing will result in **`AssertionError`** with no description of what went wrong."
   ]
  },
  {
   "cell_type": "markdown",
   "metadata": {},
   "source": [
    "![Testing](images/testing.png)\n",
    "\n",
    "Your tests become more useful when they check both expected values and unexpected (edge-case) values. If your function expects numbers, does it cope well with very large numbers? What about very small numbers? What about negative numbers? What about zero?"
   ]
  },
  {
   "cell_type": "markdown",
   "metadata": {},
   "source": [
    "---\n",
    "\n",
    "### Testing example\n",
    "Here I will demonstrate solving an exercise and ensuring the test cases pass"
   ]
  },
  {
   "cell_type": "code",
   "execution_count": null,
   "metadata": {},
   "outputs": [],
   "source": [
    "# Write a function definition here\n",
    "\n",
    "# These are _test cases_\n",
    "assert 3 == my_example_function(1, 2), \"I expected 3, but got \" + str(my_example_function(1, 2))\n",
    "assert 0 == my_example_function(-51, 51), \"I expected 0, but got \" + str(my_example_function(-51, 51))\n",
    "assert my_example_function.__doc__ is not None, \"You should write a docstring for your function\""
   ]
  },
  {
   "cell_type": "markdown",
   "metadata": {},
   "source": [
    "---\n",
    "\n",
    "### Exercise 3-5: Testing\n",
    "How would you test the following function. Write some tests, try to discover a bug."
   ]
  },
  {
   "cell_type": "code",
   "execution_count": null,
   "metadata": {},
   "outputs": [],
   "source": [
    "def fractional_part(number):\n",
    "    \"\"\"Find the fractional part of an input floating point number.\"\"\"\n",
    "    int_part = int(number) + 1\n",
    "    frac_part = int_part + number\n",
    "    return int_part\n",
    "\n",
    "# Write your tests here"
   ]
  },
  {
   "cell_type": "markdown",
   "metadata": {},
   "source": [
    "---\n",
    "\n",
    "### Exercise 3-6: Implementation after tests\n",
    "Write a function called `distance` that accepts 2 numbers called `x` and `y` as arguments and computes the euclidean distance of the coordinate $(x,y)$ from the origin $(0,0)$ $$d(x, y) = \\sqrt{x^2 + y^2}$$"
   ]
  },
  {
   "cell_type": "code",
   "execution_count": null,
   "metadata": {},
   "outputs": [],
   "source": [
    "import math\n",
    "\n",
    "# Write your function here\n",
    "    \n",
    "\n",
    "# These are _test cases_\n",
    "assert abs(5 - distance(3, 4)) < 0.0001, \"Extected 5, got \" + str(distance(3, 4))\n",
    "assert abs(13 - distance(5, 12)) < 0.0001, \"Extected 13, got \" + str(distance(5, 12))\n",
    "assert abs(17 - distance(8, 15)) < 0.0001, f\"Extected 17, got \" + str(distance(8, 15))\n",
    "assert distance.__doc__ is not None, \"Remember to write a docstring\""
   ]
  },
  {
   "cell_type": "markdown",
   "metadata": {
    "tags": []
   },
   "source": [
    "---\n",
    "### Exercise 3-7: Generalised $\\ell^{2}$-norm\n",
    "Write a function called `l2norm` that computes the euclidean distance between any 2 arbitrary points in 3D space.\n",
    "\n",
    "$$\\ell^{2}(\\vec{a}, \\vec{b}) = \\sqrt{\\sum_{k=1}^3(a_k - b_k)^2}$$"
   ]
  },
  {
   "cell_type": "code",
   "execution_count": null,
   "metadata": {},
   "outputs": [],
   "source": [
    "# Write your function here\n",
    "\n",
    "# These are test cases\n",
    "assert abs(9.11756546 - l2norm(7.5, -3.6, 0.0, 0.2, 1.4, 2.2)) < 0.000001\n",
    "assert abs(26.3818119 - l2norm(-8, -13, 1, 2, 1, 21)) < 0.000001\n",
    "assert abs(4.030372315 - l2norm(0.001, 0.01, 0.1, 1.1, 2.2, 3.3)) < 0.000001\n",
    "assert l2norm.__doc__ is not None"
   ]
  },
  {
   "cell_type": "markdown",
   "metadata": {},
   "source": [
    "[Advanced question](Advanced%20Exercises.ipynb#3-7)\n",
    "\n",
    "---\n",
    "\n",
    "## 4. Function composition\n",
    "\n",
    "So far you have _defined_ and _applied_ functions. In order to build more complex and useful programs, you must also be able to combine functions together, _compose_ functions. \n",
    "\n",
    "![Function composition](images/function_composition.svg)\n",
    "\n",
    "In fact you have actually already done this too: in **Exercise 3-3** above, you combined your `l2norm` function with the `abs` function while testing. The **result** of the `l2norm` function was passed directly to `abs` as an argument.\n",
    "\n",
    "---\n",
    "\n",
    "### Exercise 3-8: Compose functions\n",
    "Can you compose the `len()` and `my_square()` functions to compute the square of the length of the string `\"humpty dumpty\"`?"
   ]
  },
  {
   "cell_type": "code",
   "execution_count": null,
   "metadata": {},
   "outputs": [],
   "source": [
    "the_string = \"humpty dumpty\"\n",
    "sq_len = _\n",
    "\n",
    "assert 169 == sq_len"
   ]
  },
  {
   "cell_type": "markdown",
   "metadata": {
    "tags": []
   },
   "source": [
    "[Advanced question](Advanced%20Exercises.ipynb#3-8)\n",
    "\n",
    "---\n",
    "\n",
    "## 6. Chapter Review\n",
    "In this chapter you learned how to write code that simplifies the task of understanding a program by\n",
    "_abstracting away_ details. Functions are a fundamentally important part of programming, indeed they're the other half of programming. Functions even correspond to mathematical proofs<sup><a href=\"#7.-References\">3</a></sup>! You have now covered _all_ of the very fundamentals of programming. You've understood the building blocks. And now you've understood the combining of things together using function definition, application, and composition.\n",
    "\n",
    "If you are new to programming then it is very likely this will seem overwhelming. Learning to program requires mastery of many new concepts. It is ok if you feel overwhelmed, the remaining chapters are here to help you practise. In some sense they are just more details of what we have already covered in the last 2 chapters<sup><a href=\"#7.-References\">4</a></sup>.\n",
    "\n",
    "### Review Questions\n",
    "\n",
    "1. What is a function?\n",
    "<details>\n",
    "    <summary>Answer</summary>\n",
    "    A <em>function</em> is a block of re-usable code with a name, that can be called using that name.\n",
    "</details>\n",
    "\n",
    "2. What is the result of evaluating a function called?\n",
    "<details>\n",
    "    <summary>Answer</summary>\n",
    "    The <em>return value</em>. Or the value <em>returned by the function</em>.\n",
    "</details>\n",
    "\n",
    "3. What are docstrings? How to you access them?\n",
    "<details>\n",
    "    <summary>Answer</summary>\n",
    "    Docstrings are documentation that can be accessed using the <code>help()</code> function.\n",
    "</details>\n",
    "\n",
    "4. What is meant by \"function application\", how is this different from \"function composition\"?\n",
    "<details>\n",
    "    <summary>Answer</summary>\n",
    "    Function application is synonymous with function \"call\" or \"use\". A function is applied to its arguments and evaluated to produce results. Function composition is the combining of several functions together to make a new \"thing\" that may be applied later.\n",
    "</details>"
   ]
  },
  {
   "cell_type": "markdown",
   "metadata": {},
   "source": [
    "## 7. References\n",
    "\n",
    "1. Abelson, H., Sussman, G.J., Sussman, J. (1996) _[Structure and Interpretation of Computer Programs](https://mitpress.mit.edu/sites/default/files/sicp/full-text/book/book.html) (2 ed.)_. The MIT Press.\n",
    "1. Chiusano, P., Bjarnason, R. (2015) [Referential transparency, purity, and the substitution model](https://livebook.manning.com/book/functional-programming-in-scala/chapter-1/52). In _Functional Programming in Scala_ (pp.10-12). Manning.\n",
    "1. [The Curry-Howard correspondence](https://en.wikipedia.org/wiki/Curry%E2%80%93Howard_correspondence)\n",
    "1. Hoare, C.A.R. (1969) _[An Axiomatic Basis for Computer Programming](https://www.cs.cmu.edu/~crary/819-f09/Hoare69.pdf)_. Communications of the ACM, 12(10):576-580 and 583.\n",
    "\n",
    "## 8. Supporting material\n",
    "* [A Data Centric Introduction to Computing, Chapter 5](https://dcic-world.org/2021-08-21/From_Repeated_Expressions_to_Functions.html)\n",
    "* [Automate the Boring Stuff with Python, Chapter 3](http://automatetheboringstuff.com/2e/chapter3/)\n",
    "* [Automate the Boring Stuff with Python video course, Lesson 9](https://youtu.be/WB4hJJkfhLU)\n",
    "\n",
    "## 9. Next session\n",
    "\n",
    "Go to our [next chapter](04_Conditions.ipynb). "
   ]
  },
  {
   "cell_type": "code",
   "execution_count": null,
   "metadata": {},
   "outputs": [],
   "source": []
  }
 ],
 "metadata": {
  "kernelspec": {
   "display_name": "Python 3 (ipykernel)",
   "language": "python",
   "name": "python3"
  },
  "language_info": {
   "codemirror_mode": {
    "name": "ipython",
    "version": 3
   },
   "file_extension": ".py",
   "mimetype": "text/x-python",
   "name": "python",
   "nbconvert_exporter": "python",
   "pygments_lexer": "ipython3",
   "version": "3.10.5"
  }
 },
 "nbformat": 4,
 "nbformat_minor": 4
}
