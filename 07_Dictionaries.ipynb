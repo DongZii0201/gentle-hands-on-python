{
 "cells": [
  {
   "cell_type": "markdown",
   "metadata": {},
   "source": [
    "# A Pythonic Climate Plot\n",
    "\n",
    ">_\"Complex is better than complicated.\"_\n",
    ">\n",
    "> -- Zen of Python by Tim Peters\n",
    "\n",
    "## 1. Visualising climate: temperature averages\n",
    "For the sake of a bit of fun you will be given a, not-too-unrealistic scanario: Imagine that you've been commisioned to generate plots from temperature data for 3 countries and a global plot to compare against:\n",
    "* Belgium\n",
    "* Russia\n",
    "* Australia\n",
    "\n",
    "You have some data sources:\n",
    "* [Global](https://hadleyserver.metoffice.gov.uk/hadcrut5/data/current/download.html)\n",
    "* [Belgium](https://climateknowledgeportal.worldbank.org/api/data/get-download-data/historical/tas/1991-2020/BEL/Belgium)\n",
    "* [Russia](https://climateknowledgeportal.worldbank.org/api/data/get-download-data/historical/tas/1991-2020/RUS/Russia)\n",
    "* [Australia](https://climateknowledgeportal.worldbank.org/api/data/get-download-data/historical/tas/1991-2020/AUS/Australia)\n",
    "\n",
    "<img src=\"https://hadleyserver.metoffice.gov.uk/crutem5/figures/crutem5image.png\" alt=\"Global temperature anomally 1961-90\" style=\"width: 600px\">\n",
    "\n",
    "The task essentially breaks down into these high-level steps:\n",
    "1. Fetch the data\n",
    "1. Clean the data\n",
    "1. Align the data\n",
    "1. Average/smooth the data\n",
    "1. Plot the data\n",
    "\n",
    "You will perform all of these steps in Python. The remainder of the course will use this scenario to introduce you to some other useful aspects of Python, though not necessarily in the above order. With this\n",
    "in mind, let us look at another useful collection provided by Python.\n",
    "\n",
    "## 2. A dictionary\n",
    "So far we've seen collections that store one value or a series of values (see [Chapter 5](05_Lists_Tuples.ipynb): Lists and Tuples). Often you will need to associate one value with another (e.g. the name of a country with its historical temperature record,\n",
    "or a time period with a series of empirical observations); in Python, such an associative collection is called a _dictionary_.\n",
    "\n",
    "It is best to think of a dictionary as a set of `key: value` pairs. The keys in a dictionary are unique and <abbr title=\"This is not strictly true\">unordered</abbr>. Dictionaries are created by using curly braces `{}`, and each `key:value` pair is\n",
    "separated with a comma:\n",
    "\n",
    "\n",
    "![Gentle-hands-on-introduction-to-Python-Programming Python Dictionary](images/myDictionary-cropped.png)\n",
    "\n",
    "\n"
   ]
  },
  {
   "cell_type": "code",
   "execution_count": null,
   "metadata": {},
   "outputs": [],
   "source": [
    "three_letter_codes = {\n",
    "     'A': 'Ala',\n",
    "     'C': 'Cys',\n",
    "     'D': 'Asp',\n",
    "     'E': 'Glu',\n",
    "     'F': 'Phe',\n",
    "     'G': 'Gly',\n",
    "     'H': 'His',\n",
    "     'I': 'Ile',\n",
    "     'K': 'Lys',\n",
    "     'L': 'Leu',\n",
    "     'M': 'Met',\n",
    "     'N': 'Asn',\n",
    "     'P': 'Pro',\n",
    "     'Q': 'Gln',\n",
    "     'R': 'Arg',\n",
    "     'S': 'Ser',\n",
    "     'T': 'Thr',\n",
    "     'V': 'Val',\n",
    "     'W': 'Trp',\n",
    "     'Y': 'Tyr'}\n",
    "three_letter_codes"
   ]
  },
  {
   "cell_type": "markdown",
   "metadata": {},
   "source": [
    "You can the slicing operator (`[]`) with the name of the key to get the associated value:"
   ]
  },
  {
   "cell_type": "code",
   "execution_count": null,
   "metadata": {},
   "outputs": [],
   "source": [
    "three_letter_codes['A']"
   ]
  },
  {
   "cell_type": "markdown",
   "metadata": {},
   "source": [
    "You can check if a key is present in a dictionary using the `in` operator:"
   ]
  },
  {
   "cell_type": "code",
   "execution_count": null,
   "metadata": {},
   "outputs": [],
   "source": [
    "'Z' in three_letter_codes"
   ]
  },
  {
   "cell_type": "code",
   "execution_count": null,
   "metadata": {},
   "outputs": [],
   "source": [
    "'D' in three_letter_codes"
   ]
  },
  {
   "cell_type": "markdown",
   "metadata": {},
   "source": [
    "---\n",
    "\n",
    "### Exercise 7-1: A climate observation\n",
    "Construct a dictionary containing the keys, \"BEL\", \"RUS', \"AUS\", and \"GLO\" and decimal numbers for values (You can pick any number you like)."
   ]
  },
  {
   "cell_type": "code",
   "execution_count": null,
   "metadata": {},
   "outputs": [],
   "source": []
  },
  {
   "cell_type": "markdown",
   "metadata": {},
   "source": [
    "A list of these dictionaries could be time-series observations for each of the territories we need to eventually plot.\n",
    "\n",
    "---\n",
    "\n",
    "### Exercise 7-2: Amino-acid sequence\n",
    "Write a function that takes a sequence of amino-acids represented by their single letter code. Return a list of three-letter-codes. For example, given the input: `\"EIKGGQ\"` return `['Glu', 'Ile', 'Lys', 'Gly', 'Gly', 'Gln']`"
   ]
  },
  {
   "cell_type": "code",
   "execution_count": null,
   "metadata": {},
   "outputs": [],
   "source": [
    "def one_to_three_letter_code(sequence):\n",
    "    ...\n",
    "\n",
    "assert one_to_three_letter_code(\"EIKGGQ\") == ['Glu', 'Ile', 'Lys', 'Gly', 'Gly', 'Gln'], f\"Did not expect {one_to_three_letter_code('EIKGGQ')}\"\n",
    "assert one_to_three_letter_code(\"PRAPY\") == ['Pro', 'Arg', 'Ala', 'Pro', 'Tyr'], f\"Did not expect {one_to_three_letter_code('PRAPY')}\""
   ]
  },
  {
   "cell_type": "markdown",
   "metadata": {},
   "source": [
    "---\n",
    "\n",
    "Naturally, you can run a `for`-each loop on a dictionary just like you can any other collection."
   ]
  },
  {
   "cell_type": "code",
   "execution_count": null,
   "metadata": {},
   "outputs": [],
   "source": [
    "for key in three_letter_codes:\n",
    "    print(key)"
   ]
  },
  {
   "cell_type": "markdown",
   "metadata": {},
   "source": [
    "So you only get the `key` in a `for`-each loop on a dictionary! The `dict` collection provides some special functions to give you access to the values as well.\n",
    "You can ask the dictionary to give you `(key, value)` pairs like this:"
   ]
  },
  {
   "cell_type": "code",
   "execution_count": null,
   "metadata": {},
   "outputs": [],
   "source": [
    "for key, value in three_letter_codes.items():\n",
    "    print(key, value)"
   ]
  },
  {
   "cell_type": "markdown",
   "metadata": {},
   "source": [
    "Similarly if you just want to loop over the values in a dictionary, you can do so like this:"
   ]
  },
  {
   "cell_type": "code",
   "execution_count": null,
   "metadata": {},
   "outputs": [],
   "source": [
    "for val in three_letter_codes.values():\n",
    "    print(val)"
   ]
  },
  {
   "cell_type": "markdown",
   "metadata": {},
   "source": [
    "Often you will use a dictionary to accumulate results of an ongoing computation. This is what the next exercise demonstrates."
   ]
  },
  {
   "cell_type": "markdown",
   "metadata": {},
   "source": [
    "---\n",
    "### Exercise 7-3: Frequency\n",
    "Write a function that accepts an amino-acid sequence and returns a dictionary keyed by the amino-acid single-letter-code and the value is the frequency of observation of that amino-acid in the sequence.\n",
    "\n",
    "For example, `frequencies(\"AACD\")` should return this dictionary: `{\"A\": 2, \"C\": 1, \"D\": 1}`."
   ]
  },
  {
   "cell_type": "code",
   "execution_count": null,
   "metadata": {},
   "outputs": [],
   "source": [
    "def frequencies(sequence):\n",
    "    ...\n",
    "\n",
    "sequence = \"SFTMHGTPVVNQVKVLTESNRISHHKILAIVGTAESNSEHPLGTAITKYCKQELDTETLGTCIDFQVVPGCGISCKVTNIEGLLHKNNWNIEDNNIKNASLVQIDASNEQSSTSSSMIIDAQISNALNAQQYKVLIGNREWMIRNGLVINNDVNDFMTEHERKGRTAVLVAVDDELCGLIAIADT\"\n",
    "expected = {'A': 12, 'C': 5, 'D': 10, 'E': 12, 'F': 3, 'G': 11, 'H': 6, 'I': 18, 'K': 9, 'L': 14, 'M': 4, 'N': 18, 'P': 3, 'Q': 8, 'R': 5, 'S': 14, 'T': 14, 'V': 15, 'W': 2, 'Y': 2}\n",
    "\n",
    "assert frequencies(\"AACD\") == {\"A\": 2, \"C\": 1, \"D\": 1}, f\"Unexpected {frequencies('AACD')}\"\n",
    "assert frequencies(sequence) == expected, f\"Unexpected {frequencies(sequence)}\""
   ]
  },
  {
   "cell_type": "markdown",
   "metadata": {},
   "source": [
    "---\n",
    "\n",
    "### Exercise 7-4: Density\n",
    "Write a function that transforms the result of your `frequencies()` function above by modifying the dictionary so that its values are a dictionary containing 2 keys: the count as before,\n",
    "and also a fraction of the length of the sequence. e.g. if the letter 'S' appears 50% of the time it's value in the new dictionary will be `{\"count\":92, \"fraction\":0.5}`"
   ]
  },
  {
   "cell_type": "code",
   "execution_count": null,
   "metadata": {},
   "outputs": [],
   "source": [
    "def amino_acid_fractions(freqs):\n",
    "    ...\n",
    "\n",
    "amino_acid_fractions(frequencies(sequence))"
   ]
  },
  {
   "cell_type": "markdown",
   "metadata": {},
   "source": [
    "---\n",
    "\n",
    "### Exercise 7-5: Weather, averaged over time, is climate\n",
    "Write a function that accepts a list of observations (See the dictionary you created in Exercise 7-1) and returns a dictionary with the same structure but the values are the averages of the input. For example, consider these input observations:\n",
    "\n",
    "```python\n",
    "[\n",
    "    {\"BEL\": 5.7, \"RUS\": -12.8, \"AUS\": 42.6, \"GLO\": 22.1},\n",
    "    {\"BEL\": 10.2, \"RUS\": -2.0, \"AUS\": 37.8, \"GLO\": 21.2},\n",
    "    {\"BEL\": 14.7, \"RUS\": 1.3, \"AUS\": 18.3, \"GLO\": 23.6}\n",
    "]\n",
    "```\n",
    "\n",
    "The output of your function should be:\n",
    "```python\n",
    "{\"BEL\": 10.2, \"RUS\": -4.5, \"AUS\": 32.9, \"GLO\": 22.3}\n",
    "```"
   ]
  },
  {
   "cell_type": "code",
   "execution_count": null,
   "metadata": {},
   "outputs": [],
   "source": [
    "def average_temperature(observations):\n",
    "    ...\n",
    "\n",
    "example = [\n",
    "    {\"BEL\": 5.7, \"RUS\": -12.8, \"AUS\": 42.6, \"GLO\": 22.1},\n",
    "    {\"BEL\": 10.2, \"RUS\": -2.0, \"AUS\": 37.8, \"GLO\": 21.2},\n",
    "    {\"BEL\": 14.7, \"RUS\": 1.3, \"AUS\": 18.3, \"GLO\": 23.6}\n",
    "]\n",
    "\n",
    "print(average_temperature(example))\n",
    "assert average_temperature(example) == {\"BEL\": 10.2, \"RUS\": -4.5, \"AUS\": 32.9, \"GLO\": 22.3}, f\"Got {average_temperature(example)}\""
   ]
  },
  {
   "cell_type": "markdown",
   "metadata": {
    "jp-MarkdownHeadingCollapsed": true,
    "tags": []
   },
   "source": [
    "---\n",
    "\n",
    "## 3. Chapter Review\n",
    "In this chapter you've learned about the Python _dictionary_. It's a special collection that stores an association\n",
    "between _keys_ and _values_. Due to this, the keys must be unique.\n",
    "\n",
    "### Review Questions\n",
    "\n",
    "1. How is an empty dictionary represented?\n",
    "<details>\n",
    "    <summary>Answer</summary>\n",
    "    <code>{}</code> or <code>dict()</code>\n",
    "</details>\n",
    "\n",
    "1. Can a dictionary be a value in a dictionary?\n",
    "<details>\n",
    "    <summary>Answer</summary>\n",
    "    Yes!\n",
    "</details>\n",
    "\n",
    "1. Can a list be a key in a dictionary?\n",
    "<details>\n",
    "    <summary>Answer</summary>\n",
    "    No. A list can be modified after you create it so it would not be a stable key.\n",
    "</details>\n",
    "\n",
    "1. Can a tuple be a key in a dictionary?\n",
    "<details>\n",
    "    <summary>Answer</summary>\n",
    "    Yes!\n",
    "</details>\n",
    "\n",
    "1. How could you associate 1 key with multiple values?\n",
    "<details>\n",
    "    <summary>Answer</summary>\n",
    "    Use a collection as the value.\n",
    "</details>\n",
    "\n",
    "1. How can you access a key you're not sure is in the dictionary?\n",
    "<details>\n",
    "    <summary>Answer</summary>\n",
    "    Check that the key is <code>in</code> the dictionary first.\n",
    "</details>\n",
    "\n",
    "1. How can you loop over keys and associated values at the same time?\n",
    "<details>\n",
    "    <summary>Answer</summary>\n",
    "    Use the special <code>.items()</code> function.\n",
    "</details>"
   ]
  },
  {
   "cell_type": "markdown",
   "metadata": {},
   "source": [
    "## 4. Supporting material\n",
    "* [Automate the Boring Stuff with Python, Chapter 5](http://automatetheboringstuff.com/2e/chapter5/)\n",
    "* [Real Python: Dictionaries](https://realpython.com/python-dicts/)\n",
    "\n",
    "## 5. Next session\n",
    "\n",
    "Go to our [next chapter](08_Plotting.ipynb)."
   ]
  }
 ],
 "metadata": {
  "kernelspec": {
   "display_name": "Python 3",
   "language": "python",
   "name": "python3"
  },
  "language_info": {
   "codemirror_mode": {
    "name": "ipython",
    "version": 3
   },
   "file_extension": ".py",
   "mimetype": "text/x-python",
   "name": "python",
   "nbconvert_exporter": "python",
   "pygments_lexer": "ipython3",
   "version": "3.9.2"
  }
 },
 "nbformat": 4,
 "nbformat_minor": 4
}
