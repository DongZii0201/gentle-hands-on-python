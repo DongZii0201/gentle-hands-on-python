{
 "cells": [
  {
   "cell_type": "markdown",
   "metadata": {},
   "source": [
    "# 7. Dictionaries\n",
    "\n",
    ">_\"Complex is better than complicated.\"_\n",
    "\n",
    "## 7.1 Introduction\n",
    "\n",
    "So far we've seen collections that store one value or a series of values (see [Chapter 5](5_Lists_Tuples_Sets.ipynb): Lists, Tuples, and Sets). There is another way of storing information where you associate one value with another value;\n",
    "in Python this is called a _dictionary_. Dictionaries provide a very useful way of quickly connecting different values to each other.\n",
    "\n",
    "\n",
    "## 7.2 Dictionary creation & usage\n",
    "\n",
    "It is best to think of a dictionary as a _set_ of `key:value` pairs. In common with sets, the keys in a dictionary\n",
    "must be unique. Dictionaries are created by using curly braces `{}`, and each `key:value` pair is separated with a\n",
    "comma:\n",
    "\n",
    "\n",
    "![Gentle-hands-on-introduction-to-Python-Programming Python Dictionary](images/myDictionary-cropped.png)\n",
    "\n",
    "\n"
   ]
  },
  {
   "cell_type": "code",
   "execution_count": null,
   "metadata": {},
   "outputs": [],
   "source": [
    "myDictionary = {'A': 'Ala', 'C': 'Cys', 'D': 'Asp'}\n",
    "myDictionary"
   ]
  },
  {
   "cell_type": "markdown",
   "metadata": {},
   "source": [
    "You can recall values by using square brackets [ ] with the name of the key, or use the `get()`-method. \n"
   ]
  },
  {
   "cell_type": "code",
   "execution_count": null,
   "metadata": {},
   "outputs": [],
   "source": [
    "myDictionary['A']"
   ]
  },
  {
   "cell_type": "code",
   "execution_count": null,
   "metadata": {},
   "outputs": [],
   "source": [
    "myDictionary.get('C')"
   ]
  },
  {
   "cell_type": "markdown",
   "metadata": {},
   "source": [
    "What's the difference? Try running the above 2 cells using a key that is **not** present in the dictionary."
   ]
  },
  {
   "cell_type": "code",
   "execution_count": null,
   "metadata": {},
   "outputs": [],
   "source": [
    "myDictionary['B']"
   ]
  },
  {
   "cell_type": "code",
   "execution_count": null,
   "metadata": {},
   "outputs": [],
   "source": [
    "type(myDictionary.get('B'))"
   ]
  },
  {
   "cell_type": "markdown",
   "metadata": {},
   "source": [
    "It's much cleaner if you use the `get()` method as it doesn't return an explicit error if a key doesn't exist in your dictionary. Instead it will return a None-value. "
   ]
  },
  {
   "cell_type": "markdown",
   "metadata": {},
   "source": [
    "If you would like to add a new entry to the dictionary: "
   ]
  },
  {
   "cell_type": "code",
   "execution_count": null,
   "metadata": {},
   "outputs": [],
   "source": [
    "myDictionary['E'] = 'Glu'\n",
    "myDictionary"
   ]
  },
  {
   "cell_type": "markdown",
   "metadata": {},
   "source": [
    "Note however that keys are unique and if you try to add a key that already exists. with a different value, it will overwrite the old value. "
   ]
  },
  {
   "cell_type": "code",
   "execution_count": null,
   "metadata": {},
   "outputs": [],
   "source": [
    "myDictionary['A'] = 'Glu'\n",
    "myDictionary"
   ]
  },
  {
   "cell_type": "markdown",
   "metadata": {},
   "source": [
    "So keys are unique, values are not!"
   ]
  },
  {
   "cell_type": "markdown",
   "metadata": {},
   "source": [
    "Dictionaries, like other python collections, have several useful built-in methods. The most frequently used are listed below:\n",
    "- `keys()`\tto list the dictionary's keys\n",
    "- `values()` to list the values in the dictionary\n",
    "- `get()`\tcall the value of a specified key\n",
    "- `pop()`\tto remove the specified key and its values\n",
    "\n",
    "Listing the keys within a dictionary: "
   ]
  },
  {
   "cell_type": "code",
   "execution_count": null,
   "metadata": {},
   "outputs": [],
   "source": [
    "myDictionary = {'A': 'Ala', 'C': 'Cys', 'D': 'Asp', 'E': 'Glu'}\n",
    "myDictionary.keys()"
   ]
  },
  {
   "cell_type": "markdown",
   "metadata": {},
   "source": [
    "Python gives us the keys in an _iterable_ `dict_keys` type. If you would like to convert this into a list you can simply:"
   ]
  },
  {
   "cell_type": "code",
   "execution_count": null,
   "metadata": {},
   "outputs": [],
   "source": [
    "list(myDictionary.keys())"
   ]
  },
  {
   "cell_type": "markdown",
   "metadata": {},
   "source": [
    "Similarly for the values of a dictionary:"
   ]
  },
  {
   "cell_type": "code",
   "execution_count": null,
   "metadata": {},
   "outputs": [],
   "source": [
    "list(myDictionary.values())"
   ]
  },
  {
   "cell_type": "markdown",
   "metadata": {},
   "source": [
    "How would you loop over the keys in a dictionary? Instead of writing `for k in myDictionary.keys():` you can simply write the variable containing the dictionary:"
   ]
  },
  {
   "cell_type": "code",
   "execution_count": null,
   "metadata": {},
   "outputs": [],
   "source": [
    "for k in myDictionary:\n",
    "    print(k)"
   ]
  },
  {
   "cell_type": "markdown",
   "metadata": {},
   "source": [
    "We've already seen the `get()` method. Another useful method we've seen on other collections is `pop()`.\n",
    "This method can also be used with dictionaries to remove an entire `key:value` _entry_.\n"
   ]
  },
  {
   "cell_type": "code",
   "execution_count": null,
   "metadata": {},
   "outputs": [],
   "source": [
    "myDictionary.pop('E')\n",
    "myDictionary"
   ]
  },
  {
   "cell_type": "markdown",
   "metadata": {},
   "source": [
    "One final note..."
   ]
  },
  {
   "cell_type": "code",
   "execution_count": null,
   "metadata": {},
   "outputs": [],
   "source": [
    "# Newlines don't matter when initialising a dictionary...\n",
    "myDictionary = {\n",
    "     'A': 'Ala',\n",
    "     'C': 'Cys',\n",
    "     'D': 'Asp',\n",
    "     'E': 'Glu',\n",
    "     'F': 'Phe',\n",
    "     'G': 'Gly',\n",
    "     'H': 'His',\n",
    "     'I': 'Ile',\n",
    "     'K': 'Lys',\n",
    "     'L': 'Leu',\n",
    "     'M': 'Met',\n",
    "     'N': 'Asn',\n",
    "     'P': 'Pro',\n",
    "     'Q': 'Gln',\n",
    "     'R': 'Arg',\n",
    "     'S': 'Ser',\n",
    "     'T': 'Thr',\n",
    "     'V': 'Val',\n",
    "     'W': 'Trp',\n",
    "     'Y': 'Tyr'}"
   ]
  },
  {
   "cell_type": "markdown",
   "metadata": {},
   "source": [
    "---\n",
    "### 7.2.1 Exercise\n",
    "\n",
    "Use a dictionary to track how many times each amino acid code appears in the following sequence:\n",
    "```\n",
    "SFTMHGTPVVNQVKVLTESNRISHHKILAIVGTAESNSEHPLGTAITKYCKQELDTETLGTCIDFQVVPGCGISCKVTNIEGLLHKNNWNIED  \n",
    "NNIKNASLVQIDASNEQSSTSSSMIIDAQISNALNAQQYKVLIGNREWMIRNGLVINNDVNDFMTEHERKGRTAVLVAVDDELCGLIAIADT\n",
    "```\n",
    "Tip: use the one-letter code as key in the dictionary, and the count as value.\n",
    "\n",
    "---"
   ]
  },
  {
   "cell_type": "code",
   "execution_count": null,
   "metadata": {},
   "outputs": [],
   "source": []
  },
  {
   "cell_type": "code",
   "execution_count": null,
   "metadata": {},
   "outputs": [],
   "source": []
  },
  {
   "cell_type": "markdown",
   "metadata": {},
   "source": [
    "<details>\n",
    "    <summary>&#9654; Extra exercise 7.2.1-1</summary>\n",
    "    Use the dictionary you created in the previous exercise (8.2.1). Modify the dictionary so that its values are\n",
    "    a dictionary containing 2 keys: the count as before,\n",
    "    and also a fraction of the length of the sequence. e.g. if the letter\n",
    "    'S' appears 50% of the time it's value in the new dictionary will be <code>{\"count\":92, \"fraction\":0.5}</code>\n",
    "</details>"
   ]
  },
  {
   "cell_type": "code",
   "execution_count": null,
   "metadata": {},
   "outputs": [],
   "source": []
  },
  {
   "cell_type": "markdown",
   "metadata": {},
   "source": [
    "## 7.3 A practical example of dictionaries\n",
    "A practical example of dictionaries can be found in Biopython. Imagine that we want to extract some information from a GenBank file ([NC_005816](https://www.ncbi.nlm.nih.gov/nuccore/NC_005816/))   "
   ]
  },
  {
   "cell_type": "code",
   "execution_count": null,
   "metadata": {
    "scrolled": true
   },
   "outputs": [],
   "source": [
    "# Imports the SeqIO object from Biopython\n",
    "from Bio import SeqIO\n",
    "\n",
    "# Reads in (just one record of) the GenBank file\n",
    "record = SeqIO.read(\"data/NC_005816.gb\",\"genbank\")\n",
    "print(record)"
   ]
  },
  {
   "cell_type": "markdown",
   "metadata": {},
   "source": [
    "The SeqRecord object (which we see here) has an id, name and description as well as a sequence. For other (miscellaneous) annotations, the SeqRecord object has a dictionary attribute *annotations*. Most of the annotations information gets recorded in the annotations dictionary."
   ]
  },
  {
   "cell_type": "code",
   "execution_count": null,
   "metadata": {},
   "outputs": [],
   "source": [
    "print(record.id)\n",
    "print(record.name)\n",
    "print(record.description)\n",
    "#print(record.seq)"
   ]
  },
  {
   "cell_type": "code",
   "execution_count": null,
   "metadata": {},
   "outputs": [],
   "source": [
    "record.annotations"
   ]
  },
  {
   "cell_type": "code",
   "execution_count": null,
   "metadata": {},
   "outputs": [],
   "source": [
    "# Accessing the 'organism' key within the annotations dictionary. \n",
    "record.annotations['organism']"
   ]
  },
  {
   "cell_type": "code",
   "execution_count": null,
   "metadata": {
    "scrolled": true
   },
   "outputs": [],
   "source": [
    "record.annotations['accessions'] # This could be a list of values, hence the list. "
   ]
  },
  {
   "cell_type": "markdown",
   "metadata": {},
   "source": [
    "## 7.4 More with dictionaries\n",
    "As mentioned here above, the value associated with a key can consist of a list with values (instead of one single value). In the example below we save the information of an experiment in a dictionary. The key that saves the *date* information contains a `list` of fictive dates (01-01-2020 and 02-01-2020):\n"
   ]
  },
  {
   "cell_type": "code",
   "execution_count": null,
   "metadata": {},
   "outputs": [],
   "source": [
    "TriplicateExp1 = {'name': 'experiment 1',\n",
    "                  'pH': 5.6,\n",
    "                  'temperature': 288.0,\n",
    "                  'volume': 200,\n",
    "                  'calibration':'cal1',\n",
    "                  'date':['01-01-2020','02-01-2020']}\n",
    "TriplicateExp1"
   ]
  },
  {
   "cell_type": "markdown",
   "metadata": {},
   "source": [
    "You can, however, only use variables that cannot change keys (so tuples are OK, lists are not), and keys have to be unique: if you add a key that already exists, the old entry will be overwritten:"
   ]
  },
  {
   "cell_type": "code",
   "execution_count": null,
   "metadata": {},
   "outputs": [],
   "source": [
    "dates = ('date1','date2') # tuple\n",
    "\n",
    "TriplicateExp1[dates] = ['01-01-2020','02-01-2020']\n",
    "TriplicateExp1"
   ]
  },
  {
   "cell_type": "markdown",
   "metadata": {},
   "source": [
    "It is also possible to have a so-called nested dictionary, in which there is a dictionary within a dictionary. "
   ]
  },
  {
   "cell_type": "code",
   "execution_count": null,
   "metadata": {
    "scrolled": true
   },
   "outputs": [],
   "source": [
    "TriplicateExp2 = {'name': 'experiment 2',\n",
    "                  'pH': 5.8,\n",
    "                  'temperature': 286.0, \n",
    "                  'volume': 200,\n",
    "                  'calibration':'cal1',\n",
    "                  'date':'03-01-2020'}\n",
    "TriplicateExp3 = {'name': 'experiment 3',\n",
    "                  'pH': 5.4,\n",
    "                  'temperature': 287.0,\n",
    "                  'volume': 200, \n",
    "                  'calibration':'cal1',\n",
    "                  'date':'04-01-2020'}\n",
    "Triplicate = {\n",
    "    'exp1':TriplicateExp1,\n",
    "    'exp2':TriplicateExp2,\n",
    "    'exp3':TriplicateExp3\n",
    "}\n",
    "Triplicate"
   ]
  },
  {
   "cell_type": "markdown",
   "metadata": {},
   "source": [
    "## 7.5 Chapter Review\n",
    "In this chapter you've learned about the Python _dictionary_. It's a special collection that stores an association\n",
    "between _keys_ and _values_. Due to this, the keys must be unique.\n",
    "\n",
    "### Review Questions\n",
    "\n",
    "1. How is an empty dictionary represented?\n",
    "<details>\n",
    "    <summary>&#9654; Answer</summary>\n",
    "    <code>{}</code>\n",
    "</details>\n",
    "\n",
    "\n",
    "2. Can a dictionary be a value in a dictionary?\n",
    "<details>\n",
    "    <summary>&#9654; Answer</summary>\n",
    "    Yes!\n",
    "</details>\n",
    "\n",
    "\n",
    "3. How could you associate 1 key with multiple values?\n",
    "<details>\n",
    "    <summary>&#9654; Answer</summary>\n",
    "    Use a collection as the value.\n",
    "</details>\n",
    "\n",
    "\n",
    "4. Can a tuple be a dictionary key? A list?\n",
    "<details>\n",
    "    <summary>&#9654; Answer</summary>\n",
    "    A tuple can be a key. A list cannot be a key.\n",
    "</details>\n",
    "\n",
    "\n",
    "5. How can you access a key you're not sure is in the dictionary?\n",
    "<details>\n",
    "    <summary>&#9654; Answer</summary>\n",
    "    The <code>.get()</code> method.\n",
    "</details>"
   ]
  },
  {
   "cell_type": "markdown",
   "metadata": {},
   "source": [
    "## 7.6 Next session\n",
    "\n",
    "Go to our [next chapter](08_Files.ipynb)."
   ]
  }
 ],
 "metadata": {
  "kernelspec": {
   "display_name": "Python 3",
   "language": "python",
   "name": "python3"
  },
  "language_info": {
   "codemirror_mode": {
    "name": "ipython",
    "version": 3
   },
   "file_extension": ".py",
   "mimetype": "text/x-python",
   "name": "python",
   "nbconvert_exporter": "python",
   "pygments_lexer": "ipython3",
   "version": "3.7.5"
  }
 },
 "nbformat": 4,
 "nbformat_minor": 4
}
