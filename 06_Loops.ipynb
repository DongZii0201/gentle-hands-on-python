{
 "cells": [
  {
   "cell_type": "markdown",
   "metadata": {},
   "source": [
    "# 6. Loops\n",
    "\n",
    "> _\"Flat is better than nested.\"_\n",
    "\n",
    "## 6.1 Introduction\n",
    "\n",
    "A very useful feature of computers is that they can do the same thing over and over again, never getting bored.\n",
    "In Python this ability is expressed using a _loop_. Essentially, a loop is a block of code that is repeatedly executed.\n",
    "There are **2** ways to express a loop in Python: `for`-each and `while`.\n",
    "\n",
    "\n",
    "\n",
    "## 6.2 The `for`-each loop\n",
    "Now that we understand _collections_ of values (from the previous chapter), you may wish to perform some computation on\n",
    "each value in a collection. This can be achieved by _looping_ over each value one-by-one so that your computation is\n",
    "executed _for each_ value in the collection.\n",
    "\n",
    "Here is an example of how it essentially works:"
   ]
  },
  {
   "cell_type": "code",
   "execution_count": null,
   "metadata": {},
   "outputs": [],
   "source": [
    "myList = [\"a\",\"b\",\"c\",\"d\"]\n",
    "\n",
    "for eachLetter in myList: # Read as \"for each value (called eachLetter) in myList...\"\n",
    "    print(eachLetter)\n",
    "print(\"Loop has ended\")"
   ]
  },
  {
   "cell_type": "markdown",
   "metadata": {},
   "source": [
    "This can be understood by _unrolling_ the loop. The _unrolled_ version of the above loop would look like this:"
   ]
  },
  {
   "cell_type": "code",
   "execution_count": 1,
   "metadata": {},
   "outputs": [
    {
     "name": "stdout",
     "output_type": "stream",
     "text": [
      "a\n",
      "b\n",
      "c\n",
      "d\n",
      "Loop has ended\n"
     ]
    }
   ],
   "source": [
    "myList = [\"a\",\"b\",\"c\",\"d\"]\n",
    "\n",
    "eachLetter = myList[0] # Set eachLetter to the first value in myList\n",
    "print(eachLetter)\n",
    "\n",
    "eachLetter = myList[1] # Set eachLetter to the second value in myList\n",
    "print(eachLetter)\n",
    "\n",
    "eachLetter = myList[2] # Set eachLetter to the third value in myList\n",
    "print(eachLetter)\n",
    "\n",
    "eachLetter = myList[3] # Set eachLetter to the fourth value in myList\n",
    "print(eachLetter)\n",
    "\n",
    "print(\"Loop has ended\")"
   ]
  },
  {
   "cell_type": "markdown",
   "metadata": {},
   "source": [
    "Notice that `eachLetter` is given the value of each successive value in the collection: first it gets `\"a\"` and the loop block is\n",
    "executed, then it gets `\"b\"` and so on.\n",
    "\n",
    "This also illustrates the utility of loops!\n",
    "Not only is a loop more concise, but it's easier to read and less error prone. Imagine having to type out all the indexes\n",
    "in a list that contains 100 elements! Then imagine if you had to change the size of the list... that's a LOT OF WORK!!!\n",
    "\n",
    "Another example of a `for`-each loop:"
   ]
  },
  {
   "cell_type": "code",
   "execution_count": 2,
   "metadata": {},
   "outputs": [
    {
     "name": "stdout",
     "output_type": "stream",
     "text": [
      "The result of myElement 0 multiplied by 2 = 0\n",
      "The result of myElement 1 multiplied by 2 = 2\n",
      "The result of myElement 2 multiplied by 2 = 4\n",
      "The result of myElement 3 multiplied by 2 = 6\n",
      "The result of myElement 4 multiplied by 2 = 8\n",
      "The result of myElement 5 multiplied by 2 = 10\n",
      "The result of myElement 6 multiplied by 2 = 12\n",
      "The result of myElement 7 multiplied by 2 = 14\n",
      "The result of myElement 8 multiplied by 2 = 16\n",
      "The result of myElement 9 multiplied by 2 = 18\n"
     ]
    }
   ],
   "source": [
    "myRange = range(10) # Make a range of integers from 0 to 9 with steps of 1 (0, 1, 2, ..., 9)\n",
    "\n",
    "for myElement in myRange: # for each value (called myElement) in this myRange; do the following:\n",
    "    myResult = myElement * 2\n",
    "    print(f\"The result of myElement {myElement} multiplied by 2 = {myResult}\")  # Print that value"
   ]
  },
  {
   "cell_type": "markdown",
   "metadata": {},
   "source": [
    "Note that, again, we have to use indentation as there is a block of code that is only relevant within the for loop. Let's have a look at the variable `myRange`."
   ]
  },
  {
   "cell_type": "code",
   "execution_count": 5,
   "metadata": {},
   "outputs": [
    {
     "data": {
      "text/plain": [
       "[0, 1, 2, 3, 4, 5, 6, 7, 8, 9]"
      ]
     },
     "execution_count": 5,
     "metadata": {},
     "output_type": "execute_result"
    }
   ],
   "source": [
    "list(myRange)"
   ]
  },
  {
   "cell_type": "markdown",
   "metadata": {},
   "source": [
    "`myRange` has not been changed. \n",
    "\n",
    "A `for`-each loop will always need some _thing_ to loop through. The _thing_ being looped over is called an _iterable_ which is a conceptual grouping of python types that includes lists, tuples, and sets as well as something else we've already seen: `range()` objects.\n",
    "\n",
    "Since a `tuple()` is also an __iterable__, we can use the same approach for looping over tuples:"
   ]
  },
  {
   "cell_type": "code",
   "execution_count": null,
   "metadata": {},
   "outputs": [],
   "source": [
    "myTuple = (\"A\",\"B\",\"C\",\"D\",\"E\",\"F\")\n",
    " \n",
    "for myElement in myTuple:\n",
    "    print(f\"Letter {myElement}\")"
   ]
  },
  {
   "cell_type": "markdown",
   "metadata": {},
   "source": [
    "---\n",
    "\n",
    "### 6.2.1 Looping with `enumerate()`\n",
    "\n",
    "What if we want to access both the value and the index of an element in a `for`-loop?"
   ]
  },
  {
   "cell_type": "code",
   "execution_count": null,
   "metadata": {},
   "outputs": [],
   "source": [
    "myTuple = (\"E\", \"I\", \"E\", \"I\", \"O\")\n",
    "\n",
    "for myElement in myTuple:\n",
    "    # Where am I? Am I working on the first \"I\" or the second one?"
   ]
  },
  {
   "cell_type": "markdown",
   "metadata": {},
   "source": [
    "You could manually iterate over the indexes. You'll first have to find the length of the list and then use range to generate the list of indexes. Then, once you have the indexes, you can slice the corresponding element from the iterable:"
   ]
  },
  {
   "cell_type": "code",
   "execution_count": null,
   "metadata": {},
   "outputs": [],
   "source": [
    "# The iterable stored in a variable\n",
    "myTuple = (\"E\", \"I\", \"E\", \"I\", \"O\")\n",
    "# First find out how many elements there are in the iterable\n",
    "myTupleLength = len(myTuple)\n",
    "\n",
    "# Use the length of the iterable to create an object with numbers ranging from 0 to the length of the iterable (-1)\n",
    "for tupleIndex in range(myTupleLength):\n",
    "    # Slice element from iterable by using the index\n",
    "    myElement = myTuple[tupleIndex]\n",
    "    print(f\"Letter {myElement} is at position {tupleIndex}\")  # Python starts counting at 0. Add 1 if you want to translate it in human-readable code"
   ]
  },
  {
   "cell_type": "markdown",
   "metadata": {},
   "source": [
    "Arguably, this approach is very tedious, especially when things get more complicated. "
   ]
  },
  {
   "cell_type": "markdown",
   "metadata": {},
   "source": [
    "Python has a solution for us, fortunately! `enumerate()` is a built-in function that _enumerates_ the elements of the _iterable_ you're looping over. It gives you a _tuple_ containing the index of the element you're working on and the value of the element itself: `(index, value)`. "
   ]
  },
  {
   "cell_type": "markdown",
   "metadata": {},
   "source": [
    "How does the `enumerate()` function work? The output of `enumerate()` could be summarised in a table as follows:\n",
    "\n",
    "| index | value |\n",
    "|---|---|\n",
    "| 0 | E |\n",
    "| 1 | I |\n",
    "| 2 | E |\n",
    "| 3 | I |\n",
    "| 4 | O |\n",
    "\n",
    "The first output is thus `(0, E)`, the second is `(1, I)`, third one is `(2, E)` and so on. Let's have an example:"
   ]
  },
  {
   "cell_type": "code",
   "execution_count": 6,
   "metadata": {},
   "outputs": [
    {
     "name": "stdout",
     "output_type": "stream",
     "text": [
      "(0, 'E')\n",
      "(1, 'I')\n",
      "(2, 'E')\n",
      "(3, 'I')\n",
      "(4, 'O')\n"
     ]
    }
   ],
   "source": [
    "myTuple = (\"E\", \"I\", \"E\", \"I\", \"O\")\n",
    "for line in enumerate(myTuple):\n",
    "    print(line)"
   ]
  },
  {
   "cell_type": "markdown",
   "metadata": {},
   "source": [
    "When only one argument (`line`) is given, we obtain the tuple containing both the index and the element. "
   ]
  },
  {
   "cell_type": "markdown",
   "metadata": {},
   "source": [
    "A convenient way of exploiting the enumerate function is by _unpacking_ the *enumerate* tuple as we saw at the end of the previous chapter:"
   ]
  },
  {
   "cell_type": "code",
   "execution_count": null,
   "metadata": {},
   "outputs": [],
   "source": [
    "myTuple = (\"E\", \"I\", \"E\", \"I\", \"O\")\n",
    "\n",
    "for index, myElement in enumerate(myTuple):\n",
    "    # the first argument will be the index, the second is the element\n",
    "    print(f\"I'm at {index} and working on {myElement}\")"
   ]
  },
  {
   "cell_type": "markdown",
   "metadata": {},
   "source": [
    "Also here, the names of the variables *index* and *myElement* can be chosen randomly. "
   ]
  },
  {
   "cell_type": "markdown",
   "metadata": {},
   "source": [
    "If, for any reason, you're only interested in extracting one value (index or element), we can unpack the value element to a variable name Python programmers reserve for anything meaning *ignore this*: `_`."
   ]
  },
  {
   "cell_type": "code",
   "execution_count": null,
   "metadata": {},
   "outputs": [],
   "source": [
    "myTuple = (\"E\", \"I\", \"E\", \"I\", \"O\")\n",
    "\n",
    "# Using the ignore-this-element value: _ \n",
    "for line, _ in enumerate(myTuple):\n",
    "    print(line)"
   ]
  },
  {
   "cell_type": "markdown",
   "metadata": {},
   "source": [
    "---\n",
    "\n",
    "### 6.2.2 What's next?\n",
    "What else can we do in a block of code that's being looped over? Well anything you can normally do in Python.\n",
    "\n",
    "For example, what if we want to find out if a number is divisible by another number? In the code below, we will iterate over each value in the list of numbers. If the remainder after division is 0 (comparison is True), we print the number out. "
   ]
  },
  {
   "cell_type": "code",
   "execution_count": null,
   "metadata": {},
   "outputs": [],
   "source": [
    "myNumbers = range(1,50)\n",
    "myDivider = 17\n",
    " \n",
    "for myNumber in myNumbers:\n",
    "    if (myNumber % myDivider) == 0:  # Nothing left after division, so number is divisible.\n",
    "        print(f\"{myNumber} can be divided by {myDivider}!\")"
   ]
  },
  {
   "cell_type": "markdown",
   "metadata": {},
   "source": [
    "In this example, we have two levels of indentation besides the main one; the `if` condition is checked for every\n",
    "value, but the print is only executed for numbers divisible by myDivider."
   ]
  },
  {
   "cell_type": "markdown",
   "metadata": {},
   "source": [
    "---\n",
    "### 6.2.3 Exercise\n",
    "\n",
    "Write a program where you print out all positive numbers up to 1000 that can be divided by 13, or 17, or both. \n",
    "The output should be printed as : `Number 13 is divisible by 13`, or `Number 884 is divisible by 13 and 17`. \n",
    "Iterate through the list of numbers and the dividers by using (two) for-loops; one for the numbers and one for the dividers.\n",
    "\n",
    "---"
   ]
  },
  {
   "cell_type": "code",
   "execution_count": null,
   "metadata": {},
   "outputs": [],
   "source": []
  },
  {
   "cell_type": "markdown",
   "metadata": {},
   "source": [
    "---\n",
    "### 6.2.4 Exercise\n",
    "\n",
    "Write a program where you find, for each positive number up to 50, all numbers that can divide each number. E.g. 16 can be divided by 1, 2, 4, 8 and 16. 17 can be divided by... \n",
    "\n",
    "It's fine if you print the output like this: \n",
    "```\n",
    "Number 1 can be divided by 1!\n",
    "Number 2 can be divided by 1!\n",
    "Number 2 can be divided by 2!\n",
    "Number 3 can be divided by 1!\n",
    "```\n",
    "However, you can also try to print the output like this:\n",
    "```\n",
    "Number 4 can be divided by 1, 2, 4!\n",
    "```\n",
    "\n",
    "---"
   ]
  },
  {
   "cell_type": "code",
   "execution_count": null,
   "metadata": {},
   "outputs": [],
   "source": []
  },
  {
   "cell_type": "code",
   "execution_count": null,
   "metadata": {},
   "outputs": [],
   "source": []
  },
  {
   "cell_type": "markdown",
   "metadata": {},
   "source": [
    "## 6.3 The `while` loop\n",
    "A **while** loop executes its block of code _while_ a condition holds `True`. As long as this condition is evaluated as `True` the loop will continue to execute its block of code. Its structure is very similar to the `for`-each loop we saw above. "
   ]
  },
  {
   "cell_type": "code",
   "execution_count": null,
   "metadata": {},
   "outputs": [],
   "source": [
    "result = 0\n",
    "while result < 10: # Read as: \"while this expression is True\"\n",
    "    # add 1 to the result\n",
    "    result += 1\n",
    "    print(result)"
   ]
  },
  {
   "cell_type": "markdown",
   "metadata": {},
   "source": [
    "This next example is an endless (infinite) loop:\n",
    "FYI, this cell will _never_ terminate by itself. To break the loop, press stop (⏹) button in the toolbar."
   ]
  },
  {
   "cell_type": "code",
   "execution_count": null,
   "metadata": {},
   "outputs": [],
   "source": [
    "i = 0\n",
    "while True:\n",
    "    i += 1"
   ]
  },
  {
   "cell_type": "code",
   "execution_count": null,
   "metadata": {},
   "outputs": [],
   "source": [
    "# How many times did the loop execute before we interrupted it?\n",
    "i"
   ]
  },
  {
   "cell_type": "markdown",
   "metadata": {},
   "source": [
    "`while` loops are more \"powerful\" than for loops, as you can make them end whenever necessary: the loop termination\n",
    "condition is up to you. However, *with great power comes great responsibility*! Use `while` loops carefully!!\n",
    "\n",
    "Can you spot the bugs in the snippets below?"
   ]
  },
  {
   "cell_type": "code",
   "execution_count": null,
   "metadata": {},
   "outputs": [],
   "source": [
    "# Sum numbers 1-10\n",
    "i = 1\n",
    "mysum = 0\n",
    "while i < 10:\n",
    "    mysum += i\n",
    "\n",
    "print(f\"sum of numbers 1-10 is {mysum}\")\n",
    "print(f\"expected sum is 55\")"
   ]
  },
  {
   "cell_type": "code",
   "execution_count": null,
   "metadata": {},
   "outputs": [],
   "source": [
    "# Join strings in a list with commas\n",
    "i = 0\n",
    "myList = [\"Hello\", \"world\"]\n",
    "appended = \"\"\n",
    "while i <= 2:\n",
    "    appended += myList[i] + \",\"\n",
    "    i += 1\n",
    "\n",
    "print(f\"got: {appended}\")\n",
    "print(\"expected: 'Hello,world,'\")"
   ]
  },
  {
   "cell_type": "markdown",
   "metadata": {},
   "source": [
    "### Exercise 6.3.1\n",
    "Can you think of a clearer way to write either (or both) of the above snippets with what you've learned so far?"
   ]
  },
  {
   "cell_type": "code",
   "execution_count": null,
   "metadata": {},
   "outputs": [],
   "source": []
  },
  {
   "cell_type": "code",
   "execution_count": null,
   "metadata": {},
   "outputs": [],
   "source": []
  },
  {
   "cell_type": "markdown",
   "metadata": {},
   "source": [
    "---"
   ]
  },
  {
   "cell_type": "markdown",
   "metadata": {},
   "source": [
    "Here's another example of a pitfall when using `while` loops:"
   ]
  },
  {
   "cell_type": "code",
   "execution_count": null,
   "metadata": {},
   "outputs": [],
   "source": [
    "baseValue = 2\n",
    "powerValue = 1\n",
    "powerResult = 0\n",
    "while powerResult < 1000:\n",
    "    powerResult = baseValue ** powerValue\n",
    "    print(f\"{baseValue} to the power {powerValue} is {powerResult}\")\n",
    "    powerValue += 1 # Add one to itself - this kind of step is crucial in a while loop, or it will be endless!"
   ]
  },
  {
   "cell_type": "markdown",
   "metadata": {},
   "source": [
    "Note that the last value printed is greater than 1000, the while condition is only checked at the start of the loop. You should check where the first result is calculated as this may impact the result!\n",
    "\n",
    "In the corrected version below, the calculations were re-ordered so that the loop condition is evaluated on\n",
    "_the most up-to-date_ computation result. We *initialized* the loop and put the calculation at the very end:\n"
   ]
  },
  {
   "cell_type": "code",
   "execution_count": null,
   "metadata": {},
   "outputs": [],
   "source": [
    "baseValue = 2\n",
    "powerValue = 1\n",
    "powerResult = 0\n",
    "powerResult = baseValue ** powerValue\n",
    "\n",
    "while powerResult < 1000:\n",
    "    print(f\"{baseValue} to the power {powerValue} is {powerResult}\")\n",
    "    powerValue += 1 # Add one to itself - this kind of step is crucial in a while loop, or it will be endless!\n",
    "    powerResult = baseValue ** powerValue"
   ]
  },
  {
   "cell_type": "markdown",
   "metadata": {},
   "source": [
    "---\n",
    "### 6.3.2 Exercise\n",
    "\n",
    "Try to reproduce the for-each loop example of numbers divisible by 17, by using a while-loop.\n",
    "\n",
    "---"
   ]
  },
  {
   "cell_type": "code",
   "execution_count": null,
   "metadata": {},
   "outputs": [],
   "source": []
  },
  {
   "cell_type": "markdown",
   "metadata": {},
   "source": [
    "---\n",
    "### 6.3.3 Exercise\n",
    "\n",
    "Write a program where you start with a list of numbers from 1 to 100, and you then remove every number from this list that can be divided by 3 or by 5. Print the result.  \n",
    "Tip: you have to make a copy of the original list here, otherwise Python will get 'confused' when you remove values from the list while it's looping over it.   \n",
    "\n",
    "---"
   ]
  },
  {
   "cell_type": "code",
   "execution_count": null,
   "metadata": {},
   "outputs": [],
   "source": []
  },
  {
   "cell_type": "markdown",
   "metadata": {},
   "source": [
    "---\n",
    "### 6.3.4 Exercise\n",
    "\n",
    "Write a program where you ask the user for an integer (whole number), and keep on asking if they give the wrong input. Check whether the number can be divided by 7, and print the result.\n",
    "\n",
    "---"
   ]
  },
  {
   "cell_type": "code",
   "execution_count": null,
   "metadata": {},
   "outputs": [],
   "source": []
  },
  {
   "cell_type": "markdown",
   "metadata": {},
   "source": [
    "## 6.4 Zip! The great and powerful!\n",
    "Python has another useful function which allows you to iterate through multiple _iterables_ at the same time.\n",
    "\n",
    "E.g. for two strings, it would look like this:"
   ]
  },
  {
   "cell_type": "code",
   "execution_count": null,
   "metadata": {},
   "outputs": [],
   "source": [
    "x = 'abcde'\n",
    "y = 'fghij'\n",
    "\n",
    "count = 0\n",
    "for i,j in zip(x,y):\n",
    "    count += 1\n",
    "    print(f\"Iteration: {count}. The value i is {i}, and the value j is {j}\")"
   ]
  },
  {
   "cell_type": "markdown",
   "metadata": {},
   "source": [
    "And the principle is practically the same for three (or more) strings. "
   ]
  },
  {
   "cell_type": "code",
   "execution_count": null,
   "metadata": {},
   "outputs": [],
   "source": [
    "x = 'abcde'\n",
    "y = 'fghij'\n",
    "z = 'klmno'\n",
    "\n",
    "count = 0\n",
    "for i,j,k in zip(x,y,z):\n",
    "    count += 1\n",
    "    print(f\"Iteration: {count}. The value i is {i}, the value j is {j} and the value k is {k}\")"
   ]
  },
  {
   "cell_type": "markdown",
   "metadata": {},
   "source": [
    "## 6.5 Chapter Review\n",
    "\n",
    "In this chapter you've learned how to ask the computer to repeat a block of code for you. We also introduced 2 very\n",
    "useful Python functions: `enumerate()` and `zip()`.\n",
    "\n",
    "### Review Questions\n",
    "\n",
    "1. Why is \"looping\" useful?\n",
    "<details>\n",
    "    <summary>&#9654; Answer</summary>\n",
    "    Repeating computations manually is tedious and error prone.\n",
    "</details>\n",
    "\n",
    "\n",
    "2. What is a `for`-each loop used for?\n",
    "<details>\n",
    "    <summary>&#9654; Answer</summary>\n",
    "    Looping over a <em>iterable</em> such as a list, tuple, or <code>zip()</code>.\n",
    "</details>\n",
    "\n",
    "\n",
    "3. What is a `while` loop used for?\n",
    "<details>\n",
    "    <summary>&#9654; Answer</summary>\n",
    "    Looping until some condition is met. May be infinite.\n",
    "</details>\n",
    "\n",
    "\n",
    "4. What is `range()` used for?\n",
    "<details>\n",
    "    <summary>&#9654; Answer</summary>\n",
    "    Creating an interable <em>range</em> of values from a given start point, to a given end point, using a given\n",
    "    step size.\n",
    "</details>\n",
    "\n",
    "\n",
    "5. What is `enumerate()` used for?\n",
    "<details>\n",
    "    <summary>&#9654; Answer</summary>\n",
    "    Assigning an index to, or enumerating, all values in an iterable.\n",
    "</details>\n",
    "\n",
    "\n",
    "6. What is `zip()` used for?\n",
    "<details>\n",
    "    <summary>&#9654; Answer</summary>\n",
    "    Combining multiple iterables into a single iterable.\n",
    "</details>\n",
    "\n",
    "\n",
    "7. What operation **cannot** be performed in the block of code being looped over?\n",
    "<details>\n",
    "    <summary>&#9654; Answer</summary>\n",
    "    None! All Python operations can be performed in a loop.\n",
    "</details>\n",
    "\n",
    "\n",
    "8. Are `for`-each and while loops interchangeable?\n",
    "<details>\n",
    "    <summary>&#9654; Answer</summary>\n",
    "    Yes! A <code>for</code>-each loop can be written as a <code>while</code> loop and vice versa.\n",
    "</details>"
   ]
  },
  {
   "cell_type": "markdown",
   "metadata": {},
   "source": [
    "## 6.6 Next session\n",
    "\n",
    "Go to our [next chapter](07_Wrap_up_exercise.ipynb). "
   ]
  }
 ],
 "metadata": {
  "kernelspec": {
   "display_name": "Python 3",
   "language": "python",
   "name": "python3"
  },
  "language_info": {
   "codemirror_mode": {
    "name": "ipython",
    "version": 3
   },
   "file_extension": ".py",
   "mimetype": "text/x-python",
   "name": "python",
   "nbconvert_exporter": "python",
   "pygments_lexer": "ipython3",
   "version": "3.7.5"
  }
 },
 "nbformat": 4,
 "nbformat_minor": 4
}
