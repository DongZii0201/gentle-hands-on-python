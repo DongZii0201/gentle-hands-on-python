{
 "cells": [
  {
   "cell_type": "markdown",
   "metadata": {},
   "source": [
    "# Repetition is key!\n",
    "\n",
    "> _\"Flat is better than nested.\"_\n",
    ">\n",
    "> -- Zen of Python by Tim Peters\n",
    "\n",
    "A very useful feature of computers is that they can do the same thing over and over again, perfectly, never getting bored.\n",
    "In Python this ability is expressed using a _loop_. Essentially, a loop is a block of code that is repeatedly executed.\n",
    "\n",
    "\n",
    "\n",
    "## 1. The `for`-each loop\n",
    "Now that we understand _collections_ of values (from the previous chapter), you may wish to perform some computation on\n",
    "each value in a collection. This can be achieved by _looping_ over each value one-by-one so that your computation is\n",
    "executed _for each_ value in the collection.\n",
    "\n",
    "Here is an example of to write and use a `for`-each loop to \"count\" up from 1:"
   ]
  },
  {
   "cell_type": "code",
   "execution_count": null,
   "metadata": {},
   "outputs": [],
   "source": [
    "numbers = [1, 2, 3, 4]\n",
    "\n",
    "for number in numbers: # Read as \"for each value (called number) in numbers...\"\n",
    "    print(number)\n",
    "print(\"Loop has ended\")"
   ]
  },
  {
   "cell_type": "markdown",
   "metadata": {},
   "source": [
    "This can be understood by _unrolling_ the loop. The _unrolled_ version of the above loop would look like this:"
   ]
  },
  {
   "cell_type": "code",
   "execution_count": null,
   "metadata": {},
   "outputs": [],
   "source": [
    "numbers = [1, 2, 3, 4]\n",
    "\n",
    "number = numbers[0] # Set number to the first value in numbers\n",
    "print(number)\n",
    "\n",
    "number = numbers[1] # Set number to the second value in numbers\n",
    "print(number)\n",
    "\n",
    "number = numbers[2] # Set number to the third value in numbers\n",
    "print(number)\n",
    "\n",
    "number = numbers[3] # Set number to the fourth value in numbers\n",
    "print(number)\n",
    "\n",
    "print(\"Loop has ended\")"
   ]
  },
  {
   "cell_type": "markdown",
   "metadata": {},
   "source": [
    "Notice that `number` is given the value of each successive value in the collection: first it gets `1` and the loop block is\n",
    "executed, then it gets `2` and so on.\n",
    "\n",
    "This also illustrates the utility of loops!\n",
    "Not only is a loop more concise, but it's easier to read and less error prone. Imagine having to type out all the indexes\n",
    "in a list that contains 100 elements! Then imagine if you had to change the size of the list... that's a LOT OF WORK!!!\n",
    "\n",
    "Lets use our new knowledge of loops to try to play the Fizz Buzz game again. This time, checking each number as we come accross it in a loop.\n",
    "\n",
    "---\n",
    "\n",
    "### Exercise 6-1: Can we play Fizz Buzz yet?\n",
    "Write a function to play the fizzbuzz game up to `15`. You function should accept no arguments and return a list starting at `1` that tracks the progress of a game of Fizz Buzz.\n",
    "\n",
    "That is, your function should use a loop to produce this list: `[1, 2, 'Fizz', 4, 'Buzz', 'Fizz', 7, 8, 'Fizz', 'Buzz', 11, 'Fizz', 13, 14, 'Fizz Buzz']`"
   ]
  },
  {
   "cell_type": "code",
   "execution_count": null,
   "metadata": {},
   "outputs": [],
   "source": [
    "def fizzbuzz5():\n",
    "    game = []\n",
    "    for number in _:\n",
    "        _\n",
    "    \n",
    "    return game\n",
    "\n",
    "assert fizzbuzz() == [1, 2, 'Fizz', 4, 'Buzz', 'Fizz', 7, 8, 'Fizz', 'Buzz', 11, 'Fizz', 13, 14, 'Fizz Buzz'], \"Output is not correct :(\"\n",
    "fizzbuzz()"
   ]
  },
  {
   "cell_type": "markdown",
   "metadata": {},
   "source": [
    "---\n",
    "\n",
    "**What!?** I just told you that loops allow you to do things repeatedly without having to type out every single case... and yet that's exactly what you just did! Didn't you?\n",
    "\n",
    "Well yes and no. You didn't write out 15 `if`/`elif`/`else` blocks which is a win. But you did have to list the entire series of numbers that were used to play the game.\n",
    "What if you wanted to count to `100` or `1000`, would you have to type out `1000` numbers accurately? Thankfully no, this is a perfect opportunity to introduce another helpful\n",
    "little function from the standard library.\n",
    "\n",
    "## 2. Generating a `range()` of numbers\n",
    "The `range()` function, which reflects the arguments for slicing, accepts 3 arguments...\n",
    "\n",
    "```python\n",
    ">>> help(range)\n",
    "class range(object)\n",
    " |  range(stop) -> range object\n",
    " |  range(start, stop[, step]) -> range object\n",
    " |  \n",
    " |  Return an object that produces a sequence of integers from start (inclusive)\n",
    " |  to stop (exclusive) by step.  range(i, j) produces i, i+1, i+2, ..., j-1.\n",
    " |  start defaults to 0, and stop is omitted!  range(4) produces 0, 1, 2, 3.\n",
    " |  These are exactly the valid indices for a list of 4 elements.\n",
    " |  When step is given, it specifies the increment (or decrement).\n",
    "```\n",
    "\n",
    "You can put a call to `range()` directly into a `for`-each loop like this..."
   ]
  },
  {
   "cell_type": "code",
   "execution_count": null,
   "metadata": {},
   "outputs": [],
   "source": [
    "for val in range(10):\n",
    "    print(val)"
   ]
  },
  {
   "cell_type": "code",
   "execution_count": null,
   "metadata": {},
   "outputs": [],
   "source": [
    "for val in range(5, 10):\n",
    "    print(val)"
   ]
  },
  {
   "cell_type": "code",
   "execution_count": null,
   "metadata": {},
   "outputs": [],
   "source": [
    "for val in range(1, 30, 3):\n",
    "    print(val)"
   ]
  },
  {
   "cell_type": "code",
   "execution_count": null,
   "metadata": {},
   "outputs": [],
   "source": [
    "for val in range(9, 0, -1):\n",
    "    print(val)"
   ]
  },
  {
   "cell_type": "markdown",
   "metadata": {},
   "source": [
    "---\n",
    "\n",
    "### Exercise 6-2: Let's play Fizz Buzz\n",
    "Finally, we have all of the tools we need to write a concise program to play Fizz Buzz. Write a function called `fizzbuzz6` that takes an integer argument which is the number to count up to and returns a list starting at 1 tracking the progress of playing the Fizz Buzz game."
   ]
  },
  {
   "cell_type": "code",
   "execution_count": null,
   "metadata": {},
   "outputs": [],
   "source": [
    "def fizzbuzz6(end):\n",
    "    \"Play Fizz Buzz\"\n",
    "    ...\n",
    "\n",
    "assert fizzbuzz6(0) == []\n",
    "assert fizzbuzz6(2) == [1, 2]\n",
    "assert fizzbuzz6(5) == [1, 2, 'Fizz', 4, 'Buzz']\n",
    "assert fizzbuzz6(15) == [1, 2, 'Fizz', 4, 'Buzz', 'Fizz', 7, 8, 'Fizz', 'Buzz', 11, 'Fizz', 13, 14, 'Fizz Buzz']\n",
    "\n",
    "fizzbuzz6(30)"
   ]
  },
  {
   "cell_type": "markdown",
   "metadata": {},
   "source": [
    "Although this is the last time we will look at the Fizz Buzz game, it is useful to reflect on your final implementation. What is good about it? What could be improved? How easy\n",
    "is it to change if requirements change (say if we add the 3$^{rd}$ condition on multiples of `7`)?"
   ]
  },
  {
   "cell_type": "markdown",
   "metadata": {},
   "source": [
    "---\n",
    "\n",
    "In the next section we will introduce a new problem upon which we can focus our efforts. However, for the remainder of this chapter lets practise our new looping skills and become\n",
    "acquanted with another useful member of the Python standard library.\n",
    "\n",
    "---\n",
    "### Exercise 6-3: Factorial\n",
    "Write a function that computes the factorial of its argument.\n",
    "\n",
    "$$n! = n \\cdot (n - 1) \\cdot (n - 3) \\cdot \\ldots \\cdot 3 \\cdot 2 \\cdot 1$$"
   ]
  },
  {
   "cell_type": "code",
   "execution_count": null,
   "metadata": {},
   "outputs": [],
   "source": [
    "def myfactorial(number):\n",
    "    _\n",
    "\n",
    "assert myfactorial(0) == 1, f\"Expected 1, got: {myfactorial(0)}\"\n",
    "assert myfactorial(1) == 1, f\"Expected 1, got: {myfactorial(1)}\"\n",
    "assert myfactorial(2) == 2, f\"Expected 2, got: {myfactorial(2)}\"\n",
    "assert myfactorial(5) == 120, f\"Expected 120, got: {myfactorial(5)}\""
   ]
  },
  {
   "cell_type": "markdown",
   "metadata": {},
   "source": [
    "---\n",
    "### Exercise 6-4: Summing numbers\n",
    "Below is the definition of a function to sum numbers from 1 to the argument. You have 2 tasks:\n",
    "\n",
    "1. Identify and fix the bug(s) using techniques you have explored so far.\n",
    "1. Find the Python standard library function that does the same or similar thing (Hint: you can look through [this list](https://docs.python.org/3/library/functions.html))."
   ]
  },
  {
   "cell_type": "code",
   "execution_count": null,
   "metadata": {},
   "outputs": [],
   "source": [
    "def mysum(end):\n",
    "    \"Sum numbers [1-end] inclusive\"\n",
    "    total = 0\n",
    "    for number in range(end):\n",
    "        total = number\n",
    "    \n",
    "    return total"
   ]
  },
  {
   "cell_type": "markdown",
   "metadata": {},
   "source": [
    "---\n",
    "\n",
    "### Exercise 6-5: Join strings\n",
    "Once again, below is the deefinition of a function that takes a list of strings and joins them into a single string with comma seperators.\n",
    "\n",
    "Here are 2 examples of the expected output:\n",
    "```python\n",
    ">>> myjoin([\"hello\", \"world\"])\n",
    "\"hello,world\"\n",
    "\n",
    ">>> myjoin([\"sample1\", \"0.5\"])\n",
    "\"sample1,0.5\"\n",
    "```\n",
    "\n",
    "Your task is to identify and fix the bug(s) using techniques you have explored so far. The Python function to do this looks like, `','.join(strings)`."
   ]
  },
  {
   "cell_type": "code",
   "execution_count": null,
   "metadata": {
    "tags": []
   },
   "outputs": [],
   "source": [
    "def myjoin(strings):\n",
    "    joined = \"\"\n",
    "    for string in strings:\n",
    "        joined += string + \",\"\n"
   ]
  },
  {
   "cell_type": "markdown",
   "metadata": {},
   "source": [
    "---\n",
    "\n",
    "## 3. Zip! The great and powerful!\n",
    "Python has another useful function which allows you to loop through multiple collections at the same time: `zip()`. So what does using `zip()` look like?\n",
    "\n",
    "```python\n",
    ">>> list(zip(\"ABC\", [1, 2, 3]))\n",
    "[('A', 1), ('B', 2), ('C', 3)]\n",
    "```\n",
    "\n",
    "In this example we're zipping a `str` collection with a `list` collection. The first element of the first collection is paired with the first element of the second collection.\n",
    "You can do this with more collections too:\n",
    "\n",
    "```python\n",
    ">>> list(zip((1.0, 1.5, 2.3), [-1, 0, 1], \"ABC\"))\n",
    "[(1.0, -1, 'A'), (1.5, 0, 'B'), (2.3, 1, 'C')]\n",
    "```\n",
    "\n",
    "How is this useful? Consider this problem: compute the sequence identity given 2 arbitrary sequences of the same length.\n",
    "\n",
    "<details>\n",
    "    <summary>What is sequence identity?</summary>\n",
    "    In this case, sequence identity is the fraction of positions (columns when placing one sequence above the other) with identical bases or residues.\n",
    "</details>\n",
    "<br/>\n",
    "\n",
    "Here is one possible way to write this function given what we already know:"
   ]
  },
  {
   "cell_type": "code",
   "execution_count": null,
   "metadata": {},
   "outputs": [],
   "source": [
    "def sequence_identity1(seqA, seqB):\n",
    "    size = min(len(seqA), len(seqB))\n",
    "    mismatches = 0\n",
    "    for index in range(size):\n",
    "        if seqA[index] != seqB[index]:\n",
    "            mismatches += 1\n",
    "    \n",
    "    return 1.0 - (mismatches / size)\n",
    "\n",
    "assert sequence_identity1(\"A\", \"A\") == 1.0\n",
    "assert sequence_identity1(\"A\", \"B\") == 0.0\n",
    "assert sequence_identity1(\"AB\", \"AC\") == 0.5"
   ]
  },
  {
   "cell_type": "markdown",
   "metadata": {},
   "source": [
    "Using the `zip()` function allows this concept to be expressed more concisely and clearly:"
   ]
  },
  {
   "cell_type": "code",
   "execution_count": null,
   "metadata": {},
   "outputs": [],
   "source": [
    "def sequence_identity(seqA, seqB):\n",
    "    size = min(len(seqA), len(seqB))\n",
    "    mismatches = 0\n",
    "    for col in zip(seqA, seqB):\n",
    "        mismatches += (col[0] != col[1])\n",
    "\n",
    "    return 1.0 - (mismatches / size)\n",
    "\n",
    "assert sequence_identity(\"A\", \"A\") == 1.0\n",
    "assert sequence_identity(\"A\", \"B\") == 0.0\n",
    "assert sequence_identity(\"AB\", \"AC\") == 0.5"
   ]
  },
  {
   "cell_type": "markdown",
   "metadata": {},
   "source": [
    "---\n",
    "### Exercise 6-6: Hamming distance\n",
    "\n",
    "The Hamming distance between two strings of equal length is the number of positions at which the corresponding characters are different. In a more general context, the Hamming distance is one of several string metrics for measuring the _distance_ between two sequences. \n",
    "\n",
    "For example, the Hamming distance between:\n",
    "\n",
    "\"karolin\" and \"kathrin\" is 3.\n",
    "\n",
    "Write a function called \"hamming_distance\" which accepts two strings and returns the calculated hamming distance. If the lengths of the two strings is unequal, return the value None. "
   ]
  },
  {
   "cell_type": "code",
   "execution_count": null,
   "metadata": {},
   "outputs": [],
   "source": [
    "def hamming_distance(string1, string2): \n",
    "    \"\"\"Return the Hamming distance between equal-length sequences.\"\"\"\n",
    "    ...\n",
    "\n",
    "seq1 = \"GATCATAGA\"\n",
    "seq2 = \"CATCATACA\"\n",
    "print(hamming_distance(seq1,seq2))\n",
    "\n",
    "assert hamming_distance(seq1,seq2) == 2, f\"Expected 2, got: {hamming_distance(seq1,seq2)}\""
   ]
  },
  {
   "cell_type": "markdown",
   "metadata": {},
   "source": [
    "---\n",
    "\n",
    "### Exercise 6-7: Associating data\n",
    "You're given a list containing some names and a corresponding list containing their rank by popularity.\n",
    "Write a function that takes a name as its argument, the behaviour of the function depends on 3 conditions:\n",
    "* If the name is in the `names` list and in the top 20 most popular names: Return a 2-tuple containing the name and rank (E.g. if the argument is \"Elise\", your function should return `(\"Elise\", 14)`)\n",
    "* If the name is in the `names` list but not in the top 20 most popular names: Return the name reversed (E.g. if the argument is \"Alexander\", your function should return \"rednaxelA\")\n",
    "* Otherwise, return the name followed by the string `\" is great at Python!\"` (E.g. if the argument is \"Hannah\", your function should return \"Hannah is great at Python!\")\n",
    "\n",
    "    <!-- Data from: https://www.behindthename.com/top/lists/belgium -->"
   ]
  },
  {
   "cell_type": "code",
   "execution_count": null,
   "metadata": {},
   "outputs": [],
   "source": [
    "names = [\"Marie\", \"Lucas\", \"Viktor\", \"Elise\", \"Lotte\", \"Hugo\", \"Emma\", \"Elena\", \"Julia\", \"Maxime\", \"Alexander\", \"Tuur\", \"Nina\", \"James\"]\n",
    "ranks = [7,       6,       65,       14,      46,      15,     1,      7,       26,      37,       36,          73,     25,     87]\n",
    "\n",
    "def baby_name(name):\n",
    "    ...\n",
    "\n",
    "assert baby_name(\"Elise\") == ('Elise', 14), f\"Expected ('Elise', 14), got: {baby_name('Elise')}\"\n",
    "assert baby_name(\"Alexander\") == 'rednaxelA', f\" Expected 'rednaxelA', got: {baby_name('Alexander')}\"\n",
    "assert baby_name(\"Hannah\") == \"Hannah is great at Python!\", f\"Expected 'Hannah is great at Python!', got: {baby_name('Hannah')}\"\n",
    "assert baby_name(\"Elena\") == ('Elena', 7), f\"Expected ('Elena', 7), got: {baby_name('Elena')}\""
   ]
  },
  {
   "cell_type": "markdown",
   "metadata": {},
   "source": [
    "---\n",
    "\n",
    "## 4. Chapter Review\n",
    "\n",
    "Congratulations! By now you understand enough Python to tackle complex and interesting problems. Hopefully you noticed the exercises are becoming more interesting. Keep practicing\n",
    "and your confidence and ability to solve problems can only improve.\n",
    "\n",
    "In this chapter you've learned how to ask the computer to repeat a block of code for you using a `for`-each loop. You also learned about 2 useful Python standard library functions:\n",
    "`range()` and `zip()`. This chapter you also finally played a satisfying game of Fizz Buzz. You also critiqued your solution which, like critiquing documents written using a natural\n",
    "language, can be useful to improve your skills.\n",
    "\n",
    "In the next chapter we will move beyond frivolous games of Fizz Buzz onto a more serious project.\n",
    "\n",
    "### Review Questions\n",
    "\n",
    "1. Why is \"looping\" useful?\n",
    "<details>\n",
    "    <summary>Answer</summary>\n",
    "    Manually repeating computations is tedious and error prone. Try not to repeat yourself, computers are much better at it.\n",
    "</details>\n",
    "\n",
    "1. What is a `for`-each loop used for?\n",
    "<details>\n",
    "    <summary>Answer</summary>\n",
    "    Repeating operations on each element of a <em>collection</em> such as a list or tuple.\n",
    "</details>\n",
    "\n",
    "1. What is `range()` used for?\n",
    "<details>\n",
    "    <summary>Answer</summary>\n",
    "    Save us typing out a range of numbers in a <code>for</code>-each loop. A <em>range</em> has a given start point, to a given end point, and uses a given\n",
    "    step size.\n",
    "</details>\n",
    "\n",
    "1. What is `zip()` used for?\n",
    "<details>\n",
    "    <summary>Answer</summary>\n",
    "    Combining multiple collections into a single collection.\n",
    "</details>\n",
    "\n",
    "1. What operation **cannot** be performed in the block of code being looped over?\n",
    "<details>\n",
    "    <summary>Answer</summary>\n",
    "    None! All Python operations can be performed in a loop. But <b>be careful</b>: NEVER mofify the list it'er looping over.\n",
    "</details>"
   ]
  },
  {
   "cell_type": "markdown",
   "metadata": {},
   "source": [
    "## 5. Supporting material\n",
    "* [Automate the Boring Stuff with Python, Chapter 2](https://realpython.com/python-for-loop/)\n",
    "* [Automate the Boring Stuff with Python video course, Lesson 14](https://youtu.be/umTnflPbYww)\n",
    "* [Real Python: For loop](https://realpython.com/python-for-loop/)\n",
    "\n",
    "## 6. Next session\n",
    "\n",
    "Go to our [next chapter](07_Dictionaries.ipynb). "
   ]
  }
 ],
 "metadata": {
  "kernelspec": {
   "display_name": "Python 3",
   "language": "python",
   "name": "python3"
  },
  "language_info": {
   "codemirror_mode": {
    "name": "ipython",
    "version": 3
   },
   "file_extension": ".py",
   "mimetype": "text/x-python",
   "name": "python",
   "nbconvert_exporter": "python",
   "pygments_lexer": "ipython3",
   "version": "3.9.2"
  }
 },
 "nbformat": 4,
 "nbformat_minor": 4
}
