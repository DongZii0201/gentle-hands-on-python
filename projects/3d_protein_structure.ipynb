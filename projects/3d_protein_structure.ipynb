{
 "cells": [
  {
   "cell_type": "markdown",
   "id": "interested-colors",
   "metadata": {},
   "source": [
    "# Course Project: Draw a protein structure in 3D\n",
    "\n",
    "In this project you will plot the backbone structure of proteins in 3D. To do this you will fatch PDB data from PDBe (Protein Data Bank Europe), parse the data, and use the [matplotlib]() library to plot the backbone structure from $C_{\\alpha}$ atoms.\n",
    "\n",
    "Along the way, you will use all of the techniques you learned during the course, but don't worry: the project progresses at the same pace as the course. You can already start making useful progress after the first day. During the course you will have the opportunity to work on the project.\n",
    "\n",
    "---\n",
    "\n",
    "## Software prerequisites\n",
    "\n",
    "This project involves plotting so we need a couple of plotting related libraries to be installed.\n",
    " * [Matplotlib](https://matplotlib.org/) A general purpose visualisation library for Python\n",
    " * [ipympl](https://github.com/matplotlib/ipympl) Matplotlib Jupyter integration\n",
    "\n",
    "Please ask your instructors for help installing these with Anaconda Navigator or the `pip` command.\n",
    "\n",
    "---\n",
    "\n",
    "## Background\n",
    "\n",
    "[Proteins](https://en.wikipedia.org/wiki/Protein) are made from _chains_ of amino acids. Each amino acid is distinguished by a _side chain_ but share a common, repeating [_backbone_](https://foldit.fandom.com/wiki/Protein_backbone) structure. The central carbon atom of each amino acid backbone can be taken as representative of that amino acid and used to draw line segments. This is what you will do in this project.\n",
    "\n",
    "![Amino acid structure](https://bio.libretexts.org/@api/deki/files/16705/peptide_bond.png)\n",
    "Source: https://bio.libretexts.org/Courses/University_of_California_Davis/BIS_2A%3A_Introductory_Biology_-_Molecules_to_Cell/MASTER_RESOURCES/Proteins\n",
    "\n",
    "There are now several formats used for storage and interchange of protein structure data, the oldest (and easiest to parse) is the [Brookhaven Protein Data Bank](https://www.wwpdb.org/documentation/file-format-content/format33/v3.3.html) file format. This format was designed in the 1970's for use with paper punched cards.\n",
    "\n",
    "![Punched card](https://swift.cmbi.umcn.nl/teach/B1M/IMAGE/pc1.jpg)\n",
    "Source: https://swift.cmbi.umcn.nl/teach/B1M/BIOINF_4.html\n",
    "\n",
    "\n",
    "Here is an example of a PDB record for a single atom:\n",
    "\n",
    "> ```\n",
    "> 1   5    10        20       30        40        50        60        70\n",
    "> ATOM    278  CA  THR A  38       6.008  -5.254 -13.600  1.00 33.49           C  \n",
    "> ```\n",
    "\n",
    "You can read this letter-by-letter (or actually column-by-column). Above the PDB record I've lebeled some column numbers.\n",
    "* Columns 1-6 is the record name, in this case `ATOM`.\n",
    "* Column 22 is the chain name, in this case `A`.\n",
    "* Columns 13-16 is the atom name, in this case `CA` which means this is a $C_\\alpha$ atom.\n",
    "* Columns 31-38 is the $x$ coordinate.\n",
    "* Columns 39-46 is the $y$ coordinate.\n",
    "* Columns 47-54 is the $z$ coordinate.\n",
    "\n",
    "The records for a whole backbone of a single amino acid might look like this:\n",
    "\n",
    "```\n",
    "ATOM    270  N   PRO A  37       9.573  -6.468 -11.879  1.00 36.70           N  \n",
    "ATOM    271  CA  PRO A  37       9.555  -6.634 -13.332  1.00 31.03           C  \n",
    "ATOM    272  C   PRO A  37       8.253  -6.068 -13.942  1.00 29.37           C  \n",
    "ATOM    273  O   PRO A  37       8.081  -5.921 -15.152  1.00 34.30           O  \n",
    "ATOM    274  CB  PRO A  37       9.656  -8.129 -13.521  1.00 25.97           C  \n",
    "```\n",
    "\n",
    "This Amino Acid is a \"Proline\", it's the 37th residue in the 'A' chain.\n",
    "\n",
    "---\n",
    "\n",
    "## Part 1: Parsing Brookhaven PDB formatted data\n",
    "\n",
    "The first step in this project is to extract coordinates from a PDB formatted data. Let's start off by writing a predicate to detect \"ATOM\" records. A _predicate_ is a function that returns a boolean value: it answers a question. Here is an example of a predicate:\n",
    "\n",
    "```python\n",
    "def is_string_empty(string):\n",
    "    return len(string) == 0\n",
    "```\n",
    "\n",
    "Write a predicate function, using the template below, that takes 1 argument and returns `True` when that argument is a string that contains \"ATOM\"."
   ]
  },
  {
   "cell_type": "code",
   "execution_count": null,
   "id": "9a618f6b-dcd9-45a0-81c2-9a4259c7e267",
   "metadata": {},
   "outputs": [],
   "source": [
    "def is_atom(record_id):\n",
    "    \"Predicate: True if record_id is for an ATOM record\"\n",
    "    if _:\n",
    "        return True\n",
    "    \n",
    "    return False\n",
    "\n",
    "# Test your implementation here\n",
    "assert is_atom('ATOM') == True, f\"I expected True, got {is_atom('ATOM')}\"\n",
    "assert is_atom('REMARK') == False, f\"I expected False, got {is_atom('REMARK')}\"\n",
    "assert is_atom('ATOM ') == True, f\"I expected True, got {is_atom('ATOM ')}\"\n",
    "assert is_atom('ATOM  ') == True, f\"I expected True, got {is_atom('ATOM  ')}\""
   ]
  },
  {
   "cell_type": "markdown",
   "id": "984fda5e-7fed-4d5b-be4f-033ab8d07ce4",
   "metadata": {},
   "source": [
    "You're welcome to modify the template above if you believe you can write the function more clearly or more concisely.\n",
    "\n",
    "We also need a predicate to check if a record is for $C_\\alpha$ atoms. Fill in the template for `is_ca()` below."
   ]
  },
  {
   "cell_type": "code",
   "execution_count": null,
   "id": "e3f25ed3-3e49-4380-b8ab-000663096917",
   "metadata": {},
   "outputs": [],
   "source": [
    "def is_ca(atom_name):\n",
    "    \"Predicate: True if ATOM is a CA\"\n",
    "    ...\n",
    "\n",
    "# Test your implementation here\n",
    "assert is_ca('CA') == True, f\"I expected True, got {is_ca('ATOM')}\"\n",
    "assert is_ca(' N  ') == False, f\"I expected False, got {is_ca('REMARK')}\"\n",
    "assert is_ca(' CA ') == True, f\"I expected True, got {is_ca('ATOM ')}\""
   ]
  },
  {
   "cell_type": "markdown",
   "id": "1407a04c-01ea-4533-9880-47f68e42e00b",
   "metadata": {},
   "source": [
    "Well done! Finally, we need a predicate to detect if an atom is in the chain we're interested in. This one will be a little different because now we need to accept 2 arguments: the chain we want, and the chain in the record. For example, we want chain 'A' but we're looking at a record in chain 'C'. Fill in the template below and make sure it passes the test cases."
   ]
  },
  {
   "cell_type": "code",
   "execution_count": null,
   "id": "f0d7ed8c-5f7f-458a-9876-a34e2604e8d1",
   "metadata": {},
   "outputs": [],
   "source": [
    "def is_in_chain(wanted_chain_id, observed_chain_id):\n",
    "    \"Predicate: True if observed_chain_id is the same as observed_chain_id\"\n",
    "    ...\n",
    "\n",
    "# Test your implementation here\n",
    "assert is_in_chain('A', 'A') == True, f\"I expected True, got {is_in_chain('A', 'A')}\"\n",
    "assert is_in_chain('A', 'C') == False, f\"I expected False, got {is_in_chain('A', 'C')}\"\n",
    "assert is_in_chain('1', ' 1 ') == True, f\"I expected True, got {is_in_chain('1', ' 1 ')}\"\n",
    "assert is_in_chain('D', ' D') == True, f\"I expected True, got {is_in_chain('D', ' D')}\"\n",
    "assert is_in_chain('D', ' A') == False, f\"I expected False, got {is_in_chain('D', ' A')}\""
   ]
  },
  {
   "cell_type": "markdown",
   "id": "3dc2f03c-0c73-4350-adc0-1e985cc49940",
   "metadata": {},
   "source": [
    "---\n",
    "\n",
    "## Part 2: More parsing Brookhaven PDB formatted data\n",
    "\n",
    "In the last part you wrote predicates that will allow you to _filter_ only the records you're interested in. Today we will do that and extract the atomic $x$, $y$, $z$ coordinates.\n",
    "\n",
    "Here is some example data for you to parse:"
   ]
  },
  {
   "cell_type": "code",
   "execution_count": null,
   "id": "3643e630-8352-48df-9e82-2f8afe9b9e01",
   "metadata": {},
   "outputs": [],
   "source": [
    "example = \"\"\"HEADER    OXYGEN TRANSPORT                        10-JUN-83   1HHO              \n",
    "TITLE     STRUCTURE OF HUMAN OXYHAEMOGLOBIN AT 2.1 ANGSTROMS RESOLUTION         \n",
    "ATOM      1  N   VAL A   1       5.287  16.725   4.830  1.00 77.31           N  \n",
    "ATOM      2  CA  VAL A   1       5.776  17.899   5.595  1.00 70.91           C  \n",
    "ATOM      3  C   VAL A   1       7.198  18.266   5.104  1.00 81.71           C  \n",
    "ATOM      4  O   VAL A   1       7.301  19.067   4.161  1.00 77.16           O  \n",
    "ATOM      5  CB  VAL A   1       5.498  17.697   7.118  1.00 51.33           C  \n",
    "ATOM      6  CG1 VAL A   1       6.457  16.822   7.917  1.00 78.39           C  \n",
    "ATOM      7  CG2 VAL A   1       5.211  18.976   7.922  1.00 48.23           C  \n",
    "ATOM      8  N   LEU A   2       8.272  17.653   5.632  1.00 67.33           N  \n",
    "ATOM      9  CA  LEU A   2       9.698  18.050   5.442  1.00 27.11           C  \n",
    "ATOM     10  C   LEU A   2      10.047  19.267   6.283  1.00 33.71           C  \n",
    "ATOM     11  O   LEU A   2       9.566  20.404   6.099  1.00 55.97           O  \n",
    "ATOM     12  CB  LEU A   2      10.129  18.317   4.001  1.00 30.38           C  \n",
    "ATOM     13  CG  LEU A   2      10.208  17.036   3.175  1.00 29.73           C  \n",
    "ATOM     14  CD1 LEU A   2      10.270  17.355   1.684  1.00 58.48           C  \n",
    "ATOM     15  CD2 LEU A   2      11.398  16.220   3.605  1.00 47.81           C  \n",
    "\"\"\""
   ]
  },
  {
   "cell_type": "code",
   "execution_count": null,
   "id": "56a70c84-2816-4d6e-bdee-ddafec609c83",
   "metadata": {},
   "outputs": [],
   "source": []
  },
  {
   "cell_type": "markdown",
   "id": "31bfbce6-c2ca-49f6-9b19-5da02c6ec497",
   "metadata": {},
   "source": [
    "Use the above code cell to explore this data a little. Do you notice that each record is smooshed together? Our first task will be to seperate the records. Thankfully records are delimited by _newline_ characters (you can write these in strings like `\"\\n\"`). Write and test a function below to split out records from the example input."
   ]
  },
  {
   "cell_type": "code",
   "execution_count": null,
   "id": "f94d2606-3a48-494a-826d-a305ee03420d",
   "metadata": {},
   "outputs": [],
   "source": [
    "def split_records(pdb):\n",
    "    \"Take raw PDB formatted text and extract records.\"\n",
    "    return pdb.split(_)\n",
    "\n",
    "# Test your implementation here\n",
    "assert len(split_records(example)) == 17, f\"I expected 17, got {len(split_records(example))}\""
   ]
  },
  {
   "cell_type": "markdown",
   "id": "baac31c9-4283-4855-95e8-7c2af1aa3b79",
   "metadata": {},
   "source": [
    "Excellent! Now that we can look at individual records it's time to filter the records using the predicates you wrote last time. Write a function called `filter_records()` below that uses your predicates. This function should accept the list of records from `split_records()` and the chain identifier you're interested in as an arguments and return a list of records that satisfy the predicates."
   ]
  },
  {
   "cell_type": "code",
   "execution_count": null,
   "id": "92abaf7c-ffe3-47e5-a19b-789038472d1a",
   "metadata": {},
   "outputs": [],
   "source": [
    "def filter_records(records, chain):\n",
    "    \"Filter input records for those that are CA ATOMs in chain\"\n",
    "    _\n",
    "    for record in _:\n",
    "        record_id = record[:6]\n",
    "        chain_id = record[21]\n",
    "        atom_name = record[46:54]\n",
    "        if is_atom(_) and is_ca(_) and is_in_chain(chain, _):\n",
    "            _\n",
    "    return _\n",
    "\n",
    "#  Test your implementation here\n",
    "assert len(filter_records(split_records(example), 'A')) == 2, f\"I expected 2, got {len(filter_records(split_records(example), 'A'))}\"\n",
    "assert filter_records([split_records(example)[0]], 'A') == [], f\"I expected [], got {filter_records([split_records(example)[0]], 'A')}\"\n",
    "assert filter_records(split_records(example), 'B') == [], f\"I expected [], got {filter_records(split_records(example), 'B')}\"\n",
    "assert filter_records(split_records(example)[:5], 'A') == \"ATOM      2  CA  VAL A   1       5.776  17.899   5.595  1.00 70.91           C  \", f\"I expected ATOM      2  CA  VAL A   1       5.776  17.899   5.595  1.00 70.91           C  , got {filter_records(split_records(example)[:5], 'A')}\""
   ]
  },
  {
   "cell_type": "markdown",
   "id": "30b691d8-77e0-4472-81eb-0a3432113a0a",
   "metadata": {},
   "source": [
    "You've almost finished parsing the data! Only 1 thing left to do now that you have a list of only the records you're interested in: extract the coordinates :)\n",
    "\n",
    "Write a function below that takes a list of records as an argument and returns a list of tuples containing coordinates like: $[(x_1. y_1, z_1), (x_2, y_2, z_2), ..., (x_n, y_n, z_n)]$"
   ]
  },
  {
   "cell_type": "code",
   "execution_count": null,
   "id": "38677fae-f756-4e8a-b8af-e2a2d770c03f",
   "metadata": {},
   "outputs": [],
   "source": [
    "def extract_coordinates(records):\n",
    "    \"Extract 3D coordinate values from filtered PDB records\"\n",
    "    coords = []\n",
    "    for record in _:\n",
    "        x = _(record[30:38])\n",
    "        y = _(record[38:46])\n",
    "        z = _(record[46:54])\n",
    "        _\n",
    "    _\n",
    "\n",
    "#  Test your implementation here\n",
    "from solutions.pdb import compare_coordinate_lists\n",
    "expected = [(5.776, 17.899, 5.595), (9.698, 18.050, 5.442)]\n",
    "assert all(compare_coordinate_lists(extract_coordinates(filter_records(split_records(example), 'A')), expected)), f\"I expected {expected}, got {extract_coordinates(filter_records(split_records(example), 'A'))}\""
   ]
  },
  {
   "cell_type": "markdown",
   "id": "c54e66c9-61db-4978-bdb9-72d9c4609337",
   "metadata": {},
   "source": [
    "Well done! You've now finished parsing data :) And given you've passed all of the test cases you can be reasonably confident that your code is correct.\n",
    "\n",
    "---\n",
    "\n",
    "## Part 3: Plotting the 3D coordinates\n",
    "\n",
    "Finally! You've finished wrangling data. It's time for the pay off :) Today you'll finish up by fetching PDB data from the internet and ploting it with matplotlib. Make sure you run the following code cell without editing it so that plots will display nice and interactively in the notebook..."
   ]
  },
  {
   "cell_type": "code",
   "execution_count": null,
   "id": "ab90b866-6612-48ee-9c6a-0d2724452c20",
   "metadata": {},
   "outputs": [],
   "source": [
    "%matplotlib widget"
   ]
  },
  {
   "cell_type": "markdown",
   "id": "7d1c6412-bb8e-4532-8efd-ddb2eca2d007",
   "metadata": {},
   "source": [
    "Then we'll import the libraries we need..."
   ]
  },
  {
   "cell_type": "code",
   "execution_count": null,
   "id": "71490529-9bde-4dcf-b5a2-f049e855e1cc",
   "metadata": {},
   "outputs": [],
   "source": [
    "from urllib import request # For getting PDB data over the internet\n",
    "\n",
    "import matplotlib.pyplot as plt # For plotting"
   ]
  },
  {
   "cell_type": "markdown",
   "id": "64c8a0c2-327a-4bfb-8ece-beb14f702e5a",
   "metadata": {},
   "source": [
    "Let's start by writing the function to download PDB data over the internet. We can use the Protein Data Bank Europe repository for this. The URL Template looks like this:\n",
    "\n",
    "<pre>\n",
    "<span style=\"color:blue;\">https://www.ebi.ac.uk/pdbe/entry-files/download/pdb</span><span style=\"color:black;\">$PDBID</span><span style=\"color:blue;\">.ent</span>\n",
    "</pre>\n",
    "\n",
    "You should replace the `$PDBID` part with a valid PDB accession code in _lower case_. Here are a few examples:\n",
    "* [1HHO](https://www.ebi.ac.uk/pdbe/entry/pdb/1hho): Human Oxyhaemoglobin\n",
    "* [1MAZ](https://www.ebi.ac.uk/pdbe/entry/pdb/1maz): BCL-XL, an inhibitor of programmed cell death\n",
    "* [1CPB](https://www.ebi.ac.uk/pdbe/entry/pdb/1cpb): Bovine Carboxypeptidase B\n",
    "* [1SRX](https://www.ebi.ac.uk/pdbe/entry/pdb/1srx): E. coli Thioredoxin-S2"
   ]
  },
  {
   "cell_type": "code",
   "execution_count": null,
   "id": "7efd525e-0126-436d-8ce6-2420a6d80a1a",
   "metadata": {},
   "outputs": [],
   "source": [
    "def fetch_pdb(code):\n",
    "    \"Fetch PDB data from PDBe. Code should be e.g. '1HHO'\"\n",
    "    url = _\n",
    "    with request.urlopen(url) as pdbfile:\n",
    "        pdb = _.read().decode() # Note the decode() is necessary. If you're not sure why, ask an instructor.\n",
    "    return _"
   ]
  },
  {
   "cell_type": "markdown",
   "id": "4b31a809-9411-41e9-a903-df7c3a0df66a",
   "metadata": {
    "tags": []
   },
   "source": [
    "Now you should be able to fetch one of the examples and extract the $C_\\alpha$ coordinates with your `extract_coordinates()` function.\n",
    "\n",
    "The final thing to do is massage our coordinate data ready for plotting and plot the coordinates! When you're finished you should have an interactive plot something like this (for 1HHO):\n",
    "\n",
    "![1HHO](images/1hho_plotted.png)"
   ]
  },
  {
   "cell_type": "code",
   "execution_count": null,
   "id": "b6670609-1e3d-4bd1-8816-3c956ca5e501",
   "metadata": {},
   "outputs": [],
   "source": [
    "# Download and extract the coordinates for a protein\n",
    "coordinates = _"
   ]
  },
  {
   "cell_type": "code",
   "execution_count": null,
   "id": "rapid-tactics",
   "metadata": {},
   "outputs": [],
   "source": [
    "fig = plt.figure()\n",
    "ax = plt.axes(projection=\"3d\")\n",
    "x, y, z = zip(*coordinates)\n",
    "ax.plot(x, y, z, label='Fixme') # Fill in the label\n",
    "ax.legend()\n",
    "plt.show()"
   ]
  }
 ],
 "metadata": {
  "kernelspec": {
   "display_name": "Python 3",
   "language": "python",
   "name": "python3"
  },
  "language_info": {
   "codemirror_mode": {
    "name": "ipython",
    "version": 3
   },
   "file_extension": ".py",
   "mimetype": "text/x-python",
   "name": "python",
   "nbconvert_exporter": "python",
   "pygments_lexer": "ipython3",
   "version": "3.9.2"
  }
 },
 "nbformat": 4,
 "nbformat_minor": 5
}
