{
 "cells": [
  {
   "cell_type": "markdown",
   "metadata": {},
   "source": [
    "# 3. Text formatting\n",
    "\n",
    "> _\"Beautiful is better than ugly.\"_\n",
    "\n",
    "## 3.1 Introduction  \n",
    "Sometimes you will want to represent your variables in text, for example to `print()` or save to a file.\n",
    "You might be tempted to do this:\n",
    "```python\n",
    "my_number = 10\n",
    "my_text_representation = \"My computation resulted in: \" + str(my_number) + \" units.\"\n",
    "```\n",
    "\n",
    "But this quickly becomes unwieldy and hard to read. Thankfully, Python gives us an easy way to solve this, the so-called \"f-string\":\n",
    "```python\n",
    "my_number = 10\n",
    "my_text_representation = f\"My computation resulted in: {my_number} units.\"\n",
    "#                        ^                             ^^^^^^^^^^^\n",
    "```\n",
    "The changes to the first example are highlighted: an `f` **before** the first quote and the variable you want in the text surrounded by braces. This may not look like much of a change or very useful (yet), but you'll quickly run into the limitations of the first approach."
   ]
  },
  {
   "cell_type": "markdown",
   "metadata": {},
   "source": [
    "The value between the braces in a f-string can be a value (e.g. `6`), a variable (as we saw above; e.g. `my_number`), or any arbitrary Python _expression_ (e.g. `10 * 3 + 2`)."
   ]
  },
  {
   "cell_type": "code",
   "execution_count": null,
   "metadata": {},
   "outputs": [],
   "source": [
    "f\"My name is {6}.\""
   ]
  },
  {
   "cell_type": "code",
   "execution_count": null,
   "metadata": {},
   "outputs": [],
   "source": [
    "f\"The expression evaluates to: {10 * 3 + 2}\""
   ]
  },
  {
   "cell_type": "markdown",
   "metadata": {},
   "source": [
    "## 3.2 Layout options\n",
    "\n",
    "`f`-strings allow layouting options. Let's have a look at the following example\n",
    "\n",
    "```python\n",
    "# Integer lay-out\n",
    "print(f\"Some text {variable:10d}\")\n",
    "```\n",
    "\n",
    "Everything between the double quotation marks is what will be in the formatted text. Between the braces you can find your data, but also _lay-out options_ for those data. The first value is the value to be printed (as you've seen above), then type a colon (`:`) which separates the value to be printed from the layout options and lastly, the layout options.\n",
    "\n",
    "Often, you won't _need_ to specify a layout option. But sometimes they're useful. \n",
    "\n"
   ]
  },
  {
   "cell_type": "markdown",
   "metadata": {},
   "source": [
    "**1. Formatting integers**  \n",
    "\n",
    "Here are some examples of formatting integers (digits):\n",
    "\n"
   ]
  },
  {
   "cell_type": "code",
   "execution_count": null,
   "metadata": {},
   "outputs": [],
   "source": [
    "my_number = 252\n",
    "print(f\"This is {my_number}.\")\n",
    "print(f\"This is {my_number:d}.\")\n",
    "print(f\"This is {my_number:10d}.\")"
   ]
  },
  {
   "cell_type": "markdown",
   "metadata": {},
   "source": [
    "This is exactly equivalent to:"
   ]
  },
  {
   "cell_type": "markdown",
   "metadata": {},
   "source": [
    "**2. Formatting floats**  \n",
    "\n",
    "A _layout option_ can tell python to format your float to 3 decimal places, or to pad the width of a field if you're printing a table.\n",
    "\n",
    "For example, if I want to print the first 3 digits of `pi` where `pi = 3.14159` I could use this layout option:"
   ]
  },
  {
   "cell_type": "code",
   "execution_count": null,
   "metadata": {},
   "outputs": [],
   "source": [
    "pi = 3.14159\n",
    "\n",
    "print(f\"This is {pi}.\")\n",
    "print(f\"This is {pi:.3}.\")\n",
    "print(f\"This is {pi:.3f}.\")\n",
    "print(f\"This is {pi:10.3f}.\")\n",
    "\n",
    "print(f\"This is {pi:<10.3f}.\")"
   ]
  },
  {
   "cell_type": "markdown",
   "metadata": {},
   "source": [
    "It's also possible to write a string of multiple lines to a variable. This can make it more readable for both programmer and reader.  "
   ]
  },
  {
   "cell_type": "code",
   "execution_count": null,
   "metadata": {},
   "outputs": [],
   "source": [
    "myFloat = 4545.4542244 \n",
    "\n",
    "text = (\n",
    "    f\"Print the full float {myFloat}, \"\n",
    "    f\"cut off decimals {myFloat:5.2f}, \"\n",
    "    f\"or determine the characters before the decimal {myFloat:10.1f}.\"\n",
    " )\n",
    "print(text)"
   ]
  },
  {
   "cell_type": "markdown",
   "metadata": {},
   "source": [
    "---"
   ]
  },
  {
   "cell_type": "markdown",
   "metadata": {},
   "source": [
    "See what you can do yourself...."
   ]
  },
  {
   "cell_type": "code",
   "execution_count": null,
   "metadata": {},
   "outputs": [],
   "source": []
  },
  {
   "cell_type": "code",
   "execution_count": null,
   "metadata": {},
   "outputs": [],
   "source": []
  },
  {
   "cell_type": "code",
   "execution_count": null,
   "metadata": {},
   "outputs": [],
   "source": []
  },
  {
   "cell_type": "markdown",
   "metadata": {},
   "source": [
    "## 3.2.1 Exercise\n",
    "\n",
    "Mimic the following output of an aligner. Do this by playing around with the whitespaces in the lay-out options. \n",
    "\n",
    "```\n",
    "Uniquely mapped reads number |  5538917\n",
    "     Uniquely mapped reads % |    86.29\n",
    "```"
   ]
  },
  {
   "cell_type": "code",
   "execution_count": null,
   "metadata": {},
   "outputs": [],
   "source": [
    "string1 = \"Uniquely mapped reads number\"\n",
    "string2 = \"Uniquely mapped reads %\"\n",
    "\n",
    "number1 = 5538917\n",
    "number2 = 86.293485\n",
    "\n",
    "print(f\"{string1:...} | {number1:...}\")\n",
    "print(f\"{string2:...} | {number2:...}\")"
   ]
  },
  {
   "cell_type": "markdown",
   "metadata": {},
   "source": [
    "## 3.3 Special characters  \n",
    "For some special characters it is necessary \"escape\" (using a `\\`) the normal way to type a character because you cannot type the special character normally from the keyboard. Try this:"
   ]
  },
  {
   "cell_type": "code",
   "execution_count": null,
   "metadata": {},
   "outputs": [],
   "source": [
    "print(\"The \\\\ sign\\ncan\\talso\\tbe\\tprinted.\")"
   ]
  },
  {
   "cell_type": "markdown",
   "metadata": {},
   "source": [
    "Here, `\\\\` will print a single backslash, the `\\n` will print a new line, `\\t` a tab character."
   ]
  },
  {
   "cell_type": "markdown",
   "metadata": {},
   "source": [
    "Escape codes are necessary if you are trying to print a single quote in single-quoted text, or a double quote in double-quoted text:"
   ]
  },
  {
   "cell_type": "code",
   "execution_count": null,
   "metadata": {},
   "outputs": [],
   "source": [
    "print(\"He said: \\\"Hello\\\".\")\n",
    "print('She said: \\'Hello\\'.')"
   ]
  },
  {
   "cell_type": "markdown",
   "metadata": {},
   "source": [
    "## 3.4 Footnote: f-strings aren't the only way!\n",
    "In this section we've seen **2** methods to format text in Python. The _new_ f-string method and the _manual_ method appending strings togther. When you're writing new code you should always use f-strings to format text, but you may see other methods in older code.\n",
    "\n",
    "Before f-strings, Python provided 2 _other_ methods to format strings that you may see in code you work on:\n",
    "* `.format()`\n",
    "* c-string with the `%` operator\n",
    "\n",
    "`.format()` is very similar to f-strings. The `%` is similar to `C` language text formatting.\n",
    "For more details on text formatting methods in Python see [here](https://realpython.com/python-string-formatting/).\n",
    "However, the table below presents some examples based on text formatting you've seen in this section. Each row of the\n",
    "table is equivalent.\n",
    "\n",
    "| f-string | `.format()` | `%` operator |\n",
    "|:---------|:------------|:-------------|\n",
    "| `f\"{'Jane':s}\"` |`\"{:s}\".format(\"Jane\")` | `\"%s\" % \"Jane\"` |\n",
    "| `f\"{55:d} {62:d}\"` | `\"{1:d} {0:d}\".format(62, 55)` | `\"%d %d\" % (55, 62)` |\n",
    "| `f\"{myFloat:5.2f}\"` | `\"{:5.2f}\".format(myFloat)` | `\"%5.2f\" % myFloat` |"
   ]
  },
  {
   "cell_type": "markdown",
   "metadata": {},
   "source": [
    "## 3.5 Chapter Review\n",
    "In this chapter you've learned how to _format_ a string containing values and expressions that are not strings.\n",
    "\n",
    "Some examples of useful layout options are:\n",
    "\n",
    "| Option | Meaning | Example |\n",
    "|:-------|:--------|:--------|\n",
    "| `>` | Field is right aligned | `f\"{'padded':>8}\" => '  padded'` |\n",
    "| `.2f` | Format numbers to a specific number of digits | `f\"{60_000.12345:.2f}\" => '60000.12'` |\n",
    "| `10` | Format a value to a specific (minimum) width | `f\"{42:10}\" => '        42'` |\n",
    "\n",
    "You can find the details of these options in the Python documentation [here](https://docs.python.org/3/library/string.html#format-specification-mini-language).\n",
    "\n",
    "\n",
    "### Review Questions\n",
    "\n",
    "1. How are f-strings different from normal strings?\n",
    "<details>\n",
    "    <summary>&#9654; Answer</summary>\n",
    "    f-strings allow you to insert values into a string or to format a string a certain way.\n",
    "</details>\n",
    "\n",
    "\n",
    "2. How do you type a \"new line\" character?\n",
    "<details>\n",
    "    <summary>&#9654; Answer</summary>\n",
    "    <code>\"\\n\"</code>\n",
    "</details>\n",
    "\n",
    "\n",
    "3. What can go between the braces `{}` in a f-string?\n",
    "<details>\n",
    "    <summary>&#9654; Answer</summary>\n",
    "    Any python expression\n",
    "</details>\n",
    "\n",
    "\n",
    "4. How do you put braces in an f-string?\n",
    "<details>\n",
    "    <summary>&#9654; Answer</summary>\n",
    "    Type 2 braces next to each other. e.g. <code>f\"{{ hello\"</code>\n",
    "</details>\n",
    "\n",
    "\n",
    "5. What is the format specifier for floating point numbers?\n",
    "<details>\n",
    "    <summary>&#9654; Answer</summary>\n",
    "    <code>f</code>\n",
    "</details>\n",
    "\n",
    "\n",
    "6. What is the difference between `f\"{25}\"` and `f\"{25:d}\"`?\n",
    "<details>\n",
    "    <summary>&#9654; Answer</summary>\n",
    "    Nothing. They are exactly equivalent.\n",
    "</details>\n",
    "\n",
    "\n",
    "7. What is the difference between `f\"{12.3456:.3}\"` and `f\"{12.3456:.3f}\"`?\n",
    "<details>\n",
    "    <summary>&#9654; Answer</summary>\n",
    "    <code>12.3</code> vs. <code>12.345</code>. The first is the precision for stating the whole number. The\n",
    "    second is the number of decimal places to print.\n",
    "</details>"
   ]
  },
  {
   "cell_type": "markdown",
   "metadata": {},
   "source": [
    "## 3.6 Next session\n",
    "\n",
    "Go to our [next chapter](04_Conditions.ipynb). "
   ]
  }
 ],
 "metadata": {
  "kernelspec": {
   "display_name": "Python 3",
   "language": "python",
   "name": "python3"
  },
  "language_info": {
   "codemirror_mode": {
    "name": "ipython",
    "version": 3
   },
   "file_extension": ".py",
   "mimetype": "text/x-python",
   "name": "python",
   "nbconvert_exporter": "python",
   "pygments_lexer": "ipython3",
   "version": "3.7.5"
  }
 },
 "nbformat": 4,
 "nbformat_minor": 4
}
