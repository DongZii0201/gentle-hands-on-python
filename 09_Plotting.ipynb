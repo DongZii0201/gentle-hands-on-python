{
 "cells": [
  {
   "cell_type": "markdown",
   "metadata": {},
   "source": [
    "# Visualising data\n",
    "\n",
    "> _\"[...] the most important part of [...] research [is] being able to successfully communicate [...] results to clinicians\"_\n",
    ">\n",
    "> -- Dr. Matthias Stahl<sup>1</sup>\n",
    "\n",
    "This chapter will be your first taste of the enormous \"ecosystem\" of Python third-party libraries outside of the standard library that comes packaged with Python itself. We will start out introducing how to plot in general then move on to creating the plots for the climate data.\n",
    "\n",
    "`matplotlib` is a one of several Python plotting libraries but is possibly the most commonly used. When you began the course 2 weeks ago you installed the library already so you don't need to worry about installing it.\n",
    "\n",
    "When using `matplotlib` with Jupyter notebooks, the following line of code allows the figures to be plotted in the notebook results (so make sure you execute this cell."
   ]
  },
  {
   "cell_type": "code",
   "execution_count": null,
   "metadata": {},
   "outputs": [],
   "source": [
    "%matplotlib widget"
   ]
  },
  {
   "cell_type": "markdown",
   "metadata": {},
   "source": [
    "`matplotlib.pyplot` is a collection of command style functions that make matplotlib work like MATLAB. Each pyplot function makes some change to a figure: e.g., creates a figure, creates a plotting area in a figure, plots some lines in a plotting area, decorates the plot with labels, etc. In `matplotlib.pyplot` various states are preserved across function calls, so that it keeps track of things like the current figure and plotting area, and the plotting functions are directed to the current subplot.\n",
    "\n",
    "What we first have to do is importing the library of course."
   ]
  },
  {
   "cell_type": "code",
   "execution_count": null,
   "metadata": {},
   "outputs": [],
   "source": [
    "import matplotlib.pyplot as plt"
   ]
  },
  {
   "cell_type": "markdown",
   "metadata": {},
   "source": [
    "## 1. Creating plots"
   ]
  },
  {
   "cell_type": "code",
   "execution_count": null,
   "metadata": {},
   "outputs": [],
   "source": [
    "plt.figure()\n",
    "plt.plot([1, 2, 3, 2.5])\n",
    "plt.ylabel('some numbers')"
   ]
  },
  {
   "cell_type": "markdown",
   "metadata": {},
   "source": [
    "`plot()` is a versatile command, and will take an arbitrary number of arguments. For example, to plot x versus y, you can issue the command:"
   ]
  },
  {
   "cell_type": "code",
   "execution_count": null,
   "metadata": {},
   "outputs": [],
   "source": [
    "# list ranging from 1 to 9\n",
    "x_list = list(range(1, 10))\n",
    "# list with exponential values\n",
    "y_list = [1, 4, 9, 16, 25, 36, 49, 64, 81]"
   ]
  },
  {
   "cell_type": "code",
   "execution_count": null,
   "metadata": {},
   "outputs": [],
   "source": [
    "plt.figure()\n",
    "plt.plot(x_list, y_list)\n",
    "plt.title(\"Title of the plot\")"
   ]
  },
  {
   "cell_type": "markdown",
   "metadata": {},
   "source": [
    "Using the pyplot interface, you build a graph by calling a sequence of functions and all of them are applied to the *current plot*, like so:"
   ]
  },
  {
   "cell_type": "code",
   "execution_count": null,
   "metadata": {},
   "outputs": [],
   "source": [
    "plt.figure()\n",
    "plt.plot([1, 2, 3, 4], [10, 20, 25, 30], color='lightblue', linewidth=3)\n",
    "plt.scatter([0.3, 3.8, 1.2, 2.5], [11, 25, 9, 26], color='darkgreen', marker='^')\n",
    "plt.xlim(0.5, 4.5)\n",
    "plt.title(\"Title of the plot\")\n",
    "plt.xlabel(\"This is the x-label\")\n",
    "plt.ylabel(\"This is the y-label\")\n",
    "# Uncomment the line below to save the figure in your currentdirectory\n",
    "# plt.savefig('examplefigure.png')"
   ]
  },
  {
   "cell_type": "markdown",
   "metadata": {},
   "source": [
    "## 2. Barplots\n",
    "\n",
    "Barplots are made with the `plt.bar` function:"
   ]
  },
  {
   "cell_type": "code",
   "execution_count": null,
   "metadata": {},
   "outputs": [],
   "source": [
    "plt.figure()\n",
    "# height of bars are nucleotide percentages of data/gene.fa: [A_perc, C_perc, G_perc, T_perc]\n",
    "height = [17.627944760357433, 33.22502030869212, 30.300568643379368, 18.846466287571083]\n",
    "# Names of bars\n",
    "bars = ('A','C','G','T')\n",
    "# making a barplot\n",
    "plt.bar(bars, height)\n",
    "# adding layouts: xlabel, ylabel and title. \n",
    "plt.xlabel('Nucleotide')\n",
    "plt.ylabel('Percentage of occurence (%)')\n",
    "plt.title('Distribution of nucleotides in fasta sequence')"
   ]
  },
  {
   "cell_type": "code",
   "execution_count": null,
   "metadata": {},
   "outputs": [],
   "source": [
    "plt.figure()\n",
    "# height of bars are nucleotide percentages of data/gene.fa: [A_perc, C_perc, G_perc, T_perc]\n",
    "height = [17.627944760357433, 33.22502030869212, 30.300568643379368, 18.846466287571083]\n",
    "# Names of bars\n",
    "bars = ('A','C','G','T')\n",
    "#plt.bar(bars, height, color=('green','red','yellow','blue'))\n",
    "plt.bar(bars, height, color=('#1f77b4','#ff7f0e','#2ca02c','#d62728'))\n",
    "\n",
    "plt.xlabel('Nucleotide')\n",
    "plt.ylabel('Percentage of occurence (%)')\n",
    "plt.title('Distribution of nucleotides in fasta sequence')"
   ]
  },
  {
   "cell_type": "code",
   "execution_count": null,
   "metadata": {
    "tags": []
   },
   "outputs": [],
   "source": [
    "plt.figure()\n",
    " \n",
    "# width of the bars\n",
    "barWidth = 0.3\n",
    " \n",
    "# Choose the height of the blue bars\n",
    "experimentA = [10, 9, 2]\n",
    " \n",
    "# Choose the height of the cyan bars\n",
    "experimentB = [10.8, 9.5, 4.5]\n",
    " \n",
    "# Choose the height of the error bars (bars1)\n",
    "yer1 = [0.5, 0.4, 0.5]\n",
    " \n",
    "# Choose the height of the error bars (bars2)\n",
    "yer2 = [1, 0.7, 1]\n",
    " \n",
    "# The x position of bars\n",
    "r1 = list(range(len(experimentA)))\n",
    "r2 = [x + barWidth for x in r1]\n",
    " \n",
    "# Create blue bars\n",
    "plt.bar(r1, experimentA, width = 0.3, color = 'blue', edgecolor = 'black', yerr=yer1, capsize=5, label='Experiment A') # Capsize is the width of errorbars\n",
    " \n",
    "# Create cyan bars\n",
    "plt.bar(r2, experimentB, width = 0.3, color = 'cyan', edgecolor = 'black', yerr=yer2, capsize=7, label='Experiment B')\n",
    " \n",
    "# general layout\n",
    "plt.xticks([x + barWidth/2 for x in r1], ['cond_A', 'cond_B', 'cond_C'])\n",
    "plt.ylabel('effect')\n",
    "plt.legend()\n",
    " \n",
    "# Show graphic\n",
    "plt.show()\n"
   ]
  },
  {
   "cell_type": "markdown",
   "metadata": {},
   "source": [
    "## 3. Plotting climate data\n",
    "\n",
    "First, we begin by loading the climate data we cleaned in the last chapter into this notebook..."
   ]
  },
  {
   "cell_type": "code",
   "execution_count": null,
   "metadata": {},
   "outputs": [],
   "source": [
    "import csv\n",
    "from datetime import datetime\n",
    "\n",
    "def load_data(filename):\n",
    "    with open(filename) as file_resource:\n",
    "        reader = csv.DictReader(file_resource)\n",
    "    \n",
    "        data = []\n",
    "        for reading in reader:\n",
    "            data = data + [{'Time': datetime.fromisoformat(reading['Time']), 'Temperature': float(reading['Temperature'])}]\n",
    "    \n",
    "    return data\n",
    "\n",
    "global_data = load_data(\"data/global_data.csv\")\n",
    "bel_data = load_data(\"data/bel_data.csv\")\n",
    "rus_data = load_data(\"data/rus_data.csv\")\n",
    "aus_data = load_data(\"data/aus_data.csv\")"
   ]
  },
  {
   "cell_type": "markdown",
   "metadata": {},
   "source": [
    "Use the cell below to check that the data loaded is what you expect..."
   ]
  },
  {
   "cell_type": "code",
   "execution_count": null,
   "metadata": {},
   "outputs": [],
   "source": []
  },
  {
   "cell_type": "markdown",
   "metadata": {},
   "source": [
    "Now we're ready to try to plot it. First we will seperate the dates to put on the x-axis and the temperatures to put on the y-axis"
   ]
  },
  {
   "cell_type": "code",
   "execution_count": null,
   "metadata": {},
   "outputs": [],
   "source": [
    "dates = []\n",
    "temperatures = []\n",
    "for reading in global_data:\n",
    "    dates = dates + [reading['Time']]\n",
    "    temperatures = temperatures + [reading['Temperature']]"
   ]
  },
  {
   "cell_type": "code",
   "execution_count": null,
   "metadata": {},
   "outputs": [],
   "source": [
    "plt.figure()\n",
    "plt.plot(dates, temperatures, color='lightblue', linewidth=3)\n",
    "plt.title(\"Global climate anomaly relative to 1960-1991 reference\")\n",
    "plt.xlabel(\"Time\")\n",
    "plt.ylabel(\"Temperature anomaly\")"
   ]
  },
  {
   "cell_type": "markdown",
   "metadata": {},
   "source": [
    "Beautiful! However there is a lot of noise, it might be useful to display smoothed data<sup>2</sup>. One way of smoothing these data is by taking a moving average over a window of, say, 2 years (24 months). So let's do that now:\n",
    "\n",
    "---\n",
    "\n",
    "### Exercise 9-1: Plotting smooth data\n",
    "Check that the code below is correct then generate a plot with the smoothed data overlaid on the unsmoothed data."
   ]
  },
  {
   "cell_type": "code",
   "execution_count": null,
   "metadata": {},
   "outputs": [],
   "source": [
    "def moving_average(data, window_size):\n",
    "    smoothed = []\n",
    "    for window_begin in range(len(data) - window_size + 1):\n",
    "        # list(range(window_begin, window_begin + window_size))]\n",
    "        temperatures = []\n",
    "        for index in range(window_begin, window_begin + window_size):\n",
    "            temperatures = temperatures + [data[index]['Temperature']]\n",
    "            \n",
    "        avg = sum(temperatures) / window_size\n",
    "        \n",
    "        smoothed = smoothed + [{\n",
    "            'Temperature': avg,\n",
    "            'Time': data[window_begin + (window_size // 2)]['Time']\n",
    "        }]\n",
    "    \n",
    "    return smoothed\n",
    "\n",
    "glo_average = moving_average(global_data, 24)"
   ]
  },
  {
   "cell_type": "code",
   "execution_count": null,
   "metadata": {},
   "outputs": [],
   "source": [
    "glo_avg_dates = []\n",
    "glo_avg_temperatures = []\n",
    "for reading in glo_average:\n",
    "    glo_avg_dates = glo_avg_dates + [reading['Time']]\n",
    "    glo_avg_temperatures = glo_avg_temperatures + [reading['Temperature']]"
   ]
  },
  {
   "cell_type": "code",
   "execution_count": null,
   "metadata": {},
   "outputs": [],
   "source": [
    "plt.figure()\n",
    "plt.plot(dates, temperatures, color='lightblue', linewidth=3)\n",
    "plt.plot(glo_avg_dates, glo_avg_temperatures, color='darkblue', linewidth=3)\n",
    "plt.title(\"Global climate anomaly relative to 1960-1991 reference\")\n",
    "plt.xlabel(\"Time\")\n",
    "plt.ylabel(\"Temperature anomaly\")"
   ]
  },
  {
   "cell_type": "markdown",
   "metadata": {},
   "source": [
    "---\n",
    "\n",
    "### Exercise 9-2: Plot country data\n",
    "Create plots like you did above for each country. Remember that functions can save you for repeating work."
   ]
  },
  {
   "cell_type": "code",
   "execution_count": null,
   "metadata": {},
   "outputs": [],
   "source": []
  },
  {
   "cell_type": "markdown",
   "metadata": {},
   "source": [
    "---\n",
    "\n",
    "## 4. Chapter Review\n",
    "In this chapter we used the `matplotlib` third-party Python library to generate plots in the notebook. We learned how to use the `plot()`, `scatter()` and `bar()` commands. Finally, we generated plots from the climate data.\n",
    "\n",
    "### Review Questions\n",
    "\n",
    "1. Is it possible to change the plot colour?\n",
    "<details>\n",
    "    <summary>Answer</summary>\n",
    "    Yes, using the <code>color</code> argument to <code>plot()</code>\n",
    "</details>\n",
    "\n",
    "\n",
    "2. What does the <code>figure()</code> command do?\n",
    "<details>\n",
    "    <summary>Answer</summary>\n",
    "    Makes <code>plot()</code> create a new plot rather than plotting on the previous one.\n",
    "</details>\n",
    "\n",
    "\n",
    "3. Can you use <code>matplotlib</code> to plot a histogram?\n",
    "<details>\n",
    "    <summary>Answer</summary>\n",
    "    Yes.\n",
    "</details>\n",
    "\n",
    "\n",
    "4. Can an axis scale be non-linear (e.g. logarithmic scale)?\n",
    "<details>\n",
    "    <summary>Answer</summary>\n",
    "    Yes, using the <code>xscale</code> or <code>yscale</code> commands.\n",
    "</details>\n",
    "\n",
    "## 5. References\n",
    "\n",
    "1. [Matthias Stahl's personal website](https://www.higsch.com/about/)\n",
    "2. [Data smoothing](https://www.climate4you.com/DataSmoothing.htm)\n",
    "\n",
    "## 6. Supporting material\n",
    "\n",
    "* [Become a Python Data Analyst](https://www.packtpub.com/eu/big-data-and-business-intelligence/become-python-data-analyst)\n",
    "* [Add confidence interval on barplot](https://python-graph-gallery.com/8-add-confidence-interval-on-barplot/)\n",
    "* [Matplotlib Cheatsheets](https://github.com/matplotlib/cheatsheets#cheatsheets)\n",
    "\n",
    "## 7. Next session\n",
    "\n",
    "Go to our [next chapter](10_Conclusion.ipynb). "
   ]
  }
 ],
 "metadata": {
  "kernelspec": {
   "display_name": "Python 3 (ipykernel)",
   "language": "python",
   "name": "python3"
  },
  "language_info": {
   "codemirror_mode": {
    "name": "ipython",
    "version": 3
   },
   "file_extension": ".py",
   "mimetype": "text/x-python",
   "name": "python",
   "nbconvert_exporter": "python",
   "pygments_lexer": "ipython3",
   "version": "3.10.5"
  }
 },
 "nbformat": 4,
 "nbformat_minor": 4
}
