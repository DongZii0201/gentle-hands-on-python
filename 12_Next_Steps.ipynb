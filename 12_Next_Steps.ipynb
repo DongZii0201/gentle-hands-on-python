{
 "cells": [
  {
   "cell_type": "markdown",
   "metadata": {},
   "source": [
    "# 12. What next? Or, how to apply what you've learned.\n",
    "\n",
    "> _\"There should be one-- and preferably only one --obvious way to do it_\n",
    ">\n",
    "> _Although that way may not be obvious at first unless you're Dutch.\"_\n",
    "\n",
    "Hopefully at this point (the end of the course) you're feeling quite confident since you've learned everything\n",
    "necessary to start programming in Python. If you're not, that's ok. It's a big step to go from looking at\n",
    "examples or solving small exercises to solving a real problem that you have in your own research."
   ]
  },
  {
   "cell_type": "markdown",
   "metadata": {},
   "source": [
    "## Step 1: Just Do It! Or, fake it 'till you make it!\n",
    "\n",
    "The most important thing you can do is just start using Python. Make opportunities to use Python: automate tasks that you (or other people) usually do manually, perform calculations, or do some data analysis. Ignore the fear and uncertainty,\n",
    "believe in yourself. Yes, you will stumble, you will have troubles achieving what you want to do - but you will also\n",
    "succeed and learn how to solve the problems you face. Before you realise, the things you initially feared won't scare\n",
    "you any more.\n",
    "\n",
    "When you do face a problem you can't solve, there are **many** resources available to help you including,\n",
    "1. Us! Send us an email and we can try to help you solve the problem.\n",
    "2. Stack Overflow. This is a community of programmers dedicated to helping each other. There's a good chance someone\n",
    "   else has had the problem you have and someone else has solved it.\n",
    "3. The Python documentation (`help()!`). [docs.python.org](https://docs.python.org/3/) is organised to guide you to the right place. Look here for reference material."
   ]
  },
  {
   "cell_type": "markdown",
   "metadata": {},
   "source": [
    "## Step 2: Practise, practise, practise!\n",
    "\n",
    "This is actually just step 1. There's no step 2!"
   ]
  },
  {
   "cell_type": "markdown",
   "metadata": {},
   "source": [
    "## Some general advice\n",
    "\n",
    "Think of your task as _data transformation_, then write down the transformation steps. Gradually decompose each step\n",
    "into smaller and smaller parts until each part is obvious to you. You can do this in comments if you like.\n",
    "\n",
    "Don't be afraid to do the \"wrong\" thing. With practise, you'll understand what works and what doesn't, what techniques\n",
    "make tasks easier or harder."
   ]
  }
 ],
 "metadata": {
  "kernelspec": {
   "display_name": "Python 3",
   "language": "python",
   "name": "python3"
  },
  "language_info": {
   "codemirror_mode": {
    "name": "ipython",
    "version": 3
   },
   "file_extension": ".py",
   "mimetype": "text/x-python",
   "name": "python",
   "nbconvert_exporter": "python",
   "pygments_lexer": "ipython3",
   "version": "3.7.5"
  }
 },
 "nbformat": 4,
 "nbformat_minor": 4
}
