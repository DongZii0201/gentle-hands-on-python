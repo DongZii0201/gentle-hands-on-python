{
 "cells": [
  {
   "cell_type": "markdown",
   "metadata": {},
   "source": [
    "# 6. Loops\n",
    "\n",
    "> _\"Flat is better than nested.\"_\n",
    "\n",
    "## 6.1 Introduction\n",
    "\n",
    "Another important feature of computer programs is that they can do the same thing over and over again with different information. To allow this, it is possible to use loops in the program; essentially a loop is executed until it runs out of data or the code decides to break out of it.\n",
    "\n",
    "\n",
    "\n",
    "## 6.2 For loop\n",
    "Now that we have these variables that can hold multiple elements (previous exercise), it would be useful to be able to loop over them one by one. This is possible with the **for** loop. Here is an example of how it essentially works:"
   ]
  },
  {
   "cell_type": "code",
   "execution_count": null,
   "metadata": {},
   "outputs": [],
   "source": [
    "myList = [\"a\",\"b\",\"c\",\"d\"]\n",
    "\n",
    "for i in myList:\n",
    "    print(i)\n",
    "print(\"Loop has ended\")"
   ]
  },
  {
   "cell_type": "markdown",
   "metadata": {},
   "source": [
    "Another example:"
   ]
  },
  {
   "cell_type": "code",
   "execution_count": null,
   "metadata": {},
   "outputs": [],
   "source": [
    "myList = range(10) # Make a list of integers from 0 to 9 with steps of 1 (0, 1, 2, ..., 9)\n",
    " \n",
    "for myElement in myList: # for each value (myElement) in this list (myList); do the following:\n",
    "    print(\"Counting {}\".format(myElement))  # Print that value"
   ]
  },
  {
   "cell_type": "markdown",
   "metadata": {},
   "source": [
    "In the first iteration myElement will take up the first value of myList and perform the code that is indented (in this cas it will print *counting 0*), then it will go back to the start of the loop and take up the second value of myList (which is 1) and perform again the code that is indented (*counting 1*), etc.  \n",
    "\n",
    "Note that again we have to use indentation, as there is a block of code that is only relevant within the for loop. \n",
    "\n",
    "Python will always need a list, tuple, set or dictionary to iterate through and it will work exactly the same with tuples (see example below). The iterator will always take up the value of the list/tuple/set/dict! "
   ]
  },
  {
   "cell_type": "code",
   "execution_count": null,
   "metadata": {},
   "outputs": [],
   "source": [
    "myTuple = (\"A\",\"B\",\"C\",\"D\",\"E\",\"F\")\n",
    " \n",
    "for myElement in myTuple:\n",
    "    print(\"Letter {}\".format(myElement))"
   ]
  },
  {
   "cell_type": "markdown",
   "metadata": {},
   "source": [
    "Because you can access individual elements within a list or tuple, you can also count the element index in the list or tuple, so that you know both index and value. If you want to iterate over  a list of letters, in this case it's in a tuple type, you'll first have to find the length of the list and then use range to make a list of integers that can be used as an index. "
   ]
  },
  {
   "cell_type": "code",
   "execution_count": null,
   "metadata": {},
   "outputs": [],
   "source": [
    "myTuple = (\"A\",\"B\",\"C\",\"D\",\"E\",\"F\")\n",
    "myTupleLength = len(myTuple)\n",
    " \n",
    "for tupleIndex in range(myTupleLength):\n",
    "    myElement = myTuple[tupleIndex]\n",
    "    print(\"Letter {} is at position {}\".format(myElement,tupleIndex + 1))  # We have to add 1 to the index here because Python starts at zero..."
   ]
  },
  {
   "cell_type": "markdown",
   "metadata": {},
   "source": [
    "Python has a built-in function `enumerate()` which eases this task for you as a programmer. For the tuple which we defined above, you could make the following table with indeces and accompanied values:\n",
    "\n",
    "| index | value |\n",
    "|---|---|\n",
    "| 0 | A |\n",
    "| 1 | B |\n",
    "| 2 | C |\n",
    "| 3 | D |\n",
    "| 4 | E |\n",
    "| 5 | F |\n",
    "\n",
    "`enumerate()` mimics this table and you can use it in this way which immediately gives you the indeces:"
   ]
  },
  {
   "cell_type": "code",
   "execution_count": null,
   "metadata": {},
   "outputs": [],
   "source": [
    "myTuple = (\"A\",\"B\",\"C\",\"D\",\"E\",\"F\")\n",
    "for line in enumerate(myTuple):\n",
    "    print(line)"
   ]
  },
  {
   "cell_type": "markdown",
   "metadata": {},
   "source": [
    "The enumerate function has some similarities with dictionaries, especially in how to access a value. Don't worry if you're confused with the squared brackets, we'll cover this in Chapter 8. "
   ]
  },
  {
   "cell_type": "code",
   "execution_count": null,
   "metadata": {},
   "outputs": [],
   "source": [
    "myTuple = (\"A\",\"B\",\"C\",\"D\",\"E\",\"F\")\n",
    "for line in enumerate(myTuple):\n",
    "    print(\"Letter {1} is at position {0}\".format(line[0]+1, line[1])) # For the sake of exercising I switched the format positions for once. "
   ]
  },
  {
   "cell_type": "markdown",
   "metadata": {},
   "source": [
    "----\n",
    "\n",
    "Now we want to find out if a number is divisible by another number. In the code below, we will iterate over each value in the list of numbers. If the remainder after division is 0 (comparison is True), we print the number out. "
   ]
  },
  {
   "cell_type": "code",
   "execution_count": null,
   "metadata": {},
   "outputs": [],
   "source": [
    "myNumbers = range(1,50)\n",
    "myDivider = 17\n",
    " \n",
    "for myNumber in myNumbers:\n",
    "    if (myNumber % myDivider) == 0:  # Nothing left after division, so number is divisible.\n",
    "        print(\"Number {} cannot be divided by {}!\".format(myNumber,myDivider))"
   ]
  },
  {
   "cell_type": "markdown",
   "metadata": {},
   "source": [
    "Here we now have two levels of code besides the main one; the **if** is checked for every value, but the print is only executed for numbers divisible by myDivider.\n",
    "\n",
    "\n",
    "You can also control the loop by using **continue** and **break**. They alter the flow of a normal loop:"
   ]
  },
  {
   "cell_type": "code",
   "execution_count": null,
   "metadata": {},
   "outputs": [],
   "source": [
    "myNumbers = range(1,100)\n",
    " \n",
    "for myNumber in myNumbers:\n",
    "    if myNumber == 5:   \n",
    "        continue     # This means that the code within the for loop will be ignored if myNumber is equal to 5, we 'jump back' to the start and use the next number (6)\n",
    "    print(myNumber)\n",
    "\n",
    "    if myNumber == 8:\n",
    "        break        # This means we will exit the loop alltogether, all other values after this one will not be dealt with.\n"
   ]
  },
  {
   "cell_type": "markdown",
   "metadata": {},
   "source": [
    "---\n",
    "### 6.2.1 Exercise\n",
    "\n",
    "Write a program where you print out all positive numbers up to 1000 that can be divided by 13, or 17, or both. \n",
    "The output should be printed as : `Number 13 is divisible by 13`, or `Number 884 is divisible by 13 and 17`. \n",
    "Iterate through the list of numbers and the dividers by using (two) for-loops; one for the numbers and one for the dividers.\n",
    "\n",
    "---"
   ]
  },
  {
   "cell_type": "code",
   "execution_count": null,
   "metadata": {
    "scrolled": false
   },
   "outputs": [],
   "source": []
  },
  {
   "cell_type": "markdown",
   "metadata": {},
   "source": [
    "---\n",
    "### 6.2.2 Exercise\n",
    "\n",
    "Write a program where you find, for each positive number up to 50, all numbers that can divide each number. E.g. 16 can be divided by 1, 2, 4, 8 and 16. 17 can be divided by... \n",
    "\n",
    "It's fine if you print the output like this: \n",
    "```\n",
    "Number 1 can be divided by 1!\n",
    "Number 2 can be divided by 1!\n",
    "Number 2 can be divided by 2!\n",
    "Number 3 can be divided by 1!\n",
    "```\n",
    "However, you can also try to print the output like this:\n",
    "```\n",
    "Number 4 can be divided by 1, 2, 4!\n",
    "```\n",
    "\n",
    "---"
   ]
  },
  {
   "cell_type": "code",
   "execution_count": null,
   "metadata": {},
   "outputs": [],
   "source": []
  },
  {
   "cell_type": "code",
   "execution_count": null,
   "metadata": {},
   "outputs": [],
   "source": []
  },
  {
   "cell_type": "markdown",
   "metadata": {},
   "source": [
    "## 6.3 While loop\n",
    "A **while** loop is dependent on a condition, as long as this condition is evaluated as `True` the loop will continue. Its structure is very similar to the `for`-loop we saw here above. "
   ]
  },
  {
   "cell_type": "code",
   "execution_count": null,
   "metadata": {},
   "outputs": [],
   "source": [
    "result = 0\n",
    "while result < 10:\n",
    "    # add 1 to the result\n",
    "    result += 1\n",
    "    print(result)"
   ]
  },
  {
   "cell_type": "markdown",
   "metadata": {},
   "source": [
    "This is an endless loop:\n",
    "FYI, if you execute this, you'll end up in an enternal loop. To break the loop, press stop button."
   ]
  },
  {
   "cell_type": "code",
   "execution_count": null,
   "metadata": {},
   "outputs": [],
   "source": [
    "while True:\n",
    "    print(\"Endless...\")"
   ]
  },
  {
   "cell_type": "markdown",
   "metadata": {},
   "source": [
    "While loops are more flexible than for loops, as you can make them end whenever necessary depending on code within the loop itself:\n",
    "\n"
   ]
  },
  {
   "cell_type": "code",
   "execution_count": null,
   "metadata": {},
   "outputs": [],
   "source": [
    "baseValue = 2\n",
    "powerValue = 1\n",
    "powerResult = 0\n",
    "while powerResult < 1000:\n",
    "    powerResult = baseValue ** powerValue\n",
    "    print(\"{} to the power {} is {}\".format(baseValue,powerValue,powerResult))\n",
    "    powerValue += 1 # Add one to itself - this kind of step is crucial in a while loop, or it will be endless!"
   ]
  },
  {
   "cell_type": "markdown",
   "metadata": {},
   "source": [
    "Note that the last value printed is greater than 1000, the while condition is only checked at the start of the loop. You should check where the first result is calculated as this may impact the result! Here we changed the order of calculating the value. We *initialized* the loop and put the calculation at the very end:\n"
   ]
  },
  {
   "cell_type": "code",
   "execution_count": null,
   "metadata": {},
   "outputs": [],
   "source": [
    "baseValue = 2\n",
    "powerValue = 1\n",
    "powerResult = 0\n",
    "powerResult = baseValue ** powerValue\n",
    "\n",
    "while powerResult < 1000:\n",
    "    print(\"{} to the power {} is {}\".format(baseValue,powerValue,powerResult))\n",
    "    powerValue += 1 # Add one to itself - this kind of step is crucial in a while loop, or it will be endless!\n",
    "    powerResult = baseValue ** powerValue"
   ]
  },
  {
   "cell_type": "markdown",
   "metadata": {},
   "source": [
    "---\n",
    "### 6.3.1 Exercise\n",
    "\n",
    "Try to reproduce a for-loop (the example of numbers divisible by 17) by using a while-loop.\n",
    "\n",
    "---"
   ]
  },
  {
   "cell_type": "code",
   "execution_count": null,
   "metadata": {},
   "outputs": [],
   "source": []
  },
  {
   "cell_type": "markdown",
   "metadata": {},
   "source": [
    "---\n",
    "### 6.3.2 Exercise\n",
    "\n",
    "Write a program where you start with a list of numbers from 1 to 100, and you then remove every number from this list that can be divided by 3 or by 5. Print the result.  \n",
    "Tip: you have to make a copy of the original list here, otherwise Python will get 'confused' when you remove values from the list while it's looping over it.   \n",
    "\n",
    "---"
   ]
  },
  {
   "cell_type": "code",
   "execution_count": null,
   "metadata": {},
   "outputs": [],
   "source": []
  },
  {
   "cell_type": "markdown",
   "metadata": {},
   "source": [
    "---\n",
    "### 6.3.3 Exercise\n",
    "\n",
    "Write a program where you ask the user for an integer (whole number), and keep on asking if they give the wrong input. Check whether the number can be divided by 7, and print the result.\n",
    "\n",
    "---"
   ]
  },
  {
   "cell_type": "code",
   "execution_count": null,
   "metadata": {},
   "outputs": [],
   "source": []
  },
  {
   "cell_type": "markdown",
   "metadata": {},
   "source": [
    "## 6.4 Iterating through two files at the same time\n",
    "Python has a built-in function which allows you to iterate through multiple e.g. lists or strings at the same time. For two strings, it would look like this:"
   ]
  },
  {
   "cell_type": "code",
   "execution_count": null,
   "metadata": {},
   "outputs": [],
   "source": [
    "x = 'abcde'\n",
    "y = 'fghij'\n",
    "\n",
    "count = 0\n",
    "for i,j in zip(x,y):\n",
    "    count += 1\n",
    "    print(\"Iteration: {}. The value i is {}, and the value j is {}\".format(count, i, j))"
   ]
  },
  {
   "cell_type": "markdown",
   "metadata": {},
   "source": [
    "And the principle is practically the same for three (or more) strings. "
   ]
  },
  {
   "cell_type": "code",
   "execution_count": null,
   "metadata": {},
   "outputs": [],
   "source": [
    "x = 'abcde'\n",
    "y = 'fghij'\n",
    "z = 'klmno'\n",
    "\n",
    "count = 0\n",
    "for i,j,k in zip(x,y,z):\n",
    "    count += 1\n",
    "    print(\"Iteration: {}. The value i is {}, the value j is {} and the value k is {}\".format(count, i, j, k))"
   ]
  },
  {
   "cell_type": "markdown",
   "metadata": {},
   "source": [
    "## 6.5 Next session\n",
    "\n",
    "Go to our [next chapter](7_Wrap_up_exercise.ipynb). "
   ]
  }
 ],
 "metadata": {
  "kernelspec": {
   "display_name": "Python 3",
   "language": "python",
   "name": "python3"
  },
  "language_info": {
   "codemirror_mode": {
    "name": "ipython",
    "version": 3
   },
   "file_extension": ".py",
   "mimetype": "text/x-python",
   "name": "python",
   "nbconvert_exporter": "python",
   "pygments_lexer": "ipython3",
   "version": "3.8.3"
  }
 },
 "nbformat": 4,
 "nbformat_minor": 2
}
