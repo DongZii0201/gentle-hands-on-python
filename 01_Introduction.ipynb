{
 "cells": [
  {
   "cell_type": "markdown",
   "metadata": {},
   "source": [
    "# Welcome to Python\n",
    "\n",
    "> _\"Now is better than never.\"_\n",
    ">\n",
    "> -- Zen of Python by Tim Peters<sup>1</sup>\n",
    "\n",
    "\n",
    "# 1. Introduction to Jupyter \n",
    "*An interactive environment to write and run Python code*\n",
    "\n",
    "## 1.1 Why Jupyter\n",
    "Jupyter<sup>2</sup> is an interactive code environment that allows you to write code and get immediate feedback from it. It's one of the most popular environments for data science in Python. Especially for training purposes, as it interactively gives you your code and some informative text together. \n",
    "\n",
    "## 1.2 Installation\n",
    "The easiest way to install Python and Jupyter is to install [Anaconda](https://docs.anaconda.com/anaconda/install/) (Navigator) on your computer. It's worth it to struggle through all the documentation and get things up and running on your own machine. \n",
    "\n",
    "Anaconda Navigator contains some applications like Jupyter where you can run your Python code. Moreover, Anaconda is also a package and environment manager which makes it ideal for reproducibility purposes as well. \n",
    "\n",
    "## 1.3 Getting familiar with Jupyter Notebooks\n",
    "\n",
    "**a. Start Jupyter**\n",
    "- In Anaconda Navigator, click \"Jupyter Notebook\"\n",
    "- Navigate to the folder where you saved the course materials\n",
    "\n",
    "**b. Make a new notebook**  \n",
    "\n",
    "Navigate to a folder and click on the right New --> Python 3. A new Notebook now pops up with an empty cell. In this cell you can directly input some Python code. Try out the following: \n",
    "\n",
    "```python\n",
    "1+1\n",
    "```\n",
    "\n",
    "Click on the triangle symbol on the top of the notebook or type 'Shift+Enter' to run the code. The output will immediately appear on the screen and should look like this. \n",
    "<center><img src=\"images/cells.PNG\" /></center>\n",
    "\n",
    "Also, a new cell will have appeared in the notebook. A notebook is actually a set of cells in which you can input code. \n",
    "\n",
    "If you want another cell, you can click the '+' symbol on top of the notebook. Other interesting symbols up there are the stop symbol and the reload symbol. Whenever your code is stuck, you can stop it right there, or whenever you want to restart in a clean and fresh environment, you hit that restart button. \n",
    "\n",
    "**c. Code or Markdown**\n",
    "\n",
    "There are two modes that a cell can have. \n",
    "- A cell is by default in **Code** modus. This means that the environment expects a Python code as input and it will interpret it and give you some output upon running that cell.\n",
    "- The **Markdown** mode is a kind of text modus. In here you can type any kinds of text and edit it so headers, bold or italic texts, quotes, images are possible to integrate. It's called rich text. E.g. If you double click this text, you will see the Markdown code of this text. \n",
    "\n",
    "**d. Command or Edit mode**\n",
    "\n",
    "To switch between these modes, hit 'Esc' or 'Enter'. When you hit 'Enter', you'll get into the Edit mode, the cell will have a blue border around it and you're free to edit the content of that cell (both in python code or markdown code). If you hit 'Esc', you're cell will be in the Command mode and you can use shortcuts to edit your notebook:\n",
    "- a (above): add a new cell above\n",
    "- b (below): add a new cell below\n",
    "- dd: remove the cell\n",
    "- z: undo the previous action\n",
    "these are just a few of them. \n",
    "\n",
    "The blue bar on the left of your cell indicates which cell is selected. In command mode, you can move through your cells with the up and down arrow keys. \n",
    "\n",
    "Lastly, within the command mode, type 'y' to change the cell to a Python code cell and type 'm' to change the cell to a Markdown code cell. \n",
    "\n",
    "**e. Running a cell**\n",
    "\n",
    "To stress the importance of the 'stop' button on top of this notebook, run the following code below. While it is running, the code has an asterisk which means it's still being executed and your notebook won't be able to process any other code in another cell. In order to stop it, because it's an indefinite loop, hit the stop button or type 'ii' in command mode. "
   ]
  },
  {
   "cell_type": "code",
   "execution_count": null,
   "metadata": {},
   "outputs": [],
   "source": [
    "import time\n",
    "while True:\n",
    "    print(\"Hello\")\n",
    "    time.sleep(3)"
   ]
  },
  {
   "cell_type": "markdown",
   "metadata": {},
   "source": [
    "## 1.4 Examples\n",
    "The above will suffice for the Jupyter Notebook introduction. We will dive into our first examples before diving into the first chapter of our Python adventure. \n",
    "\n",
    "A program needs information (input) to run, and then needs to export its results so that you know what happened (output). The easiest way to do this is to send a 'text message' to the screen; this is possible with the print command which we will introduce here.\n",
    "\n",
    "In this section we also discuss some basics of Python syntax, and the errors that occur if you don't get it right.\n",
    "\n",
    "**a. Let's do some math**\n",
    "\n",
    "Python is very intuitive and flexible in a way that there is no need of special colons, nor do you have to take spaces into account. Just note that Python is indent-sensitive, but we will get back to this. "
   ]
  },
  {
   "cell_type": "code",
   "execution_count": null,
   "metadata": {},
   "outputs": [],
   "source": [
    "1+1"
   ]
  },
  {
   "cell_type": "code",
   "execution_count": null,
   "metadata": {},
   "outputs": [],
   "source": [
    "2 - 5"
   ]
  },
  {
   "cell_type": "code",
   "execution_count": null,
   "metadata": {},
   "outputs": [],
   "source": [
    "3  * 4"
   ]
  },
  {
   "cell_type": "code",
   "execution_count": null,
   "metadata": {},
   "outputs": [],
   "source": [
    "10/2"
   ]
  },
  {
   "cell_type": "markdown",
   "metadata": {},
   "source": [
    "## 1.5 HELP!!!\n",
    "You can quickly access Python documentation for what you're working on with `help()`. For example: "
   ]
  },
  {
   "cell_type": "code",
   "execution_count": null,
   "metadata": {},
   "outputs": [],
   "source": [
    "help(print)"
   ]
  },
  {
   "cell_type": "markdown",
   "metadata": {},
   "source": [
    "## 1.6 Getting the most out of this course\n",
    "This course is a whirlwind introduction to programming in Python. We will present many new ideas to you over the coming  days, the more you interact with and explore Python, the more you will get out of this course.  \n",
    "Try to play with Python, see what you can find out. Start new code cells regularly and experiment with the topics we're talking about and how they work together.\n",
    "\n",
    "If you find that you're falling behind or struggling please tell one of the instructors, either in the public chat or privately. We will do our best to help you!\n",
    "\n",
    "Whenever you have the time during the course, or in between the different days, you're encouraged to work on one (or both if you like) of the projects: \n",
    "- [Mutations identifier](Project_mutations_identifier.ipynb)\n",
    "- [Sequence assembly](Project_sequence_assembly.ipynb)  \n",
    "\n",
    "Both of the projects aim to encourage you to apply the things you've learned into a real-life hypothetical use-case. "
   ]
  },
  {
   "cell_type": "markdown",
   "metadata": {},
   "source": [
    "## 1.7 References\n",
    "Each chapter will have a references section that will list useful extra material for you to use if you wish.\n",
    "\n",
    "1. Zen of Python: https://www.python.org/dev/peps/pep-0020/\n",
    "1. https://realpython.com/jupyter-notebook-introduction/\n",
    "\n",
    "## 1.8 Next session\n",
    "\n",
    "Go to our [next chapter](02_Basics.ipynb). "
   ]
  },
  {
   "cell_type": "code",
   "execution_count": null,
   "metadata": {},
   "outputs": [],
   "source": []
  }
 ],
 "metadata": {
  "kernelspec": {
   "display_name": "Python 3",
   "language": "python",
   "name": "python3"
  },
  "language_info": {
   "codemirror_mode": {
    "name": "ipython",
    "version": 3
   },
   "file_extension": ".py",
   "mimetype": "text/x-python",
   "name": "python",
   "nbconvert_exporter": "python",
   "pygments_lexer": "ipython3",
   "version": "3.9.2"
  },
  "toc": {
   "base_numbering": 1,
   "nav_menu": {},
   "number_sections": true,
   "sideBar": true,
   "skip_h1_title": false,
   "title_cell": "Table of Contents",
   "title_sidebar": "Contents",
   "toc_cell": false,
   "toc_position": {},
   "toc_section_display": true,
   "toc_window_display": false
  },
  "varInspector": {
   "cols": {
    "lenName": 16,
    "lenType": 16,
    "lenVar": 40
   },
   "kernels_config": {
    "python": {
     "delete_cmd_postfix": "",
     "delete_cmd_prefix": "del ",
     "library": "var_list.py",
     "varRefreshCmd": "print(var_dic_list())"
    },
    "r": {
     "delete_cmd_postfix": ") ",
     "delete_cmd_prefix": "rm(",
     "library": "var_list.r",
     "varRefreshCmd": "cat(var_dic_list()) "
    }
   },
   "types_to_exclude": [
    "module",
    "function",
    "builtin_function_or_method",
    "instance",
    "_Feature"
   ],
   "window_display": false
  }
 },
 "nbformat": 4,
 "nbformat_minor": 4
}
