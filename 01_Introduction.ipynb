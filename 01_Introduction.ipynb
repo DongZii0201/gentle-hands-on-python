{
 "cells": [
  {
   "cell_type": "markdown",
   "metadata": {},
   "source": [
    "# Welcome to Python\n",
    "\n",
    "> _\"This is my editor. There are many like it but this one is mine.\"_\n",
    ">\n",
    "> -- Rifleman's creed (paraphrased)\n",
    "\n",
    "## 1. Welcome\n",
    "\n",
    "Welcome and congratulations! Learning how to write programs is a daunting but extremely useful skill and you've all taken the first step. It will be a long journey but you will soon notice that the skills you acquire along the way can already be put to use. This course is designed as an introduction to programming **and** and introduction to the Python language. We do not expect you to be able to weild Python independently after this course, but have a solid foundation to continue learning and applying your new skills. Without further a-do, let us get you acquainted with your programming environment: Jupyter!\n",
    "\n",
    "## 2. Introduction to Jupyter<sup>1</sup> \n",
    "Jupyter is an *interactive programming environment*.\n",
    "\n",
    "**a. Start Jupyter**\n",
    "- In Anaconda Navigator, click \"Jupyter Notebook\"\n",
    "- Navigate to the folder where you saved the course materials\n",
    "\n",
    "**b. Make a new notebook**  \n",
    "\n",
    "Navigate to a folder and click on the right `New` → `Notebook`. A new Notebook now pops up with an empty cell. In this cell you can directly input some Python code. Try out the following: \n",
    "\n",
    "```python\n",
    "1+1\n",
    "```\n",
    "\n",
    "Click on the triangle symbol on the top of the notebook or type 'Shift+Enter' to run the code. The output will immediately appear on the screen and should look like this. \n",
    "<center><img src=\"images/cells.PNG\" /></center>\n",
    "\n",
    "Also, a new cell will have appeared in the notebook. A notebook is actually a set of cells in which you can input code. \n",
    "\n",
    "If you want another cell, you can click the '+' symbol on top of the notebook. Other interesting symbols up there are the stop symbol and the reload symbol. Whenever your code is stuck, you can stop it right there, or whenever you want to restart in a clean and fresh environment, you hit that restart button. \n",
    "\n",
    "**c. Running a cell**\n",
    "\n",
    "To stress the importance of the 'stop' button on top of this notebook, run the following code below. While it is running, the code has an asterisk which means it's still being executed and your notebook won't be able to process any other code in another cell. In order to stop it, because it's an indefinite loop, hit the stop button or type 'ii' in command mode. "
   ]
  },
  {
   "cell_type": "code",
   "execution_count": null,
   "metadata": {},
   "outputs": [],
   "source": [
    "import time\n",
    "for second in [1, 2, 3]:\n",
    "    print(f\"Hello {second}\")\n",
    "    time.sleep(1)"
   ]
  },
  {
   "cell_type": "markdown",
   "metadata": {},
   "source": [
    "### 2.1 Examples\n",
    "The above will suffice for the Jupyter Notebook introduction. We will dive into our first examples before diving into the first chapter of our Python adventure. \n",
    "\n",
    "A program needs information (input) to run, and then needs to export its results so that you know what happened (output). The easiest way to do this is to send a 'text message' to the screen; this is possible with the print command which we will introduce here.\n",
    "\n",
    "In this section we also discuss some basics of Python syntax, and the errors that occur if you don't get it right.\n",
    "\n",
    "**a. Let's do some maths**\n",
    "\n",
    "Python is very intuitive and flexible in a way that there is no need of special colons, nor do you have to take spaces into account. Just note that Python is indent-sensitive, but we will get back to this. "
   ]
  },
  {
   "cell_type": "code",
   "execution_count": null,
   "metadata": {},
   "outputs": [],
   "source": [
    "1 + 1"
   ]
  },
  {
   "cell_type": "code",
   "execution_count": null,
   "metadata": {},
   "outputs": [],
   "source": [
    "2 - 5"
   ]
  },
  {
   "cell_type": "code",
   "execution_count": null,
   "metadata": {},
   "outputs": [],
   "source": [
    "3 * 4"
   ]
  },
  {
   "cell_type": "code",
   "execution_count": null,
   "metadata": {},
   "outputs": [],
   "source": [
    "10 / 2"
   ]
  },
  {
   "cell_type": "markdown",
   "metadata": {},
   "source": [
    "### 2.2 HELP!!!\n",
    "You can quickly access Python documentation for what you're working on with `help()`. For example: "
   ]
  },
  {
   "cell_type": "code",
   "execution_count": null,
   "metadata": {},
   "outputs": [],
   "source": [
    "help(print)"
   ]
  },
  {
   "cell_type": "markdown",
   "metadata": {},
   "source": [
    "## 3. How this course is organised\n",
    "This course is run over 3 weeks, 1 full day each week is spent interacting with your fellow students and your teachers. This means you will spend around 15 hours on focused learning though we strongly encourage you to spend some of your own time to solidify and expand on what you learn during the teaching days.\n",
    "\n",
    "During these 15 hours you will encounter many topics and concepts, many of which you will not immediately understand. This is ok! Programming is a skill that takes a long time and a lot of practise to master and it is our hope that this course will provide a solid foundation upon which you can continue to learn confidently. If you find that you're falling behind or struggling please tell one of the instructors, either in the public chat or privately. We will do our best to help you!\n",
    "\n",
    "Since we are interacting online, we strongly encourage you to participant as much as you are comfortable with. Interacting with your teachers, asking questions or challenging or testing what we tell you will help to solidify what you're learning and will give your teachers the feedback they need to adjust to your needs.\n",
    "\n",
    "During this course, you will build one (or maybe even more) non-trivial programs, what we are calling \"Projects\". You can find an index of projects in the \"projects\" folder [here](projects/Index.ipynb).\n",
    "\n",
    "During the 3 teaching days you will be gently introduced to major programming concepts in Python. These topics will be introduced as they are needed to solve each of the 2 thematic problems in the course:\n",
    "\n",
    "1. The childrens game, Fizz Buzz.\n",
    "1. Plotting climate data.\n",
    "\n",
    "Solving these problems will be punctuated by explanations from your trainers and other exercises to help you to become comfortable with the concepts being introduced. The programming concepts that we will use to  include:\n",
    "* Comparing things\n",
    "* Making decisions\n",
    "* Organising data\n",
    "* Operating on (collections of) data\n",
    "* The boundary between your program and the outside world\n",
    "\n",
    "Finally, as you proceed through the course try to play with Python, see what you can find out. Start new code cells regularly and experiment with the topics we're talking about and how they work together."
   ]
  },
  {
   "cell_type": "markdown",
   "metadata": {},
   "source": [
    "## 4. References\n",
    "Each chapter will have a references section that will list useful extra material for you to use if you wish.\n",
    "\n",
    "1. https://realpython.com/jupyter-notebook-introduction/\n",
    "\n",
    "## 5. Next session\n",
    "\n",
    "Go to the [next chapter](02_Basics.ipynb). "
   ]
  }
 ],
 "metadata": {
  "kernelspec": {
   "display_name": "Python 3",
   "language": "python",
   "name": "python3"
  },
  "language_info": {
   "codemirror_mode": {
    "name": "ipython",
    "version": 3
   },
   "file_extension": ".py",
   "mimetype": "text/x-python",
   "name": "python",
   "nbconvert_exporter": "python",
   "pygments_lexer": "ipython3",
   "version": "3.9.2"
  },
  "toc": {
   "base_numbering": 1,
   "nav_menu": {},
   "number_sections": true,
   "sideBar": true,
   "skip_h1_title": false,
   "title_cell": "Table of Contents",
   "title_sidebar": "Contents",
   "toc_cell": false,
   "toc_position": {},
   "toc_section_display": true,
   "toc_window_display": false
  },
  "varInspector": {
   "cols": {
    "lenName": 16,
    "lenType": 16,
    "lenVar": 40
   },
   "kernels_config": {
    "python": {
     "delete_cmd_postfix": "",
     "delete_cmd_prefix": "del ",
     "library": "var_list.py",
     "varRefreshCmd": "print(var_dic_list())"
    },
    "r": {
     "delete_cmd_postfix": ") ",
     "delete_cmd_prefix": "rm(",
     "library": "var_list.r",
     "varRefreshCmd": "cat(var_dic_list()) "
    }
   },
   "types_to_exclude": [
    "module",
    "function",
    "builtin_function_or_method",
    "instance",
    "_Feature"
   ],
   "window_display": false
  }
 },
 "nbformat": 4,
 "nbformat_minor": 4
}
