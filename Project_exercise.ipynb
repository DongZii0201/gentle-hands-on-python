{
 "cells": [
  {
   "cell_type": "markdown",
   "metadata": {},
   "source": [
    "# Project exercise\n",
    "*Practice makes perfect*  \n",
    "\n",
    "As we introduced a lot of new concepts it is important that you practice them so we can continue with new ones on the following days.\n",
    "\n",
    "----"
   ]
  },
  {
   "cell_type": "markdown",
   "metadata": {},
   "source": [
    "## Goal\n",
    "We will write a program where we read in a fasta file, extract the geneID, description and the sequence. Then, we will translate the DNA/RNA sequence into one-letter amino-acid codes & three-letter amino acid codes. The 'project exercise' is divided in small tasks which you can solve after each training day. "
   ]
  },
  {
   "cell_type": "markdown",
   "metadata": {},
   "source": [
    "**Day 1**:\n",
    "- Given the following python-code that reads in a file. Inspect the result of the cell below, how is the information stored? "
   ]
  },
  {
   "cell_type": "code",
   "execution_count": 71,
   "metadata": {
    "collapsed": true,
    "jupyter": {
     "outputs_hidden": true
    }
   },
   "outputs": [
    {
     "data": {
      "text/plain": [
       "['>HSBGPG Human gene for bone gla protein (BGP)\\n',\n",
       " 'GGCAGATTCCCCCTAGACCCGCCCGCACCATGGTCAGGCATGCCCCTCCTCATCGCTGGGCACAGCCCAGAGGGT\\n',\n",
       " 'ATAAACAGTGCTGGAGGCTGGCGGGGCAGGCCAGCTGAGTCCTGAGCAGCAGCCCAGCGCAGCCACCGAGACACC\\n',\n",
       " 'ATGAGAGCCCTCACACTCCTCGCCCTATTGGCCCTGGCCGCACTTTGCATCGCTGGCCAGGCAGGTGAGTGCCCC\\n',\n",
       " 'CACCTCCCCTCAGGCCGCATTGCAGTGGGGGCTGAGAGGAGGAAGCACCATGGCCCACCTCTTCTCACCCCTTTG\\n',\n",
       " 'GCTGGCAGTCCCTTTGCAGTCTAACCACCTTGTTGCAGGCTCAATCCATTTGCCCCAGCTCTGCCCTTGCAGAGG\\n',\n",
       " 'GAGAGGAGGGAAGAGCAAGCTGCCCGAGACGCAGGGGAAGGAGGATGAGGGCCCTGGGGATGAGCTGGGGTGAAC\\n',\n",
       " 'CAGGCTCCCTTTCCTTTGCAGGTGCGAAGCCCAGCGGTGCAGAGTCCAGCAAAGGTGCAGGTATGAGGATGGACC\\n',\n",
       " 'TGATGGGTTCCTGGACCCTCCCCTCTCACCCTGGTCCCTCAGTCTCATTCCCCCACTCCTGCCACCTCCTGTCTG\\n',\n",
       " 'GCCATCAGGAAGGCCAGCCTGCTCCCCACCTGATCCTCCCAAACCCAGAGCCACCTGATGCCTGCCCCTCTGCTC\\n',\n",
       " 'CACAGCCTTTGTGTCCAAGCAGGAGGGCAGCGAGGTAGTGAAGAGACCCAGGCGCTACCTGTATCAATGGCTGGG\\n',\n",
       " 'GTGAGAGAAAAGGCAGAGCTGGGCCAAGGCCCTGCCTCTCCGGGATGGTCTGTGGGGGAGCTGCAGCAGGGAGTG\\n',\n",
       " 'GCCTCTCTGGGTTGTGGTGGGGGTACAGGCAGCCTGCCCTGGTGGGCACCCTGGAGCCCCATGTGTAGGGAGAGG\\n',\n",
       " 'AGGGATGGGCATTTTGCACGGGGGCTGATGCCACCACGTCGGGTGTCTCAGAGCCCCAGTCCCCTACCCGGATCC\\n',\n",
       " 'CCTGGAGCCCAGGAGGGAGGTGTGTGAGCTCAATCCGGACTGTGACGAGTTGGCTGACCACATCGGCTTTCAGGA\\n',\n",
       " 'GGCCTATCGGCGCTTCTACGGCCCGGTCTAGGGTGTCGCTCTGCTGGCCTGGCCGGCAACCCCAGTTCTGCTCCT\\n',\n",
       " 'CTCCAGGCACCCTTCTTTCCTCTTCCCCTTGCCCTTGCCCTGACCTCCCAGCCCTATGGATGTGGGGTCCCCATC\\n',\n",
       " 'ATCCCAGCTGCTCCCAAATAAACTCCAGAAG']"
      ]
     },
     "execution_count": 71,
     "metadata": {},
     "output_type": "execute_result"
    }
   ],
   "source": [
    "# These lines of code will read in the file 'gene.fa' and store it in the variable fileInLines.\n",
    "with open('data/gene.fa') as fconnect:\n",
    "    fileInLines = fconnect.readlines()\n",
    "fileInLines"
   ]
  },
  {
   "cell_type": "markdown",
   "metadata": {},
   "source": [
    "- Extract the first line of the file, store the geneID in a variable and the description in another one. Tip: use slicing in combination with the methods `.split()`, `.join()` or `.replace()` could be helpful here. "
   ]
  },
  {
   "cell_type": "code",
   "execution_count": 21,
   "metadata": {},
   "outputs": [],
   "source": []
  },
  {
   "cell_type": "markdown",
   "metadata": {},
   "source": [
    "- Similarly, store the first line of the sequence in a variable named `firstSequence`, make sure to strip (trailing) whitespaces from the string. "
   ]
  },
  {
   "cell_type": "code",
   "execution_count": 29,
   "metadata": {},
   "outputs": [
    {
     "data": {
      "text/plain": [
       "'GGCAGATTCCCCCTAGACCCGCCCGCACCATGGTCAGGCATGCCCCTCCTCATCGCTGGGCACAGCCCAGAGGGT'"
      ]
     },
     "execution_count": 29,
     "metadata": {},
     "output_type": "execute_result"
    }
   ],
   "source": []
  },
  {
   "cell_type": "markdown",
   "metadata": {},
   "source": [
    "- The following python-code stores all of the possible RNA codons in a list. Inspect the result of this operation. How is the information stored?"
   ]
  },
  {
   "cell_type": "code",
   "execution_count": 72,
   "metadata": {
    "collapsed": true,
    "jupyter": {
     "outputs_hidden": true
    }
   },
   "outputs": [
    {
     "data": {
      "text/plain": [
       "['UUU',\n",
       " 'UUC',\n",
       " 'UCU',\n",
       " 'UCC',\n",
       " 'UAU',\n",
       " 'UAC',\n",
       " 'UGU',\n",
       " 'UGC',\n",
       " 'UUA',\n",
       " 'UCA',\n",
       " 'UAA',\n",
       " 'UGA',\n",
       " 'UUG',\n",
       " 'UCG',\n",
       " 'UAG',\n",
       " 'UGG',\n",
       " 'CUU',\n",
       " 'CUC',\n",
       " 'CCU',\n",
       " 'CCC',\n",
       " 'CAU',\n",
       " 'CAC',\n",
       " 'CGU',\n",
       " 'CGC',\n",
       " 'CUA',\n",
       " 'CUG',\n",
       " 'CCA',\n",
       " 'CCG',\n",
       " 'CAA',\n",
       " 'CAG',\n",
       " 'CGA',\n",
       " 'CGG',\n",
       " 'AUU',\n",
       " 'AUC',\n",
       " 'ACU',\n",
       " 'ACC',\n",
       " 'AAU',\n",
       " 'AAC',\n",
       " 'AGU',\n",
       " 'AGC',\n",
       " 'AUA',\n",
       " 'ACA',\n",
       " 'AAA',\n",
       " 'AGA',\n",
       " 'AUG',\n",
       " 'ACG',\n",
       " 'AAG',\n",
       " 'AGG',\n",
       " 'GUU',\n",
       " 'GUC',\n",
       " 'GCU',\n",
       " 'GCC',\n",
       " 'GAU',\n",
       " 'GAC',\n",
       " 'GGU',\n",
       " 'GGC',\n",
       " 'GUA',\n",
       " 'GUG',\n",
       " 'GCA',\n",
       " 'GCG',\n",
       " 'GAA',\n",
       " 'GAG',\n",
       " 'GGA',\n",
       " 'GGG']"
      ]
     },
     "execution_count": 72,
     "metadata": {},
     "output_type": "execute_result"
    }
   ],
   "source": [
    "from modules.SequenceDicts import standardRnaToProtein\n",
    "rnaCodons = list(standardRnaToProtein.keys())\n",
    "rnaCodons"
   ]
  },
  {
   "cell_type": "markdown",
   "metadata": {},
   "source": [
    "- Slice the first three codons from the `firstSequence` and check whether they are valid codons. Use an `if-else` statement and inform the user about its validity. Spoiler alert! You should find that the third codon is not a valid codon. Why is that? What should you do to fix this? "
   ]
  },
  {
   "cell_type": "code",
   "execution_count": null,
   "metadata": {
    "collapsed": true,
    "jupyter": {
     "outputs_hidden": true
    }
   },
   "outputs": [],
   "source": []
  },
  {
   "cell_type": "code",
   "execution_count": null,
   "metadata": {},
   "outputs": [],
   "source": []
  },
  {
   "cell_type": "markdown",
   "metadata": {},
   "source": [
    "- RNA is translated per group of 3 nucleotides A, C, G, T/U, called codons. Hence, in order to extract three-letter fragments from a string we will need to iterate over the string and extract all codons and translate them. We will learn how to do this in the [Loops chapter](06_Loops.ipynb). However, we already know how to create a list with the start indexes for the codons (0, 3, 6, ... end-of-string). Which arguments do we need to  pass on to the `range()` function to create such a list. "
   ]
  },
  {
   "cell_type": "code",
   "execution_count": 38,
   "metadata": {
    "collapsed": true,
    "jupyter": {
     "outputs_hidden": true
    }
   },
   "outputs": [
    {
     "data": {
      "text/plain": [
       "[0,\n",
       " 3,\n",
       " 6,\n",
       " 9,\n",
       " 12,\n",
       " 15,\n",
       " 18,\n",
       " 21,\n",
       " 24,\n",
       " 27,\n",
       " 30,\n",
       " 33,\n",
       " 36,\n",
       " 39,\n",
       " 42,\n",
       " 45,\n",
       " 48,\n",
       " 51,\n",
       " 54,\n",
       " 57,\n",
       " 60,\n",
       " 63,\n",
       " 66,\n",
       " 69,\n",
       " 72]"
      ]
     },
     "execution_count": 38,
     "metadata": {},
     "output_type": "execute_result"
    }
   ],
   "source": []
  },
  {
   "cell_type": "markdown",
   "metadata": {},
   "source": [
    "**Day 2**:\n",
    "- Read in the file `rnaSeq.fa` and store the complete sequence in a new string `fullSequence`. Extract the geneID and the description as well, remember that you already found a solution to this problem!\n",
    "\n",
    "!!! We're working with a different fasta-file now!"
   ]
  },
  {
   "cell_type": "code",
   "execution_count": 82,
   "metadata": {},
   "outputs": [],
   "source": []
  },
  {
   "cell_type": "markdown",
   "metadata": {},
   "source": [
    "- Create a `for`-loop that iterates over the sequence and stores each codon in one list (named `codonList`) that will contain all of the codons, e.g. the sequence `'AGTCGTTAG'` will become `['AGT','CGT','TAG']`. Use the `range()`-function from day 1."
   ]
  },
  {
   "cell_type": "code",
   "execution_count": 83,
   "metadata": {},
   "outputs": [],
   "source": []
  },
  {
   "cell_type": "markdown",
   "metadata": {},
   "source": [
    "- Given the following two dictionaries, loop over each codon in the `codonList` and create a new list containing the three-letter amino-acids:\n",
    "  - `standardRnaToProtein`: containing the information to translate a RNA-codon to a one-letter amino-acid,\n",
    "  - `proteinOneToThree`: containing the information to link the one-letter to the three-letter amino acids.\n"
   ]
  },
  {
   "cell_type": "code",
   "execution_count": 67,
   "metadata": {
    "collapsed": true,
    "jupyter": {
     "outputs_hidden": true
    }
   },
   "outputs": [
    {
     "name": "stdout",
     "output_type": "stream",
     "text": [
      "{'UUU': 'F', 'UUC': 'F', 'UCU': 'S', 'UCC': 'S', 'UAU': 'Y', 'UAC': 'Y', 'UGU': 'C', 'UGC': 'C', 'UUA': 'L', 'UCA': 'S', 'UAA': None, 'UGA': None, 'UUG': 'L', 'UCG': 'S', 'UAG': None, 'UGG': 'W', 'CUU': 'L', 'CUC': 'L', 'CCU': 'P', 'CCC': 'P', 'CAU': 'H', 'CAC': 'H', 'CGU': 'R', 'CGC': 'R', 'CUA': 'L', 'CUG': 'L', 'CCA': 'P', 'CCG': 'P', 'CAA': 'Q', 'CAG': 'Q', 'CGA': 'R', 'CGG': 'R', 'AUU': 'I', 'AUC': 'I', 'ACU': 'T', 'ACC': 'T', 'AAU': 'N', 'AAC': 'N', 'AGU': 'S', 'AGC': 'S', 'AUA': 'I', 'ACA': 'T', 'AAA': 'K', 'AGA': 'R', 'AUG': 'M', 'ACG': 'T', 'AAG': 'K', 'AGG': 'R', 'GUU': 'V', 'GUC': 'V', 'GCU': 'A', 'GCC': 'A', 'GAU': 'D', 'GAC': 'D', 'GGU': 'G', 'GGC': 'G', 'GUA': 'V', 'GUG': 'V', 'GCA': 'A', 'GCG': 'A', 'GAA': 'E', 'GAG': 'E', 'GGA': 'G', 'GGG': 'G'}\n",
      "{'A': 'Ala', 'C': 'Cys', 'D': 'Asp', 'E': 'Glu', 'F': 'Phe', 'G': 'Gly', 'H': 'His', 'I': 'Ile', 'K': 'Lys', 'L': 'Leu', 'M': 'Met', 'N': 'Asn', 'P': 'Pro', 'Q': 'Gln', 'R': 'Arg', 'S': 'Ser', 'T': 'Thr', 'V': 'Val', 'W': 'Trp', 'Y': 'Tyr'}\n"
     ]
    }
   ],
   "source": [
    "from modules.SequenceDicts import standardRnaToProtein, proteinOneToThree\n",
    "print(standardRnaToProtein)\n",
    "print(proteinOneToThree)"
   ]
  },
  {
   "cell_type": "code",
   "execution_count": 69,
   "metadata": {
    "collapsed": true,
    "jupyter": {
     "outputs_hidden": true
    }
   },
   "outputs": [
    {
     "name": "stdout",
     "output_type": "stream",
     "text": [
      "CAA\n",
      "CCU\n",
      "ACU\n",
      "AGA\n",
      "AGU\n",
      "GUC\n",
      "CUU\n",
      "AUU\n",
      "ACA\n",
      "UUU\n",
      "CAG\n",
      "GAA\n",
      "CCA\n",
      "UGC\n",
      "CAA\n",
      "AUA\n",
      "GGG\n",
      "UGG\n",
      "CUG\n",
      "CCC\n",
      "AAU\n",
      "ACA\n",
      "ACC\n",
      "AGG\n",
      "UUU\n",
      "GUC\n",
      "UUC\n",
      "AGA\n",
      "UCC\n",
      "AAU\n",
      "UGU\n",
      "ACU\n",
      "GCU\n",
      "GUC\n",
      "UGU\n",
      "CCG\n",
      "GUU\n",
      "CAU\n",
      "UUG\n",
      "UAU\n",
      "ACU\n",
      "ACA\n",
      "UUU\n",
      "UCU\n",
      "ACU\n",
      "['Gln', 'Pro', 'Thr', 'Arg', 'Ser', 'Val', 'Leu', 'Ile', 'Thr', 'Phe', 'Gln', 'Glu', 'Pro', 'Cys', 'Gln', 'Ile', 'Gly', 'Trp', 'Leu', 'Pro', 'Asn', 'Thr', 'Thr', 'Arg', 'Phe', 'Val', 'Phe', 'Arg', 'Ser', 'Asn', 'Cys', 'Thr', 'Ala', 'Val', 'Cys', 'Pro', 'Val', 'His', 'Leu', 'Tyr', 'Thr', 'Thr', 'Phe', 'Ser', 'Thr']\n"
     ]
    }
   ],
   "source": []
  },
  {
   "cell_type": "markdown",
   "metadata": {},
   "source": [
    "**Day 3**:\n",
    "- Write a function `readRnaFastaFile` that puts everything together. It accepts only the name of fasta file, however has the following outputs:\n",
    "  - Always: geneID, description and the codonList.\n",
    "  - Only when asked: three-letter AA code\n",
    "- Let the function check whether the file exists."
   ]
  },
  {
   "cell_type": "code",
   "execution_count": 89,
   "metadata": {},
   "outputs": [],
   "source": []
  },
  {
   "cell_type": "code",
   "execution_count": 94,
   "metadata": {
    "collapsed": true,
    "jupyter": {
     "outputs_hidden": true
    }
   },
   "outputs": [
    {
     "name": "stdout",
     "output_type": "stream",
     "text": [
      "CAA\n",
      "CCU\n",
      "ACU\n",
      "AGA\n",
      "AGU\n",
      "GUC\n",
      "CUU\n",
      "AUU\n",
      "ACA\n",
      "UUU\n",
      "CAG\n",
      "GAA\n",
      "CCA\n",
      "UGC\n",
      "CAA\n",
      "AUA\n",
      "GGG\n",
      "UGG\n",
      "CUG\n",
      "CCC\n",
      "AAU\n",
      "ACA\n",
      "ACC\n",
      "AGG\n",
      "UUU\n",
      "GUC\n",
      "UUC\n",
      "AGA\n",
      "UCC\n",
      "AAU\n",
      "UGU\n",
      "ACU\n",
      "GCU\n",
      "GUC\n",
      "UGU\n",
      "CCG\n",
      "GUU\n",
      "CAU\n",
      "UUG\n",
      "UAU\n",
      "ACU\n",
      "ACA\n",
      "UUU\n",
      "UCU\n",
      "ACU\n"
     ]
    }
   ],
   "source": [
    "# Check validity of the function\n",
    "geneID,description,codonList, proteinThreeLetterSeq = readRnaFastaFile(\"data/rnaSeq.fa\", threeLetterAA = True)\n",
    "print(geneID)\n",
    "print(description)\n",
    "print(codonList)\n",
    "print(proteinThreeLetterSeq)"
   ]
  },
  {
   "cell_type": "markdown",
   "metadata": {},
   "source": [
    "- Optionally, count the occurences of each AA and make a barplot.  "
   ]
  },
  {
   "cell_type": "code",
   "execution_count": null,
   "metadata": {},
   "outputs": [],
   "source": []
  },
  {
   "cell_type": "markdown",
   "metadata": {},
   "source": [
    "\n",
    "---\n",
    "### Project exercise: extra\n",
    "\n",
    "Write a program that does the following:\n",
    "\n",
    "1. Ask the user for a full DNA sequence\n",
    "    - Make sure the sequence contains only GACT\n",
    "2. Once you have a valid sequence\n",
    "    - For each DNA fragment the user enters:\n",
    "        - Check if it occurs in the full sequence\n",
    "        - Print out the sequence position if so\n",
    "        - Track each fragment\n",
    "    - Keep on asking the user for DNA fragments, stop if they just press return\n",
    "3. As a summary, print out all fragments with their position that you tracked"
   ]
  },
  {
   "cell_type": "markdown",
   "metadata": {},
   "source": [
    "**Tips** to complete this exercise in case you get stuck.\n",
    "- Use while loops: you can use the condition to decide when to end the loop depending on the user input\n",
    "- Track the sequence fragment and position data using a list\n",
    "- Use string methods!\n",
    "- To check the full DNA sequence, you can count how many times each GACT letter occurs, add up these counts, and compare this value to the total length of the full DNA sequence"
   ]
  },
  {
   "cell_type": "code",
   "execution_count": null,
   "metadata": {},
   "outputs": [],
   "source": []
  }
 ],
 "metadata": {
  "kernelspec": {
   "display_name": "Python 3",
   "language": "python",
   "name": "python3"
  },
  "language_info": {
   "codemirror_mode": {
    "name": "ipython",
    "version": 3
   },
   "file_extension": ".py",
   "mimetype": "text/x-python",
   "name": "python",
   "nbconvert_exporter": "python",
   "pygments_lexer": "ipython3",
   "version": "3.7.5"
  }
 },
 "nbformat": 4,
 "nbformat_minor": 4
}
