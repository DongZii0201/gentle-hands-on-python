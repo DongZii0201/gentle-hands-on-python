{
 "cells": [
  {
   "cell_type": "markdown",
   "metadata": {},
   "source": [
    "# 7. Wrap-up exercise\n",
    "*Practice makes perfect*  \n",
    "\n",
    "As we introduced a lot of new concepts it is important that you practice them so we can continue with new ones on the second day.\n",
    "\n",
    "----\n",
    "\n",
    "Write a program that does the following:\n",
    "\n",
    "1. Ask the user for a full DNA sequence\n",
    "    - Make sure the sequence contains only GACT\n",
    "2. Once you have a valid sequence\n",
    "    - For each DNA fragment the user enters:\n",
    "        - Check if it occurs in the full sequence\n",
    "        - Print out the sequence position if so\n",
    "        - Track each fragment\n",
    "    - Keep on asking the user for DNA fragments, stop if they just press return\n",
    "3. As a summary, print out all fragments with their position that you tracked"
   ]
  },
  {
   "cell_type": "markdown",
   "metadata": {},
   "source": [
    "**Tips** to complete this exercise in case you get stuck.\n",
    "- Use while loops: you can use the condition to decide when to end the loop depending on the user input\n",
    "- Track the sequence fragment and position data using a list\n",
    "- Use string methods!\n",
    "- To check the full DNA sequence, you can count how many times each GACT letter occurs, add up these counts, and compare this value to the total length of the full DNA sequence"
   ]
  },
  {
   "cell_type": "code",
   "execution_count": null,
   "metadata": {
    "scrolled": true
   },
   "outputs": [],
   "source": []
  }
 ],
 "metadata": {
  "kernelspec": {
   "display_name": "Python 3",
   "language": "python",
   "name": "python3"
  },
  "language_info": {
   "codemirror_mode": {
    "name": "ipython",
    "version": 3
   },
   "file_extension": ".py",
   "mimetype": "text/x-python",
   "name": "python",
   "nbconvert_exporter": "python",
   "pygments_lexer": "ipython3",
   "version": "3.7.3"
  }
 },
 "nbformat": 4,
 "nbformat_minor": 2
}
