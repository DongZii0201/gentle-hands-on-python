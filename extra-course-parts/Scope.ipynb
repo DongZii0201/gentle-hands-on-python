{
 "cells": [
  {
   "cell_type": "markdown",
   "id": "8edc3257-07eb-4477-b6f0-7b51bf06829c",
   "metadata": {},
   "source": [
    "# Scope\n",
    "\n",
    "When you define a variable you can think of this as writing it down in a notebook. You can put new, blank pages into the end of the notebook and you can tear the last page out. This roughly corresponds to indentation levels in Python:\n",
    "\n",
    "\n",
    "```python\n",
    "# Global scope\n",
    "global_var = 0\n",
    "\n",
    "def fun():\n",
    "    # Local scope\n",
    "    local_var = 1\n",
    "    print(global_var)\n",
    "\n",
    "fun()\n",
    "print(global_var)\n",
    "print(local_var)\n",
    "```\n",
    "\n",
    "When the flow of execution enters an indented block you place a new page in your notebook and start writing down variables there. When the flow of execution leaves an indented block you tare that page out. This analogy breaks down a little because you can access variables in an \"outer scope\" (previous pages) from a \"local scope\".\n",
    "\n",
    "In the example above<sup>4</sup>, `global_var` is defined in the global scope. Then the `fun()` function is called which defines a `local_var` and prints `global_var`. This occurs in a \"local scope\" so, when the function is finished, the page with `local_var` will be torn out. When we pring `global_var` in the global scope we get `0` as expected, but trying to print `local_var` from the global scope will result in Python complaining that `local_var` is not defined."
   ]
  },
  {
   "cell_type": "markdown",
   "id": "3252f640-c3a2-4efb-b92c-bf3d0d128ba2",
   "metadata": {},
   "source": [
    "## Review question\n",
    "\n",
    "In this code snippet, what is the final value of `global_var` (what is printed)?\n",
    "<pre>\n",
    "<code class=\"cm-s-jupyter language-python\">\n",
    "<span class=\"cm-keyword\">def</span> <span class=\"cm-def\">myfun</span>(n):\n",
    "&nbsp;&nbsp;<span class=\"cm-variable\">lcl</span> <span class=\"cm-operator\">=</span> <span class=\"cm-variable\">n</span>\n",
    "&nbsp;&nbsp;global_var <span class=\"cm-operator\">=</span> lcl <span class=\"cm-operator\">*</span> <span class=\"cm-number\">2</span>\n",
    "&nbsp;&nbsp;<span class=\"cm-keyword\">return</span> global_var <span class=\"cm-operator\">+</span> lcl\n",
    "&nbsp;\n",
    "<span class=\"cm-variable\">global_var</span> <span class=\"cm-operator\">=</span> <span class=\"cm-variable\">myfun</span>(<span class=\"cm-number\">5</span>)\n",
    "myfun(global_var)\n",
    "<span class=\"cm-builtin\">print</span>(global_var)\n",
    "</code>\n",
    "</pre>\n",
    "<details>\n",
    "    <summary>Answer</summary>\n",
    "    The <code>global_var</code> definition in the <code>myfun</code> function is a local \"shaddow\" of the definition in the global scope. So <code>myfun</code> essentially multiplies its argument by 3. The global scoped <code>global_var</code> is initially set to <code>15</code>. The following call to <code>myfun</code> has no effect on <code>global_var</code> so <code>15</code> will be printed.\n",
    "</details>"
   ]
  },
  {
   "cell_type": "code",
   "execution_count": null,
   "id": "9963fda6-7922-47ea-a3ae-5cd2966a2531",
   "metadata": {},
   "outputs": [],
   "source": []
  }
 ],
 "metadata": {
  "kernelspec": {
   "display_name": "Python 3",
   "language": "python",
   "name": "python3"
  },
  "language_info": {
   "codemirror_mode": {
    "name": "ipython",
    "version": 3
   },
   "file_extension": ".py",
   "mimetype": "text/x-python",
   "name": "python",
   "nbconvert_exporter": "python",
   "pygments_lexer": "ipython3",
   "version": "3.9.2"
  }
 },
 "nbformat": 4,
 "nbformat_minor": 5
}
