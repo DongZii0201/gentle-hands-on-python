{
 "cells": [
  {
   "cell_type": "markdown",
   "metadata": {},
   "source": [
    "# 10 Modules Extra\n",
    "\n",
    "\n",
    "## 10.1 Introduction\n",
    "We know how to make functions, but how can you re-use them? Imagine that you've started writing code and functions in one file and the project has grown to such an extent that it would be easier to maintain it in different files each containing a specific part of the project. Or you want to re-use some of the functions in other projects as well. \n",
    "\n",
    "In Python you can import functions and chunks of code from files. Such a file containing the functions is called a *module*. Generally we say that we import a *definition* from a *module*. A module can have one or multiple functions in it. \n",
    "The file name is the module name with the suffix `.py` appended. \n",
    "\n",
    "Using the code from this module is possible by using **import**. In this way you can import your own functions, but also draw on a very extensive library of functions provided by Python (built-in modules). In this extra sections part we will look at the syntax for imports and how to import your own functions."
   ]
  },
  {
   "cell_type": "markdown",
   "metadata": {},
   "source": [
    "## 10.2 How imports work\n",
    "The easiest way to import a module looks like this:\n",
    "\n",
    "```python\n",
    "import module1\n",
    "```\n",
    "\n",
    "Imagine that in the module `module1`, there is a function called `getMeanValue()`. This way of importing does not make the name of the function available; it only remembers the module name `module1` which you can than use to access the functions within the module:\n",
    "\n",
    "```python\n",
    "import module1\n",
    "module1.getMeanValue([1,2,3])\n",
    "```\n",
    "\n",
    "## 10.3 How to create your own module\n",
    "The easiest example is importing a module from within the same working directory. Let's create a Python module called `module1.py` with the code of the function `getMeanValue()` that we have written earlier (and you can find here below). \n",
    "\n",
    "**Create a module in Jupyter Lab/Notebook**\n",
    "- In order to create a module in Jupyter Lab, first create a new notebook \n",
    "- Rename the notebook (e.g. 'module1.ipynb') and copy paste the code in the notebook \n",
    "- Click 'File', 'Download as' and 'Python' \n",
    "- Jupyter will not download it in some local folder, copy it to your current working directory (in our case in the same directory as we're in right now). \n",
    "\n",
    "Unfortunately, Jupyter Lab/Notebook doesn't have a streamlined & straightforward way of creating Python modules and Python scripts. When you export the notebook, it will always export the whole Notebook and not just a part of it, which makes it very messy if you have a very large notebook. \n",
    "\n",
    "Import the following code in the `module1.py` file. "
   ]
  },
  {
   "cell_type": "code",
   "execution_count": 2,
   "metadata": {},
   "outputs": [],
   "source": [
    "# When you download this as a Python script, Jupyter will automatically insert the environment shebang here. \n",
    "\n",
    "def getMeanValue(valueList):\n",
    "    \"\"\"\n",
    "    Calculate the mean (average) value from a list of values.\n",
    "    Input: list of integers/floats\n",
    "    Output: mean value\n",
    "    \"\"\"\n",
    "    valueTotal = 0.0\n",
    " \n",
    "    for value in valueList:\n",
    "        valueTotal += value\n",
    "    numberValues = len(valueList)\n",
    "    \n",
    "    return (valueTotal/numberValues)"
   ]
  },
  {
   "cell_type": "markdown",
   "metadata": {},
   "source": [
    "## 10.4 Import syntax \n",
    "We can now use the module we just created by importing it. In this case where we import the whole 'module1' file, we can call the function as a method, similar to the methods for lists and strings that we saw earlier:"
   ]
  },
  {
   "cell_type": "code",
   "execution_count": null,
   "metadata": {},
   "outputs": [],
   "source": [
    "import module\n",
    "\n",
    "print(module1.getMeanValue([4,6,77,3,67,54,6,5]))"
   ]
  },
  {
   "cell_type": "markdown",
   "metadata": {},
   "source": [
    "If we were to write code for a huge project, long names can get exhaustive. Programmers will intrinsically make shortcut names for functions they use a lot. Renaming a module is therefore a common thing to do (e.g. NumPy as np, pandas as pd, etc.):"
   ]
  },
  {
   "cell_type": "code",
   "execution_count": null,
   "metadata": {},
   "outputs": [],
   "source": [
    "import module1 as m1\n",
    "\n",
    "print(m1.getMeanValue([4,6,77,3,67,54,6,5]))"
   ]
  },
  {
   "cell_type": "markdown",
   "metadata": {},
   "source": [
    "When importing a file, Python only searches the current directory, the directory that the entry-point script is running from, and sys.path which includes locations such as the package installation directory (it's actually a little more complex than this, but this covers most cases).\n",
    "\n",
    "However, you can specify the Python path yourself as well. Note that within our folders there is a directory named `modules` and within this folder, there is a module named `module2` (recognizable due to its .py extension). In that module there are two functions: 'getMeanValue' and 'compareMeanValueOfLists'. "
   ]
  },
  {
   "cell_type": "code",
   "execution_count": null,
   "metadata": {},
   "outputs": [],
   "source": [
    "from modules import module2\n",
    "\n",
    "print(module2.getMeanValue([4,6,77,3,67,54,6,5]))"
   ]
  },
  {
   "cell_type": "code",
   "execution_count": null,
   "metadata": {},
   "outputs": [],
   "source": [
    "from modules import module2 as m2\n",
    "\n",
    "print(m2.getMeanValue([4,6,77,3,67,54,6,5]))"
   ]
  },
  {
   "cell_type": "markdown",
   "metadata": {},
   "source": [
    "Another way of writing this is with an absolute path to the module. You can explicitly import an attribute from a module."
   ]
  },
  {
   "cell_type": "code",
   "execution_count": null,
   "metadata": {},
   "outputs": [],
   "source": [
    "from modules.module2 import compareMeanValueOfLists\n",
    "\n",
    "print(compareMeanValueOfLists([1,2,3,4,5,6,7], [4,6,77,3,67,54,6,5]))"
   ]
  },
  {
   "cell_type": "markdown",
   "metadata": {},
   "source": [
    "So here we *import* the function compareMeanValueOfLists (without brackets!) from the file *module2* (without .py extension!).\n",
    "\n",
    "In order to have an overview of all the different functions within a module, use `dir()`:"
   ]
  },
  {
   "cell_type": "code",
   "execution_count": null,
   "metadata": {},
   "outputs": [],
   "source": [
    "dir(module2)"
   ]
  },
  {
   "cell_type": "markdown",
   "metadata": {},
   "source": [
    "---\n",
    "### 10.4.5 Extra exercises\n",
    "\n",
    "Inspect the file `SampleInfo.txt`. Write a program that:\n",
    "\n",
    "- Has a function `readSampleInformationFile()` to read the information from this sample data file into a dictionary. Also check whether the file exists.\n",
    "- Has a function `getSampleIdsForValueRange()` that can extract sample IDs from this dictionary. Print the sample IDs for pH 6.0-7.0, temperature 280-290 and volume 200-220 using this function.\n",
    "\n",
    "---"
   ]
  },
  {
   "cell_type": "code",
   "execution_count": null,
   "metadata": {},
   "outputs": [],
   "source": [
    "import os\n",
    " \n",
    "def readSampleInformationFile(fileName):\n",
    " \n",
    "    # Read in the sample information file in .csv (comma-delimited) format\n",
    "\n",
    "    # Doublecheck if file exists\n",
    "    if not os.path.exists(fileName):\n",
    "        print(f\"File {fileName} does not exist!\")\n",
    "        return None\n",
    " \n",
    "    # Open the file and read the information\n",
    "    with open(fileName) as fileHandle:\n",
    "        lines = fileHandle.readlines()\n",
    "\n",
    "    # Now read the information. The first line has the header information which\n",
    "    # we are going to use to create the dictionary!\n",
    "\n",
    "    fileInfoDict = {}\n",
    "\n",
    "    headerCols = lines[0].strip().split(',')\n",
    "\n",
    "    # Now read in the information, use the first column as the key for the dictionary\n",
    "    # Note that you could organise this differently by creating a dictionary with\n",
    "    # the header names as keys, then a list of the values for each of the columns.\n",
    "\n",
    "    for line in lines[1:]:\n",
    " \n",
    "        line = line.strip()  # Remove newline characters\n",
    "        cols = line.split(',')\n",
    "\n",
    "        sampleId = int(cols[0])\n",
    "\n",
    "        fileInfoDict[sampleId] = {}\n",
    "\n",
    "        # Don't use the first column, is already the key!\n",
    "        for i in range(1,len(headerCols)):\n",
    "            valueName = headerCols[i]\n",
    " \n",
    "            value = cols[i]\n",
    "            if valueName in ('pH','temperature','volume'):\n",
    "                value = float(value)\n",
    "\n",
    "            fileInfoDict[sampleId][valueName] = value\n",
    "\n",
    "    # Return the dictionary with the file information\n",
    "    return fileInfoDict\n",
    "\n",
    "def getSampleIdsForValueRange(fileInfoDict,valueName,lowValue,highValue):\n",
    " \n",
    "    # Return the sample IDs that fit within the given value range for a kind of value\n",
    " \n",
    "    #sampleIdList = fileInfoDict.keys()\n",
    "    #sampleIdList.sort()\n",
    "    sampleIdList = sorted(fileInfoDict.keys())\n",
    "    sampleIdsFound = []\n",
    "\n",
    "    for sampleId in sampleIdList:\n",
    "\n",
    "        currentValue = fileInfoDict[sampleId][valueName]\n",
    " \n",
    "        if lowValue <= currentValue <= highValue:\n",
    "            sampleIdsFound.append(sampleId)\n",
    " \n",
    "    return sampleIdsFound\n",
    " \n",
    "if __name__ == '__main__':\n",
    " \n",
    "    fileInfoDict = readSampleInformationFile(\"../data/SampleInfo.txt\")\n",
    "\n",
    "    print(getSampleIdsForValueRange(fileInfoDict,'pH',6.0,7.0))\n",
    "    print(getSampleIdsForValueRange(fileInfoDict,'temperature',280,290))\n",
    "    print(getSampleIdsForValueRange(fileInfoDict,'volume',200,220))"
   ]
  }
 ],
 "metadata": {
  "kernelspec": {
   "display_name": "Python 3",
   "language": "python",
   "name": "python3"
  },
  "language_info": {
   "codemirror_mode": {
    "name": "ipython",
    "version": 3
   },
   "file_extension": ".py",
   "mimetype": "text/x-python",
   "name": "python",
   "nbconvert_exporter": "python",
   "pygments_lexer": "ipython3",
   "version": "3.7.5"
  }
 },
 "nbformat": 4,
 "nbformat_minor": 4
}
