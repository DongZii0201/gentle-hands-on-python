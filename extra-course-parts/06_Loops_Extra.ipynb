{
 "metadata": {
  "language_info": {
   "codemirror_mode": {
    "name": "ipython",
    "version": 3
   },
   "file_extension": ".py",
   "mimetype": "text/x-python",
   "name": "python",
   "nbconvert_exporter": "python",
   "pygments_lexer": "ipython3",
   "version": 3
  },
  "orig_nbformat": 2
 },
 "nbformat": 4,
 "nbformat_minor": 2,
 "cells": [
  {
   "source": [
    "### Looping with `enumerate()`\n",
    "\n",
    "What if we want to access both the value and the index of an element in a `for`-loop?"
   ],
   "cell_type": "markdown",
   "metadata": {}
  },
  {
   "cell_type": "code",
   "execution_count": null,
   "metadata": {},
   "outputs": [],
   "source": [
    "myTuple = (\"E\", \"I\", \"E\", \"I\", \"O\")\n",
    "\n",
    "for myElement in myTuple:\n",
    "    # Where am I? Am I working on the first \"I\" or the second one?"
   ]
  },
  {
   "source": [
    "You could manually iterate over the indexes. You'll first have to find the length of the list and then use range to generate the list of indexes. Then, once you have the indexes, you can slice the corresponding element from the iterable:"
   ],
   "cell_type": "markdown",
   "metadata": {}
  },
  {
   "cell_type": "code",
   "execution_count": null,
   "metadata": {},
   "outputs": [],
   "source": [
    "# The iterable stored in a variable\n",
    "myTuple = (\"E\", \"I\", \"E\", \"I\", \"O\")\n",
    "# First find out how many elements there are in the iterable\n",
    "myTupleLength = len(myTuple)\n",
    "\n",
    "# Use the length of the iterable to create an object with numbers ranging from 0 to the length of the iterable (-1)\n",
    "for tupleIndex in range(myTupleLength):\n",
    "    # Slice element from iterable by using the index\n",
    "    myElement = myTuple[tupleIndex]\n",
    "    print(f\"Letter {myElement} is at position {tupleIndex}\")  # Python starts counting at 0. Add 1 if you want to translate it in human-readable code"
   ]
  },
  {
   "source": [
    "Arguably, this approach is very tedious, especially when things get more complicated. "
   ],
   "cell_type": "markdown",
   "metadata": {}
  },
  {
   "source": [
    "Python has a solution for us, fortunately! `enumerate()` is a built-in function that _enumerates_ the elements of the _iterable_ you're looping over. It gives you a _tuple_ containing the index of the element you're working on and the value of the element itself: `(index, value)`. "
   ],
   "cell_type": "markdown",
   "metadata": {}
  },
  {
   "source": [
    "How does the `enumerate()` function work? The output of `enumerate()` could be summarised in a table as follows:\n",
    "\n",
    "| index | value |\n",
    "|---|---|\n",
    "| 0 | E |\n",
    "| 1 | I |\n",
    "| 2 | E |\n",
    "| 3 | I |\n",
    "| 4 | O |\n",
    "\n",
    "The first output is thus `(0, E)`, the second is `(1, I)`, third one is `(2, E)` and so on. Let's have an example:"
   ],
   "cell_type": "markdown",
   "metadata": {}
  },
  {
   "cell_type": "code",
   "execution_count": null,
   "metadata": {},
   "outputs": [],
   "source": [
    "myTuple = (\"E\", \"I\", \"E\", \"I\", \"O\")\n",
    "for line in enumerate(myTuple):\n",
    "    print(line)"
   ]
  },
  {
   "source": [
    "When only one argument (`line`) is given, we obtain the tuple containing both the index and the element. \n",
    "\n",
    "A convenient way of exploiting the enumerate function is by _unpacking_ the *enumerate* tuple as we saw at the end of the previous chapter:"
   ],
   "cell_type": "markdown",
   "metadata": {}
  },
  {
   "cell_type": "code",
   "execution_count": null,
   "metadata": {},
   "outputs": [],
   "source": [
    "myTuple = (\"E\", \"I\", \"E\", \"I\", \"O\")\n",
    "\n",
    "for index, myElement in enumerate(myTuple):\n",
    "    # the first argument will be the index, the second is the element\n",
    "    print(f\"I'm at {index} and working on {myElement}\")"
   ]
  },
  {
   "source": [
    "Also here, the names of the variables *index* and *myElement* can be chosen randomly. "
   ],
   "cell_type": "markdown",
   "metadata": {}
  },
  {
   "source": [
    "If, for any reason, you're only interested in extracting one value (index or element), we can unpack the value element to a variable name Python programmers reserve for anything meaning *ignore this*: `_`."
   ],
   "cell_type": "markdown",
   "metadata": {}
  },
  {
   "cell_type": "code",
   "execution_count": null,
   "metadata": {},
   "outputs": [],
   "source": [
    "myTuple = (\"E\", \"I\", \"E\", \"I\", \"O\")\n",
    "\n",
    "# Using the ignore-this-element value: _ \n",
    "for index, _ in enumerate(myTuple):\n",
    "    print(index)"
   ]
  }
 ]
}