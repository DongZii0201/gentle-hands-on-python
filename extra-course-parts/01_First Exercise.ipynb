{
 "cells": [
  {
   "cell_type": "markdown",
   "metadata": {},
   "source": [
    "# Thinking like a programmer\n",
    "In this exercise you will describe to an alien (or a computer; something without your intuition) how to complete a\n",
    "relatively simple (for you) task. It requires you to break the task down into trivial steps.\n",
    "\n",
    "There's no wrong way to do this, it is simply trying to demonstrate _computational thinking_."
   ]
  },
  {
   "cell_type": "markdown",
   "metadata": {},
   "source": [
    "## An Example:\n",
    "Describe how to make a cup of coffee. We'll have to think about everything we need (e.g. mug, water, coffee powder, teaspoon, milk) and we'll have to break down the process in smaller parts.  "
   ]
  },
  {
   "cell_type": "code",
   "execution_count": null,
   "metadata": {},
   "outputs": [],
   "source": [
    "# Step 1: Retrieve a mug from the cupboard\n",
    "\n",
    "# Step 2: Place the mug in the centre of the table top\n",
    "\n",
    "# Step 3: Boil a kettle of water\n",
    "\n",
    "# Step 4: While the kettle is boiling, retrieve a jar of instant coffee\n",
    "\n",
    "# Step 5: Retrieve a teaspoon from the cuttlery draw\n",
    "\n",
    "# Step 6: Place 1 filled teaspoon of coffee powder into the mug in the centre of the table\n",
    "\n",
    "# Step 7: Once the water is boiling, pour the boiling water from the kettle into the mug up to 2cm from the lip\n",
    "\n",
    "# Step 8: Retrieve milk from the refrigerator\n",
    "\n",
    "# Step 9: Fill the remainder of the mug with milk up to 1cm from the lip\n",
    "\n",
    "# Step 10: Use the teaspoon to stir the contents of the mug 5 times."
   ]
  },
  {
   "cell_type": "markdown",
   "metadata": {},
   "source": [
    "## Your task:\n",
    "Descibe the process of making a pizza. Use (at least) the following ingredients: dough, tomato sauce, cheese and mushrooms. \n",
    "\n",
    "You'll be divided in subgroups and together think of each step in the process of making a pizza. Write them down in a list of steps in which each sentence describes a process and, in your opinion, is interpretable by a computer. \n",
    "When you're done, copy-paste your approach into the chat. "
   ]
  },
  {
   "cell_type": "code",
   "execution_count": null,
   "metadata": {},
   "outputs": [],
   "source": [
    "# Make a pizza"
   ]
  }
 ],
 "metadata": {
  "kernelspec": {
   "display_name": "Python 3",
   "language": "python",
   "name": "python3"
  },
  "language_info": {
   "codemirror_mode": {
    "name": "ipython",
    "version": 3
   },
   "file_extension": ".py",
   "mimetype": "text/x-python",
   "name": "python",
   "nbconvert_exporter": "python",
   "pygments_lexer": "ipython3",
   "version": "3.7.5"
  }
 },
 "nbformat": 4,
 "nbformat_minor": 4
}
