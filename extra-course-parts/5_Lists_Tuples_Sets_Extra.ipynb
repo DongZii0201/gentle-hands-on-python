{
 "cells": [
  {
   "cell_type": "markdown",
   "metadata": {},
   "source": [
    "# 5 Lists, Tuples and Sets\n",
    "\n",
    "In [Chapter 5: Lists and Tuples](../5_Lists_Tuples.ipynb) we had a look at the properties of *lists* and *tuples*. *Sets* are another valuable Python collections, however they're used less on a day-to-day base. For the sake of completeness, we will cover them here in some extra course materials.\n",
    "\n",
    "We also included a section on how to extract values from a list or a tuple by means of destructuring or unpacking. This method is sometimes a better alternative to slicing."
   ]
  },
  {
   "cell_type": "markdown",
   "metadata": {},
   "source": [
    "## 5.1 Sets  \n",
    "*Sets* are also a collection of multiple values, but they are _unordered_ and all values in a set are _unique_. It is much easier to compare them to each other. Because sets cannot have multiple occurrences of the same element, it makes sets highly useful to efficiently remove duplicate values from a list or tuple and to perform common math operations like unions and intersections.\n",
    "\n",
    "![sets](../images/Python-Set-Operatioons.png)\n",
    "Source: https://www.learnbyexample.org/python-set/\n",
    "\n",
    "You initialise them by using **set()** on a list or tuple:"
   ]
  },
  {
   "cell_type": "code",
   "execution_count": 2,
   "metadata": {},
   "outputs": [
    {
     "data": {
      "text/plain": [
       "{1, 3, 5, 6}"
      ]
     },
     "execution_count": 2,
     "metadata": {},
     "output_type": "execute_result"
    }
   ],
   "source": [
    "myList = [1 , 3, 5, 6, 6]\n",
    "mySet = set(myList)\n",
    "mySet"
   ]
  },
  {
   "cell_type": "markdown",
   "metadata": {},
   "source": [
    "**Question**: How would you create an empty `set()`?"
   ]
  },
  {
   "cell_type": "code",
   "execution_count": 3,
   "metadata": {},
   "outputs": [
    {
     "data": {
      "text/plain": [
       "set()"
      ]
     },
     "execution_count": 3,
     "metadata": {},
     "output_type": "execute_result"
    }
   ],
   "source": [
    "# Create an empty set\n",
    "newSet = set()\n",
    "newSet"
   ]
  },
  {
   "cell_type": "code",
   "execution_count": 5,
   "metadata": {},
   "outputs": [
    {
     "data": {
      "text/plain": [
       "['__and__',\n",
       " '__class__',\n",
       " '__contains__',\n",
       " '__delattr__',\n",
       " '__dir__',\n",
       " '__doc__',\n",
       " '__eq__',\n",
       " '__format__',\n",
       " '__ge__',\n",
       " '__getattribute__',\n",
       " '__gt__',\n",
       " '__hash__',\n",
       " '__iand__',\n",
       " '__init__',\n",
       " '__init_subclass__',\n",
       " '__ior__',\n",
       " '__isub__',\n",
       " '__iter__',\n",
       " '__ixor__',\n",
       " '__le__',\n",
       " '__len__',\n",
       " '__lt__',\n",
       " '__ne__',\n",
       " '__new__',\n",
       " '__or__',\n",
       " '__rand__',\n",
       " '__reduce__',\n",
       " '__reduce_ex__',\n",
       " '__repr__',\n",
       " '__ror__',\n",
       " '__rsub__',\n",
       " '__rxor__',\n",
       " '__setattr__',\n",
       " '__sizeof__',\n",
       " '__str__',\n",
       " '__sub__',\n",
       " '__subclasshook__',\n",
       " '__xor__',\n",
       " 'add',\n",
       " 'clear',\n",
       " 'copy',\n",
       " 'difference',\n",
       " 'difference_update',\n",
       " 'discard',\n",
       " 'intersection',\n",
       " 'intersection_update',\n",
       " 'isdisjoint',\n",
       " 'issubset',\n",
       " 'issuperset',\n",
       " 'pop',\n",
       " 'remove',\n",
       " 'symmetric_difference',\n",
       " 'symmetric_difference_update',\n",
       " 'union',\n",
       " 'update']"
      ]
     },
     "execution_count": 5,
     "metadata": {},
     "output_type": "execute_result"
    }
   ],
   "source": [
    "dir(mySet)"
   ]
  },
  {
   "cell_type": "code",
   "execution_count": 6,
   "metadata": {},
   "outputs": [
    {
     "name": "stdout",
     "output_type": "stream",
     "text": [
      "{0, 1, 2, 3, 4, 5, 6, 7, 8, 9}\n",
      "{5, 6, 7, 8, 9, 10, 11, 12, 13, 14, 15, 16, 17, 18, 19}\n",
      "{5, 6, 7, 8, 9, 10, 11, 12, 13, 14, 15, 16, 17, 18, 19}\n",
      "{5, 6, 7, 8, 9}\n",
      "{0, 1, 2, 3, 4, 5, 6, 7, 8, 9, 10, 11, 12, 13, 14, 15, 16, 17, 18, 19}\n"
     ]
    }
   ],
   "source": [
    "mySet1 = set(range(10))\n",
    "mySet2 = set(range(5,20))\n",
    " \n",
    "print(f\"{mySet1}\")\n",
    "print(f\"{mySet2}\")\n",
    " \n",
    "mySet2.add(5)  # Elements in a set are unique - the set will not change because it already has a 5\n",
    "print(mySet2)\n",
    "\n",
    "print(mySet1.intersection(mySet2))\n",
    "print(mySet1.union(mySet2))"
   ]
  },
  {
   "cell_type": "markdown",
   "metadata": {},
   "source": [
    "The principle of using intersection and union is the same as the Venn diagrams you probably saw in school... You can also make a set out of a string:"
   ]
  },
  {
   "cell_type": "code",
   "execution_count": null,
   "metadata": {},
   "outputs": [],
   "source": [
    "myString = \"This is a sentence.\"\n",
    "\n",
    "myLetters = set(myString)\n",
    "myLetters    # Note that an upper case T and lower case t are not the same!"
   ]
  },
  {
   "cell_type": "markdown",
   "metadata": {},
   "source": [
    "There are more things you can do with sets which we will not go into here, see the [Python sets](https://docs.python.org/3/library/stdtypes.html#types-set) documentation for more information."
   ]
  },
  {
   "cell_type": "markdown",
   "metadata": {},
   "source": [
    "---\n",
    "### 5.5.1 Exercise\n",
    "\n",
    "Which letters are shared between the words \"perspicacious\" and \"circumlocution\"?\n",
    "\n",
    "---"
   ]
  },
  {
   "cell_type": "code",
   "execution_count": null,
   "metadata": {},
   "outputs": [],
   "source": []
  },
  {
   "cell_type": "markdown",
   "metadata": {},
   "source": [
    "## 5.2 De-structuring or Unpacking\n",
    "There are times when you will want \"pull values out of\" a list, tuple, or set and give individual values a name.\n",
    "You can of course achieve this like so:\n",
    "```python\n",
    "myList = ['a', 'b', 'c', 'd']\n",
    "first = myList[0]\n",
    "second = myList[1]\n",
    "rest = myList[2:]\n",
    "```\n",
    "\n",
    "This is perfectly fine in many situations. But, as we will see later, it doesn't work in situation where you cannot\n",
    "perform assignment. But fear not! Python to the rescue! You can de-structure collection structures to name individual\n",
    "elements. Using this technique, the above example becomes:"
   ]
  },
  {
   "cell_type": "code",
   "execution_count": 10,
   "metadata": {},
   "outputs": [
    {
     "name": "stdout",
     "output_type": "stream",
     "text": [
      "a b ['c', 'd']\n"
     ]
    }
   ],
   "source": [
    "myList = ['a', 'b', 'c', 'd']\n",
    "first, second, *rest = myList\n",
    "print(f\"{first} {second} {rest}\")"
   ]
  },
  {
   "cell_type": "code",
   "execution_count": 11,
   "metadata": {},
   "outputs": [
    {
     "data": {
      "text/plain": [
       "('a', 'b')"
      ]
     },
     "execution_count": 11,
     "metadata": {},
     "output_type": "execute_result"
    }
   ],
   "source": [
    "myString = \"ab\"\n",
    "fst, snd = myString\n",
    "(fst, snd)"
   ]
  },
  {
   "cell_type": "markdown",
   "metadata": {},
   "source": [
    "The first thing you will notice is the `*` before the name `rest`. This is the _unpacking operator_, it's a catch-all\n",
    "for everything _else_ in the structure being unpacked. You'll also notice that I lied, I **am** _doing assignment_!\n",
    "That's for demonstration only, you will see unpacking without explicit assignment in the next chapter."
   ]
  },
  {
   "cell_type": "markdown",
   "metadata": {},
   "source": [
    "## 5.3 Overview"
   ]
  },
  {
   "cell_type": "markdown",
   "metadata": {},
   "source": [
    "Each collection is useful in different circumstances, we hope that you have an understanding of where and when each should be used.\n",
    "\n",
    "| Python Collection | Representation | Ordered? | Mutable? | Duplicate members? |\n",
    "|:------------|:---------------|:--------:|:--------:|:------------------:|\n",
    "| `List` | `[]` | ✔ | ✔ | ✔ |\n",
    "| `Tuple` | `()` | ✔ | ❌ | ✔ |\n",
    "| `Set` | `set()` | ❌ | ✔ | ❌ |\n"
   ]
  }
 ],
 "metadata": {
  "kernelspec": {
   "display_name": "Python 3",
   "language": "python",
   "name": "python3"
  },
  "language_info": {
   "codemirror_mode": {
    "name": "ipython",
    "version": 3
   },
   "file_extension": ".py",
   "mimetype": "text/x-python",
   "name": "python",
   "nbconvert_exporter": "python",
   "pygments_lexer": "ipython3",
   "version": "3.7.3"
  }
 },
 "nbformat": 4,
 "nbformat_minor": 2
}
