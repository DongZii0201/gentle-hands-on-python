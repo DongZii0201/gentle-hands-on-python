{
 "cells": [
  {
   "cell_type": "markdown",
   "metadata": {},
   "source": [
    "# 10. Modules\n",
    "\n",
    "> _\"Namespaces are one honking great idea -- let's do more of those!\"_\n",
    "\n",
    "## 10.1 Introduction\n",
    "\n",
    "So now we know that we can make our own functions, it's probably also worth mentioning that you don't have to reinvent the wheel. Python has a huge library of functions that you don't know about yet and is lying there, ready to be discovered. In this section we'll explain how to *import* a couple of these built-in modules.  \n",
    "\n",
    "Using the code from a built-in module is possible by using **import**. In this way you can import your own functions, but also draw on a very extensive library of functions provided by Python (built-in modules).\n"
   ]
  },
  {
   "cell_type": "markdown",
   "metadata": {},
   "source": [
    "## 10.2 Import syntax \n",
    "Imagine that `module` is a module in Python, the easiest way to import that module looks like this:"
   ]
  },
  {
   "cell_type": "code",
   "execution_count": null,
   "metadata": {},
   "outputs": [],
   "source": [
    "import module"
   ]
  },
  {
   "cell_type": "markdown",
   "metadata": {},
   "source": [
    "This way of importing does not make the name of the function available; it only remembers the module name `module` which you can than use to access the functions within the module. If the module contains a function called `hello()`, we could access in a following way:"
   ]
  },
  {
   "cell_type": "code",
   "execution_count": null,
   "metadata": {},
   "outputs": [],
   "source": [
    "import module\n",
    "\n",
    "module.hello()"
   ]
  },
  {
   "cell_type": "markdown",
   "metadata": {},
   "source": [
    "Programmers are lazy. They don't like to type `module` each time they want to access a function, hence they came up with some shortcuts. \n",
    "\n",
    "Renaming is one possibility:"
   ]
  },
  {
   "cell_type": "code",
   "execution_count": null,
   "metadata": {},
   "outputs": [],
   "source": [
    "import module as m\n",
    "m.hello()"
   ]
  },
  {
   "cell_type": "markdown",
   "metadata": {},
   "source": [
    "This syntax is used the most. Do you recognize any of the import statements below? \n",
    "\n",
    "```python\n",
    "import pandas as pd\n",
    "import numpy as np\n",
    "import seaborn as sns\n",
    "import matplotlib.pyplot as plt\n",
    "```\n",
    "\n",
    "These are `import` conventions and are the preferred way of importing these external libraries. "
   ]
  },
  {
   "cell_type": "markdown",
   "metadata": {},
   "source": [
    "That's already looking good, however you can also import the functions from a module directly:"
   ]
  },
  {
   "cell_type": "code",
   "execution_count": null,
   "metadata": {},
   "outputs": [],
   "source": [
    "from module import hello\n",
    "\n",
    "hello()"
   ]
  },
  {
   "cell_type": "markdown",
   "metadata": {},
   "source": [
    "---\n",
    "### 10.2.1 Exercise\n",
    "\n",
    "In the module `readFasta` there is a function that reads in a FASTA file with an RNA sequence and return the id, description and RNA sequence (in 3 base unit chunks). Import this module in a cell and call the function on the file `gene.fa`\n",
    "\n",
    "---"
   ]
  },
  {
   "cell_type": "code",
   "execution_count": null,
   "metadata": {},
   "outputs": [],
   "source": []
  },
  {
   "cell_type": "markdown",
   "metadata": {},
   "source": [
    "---\n",
    "\n",
    "### 10.2.2 Extra Exercise\n",
    "\n",
    "Read the documentation on how to create your own modules in the extra course parts ([link](10_Modules_Extra.ipynb)). Create your own module that contains the function `getMeanValues`:\n",
    "\n",
    "```python\n",
    "def MeanValue(*valueList):\n",
    "    \"\"\"\n",
    "    Calculate the mean (average) value from a list of values.\n",
    "    Input: list of integers/floats\n",
    "    Output: mean value\n",
    "    \"\"\"\n",
    "    meanValues = []\n",
    "    \n",
    "    for eachList in valueList:\n",
    "        meanOfList = sum(eachList)/len(eachList)\n",
    "        meanValues.append(meanOfList)\n",
    "        \n",
    "    return meanValues\n",
    "```\n",
    "\n",
    "---"
   ]
  },
  {
   "cell_type": "markdown",
   "metadata": {},
   "source": [
    "## 10.3 Built-in Modules\n",
    "\n",
    "There are several built-in modules in Python, which you can import whenever you like.\n",
    "\n",
    "Python has many ready-to-use functions that can save you a lot of time when writing code. Some of them are discussed here (**time**, **math** and **os/os.path**), but a complete list of all built-in modules can be found [here](https://docs.python.org/3/py-modindex.html). \n",
    "\n",
    "### 10.3.1 `time`\n",
    "With **time** you can get information on the current time and date, ...:"
   ]
  },
  {
   "cell_type": "code",
   "execution_count": null,
   "metadata": {},
   "outputs": [],
   "source": [
    "import time\n",
    "time.ctime()  # Print current day and time"
   ]
  },
  {
   "cell_type": "code",
   "execution_count": null,
   "metadata": {},
   "outputs": [],
   "source": [
    "time.time()   # Print system clock time"
   ]
  },
  {
   "cell_type": "code",
   "execution_count": null,
   "metadata": {},
   "outputs": [],
   "source": [
    "time.sleep(10)       # Sleep for 10 seconds - the program will wait here"
   ]
  },
  {
   "cell_type": "markdown",
   "metadata": {},
   "source": [
    "See the [Python documentation](https://docs.python.org/3/library/time.html) for a full description of time. Also see [datetime](https://docs.python.org/3/library/datetime.html), which is a module to deal with date/time manipulations.\n"
   ]
  },
  {
   "cell_type": "markdown",
   "metadata": {},
   "source": [
    "### 10.3.2 `math`\n",
    "contains a couple of valuable mathematic operations such as factorials, power and log functions. Here are a couple of them, but more information can be found on [Real Python](https://realpython.com/python-math-module/). "
   ]
  },
  {
   "cell_type": "code",
   "execution_count": null,
   "metadata": {},
   "outputs": [],
   "source": [
    "import math"
   ]
  },
  {
   "cell_type": "code",
   "execution_count": null,
   "metadata": {},
   "outputs": [],
   "source": [
    "# Use the number pi\n",
    "math.pi"
   ]
  },
  {
   "cell_type": "code",
   "execution_count": null,
   "metadata": {},
   "outputs": [],
   "source": [
    "# Square root\n",
    "math.sqrt(9)"
   ]
  },
  {
   "cell_type": "code",
   "execution_count": null,
   "metadata": {},
   "outputs": [],
   "source": [
    "# factorial of 5 (= 5*4*3*2*1)\n",
    "math.factorial(5)"
   ]
  },
  {
   "cell_type": "code",
   "execution_count": null,
   "metadata": {},
   "outputs": [],
   "source": [
    "# floor & ceil\n",
    "math.floor(6.68)\n",
    "math.ceil(6.23)"
   ]
  },
  {
   "cell_type": "code",
   "execution_count": null,
   "metadata": {},
   "outputs": [],
   "source": [
    "# Power functions\n",
    "math.pow(2, 4)"
   ]
  },
  {
   "cell_type": "markdown",
   "metadata": {},
   "source": [
    "### 10.3.3 `os` and `os.path` \n",
    "are very useful when dealing with files and directories:\n"
   ]
  },
  {
   "cell_type": "code",
   "execution_count": null,
   "metadata": {},
   "outputs": [],
   "source": [
    "import os"
   ]
  },
  {
   "cell_type": "code",
   "execution_count": null,
   "metadata": {},
   "outputs": [],
   "source": [
    "# Get the current working directory (cwd)\n",
    "currentDir = os.getcwd()\n",
    "currentDir"
   ]
  },
  {
   "cell_type": "code",
   "execution_count": null,
   "metadata": {},
   "outputs": [],
   "source": [
    "# Get a list of the files in the current working directory    \n",
    "myFiles = os.listdir(currentDir)\n",
    "myFiles"
   ]
  },
  {
   "cell_type": "code",
   "execution_count": null,
   "metadata": {},
   "outputs": [],
   "source": [
    "# Create a directory, rename it, and remove it\n",
    "os.mkdir(\"myTempDir\")\n",
    "os.rename(\"myTempDir\",\"myNewTempDir\")\n",
    "os.removedirs(\"myNewTempDir\")"
   ]
  },
  {
   "cell_type": "code",
   "execution_count": null,
   "metadata": {},
   "outputs": [],
   "source": [
    "# Create a full path name to the `module2` module in the modules folder\n",
    "myFileFullPath = os.path.join(currentDir,'modules','module2.py')\n",
    "myFileFullPath"
   ]
  },
  {
   "cell_type": "code",
   "execution_count": null,
   "metadata": {},
   "outputs": [],
   "source": [
    "# Does this file exist?\n",
    "os.path.exists(myFileFullPath)"
   ]
  },
  {
   "cell_type": "code",
   "execution_count": null,
   "metadata": {},
   "outputs": [],
   "source": [
    "# How big is the file?\n",
    "os.path.getsize(myFileFullPath)"
   ]
  },
  {
   "cell_type": "code",
   "execution_count": null,
   "metadata": {},
   "outputs": [],
   "source": [
    "# Split the directory path from the file name\n",
    "(myDir,myFileName) = os.path.split(myFileFullPath)\n",
    "print(myDir)\n",
    "print(myFileName)"
   ]
  },
  {
   "cell_type": "markdown",
   "metadata": {},
   "source": [
    "See the Python documentation for [**os**](https://docs.python.org/3/library/os.html) and [**os.path**](https://docs.python.org/3/library/os.path.html) for a full description."
   ]
  },
  {
   "cell_type": "markdown",
   "metadata": {},
   "source": [
    "## 10.4 Putting everything together"
   ]
  },
  {
   "cell_type": "markdown",
   "metadata": {},
   "source": [
    "\n",
    "---\n",
    "### 10.4.1 Exercises\n",
    "\n",
    "Make a new directory in which you write out 5 files with a 2 second delay. Each file should contain the date and time when it was originally written out.\n",
    "\n",
    "---\n"
   ]
  },
  {
   "cell_type": "code",
   "execution_count": null,
   "metadata": {},
   "outputs": [],
   "source": []
  },
  {
   "cell_type": "markdown",
   "metadata": {},
   "source": [
    "---\n",
    "### 10.4.2 Exercises\n",
    "\n",
    "Write a program where you ask the user for a one-letter amino acid sequence, and print out the three-letter amino acid codes. Have a look at the `SequenceDicts.py` module and see how it can help you. \n",
    "\n",
    "---"
   ]
  },
  {
   "cell_type": "code",
   "execution_count": null,
   "metadata": {},
   "outputs": [],
   "source": []
  },
  {
   "cell_type": "markdown",
   "metadata": {},
   "source": [
    "---\n",
    "### 10.4.3 Exercises\n",
    "\n",
    "Write a program where you translate the RNA sequence `data/rnaSeq.txt` into 3 letter amino acid codes. You can use the `readFasta.py` and `SequenceDicts.py` modules which contain valuable functions and a dictionary. \n",
    "\n",
    "---"
   ]
  },
  {
   "cell_type": "markdown",
   "metadata": {},
   "source": [
    "## 10.5 Overview\n",
    "We have discovered how we can call on a couple of Python's built-in modules containing some useful functions. \n",
    "\n",
    "[In the extra materials](extra-course-parts/10_Modules_Extra.ipynb) you can discover how to create your own modules and how to re-use your Python scripts and functions in different projects. "
   ]
  },
  {
   "cell_type": "markdown",
   "metadata": {},
   "source": [
    "## 10.6 Next session\n",
    "\n",
    "Go to our [next chapter](11_Plotting.ipynb). "
   ]
  }
 ],
 "metadata": {
  "kernelspec": {
   "display_name": "Python 3",
   "language": "python",
   "name": "python3"
  },
  "language_info": {
   "codemirror_mode": {
    "name": "ipython",
    "version": 3
   },
   "file_extension": ".py",
   "mimetype": "text/x-python",
   "name": "python",
   "nbconvert_exporter": "python",
   "pygments_lexer": "ipython3",
   "version": "3.7.9"
  }
 },
 "nbformat": 4,
 "nbformat_minor": 4
}
