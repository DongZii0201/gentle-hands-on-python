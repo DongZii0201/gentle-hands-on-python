{
 "cells": [
  {
   "cell_type": "markdown",
   "metadata": {},
   "source": [
    "# What next? Or, how to apply what you've learned.\n",
    "\n",
    "> _\"We've only just begun\"_\n",
    ">\n",
    "> -- The Carpenters\n",
    "\n",
    "Hopefully at this point (the end of the course) you're feeling quite confident since you've learned everything\n",
    "necessary to start programming in Python: you're now a Pythonista! We've completed 2 projects together during the course: a program to play FizzBuzz and another to plot climate data. You've also completed a major project on your own! That's a huge achievement, one you should not underestimate!\n",
    "\n",
    "If you're not feeling confident, that's ok. Other the past 2 weeks you've had to take in, understand, and apply an enormous amount of new knowledge. The best thing you can do now is try to practice, try to use what you've learned wherever you get an opportunity."
   ]
  },
  {
   "cell_type": "markdown",
   "metadata": {},
   "source": [
    "## Step 1: Just Do It! Or, fake it 'til you make it!\n",
    "\n",
    "The most important thing you can do is just start using Python. Make opportunities to use Python: automate tasks that you (or other people) usually do manually, perform calculations, or do some data analysis. Ignore the fear and uncertainty,\n",
    "believe in yourself. Yes, you will stumble, you will have troubles achieving what you want to do - but you will also\n",
    "succeed and learn how to solve the problems you face. Before you realise, the things you initially feared won't scare\n",
    "you any more.\n",
    "\n",
    "When you do face a problem you can't solve, there are **many** resources available to help you including,\n",
    "1. Us! Send us an email and we can try to help you solve the problem.\n",
    "2. Stack Overflow. This is a community of programmers dedicated to helping each other. There's a good chance someone\n",
    "   else has had the problem you have and someone else has solved it.\n",
    "3. The Python documentation (`help()!`). [docs.python.org](https://docs.python.org/3/) is organised to guide you to the right place. Look here for reference material."
   ]
  },
  {
   "cell_type": "markdown",
   "metadata": {},
   "source": [
    "## Step 2: Practise, practise, practise!\n",
    "\n",
    "This is actually just step 1. There's no step 2!"
   ]
  },
  {
   "cell_type": "markdown",
   "metadata": {},
   "source": [
    "## Where to go next\n",
    "* [Install python on your own machine](https://realpython.com/installing-python/)\n",
    "* [The Hitchikers Guide to Python](https://docs.python-guide.org/)\n",
    "* [VIB Data Analysis with Python course](https://training.vib.be/all-trainings/python-downstream-data-analysis)\n",
    "* [VIB Introduction to Machine Learning course](https://training.vib.be/all-trainings/tour-machine-learning-classification-1)\n",
    "* [VIB Deep Learning in Biology course](https://training.vib.be/all-trainings/deep-learning-biology-0)"
   ]
  },
  {
   "cell_type": "code",
   "execution_count": null,
   "metadata": {},
   "outputs": [],
   "source": []
  }
 ],
 "metadata": {
  "kernelspec": {
   "display_name": "Python 3",
   "language": "python",
   "name": "python3"
  },
  "language_info": {
   "codemirror_mode": {
    "name": "ipython",
    "version": 3
   },
   "file_extension": ".py",
   "mimetype": "text/x-python",
   "name": "python",
   "nbconvert_exporter": "python",
   "pygments_lexer": "ipython3",
   "version": "3.9.2"
  }
 },
 "nbformat": 4,
 "nbformat_minor": 4
}
