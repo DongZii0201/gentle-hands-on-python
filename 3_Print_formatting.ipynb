{
 "cells": [
  {
   "cell_type": "markdown",
   "metadata": {},
   "source": [
    "# 3. Text formatting\n",
    "\n",
    "> _\"Beautiful is better than ugly.\"_\n",
    "\n",
    "## 3.1 Introduction  \n",
    "Sometimes you will want to represent your variables in text, for example to `print()` or save to a file.\n",
    "You might be tempted to do this:\n",
    "```python\n",
    "my_number = 10\n",
    "my_text_representation = \"My computation resulted in: \" + str(my_number) + \" units.\"\n",
    "```\n",
    "\n",
    "But this quickly becomes unwieldy and hard to read. Thankfully, Python gives us an easy way to solve this, the so-called \"f-string\":\n",
    "```python\n",
    "my_number = 10\n",
    "my_text_representation = f\"My computation resulted in: {my_number} units.\"\n",
    "#                        ^                             ^^^^^^^^^^^\n",
    "```\n",
    "I've highlighted the changes to the first example: an `f` before the first quote and the variable you want in the text surrounded by braces. This may not look like much of a change or very useful (yet), but you'll quickly run into the limitations of the first approach."
   ]
  },
  {
   "cell_type": "markdown",
   "metadata": {},
   "source": [
    "The value between the braces in a f-string can be an immediate value (e.g. `\"Jane\"`), a variable (as we saw above; e.g. `my_number`), or any arbitrary Python _expression_ (e.g. `10 * 3 + 2`)."
   ]
  },
  {
   "cell_type": "code",
   "execution_count": null,
   "metadata": {},
   "outputs": [],
   "source": [
    "f\"My name is {'Jane'}.\""
   ]
  },
  {
   "cell_type": "code",
   "execution_count": null,
   "metadata": {},
   "outputs": [],
   "source": [
    "f\"The expression evaluates to: {10 * 3 + 2}\""
   ]
  },
  {
   "cell_type": "markdown",
   "metadata": {},
   "source": [
    "## 3.2 Layout options\n",
    "Everything between the double quotation marks is what will be in the formatted text. Between the braces you can find your data, but also _lay-out options_ for those data. The first value is the value to be printed (as you've seen above), then type a colon (`:`) which separates the value to be printed from the layout options, and lastly the layout options.\n",
    "\n",
    "Some examples of useful layout options are:\n",
    "\n",
    "| Option | Meaning | Example |\n",
    "|:-------|:--------|:--------|\n",
    "| `>` | Field is right aligned | `f\"{'padded':>8}\" => '  padded'` |\n",
    "| `+` | Always show the sign on numbers | `f\"{32:+}, {-32}, or {-32:+}\" => '+32, -32, or -32'` |\n",
    "| `n` | Format numbers in your locale | `f\"{3.1:n}\" => '3.2' # or '3,2' depending on your locale` |\n",
    "| `8.2f` | Format numbers to a specific width and number of digits | `f\"{60_000.12345:10.2f}\" => '  60000.12'` |\n",
    "\n",
    "In the last example `60_000.12345:10.2f` will format the value with *at least* 10 characters, of which two are decimals\n",
    "and the type of the argument is a float. If the argument has less than 8 characters/numbers then whitespace will be used.\n",
    "\n",
    "You can find the details of these options in the Python documentation [here](https://docs.python.org/3/library/string.html#format-specification-mini-language)."
   ]
  },
  {
   "cell_type": "markdown",
   "metadata": {},
   "source": [
    "Try some examples here:"
   ]
  },
  {
   "cell_type": "code",
   "execution_count": null,
   "metadata": {},
   "outputs": [],
   "source": [
    "f\"My name is {'Jane':>10}.\""
   ]
  },
  {
   "cell_type": "markdown",
   "metadata": {},
   "source": [
    "## 3.2.1 Exercise\n",
    "* Try to print the text: *Percent of alignment: 100%* using formatting for the number 100. \n",
    "* If this worked out succesfully, try to align it explicitly to the right with five whitespaces. "
   ]
  },
  {
   "cell_type": "code",
   "execution_count": null,
   "metadata": {},
   "outputs": [],
   "source": []
  },
  {
   "cell_type": "code",
   "execution_count": null,
   "metadata": {},
   "outputs": [],
   "source": []
  },
  {
   "cell_type": "markdown",
   "metadata": {},
   "source": [
    "## 3.3 Formatting numbers  \n",
    "Here are some examples of formatting integers (digits):\n",
    "\n"
   ]
  },
  {
   "cell_type": "code",
   "execution_count": null,
   "metadata": {},
   "outputs": [],
   "source": [
    "print(f\"This is {252:d}.\")\n",
    "print(f\"This is {25:d} and {30:d}.\")"
   ]
  },
  {
   "cell_type": "markdown",
   "metadata": {},
   "source": [
    "Here are some examples of formatting a decimal number (floating point):"
   ]
  },
  {
   "cell_type": "code",
   "execution_count": null,
   "metadata": {},
   "outputs": [],
   "source": [
    "myFloat = 4545.4542244\n",
    " \n",
    "print(f\"\"\"Print the full float {myFloat},\n",
    "cut off decimals {myFloat:5.2f},\n",
    "or determine the characters before the decimal {myFloat:10.1f}.\"\"\")"
   ]
  },
  {
   "cell_type": "markdown",
   "metadata": {},
   "source": [
    "The same example can be written as follows. Note the difference of the output. "
   ]
  },
  {
   "cell_type": "code",
   "execution_count": null,
   "metadata": {},
   "outputs": [],
   "source": [
    "myFloat = 4545.4542244 \n",
    "\n",
    "text = (\n",
    "     f\"Print the full float {myFloat}, \"\n",
    "     f\"cut off decimals {myFloat:5.2f}, \"\n",
    "     f\"or determine the characters before the decimal {myFloat:10.1f}.\"\n",
    " )\n",
    "print(text)"
   ]
  },
  {
   "cell_type": "markdown",
   "metadata": {},
   "source": [
    "## 3.4 What's the value of my variable?\n",
    "Sometimes you will want to print the name of a variable alongside its value, for example during debugging.\n",
    "Intuitively you might do this like so:\n",
    "```python\n",
    "myvar = pi * 2.4**2\n",
    "print(f\"mvar={myvar}\")\n",
    "```\n",
    "However, Python's f-strings give you a conventient syntax for printing a variable name and it's value:"
   ]
  },
  {
   "cell_type": "code",
   "execution_count": null,
   "metadata": {},
   "outputs": [],
   "source": [
    "myvar = 3.14 * 2.4**2\n",
    "print(f\"{myvar=}\")"
   ]
  },
  {
   "cell_type": "markdown",
   "metadata": {},
   "source": [
    "## 3.5 Special characters  \n",
    "For some special characters it is necessary \"escape\" (using a `\\`) the normal way to type a character because you cannot type the special character normally from the keyboard. Try this:"
   ]
  },
  {
   "cell_type": "code",
   "execution_count": null,
   "metadata": {},
   "outputs": [],
   "source": [
    "print(\"The \\\\ sign\\ncan\\talso\\tbe\\tprinted.\")"
   ]
  },
  {
   "cell_type": "markdown",
   "metadata": {},
   "source": [
    "Here, `\\\\` will print a single backslash, the `\\n` will print a new line, `\\t` a tab character."
   ]
  },
  {
   "cell_type": "markdown",
   "metadata": {},
   "source": [
    "Escape codes are necessary if you are trying to print a single quote in single-quoted text, or a double quote in double-quoted text:"
   ]
  },
  {
   "cell_type": "code",
   "execution_count": null,
   "metadata": {},
   "outputs": [],
   "source": [
    "print(\"He said: \\\"Hello\\\".\")\n",
    "print('She said: \\'Hello\\'.')"
   ]
  },
  {
   "cell_type": "markdown",
   "metadata": {},
   "source": [
    "## 3.6 Footnote: f-strings aren't the only way!\n",
    "In this section we've seen **2** methods to format text in Python. The _new_ f-string method and the _manual_ method appending strings togther. When you're writing new code you should always use f-strings to format text, but you may see other methods in older code.\n",
    "\n",
    "Before f-strings, Python provided 2 _other_ methods to format strings that you may see in code you work on:\n",
    "* `.format()`\n",
    "* c-string with the `%` operator\n",
    "\n",
    "`.format()` is very similar to f-strings. The `%` is similar to `C` language text formatting.\n",
    "For more details on text formatting methods in Python see [here](https://realpython.com/python-string-formatting/).\n",
    "However, the table below presents some examples based on text formatting you've seen in this section. Each row of the\n",
    "table is equivalent.\n",
    "\n",
    "| f-string | `.format()` | `%` operator |\n",
    "|:---------|:------------|:-------------|\n",
    "| `f\"{'Jane':s}\"` |`\"{:s}\".format(\"Jane\")` | `\"%s\" % \"Jane\"` |\n",
    "| `f\"{55:d} {62:d}\"` | `\"{1:d} {0:d}\".format(62, 55)` | `\"%d %d\" % (55, 62)` |\n",
    "| `f\"{myFloat:5.2f}\"` | `\"{:5.2f}\".format(myFloat)` | `\"%5.2f\" % myFloat` |"
   ]
  },
  {
   "cell_type": "markdown",
   "metadata": {},
   "source": [
    "## 3.5 Next session\n",
    "\n",
    "Go to our [next chapter](4_Conditions.ipynb). "
   ]
  }
 ],
 "metadata": {
  "kernelspec": {
   "display_name": "Python 3",
   "language": "python",
   "name": "python3"
  },
  "language_info": {
   "codemirror_mode": {
    "name": "ipython",
    "version": 3
   },
   "file_extension": ".py",
   "mimetype": "text/x-python",
   "name": "python",
   "nbconvert_exporter": "python",
   "pygments_lexer": "ipython3",
   "version": "3.8.3"
  }
 },
 "nbformat": 4,
 "nbformat_minor": 2
}
