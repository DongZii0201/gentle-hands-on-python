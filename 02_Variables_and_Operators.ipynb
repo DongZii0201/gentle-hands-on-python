{
 "cells": [
  {
   "cell_type": "markdown",
   "metadata": {},
   "source": [
    "# 2. Variables & operators\n",
    "\n",
    "> _\"Readability counts.\"_\n",
    "\n",
    "## 2.1 Introduction\n",
    "\n",
    "Variables allow you to assign information to a name that you can re-use later on. They facilitate what you really want to do with a computer program, namely manipulate data. \n",
    "\n",
    "In this section we will introduce some basic variables and how you can manipulate them.\n",
    "\n",
    "\n",
    "## 2.2 Strings\n",
    "We already saw strings in the previous section. You can assign a string to a variable like this:"
   ]
  },
  {
   "cell_type": "code",
   "execution_count": null,
   "metadata": {},
   "outputs": [],
   "source": [
    "# Assign the sequence AGAATCGATACGA to a variable and print the variable.  \n",
    "mySequence = \"AGAATCGATACGA\"\n",
    "print(mySequence)"
   ]
  },
  {
   "cell_type": "markdown",
   "metadata": {},
   "source": [
    "What happens here is that you assign a **value**: \"*AGAATCGATACGA*\" to a **variable**: `mySequence` and then print it out. You can now keep on using `mySequence` throughout your program. Note that `mySequence` is not quoted because it is now part of the program, try this for example:"
   ]
  },
  {
   "cell_type": "code",
   "execution_count": null,
   "metadata": {},
   "outputs": [],
   "source": [
    "# Repeat the above, but this time put the variable in quotation marks when you put in the print statement and see what happens\n",
    "mySequence = \"AGAATCGATACGA\"\n",
    "print(\"mySequence\")"
   ]
  },
  {
   "cell_type": "markdown",
   "metadata": {},
   "source": [
    "You will now still assign the value \"*AGAATCGATACGA*\" to the variable `mySequence`, but because of the quotes you then print off the string \"mySequence\", not the variable.\n",
    "\n",
    "You can assign strings in the following ways:"
   ]
  },
  {
   "cell_type": "code",
   "execution_count": null,
   "metadata": {},
   "outputs": [],
   "source": [
    "myString1 = \"Hello world!\"\n",
    "myString2 = 'Hello sun!'\n",
    "myString3 = \"\"\"Hello\n",
    "universe.\"\"\"\n",
    "print(myString1)\n",
    "print(myString2)\n",
    "print(myString3)"
   ]
  },
  {
   "cell_type": "markdown",
   "metadata": {},
   "source": [
    "The single and double quotes are essentially the same. If you use triple double quotes - \"\"\" - you can assign a string over multiple lines."
   ]
  },
  {
   "cell_type": "code",
   "execution_count": null,
   "metadata": {},
   "outputs": [],
   "source": [
    "# Try assigning a string over multiple lines without using the triple double quotes and see what happens.\n",
    "myString = \"Hello\n",
    "universe.\""
   ]
  },
  {
   "cell_type": "markdown",
   "metadata": {},
   "source": [
    "This will give a SyntaxError, as Python 'reads' each line separately, and it doesn't find the ending (on the first line) and starting (on the second line) quote. Using the escape codes, you can however do the following:\n"
   ]
  },
  {
   "cell_type": "code",
   "execution_count": null,
   "metadata": {},
   "outputs": [],
   "source": [
    "# Try to print two words in two different lines without using three \"\" marks. \n",
    "myString = \"Hello\\nuniverse.\"\n",
    "myString"
   ]
  },
  {
   "cell_type": "markdown",
   "metadata": {},
   "source": [
    "## 2.3 Strings from user input\n",
    "Python provides a very simple way to get user input. This input is always returned as a string, so try the following:"
   ]
  },
  {
   "cell_type": "code",
   "execution_count": null,
   "metadata": {},
   "outputs": [],
   "source": [
    "# Use input to ask for a sequence string, then print the input sequence\n",
    "mySequence = input(\"Give me a sequence:\")\n",
    "print(mySequence)"
   ]
  },
  {
   "cell_type": "markdown",
   "metadata": {},
   "source": [
    "## 2.4 Integers\n",
    "Integers are \"whole\" numbers. Numbers that can be written without a fractional part like `0`, `1`, `42`. Python will recognize numbers in the code automatically, so you can do:"
   ]
  },
  {
   "cell_type": "code",
   "execution_count": null,
   "metadata": {},
   "outputs": [],
   "source": [
    "# Assign integer 5 to a variable myInteger\n",
    "myInteger = 5\n",
    "print(myInteger)"
   ]
  },
  {
   "cell_type": "markdown",
   "metadata": {},
   "source": [
    "As described in the introduction, you can also do standard mathematical operations on integers. Mathematical operations are even possible within a print statement."
   ]
  },
  {
   "cell_type": "code",
   "execution_count": null,
   "metadata": {},
   "outputs": [],
   "source": [
    "5 + 5  # Addition"
   ]
  },
  {
   "cell_type": "code",
   "execution_count": null,
   "metadata": {},
   "outputs": [],
   "source": [
    "5 - 8  # Subtraction"
   ]
  },
  {
   "cell_type": "code",
   "execution_count": null,
   "metadata": {},
   "outputs": [],
   "source": [
    "2 * 5  # Multiplication"
   ]
  },
  {
   "cell_type": "code",
   "execution_count": null,
   "metadata": {},
   "outputs": [],
   "source": [
    "4 / 2  # Division"
   ]
  },
  {
   "cell_type": "code",
   "execution_count": null,
   "metadata": {},
   "outputs": [],
   "source": [
    "5 % 2  # Modulus, remainder of division"
   ]
  },
  {
   "cell_type": "code",
   "execution_count": null,
   "metadata": {},
   "outputs": [],
   "source": [
    "2 ** 3 # Power"
   ]
  },
  {
   "cell_type": "markdown",
   "metadata": {},
   "source": [
    "It doesn't matter if you use variables or _immediate_ numbers (numbers that you type directly into the expression) for this:"
   ]
  },
  {
   "cell_type": "code",
   "execution_count": null,
   "metadata": {},
   "outputs": [],
   "source": [
    "x = 5\n",
    "y = 2"
   ]
  },
  {
   "cell_type": "code",
   "execution_count": null,
   "metadata": {},
   "outputs": [],
   "source": [
    "x + 5  # Addition"
   ]
  },
  {
   "cell_type": "code",
   "execution_count": null,
   "metadata": {},
   "outputs": [],
   "source": [
    "x - 8  # Subtraction"
   ]
  },
  {
   "cell_type": "code",
   "execution_count": null,
   "metadata": {},
   "outputs": [],
   "source": [
    "y * x  # Multiplication"
   ]
  },
  {
   "cell_type": "code",
   "execution_count": null,
   "metadata": {},
   "outputs": [],
   "source": [
    "4 / y  # Division"
   ]
  },
  {
   "cell_type": "code",
   "execution_count": null,
   "metadata": {},
   "outputs": [],
   "source": [
    "5 % y  # Modulus, remainder of division"
   ]
  },
  {
   "cell_type": "code",
   "execution_count": null,
   "metadata": {},
   "outputs": [],
   "source": [
    "y ** 3 # Power"
   ]
  },
  {
   "cell_type": "markdown",
   "metadata": {},
   "source": [
    "Note here the mathematical order of operations; `()` take precedence over * and / take precedence over + and -."
   ]
  },
  {
   "cell_type": "markdown",
   "metadata": {},
   "source": [
    "## 2.5 Floats\n",
    "\n",
    "Floats (floating point numbers) are an approximation of (continuous) real numbers. For example, `3.14159` or `2.71828`."
   ]
  },
  {
   "cell_type": "code",
   "execution_count": null,
   "metadata": {},
   "outputs": [],
   "source": [
    "# Assign float 5.5 to the myFloat variable\n",
    "myFloat = 5.5 \n",
    "myFloat"
   ]
  },
  {
   "cell_type": "code",
   "execution_count": null,
   "metadata": {},
   "outputs": [],
   "source": [
    "type(myFloat)"
   ]
  },
  {
   "cell_type": "markdown",
   "metadata": {},
   "source": [
    "Mathematical operations are the same:"
   ]
  },
  {
   "cell_type": "code",
   "execution_count": null,
   "metadata": {},
   "outputs": [],
   "source": [
    "5.2 + 4.8  # Addition"
   ]
  },
  {
   "cell_type": "code",
   "execution_count": null,
   "metadata": {},
   "outputs": [],
   "source": [
    "5.2 - 8.3  # Subtraction"
   ]
  },
  {
   "cell_type": "code",
   "execution_count": null,
   "metadata": {},
   "outputs": [],
   "source": [
    "2.0 * 5.11212  # Multiplication"
   ]
  },
  {
   "cell_type": "code",
   "execution_count": null,
   "metadata": {},
   "outputs": [],
   "source": [
    "4.2 / 2.7  # Division"
   ]
  },
  {
   "cell_type": "code",
   "execution_count": null,
   "metadata": {},
   "outputs": [],
   "source": [
    "5.4 % 2.0  # Modulus, remainder of division"
   ]
  },
  {
   "cell_type": "code",
   "execution_count": null,
   "metadata": {},
   "outputs": [],
   "source": [
    "4 ** 0.5 # Power"
   ]
  },
  {
   "cell_type": "markdown",
   "metadata": {},
   "source": [
    "## 2.6 Converting between floats, integers and strings  \n",
    "You can also force a conversion between the different types: float, integer, and strings with the `str()`, `int()` and `float()` functions. These functions are said to _return_ the values they're converting to. `int()` **returns** an integer, `float()` **returns** a floating point number, and `str()` **returns** a string."
   ]
  },
  {
   "cell_type": "code",
   "execution_count": null,
   "metadata": {},
   "outputs": [],
   "source": [
    "# Use the int() and float() statements to switch the value types and print out the values. Do you notice any differences?\n",
    "myFloat = 4.5\n",
    "myFloat"
   ]
  },
  {
   "cell_type": "code",
   "execution_count": null,
   "metadata": {},
   "outputs": [],
   "source": [
    "int(myFloat) # Note that it will print the result of the operation; myFloat remains an integer!"
   ]
  },
  {
   "cell_type": "code",
   "execution_count": null,
   "metadata": {},
   "outputs": [],
   "source": [
    "myInteger = 5\n",
    "myInteger"
   ]
  },
  {
   "cell_type": "code",
   "execution_count": null,
   "metadata": {},
   "outputs": [],
   "source": [
    "myOtherFloat = float(myInteger)\n",
    "myOtherFloat"
   ]
  },
  {
   "cell_type": "markdown",
   "metadata": {},
   "source": [
    "The same is possible to convert numerical values to strings with `str()`, you can also convert strings to\n",
    "numerical values but only if the content of the string is an integer or float:"
   ]
  },
  {
   "cell_type": "code",
   "execution_count": null,
   "metadata": {},
   "outputs": [],
   "source": [
    "# Convert a float to a string with the str() function \n",
    "myFloat = 4.5\n",
    "myFloatString = str(myFloat)\n",
    "str(myFloat)"
   ]
  },
  {
   "cell_type": "code",
   "execution_count": null,
   "metadata": {},
   "outputs": [],
   "source": [
    "float(myFloatString)"
   ]
  },
  {
   "cell_type": "code",
   "execution_count": null,
   "metadata": {},
   "outputs": [],
   "source": [
    "# Convert an integer to a string with the str() function\n",
    "myInteger = 5\n",
    "myIntegerString = str(myInteger)\n",
    "str(myInteger)"
   ]
  },
  {
   "cell_type": "code",
   "execution_count": null,
   "metadata": {},
   "outputs": [],
   "source": [
    "int(myIntegerString)"
   ]
  },
  {
   "cell_type": "markdown",
   "metadata": {},
   "source": [
    "---\n",
    "\n",
    "### 2.6.1 Exercises\n",
    "\n",
    "Write a program where you ask for a number, convert it to an integer, and print out what your number is."
   ]
  },
  {
   "cell_type": "code",
   "execution_count": null,
   "metadata": {},
   "outputs": [],
   "source": []
  },
  {
   "cell_type": "markdown",
   "metadata": {},
   "source": [
    "<details>\n",
    "    <summary>&#9654; Extra exercise 2.6.1-1</summary>\n",
    "    Write a program that prints fractional part (numbers after the decimal point) of an input number. e.g. input of\n",
    "    <code>5.5</code> should print <code>0.5</code>\n",
    "</details>"
   ]
  },
  {
   "cell_type": "code",
   "execution_count": null,
   "metadata": {},
   "outputs": [],
   "source": []
  },
  {
   "cell_type": "markdown",
   "metadata": {},
   "source": [
    "<details>\n",
    "    <summary>&#9654; Extra exercise 2.6.1-2</summary>\n",
    "    Write a program that computes the area of a circle with radius given by the user. Reminder: $$A_{circle} = \\pi r^2$$\n",
    "</details>"
   ]
  },
  {
   "cell_type": "code",
   "execution_count": null,
   "metadata": {},
   "outputs": [],
   "source": []
  },
  {
   "cell_type": "markdown",
   "metadata": {},
   "source": [
    "---\n",
    "\n",
    "You can also add, substract, divide and multiple a variable by a number or other variable directly. These are the so-called assignment operators."
   ]
  },
  {
   "cell_type": "code",
   "execution_count": null,
   "metadata": {},
   "outputs": [],
   "source": [
    "myFloat = 6\n",
    "myString = \"ABC\"\n",
    " \n",
    "myFloat += 5   # Same as myFloat = myFloat + 5\n",
    "print(myFloat)\n",
    " \n",
    "print(myString + \"DE\") # Concatenate strings with the + operator\n",
    " \n",
    "myFloat -= 5   # Same as myFloat = myFloat - 5\n",
    "print(myFloat)\n",
    " \n",
    "myFloat /= 2   # Same as myFloat = myFloat / 2\n",
    "print(myFloat)\n",
    " \n",
    "myFloat *= 2   # Same as myFloat = myFloat * 2\n",
    "print(myFloat)"
   ]
  },
  {
   "cell_type": "markdown",
   "metadata": {},
   "source": [
    "Finally, you can check what data type a variable is by using `type()`:"
   ]
  },
  {
   "cell_type": "code",
   "execution_count": null,
   "metadata": {},
   "outputs": [],
   "source": [
    "myInteger = -6\n",
    "myFloat = 5.22\n",
    "myString = \"Text!\"\n",
    " \n",
    "print(myInteger, type(myInteger))\n",
    "print(myFloat, type(myFloat))\n",
    "print(myString, type(myString))"
   ]
  },
  {
   "cell_type": "markdown",
   "metadata": {},
   "source": [
    "Note here that you can print multiple values by using a comma in between the values."
   ]
  },
  {
   "cell_type": "markdown",
   "metadata": {},
   "source": [
    "---\n",
    "### 2.6.2 Exercises\n",
    "\n",
    "See what happens if you try to print a float as an integer, and an integer as a string. \n",
    "\n",
    "---"
   ]
  },
  {
   "cell_type": "code",
   "execution_count": null,
   "metadata": {},
   "outputs": [],
   "source": [
    "myFloat = 11.4\n",
    "print(\"My float as integer\", int(myFloat))\n",
    "\n",
    "myInt  = 12\n",
    "print(\"My integer as string\", str(myInt))\n",
    "\n",
    "myString = \"aa\"\n",
    "print(\"My string as float\", float(myString))"
   ]
  },
  {
   "cell_type": "markdown",
   "metadata": {},
   "source": [
    "## 2.7 Booleans \n",
    "Finally, there are the boolean variables `True` and `False`. \n",
    "Python returns booleans when comparing values. In the code below python checks whether the comparison is `True`, when this is the case it will print out the value `True`. In order to do a comparison, we use **comparison operators** like `==, >, <, <=, >=, !=`"
   ]
  },
  {
   "cell_type": "code",
   "execution_count": null,
   "metadata": {},
   "outputs": [],
   "source": [
    "myBoolean = True\n",
    "myBoolean"
   ]
  },
  {
   "cell_type": "code",
   "execution_count": null,
   "metadata": {},
   "outputs": [],
   "source": [
    "type(myBoolean)"
   ]
  },
  {
   "cell_type": "code",
   "execution_count": null,
   "metadata": {},
   "outputs": [],
   "source": [
    "myInteger = 5\n",
    "myInteger == 6   # This means 'is myInteger equal to 6?'"
   ]
  },
  {
   "cell_type": "code",
   "execution_count": null,
   "metadata": {},
   "outputs": [],
   "source": [
    "myInteger < 6    # This means 'is myInteger smaller than 6?'"
   ]
  },
  {
   "cell_type": "code",
   "execution_count": null,
   "metadata": {},
   "outputs": [],
   "source": [
    "myInteger > 6    # This means 'is myInteger greater than 6?'"
   ]
  },
  {
   "cell_type": "code",
   "execution_count": null,
   "metadata": {},
   "outputs": [],
   "source": [
    "myInteger <= 6   # This means 'is myInteger smaller or equal to 6?'"
   ]
  },
  {
   "cell_type": "code",
   "execution_count": null,
   "metadata": {},
   "outputs": [],
   "source": [
    "myInteger >= 6   # This means 'is myInteger greater or equal to 6?'"
   ]
  },
  {
   "cell_type": "code",
   "execution_count": null,
   "metadata": {},
   "outputs": [],
   "source": [
    "myInteger != 6   # This means 'is myInteger not equal to 6?'"
   ]
  },
  {
   "cell_type": "markdown",
   "metadata": {},
   "source": [
    "If you want to combine multiple comparisons, it is possible to use the logical operators `and` and `or`. With the `and` operator both comparisons have to be True for the result to be True. With the `or` operator, only one has to be True for the result to be True."
   ]
  },
  {
   "cell_type": "code",
   "execution_count": null,
   "metadata": {},
   "outputs": [],
   "source": [
    "x = 5\n",
    "y = 6"
   ]
  },
  {
   "cell_type": "code",
   "execution_count": null,
   "metadata": {},
   "outputs": [],
   "source": [
    "x == 5 and y > 2    # Both have to be True for the result to be True"
   ]
  },
  {
   "cell_type": "code",
   "execution_count": null,
   "metadata": {},
   "outputs": [],
   "source": [
    "x != 5 or y > 2     # Only one has to be True for the result to be True"
   ]
  },
  {
   "cell_type": "markdown",
   "metadata": {},
   "source": [
    "Python gives us a shorthand syntax for two comparisons with an `and`. For example, you may want to check if x is within a range e.g. `3 < x and x < 10` to check if the variable x is between 3 and 10. This can be done slightly more simply by:"
   ]
  },
  {
   "cell_type": "code",
   "execution_count": null,
   "metadata": {},
   "outputs": [],
   "source": [
    "x = 5\n",
    "3 < x < 10"
   ]
  },
  {
   "cell_type": "code",
   "execution_count": null,
   "metadata": {},
   "outputs": [],
   "source": [
    "x = 1\n",
    "3 < x < 10"
   ]
  },
  {
   "cell_type": "markdown",
   "metadata": {},
   "source": [
    "**Warning: Pitfall!!**\n",
    "This shorthand syntax has a potentially surprising consequence that you should be careful for when performing boolean operations:"
   ]
  },
  {
   "cell_type": "code",
   "execution_count": null,
   "metadata": {},
   "outputs": [],
   "source": [
    "x = 5\n",
    "x < 10 == True"
   ]
  },
  {
   "cell_type": "markdown",
   "metadata": {},
   "source": [
    "Why is this? Remember the expansion? It is equivalent to the following expression:"
   ]
  },
  {
   "cell_type": "code",
   "execution_count": null,
   "metadata": {},
   "outputs": [],
   "source": [
    "x < 10 and 10 == True"
   ]
  },
  {
   "cell_type": "markdown",
   "metadata": {},
   "source": [
    "---\n",
    "\n",
    "### 2.7.1 Exercises\n",
    "Can you compare strings? What does it mean for one string to be _less than_ another string?\n",
    "What does the following expression evaluate to and why?\n",
    "\n",
    "---"
   ]
  },
  {
   "cell_type": "code",
   "execution_count": null,
   "metadata": {},
   "outputs": [],
   "source": [
    "\"three\" > \"six\""
   ]
  },
  {
   "cell_type": "markdown",
   "metadata": {},
   "source": [
    "# 2.8 Nothing"
   ]
  },
  {
   "cell_type": "markdown",
   "metadata": {},
   "source": [
    "Finally, we highlight the `None` value which is comparable to `null` you may've encountered in other languages.\n",
    "In the code below we show that `None`, which you could interpret as nothing, is seperate to a value like `0` or\n",
    "an empty string. "
   ]
  },
  {
   "cell_type": "code",
   "execution_count": 3,
   "metadata": {},
   "outputs": [],
   "source": [
    "myNothing = None\n",
    "myNothing"
   ]
  },
  {
   "cell_type": "code",
   "execution_count": null,
   "metadata": {},
   "outputs": [],
   "source": [
    "type(myNothing)"
   ]
  },
  {
   "cell_type": "code",
   "execution_count": null,
   "metadata": {},
   "outputs": [],
   "source": [
    "type(None)"
   ]
  },
  {
   "cell_type": "code",
   "execution_count": null,
   "metadata": {},
   "outputs": [],
   "source": [
    "0 == None"
   ]
  },
  {
   "cell_type": "code",
   "execution_count": null,
   "metadata": {
    "scrolled": true
   },
   "outputs": [],
   "source": [
    "\"\" == None"
   ]
  },
  {
   "cell_type": "markdown",
   "metadata": {},
   "source": [
    "---\n",
    "\n",
    "## 2.9 Chapter Review\n",
    "\n",
    "In this chapter you've learned aboutvariables containing text (strings), numbers, booleans, the `None` keyword,\n",
    "and some operations that operate on these variables.\n",
    "* Integer (`int`): A whole number\n",
    "* Float (`float`): An approximation of a real number\n",
    "* String (`str`): Text\n",
    "* Boolean (`bool`): True or False\n",
    "* None (`NoneType`): Nothing\n",
    "\n",
    "### Review Questions\n",
    "\n",
    "1. What datatype is this: `\"Hello world\"`?\n",
    "<details>\n",
    "    <summary>&#9654; Answer</summary>\n",
    "    A string or <code>str</code>\n",
    "</details>\n",
    "\n",
    "\n",
    "2. What operator can you use to combine 2 strings into a single string?\n",
    "<details>\n",
    "    <summary>&#9654; Answer</summary>\n",
    "    The <code>+</code> operator\n",
    "</details>\n",
    "\n",
    "\n",
    "3. How many boolean values are there? What do they represent?\n",
    "<details>\n",
    "    <summary>&#9654; Answer</summary>\n",
    "    There are 2 boolean values (<code>True</code> and <code>False</code>). They represent true/false, yes/no, on/off.\n",
    "</details>\n",
    "\n",
    "\n",
    "4. How could you convert an integer (e.g. `5`) into a floating point number?\n",
    "<details>\n",
    "    <summary>&#9654; Answer</summary>\n",
    "    <code>float(5)</code>\n",
    "</details>\n",
    "\n",
    "\n",
    "5. There are functions for converting to `int()`, `float()` and, `str()`. Is there a function for converting to a boolean value?\n",
    "<details>\n",
    "    <summary>&#9654; Answer</summary>\n",
    "    Yes! <code>bool()</code><br/>\n",
    "    Play with it below. Which values convert to <code>True</code> and which convert to <code>False</code>?\n",
    "</details>\n",
    "\n",
    "6. What does the `print()` function return?\n",
    "<details>\n",
    "    <summary>&#9654; Answer</summary>\n",
    "    <code>None == print(\"Hello\")</code>\n",
    "    Check this in the cell below.\n",
    "</details>"
   ]
  },
  {
   "cell_type": "code",
   "execution_count": null,
   "metadata": {
    "scrolled": true
   },
   "outputs": [],
   "source": [
    "value = print(\"Hello, world!\")"
   ]
  },
  {
   "cell_type": "markdown",
   "metadata": {},
   "source": [
    "7. What does the code below evaluate to? Why?\n",
    "<details>\n",
    "    <summary>&#9654; Answer</summary>\n",
    "    <code>False</code>. Because floating point numbers are represented in computers as finite approximations to continuous real valued numbers.\n",
    "</details>"
   ]
  },
  {
   "cell_type": "code",
   "execution_count": null,
   "metadata": {},
   "outputs": [],
   "source": [
    "0.1 + 0.1 + 0.1 == 0.3"
   ]
  },
  {
   "cell_type": "markdown",
   "metadata": {},
   "source": [
    "## 2.10 Next session\n",
    "\n",
    "Go to our [next chapter](3_Print_formatting.ipynb). "
   ]
  }
 ],
 "metadata": {
  "kernelspec": {
   "display_name": "Python 3",
   "language": "python",
   "name": "python3"
  },
  "language_info": {
   "codemirror_mode": {
    "name": "ipython",
    "version": 3
   },
   "file_extension": ".py",
   "mimetype": "text/x-python",
   "name": "python",
   "nbconvert_exporter": "python",
   "pygments_lexer": "ipython3",
   "version": "3.7.3"
  }
 },
 "nbformat": 4,
 "nbformat_minor": 2
}
