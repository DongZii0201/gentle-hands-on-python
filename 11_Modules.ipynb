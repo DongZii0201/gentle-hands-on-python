{
 "cells": [
  {
   "cell_type": "markdown",
   "metadata": {},
   "source": [
    "# 11. Modules\n",
    "*(Re-)using existing code*\n",
    "\n",
    "## 11.1 Introduction\n",
    "So now that we know how to make functions, how can you re-use them? Imagine that you've started writing code and functions in one file and the project has grown to such an extent that it would be easier to maintain it in different files each containing a specific part of the project. Or you want to re-use some of the functions in other projects as well. \n",
    "\n",
    "In Python you can import functions and chunks of code from files. Such a file containing the functions is called a *module*. Generally we say that we import a *definition* from a *module*. A module can have one or multiple functions in it. \n",
    "The file name is the module name with the suffix `.py` appended. \n",
    "\n",
    "Using the code from this module is possible by using **import**. In this way you can import your own functions, but also draw on a very extensive library of functions provided by Python (built-in modules). We will first look at the syntax for imports and how to import your own functions, then explore the most commonly used Python libraries.\n",
    "\n",
    "## 11.2 How imports work\n",
    "The easiest way to import a module looks like this:\n",
    "\n",
    "```python\n",
    "import module1\n",
    "```\n",
    "\n",
    "Imagine that in the module `module1`, there is a function called `getMeanValue()`. This way of importing does not make the name of the function available; it only remembers the module name `module1` which you can than use to access the functions within the module:\n",
    "\n",
    "```python\n",
    "import module1\n",
    "module1.getMeanValue([1,2,3])\n",
    "```\n",
    "\n",
    "## 11.3 How to create your own module\n",
    "The easiest example is importing a module from within the same working directory. Let's create a Python module called `module1.py` with the code of the function `getMeanValue()` that we have written earlier (and you can find here below). \n",
    "\n",
    "**Create a module in Jupyter Lab/Notebook**\n",
    "- In order to create a module in Jupyter Lab, first create a new notebook \n",
    "- Rename the notebook (e.g. 'module1.ipynb') and copy paste the code in the notebook \n",
    "- Click 'File', 'Download as' and 'Python' \n",
    "- Jupyter will not download it in some local folder, copy it to your current working directory (in our case in the same directory as we're in right now). \n",
    "\n",
    "Unfortunately, Jupyter Lab/Notebook doesn't have a streamlined & straightforward way of creating Python modules and Python scripts. When you export the notebook, it will always export the whole Notebook and not just a part of it, which makes it very messy if you have a very large notebook. \n",
    "\n",
    "Import the following code in the `module1.py` file. "
   ]
  },
  {
   "cell_type": "code",
   "execution_count": null,
   "metadata": {},
   "outputs": [],
   "source": [
    "# When you download this as a Python script, Jupyter will automatically insert the environment shebang here. \n",
    "\n",
    "def getMeanValue(valueList):\n",
    "    \"\"\"\n",
    "    Calculate the mean (average) value from a list of values.\n",
    "    Input: list of integers/floats\n",
    "    Output: mean value\n",
    "    \"\"\"\n",
    "    valueTotal = 0.0\n",
    " \n",
    "    for value in valueList:\n",
    "        valueTotal += value\n",
    "    numberValues = len(valueList)\n",
    "    \n",
    "    return (valueTotal/numberValues)"
   ]
  },
  {
   "cell_type": "markdown",
   "metadata": {},
   "source": [
    "## 11.4 Import syntax \n",
    "We can now use the module we just created by importing it. In this case where we import the whole 'module1' file, we can call the function as a method, similar to the methods for lists and strings that we saw earlier:"
   ]
  },
  {
   "cell_type": "code",
   "execution_count": null,
   "metadata": {},
   "outputs": [],
   "source": [
    "import module1\n",
    "\n",
    "print(module1.getMeanValue([4,6,77,3,67,54,6,5]))"
   ]
  },
  {
   "cell_type": "markdown",
   "metadata": {},
   "source": [
    "If we were to write code for a huge project, long names can get exhaustive. Programmers will intrinsically make shortcut names for functions they use a lot. Renaming a module is therefore a common thing to do (e.g. NumPy as np, pandas as pd, etc.):"
   ]
  },
  {
   "cell_type": "code",
   "execution_count": null,
   "metadata": {},
   "outputs": [],
   "source": [
    "import module1 as m1\n",
    "\n",
    "print(m1.getMeanValue([4,6,77,3,67,54,6,5]))"
   ]
  },
  {
   "cell_type": "markdown",
   "metadata": {},
   "source": [
    "When importing a file, Python only searches the current directory, the directory that the entry-point script is running from, and sys.path which includes locations such as the package installation directory (it's actually a little more complex than this, but this covers most cases).\n",
    "\n",
    "However, you can specify the Python path yourself as well. Note that within our folders there is a directory named `modules` and within this folder, there is a module named `module2` (recognizable due to its .py extension). In that module there are two functions: 'getMeanValue' and 'compareMeanValueOfLists'. "
   ]
  },
  {
   "cell_type": "code",
   "execution_count": null,
   "metadata": {},
   "outputs": [],
   "source": [
    "from modules import module2\n",
    "\n",
    "print(module2.getMeanValue([4,6,77,3,67,54,6,5]))"
   ]
  },
  {
   "cell_type": "code",
   "execution_count": null,
   "metadata": {},
   "outputs": [],
   "source": [
    "from modules import module2 as m2\n",
    "\n",
    "print(m2.getMeanValue([4,6,77,3,67,54,6,5]))"
   ]
  },
  {
   "cell_type": "markdown",
   "metadata": {},
   "source": [
    "Another way of writing this is with an absolute path to the module. You can explicitly import an attribute from a module."
   ]
  },
  {
   "cell_type": "code",
   "execution_count": null,
   "metadata": {},
   "outputs": [],
   "source": [
    "from modules.module2 import compareMeanValueOfLists\n",
    "\n",
    "print(compareMeanValueOfLists([1,2,3,4,5,6,7], [4,6,77,3,67,54,6,5]))"
   ]
  },
  {
   "cell_type": "markdown",
   "metadata": {},
   "source": [
    "So here we *import* the function compareMeanValueOfLists (without brackets!) from the file *module2* (without .py extension!).\n",
    "\n",
    "In order to have an overview of all the different functions within a module, use `dir()`:"
   ]
  },
  {
   "cell_type": "code",
   "execution_count": null,
   "metadata": {},
   "outputs": [],
   "source": [
    "dir(module2)"
   ]
  },
  {
   "cell_type": "markdown",
   "metadata": {},
   "source": [
    "## 11.5 Built-in Modules\n",
    "\n",
    "There are several built-in modules in Python, which you can import whenever you like.\n",
    "\n",
    "Python has many ready-to-use functions that can save you a lot of time when writing code. The most common ones are **time**, **sys**, **os/os.path** and **re**.\n",
    "\n",
    "### 11.5.1 `time`\n",
    "With **time** you can get information on the current time and date, ...:"
   ]
  },
  {
   "cell_type": "code",
   "execution_count": null,
   "metadata": {},
   "outputs": [],
   "source": [
    "import time\n",
    "time.ctime()  # Print current day and time"
   ]
  },
  {
   "cell_type": "code",
   "execution_count": null,
   "metadata": {},
   "outputs": [],
   "source": [
    "time.time()   # Print system clock time"
   ]
  },
  {
   "cell_type": "code",
   "execution_count": null,
   "metadata": {},
   "outputs": [],
   "source": [
    "time.sleep(10)       # Sleep for 5 seconds - the program will wait here"
   ]
  },
  {
   "cell_type": "markdown",
   "metadata": {},
   "source": [
    "See the [Python documentation](https://docs.python.org/3/library/time.html) for a full description of time. Also see [datetime](https://docs.python.org/3/library/datetime.html), which is a module to deal with date/time manipulations.\n"
   ]
  },
  {
   "cell_type": "markdown",
   "metadata": {},
   "source": [
    "### 11.5.2 `sys`\n",
    "gives you system-specific parameters and functions:"
   ]
  },
  {
   "cell_type": "code",
   "execution_count": null,
   "metadata": {},
   "outputs": [],
   "source": [
    "import sys\n"
   ]
  },
  {
   "cell_type": "code",
   "execution_count": null,
   "metadata": {},
   "outputs": [],
   "source": [
    "sys.argv  # A list of parameters that are given when calling this script \n",
    "          # from the command line (e.g. ''python myScript a b c'')"
   ]
  },
  {
   "cell_type": "code",
   "execution_count": null,
   "metadata": {},
   "outputs": [],
   "source": [
    "sys.platform # The platform the code is currently running on"
   ]
  },
  {
   "cell_type": "code",
   "execution_count": null,
   "metadata": {},
   "outputs": [],
   "source": [
    "sys.path     # The directories where Python will look for things to import"
   ]
  },
  {
   "cell_type": "code",
   "execution_count": null,
   "metadata": {},
   "outputs": [],
   "source": [
    "help(sys.exit)          # Exit the code immediately"
   ]
  },
  {
   "cell_type": "markdown",
   "metadata": {},
   "source": [
    "See the [Python documentation](https://docs.python.org/3/library/sys.html) for a full description."
   ]
  },
  {
   "cell_type": "markdown",
   "metadata": {},
   "source": [
    "### 11.5.3 `os` and `os.path` \n",
    "are very useful when dealing with files and directories:\n"
   ]
  },
  {
   "cell_type": "code",
   "execution_count": null,
   "metadata": {},
   "outputs": [],
   "source": [
    "import os"
   ]
  },
  {
   "cell_type": "code",
   "execution_count": null,
   "metadata": {},
   "outputs": [],
   "source": [
    "# Get the current working directory (cwd)\n",
    "currentDir = os.getcwd()\n",
    "currentDir"
   ]
  },
  {
   "cell_type": "code",
   "execution_count": null,
   "metadata": {},
   "outputs": [],
   "source": [
    "# Get a list of the files in the current working directory    \n",
    "myFiles = os.listdir(currentDir)\n",
    "myFiles"
   ]
  },
  {
   "cell_type": "code",
   "execution_count": null,
   "metadata": {},
   "outputs": [],
   "source": [
    "# Create a directory, rename it, and remove it\n",
    "os.mkdir(\"myTempDir\")\n",
    "os.rename(\"myTempDir\",\"myNewTempDir\")\n",
    "os.removedirs(\"myNewTempDir\")"
   ]
  },
  {
   "cell_type": "code",
   "execution_count": null,
   "metadata": {},
   "outputs": [],
   "source": [
    "# Create a full path name to the `module2` module in the modules folder\n",
    "myFileFullPath = os.path.join(currentDir,'modules','module2.py')\n",
    "myFileFullPath"
   ]
  },
  {
   "cell_type": "code",
   "execution_count": null,
   "metadata": {},
   "outputs": [],
   "source": [
    "# Does this file exist?\n",
    "os.path.exists(myFileFullPath)"
   ]
  },
  {
   "cell_type": "code",
   "execution_count": null,
   "metadata": {},
   "outputs": [],
   "source": [
    "# How big is the file?\n",
    "os.path.getsize(myFileFullPath)"
   ]
  },
  {
   "cell_type": "code",
   "execution_count": null,
   "metadata": {},
   "outputs": [],
   "source": [
    "# Split the directory path from the file name\n",
    "(myDir,myFileName) = os.path.split(myFileFullPath)\n",
    "print(myDir)\n",
    "print(myFileName)"
   ]
  },
  {
   "cell_type": "markdown",
   "metadata": {},
   "source": [
    "See the Python documentation for [**os**](https://docs.python.org/3/library/os.html) and [**os.path**](https://docs.python.org/3/library/os.path.html) for a full description."
   ]
  },
  {
   "cell_type": "markdown",
   "metadata": {},
   "source": [
    "### 11.5.4 `re`\n",
    "\n",
    "A library that is very powerful for dealing with strings is **re**. It allows you to use regular expressions to examine text - using these is a course in itself, so just consider this simple example:"
   ]
  },
  {
   "cell_type": "code",
   "execution_count": null,
   "metadata": {},
   "outputs": [],
   "source": [
    "import re\n",
    "\n",
    "myText = \"\"\"Call me Ishmael. Some years ago - never mind how long precisely -\n",
    "having little or no money in my purse, and nothing particular to interest me on \n",
    "shore, I thought I would sail about a little and see the watery part of the \n",
    "world.\"\"\"\n",
    "\n",
    "# Compile a regular expression, \n",
    "myPattern = re.compile(\"(w\\w+d)\")    # Look for the first word that starts with a w,\n",
    "                                     # is followed by 1 or more characters (\\w+)\n",
    "                                     # and ends in a d\n",
    "\n",
    "mySearch = myPattern.search(myText)\n",
    "\n",
    "# mySearch will be None if nothing was found\n",
    "if mySearch:\n",
    "    print(mySearch.groups())"
   ]
  },
  {
   "cell_type": "markdown",
   "metadata": {},
   "source": [
    "See the full [Python documentation](https://docs.python.org/3/library/re.html) on regular expressions for more information."
   ]
  },
  {
   "cell_type": "markdown",
   "metadata": {},
   "source": [
    "## 11.6 Putting everything together"
   ]
  },
  {
   "cell_type": "markdown",
   "metadata": {},
   "source": [
    "\n",
    "---\n",
    "### 11.6.1 Exercises\n",
    "\n",
    "Make a new directory in which you write out 5 files with a 2 second delay. Each file should contain the date and time when it was originally written out.\n",
    "\n",
    "---\n"
   ]
  },
  {
   "cell_type": "code",
   "execution_count": null,
   "metadata": {},
   "outputs": [],
   "source": []
  },
  {
   "cell_type": "markdown",
   "metadata": {},
   "source": [
    "---\n",
    "### 11.6.2 Exercises\n",
    "\n",
    "Write a function to read in a FASTA file with an RNA sequence and return the RNA sequence (in 3 base unit chunks).\n",
    "\n",
    "---"
   ]
  },
  {
   "cell_type": "code",
   "execution_count": null,
   "metadata": {},
   "outputs": [],
   "source": []
  },
  {
   "cell_type": "markdown",
   "metadata": {},
   "source": [
    "---\n",
    "### 11.6.3 Exercises\n",
    "\n",
    "Write a program where you ask the user for a one-letter amino acid sequence, and print out the three-letter amino acid codes. Download the dictionary from section 8.2 and save it as a module named SequenceDicts.py first.\n",
    "\n",
    "---"
   ]
  },
  {
   "cell_type": "code",
   "execution_count": null,
   "metadata": {},
   "outputs": [],
   "source": []
  },
  {
   "cell_type": "markdown",
   "metadata": {},
   "source": [
    "---\n",
    "### 11.6.4 Exercises\n",
    "\n",
    "Write a program where you translate the RNA sequence `data/rnaSeq.txt` into 3 letter amino acid codes. Use the dictionary from section 8.2 (called myDictionary) and save it as a module named SequenceDicts.py first. You can use the `readFasta.py` module from the modules folder. \n",
    "\n",
    "---"
   ]
  },
  {
   "cell_type": "code",
   "execution_count": null,
   "metadata": {},
   "outputs": [],
   "source": []
  },
  {
   "cell_type": "markdown",
   "metadata": {},
   "source": [
    "---\n",
    "### 11.6.5 Exercises\n",
    "\n",
    "Write a program that:\n",
    "- Has a function `readSampleInformationFile()` to read the information from this sample data file into a dictionary. Also check whether the file exists.\n",
    "- Has a function `getSampleIdsForValueRange()` that can extract sample IDs from this dictionary. Print the sample IDs for pH 6.0-7.0, temperature 280-290 and volume 200-220 using this function.\n",
    "\n",
    "---\n"
   ]
  },
  {
   "cell_type": "code",
   "execution_count": null,
   "metadata": {},
   "outputs": [],
   "source": []
  },
  {
   "cell_type": "markdown",
   "metadata": {},
   "source": [
    "Go to the next part of the tutorial"
   ]
  },
  {
   "cell_type": "markdown",
   "metadata": {},
   "source": [
    "## 11.7 Theoretical background\n",
    "\n",
    "The first thing Python will do is look up the name `module1` in [`sys.modules`](https://docs.python.org/3/library/sys.html#sys.modules). This is a cache of all modules that have been previously imported.\n",
    "\n",
    "If the name isn’t found in the module cache, Python will proceed to search through a list of built-in modules. These are modules that come pre-installed with Python and can be found in the [Python Standard Library](https://docs.python.org/3/library/). If the name still isn’t found in the built-in modules, Python then searches for it in a list of directories defined by [`sys.path`](https://docs.python.org/3/library/sys.html#sys.path). This list usually includes the current directory, which is searched first.\n",
    "\n",
    "When Python finds the module, it binds it to a name locally. This means that `abc` is now defined and can be used in the current file without throwing a `NameError`. In the case a `NameError` is thrown, it basically means that Python couldn't find the function with the name that you gave. \n",
    "\n",
    "If the name of the module is not found, you’ll get a `ModuleNotFoundError`. "
   ]
  },
  {
   "cell_type": "markdown",
   "metadata": {},
   "source": [
    "## 11.8 Next session\n",
    "\n",
    "Go to our [next chapter](12_Plotting.ipynb). "
   ]
  }
 ],
 "metadata": {
  "kernelspec": {
   "display_name": "Python 3",
   "language": "python",
   "name": "python3"
  },
  "language_info": {
   "codemirror_mode": {
    "name": "ipython",
    "version": 3
   },
   "file_extension": ".py",
   "mimetype": "text/x-python",
   "name": "python",
   "nbconvert_exporter": "python",
   "pygments_lexer": "ipython3",
   "version": "3.7.3"
  }
 },
 "nbformat": 4,
 "nbformat_minor": 2
}
