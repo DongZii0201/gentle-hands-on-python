{
 "cells": [
  {
   "cell_type": "markdown",
   "metadata": {},
   "source": [
    "## 4. Conditions\n",
    "\n",
    "> _\"In the face of ambiguity, refuse the temptation to guess.\"_\n",
    ">\n",
    "> -- Zen of Python by Tim Peters<sup>1</sup>\n",
    "\n",
    "## 4.1 Introduction\n",
    "Programs start to become more interesting if you can do different things depending on the input. For this, you have to use *conditions*, which we will discuss in this section. \n",
    "\n",
    "Decisions will be taken based on the outcome of a condition which could be either `True` or `False`."
   ]
  },
  {
   "cell_type": "markdown",
   "metadata": {},
   "source": [
    "## 4.2 The `if` statement\n",
    "\n",
    "The **if** statement allows you to only execute a _block_ of code if a condition is satisfied. You can think of it\n",
    "as _guarding_ the block.\n",
    "\n",
    "Python syntax requires that you put a colon `:` after the condition, and that the block of code guarded by the\n",
    "conditional is **equally indented** (with spaces or tabs) to the same **indentation level**. Python doesn't really care about the number of spaces or tabs, as long as you're consistent. Jupyter notebooks will indent code blocks for you automatically. Now try this:"
   ]
  },
  {
   "cell_type": "code",
   "execution_count": null,
   "metadata": {},
   "outputs": [],
   "source": [
    "x = 5\n",
    " \n",
    "if x == 5:\n",
    "    print(\"x is five!\")\n",
    "\n",
    "if x!=5:\n",
    "    print(\"x is not five!\")"
   ]
  },
  {
   "cell_type": "markdown",
   "metadata": {},
   "source": [
    "you will see that only the block of code guarded by the condition `x == 5` is printed out. You can of course make the conditions more complex and combine them with logical operations such as `and` and `or`:\n"
   ]
  },
  {
   "cell_type": "code",
   "execution_count": null,
   "metadata": {},
   "outputs": [],
   "source": [
    "x = 5\n",
    "y = 10\n",
    " \n",
    "if (y / x) == 2:\n",
    "    print(\"y divided by x is 2!\")\n",
    "\n",
    "if y == 10 or x == 2:\n",
    "    print(\"x is two or y is ten\")\n",
    "    \n",
    "if y == 10 and x == 2:\n",
    "    print(\"x is two and y is ten\")\n",
    "\n",
    "print(\"The end\")"
   ]
  },
  {
   "cell_type": "markdown",
   "metadata": {},
   "source": [
    "Here you see that the blocks for the first two conditions (which evaluate to `True`) are executed, but not the third. The last line of code is always printed - it's on the same indentation level as the start of the code, and not conditional."
   ]
  },
  {
   "cell_type": "markdown",
   "metadata": {},
   "source": [
    "---\n",
    "### Intermezzo: combining logical operators\n",
    "\n",
    "When it comes to combining logical operators, it's good to have an overview of the possibilities and their results. In the following table we're giving two conditions A and B which are either `True` or `False`. In the last two columns, you can find the result of using the `or` versus the `and` operator.\n",
    "\n",
    "|  A |  B ||  `A or B` |  `A and B` |\n",
    "|------------:|------------|:|---------------:|----------------:|\n",
    "| True        | True        || True           | True            |\n",
    "|        True |       False ||           True |           False |\n",
    "|       False |        True ||           True |           False |\n",
    "| False       | False       || False          | False           |\n",
    "\n",
    "---"
   ]
  },
  {
   "cell_type": "markdown",
   "metadata": {},
   "source": [
    "## 4.3 Indentation\n",
    "Python relies on indentation (whitespace at the beginning of a line) to group code into _blocks_. Though this is not a unique characteristic of Python, other programming languages often use curly brackets or _braces_ (`{}`) for this purpose. \n",
    "\n",
    "The _indentation level_ is crucial. This means you have to be careful how you indent the code such\n",
    "that your code is correctly grouped into blocks. It also means that if the Python interpreter encounters inconsistent indentation it will immediately throw an error.\n",
    "\n",
    "See what happens if indentation is inconsistent:"
   ]
  },
  {
   "cell_type": "code",
   "execution_count": null,
   "metadata": {},
   "outputs": [],
   "source": [
    "x = 5\n",
    "y = 10\n",
    " \n",
    "if (y / x) == 2:\n",
    "  print(\"y divided by x is 2!\")\n",
    "   print (\"And x is \", x)"
   ]
  },
  {
   "cell_type": "markdown",
   "metadata": {},
   "source": [
    "Note that this can also happen if you start mixing space and tab characters!\n"
   ]
  },
  {
   "cell_type": "markdown",
   "metadata": {},
   "source": [
    "Can you spot (and fix!) the bug caused by incorrect grouping of code in the following snippet?"
   ]
  },
  {
   "cell_type": "code",
   "execution_count": null,
   "metadata": {},
   "outputs": [],
   "source": [
    "# Bound x to within a range\n",
    "x = int(input(\"x? \"))\n",
    "minimum_value = 0\n",
    "maximum_value = 10\n",
    "\n",
    "if x < minimum_value:\n",
    "    print(\"x too low\")\n",
    "x = minimum_value\n",
    "\n",
    "if x > maximum_value:\n",
    "    print(\"x is too high\")\n",
    "x = maximum_value\n",
    "\n",
    "print(\"x=\", x)"
   ]
  },
  {
   "cell_type": "markdown",
   "metadata": {},
   "source": [
    "\n",
    "---\n",
    "### 4.3.1 Exercise\n",
    "\n",
    "Write a program where you ask the user for x and y, make sure that y is not zero, and print out x/y. \n",
    "\n",
    "---\n"
   ]
  },
  {
   "cell_type": "code",
   "execution_count": null,
   "metadata": {},
   "outputs": [],
   "source": [
    "# Modify the code below on the ... locations:\n",
    "xString = input(...)\n",
    "yString = input(...)\n",
    "\n",
    "x = ...(xString)\n",
    "y = ...(yString)\n",
    "\n",
    "if ... :\n",
    "    print(\"Error, your y-number is 0\")\n",
    "if ... : \n",
    "    print(\"x divided by y = \", ...)"
   ]
  },
  {
   "cell_type": "markdown",
   "metadata": {},
   "source": [
    "<details>\n",
    "    <summary>&#9654; Extra exercise 4.3.1-1</summary>\n",
    "    Write a program that asks the user for a number, then prints whether the number is even or odd.\n",
    "</details>"
   ]
  },
  {
   "cell_type": "code",
   "execution_count": null,
   "metadata": {},
   "outputs": [],
   "source": []
  },
  {
   "cell_type": "markdown",
   "metadata": {},
   "source": [
    "<details>\n",
    "    <summary>&#9654; Extra exercise 4.3.1-2</summary>\n",
    "    Write a program that checks if a string is longer than a certain length, if it is, the string should be\n",
    "    truncated and display ellipses (\"...\") as the last 3 characters. The truncated string + the ellipses should\n",
    "    fit within the given length.\n",
    "</details>"
   ]
  },
  {
   "cell_type": "code",
   "execution_count": null,
   "metadata": {},
   "outputs": [],
   "source": [
    "max_len = 10\n",
    "string = input(\"?\")"
   ]
  },
  {
   "cell_type": "markdown",
   "metadata": {},
   "source": [
    "## 4.4 `else` and `elif` statements\n",
    "\n",
    "You may wish to perform a computation based on one of several conditions. An example from everyday experience\n",
    "is \"What type of food will I eat?\"\n",
    "\n",
    "---\n",
    "**If** it is breakfast time, then **eat breakfast**\n",
    "\n",
    "**Otherwise, if** it is lunch time, then **eat lunch**\n",
    "\n",
    "**Otherwise, if** it is dinner time, then **eat dinner**\n",
    "\n",
    "**Otherwise**, **eat snacks**.\n",
    "\n",
    "---\n",
    "\n",
    "In this example we select _only one_ of 4 possible actions (eat breakfast, eat lunch, eat dinner, or eat snacks).\n",
    "This can be neatly translated into pseudo-Python using `if`, `elif`, and `else`:\n",
    "\n",
    "```python\n",
    "if 6_00 <= current_time() <= 10_00:\n",
    "    eat_breakfast()\n",
    "elif 12_00 <= current_time() <= 13_00:\n",
    "    eat_lunch()\n",
    "elif 17_00 <= current_time() <= 20_00:\n",
    "    eat_dinner()\n",
    "else:\n",
    "    eat_snacks()\n",
    "```\n",
    "\n",
    "You will notice that `elif` is not the same as another **if**-statement. An **elif** is only executed if the\n",
    "previous `if` (and other preceding elifs) are not executed. In the example below the code from section 4.3 is adapted.\n",
    "Now all if-statements are changed by elifs and only a single indented block of code will be evaluated.\n",
    "\n",
    "The `elif` is a convenient short-hand for `else` followed by `if`. The above example is exactly equivalent to:\n",
    "\n",
    "```python\n",
    "if 6_00 <= current_time() <= 10_00:\n",
    "    eat_breakfast()\n",
    "else:\n",
    "    if 12_00 <= current_time() <= 13_00:\n",
    "        eat_lunch()\n",
    "    else:\n",
    "        if 17_00 <= current_time() <= 20_00:\n",
    "            eat_dinner()\n",
    "        else:\n",
    "            eat_snacks()\n",
    "```"
   ]
  },
  {
   "cell_type": "markdown",
   "metadata": {},
   "source": [
    "Let's try it with some numbers now:"
   ]
  },
  {
   "cell_type": "code",
   "execution_count": null,
   "metadata": {},
   "outputs": [],
   "source": [
    "x = 5\n",
    "y = 10\n",
    " \n",
    "if (y / x) == 2:\n",
    "    print(\"y divided by x is 2!\")\n",
    "elif y == 10 or x == 2:\n",
    "    print(\"x is two or y is ten\")\n",
    "elif y == 10 and x == 2:\n",
    "    print(\"x is two and y is ten\")\n",
    "\n",
    "print(\"The end\")"
   ]
  },
  {
   "cell_type": "markdown",
   "metadata": {},
   "source": [
    "Now only the code under the first condition is executed, not the second (the third condition is not `True` and is in any case irrelevant). If we switch the conditions around a bit:\n",
    "\n"
   ]
  },
  {
   "cell_type": "code",
   "execution_count": null,
   "metadata": {},
   "outputs": [],
   "source": [
    "x = 5\n",
    "y = 10\n",
    " \n",
    "if y == 10 and x == 2:\n",
    "    print(\"x is two and y is ten\")\n",
    "elif y == 10 or x == 2:\n",
    "    print(\"x is two or y is ten\")\n",
    "elif (y / x) == 2:\n",
    "    print(\"y divided by x is 2!\")\n",
    "\n",
    "print(\"The end\")"
   ]
  },
  {
   "cell_type": "markdown",
   "metadata": {},
   "source": [
    "The first condition is not `True`, so the second is evaluated. This one is `True`, so its block is executed, and the\n",
    "text `'x is two or y is ten'` is printed. For clarity it is often useful to leave some space before and after the\n",
    "condition - it makes the code easier to read.\n",
    "\n"
   ]
  },
  {
   "cell_type": "markdown",
   "metadata": {},
   "source": [
    "\n",
    "---\n",
    "### 4.4.1 Exercise\n",
    "\n",
    "Write a function that compares two words. Compare the words; \n",
    "- if they are the same, print the message `'Both words are the same'`, \n",
    "- if the first or second word is 'Stop', then print the message `'First word is stop, so we stopped'` or `'Second word is stop, so we stopped'`,\n",
    "- finally, if they are not the same, just print the words. \n",
    "\n",
    "Try to experiment and write some code that works first, before transforming it into a function. Note that Python is case sensitive, hence the words `hello` and `Hello` are not the same for Python.\n",
    "\n"
   ]
  },
  {
   "cell_type": "code",
   "execution_count": null,
   "metadata": {},
   "outputs": [],
   "source": [
    "# Input \n",
    "firstWord = \"Hello\"\n",
    "secondWord = \"Folks\"\n",
    "\n",
    "if ...\n",
    "elif ...\n",
    "elif ...\n",
    "else ... \n",
    "\n",
    "message"
   ]
  },
  {
   "cell_type": "code",
   "execution_count": null,
   "metadata": {},
   "outputs": [],
   "source": [
    "def compareWords(firstWord, secondWord):\n",
    "    if ...\n",
    "    elif ...\n",
    "    elif ... \n",
    "    else ...\n",
    "\n",
    "    return message"
   ]
  },
  {
   "cell_type": "code",
   "execution_count": null,
   "metadata": {},
   "outputs": [],
   "source": [
    "assert 'Hello world' == compareWords('Hello', 'world')\n",
    "assert 'Both words are the same' == compareWords('Hello', 'Hello')\n",
    "assert 'Second word is stop, so we stopped' == compareWords('Hello', 'stop')"
   ]
  },
  {
   "cell_type": "markdown",
   "metadata": {},
   "source": [
    "---"
   ]
  },
  {
   "cell_type": "markdown",
   "metadata": {},
   "source": [
    "You can also end an **if** (with or without **elif**s) with an **else** condition. The block of code following else is only executed if the previous (set of) conditions are all False. Try this:\n",
    "\n"
   ]
  },
  {
   "cell_type": "code",
   "execution_count": null,
   "metadata": {},
   "outputs": [],
   "source": [
    "x = 7\n",
    " \n",
    "if (x % 2) == 0:\n",
    "    print(\"x is divisible by two!\")\n",
    "elif (x % 3) == 0:\n",
    "    print(\"x is divisible by three!\")\n",
    "else:\n",
    "    print(\"x is not divisible by two nor three...\")\n",
    "\n",
    "print(\"x is \", x)"
   ]
  },
  {
   "cell_type": "markdown",
   "metadata": {},
   "source": [
    "You can modify the value of x a bit to see what else can happen. Can you spot a problem with this example? What will happen if x can be divided by both two and three? What can you do to solve this problem?"
   ]
  },
  {
   "cell_type": "markdown",
   "metadata": {},
   "source": [
    "\n",
    "---\n",
    "### 4.4.2 Exercise\n",
    "\n",
    "Modify the code above so it prints that it is divisible by two and three when this is the case.\n",
    "\n",
    "---"
   ]
  },
  {
   "cell_type": "markdown",
   "metadata": {},
   "source": [
    "## 4.5 Chapter Review\n",
    "In this chapter you've learned what a _block_ of code is. You've also learned how to _guard_ a block with an `if`\n",
    "condition and also how to conditionally execute blocks of code.\n",
    "\n",
    "\n",
    "### Review Questions\n",
    "\n",
    "1. What is a code block?\n",
    "<details>\n",
    "    <summary>&#9654; Answer</summary>\n",
    "    A series of Python statements that are equally indented and executed together.\n",
    "</details>\n",
    "\n",
    "\n",
    "2. What does \"equally indented\" mean?\n",
    "<details>\n",
    "    <summary>&#9654; Answer</summary>\n",
    "    The amount of indentation (whitespace) after the start of a row of characters is the same.\n",
    "</details>\n",
    "\n",
    "\n",
    "3. What can be in an `if` or `elif` condition?\n",
    "<details>\n",
    "    <summary>&#9654; Answer</summary>\n",
    "    Any boolean expression including function calls.\n",
    "</details>\n",
    "\n",
    "\n",
    "4. What is the difference between `if` and `elif`?\n",
    "<details>\n",
    "    <summary>&#9654; Answer</summary>\n",
    "    <code>elif</code> is just short for an <code>else</code> followed by an <code>if</code>\n",
    "</details>"
   ]
  },
  {
   "cell_type": "markdown",
   "metadata": {},
   "source": [
    "## 4.6 References\n",
    "\n",
    "1. Zen of Python: https://www.python.org/dev/peps/pep-0020/\n",
    "\n",
    "## 4.7 Next session\n",
    "\n",
    "Go to our [next chapter](05_Lists_Tuples.ipynb). "
   ]
  },
  {
   "cell_type": "code",
   "execution_count": null,
   "metadata": {},
   "outputs": [],
   "source": []
  }
 ],
 "metadata": {
  "kernelspec": {
   "display_name": "Python 3",
   "language": "python",
   "name": "python3"
  },
  "language_info": {
   "codemirror_mode": {
    "name": "ipython",
    "version": 3
   },
   "file_extension": ".py",
   "mimetype": "text/x-python",
   "name": "python",
   "nbconvert_exporter": "python",
   "pygments_lexer": "ipython3",
   "version": "3.9.2"
  }
 },
 "nbformat": 4,
 "nbformat_minor": 4
}
