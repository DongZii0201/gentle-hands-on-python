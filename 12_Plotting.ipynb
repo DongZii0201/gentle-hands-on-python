{
 "cells": [
  {
   "cell_type": "markdown",
   "metadata": {},
   "source": [
    "# 12. Plotting figures\n",
    "*This chapter is based on the materials from [this book](https://www.packtpub.com/eu/big-data-and-business-intelligence/become-python-data-analyst) and [this website](https://python-graph-gallery.com/8-add-confidence-interval-on-barplot/)*\n",
    "\n",
    "Matplotlib is a Python 2D plotting library which produces publication quality figures. Although Matplotlib is written primarily in pure Python, it makes heavy use of NumPy and other extension code to provide good performance even for large arrays.\n",
    "\n",
    "We will start with the basics concepts being figures, subplots (axes) and axis. The following line of code allows the figures to be plotted in the notebook results"
   ]
  },
  {
   "cell_type": "code",
   "execution_count": null,
   "metadata": {},
   "outputs": [],
   "source": [
    "%matplotlib inline"
   ]
  },
  {
   "cell_type": "markdown",
   "metadata": {},
   "source": [
    "`matplotlib.pyplot` is a collection of command style functions that make matplotlib work like MATLAB. Each pyplot function makes some change to a figure: e.g., creates a figure, creates a plotting area in a figure, plots some lines in a plotting area, decorates the plot with labels, etc. In matplotlib.pyplot various states are preserved across function calls, so that it keeps track of things like the current figure and plotting area, and the plotting functions are directed to the current subplot."
   ]
  },
  {
   "cell_type": "markdown",
   "metadata": {},
   "source": [
    "What we first have to do is importing the library of course. "
   ]
  },
  {
   "cell_type": "code",
   "execution_count": null,
   "metadata": {},
   "outputs": [],
   "source": [
    "import matplotlib.pyplot as plt"
   ]
  },
  {
   "cell_type": "code",
   "execution_count": null,
   "metadata": {},
   "outputs": [],
   "source": [
    "plt.plot([1, 2, 3, 2.5])\n",
    "plt.ylabel('some numbers')"
   ]
  },
  {
   "cell_type": "markdown",
   "metadata": {},
   "source": [
    "`plot()` is a versatile command, and will take an arbitrary number of arguments. For example, to plot x versus y, you can issue the command:"
   ]
  },
  {
   "cell_type": "code",
   "execution_count": null,
   "metadata": {},
   "outputs": [],
   "source": [
    "x_list = list(range(1,10))\n",
    "y_list = [pow(i, 2) for i in x_list]\n",
    "print(x_list)\n",
    "print(y_list)"
   ]
  },
  {
   "cell_type": "code",
   "execution_count": null,
   "metadata": {},
   "outputs": [],
   "source": [
    "plt.plot(x_list, y_list)\n",
    "plt.title(\"Title of the plot\")"
   ]
  },
  {
   "cell_type": "markdown",
   "metadata": {},
   "source": [
    "Using the pyplot interphase, you build a graph by calling a sequence of functions and all of them are applied to the *current subplot*, like so:"
   ]
  },
  {
   "cell_type": "code",
   "execution_count": null,
   "metadata": {},
   "outputs": [],
   "source": [
    "plt.plot([1, 2, 3, 4], [10, 20, 25, 30], color='lightblue', linewidth=3)\n",
    "plt.scatter([0.3, 3.8, 1.2, 2.5], [11, 25, 9, 26], color='darkgreen', marker='^')\n",
    "plt.xlim(0.5, 4.5)\n",
    "plt.title(\"Title of the plot\")\n",
    "plt.xlabel(\"This is the x-label\")\n",
    "plt.ylabel(\"This is the y-label\")\n",
    "# Uncomment the line below to save the figure in your currentdirectory\n",
    "# plt.savefig('examplefigure.png')"
   ]
  },
  {
   "cell_type": "markdown",
   "metadata": {},
   "source": [
    "When working with just one subplot in the figure, generally is OK to work with the pyplot interphase, however, when doing more complicated plots, or working within larger scripts, you will want to explicitly pass around the *Subplot (Axes)* and/or *Figure* object to operate upon.\n"
   ]
  },
  {
   "cell_type": "code",
   "execution_count": null,
   "metadata": {},
   "outputs": [],
   "source": [
    "def gc_content(file):\n",
    "    \"\"\"Calculate GC content of a fasta file (with one sequence)\"\"\"\n",
    "    sequence=\"\"\n",
    "    with open(file, 'r') as f:\n",
    "        for line in f:\n",
    "            if line.startswith('>'):\n",
    "                seq_id = line.rstrip()[1:]\n",
    "            else:\n",
    "                sequence += line.rstrip()\n",
    "    \n",
    "    A_count = sequence.count('A')\n",
    "    C_count = sequence.count('C')\n",
    "    G_count = sequence.count('G')\n",
    "    T_count = sequence.count('T')\n",
    "    N_count = sequence.count('N')\n",
    "    GC_content = (sequence.count('G') + sequence.count('C')) / len(sequence) * 100\n",
    "    AT_content = (sequence.count('A') + sequence.count('T')) / len(sequence) * 100\n",
    "    print(\"The GC content of {} is\\t {:.2f}%\".format(seq_id, GC_content))    \n",
    "    return GC_content, AT_content, A_count, C_count, G_count, T_count, N_count\n",
    "    \n",
    "\n",
    "GC_content, AT_content, A_count, C_count, G_count, T_count, N_count = gc_content('../data/gene.fa')\n",
    "print(GC_content)\n",
    "print(AT_content)\n",
    "print(A_count)\n",
    "print(C_count)\n",
    "print(T_count)\n",
    "print(G_count)\n"
   ]
  },
  {
   "cell_type": "code",
   "execution_count": null,
   "metadata": {},
   "outputs": [],
   "source": [
    "total_count = A_count + C_count + G_count + T_count\n",
    "A_perc = A_count/total_count*100\n",
    "C_perc = C_count/total_count*100\n",
    "G_perc = G_count/total_count*100\n",
    "T_perc = T_count/total_count*100\n",
    "height = [A_perc, C_perc, G_perc, T_perc]\n",
    "bars = ('A','C','G','T')\n",
    "plt.bar(bars, height)\n",
    "\n",
    "plt.xlabel('Nucleotide')\n",
    "plt.ylabel('Percentage of occurence (%)')\n",
    "plt.title('Distribution of nucleotides in fasta sequence')\n",
    "\n",
    "plt.show()"
   ]
  },
  {
   "cell_type": "code",
   "execution_count": null,
   "metadata": {},
   "outputs": [],
   "source": [
    "total_count = A_count + C_count + G_count + T_count\n",
    "A_perc = A_count/total_count*100\n",
    "C_perc = C_count/total_count*100\n",
    "G_perc = G_count/total_count*100\n",
    "T_perc = T_count/total_count*100\n",
    "height = [A_perc, C_perc, G_perc, T_perc]\n",
    "bars = ('A','C','G','T')\n",
    "#plt.bar(bars, height, color=('green','red','yellow','blue'))\n",
    "plt.bar(bars, height, color=('#1f77b4','#ff7f0e','#2ca02c','#d62728'))\n",
    "\n",
    "plt.xlabel('Nucleotide')\n",
    "plt.ylabel('Percentage of occurence (%)')\n",
    "plt.title('Distribution of nucleotides in fasta sequence')\n",
    "\n",
    "plt.show()"
   ]
  },
  {
   "cell_type": "code",
   "execution_count": null,
   "metadata": {},
   "outputs": [],
   "source": [
    "# libraries\n",
    "#import numpy as np\n",
    "import matplotlib.pyplot as plt\n",
    " \n",
    "# width of the bars\n",
    "barWidth = 0.3\n",
    " \n",
    "# Choose the height of the blue bars\n",
    "experimentA = [10, 9, 2]\n",
    " \n",
    "# Choose the height of the cyan bars\n",
    "experimentB = [10.8, 9.5, 4.5]\n",
    " \n",
    "# Choose the height of the error bars (bars1)\n",
    "yer1 = [0.5, 0.4, 0.5]\n",
    " \n",
    "# Choose the height of the error bars (bars2)\n",
    "yer2 = [1, 0.7, 1]\n",
    " \n",
    "# The x position of bars\n",
    "r1 = list(range(len(experimentA)))\n",
    "r2 = [x + barWidth for x in r1]\n",
    " \n",
    "# Create blue bars\n",
    "plt.bar(r1, experimentA, width = 0.3, color = 'blue', edgecolor = 'black', yerr=yer1, capsize=5, label='Experiment A') # Capsize is the width of errorbars\n",
    " \n",
    "# Create cyan bars\n",
    "plt.bar(r2, experimentB, width = 0.3, color = 'cyan', edgecolor = 'black', yerr=yer2, capsize=7, label='Experiment B')\n",
    " \n",
    "# general layout\n",
    "plt.xticks([x + barWidth/2 for x in r1], ['cond_A', 'cond_B', 'cond_C'])\n",
    "plt.ylabel('effect')\n",
    "plt.legend()\n",
    " \n",
    "# Show graphic\n",
    "plt.show()\n"
   ]
  },
  {
   "cell_type": "markdown",
   "metadata": {},
   "source": [
    "\n"
   ]
  },
  {
   "cell_type": "markdown",
   "metadata": {},
   "source": [
    "## 12.2 Next session\n",
    "\n",
    "Go to our [next chapter](13_Classes.ipynb). "
   ]
  }
 ],
 "metadata": {
  "kernelspec": {
   "display_name": "Python 3",
   "language": "python",
   "name": "python3"
  },
  "language_info": {
   "codemirror_mode": {
    "name": "ipython",
    "version": 3
   },
   "file_extension": ".py",
   "mimetype": "text/x-python",
   "name": "python",
   "nbconvert_exporter": "python",
   "pygments_lexer": "ipython3",
   "version": "3.7.3"
  }
 },
 "nbformat": 4,
 "nbformat_minor": 2
}
