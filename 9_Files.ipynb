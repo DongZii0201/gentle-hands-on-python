{
 "cells": [
  {
   "cell_type": "markdown",
   "metadata": {},
   "source": [
    "## 9. Files\n",
    "*Read and write*\n",
    "\n",
    "## 9.1 Introduction\n",
    "\n",
    "More often than not the data you need for your program will come from somewhere else - either from user input or a file. Especially for more complex data, it becomes essential to be able to read in data files, do something with the data, and write out a new file with modified information or a set of analysis results.\n",
    "\n",
    "## 9.2 Reading files\n",
    " \n",
    "To read in a file you have to create a *file handle*. This is a sort of connection to the file that you can use to pull data from it. You create a connection to a file by using the **open()** function. Whenever you're done using the file, it's good practice to close the file handle. "
   ]
  },
  {
   "cell_type": "code",
   "execution_count": null,
   "metadata": {},
   "outputs": [],
   "source": [
    "# Open the file\n",
    "fileHandle = open(\"data/readfile.txt\")  \n",
    "# Close the file\n",
    "fileHandle.close()\n",
    "# Nothing happened..."
   ]
  },
  {
   "cell_type": "markdown",
   "metadata": {},
   "source": [
    "All this does, is creating this connection, the file has not been read. In order to read in a file, there are a couple of possibilities:\n",
    "- `readline()` - read the first line of the file as one string.\n",
    "- `readlines()` - read all of the lines in the file. Each line is one string. The lines are combined as a list of lines (strings). \n",
    "- `read()` - read the whole file as one string. \n",
    "\n",
    "Each method has its advantage. E.g. if you're searching for the presence of a word or string in a file, given that the file is not too big, you can use *read*. If you want to process an enormously big file and from each line you need to extract, process and save the information, than it's better to read line by line with *readline* within a for-loop. Try to understand the difference of these methods while you go through this section. "
   ]
  },
  {
   "cell_type": "markdown",
   "metadata": {},
   "source": [
    "Find the file `readfile.txt` in the data-folder:\n",
    "\n",
    "``` \n",
    "This is the first line.\n",
    "Here is a second one. \n",
    "And there is also a third line. \n",
    "```"
   ]
  },
  {
   "cell_type": "markdown",
   "metadata": {},
   "source": [
    "\n",
    "1. Using `read`:\n",
    "\n",
    "Note that the three different lines are read in one long string. This is how the `read` function works. "
   ]
  },
  {
   "cell_type": "code",
   "execution_count": null,
   "metadata": {},
   "outputs": [],
   "source": [
    "fileHandle = open(\"data/readfile.txt\")  \n",
    "fileHandle.read()"
   ]
  },
  {
   "cell_type": "code",
   "execution_count": null,
   "metadata": {},
   "outputs": [],
   "source": [
    "fileHandle.close()"
   ]
  },
  {
   "cell_type": "markdown",
   "metadata": {},
   "source": [
    "\n",
    "2. Using `readline`:\n",
    "Readline reads in the following line. It starts with the first one. When you call the method again, it will print the second line. It's important to understand this as you can exploit this method in a for-loop to access each line separately."
   ]
  },
  {
   "cell_type": "code",
   "execution_count": null,
   "metadata": {},
   "outputs": [],
   "source": [
    "fileHandle = open(\"data/readfile.txt\")   \n",
    "fileHandle.readline()"
   ]
  },
  {
   "cell_type": "code",
   "execution_count": null,
   "metadata": {},
   "outputs": [],
   "source": [
    "fileHandle.readline()"
   ]
  },
  {
   "cell_type": "code",
   "execution_count": null,
   "metadata": {},
   "outputs": [],
   "source": [
    "fileHandle.close()"
   ]
  },
  {
   "cell_type": "markdown",
   "metadata": {},
   "source": [
    "\n",
    "3. Using `readlines`:\n",
    "Instead of reading the lines of a file one by one, you can also do it in one go. As explained above, each line is one string and all of the lines/strings are stored in a list. "
   ]
  },
  {
   "cell_type": "code",
   "execution_count": null,
   "metadata": {},
   "outputs": [],
   "source": [
    "fileHandle = open(\"data/readfile.txt\")   \n",
    "fileHandle.readlines()"
   ]
  },
  {
   "cell_type": "code",
   "execution_count": null,
   "metadata": {},
   "outputs": [],
   "source": [
    "fileHandle.close()"
   ]
  },
  {
   "cell_type": "markdown",
   "metadata": {},
   "source": [
    "Knowing this we can move on to more complex examples. First make sure to find the PDB file *TestFile.PDB* in your data folder or download [this fake PDB coordinate file for a 5 residue peptide](http://wiki.bits.vib.be/images/3/3a/TestFile.pdb) and save it in the data directory. \n",
    "\n",
    "In the example below we will read all the lines in the file (as separated by a newline character), and store them in the variable *lines*. Each element in this list corresponds to one line of the file! When this is done, we close the file. "
   ]
  },
  {
   "cell_type": "code",
   "execution_count": null,
   "metadata": {},
   "outputs": [],
   "source": [
    "# Read in the file per line\n",
    "fileHandle = open(\"data/TestFile.pdb\")\n",
    "lines = fileHandle.readlines()\n",
    " \n",
    "# Close the file\n",
    "fileHandle.close()\n",
    " \n",
    "# Print number of lines in the file\n",
    "print(\"There are:\", len(lines), \"lines in the file\")\n",
    "\n",
    "# Loop over the lines, and do some basic string manipulations\n",
    "for line in lines:\n",
    "    line = line.strip()  # Remove starting and trailing spaces/tabs/newlines\n",
    "    print(line)"
   ]
  },
  {
   "cell_type": "code",
   "execution_count": null,
   "metadata": {},
   "outputs": [],
   "source": [
    "line = lines[10]\n",
    "line = line.strip().split()\n",
    "line[-1]"
   ]
  },
  {
   "cell_type": "markdown",
   "metadata": {},
   "source": [
    "Now you can do many other things with the data in the file. E.g. if you want to count the number of times a carbon element appears in the file. "
   ]
  },
  {
   "cell_type": "code",
   "execution_count": null,
   "metadata": {},
   "outputs": [],
   "source": [
    "# Open the file\n",
    "fileHandle = open(\"data/TestFile.pdb\")\n",
    " \n",
    "# Read all the lines in the file (as separated by a newline character), and store them in the lines list\n",
    "# Each element in this list corresponds to one line of the file!\n",
    "lines = fileHandle.readlines()\n",
    " \n",
    "# Close the file\n",
    "fileHandle.close()\n",
    " \n",
    "# Initialise the line counter\n",
    "lineCount = 0\n",
    " \n",
    "# Loop over the lines\n",
    "for line in lines:\n",
    "    columns = line.strip().split()\n",
    "    if columns[-1] == 'C':       # Alternatively, use \"if ' C ' in line:\"\n",
    "        print(line, end='')     # Using the 'end' argument in the print because the line already contains a newline at the end\n",
    "                                # otherwise will get double spacing.\n",
    "        lineCount += 1\n",
    "\n",
    "print(\"Number of lines with ' C ': {}\".format(lineCount))"
   ]
  },
  {
   "cell_type": "markdown",
   "metadata": {},
   "source": [
    "You should find 75 lines - note that in this case, for those who know the PDB format a bit, you're finding all carbon atoms."
   ]
  },
  {
   "cell_type": "markdown",
   "metadata": {},
   "source": [
    "## 9.3 Writing a file\n",
    "Writing a file is very similar, except that you have to let Python know you are writing this time by adding the `'w'` parameter in the `open()` function. Actually `open()` always requires two arguments, however it assumes that if you only give one parameter (the file that it has to read), by default the second one is `'r'` which stands for *reading* mode. "
   ]
  },
  {
   "cell_type": "markdown",
   "metadata": {},
   "source": [
    "For the sake of the example, we're writing a new file and call it `writefile.txt`:"
   ]
  },
  {
   "cell_type": "code",
   "execution_count": null,
   "metadata": {},
   "outputs": [],
   "source": [
    "f = open('data/writefile.txt','w')\n",
    "f.write('Now we have a new file \\n')\n",
    "f.write('Because Python automatically makes this file and writes some text to it.')\n",
    "f.write('Btw, if you don\\'t specify the newline characters, it will append the string at the end of the last line')\n",
    "f.close()\n",
    "f = open('data/writefile.txt')\n",
    "text = f.read()\n",
    "print(text)\n",
    "f.close()"
   ]
  },
  {
   "cell_type": "markdown",
   "metadata": {},
   "source": [
    "**Be careful** - if the file exists already it will be overwritten without warning!"
   ]
  },
  {
   "cell_type": "markdown",
   "metadata": {},
   "source": [
    "The file is written to the directory you're executing the program in - have a look!"
   ]
  },
  {
   "cell_type": "markdown",
   "metadata": {},
   "source": [
    "----\n",
    "### 9.3.1 Exercise\n",
    "Read in the file from the previous example, and write out all lines that contain 'VAL' to a new file.\n",
    "\n",
    "----"
   ]
  },
  {
   "cell_type": "code",
   "execution_count": null,
   "metadata": {},
   "outputs": [],
   "source": []
  },
  {
   "cell_type": "code",
   "execution_count": null,
   "metadata": {},
   "outputs": [],
   "source": []
  },
  {
   "cell_type": "code",
   "execution_count": null,
   "metadata": {},
   "outputs": [],
   "source": []
  },
  {
   "cell_type": "markdown",
   "metadata": {},
   "source": [
    "## 9.4 Advanced file reading and interpretation exercise \n",
    "Read in the TestFile.pdb file, print out the title of the file, and find all atoms that have coordinates closer than 2 angstrom to the (x,y,z) coordinate (-8.7,-7.7,4.7). Print out the model number, residue number, atom name and atom serial for each; the model is indicated by:\n",
    "```\n",
    "MODEL     1\n",
    "```\n",
    "lines, the atom coordinate information is in:\n",
    "```\n",
    "ATOM      1  N   ASP A   1     -10.341  -9.922   9.398  1.00  0.00           N\n",
    "```\n",
    "lines, where column 1 is always ATOM, column 2 is the atom serial,  column 3 the atom name, column 4 the residue name, column 5 the chain code, column 6 the residue number, followed by the x, y and z coordinates in angstrom in columns 7, 8 and 9.\n",
    "\n",
    "Note that the distance between two coordinates is calculated as the square root of (x1-x2)²+(y1-y2)²+(z1-z2)²."
   ]
  },
  {
   "cell_type": "code",
   "execution_count": null,
   "metadata": {},
   "outputs": [],
   "source": []
  },
  {
   "cell_type": "markdown",
   "metadata": {},
   "source": [
    "## 9.5 Next session\n",
    "\n",
    "Go to our [next chapter](10_Functions.ipynb)."
   ]
  }
 ],
 "metadata": {
  "kernelspec": {
   "display_name": "Python 3",
   "language": "python",
   "name": "python3"
  },
  "language_info": {
   "codemirror_mode": {
    "name": "ipython",
    "version": 3
   },
   "file_extension": ".py",
   "mimetype": "text/x-python",
   "name": "python",
   "nbconvert_exporter": "python",
   "pygments_lexer": "ipython3",
   "version": "3.7.3"
  }
 },
 "nbformat": 4,
 "nbformat_minor": 2
}
