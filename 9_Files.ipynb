{
 "cells": [
  {
   "cell_type": "markdown",
   "metadata": {},
   "source": [
    "## 9. Files\n",
    "*Read and write*\n",
    "\n",
    "## 9.1 Introduction\n",
    "\n",
    "More often than not the data you need for your program will come from somewhere else - either from user input or a file. Especially for more complex data it becomes essential to be able to read in data files, do something with the data, and write out a new file with modified information or a set of analysis results.\n",
    "\n",
    "## 9.2 Reading files\n",
    " \n",
    "To read in a file you have to create a *file handle*. This is a sort of connection to the file that you can use to pull data from it. You create a connection to a file by using the **open()** function. Whenever you're done using the file, it's good practice to close the file handle. "
   ]
  },
  {
   "cell_type": "code",
   "execution_count": 1,
   "metadata": {},
   "outputs": [],
   "source": [
    "# Open the file\n",
    "fileHandle = open(\"data/readfile.txt\")  \n",
    "# Close the file\n",
    "fileHandle.close()\n",
    "# Nothing happened..."
   ]
  },
  {
   "cell_type": "markdown",
   "metadata": {},
   "source": [
    "All this does, is creating this connection, the file has not been read. In order to read in a file, there are a couple of possibilities:\n",
    "- `readline()` - read the first line of the file as one string.* \n",
    "- `readlines()` - read all of the lines in the file. Each line is one string. The lines are combined as a list of lines (strings). \n",
    "- `read()` - read the whole file as one string. \n",
    "S"
   ]
  },
  {
   "cell_type": "code",
   "execution_count": 2,
   "metadata": {},
   "outputs": [
    {
     "data": {
      "text/plain": [
       "'Now we have a fourth line \\nBecause Python always appends the string'"
      ]
     },
     "execution_count": 2,
     "metadata": {},
     "output_type": "execute_result"
    }
   ],
   "source": [
    "fileHandle = open(\"data/readfile.txt\")  \n",
    "fileHandle.read()"
   ]
  },
  {
   "cell_type": "code",
   "execution_count": 3,
   "metadata": {},
   "outputs": [],
   "source": [
    "fileHandle.close()"
   ]
  },
  {
   "cell_type": "code",
   "execution_count": 4,
   "metadata": {},
   "outputs": [
    {
     "data": {
      "text/plain": [
       "'Now we have a fourth line \\n'"
      ]
     },
     "execution_count": 4,
     "metadata": {},
     "output_type": "execute_result"
    }
   ],
   "source": [
    "fileHandle = open(\"data/readfile.txt\")   \n",
    "fileHandle.readline()"
   ]
  },
  {
   "cell_type": "code",
   "execution_count": 5,
   "metadata": {},
   "outputs": [],
   "source": [
    "fileHandle.close()"
   ]
  },
  {
   "cell_type": "code",
   "execution_count": 6,
   "metadata": {},
   "outputs": [
    {
     "data": {
      "text/plain": [
       "['Now we have a fourth line \\n', 'Because Python always appends the string']"
      ]
     },
     "execution_count": 6,
     "metadata": {},
     "output_type": "execute_result"
    }
   ],
   "source": [
    "fileHandle = open(\"data/readfile.txt\")   \n",
    "fileHandle.readlines()"
   ]
  },
  {
   "cell_type": "code",
   "execution_count": 7,
   "metadata": {},
   "outputs": [],
   "source": [
    "fileHandle.close()"
   ]
  },
  {
   "cell_type": "markdown",
   "metadata": {},
   "source": [
    "Knowing this we can move on to more complex examples. First make sure to find the PDB file *TestFile.PDB* in your data folder or download [this fake PDB coordinate file for a 5 residue peptide](http://wiki.bits.vib.be/images/3/3a/TestFile.pdb) and save it in the data directory. \n",
    "\n",
    "In the example below we will read all the lines in the file (as separated by a newline character), and store them in the variable *lines*. Each element in this list corresponds to one line of the file! When this is done, we close the file. "
   ]
  },
  {
   "cell_type": "code",
   "execution_count": 8,
   "metadata": {},
   "outputs": [
    {
     "name": "stdout",
     "output_type": "stream",
     "text": [
      "There are: 263 lines in the file\n",
      "HEADER    IMMUNE SYSTEM                           09-APR-01   1ABC\n",
      "TITLE     SOLUTION STRUCTURE OF A NON-EXISTENT PEPTIDE\n",
      "REMARK   1 THIS IS A FAKE PDB FILE\n",
      "SEQRES   1 A  5  ASP VAL GLN LEU GLN\n",
      "MODEL        1\n",
      "ATOM      1  N   ASP A   1     -10.341  -9.922   9.398  1.00  0.00           N\n",
      "ATOM      2  CA  ASP A   1     -11.156  -9.786   8.164  1.00  0.00           C\n",
      "ATOM      3  C   ASP A   1     -10.288  -9.894   6.915  1.00  0.00           C\n",
      "ATOM      4  O   ASP A   1     -10.429 -10.831   6.127  1.00  0.00           O\n",
      "ATOM      5  CB  ASP A   1     -11.868  -8.431   8.188  1.00  0.00           C\n",
      "ATOM      6  CG  ASP A   1     -11.756  -7.739   9.533  1.00  0.00           C\n",
      "ATOM      7  OD1 ASP A   1     -10.726  -7.077   9.778  1.00  0.00           O\n",
      "ATOM      8  OD2 ASP A   1     -12.701  -7.858  10.342  1.00  0.00           O\n",
      "ATOM      9  HA  ASP A   1     -11.893 -10.575   8.149  1.00  0.00           H\n",
      "ATOM     10  HB2 ASP A   1     -11.430  -7.790   7.437  1.00  0.00           H\n",
      "ATOM     11  HB3 ASP A   1     -12.914  -8.578   7.965  1.00  0.00           H\n",
      "ATOM     12  H1  ASP A   1      -9.660 -10.701   9.293  1.00  0.00           H\n",
      "ATOM     13  H2  ASP A   1     -10.955 -10.120  10.213  1.00  0.00           H\n",
      "ATOM     14  H3  ASP A   1      -9.817  -9.042   9.579  1.00  0.00           H\n",
      "ATOM     15  N   VAL A   2      -9.394  -8.927   6.739  1.00  0.00           N\n",
      "ATOM     16  CA  VAL A   2      -8.505  -8.908   5.584  1.00  0.00           C\n",
      "ATOM     17  C   VAL A   2      -7.043  -8.954   6.011  1.00  0.00           C\n",
      "ATOM     18  O   VAL A   2      -6.550  -8.040   6.670  1.00  0.00           O\n",
      "ATOM     19  CB  VAL A   2      -8.732  -7.652   4.719  1.00  0.00           C\n",
      "ATOM     20  CG1 VAL A   2      -8.420  -7.943   3.260  1.00  0.00           C\n",
      "ATOM     21  CG2 VAL A   2     -10.157  -7.142   4.872  1.00  0.00           C\n",
      "ATOM     22  H   VAL A   2      -9.331  -8.207   7.401  1.00  0.00           H\n",
      "ATOM     23  HA  VAL A   2      -8.721  -9.778   4.981  1.00  0.00           H\n",
      "ATOM     24  HB  VAL A   2      -8.057  -6.879   5.058  1.00  0.00           H\n",
      "ATOM     25 HG11 VAL A   2      -7.777  -7.169   2.868  1.00  0.00           H\n",
      "ATOM     26 HG12 VAL A   2      -9.340  -7.967   2.695  1.00  0.00           H\n",
      "ATOM     27 HG13 VAL A   2      -7.924  -8.899   3.182  1.00  0.00           H\n",
      "ATOM     28 HG21 VAL A   2     -10.196  -6.097   4.604  1.00  0.00           H\n",
      "ATOM     29 HG22 VAL A   2     -10.474  -7.263   5.896  1.00  0.00           H\n",
      "ATOM     30 HG23 VAL A   2     -10.812  -7.705   4.224  1.00  0.00           H\n",
      "ATOM     31  N   GLN A   3      -6.353 -10.022   5.624  1.00  0.00           N\n",
      "ATOM     32  CA  GLN A   3      -4.943 -10.183   5.959  1.00  0.00           C\n",
      "ATOM     33  C   GLN A   3      -4.103 -10.294   4.693  1.00  0.00           C\n",
      "ATOM     34  O   GLN A   3      -4.496 -10.955   3.733  1.00  0.00           O\n",
      "ATOM     35  CB  GLN A   3      -4.735 -11.419   6.834  1.00  0.00           C\n",
      "ATOM     36  CG  GLN A   3      -3.385 -11.442   7.528  1.00  0.00           C\n",
      "ATOM     37  CD  GLN A   3      -2.543 -12.638   7.129  1.00  0.00           C\n",
      "ATOM     38  OE1 GLN A   3      -3.043 -13.759   7.031  1.00  0.00           O\n",
      "ATOM     39  NE2 GLN A   3      -1.256 -12.406   6.896  1.00  0.00           N\n",
      "ATOM     40  H   GLN A   3      -6.801 -10.714   5.096  1.00  0.00           H\n",
      "ATOM     41  HA  GLN A   3      -4.632  -9.307   6.508  1.00  0.00           H\n",
      "ATOM     42  HB2 GLN A   3      -5.507 -11.446   7.590  1.00  0.00           H\n",
      "ATOM     43  HB3 GLN A   3      -4.815 -12.302   6.217  1.00  0.00           H\n",
      "ATOM     44  HG2 GLN A   3      -2.847 -10.540   7.268  1.00  0.00           H\n",
      "ATOM     45  HG3 GLN A   3      -3.543 -11.470   8.596  1.00  0.00           H\n",
      "ATOM     46 HE21 GLN A   3      -0.927 -11.489   6.993  1.00  0.00           H\n",
      "ATOM     47 HE22 GLN A   3      -0.689 -13.163   6.638  1.00  0.00           H\n",
      "ATOM     48  N   LEU A   4      -2.948  -9.635   4.694  1.00  0.00           N\n",
      "ATOM     49  CA  LEU A   4      -2.061  -9.657   3.537  1.00  0.00           C\n",
      "ATOM     50  C   LEU A   4      -0.648 -10.074   3.943  1.00  0.00           C\n",
      "ATOM     51  O   LEU A   4      -0.317 -10.101   5.127  1.00  0.00           O\n",
      "ATOM     52  CB  LEU A   4      -2.044  -8.279   2.860  1.00  0.00           C\n",
      "ATOM     53  CG  LEU A   4      -3.143  -7.312   3.321  1.00  0.00           C\n",
      "ATOM     54  CD1 LEU A   4      -2.833  -5.894   2.876  1.00  0.00           C\n",
      "ATOM     55  CD2 LEU A   4      -4.502  -7.739   2.792  1.00  0.00           C\n",
      "ATOM     56  H   LEU A   4      -2.688  -9.119   5.487  1.00  0.00           H\n",
      "ATOM     57  HA  LEU A   4      -2.448 -10.384   2.839  1.00  0.00           H\n",
      "ATOM     58  HB2 LEU A   4      -1.084  -7.821   3.051  1.00  0.00           H\n",
      "ATOM     59  HB3 LEU A   4      -2.148  -8.425   1.796  1.00  0.00           H\n",
      "ATOM     60  HG  LEU A   4      -3.187  -7.318   4.401  1.00  0.00           H\n",
      "ATOM     61 HD11 LEU A   4      -2.151  -5.920   2.040  1.00  0.00           H\n",
      "ATOM     62 HD12 LEU A   4      -2.381  -5.350   3.693  1.00  0.00           H\n",
      "ATOM     63 HD13 LEU A   4      -3.749  -5.403   2.578  1.00  0.00           H\n",
      "ATOM     64 HD21 LEU A   4      -5.276  -7.170   3.290  1.00  0.00           H\n",
      "ATOM     65 HD22 LEU A   4      -4.649  -8.791   2.981  1.00  0.00           H\n",
      "ATOM     66 HD23 LEU A   4      -4.547  -7.553   1.729  1.00  0.00           H\n",
      "ATOM     67  N   GLN A   5       0.177 -10.408   2.954  1.00  0.00           N\n",
      "ATOM     68  CA  GLN A   5       1.551 -10.831   3.212  1.00  0.00           C\n",
      "ATOM     69  C   GLN A   5       2.519 -10.133   2.262  1.00  0.00           C\n",
      "ATOM     70  O   GLN A   5       2.272 -10.057   1.059  1.00  0.00           O\n",
      "ATOM     71  CB  GLN A   5       1.671 -12.351   3.066  1.00  0.00           C\n",
      "ATOM     72  CG  GLN A   5       3.104 -12.846   2.943  1.00  0.00           C\n",
      "ATOM     73  CD  GLN A   5       3.372 -13.531   1.617  1.00  0.00           C\n",
      "ATOM     74  OE1 GLN A   5       2.852 -13.123   0.579  1.00  0.00           O\n",
      "ATOM     75  NE2 GLN A   5       4.187 -14.579   1.647  1.00  0.00           N\n",
      "ATOM     76  H   GLN A   5      -0.147 -10.373   2.029  1.00  0.00           H\n",
      "ATOM     77  HA  GLN A   5       1.798 -10.554   4.225  1.00  0.00           H\n",
      "ATOM     78  HB2 GLN A   5       1.225 -12.820   3.930  1.00  0.00           H\n",
      "ATOM     79  HB3 GLN A   5       1.131 -12.659   2.182  1.00  0.00           H\n",
      "ATOM     80  HG2 GLN A   5       3.773 -12.004   3.037  1.00  0.00           H\n",
      "ATOM     81  HG3 GLN A   5       3.298 -13.549   3.741  1.00  0.00           H\n",
      "ATOM     82 HE21 GLN A   5       4.565 -14.848   2.511  1.00  0.00           H\n",
      "ATOM     83 HE22 GLN A   5       4.378 -15.041   0.804  1.00  0.00           H\n",
      "TER      84      GLN A   5\n",
      "ENDMDL\n",
      "MODEL        2\n",
      "ATOM      1  N   ASP A   1      -9.717  -9.466   9.564  1.00  0.00           N\n",
      "ATOM      2  CA  ASP A   1     -10.254  -9.502   8.178  1.00  0.00           C\n",
      "ATOM      3  C   ASP A   1      -9.163  -9.852   7.171  1.00  0.00           C\n",
      "ATOM      4  O   ASP A   1      -8.224 -10.584   7.489  1.00  0.00           O\n",
      "ATOM      5  CB  ASP A   1     -10.850  -8.131   7.853  1.00  0.00           C\n",
      "ATOM      6  CG  ASP A   1     -12.365  -8.159   7.791  1.00  0.00           C\n",
      "ATOM      7  OD1 ASP A   1     -12.984  -8.811   8.659  1.00  0.00           O\n",
      "ATOM      8  OD2 ASP A   1     -12.933  -7.528   6.875  1.00  0.00           O\n",
      "ATOM      9  HA  ASP A   1     -11.032 -10.249   8.130  1.00  0.00           H\n",
      "ATOM     10  HB2 ASP A   1     -10.552  -7.426   8.615  1.00  0.00           H\n",
      "ATOM     11  HB3 ASP A   1     -10.473  -7.802   6.893  1.00  0.00           H\n",
      "ATOM     12  H1  ASP A   1      -9.544 -10.433   9.905  1.00  0.00           H\n",
      "ATOM     13  H2  ASP A   1     -10.397  -9.002  10.198  1.00  0.00           H\n",
      "ATOM     14  H3  ASP A   1      -8.821  -8.937   9.586  1.00  0.00           H\n",
      "ATOM     15  N   VAL A   2      -9.295  -9.324   5.956  1.00  0.00           N\n",
      "ATOM     16  CA  VAL A   2      -8.326  -9.573   4.894  1.00  0.00           C\n",
      "ATOM     17  C   VAL A   2      -6.901  -9.301   5.372  1.00  0.00           C\n",
      "ATOM     18  O   VAL A   2      -6.588  -8.205   5.838  1.00  0.00           O\n",
      "ATOM     19  CB  VAL A   2      -8.625  -8.709   3.647  1.00  0.00           C\n",
      "ATOM     20  CG1 VAL A   2      -9.213  -7.366   4.049  1.00  0.00           C\n",
      "ATOM     21  CG2 VAL A   2      -7.374  -8.512   2.806  1.00  0.00           C\n",
      "ATOM     22  H   VAL A   2     -10.068  -8.751   5.768  1.00  0.00           H\n",
      "ATOM     23  HA  VAL A   2      -8.405 -10.613   4.612  1.00  0.00           H\n",
      "ATOM     24  HB  VAL A   2      -9.354  -9.228   3.043  1.00  0.00           H\n",
      "ATOM     25 HG11 VAL A   2      -8.620  -6.936   4.843  1.00  0.00           H\n",
      "ATOM     26 HG12 VAL A   2     -10.228  -7.505   4.393  1.00  0.00           H\n",
      "ATOM     27 HG13 VAL A   2      -9.209  -6.701   3.198  1.00  0.00           H\n",
      "ATOM     28 HG21 VAL A   2      -6.816  -7.669   3.188  1.00  0.00           H\n",
      "ATOM     29 HG22 VAL A   2      -7.655  -8.322   1.781  1.00  0.00           H\n",
      "ATOM     30 HG23 VAL A   2      -6.763  -9.400   2.854  1.00  0.00           H\n",
      "ATOM     31  N   GLN A   3      -6.045 -10.308   5.242  1.00  0.00           N\n",
      "ATOM     32  CA  GLN A   3      -4.649 -10.193   5.646  1.00  0.00           C\n",
      "ATOM     33  C   GLN A   3      -3.737 -10.324   4.433  1.00  0.00           C\n",
      "ATOM     34  O   GLN A   3      -3.986 -11.144   3.551  1.00  0.00           O\n",
      "ATOM     35  CB  GLN A   3      -4.304 -11.272   6.674  1.00  0.00           C\n",
      "ATOM     36  CG  GLN A   3      -3.671 -10.726   7.944  1.00  0.00           C\n",
      "ATOM     37  CD  GLN A   3      -2.254 -11.224   8.150  1.00  0.00           C\n",
      "ATOM     38  OE1 GLN A   3      -1.914 -11.744   9.212  1.00  0.00           O\n",
      "ATOM     39  NE2 GLN A   3      -1.418 -11.066   7.130  1.00  0.00           N\n",
      "ATOM     40  H   GLN A   3      -6.360 -11.152   4.858  1.00  0.00           H\n",
      "ATOM     41  HA  GLN A   3      -4.508  -9.219   6.092  1.00  0.00           H\n",
      "ATOM     42  HB2 GLN A   3      -5.209 -11.795   6.945  1.00  0.00           H\n",
      "ATOM     43  HB3 GLN A   3      -3.615 -11.971   6.226  1.00  0.00           H\n",
      "ATOM     44  HG2 GLN A   3      -3.652  -9.648   7.887  1.00  0.00           H\n",
      "ATOM     45  HG3 GLN A   3      -4.271 -11.031   8.790  1.00  0.00           H\n",
      "ATOM     46 HE21 GLN A   3      -1.758 -10.642   6.315  1.00  0.00           H\n",
      "ATOM     47 HE22 GLN A   3      -0.495 -11.379   7.235  1.00  0.00           H\n",
      "ATOM     48  N   LEU A   4      -2.684  -9.512   4.386  1.00  0.00           N\n",
      "ATOM     49  CA  LEU A   4      -1.751  -9.554   3.265  1.00  0.00           C\n",
      "ATOM     50  C   LEU A   4      -0.355  -9.953   3.728  1.00  0.00           C\n",
      "ATOM     51  O   LEU A   4      -0.015  -9.815   4.903  1.00  0.00           O\n",
      "ATOM     52  CB  LEU A   4      -1.697  -8.198   2.554  1.00  0.00           C\n",
      "ATOM     53  CG  LEU A   4      -2.726  -7.164   3.021  1.00  0.00           C\n",
      "ATOM     54  CD1 LEU A   4      -2.358  -5.787   2.502  1.00  0.00           C\n",
      "ATOM     55  CD2 LEU A   4      -4.123  -7.544   2.554  1.00  0.00           C\n",
      "ATOM     56  H   LEU A   4      -2.532  -8.872   5.115  1.00  0.00           H\n",
      "ATOM     57  HA  LEU A   4      -2.109 -10.297   2.568  1.00  0.00           H\n",
      "ATOM     58  HB2 LEU A   4      -0.711  -7.780   2.700  1.00  0.00           H\n",
      "ATOM     59  HB3 LEU A   4      -1.843  -8.365   1.497  1.00  0.00           H\n",
      "ATOM     60  HG  LEU A   4      -2.728  -7.127   4.100  1.00  0.00           H\n",
      "ATOM     61 HD11 LEU A   4      -3.164  -5.098   2.706  1.00  0.00           H\n",
      "ATOM     62 HD12 LEU A   4      -2.187  -5.839   1.438  1.00  0.00           H\n",
      "ATOM     63 HD13 LEU A   4      -1.460  -5.447   2.994  1.00  0.00           H\n",
      "ATOM     64 HD21 LEU A   4      -4.855  -7.025   3.155  1.00  0.00           H\n",
      "ATOM     65 HD22 LEU A   4      -4.260  -8.609   2.660  1.00  0.00           H\n",
      "ATOM     66 HD23 LEU A   4      -4.244  -7.266   1.518  1.00  0.00           H\n",
      "ATOM     67  N   GLN A   5       0.449 -10.447   2.792  1.00  0.00           N\n",
      "ATOM     68  CA  GLN A   5       1.811 -10.869   3.095  1.00  0.00           C\n",
      "ATOM     69  C   GLN A   5       2.804 -10.189   2.159  1.00  0.00           C\n",
      "ATOM     70  O   GLN A   5       2.816 -10.449   0.956  1.00  0.00           O\n",
      "ATOM     71  CB  GLN A   5       1.934 -12.390   2.977  1.00  0.00           C\n",
      "ATOM     72  CG  GLN A   5       0.704 -13.138   3.464  1.00  0.00           C\n",
      "ATOM     73  CD  GLN A   5       0.987 -14.597   3.767  1.00  0.00           C\n",
      "ATOM     74  OE1 GLN A   5       0.694 -15.085   4.859  1.00  0.00           O\n",
      "ATOM     75  NE2 GLN A   5       1.559 -15.303   2.798  1.00  0.00           N\n",
      "ATOM     76  H   GLN A   5       0.117 -10.530   1.874  1.00  0.00           H\n",
      "ATOM     77  HA  GLN A   5       2.032 -10.576   4.109  1.00  0.00           H\n",
      "ATOM     78  HB2 GLN A   5       2.098 -12.646   1.941  1.00  0.00           H\n",
      "ATOM     79  HB3 GLN A   5       2.783 -12.717   3.558  1.00  0.00           H\n",
      "ATOM     80  HG2 GLN A   5       0.343 -12.664   4.365  1.00  0.00           H\n",
      "ATOM     81  HG3 GLN A   5      -0.058 -13.085   2.700  1.00  0.00           H\n",
      "ATOM     82 HE21 GLN A   5       1.763 -14.850   1.954  1.00  0.00           H\n",
      "ATOM     83 HE22 GLN A   5       1.753 -16.248   2.968  1.00  0.00           H\n",
      "TER      84      GLN A   5\n",
      "ENDMDL\n",
      "MODEL        3\n",
      "ATOM      1  N   ASP A   1     -10.188  -8.864  10.439  1.00  0.00           N\n",
      "ATOM      2  CA  ASP A   1     -10.350  -8.495   9.009  1.00  0.00           C\n",
      "ATOM      3  C   ASP A   1      -9.478  -9.371   8.115  1.00  0.00           C\n",
      "ATOM      4  O   ASP A   1      -9.035 -10.445   8.524  1.00  0.00           O\n",
      "ATOM      5  CB  ASP A   1      -9.970  -7.023   8.840  1.00  0.00           C\n",
      "ATOM      6  CG  ASP A   1     -11.185  -6.118   8.763  1.00  0.00           C\n",
      "ATOM      7  OD1 ASP A   1     -12.111  -6.299   9.580  1.00  0.00           O\n",
      "ATOM      8  OD2 ASP A   1     -11.207  -5.229   7.886  1.00  0.00           O\n",
      "ATOM      9  HA  ASP A   1     -11.384  -8.630   8.733  1.00  0.00           H\n",
      "ATOM     10  HB2 ASP A   1      -9.368  -6.714   9.682  1.00  0.00           H\n",
      "ATOM     11  HB3 ASP A   1      -9.397  -6.907   7.931  1.00  0.00           H\n",
      "ATOM     12  H1  ASP A   1     -10.079  -8.007  11.019  1.00  0.00           H\n",
      "ATOM     13  H2  ASP A   1      -9.346  -9.461  10.562  1.00  0.00           H\n",
      "ATOM     14  H3  ASP A   1     -11.024  -9.389  10.769  1.00  0.00           H\n",
      "ATOM     15  N   VAL A   2      -9.234  -8.905   6.893  1.00  0.00           N\n",
      "ATOM     16  CA  VAL A   2      -8.413  -9.647   5.942  1.00  0.00           C\n",
      "ATOM     17  C   VAL A   2      -6.929  -9.430   6.222  1.00  0.00           C\n",
      "ATOM     18  O   VAL A   2      -6.535  -8.405   6.780  1.00  0.00           O\n",
      "ATOM     19  CB  VAL A   2      -8.726  -9.242   4.477  1.00  0.00           C\n",
      "ATOM     20  CG1 VAL A   2     -10.113  -8.629   4.369  1.00  0.00           C\n",
      "ATOM     21  CG2 VAL A   2      -7.680  -8.278   3.930  1.00  0.00           C\n",
      "ATOM     22  H   VAL A   2      -9.615  -8.042   6.625  1.00  0.00           H\n",
      "ATOM     23  HA  VAL A   2      -8.639 -10.697   6.058  1.00  0.00           H\n",
      "ATOM     24  HB  VAL A   2      -8.707 -10.136   3.868  1.00  0.00           H\n",
      "ATOM     25 HG11 VAL A   2     -10.023  -7.575   4.144  1.00  0.00           H\n",
      "ATOM     26 HG12 VAL A   2     -10.637  -8.755   5.305  1.00  0.00           H\n",
      "ATOM     27 HG13 VAL A   2     -10.663  -9.120   3.579  1.00  0.00           H\n",
      "ATOM     28 HG21 VAL A   2      -8.153  -7.578   3.258  1.00  0.00           H\n",
      "ATOM     29 HG22 VAL A   2      -6.923  -8.833   3.397  1.00  0.00           H\n",
      "ATOM     30 HG23 VAL A   2      -7.224  -7.741   4.748  1.00  0.00           H\n",
      "ATOM     31  N   GLN A   3      -6.111 -10.394   5.816  1.00  0.00           N\n",
      "ATOM     32  CA  GLN A   3      -4.671 -10.299   6.010  1.00  0.00           C\n",
      "ATOM     33  C   GLN A   3      -3.943 -10.501   4.688  1.00  0.00           C\n",
      "ATOM     34  O   GLN A   3      -4.487 -11.084   3.751  1.00  0.00           O\n",
      "ATOM     35  CB  GLN A   3      -4.188 -11.318   7.041  1.00  0.00           C\n",
      "ATOM     36  CG  GLN A   3      -3.043 -10.801   7.897  1.00  0.00           C\n",
      "ATOM     37  CD  GLN A   3      -2.192 -11.916   8.471  1.00  0.00           C\n",
      "ATOM     38  OE1 GLN A   3      -2.671 -12.741   9.250  1.00  0.00           O\n",
      "ATOM     39  NE2 GLN A   3      -0.920 -11.948   8.089  1.00  0.00           N\n",
      "ATOM     40  H   GLN A   3      -6.483 -11.182   5.368  1.00  0.00           H\n",
      "ATOM     41  HA  GLN A   3      -4.455  -9.306   6.372  1.00  0.00           H\n",
      "ATOM     42  HB2 GLN A   3      -5.011 -11.574   7.692  1.00  0.00           H\n",
      "ATOM     43  HB3 GLN A   3      -3.854 -12.206   6.527  1.00  0.00           H\n",
      "ATOM     44  HG2 GLN A   3      -2.416 -10.167   7.288  1.00  0.00           H\n",
      "ATOM     45  HG3 GLN A   3      -3.453 -10.223   8.712  1.00  0.00           H\n",
      "ATOM     46 HE21 GLN A   3      -0.608 -11.259   7.464  1.00  0.00           H\n",
      "ATOM     47 HE22 GLN A   3      -0.347 -12.658   8.445  1.00  0.00           H\n",
      "ATOM     48  N   LEU A   4      -2.718  -9.995   4.611  1.00  0.00           N\n",
      "ATOM     49  CA  LEU A   4      -1.927 -10.098   3.393  1.00  0.00           C\n",
      "ATOM     50  C   LEU A   4      -0.510 -10.578   3.692  1.00  0.00           C\n",
      "ATOM     51  O   LEU A   4      -0.131 -10.740   4.852  1.00  0.00           O\n",
      "ATOM     52  CB  LEU A   4      -1.890  -8.740   2.692  1.00  0.00           C\n",
      "ATOM     53  CG  LEU A   4      -2.889  -7.713   3.234  1.00  0.00           C\n",
      "ATOM     54  CD1 LEU A   4      -2.462  -6.307   2.865  1.00  0.00           C\n",
      "ATOM     55  CD2 LEU A   4      -4.291  -7.995   2.715  1.00  0.00           C\n",
      "ATOM     56  H   LEU A   4      -2.345  -9.526   5.387  1.00  0.00           H\n",
      "ATOM     57  HA  LEU A   4      -2.408 -10.815   2.745  1.00  0.00           H\n",
      "ATOM     58  HB2 LEU A   4      -0.893  -8.332   2.795  1.00  0.00           H\n",
      "ATOM     59  HB3 LEU A   4      -2.093  -8.891   1.643  1.00  0.00           H\n",
      "ATOM     60  HG  LEU A   4      -2.912  -7.780   4.311  1.00  0.00           H\n",
      "ATOM     61 HD11 LEU A   4      -2.048  -5.817   3.738  1.00  0.00           H\n",
      "ATOM     62 HD12 LEU A   4      -3.317  -5.753   2.512  1.00  0.00           H\n",
      "ATOM     63 HD13 LEU A   4      -1.715  -6.351   2.088  1.00  0.00           H\n",
      "ATOM     64 HD21 LEU A   4      -4.611  -7.181   2.083  1.00  0.00           H\n",
      "ATOM     65 HD22 LEU A   4      -4.970  -8.091   3.550  1.00  0.00           H\n",
      "ATOM     66 HD23 LEU A   4      -4.287  -8.913   2.146  1.00  0.00           H\n",
      "ATOM     67  N   GLN A   5       0.266 -10.806   2.637  1.00  0.00           N\n",
      "ATOM     68  CA  GLN A   5       1.642 -11.270   2.782  1.00  0.00           C\n",
      "ATOM     69  C   GLN A   5       2.578 -10.486   1.870  1.00  0.00           C\n",
      "ATOM     70  O   GLN A   5       2.447 -10.528   0.647  1.00  0.00           O\n",
      "ATOM     71  CB  GLN A   5       1.741 -12.768   2.470  1.00  0.00           C\n",
      "ATOM     72  CG  GLN A   5       0.393 -13.446   2.276  1.00  0.00           C\n",
      "ATOM     73  CD  GLN A   5       0.429 -14.522   1.208  1.00  0.00           C\n",
      "ATOM     74  OE1 GLN A   5       1.177 -14.424   0.237  1.00  0.00           O\n",
      "ATOM     75  NE2 GLN A   5      -0.383 -15.557   1.385  1.00  0.00           N\n",
      "ATOM     76  H   GLN A   5      -0.095 -10.660   1.736  1.00  0.00           H\n",
      "ATOM     77  HA  GLN A   5       1.939 -11.106   3.808  1.00  0.00           H\n",
      "ATOM     78  HB2 GLN A   5       2.317 -12.897   1.566  1.00  0.00           H\n",
      "ATOM     79  HB3 GLN A   5       2.252 -13.259   3.285  1.00  0.00           H\n",
      "ATOM     80  HG2 GLN A   5       0.094 -13.897   3.209  1.00  0.00           H\n",
      "ATOM     81  HG3 GLN A   5      -0.332 -12.700   1.989  1.00  0.00           H\n",
      "ATOM     82 HE21 GLN A   5      -0.951 -15.569   2.184  1.00  0.00           H\n",
      "ATOM     83 HE22 GLN A   5      -0.381 -16.267   0.710  1.00  0.00           H\n",
      "TER      84      GLN A   5\n",
      "ENDMDL\n",
      "END\n"
     ]
    }
   ],
   "source": [
    "# Read in the file per line\n",
    "fileHandle = open(\"data/TestFile.pdb\")\n",
    "lines = fileHandle.readlines()\n",
    " \n",
    "# Close the file\n",
    "fileHandle.close()\n",
    " \n",
    "# Print number of lines in the file\n",
    "print(\"There are:\", len(lines), \"lines in the file\")\n",
    "\n",
    "# Loop over the lines, and do some basic string manipulations\n",
    "for line in lines:\n",
    "    line = line.strip()  # Remove starting and trailing spaces/tabs/newlines\n",
    "    print(line)"
   ]
  },
  {
   "cell_type": "code",
   "execution_count": 9,
   "metadata": {},
   "outputs": [
    {
     "data": {
      "text/plain": [
       "'C'"
      ]
     },
     "execution_count": 9,
     "metadata": {},
     "output_type": "execute_result"
    }
   ],
   "source": [
    "line = lines[10]\n",
    "line = line.strip().split()\n",
    "line[-1]"
   ]
  },
  {
   "cell_type": "markdown",
   "metadata": {},
   "source": [
    "Now you can do many other things with the data in the file. E.g. if you want to count the number of times a carbon element appears in the file. "
   ]
  },
  {
   "cell_type": "code",
   "execution_count": 10,
   "metadata": {},
   "outputs": [
    {
     "name": "stdout",
     "output_type": "stream",
     "text": [
      "ATOM      2  CA  ASP A   1     -11.156  -9.786   8.164  1.00  0.00           C  \n",
      "ATOM      3  C   ASP A   1     -10.288  -9.894   6.915  1.00  0.00           C  \n",
      "ATOM      5  CB  ASP A   1     -11.868  -8.431   8.188  1.00  0.00           C  \n",
      "ATOM      6  CG  ASP A   1     -11.756  -7.739   9.533  1.00  0.00           C  \n",
      "ATOM     16  CA  VAL A   2      -8.505  -8.908   5.584  1.00  0.00           C  \n",
      "ATOM     17  C   VAL A   2      -7.043  -8.954   6.011  1.00  0.00           C  \n",
      "ATOM     19  CB  VAL A   2      -8.732  -7.652   4.719  1.00  0.00           C  \n",
      "ATOM     20  CG1 VAL A   2      -8.420  -7.943   3.260  1.00  0.00           C  \n",
      "ATOM     21  CG2 VAL A   2     -10.157  -7.142   4.872  1.00  0.00           C  \n",
      "ATOM     32  CA  GLN A   3      -4.943 -10.183   5.959  1.00  0.00           C  \n",
      "ATOM     33  C   GLN A   3      -4.103 -10.294   4.693  1.00  0.00           C  \n",
      "ATOM     35  CB  GLN A   3      -4.735 -11.419   6.834  1.00  0.00           C  \n",
      "ATOM     36  CG  GLN A   3      -3.385 -11.442   7.528  1.00  0.00           C  \n",
      "ATOM     37  CD  GLN A   3      -2.543 -12.638   7.129  1.00  0.00           C  \n",
      "ATOM     49  CA  LEU A   4      -2.061  -9.657   3.537  1.00  0.00           C  \n",
      "ATOM     50  C   LEU A   4      -0.648 -10.074   3.943  1.00  0.00           C  \n",
      "ATOM     52  CB  LEU A   4      -2.044  -8.279   2.860  1.00  0.00           C  \n",
      "ATOM     53  CG  LEU A   4      -3.143  -7.312   3.321  1.00  0.00           C  \n",
      "ATOM     54  CD1 LEU A   4      -2.833  -5.894   2.876  1.00  0.00           C  \n",
      "ATOM     55  CD2 LEU A   4      -4.502  -7.739   2.792  1.00  0.00           C  \n",
      "ATOM     68  CA  GLN A   5       1.551 -10.831   3.212  1.00  0.00           C  \n",
      "ATOM     69  C   GLN A   5       2.519 -10.133   2.262  1.00  0.00           C  \n",
      "ATOM     71  CB  GLN A   5       1.671 -12.351   3.066  1.00  0.00           C  \n",
      "ATOM     72  CG  GLN A   5       3.104 -12.846   2.943  1.00  0.00           C  \n",
      "ATOM     73  CD  GLN A   5       3.372 -13.531   1.617  1.00  0.00           C  \n",
      "ATOM      2  CA  ASP A   1     -10.254  -9.502   8.178  1.00  0.00           C  \n",
      "ATOM      3  C   ASP A   1      -9.163  -9.852   7.171  1.00  0.00           C  \n",
      "ATOM      5  CB  ASP A   1     -10.850  -8.131   7.853  1.00  0.00           C  \n",
      "ATOM      6  CG  ASP A   1     -12.365  -8.159   7.791  1.00  0.00           C  \n",
      "ATOM     16  CA  VAL A   2      -8.326  -9.573   4.894  1.00  0.00           C  \n",
      "ATOM     17  C   VAL A   2      -6.901  -9.301   5.372  1.00  0.00           C  \n",
      "ATOM     19  CB  VAL A   2      -8.625  -8.709   3.647  1.00  0.00           C  \n",
      "ATOM     20  CG1 VAL A   2      -9.213  -7.366   4.049  1.00  0.00           C  \n",
      "ATOM     21  CG2 VAL A   2      -7.374  -8.512   2.806  1.00  0.00           C  \n",
      "ATOM     32  CA  GLN A   3      -4.649 -10.193   5.646  1.00  0.00           C  \n",
      "ATOM     33  C   GLN A   3      -3.737 -10.324   4.433  1.00  0.00           C  \n",
      "ATOM     35  CB  GLN A   3      -4.304 -11.272   6.674  1.00  0.00           C  \n",
      "ATOM     36  CG  GLN A   3      -3.671 -10.726   7.944  1.00  0.00           C  \n",
      "ATOM     37  CD  GLN A   3      -2.254 -11.224   8.150  1.00  0.00           C  \n",
      "ATOM     49  CA  LEU A   4      -1.751  -9.554   3.265  1.00  0.00           C  \n",
      "ATOM     50  C   LEU A   4      -0.355  -9.953   3.728  1.00  0.00           C  \n",
      "ATOM     52  CB  LEU A   4      -1.697  -8.198   2.554  1.00  0.00           C  \n",
      "ATOM     53  CG  LEU A   4      -2.726  -7.164   3.021  1.00  0.00           C  \n",
      "ATOM     54  CD1 LEU A   4      -2.358  -5.787   2.502  1.00  0.00           C  \n",
      "ATOM     55  CD2 LEU A   4      -4.123  -7.544   2.554  1.00  0.00           C  \n",
      "ATOM     68  CA  GLN A   5       1.811 -10.869   3.095  1.00  0.00           C  \n",
      "ATOM     69  C   GLN A   5       2.804 -10.189   2.159  1.00  0.00           C  \n",
      "ATOM     71  CB  GLN A   5       1.934 -12.390   2.977  1.00  0.00           C  \n",
      "ATOM     72  CG  GLN A   5       0.704 -13.138   3.464  1.00  0.00           C  \n",
      "ATOM     73  CD  GLN A   5       0.987 -14.597   3.767  1.00  0.00           C  \n",
      "ATOM      2  CA  ASP A   1     -10.350  -8.495   9.009  1.00  0.00           C  \n",
      "ATOM      3  C   ASP A   1      -9.478  -9.371   8.115  1.00  0.00           C  \n",
      "ATOM      5  CB  ASP A   1      -9.970  -7.023   8.840  1.00  0.00           C  \n",
      "ATOM      6  CG  ASP A   1     -11.185  -6.118   8.763  1.00  0.00           C  \n",
      "ATOM     16  CA  VAL A   2      -8.413  -9.647   5.942  1.00  0.00           C  \n",
      "ATOM     17  C   VAL A   2      -6.929  -9.430   6.222  1.00  0.00           C  \n",
      "ATOM     19  CB  VAL A   2      -8.726  -9.242   4.477  1.00  0.00           C  \n",
      "ATOM     20  CG1 VAL A   2     -10.113  -8.629   4.369  1.00  0.00           C  \n",
      "ATOM     21  CG2 VAL A   2      -7.680  -8.278   3.930  1.00  0.00           C  \n",
      "ATOM     32  CA  GLN A   3      -4.671 -10.299   6.010  1.00  0.00           C  \n",
      "ATOM     33  C   GLN A   3      -3.943 -10.501   4.688  1.00  0.00           C  \n",
      "ATOM     35  CB  GLN A   3      -4.188 -11.318   7.041  1.00  0.00           C  \n",
      "ATOM     36  CG  GLN A   3      -3.043 -10.801   7.897  1.00  0.00           C  \n",
      "ATOM     37  CD  GLN A   3      -2.192 -11.916   8.471  1.00  0.00           C  \n",
      "ATOM     49  CA  LEU A   4      -1.927 -10.098   3.393  1.00  0.00           C  \n",
      "ATOM     50  C   LEU A   4      -0.510 -10.578   3.692  1.00  0.00           C  \n",
      "ATOM     52  CB  LEU A   4      -1.890  -8.740   2.692  1.00  0.00           C  \n",
      "ATOM     53  CG  LEU A   4      -2.889  -7.713   3.234  1.00  0.00           C  \n",
      "ATOM     54  CD1 LEU A   4      -2.462  -6.307   2.865  1.00  0.00           C  \n",
      "ATOM     55  CD2 LEU A   4      -4.291  -7.995   2.715  1.00  0.00           C  \n",
      "ATOM     68  CA  GLN A   5       1.642 -11.270   2.782  1.00  0.00           C  \n",
      "ATOM     69  C   GLN A   5       2.578 -10.486   1.870  1.00  0.00           C  \n",
      "ATOM     71  CB  GLN A   5       1.741 -12.768   2.470  1.00  0.00           C  \n",
      "ATOM     72  CG  GLN A   5       0.393 -13.446   2.276  1.00  0.00           C  \n",
      "ATOM     73  CD  GLN A   5       0.429 -14.522   1.208  1.00  0.00           C  \n",
      "Number of lines with ' C ': 75\n"
     ]
    }
   ],
   "source": [
    "# Open the file\n",
    "fileHandle = open(\"data/TestFile.pdb\")\n",
    " \n",
    "# Read all the lines in the file (as separated by a newline character), and store them in the lines list\n",
    "# Each element in this list corresponds to one line of the file!\n",
    "lines = fileHandle.readlines()\n",
    " \n",
    "# Close the file\n",
    "fileHandle.close()\n",
    " \n",
    "# Initialise the line counter\n",
    "lineCount = 0\n",
    " \n",
    "# Loop over the lines\n",
    "for line in lines:\n",
    "    columns = line.strip().split()\n",
    "    if columns[-1] == 'C':       # Alternatively, use \"if ' C ' in line:\"\n",
    "        print(line, end='')     # Using the 'end' argument in the print because the line already contains a newline at the end\n",
    "                                # otherwise will get double spacing.\n",
    "        lineCount += 1\n",
    "\n",
    "print(\"Number of lines with ' C ': {}\".format(lineCount))"
   ]
  },
  {
   "cell_type": "markdown",
   "metadata": {},
   "source": [
    "You should find 75 lines - note that in this case, for those who know the PDB format a bit, you're finding all carbon atoms."
   ]
  },
  {
   "cell_type": "markdown",
   "metadata": {},
   "source": [
    "## 9.3 Writing a file\n",
    "Writing a file is very similar, except that you have to let Python know you are writing this time by adding the `'w'` parameter in the `open()` function. Actually Python needs two arguments, however it assumes that if you only give one parameter (the file that it has to read), the other one is `'r'` which stands for *reading* mode. "
   ]
  },
  {
   "cell_type": "markdown",
   "metadata": {},
   "source": [
    "For the sake of the example, we're writing something new in the `readfile.txt`:"
   ]
  },
  {
   "cell_type": "code",
   "execution_count": 20,
   "metadata": {},
   "outputs": [
    {
     "name": "stdout",
     "output_type": "stream",
     "text": [
      "Now we have a new file \n",
      "Because Python automatically makes this file and writes some text to it.Btw, if you don't specify the newline characters, it will append the string at the end of the last line\n"
     ]
    }
   ],
   "source": [
    "f = open('data/writefile.txt','w')\n",
    "f.write('Now we have a new file \\n')\n",
    "f.write('Because Python automatically makes this file and writes some text to it.')\n",
    "f.write('Btw, if you don\\'t specify the newline characters, it will append the string at the end of the last line')\n",
    "f.close()\n",
    "f = open('data/writefile.txt')\n",
    "text = f.read()\n",
    "print(text)\n",
    "f.close()"
   ]
  },
  {
   "cell_type": "markdown",
   "metadata": {},
   "source": [
    "**Be careful** - if the file exists already it will be overwritten without warning!"
   ]
  },
  {
   "cell_type": "markdown",
   "metadata": {},
   "source": [
    "The file is written to the directory you're executing the program in - have a look!\n",
    "\n",
    "Now we will read in a file, extract all the lines that contain \"VAL\" and write out all those lines to a new variable and then make a file from it. "
   ]
  },
  {
   "cell_type": "markdown",
   "metadata": {},
   "source": [
    "----\n",
    "### 9.3.1 Exercise\n",
    "Read in the file from the previous example, and write out all lines that contain 'VAL' to a new file.\n",
    "\n",
    "----"
   ]
  },
  {
   "cell_type": "code",
   "execution_count": null,
   "metadata": {},
   "outputs": [],
   "source": []
  },
  {
   "cell_type": "code",
   "execution_count": 13,
   "metadata": {},
   "outputs": [],
   "source": []
  },
  {
   "cell_type": "code",
   "execution_count": 14,
   "metadata": {},
   "outputs": [],
   "source": []
  },
  {
   "cell_type": "markdown",
   "metadata": {},
   "source": [
    "## 9.4 Advanced file reading and interpretation exercise \n",
    "Read in the TestFile.pdb atom coordinate file, print out the title of the file, and find all atoms that have coordinates closer than 2 angstrom to the (x,y,z) coordinate (-8.7,-7.7,4.7). Print out the model number, residue number, atom name and atom serial for each; the model is indicated by:\n",
    "```\n",
    "MODEL     1\n",
    "```\n",
    "lines, the atom coordinate information is in:\n",
    "```\n",
    "ATOM      1  N   ASP A   1     -10.341  -9.922   9.398  1.00  0.00           N\n",
    "```\n",
    "lines, where column 1 is always ATOM, column 2 is the atom serial,  column 3 the atom name, column 4 the residue name, column 5 the chain code, column 6 the residue number, followed by the x, y and z coordinates in angstrom in columns 7, 8 and 9.\n",
    "\n",
    "Note that the distance between two coordinates is calculated as the square root of (x1-x2)²+(y1-y2)²+(z1-z2)²."
   ]
  },
  {
   "cell_type": "code",
   "execution_count": null,
   "metadata": {},
   "outputs": [],
   "source": []
  },
  {
   "cell_type": "markdown",
   "metadata": {},
   "source": [
    "## 9.5 Next session\n",
    "\n",
    "Go to our [next chapter](10_Functions.ipynb)."
   ]
  }
 ],
 "metadata": {
  "kernelspec": {
   "display_name": "Python 3",
   "language": "python",
   "name": "python3"
  },
  "language_info": {
   "codemirror_mode": {
    "name": "ipython",
    "version": 3
   },
   "file_extension": ".py",
   "mimetype": "text/x-python",
   "name": "python",
   "nbconvert_exporter": "python",
   "pygments_lexer": "ipython3",
   "version": "3.7.3"
  }
 },
 "nbformat": 4,
 "nbformat_minor": 2
}
