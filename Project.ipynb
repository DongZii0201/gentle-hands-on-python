{
 "cells": [
  {
   "cell_type": "markdown",
   "metadata": {},
   "source": [
    "# Course Project: What's this gene?\n",
    "\n",
    "In this project you will implement a de-novo sequence assembly algorithm. You will be provided with a small sample of fragments (e.g. from an Illumina type machine) for a part of a well-known protein encoding human gene. Your task is to assemble the reads into a sequence then perform an online [BLAST](https://blast.ncbi.nlm.nih.gov/Blast.cgi) search to find out what the gene is.\n",
    "\n",
    "This project will see you use all of the techniques you will learn along the way in the course and during the course will will provide you with opportunities to work on the project.\n",
    "\n",
    "---"
   ]
  },
  {
   "cell_type": "markdown",
   "metadata": {},
   "source": [
    "## Background\n",
    "\n",
    "We will use a [\"greedy algorithm\"](https://en.wikipedia.org/wiki/Sequence_assembly#Greedy_algorithm) for sequence assembly. This is because it is straightforward to understand and implement but will also give you good enough results to solve the challenge. The steps of the algorithm are:\n",
    "\n",
    "1. Сalculate pairwise alignments of all fragments.\n",
    "1. Choose two fragments with the largest overlap.\n",
    "1. Merge chosen fragments.\n",
    "1. Repeat step 2 and 3 until only one fragment is left or you cannot merge anymore.\n",
    "\n",
    "In the following code cell, we have supplied the fragments you should assemble the sequence from."
   ]
  },
  {
   "cell_type": "code",
   "execution_count": null,
   "metadata": {},
   "outputs": [],
   "source": [
    "fragments = [\n",
    "    \"GAATTAGATAAATTCAAATTAGACTTAGGAAGGAATGTTCCCAATAGTAGACATAAAAGTCTTCGCACAGTGAAAACTAAAATGGATCAAGCAGATGATG\",\n",
    "    \"TTCTTCAGAAGCTCCACCCTATAATTCTGAACCTGCAGAAGAATCTGAACATAAAAACAACAATTACGAACCAAACCTATTTAAAACTCCACAAAGGAAA\",\n",
    "    \"TGCCTATTGGATCCAAAGAGAGGCCAACATTTTTTGAAATTTTTAAGACACGCTGCAACAAAGCAGATTTAGGACCAATAAGTCTTAATTGGTTTGAAGA\",\n",
    "    \"CTCCACAAAGGAAACCATCTTATAATCAGCTGGCTTCAACTCCAATAATATTCAAAGAGCAAGGGCTGACTCTGCCGCTGTACCAATCTCCTGTAAAAGA\",\n",
    "    \"CAACATTTTTTGAAATTTTTAAGACACGCTGCAACAAAGCAGATTTAGGACCAATAAGTCTTAATTGGTTTGAAGAACTTTCTTCAGAAGCTCCACCCTA\",\n",
    "    \"GGCTGACTCTGCCGCTGTACCAATCTCCTGTAAAAGAATTAGATAAATTCAAATTAGACTTAGGAAGGAATGTTCCCAATAGTAGACATAAAAGTCTTCG\",\n",
    "    \"CAAAGAGAGGCCAACATTTTTTGAAATTTTTAAGACACGCTGCAACAAAGCAGATTTAGGACCAATAAGTCTTAATTGGTTTGAAGAACTTTCTTCAGAA\",\n",
    "    \"AGCAAGGGCTGACTCTGCCGCTGTACCAATCTCCTGTAAAAGAATTAGATAAATTCAAATTAGACTTAGGAAGGAATGTTCCCAATAGTAGACATAAAAG\",\n",
    "    \"TCAGCTGGCTTCAACTCCAATAATATTCAAAGAGCAAGGGCTGACTCTGCCGCTGTACCAATCTCCTGTAAAAGAATTAGATAAATTCAAATTAGACTTA\",\n",
    "    \"AATCTCCTGTAAAAGAATTAGATAAATTCAAATTAGACTTAGGAAGGAATGTTCCCAATAGTAGACATAAAAGTCTTCGCACAGTGAAAACTAAAATGGA\",\n",
    "    \"ATGCCTATTGGATCCAAAGAGAGGCCAACATTTTTTGAAATTTTTAAGACACGCTGCAACAAAGCAGATTTAGGACCAATAAGTCTTAATTGGTTTGAAG\",\n",
    "    \"GAATGTTCCCAATAGTAGACATAAAAGTCTTCGCACAGTGAAAACTAAAATGGATCAAGCAGATGATGTTTCCTGTCCACTTCTAAATTCTTGTCTTAGT\"\n",
    "]"
   ]
  },
  {
   "cell_type": "markdown",
   "metadata": {},
   "source": [
    "---\n",
    "\n",
    "## Day 1: Getting started\n",
    "You already have enough Python knowledge to start implementing our sequence assembly program. Let's start off by breaking down the problem into more managable parts (this is a skill you will develop very quickly while programming).\n",
    "\n",
    "Step 1 says we need to compute [pairwise alignments](https://en.wikipedia.org/wiki/Sequence_alignment#Pairwise_alignment). To do this we need 2 things: a way to score alignments, and a way to generate alignments. An easy way to score an alignment is known as the [_edit distance_](https://en.wikipedia.org/wiki/Levenshtein_distance), which is simply the minimum number of changes (character insertions, deletions, or substitutions) that are required to transform one string into another.\n",
    "\n",
    "### Edit distance: an example\n",
    "Imagine I want to find the edit distance between the strings \"kitten\" and \"sitting\":\n",
    "\n",
    "1. **k**itten → **s**itten (substitution of \"s\" for \"k\")\n",
    "2. sitt**e**n → sitt**i**n (substitution of \"i\" for \"e\")\n",
    "3. sittin → sittin**g** (insertion of \"g\" at the end).\n",
    "\n",
    "So the _edit distance_ between \"kitten\" and \"sitting\" is 3.\n",
    "\n",
    "Your first task is to write the beginnings of a function to compute the edit distance. Instead of a whole string, your input will be 2 characters. Please fill in the template provided for you and ensure it passes the test cases..."
   ]
  },
  {
   "cell_type": "code",
   "execution_count": null,
   "metadata": {},
   "outputs": [],
   "source": [
    "def edit_distance(queryA, queryB):\n",
    "    if _:\n",
    "        return _\n",
    "    \n",
    "    return _\n",
    "    \n",
    "assert edit_distance('A', 'T') == 1\n",
    "assert edit_distance('G', 'G') == 0"
   ]
  },
  {
   "cell_type": "markdown",
   "metadata": {},
   "source": [
    "Don't worry, you will soon extend this to longer sequences but it's a good start for now.\n",
    "\n",
    "Another task we will need to do from step 3 of our algorithm is \"merge\" fragments. Your next task is to write a merging function that takes 2 fragments and merges them end-to-end in order. You can fill in the template below and ensure it passes the test cases..."
   ]
  },
  {
   "cell_type": "code",
   "execution_count": null,
   "metadata": {},
   "outputs": [],
   "source": [
    "def merge(fragA, fragB):\n",
    "    return _\n",
    "    \n",
    "assert merge(\"\", \"ATG\") == \"ATG\"\n",
    "assert merge(\"ATG\", \"\") == \"ATG\"\n",
    "assert merge(\"ATG\", \"CCT\") == \"ATGCCT\"\n",
    "assert merge(\"A\", \"TG\") == \"ATG\""
   ]
  },
  {
   "cell_type": "markdown",
   "metadata": {},
   "source": [
    "Well done! You have now completed the beginnings of the sequence assembly program. It doesn't look like much now but it's a great foundation for tomorrow. Congratulate yourself, you've earned it!\n",
    "\n",
    "---\n",
    "\n",
    "## Day 2: Sequence assembly made easy!\n",
    "![How to draw an owl](https://i.kym-cdn.com/photos/images/newsfeed/000/572/078/d6d.jpg)\n",
    "\n",
    "Now that you can iterate over sequences, it's time to complete your _edit distance_ function to work on sequences longer than a single character. We will use a technique called [_dynamic programming_](https://en.wikipedia.org/wiki/Dynamic_programming). _Dynamic programming_ is a technique that allows you to solve big problems by breaking them into smaller and smaller sub-problems that are eventually \"trivial\". For example, the \"trivial problem\" when computing the edit distance is the comparison of 2 characters (that we solved yesterday). Dynamic further involves remembering (or [_memoising_](https://en.wikipedia.org/wiki/Memoization)) partial solutions as you build them up. So how is a solution \"built up\"? Let's have a look at the \"kitten\"/\"sitting\" example from before:\n",
    "\n",
    "Start by setting up a matrix:\n",
    "![Step 1](images/dp_1.jpg)\n",
    "\n",
    "Label the rows and columns:\n",
    "![Step 2](images/dp_2.jpg)\n",
    "\n",
    "Fill in the \"boundary cases\":\n",
    "![Step 3](images/dp_3.jpg)\n",
    "\n",
    "The general case requires you find the `min()` between three cases:\n",
    "![Recurrence relation](https://wikimedia.org/api/rest_v1/media/math/render/svg/10554aecc5e56da9be4657acd75b9a67b5e8b394)\n",
    "\n",
    "If \"S\" is equal to \"K\" the substitution cost is `0`, otherwise `1`. The insertion cost and the deletion cost is always `1`, so:\n",
    "![General case](images/dp_4.jpg)\n",
    "\n",
    "Then systematically fill out the entire matrix:\n",
    "![Systematically fill in the matrix](images/dp_6.jpg)\n",
    "\n",
    "Once the matrix is complete, the bottom-left corner cell will contain the edit distance:\n",
    "![Edit distance](images/dp_8.jpg)\n",
    "\n",
    "I encourage you to try this for yourself with pencil and paper. Once you have convinced yourself that you understand how it works, you can implement it in Python. To begin, the memoisation matrix can be represented using a list of lists:\n",
    "\n",
    "```python\n",
    "memo = [\n",
    "   # -  K  I  T  T  E  N\n",
    "    [0, 0, 0, 0, 0, 0, 0], # -\n",
    "    [0, 0, 0, 0, 0, 0, 0], # S\n",
    "    [0, 0, 0, 0, 0, 0, 0], # I\n",
    "    [0, 0, 0, 0, 0, 0, 0], # T\n",
    "    [0, 0, 0, 0, 0, 0, 0], # T\n",
    "    [0, 0, 0, 0, 0, 0, 0], # I\n",
    "    [0, 0, 0, 0, 0, 0, 0], # N\n",
    "    [0, 0, 0, 0, 0, 0, 0]  # G\n",
    "]\n",
    "```\n",
    "\n",
    "Lets start by working out how we read and write a value from this matrix. Let's begin by writing a function to write the value `5` to a row and column in this matrix. Please fill out the function below and ensure it passes the test cases:"
   ]
  },
  {
   "cell_type": "code",
   "execution_count": null,
   "metadata": {},
   "outputs": [],
   "source": [
    "def set_value_in_matrix(row, column, matrix):\n",
    "    # Set matrix at (row, column) to 5\n",
    "    ...\n",
    "    \n",
    "m = [[0, 1, 2], [3, 4, 5], [6, 7, 8]]\n",
    "set_value_in_matrix(0, 1, m)\n",
    "set_value_in_matrix(2, 0, m)\n",
    "set_value_in_matrix(2, 2, m)\n",
    "assert m[0][1] == 5\n",
    "assert m[2][0] == 5\n",
    "assert m[2][2] == 5"
   ]
  },
  {
   "cell_type": "markdown",
   "metadata": {},
   "source": [
    "Ok great work, we can read and write to our matrix. Now let's create a matrix of the correct size for our input strings. Remember that the dynamic programming matrix is the size of the input strings + 1. Please fix the function that follows and ensure it passes the tests."
   ]
  },
  {
   "cell_type": "code",
   "execution_count": null,
   "metadata": {},
   "outputs": [],
   "source": [
    "def create_matrix(inputA, inputB):\n",
    "    row = [0] * 5\n",
    "    m = []\n",
    "    for _ in range(5):\n",
    "        m.append(row.copy())\n",
    "    \n",
    "    return m\n",
    "\n",
    "assert create_matrix('','') == [[0]]\n",
    "assert create_matrix('dn', 'a') == [[0, 0], [0, 0], [0, 0]]"
   ]
  },
  {
   "cell_type": "markdown",
   "metadata": {},
   "source": [
    "Now you can initialise the matrix with the boundary cases (a edit distances against empty strings). Remember that the edit distances along the boundary are just the column or row index. For example, this is a matrix with boundary values initialised for the strings \"kitten\" and \"sitting\":\n",
    "\n",
    "```python\n",
    "memo = [\n",
    "   # -  K  I  T  T  E  N\n",
    "    [0, 1, 2, 3, 4, 5, 6], # -\n",
    "    [1, 0, 0, 0, 0, 0, 0], # S\n",
    "    [2, 0, 0, 0, 0, 0, 0], # I\n",
    "    [3, 0, 0, 0, 0, 0, 0], # T\n",
    "    [4, 0, 0, 0, 0, 0, 0], # T\n",
    "    [5, 0, 0, 0, 0, 0, 0], # I\n",
    "    [6, 0, 0, 0, 0, 0, 0], # N\n",
    "    [7, 0, 0, 0, 0, 0, 0]  # G\n",
    "]\n",
    "```\n",
    "\n",
    "Please fix the function that follows and ensure it passes the tests."
   ]
  },
  {
   "cell_type": "code",
   "execution_count": null,
   "metadata": {},
   "outputs": [],
   "source": [
    "def init_matrix(inputA, inputB):\n",
    "    m = create_matrix(inputA, inputB)\n",
    "    rows = 0\n",
    "    cols = 0\n",
    "    \n",
    "    for _ in range(rows):\n",
    "        ...\n",
    "        \n",
    "    for _ in range(cols):\n",
    "        ...\n",
    "    \n",
    "    return m\n",
    "\n",
    "assert init_matrix('', '') == [[0]]\n",
    "assert init_matrix('dn', 'a') == [[0, 1], [1, 0], [2, 0]]"
   ]
  },
  {
   "cell_type": "markdown",
   "metadata": {},
   "source": [
    "Now you're finally ready to complete the implementation of your `edit_distance()` function. You can use your `init_matrix()` function. The function template is given below, please complete and fix the function and ensure it passes the test cases."
   ]
  },
  {
   "cell_type": "code",
   "execution_count": null,
   "metadata": {},
   "outputs": [],
   "source": [
    "def edit_distance(queryA, queryB):\n",
    "    m = init_matrix(queryA, queryB)\n",
    "    rows = 0\n",
    "    cols = 0\n",
    "\n",
    "    for col in range(1, cols):\n",
    "        for row in range(1, rows):\n",
    "            if queryA[row - 1] == queryB[col - 1]:\n",
    "                cost = 0\n",
    "            else:\n",
    "                cost = 1\n",
    "            \n",
    "            m[row][col] = min([m[row-1][col-1],\n",
    "                               m[row][col - 1],\n",
    "                               m[row - 1][col]])\n",
    "            \n",
    "    return m[0][0]\n",
    "\n",
    "assert edit_distance('A', 'T') == 1\n",
    "assert edit_distance('G', 'G') == 0\n",
    "assert edit_distance('kitten', 'sitting') == 3\n",
    "assert edit_distance('', '') == 0\n",
    "assert edit_distance('ABCD', 'EFGH') == 4\n",
    "assert edit_distance('ABCD', 'ZBCZ') == 2"
   ]
  },
  {
   "cell_type": "markdown",
   "metadata": {},
   "source": [
    "Great work! You can now compute the edit distance between arbitrary strings!\n",
    "Now it's time to generate alignments... luckily you're already most of the way there 😊\n",
    "\n",
    "### Generating alignments\n"
   ]
  },
  {
   "cell_type": "code",
   "execution_count": null,
   "metadata": {},
   "outputs": [],
   "source": []
  },
  {
   "cell_type": "code",
   "execution_count": null,
   "metadata": {},
   "outputs": [],
   "source": [
    "from project import assemble, needleman_wunsch\n",
    "\n",
    "assemble(fragments, needleman_wunsch)"
   ]
  },
  {
   "cell_type": "code",
   "execution_count": null,
   "metadata": {},
   "outputs": [],
   "source": []
  }
 ],
 "metadata": {
  "kernelspec": {
   "display_name": "Python 3",
   "language": "python",
   "name": "python3"
  },
  "language_info": {
   "codemirror_mode": {
    "name": "ipython",
    "version": 3
   },
   "file_extension": ".py",
   "mimetype": "text/x-python",
   "name": "python",
   "nbconvert_exporter": "python",
   "pygments_lexer": "ipython3",
   "version": "3.9.1"
  }
 },
 "nbformat": 4,
 "nbformat_minor": 4
}
