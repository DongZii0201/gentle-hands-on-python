{
 "cells": [
  {
   "cell_type": "markdown",
   "metadata": {},
   "source": [
    "# Fetching and storing data\n",
    "\n",
    "In this chapter we will consider 2 sources of data: the network and the filesystem. We will also look at storing your data to the filesystem. More often than not the data you need for your program will come from somewhere outside of your program.\n",
    "Often, that \"somewhere\" will be a file or some location on the internet. Especially for more complex data, it becomes essential to be able to fetch data from the outside, or persist data to somewhere outside of your program.\n",
    "\n",
    "## 1. Climate data\n",
    "For the plotting project you've been commissioned to complete, you've been provided with a file containing monthly global average observations and access to a website for data from individual countries. You will need to read the global data from the file and\n",
    "load the country data from the website. Let us begin...\n",
    "\n",
    "\n",
    "## 2. How to deal with the outside world\n",
    "\n",
    "The outside world is a dangerous and scary place. Here, in your Python programming environment you are relatively safe. But out there lie horrific things like missing files, URLs that point to nowhere\n",
    "and even... INVALID DATA!!! Luckily Python gives us some mechanisms to help us deal with this frightening environment and return to our comfortable Python interpreter as quickly as possible.\n",
    "\n",
    "There are, in general, 3 steps to dealing with the outside world:\n",
    "\n",
    "1. \"Open\" a resource (could be a file or a URL, or...)\n",
    "2. \"Read\" from or \"write\" to the resource\n",
    "3. \"Close\" the resource\n",
    "\n",
    "Python provides us with the concept of a _context manager_ which handles the \"close\" step for us. So we only need worry about opening the correct resource and performing the I/O we need.\n",
    "The `with` keyword tells Python to _manage a context_ ([Documentation](https://docs.python.org/3/reference/datamodel.html#context-managers)). Within this context (within an indented\n",
    "code block) you're able to read from and write to the resource. As soon as you're outside of the code block, the resource will not exist any more.\n",
    " \n",
    "Let's see what a context manager looks like with an example reading from file and web resources..."
   ]
  },
  {
   "cell_type": "code",
   "execution_count": null,
   "metadata": {},
   "outputs": [],
   "source": [
    "# Open a file resource...\n",
    "with open(\"data/readfile.txt\") as file_resource: # file_resource is a context manager\n",
    "    # Read from the file resource\n",
    "    contents = file_resource.read()\n",
    "\n",
    "# Outside the with block, the context manager has done it's job and closed the file resource.\n",
    "# We cannot access file_resource now... but we still have the contents!\n",
    "print(contents)"
   ]
  },
  {
   "cell_type": "code",
   "execution_count": null,
   "metadata": {},
   "outputs": [],
   "source": [
    "from urllib import request\n",
    "\n",
    "# Open a web resource...\n",
    "with request.urlopen(\"https://httpbin.org/get\") as web_resource: # web_resource is a context manager\n",
    "    # Read from the web resource\n",
    "    contents = web_resource.read()\n",
    "\n",
    "# Outside the with block, the context manager has done it's job and closed the web resource.\n",
    "# We cannot access web_resource now... but we still have the contents!\n",
    "print(contents)"
   ]
  },
  {
   "cell_type": "markdown",
   "metadata": {},
   "source": [
    "---\n",
    "\n",
    "## 3. Explore the global data\n",
    "In order to understand how to use the data in a file, we need to understand what's in it. As you saw above, the `read()` function reads all the data from the file. The global data file is probably quite large though so let's try to read less. We have 2 options: The `readline()` function will read up to a new line character, or we could pass an argument to the `read()` function that is the number of characters to read."
   ]
  },
  {
   "cell_type": "code",
   "execution_count": null,
   "metadata": {},
   "outputs": [],
   "source": [
    "with open(\"data/HadCRUT.5.0.1.0.analysis.summary_series.global.monthly.csv\") as global_data_manager:\n",
    "    first_line = global_data_manager.readline()\n",
    "    second_line = global_data_manager.readline()\n",
    "    \n",
    "print(first_line + second_line)"
   ]
  },
  {
   "cell_type": "markdown",
   "metadata": {},
   "source": [
    "You may've guessed based on the extension that this is tabular data in \"comma-separated values (CSV)\" format. If not, then you can tell by the structure of the data we've read. Let us look at the data in more detail using a Jupyter Lab feature. Open the datafile with _CSVTable_.\n",
    "\n",
    "The [HadCRUT](https://www.metoffice.gov.uk/hadobs/hadcrut5/) website describes what we're looking at. Column,\n",
    "1. Year-Month labels\n",
    "2. 'Best-estimate' computed monthly means from 200 ensemble measurements as difference from 1961-1990 reference period.\n",
    "3. 2.5% confidence from 200 ensemble measurements.\n",
    "4. 97.5% confidence from 200 ensemble measurements.\n",
    "\n",
    "Although CSV is a conceptually simple data format it can be difficult to read and write correctly. The Python standard library provides a module (called `csv`) to help us easily read and write this format. Let's use this library to read the global data..."
   ]
  },
  {
   "cell_type": "code",
   "execution_count": null,
   "metadata": {},
   "outputs": [],
   "source": [
    "import csv\n",
    "\n",
    "global_data = []\n",
    "with open(\"data/HadCRUT.5.0.1.0.analysis.summary_series.global.monthly.csv\") as global_data_manager:\n",
    "    reader = csv.DictReader(global_data_manager)\n",
    "    \n",
    "    for reading in reader:\n",
    "        global_data += [reading]\n",
    "\n",
    "global_data[:5]"
   ]
  },
  {
   "cell_type": "markdown",
   "metadata": {},
   "source": [
    "This is a great start. The next step is to clean these data up a little. Here are a few things we can do to make them easier to work with:\n",
    "\n",
    "1. Convert the temperature values from strings to numbers\n",
    "1. Use a `datetime` object to record the time rather than a string\n",
    "1. The confidence interval is not interesting for us at the moment so we can discard those.\n",
    "\n",
    "First, what is a `datetime` object? Python provides a module for dealing with dates, times, timezones, and differences between times in the standard library. See the documentation [here](https://docs.python.org/3/library/datetime.html). Or especially the section on format codes [here](https://docs.python.org/3/library/datetime.html#strftime-and-strptime-format-codes)."
   ]
  },
  {
   "cell_type": "code",
   "execution_count": null,
   "metadata": {},
   "outputs": [],
   "source": [
    "from datetime import datetime\n",
    "\n",
    "# An example of a date from the data is the string \"1901-5\"\n",
    "date1 = datetime.strptime(\"1901-05\", \"%Y-%m\")\n",
    "print(\"Year:\", date1.year, \"Month:\", date1.month, \"Day:\", date1.day, \"day of the week:\", date1.weekday()) # Monday is 0"
   ]
  },
  {
   "cell_type": "code",
   "execution_count": null,
   "metadata": {},
   "outputs": [],
   "source": [
    "# An example of a date from the data is the string \"1901-May\"\n",
    "date1 = datetime.strptime(\"1901-May\", \"%Y-%b\")\n",
    "print(\"Year:\", date1.year, \"Month:\", date1.month, \"Day:\", date1.day, \"day of the week:\", date1.weekday()) # Monday is 0"
   ]
  },
  {
   "cell_type": "code",
   "execution_count": null,
   "metadata": {},
   "outputs": [],
   "source": [
    "# An example of a parsing error:\n",
    "datetime.strptime(\"May 1901\", \"%Y-%b\")"
   ]
  },
  {
   "cell_type": "markdown",
   "metadata": {},
   "source": [
    "---\n",
    "\n",
    "### Exercise 8-1: Clean the data!\n",
    "Write a function to _clean_ the data we read from the file. The input to your function will be a dictionary like this:\n",
    "\n",
    "```python\n",
    "{\n",
    "  'Time': '1901-05',\n",
    "  'Anomaly (deg C)': '-0.24934465',\n",
    "  'Lower confidence limit (2.5%)': '-0.44425672',\n",
    "  'Upper confidence limit (97.5%)': '-0.05443258'\n",
    "}\n",
    "```\n",
    "\n",
    "The output of your function should look like this:\n",
    "\n",
    "```python\n",
    "{\n",
    "  'Time': datetime.datetime(1901, 5, 1, 0, 0),\n",
    "  'Temperature': -0.24934465\n",
    "}\n",
    "```"
   ]
  },
  {
   "cell_type": "code",
   "execution_count": null,
   "metadata": {},
   "outputs": [],
   "source": [
    "def clean_global_data(reading):\n",
    "    \"\"\n",
    "    return _\n",
    "\n",
    "assert clean_global_data({'Time': '1901-05','Anomaly (deg C)': '-0.24934465','Lower confidence limit (2.5%)': '-0.44425672','Upper confidence limit (97.5%)': '-0.05443258'}) == {'Time': datetime(1901, 5, 1, 0, 0),'Temperature': -0.24934465}"
   ]
  },
  {
   "cell_type": "markdown",
   "metadata": {},
   "source": [
    "---\n",
    "\n",
    "### Exercise 8-2: Load the data\n",
    "\n",
    "Write a function that reads the global temperature data file and returns a list of cleaned dictionaries."
   ]
  },
  {
   "cell_type": "code",
   "execution_count": null,
   "metadata": {},
   "outputs": [],
   "source": [
    "def global_data(filename):\n",
    "    \"\"\n",
    "    return _\n",
    "\n",
    "assert global_data(\"data/HadCRUT.5.0.1.0.analysis.summary_series.global.monthly.csv\")[4] == {'Time': datetime(1901, 5, 1, 0, 0),'Temperature': -0.24934465}"
   ]
  },
  {
   "cell_type": "markdown",
   "metadata": {},
   "source": [
    "---\n",
    "\n",
    "## 4. Saving data for later\n",
    "\n",
    "At this point you may wish to save your cleaned data for later inspection or use. The resource workflow of: `open`, `write`, `close` is the same as before. Let's see what this looks like in general:\n"
   ]
  },
  {
   "cell_type": "code",
   "execution_count": null,
   "metadata": {},
   "outputs": [],
   "source": [
    "# Open a file resource...\n",
    "with open(\"test.txt\", mode=\"w\") as file_resource: # file_resource is a context manager. Notice the extra mode=\"w\"\n",
    "    # Write to the file resource\n",
    "    file_resource.write(\"Hello outside world!\")\n",
    "\n",
    "# Outside the with block, the context manager has done it's job and closed the file resource.\n",
    "# We cannot access file_resource now... but we still have the contents!"
   ]
  },
  {
   "cell_type": "markdown",
   "metadata": {},
   "source": [
    "Now you should be able to find a file called \"test.txt\" in the file browser on the left of this notebook.\n",
    "\n",
    "Naturally, the CSV library allows us to write correct CSV formatted data without the hastle..."
   ]
  },
  {
   "cell_type": "code",
   "execution_count": null,
   "metadata": {},
   "outputs": [],
   "source": [
    "with open(\"test.csv\", mode=\"w\") as file_resource:\n",
    "    writer = csv.DictWriter(file_resource, fieldnames=[\"Time\", \"Temperature\"])\n",
    "    writer.writeheader()\n",
    "    writer.writerows(global_data(\"data/HadCRUT.5.0.1.0.analysis.summary_series.global.monthly.csv\"))"
   ]
  },
  {
   "cell_type": "markdown",
   "metadata": {},
   "source": [
    "---\n",
    "\n",
    "### Exercise 8-3: Save the data!\n",
    "Write a function that takes a list of dictionaries as an argument and saves them to a CSV formatted file."
   ]
  },
  {
   "cell_type": "code",
   "execution_count": null,
   "metadata": {},
   "outputs": [],
   "source": [
    "def save_data(data, filename):\n",
    "    \"\"\n",
    "    _\n",
    "\n",
    "glo = global_data(\"data/HadCRUT.5.0.1.0.analysis.summary_series.global.monthly.csv\")\n",
    "save_data(glo, \"data/global_data.csv\")"
   ]
  },
  {
   "cell_type": "markdown",
   "metadata": {},
   "source": [
    "---\n",
    "\n",
    "## 5. Exploring the per-Country data\n",
    "\n",
    "Drawing on our exploration of the global data (which we had in a local file), let's explore the pre-country data. The only difference this time is that the data is coming from a web resource rather than a file resource."
   ]
  },
  {
   "cell_type": "code",
   "execution_count": null,
   "metadata": {},
   "outputs": [],
   "source": [
    "# https://climateknowledgeportal.worldbank.org/api/data/get-download-data/historical/tas/1901-2020/BEL/Belgium\n",
    "import csv\n",
    "\n",
    "bel_data = []\n",
    "with request.urlopen(\"https://gist.github.com/MaybeJustJames/4a604c9d9dcff2c999496ec5def1d6ce/raw/caf3df0d47b1523e347df01ed8db2cc3726b1bdc/bel_data_orig.csv\") as bel_data_manager:\n",
    "    reader = csv.DictReader(bel_data_manager)\n",
    "    \n",
    "    for reading in reader:\n",
    "        bel_data += [reading]\n",
    "\n",
    "bel_data[:5]"
   ]
  },
  {
   "cell_type": "markdown",
   "metadata": {},
   "source": [
    "**An Error!** This one is a bit difficult to decipher without introducing you to another data type: `bytes`.\n",
    "\n",
    "Very often the files on your computer (or on remote computers) aren't just plain text (like CSV is), instead their data is serialised (stored) as binary numbers that have to be interpreted differently than text.\n",
    "\n",
    "* Here is a number as we would write it in base 10 (decimal): `32`.\n",
    "* Here is that number as it is written in a string: `\"32\"`.\n",
    "* Here is that number as a computer would write it in base 2 (binary): `00100000`\n",
    "* If I interpret this pattern of bytes as a character I get, `\" \"`\n",
    "* Here is that number as a computer would see the string representation without interpreting the data as text: `0011001100110010`\n",
    "* If I interpret this pattern of bits as a decimal number I get: `13106` \n",
    "\n",
    "At some level, all you're doing as a programmer is interpreting patterns of bytes. The data you read has no interpretation other than what you impose on in, you must tell the computer how we want to interpret it:"
   ]
  },
  {
   "cell_type": "code",
   "execution_count": null,
   "metadata": {},
   "outputs": [],
   "source": [
    "bin(32)"
   ]
  },
  {
   "cell_type": "code",
   "execution_count": null,
   "metadata": {},
   "outputs": [],
   "source": [
    "int(32).to_bytes(1, byteorder='big').decode()"
   ]
  },
  {
   "cell_type": "code",
   "execution_count": null,
   "metadata": {},
   "outputs": [],
   "source": [
    "int.from_bytes(b\"32\", byteorder='big')"
   ]
  },
  {
   "cell_type": "code",
   "execution_count": null,
   "metadata": {},
   "outputs": [],
   "source": [
    "b'\\x48\\x65\\x6c\\x6c\\x6f\\x20\\x57\\x6f\\x72\\x6c\\x64\\x21'.decode()"
   ]
  },
  {
   "cell_type": "markdown",
   "metadata": {},
   "source": [
    "Hopefully this gives you some sense of what the `Error: iterator should return strings, not bytes (did you open the file in text mode?)` means. The Python `CSV` library expects text but we're trying to give it uninterpreted bytes. So the solution now seems rather trivial: `.decode()`!"
   ]
  },
  {
   "cell_type": "code",
   "execution_count": null,
   "metadata": {},
   "outputs": [],
   "source": [
    "# https://climateknowledgeportal.worldbank.org/api/data/get-download-data/historical/tas/1901-2020/BEL/Belgium\n",
    "import csv \n",
    "bel_data = []\n",
    "with request.urlopen(\"https://gist.github.com/MaybeJustJames/4a604c9d9dcff2c999496ec5def1d6ce/raw/caf3df0d47b1523e347df01ed8db2cc3726b1bdc/bel_data_orig.csv\") as bel_data_manager:\n",
    "    text_data = bel_data_manager.read().decode().splitlines()\n",
    "    reader = csv.DictReader(text_data, skipinitialspace=True)\n",
    "    \n",
    "    for reading in reader:\n",
    "        bel_data += [reading]\n",
    "\n",
    "bel_data[:5]"
   ]
  },
  {
   "cell_type": "markdown",
   "metadata": {},
   "source": [
    "---\n",
    "### Exercise 8-4: Clean the data!\n",
    "Write a function to clean the country data we read from the web. The input to your function will be a dictionary like this:\n",
    "\n",
    "```python\n",
    "{\n",
    "  'Temperature - (Celsius)': '5.76',\n",
    "  'Year': '1901',\n",
    "  'Statistics': 'May Average',\n",
    "  'Country': 'Belgium',\n",
    "  'ISO3': 'BEL'\n",
    "}\n",
    "```\n",
    "The output of your function should look like this:\n",
    "\n",
    "```python\n",
    "{\n",
    "  'Time': datetime.datetime(1901, 5, 1, 0, 0),\n",
    "  'Temperature': 5.76\n",
    "}\n",
    "```"
   ]
  },
  {
   "cell_type": "code",
   "execution_count": null,
   "metadata": {},
   "outputs": [],
   "source": [
    "def clean_country_data(data):\n",
    "    \"\"\n",
    "    return _\n",
    "\n",
    "assert clean_country_data(bel_data[0]) == {'Time': datetime(1901, 1, 1, 0, 0), 'Temperature': 4.04}"
   ]
  },
  {
   "cell_type": "markdown",
   "metadata": {},
   "source": [
    "---\n",
    "\n",
    "### Exercise 8-5: Load country data\n",
    "Write a function that accepts a URL and returns a list of dictionaries containing 'Time' and 'Temperature' keys. Use the second code cell to save the cleaned data using the `save_data()` function you wrote earlier."
   ]
  },
  {
   "cell_type": "code",
   "execution_count": null,
   "metadata": {},
   "outputs": [],
   "source": [
    "def country_data(url):\n",
    "    \"\"\n",
    "    return _\n",
    "\n",
    "assert country_data(\"https://gist.github.com/MaybeJustJames/4a604c9d9dcff2c999496ec5def1d6ce/raw/caf3df0d47b1523e347df01ed8db2cc3726b1bdc/bel_data_orig.csv\")[4] == {'Time': datetime(1901, 5, 1, 0, 0),'Temperature': 9.15}\n",
    "assert country_data(\"https://gist.github.com/MaybeJustJames/4a604c9d9dcff2c999496ec5def1d6ce/raw/caf3df0d47b1523e347df01ed8db2cc3726b1bdc/rus_data_orig.csv\")[4] == {'Time': datetime(1901, 5, 1, 0, 0),'Temperature': 2.01}\n",
    "assert country_data(\"https://gist.github.com/MaybeJustJames/4a604c9d9dcff2c999496ec5def1d6ce/raw/caf3df0d47b1523e347df01ed8db2cc3726b1bdc/aus_data_orig.csv\")[4] == {'Time': datetime(1901, 5, 1, 0, 0),'Temperature': 18.02}"
   ]
  },
  {
   "cell_type": "code",
   "execution_count": null,
   "metadata": {},
   "outputs": [],
   "source": []
  },
  {
   "cell_type": "markdown",
   "metadata": {
    "jp-MarkdownHeadingCollapsed": true,
    "tags": []
   },
   "source": [
    "---\n",
    "\n",
    "## 7. Chapter Review\n",
    "In this chapter we started working with files. We learned how to open a file and read its contents. We also learned how\n",
    "to write data to a file.\n",
    "\n",
    "### Review Questions\n",
    "\n",
    "1. What does the `open()` function do?\n",
    "<details>\n",
    "    <summary>Answer</summary>\n",
    "    It makes an external resource such as a file or remote web URL available for <code>read()</code>ing and <code>write()</code>ing.\n",
    "</details>\n",
    "\n",
    "\n",
    "2. If you open a file with the mode argument set to `\"w\"`, can you read data from the file?\n",
    "<details>\n",
    "    <summary>Answer</summary>\n",
    "    No. <code>\"w\"</code> means you can only <em>write</em> to the file.\n",
    "</details>\n",
    "\n",
    "\n",
    "3. If you open an existing file with `mode=\"w\"` and write to it, what happens to the original data?\n",
    "<details>\n",
    "    <summary>Answer</summary>\n",
    "    It's gone.\n",
    "</details>\n",
    "\n",
    "\n",
    "4. How do you read the entire contents of a file into a string?\n",
    "<details>\n",
    "    <summary>Answer</summary>\n",
    "    Run the <code>read()</code> function on the context manager.\n",
    "</details>\n",
    "\n",
    "\n",
    "5. How would you access line 5 of a file?\n",
    "<details>\n",
    "    <summary>Answer</summary>\n",
    "    Call the <code>readline()</code> function 5 times, ignoring the returned string the first 4 times.\n",
    "</details>\n",
    "\n",
    "6. What is the difference between <code>bytes</code> and <code>str</code> types?\n",
    "<details>\n",
    "    <summary>Answer</summary>\n",
    "    <code>bytes</code> are uninterpreted bits if computer memory. <code>str</code> are those bytes interpreted as text.\n",
    "</details>"
   ]
  },
  {
   "cell_type": "markdown",
   "metadata": {},
   "source": [
    "## 8. Next session\n",
    "\n",
    "Go to our [next chapter](09_Plotting.ipynb)."
   ]
  }
 ],
 "metadata": {
  "kernelspec": {
   "display_name": "Python 3 (ipykernel)",
   "language": "python",
   "name": "python3"
  },
  "language_info": {
   "codemirror_mode": {
    "name": "ipython",
    "version": 3
   },
   "file_extension": ".py",
   "mimetype": "text/x-python",
   "name": "python",
   "nbconvert_exporter": "python",
   "pygments_lexer": "ipython3",
   "version": "3.10.5"
  }
 },
 "nbformat": 4,
 "nbformat_minor": 4
}
