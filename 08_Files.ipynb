{
 "cells": [
  {
   "cell_type": "markdown",
   "metadata": {},
   "source": [
    "# 9. Files\n",
    "\n",
    "More often than not the data you need for your program will come from somewhere outside of your program.\n",
    "Often, that \"somewhere\" will be a file. Especially for more complex data, it becomes essential to be able to read in data files, do something with the data, and write out a new file with processed information or a set of analysis results.\n",
    "\n",
    "## 9.1 How to \"open\" a file\n",
    " \n",
    "To read in a file you have to create a *file handle*. This is a sort of connection to the file.\n",
    "You create this connection to a file by using the `open()` function."
   ]
  },
  {
   "cell_type": "code",
   "execution_count": null,
   "metadata": {},
   "outputs": [],
   "source": [
    "# Open the file\n",
    "with open(\"data/readfile.txt\") as fileHandle:\n",
    "    #work with the file handle in this code block\n",
    "    ...\n",
    "\n",
    "# Outside the with block, the fileHandle doesn't exist"
   ]
  },
  {
   "cell_type": "markdown",
   "metadata": {},
   "source": [
    "\n",
    "The above method of working with file handles is _modern_ Python. The `with` keyword tells Python to _manage a context_\n",
    "(in this case a file handle; see\n",
    "[Python documentation](https://docs.python.org/3/reference/datamodel.html#context-managers)\n",
    "for more information on context managers). Within this context and thus within the indented code block, you're able to connect to your file and *do some stuff with it*. As soon as you're outside of the code block, the filehandle will not exist any more.  \n"
   ]
  },
  {
   "cell_type": "markdown",
   "metadata": {},
   "source": [
    "---\n",
    "\n",
    "## 9.2 How to \"read\" data from a file\n",
    "`open()` only creates a connection to a file. The next step is to _read_ data from the file (i.e. to get the data out so\n",
    "you can work with it). In order to read in a file, there are a couple of possibilities:\n",
    "- `readline()` - read the first line of the file as one string.\n",
    "- `readlines()` - read all of the lines in the file. Each line is one string. The lines are combined as a list of lines (strings). \n",
    "- `read()` - read the whole file as one string. \n",
    "\n",
    "Each method has its trade-offs and you will have to consider which is most appropriate for your use case. Try to understand the difference of these methods while we go through this section. "
   ]
  },
  {
   "cell_type": "markdown",
   "metadata": {},
   "source": [
    "Find the file `readfile.txt` in the data-folder:\n",
    "\n",
    "```\n",
    "This is the first line.\n",
    "Here is a second one. \n",
    "And there is also a third line. \n",
    "```"
   ]
  },
  {
   "cell_type": "markdown",
   "metadata": {},
   "source": [
    "\n",
    "1. Using `read()`:\n",
    "\n",
    "Note that the three different lines are read in one long string. This is how the `read` function works. "
   ]
  },
  {
   "cell_type": "code",
   "execution_count": null,
   "metadata": {},
   "outputs": [],
   "source": [
    "with open(\"data/readfile.txt\") as fileHandle:\n",
    "    data = fileHandle.read()\n",
    "\n",
    "print(data)"
   ]
  },
  {
   "cell_type": "markdown",
   "metadata": {},
   "source": [
    "\n",
    "2. Using `readline()`:\n",
    "`readline()` reads in lines one-per-call. It starts with the first one. When you call the method again, it will read the second line. It's important to understand this as you can exploit this method in a for-each loop to access each line separately."
   ]
  },
  {
   "cell_type": "code",
   "execution_count": null,
   "metadata": {},
   "outputs": [],
   "source": [
    "with open(\"data/readfile.txt\") as fileHandle:  \n",
    "    line1 = fileHandle.readline()\n",
    "    line2 = fileHandle.readline()\n",
    "\n",
    "print(f\"line1={line1} line2={line2}\")"
   ]
  },
  {
   "cell_type": "markdown",
   "metadata": {},
   "source": [
    "\n",
    "3. Using `readlines()`:\n",
    "Instead of reading the lines of a file one by one, you can also do it in one go. As explained above, each line is one string and all of the lines/strings are stored in a list. "
   ]
  },
  {
   "cell_type": "code",
   "execution_count": null,
   "metadata": {},
   "outputs": [],
   "source": [
    "with open(\"data/readfile.txt\") as fileHandle:\n",
    "    all_lines = fileHandle.readlines()\n",
    "\n",
    "all_lines"
   ]
  },
  {
   "cell_type": "markdown",
   "metadata": {},
   "source": [
    "-----------\n",
    "\n",
    "**Example use cases**\n",
    "\n",
    "1. If you're searching for the presence of a word or string in a file, given that the file is not too big, you can use `read()`.\n",
    "\n",
    "1. If you want to process an enormously big file and from each line you need to extract, process and save the information, than it's better to read line by line with `readline()` within a for-each loop.\n",
    "---"
   ]
  },
  {
   "cell_type": "markdown",
   "metadata": {},
   "source": [
    "Knowing this we can move on to more complex examples. First make sure to find the PDB file `TestFile.pdb` in your data folder or download [this fake PDB coordinate file for a 5 residue peptide](http://wiki.bits.vib.be/images/3/3a/TestFile.pdb) and save it in the data directory. \n",
    "\n",
    "In the example below we will read all the lines in the file (as separated by a newline character), and store them in the variable *lines*. Each element in this list corresponds to one line of the file! When this is done, we close the file. "
   ]
  },
  {
   "cell_type": "code",
   "execution_count": null,
   "metadata": {},
   "outputs": [],
   "source": [
    "# Read in the file per line\n",
    "with open(\"data/TestFile.pdb\") as fileHandle:\n",
    "    lines = fileHandle.readlines()\n",
    "\n",
    "# Print number of lines in the file\n",
    "print(\"There are:\", len(lines), \"lines in the file\")\n",
    "\n",
    "# Loop over the lines, and do some basic string manipulations\n",
    "for line in lines:\n",
    "    line = line.strip()  # Remove starting and trailing spaces/tabs/newlines\n",
    "    print(line)"
   ]
  },
  {
   "cell_type": "markdown",
   "metadata": {},
   "source": [
    "One line can be extracted by slicing that line out of the list. After removing whitespaces from that line, it is possible to split the line in elements separated by their tab. This method allows us to extract values from a column in a file. "
   ]
  },
  {
   "cell_type": "code",
   "execution_count": null,
   "metadata": {},
   "outputs": [],
   "source": [
    "line = lines[10]\n",
    "line = line.strip().split()\n",
    "line[-1]"
   ]
  },
  {
   "cell_type": "markdown",
   "metadata": {},
   "source": [
    "Now you can do many other things with the data in the file. E.g. if you want to count the number of times a carbon element appears in the file. "
   ]
  },
  {
   "cell_type": "code",
   "execution_count": null,
   "metadata": {},
   "outputs": [],
   "source": [
    "# Open the file\n",
    "with open(\"data/TestFile.pdb\") as fileHandle:\n",
    "    # Read all the lines in the file (as separated by a newline character), and store them in the lines list\n",
    "    # Each element in this list corresponds to one line of the file!\n",
    "    lines = fileHandle.readlines()\n",
    "\n",
    "# Initialise the line counter\n",
    "lineCount = 0\n",
    " \n",
    "# Loop over the lines\n",
    "for line in lines:\n",
    "    columns = line.strip().split()\n",
    "    if columns[-1] == 'C':      # Alternatively, use \"if ' C ' in line:\"\n",
    "        print(line, end='')     # Using the 'end' argument in the print because the line already contains a newline at the end\n",
    "                                # otherwise will get double spacing.\n",
    "        lineCount += 1\n",
    "\n",
    "print(f\"Number of lines with ' C ': {lineCount}\")"
   ]
  },
  {
   "cell_type": "markdown",
   "metadata": {},
   "source": [
    "You should find 75 lines - note that in this case, for those who know the PDB format a bit, you're finding all carbon atoms."
   ]
  },
  {
   "cell_type": "markdown",
   "metadata": {},
   "source": [
    "---\n",
    "\n",
    "### Exercise 9.2.1\n",
    "\n",
    "Read in the file `gene.fa` which also resides in the `data/` folder. Make a variable with the title and a variable with the sequence.   \n",
    "Note: make sure there are no `\\n` in your sequence\n",
    "\n",
    "---"
   ]
  },
  {
   "cell_type": "code",
   "execution_count": null,
   "metadata": {},
   "outputs": [],
   "source": []
  },
  {
   "cell_type": "markdown",
   "metadata": {},
   "source": [
    "---\n",
    "\n",
    "### Exercise 9.2.2 (Extra)\n",
    "\n",
    "Count the number of times a carbon element appears in the file by using the following method. You can copy-paste most of the lines from the example above. \n",
    "\n",
    "---"
   ]
  },
  {
   "cell_type": "code",
   "execution_count": null,
   "metadata": {},
   "outputs": [],
   "source": [
    "# Open the file\n",
    "with open(\"data/TestFile.pdb\") as fileHandle:   \n",
    "    # Read in the file line by line simultaneously\n",
    "    for line in fileHandle: \n",
    "\n",
    "        #...\n",
    "\n",
    "print(f\"Number of lines with ' C ': {lineCount}\")"
   ]
  },
  {
   "cell_type": "markdown",
   "metadata": {},
   "source": [
    "## 9.3 How to \"write\" data to a file\n",
    "Writing a file is very similar, except that you have to let Python know you are writing this time by adding the `'w'` parameter in the `open()` function. Actually `open()` always requires two arguments, however it assumes that if you only give one parameter (the file that it has to read), by default the second one is `'r'` which stands for *reading* mode. "
   ]
  },
  {
   "cell_type": "markdown",
   "metadata": {},
   "source": [
    "For the sake of the example, we're writing a new file and call it `writefile.txt`:"
   ]
  },
  {
   "cell_type": "code",
   "execution_count": null,
   "metadata": {},
   "outputs": [],
   "source": [
    "with open('data/writefile.txt','w') as f:\n",
    "    f.write('Now we have a new file \\n')\n",
    "    f.write('Because Python automatically makes this file and writes some text to it.')\n",
    "    f.write('Btw, if you don\\'t specify the newline characters, it will append the string at the end of the last line')\n",
    "\n",
    "\n",
    "with open('data/writefile.txt') as f:\n",
    "    text = f.read()\n",
    "\n",
    "print(text)"
   ]
  },
  {
   "cell_type": "markdown",
   "metadata": {},
   "source": [
    "**Be careful** - if the file exists already it will be overwritten without warning!"
   ]
  },
  {
   "cell_type": "markdown",
   "metadata": {},
   "source": [
    "The file is written to the directory you're executing the program in - have a look!"
   ]
  },
  {
   "cell_type": "markdown",
   "metadata": {},
   "source": [
    "----\n",
    "### 9.3.1 Exercise\n",
    "Read in the file `\"data/TestFile.pdb\"`, and write out all lines that contain 'VAL' to a new file.\n",
    "\n",
    "----"
   ]
  },
  {
   "cell_type": "code",
   "execution_count": null,
   "metadata": {},
   "outputs": [],
   "source": []
  },
  {
   "cell_type": "markdown",
   "metadata": {},
   "source": [
    "<details>\n",
    "    <summary>&#9654; Extra exercise 9.3.1-1</summary>\n",
    "    Read in the file <code>\"data/TestFile.pdb\"</code>. Count the number of each residue (e.g. <code>VAL</code>,\n",
    "    <code>ALA</code>, etc.). Write the results to a file in Comma Seperated Values (CSV) format. e.g.\n",
    "    <pre>\n",
    "Residue, Count\n",
    "VAL,3\n",
    "GLN,6\n",
    "    </pre>\n",
    "</details>"
   ]
  },
  {
   "cell_type": "markdown",
   "metadata": {},
   "source": [
    "## 9.4 Chapter Review\n",
    "In this chapter we started working with files. We learned how to open a file and read its contents. We also learned how\n",
    "to write data to a file.\n",
    "\n",
    "### Review Questions\n",
    "\n",
    "1. What does the `open()` function do?\n",
    "<details>\n",
    "    <summary>&#9654; Answer</summary>\n",
    "    It <em>connects</em> to a file.\n",
    "</details>\n",
    "\n",
    "\n",
    "2. If you open a file with the mode argument set to `\"w\"`, can you read data from the file?\n",
    "<details>\n",
    "    <summary>&#9654; Answer</summary>\n",
    "    No. <code>\"w\"</code> means you can only <em>write</em> to the file.\n",
    "</details>\n",
    "\n",
    "\n",
    "3. If you open an existing file with `mode=\"w\"` and write to it, what happens to the original data?\n",
    "<details>\n",
    "    <summary>&#9654; Answer</summary>\n",
    "    It's gone.\n",
    "</details>\n",
    "\n",
    "\n",
    "4. How do you read the entire contents of a file into a string?\n",
    "<details>\n",
    "    <summary>&#9654; Answer</summary>\n",
    "    The <code>read()</code> method\n",
    "</details>\n",
    "\n",
    "\n",
    "5. How would you access line 5 of a file?\n",
    "<details>\n",
    "    <summary>&#9654; Answer</summary>\n",
    "    Call the <code>readline()</code> method 5 times, ignoring the returned string the first 4 times.\n",
    "</details>"
   ]
  },
  {
   "cell_type": "markdown",
   "metadata": {},
   "source": [
    "## 9.5 Next session\n",
    "\n",
    "Go to our [next chapter](10_Functions.ipynb)."
   ]
  }
 ],
 "metadata": {
  "kernelspec": {
   "display_name": "Python 3",
   "language": "python",
   "name": "python3"
  },
  "language_info": {
   "codemirror_mode": {
    "name": "ipython",
    "version": 3
   },
   "file_extension": ".py",
   "mimetype": "text/x-python",
   "name": "python",
   "nbconvert_exporter": "python",
   "pygments_lexer": "ipython3",
   "version": "3.7.3"
  }
 },
 "nbformat": 4,
 "nbformat_minor": 2
}
