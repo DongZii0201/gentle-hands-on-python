{
 "cells": [
  {
   "cell_type": "markdown",
   "metadata": {},
   "source": [
    "# Project exercise\n",
    "*Practice makes perfect*  \n",
    "\n",
    "As we introduced a lot of new concepts it is important that you practice them so we can continue with new ones on the following days.\n",
    "\n",
    "----"
   ]
  },
  {
   "cell_type": "markdown",
   "metadata": {},
   "source": [
    "## Situation\n",
    "Mutations in the *BRCA* genes are known to increase the susceptibility of developing cancer. The *BRCA* gene test is a blood test that uses DNA analysis to identify harmful changes (mutations) in either one of the two breast cancer susceptibility genes — BRCA1 and BRCA2 [[1]](https://www.cancer.gov/about-cancer/causes-prevention/genetics/brca-fact-sheet). In this project exercise, we will mimic this test (or at least how it could look like). \n",
    "\n",
    "## Goal\n",
    "We've obtained a [coding sequence](https://en.wikipedia.org/wiki/Coding_region) (DNA) from two patients and we also have the functional protein sequence of BRCA2. Our goal is to identify [non-silent mutations](https://en.wikipedia.org/wiki/Silent_mutation) in the sequence. \n",
    "\n",
    "We will write a program that reads in a fasta file, extracts the sequence, transcribes and translates it into protein sequences. As it is possible that there are sequencing errors in the beginning, we will take into account that there are [frameshifts](https://www.genome.gov/genetics-glossary/Frameshift-Mutation) and therefore also different [ORFs](https://en.wikipedia.org/wiki/Open_reading_frame#:~:text=In%20molecular%20genetics%2C%20an%20open,UAA%2C%20UAG%20or%20UGA). We will assess all ORFs in the sequence, store all possible proteins and then compare them with the reference protein sequence of a functional BRCA2 protein. \n",
    "\n",
    "Here are the different steps:\n",
    "- Read in the fasta file, extract the sequence\n",
    "- Trascribe the sequence to RNA sequence\n",
    "- Translate the RNA sequence depending on the frameshift\n",
    "- A valid peptide/protein starts with a Methionine and ends at a stop sequence. Extract all valid peptides from a protein sequence. \n",
    "- For each peptide/protein, check if the length is equal to the reference BRCA2 protein sequence and if so, calculate the [hamming distance](https://en.wikipedia.org/wiki/Hamming_distance) and extract the location as well as the mutation itself if there was any. "
   ]
  },
  {
   "cell_type": "markdown",
   "metadata": {},
   "source": [
    "**Day 1**:\n",
    "- Given the following python-code that reads in a file. Inspect the result of the cell below, how is the information stored? "
   ]
  },
  {
   "cell_type": "code",
   "execution_count": null,
   "metadata": {},
   "outputs": [],
   "source": [
    "# These lines of code will read in the file 'gene.fa' and store it in the variable fileInLines.\n",
    "with open('data/patientA.fa') as fconnect:\n",
    "    fileInLines = fconnect.readlines()\n",
    "fileInLines"
   ]
  },
  {
   "cell_type": "markdown",
   "metadata": {},
   "source": [
    "- Extract the first line of the file, store the geneID in a variable and the description in another one. Tip: use slicing in combination with the methods `.split()`, `.join()` or `.replace()` could be helpful here. "
   ]
  },
  {
   "cell_type": "code",
   "execution_count": null,
   "metadata": {},
   "outputs": [],
   "source": [
    "# Get information from the first line - ignore the >\n",
    "firstLine = fileInLines[0]\n",
    "firstLineCols = firstLine[1:].split()\n",
    "geneID = firstLineCols[0]\n",
    "description = firstLine[1:].replace(geneID,'').strip()"
   ]
  },
  {
   "cell_type": "code",
   "execution_count": null,
   "metadata": {},
   "outputs": [],
   "source": [
    "# Get information from the first line - ignore the >\n",
    "firstLine = fileInLines[0]\n",
    "firstLineCols = firstLine[1:].split()\n",
    "geneID = firstLineCols[0]\n",
    "description = \" \".join(firstLineCols[1:])"
   ]
  },
  {
   "cell_type": "markdown",
   "metadata": {},
   "source": [
    "- Similarly, store the first line of the sequence in a variable named `firstSequence`, make sure to strip (trailing) whitespaces from the string. "
   ]
  },
  {
   "cell_type": "code",
   "execution_count": null,
   "metadata": {},
   "outputs": [],
   "source": [
    "# Storing the first line of the sequence & removing trailing whitespaces\n",
    "firstSequence = fileInLines[1].rstrip()\n",
    "firstSequence"
   ]
  },
  {
   "cell_type": "markdown",
   "metadata": {},
   "source": [
    "- The following python-code stores all of the possible RNA codons in a list. Inspect the result of this operation. How is the information stored?"
   ]
  },
  {
   "cell_type": "code",
   "execution_count": null,
   "metadata": {},
   "outputs": [],
   "source": [
    "from modules.SequenceDicts import standardRnaToProtein\n",
    "rnaCodons = list(standardRnaToProtein.keys())\n",
    "rnaCodons"
   ]
  },
  {
   "cell_type": "markdown",
   "metadata": {},
   "source": [
    "- Slice the first three codons from the `firstSequence` and check whether they are valid codons. Use an `if-else` statement and inform the user about its validity. Spoiler alert! You should find that the third codon is not a valid codon. Why is that? What should you do to fix this? "
   ]
  },
  {
   "cell_type": "code",
   "execution_count": null,
   "metadata": {},
   "outputs": [],
   "source": [
    "firstCodon = firstSequence[0:3]\n",
    "secondCodon = firstSequence[3:6]\n",
    "thirdCodon = firstSequence[6:9]\n",
    "if thirdCodon in rnaCodons:\n",
    "    print(f\"First codon is a valid codon\")\n",
    "else:\n",
    "    print(f\"This is not a valid codon\")"
   ]
  },
  {
   "cell_type": "code",
   "execution_count": null,
   "metadata": {},
   "outputs": [],
   "source": [
    "# Fixing spoiler alert\n",
    "rnaSequence = firstSequence.replace(\"T\", \"U\")"
   ]
  },
  {
   "cell_type": "markdown",
   "metadata": {},
   "source": [
    "- RNA is translated per group of 3 nucleotides A, C, G, T/U, called codons. Hence, in order to extract three-letter fragments from a string we will need to iterate over the string per groups of three letters. We will learn how to do this in the [Loops chapter](06_Loops.ipynb). However, we already know how to create a list with different ranges. Create `range()`-objects that start at a specific frameshift and ends at the the last three-letter codon in steps of three. Examples:\n",
    "\n",
    "```\n",
    "# Frameshift 0\n",
    "ACG-UGC-UTC-AAC-GTA-U\n",
    "Range object: 0, 3, 6, 9, 12.\n",
    "\n",
    "# Frameshift 1\n",
    "A-CGU-GCU-TCA-ACG-TAU\n",
    "Range object: 1, 4, 7, 10, 13\n",
    "\n",
    "# Frameshift 2\n",
    "AC-GUG-CUT-CAA-CGT-AU\n",
    "Range object: 2, 5, 8, 11\n",
    "```\n"
   ]
  },
  {
   "cell_type": "code",
   "execution_count": null,
   "metadata": {},
   "outputs": [],
   "source": [
    "# Test sequence:\n",
    "codonSequence = \"ACGUGCUTCAACGTAU\""
   ]
  },
  {
   "cell_type": "code",
   "execution_count": null,
   "metadata": {},
   "outputs": [],
   "source": [
    "# for frameshift 0\n",
    "frameshift = 0\n",
    "nr_codons = int((len(codonSequence)-frameshift)/3)\n",
    "list(range(frameshift, nr_codons*3, 3))"
   ]
  },
  {
   "cell_type": "code",
   "execution_count": null,
   "metadata": {},
   "outputs": [],
   "source": [
    "# for frameshift 2\n",
    "frameshift = 2\n",
    "nr_codons = int((len(codonSequence)-frameshift)/3)\n",
    "list(range(frameshift, nr_codons*3, 3))"
   ]
  },
  {
   "cell_type": "markdown",
   "metadata": {},
   "source": [
    "**Day 2**:\n",
    "- Read in the file `data/patientA.fa` and store the complete sequence in a new string `fullDNASequence`. Extract the geneID and the description as well, remember that you already found a solution to this problem!"
   ]
  },
  {
   "cell_type": "code",
   "execution_count": null,
   "metadata": {},
   "outputs": [],
   "source": [
    "# Read in file line by line. \n",
    "with open(\"data/patientA.fa\") as fconnect:\n",
    "    lines = fconnect.readlines()\n",
    "\n",
    "# Now get the full sequence out\n",
    "fullSequence = \"\"\n",
    "for line in lines[1:]:\n",
    "    # Important to remove the \\n characters at end of the lines\n",
    "    line = line.strip()\n",
    "    # Concatenate the new sequence in the line into the new string fullSequence\n",
    "    fullSequence += line\n",
    "    \n",
    "# Get information from the first line - ignore the >\n",
    "firstLine = fileInLines[0]\n",
    "firstLineCols = firstLine[1:].split()\n",
    "geneID = firstLineCols[0]\n",
    "description = \" \".join(firstLineCols[1:])"
   ]
  },
  {
   "cell_type": "markdown",
   "metadata": {},
   "source": [
    "- Transcribe the `fullSequence` (from DNA to RNA) and store it in `fullRNASequence`"
   ]
  },
  {
   "cell_type": "code",
   "execution_count": null,
   "metadata": {},
   "outputs": [],
   "source": [
    "fullRNASequence = fullSequence.replace(\"T\",\"U\")"
   ]
  },
  {
   "cell_type": "markdown",
   "metadata": {},
   "source": [
    "- Given the following dictionary `standardRnaToProtein` containing the information to translate a RNA-codon to a one-letter amino-acid."
   ]
  },
  {
   "cell_type": "code",
   "execution_count": null,
   "metadata": {},
   "outputs": [],
   "source": [
    "from modules.SequenceDicts import standardRnaToProtein\n",
    "print(standardRnaToProtein)"
   ]
  },
  {
   "cell_type": "markdown",
   "metadata": {},
   "source": [
    "- Create a `for`-loop that iterates over the RNA sequence per codon and stores each translated AA from in a new string `peptideSeq`.  Tip: use the `range()`-function from day 1."
   ]
  },
  {
   "cell_type": "code",
   "execution_count": null,
   "metadata": {},
   "outputs": [],
   "source": [
    "# Given a frameshift\n",
    "frameshift = 0\n",
    "# Initialise empty string\n",
    "peptideSeq = \"\""
   ]
  },
  {
   "cell_type": "code",
   "execution_count": null,
   "metadata": {},
   "outputs": [],
   "source": [
    "# Extracting the number of codons in the sequence, rounded downwards\n",
    "nr_codons = int((len(fullRNASequence)-frameshift)/3)\n",
    "\n",
    "# Divide up the sequence depending on type (amino acid or nucleic acid)\n",
    "for seqIndex in range(frameshift, nr_codons*3,3):\n",
    "\n",
    "    rnaCodon = fullRNASequence[seqIndex:seqIndex+3]\n",
    "    peptideSeq += standardRnaToProtein[rnaCodon]"
   ]
  },
  {
   "cell_type": "markdown",
   "metadata": {},
   "source": [
    "- Extract all the valid peptides from the peptide sequence and store all of them in a list. \n",
    "  - A valid peptide starts from a Methionine amino-acid,\n",
    "  - A valid peptide stops at its first encounter of a stop codon (here: `*`) or at the end of the sequence, don't include the '\\*' symbol in the resulting peptide. \n",
    "  \n",
    "Extra difficulty: it is possible that the first Methionine is skipped, hence the peptide starts at the second occurrence of a Methionine. Result was for me 45 potential translated and functional proteins. "
   ]
  },
  {
   "cell_type": "code",
   "execution_count": null,
   "metadata": {},
   "outputs": [],
   "source": [
    "validSequences = []\n",
    "\n",
    "# Only do something if there is a methionine in the sequence\n",
    "if peptideSeq.count(\"M\"):\n",
    "    \n",
    "    currentIndex = 0\n",
    "    subSeq = peptideSeq\n",
    "    # Iterate over the amount of times a Metionine is present\n",
    "    for i in range(peptideSeq.count(\"M\")):\n",
    "        # Set the index at the first occurence of 'M' in the remainder of the sequence\n",
    "        currentIndex = subSeq.index(\"M\")\n",
    "        # Extract a subsequence starting from that 'M'\n",
    "        subSeq = subSeq[currentIndex:]\n",
    "        \n",
    "        # If there is a stop codon, extract that part\n",
    "        if subSeq.find(\"*\") > currentIndex:\n",
    "            validSeq = subSeq[:subSeq.find(\"*\")]\n",
    "            validSequences.append(validSeq)\n",
    "        # If there is no stop codon, just go to the end\n",
    "        else:\n",
    "            validSequences.append(subSeq)\n",
    "        # Move one AA further in the sequence, otherwise we would get stuck at one AA\n",
    "        subSeq = subSeq[1:] "
   ]
  },
  {
   "cell_type": "markdown",
   "metadata": {},
   "source": [
    "**Day 3**:  \n",
    "In the previous section we created all the relevant code. Let's now write functions of the code blocks. \n",
    "- Write a function that accepts a fasta fileand has the following outputs:\n",
    "  - geneID, description and the fullSequence.\n",
    "- Let the function check whether the file exists."
   ]
  },
  {
   "cell_type": "code",
   "execution_count": null,
   "metadata": {},
   "outputs": [],
   "source": [
    "import os\n",
    "\n",
    "def read_fasta_file(pathToFile):\n",
    "    \"\"\"\n",
    "    Given a link to a file, this function returns three variables\n",
    "    - geneID\n",
    "    - description\n",
    "    - sequence\n",
    "    \"\"\"\n",
    "    # Check if file exists\n",
    "    if not os.path.exists(pathToFile):\n",
    "        print(\"Error: File {} not available!\".format(fileName))\n",
    "        return (None,None,None)\n",
    "    \n",
    "    # Read in file line by line. \n",
    "    with open(pathToFile) as fconnect:\n",
    "        lines = fconnect.readlines()\n",
    "\n",
    "    # Now get the full sequence out\n",
    "    fullSequence = \"\"\n",
    "    for line in lines[1:]:\n",
    "        # Important to remove the \\n characters at end of the lines\n",
    "        line = line.strip()\n",
    "        # Concatenate the new sequence in the line into the new string fullSequence\n",
    "        fullSequence += line\n",
    "\n",
    "    # Get information from the first line - ignore the >\n",
    "    firstLine = fileInLines[0]\n",
    "    firstLineCols = firstLine[1:].split()\n",
    "    geneID = firstLineCols[0]\n",
    "    description = \" \".join(firstLineCols[1:])\n",
    "    \n",
    "    return geneID, description, fullSequence"
   ]
  },
  {
   "cell_type": "markdown",
   "metadata": {},
   "source": [
    "- Write a function that transcribes a DNA sequence to an RNA sequence. "
   ]
  },
  {
   "cell_type": "code",
   "execution_count": null,
   "metadata": {},
   "outputs": [],
   "source": [
    "def transcribeDNAtoRNA(sequence):\n",
    "    \"Given a sequence in string format, this function returns its transcription\"\n",
    "    return sequence.replace(\"T\", \"U\")"
   ]
  },
  {
   "cell_type": "markdown",
   "metadata": {},
   "source": [
    "- Write a function that translates the RNA into a protein sequence. It accepts two arguments: the sequence and a frameshift. Hence, depending on the value of the frameshift (0, 1 or 2), the translation will result in a different protein. The output is a protein sequence (string format)."
   ]
  },
  {
   "cell_type": "code",
   "execution_count": null,
   "metadata": {},
   "outputs": [],
   "source": [
    "def translateRNAtoProt(fullSequence, frameshift):\n",
    "    \"\"\"Given a sequence and a frameshift, return a list with codons.\"\"\"\n",
    "    \n",
    "    peptideSeq = \"\"\n",
    "    # Extracting the number of codons in the sequence, rounded downwards\n",
    "    nr_codons = int((len(fullSequence)-frameshift)/3)\n",
    "\n",
    "    # Divide up the sequence depending on type (amino acid or nucleic acid)\n",
    "    for seqIndex in range(frameshift, nr_codons*3,3):\n",
    "        \n",
    "        rnaCodon = fullSequence[seqIndex:seqIndex+3]\n",
    "        peptideSeq += standardRnaToProtein[rnaCodon]\n",
    "\n",
    "    \n",
    "    return peptideSeq"
   ]
  },
  {
   "cell_type": "markdown",
   "metadata": {},
   "source": [
    "- Write a function that extracts the valid proteins from a protein sequence. The output should be a list of all potential peptides.  "
   ]
  },
  {
   "cell_type": "code",
   "execution_count": null,
   "metadata": {},
   "outputs": [],
   "source": [
    "def valid_peptides(peptideSeq):\n",
    "    \"\"\"Given a peptide sequence, find all possible valid peptides\"\"\"\n",
    "    validSequences = []\n",
    "\n",
    "    if peptideSeq.count(\"M\"):\n",
    "        currentIndex = 0\n",
    "        subSeq = peptideSeq\n",
    "        for i in range(peptideSeq.count(\"M\")):\n",
    "            currentIndex = subSeq.index(\"M\")\n",
    "            subSeq = subSeq[currentIndex:]\n",
    "\n",
    "            if subSeq.find(\"*\") > currentIndex:\n",
    "                validSeq = subSeq[:subSeq.find(\"*\")]\n",
    "                validSequences.append(validSeq)\n",
    "            else:\n",
    "                validSequences.append(subSeq)\n",
    "\n",
    "            subSeq = subSeq[1:] \n",
    "    return validSequences        "
   ]
  },
  {
   "cell_type": "markdown",
   "metadata": {},
   "source": [
    "- Write a function that compares two (protein) sequences with each other. Use the Hamming distance function as a starting point. You can assume that the sequences are of equal length. So one sequence will be the to-be-tested sequence, the other one is a reference sequence. The output consists of three parts:\n",
    "  - The Hamming distance\n",
    "  - A list with the locations where a mutation appeared\n",
    "  - A list with all the mutations that happened. "
   ]
  },
  {
   "cell_type": "code",
   "execution_count": null,
   "metadata": {},
   "outputs": [],
   "source": [
    "# string1 and string2 should be the same length.\n",
    "def find_mutations(string1, string2): \n",
    "    \"\"\"Return the Hamming distance between equal-length sequences.\"\"\"\n",
    "    \n",
    "    # Start with a distance of zero, and count up\n",
    "    distance = 0\n",
    "    location = []\n",
    "    mutation = []\n",
    "    # Loop over the indices of the string\n",
    "    for index in range(len(string1)):\n",
    "        # Add 1 to the distance if these two characters are not equal\n",
    "        if string1[index] != string2[index]:\n",
    "            distance += 1\n",
    "            location.append(index)\n",
    "            mutation.append(f\"{string1[index]}->{string2[index]}\")\n",
    "\n",
    "    # Return the final count of differences\n",
    "    return distance, location, mutation"
   ]
  },
  {
   "cell_type": "markdown",
   "metadata": {},
   "source": [
    "- Now use all of the above functions to extract all valid protein sequences starting from a fasta file containing the DNA sequence. "
   ]
  },
  {
   "cell_type": "code",
   "execution_count": null,
   "metadata": {},
   "outputs": [],
   "source": [
    "# Read in the fasta file\n",
    "(gene, descr, fullSequence) = read_fasta_file(\"data/patientA.fa\")\n",
    "# Transcribe DNA to RNA\n",
    "fullRNASequence = transcribeDNAtoRNA(fullSequence)\n",
    "\n",
    "# List that will contain all possible valid proteins\n",
    "allProteins = []\n",
    "\n",
    "# Do all steps for each frameshift\n",
    "for frameshift in range(3):\n",
    "    # Translate RNA to protein sequence\n",
    "    fullProteinSequence = translateRNAtoProt(fullRNASequence, frameshift)\n",
    "\n",
    "    # Extract all valid proteins\n",
    "    tmpProtList = valid_peptides(fullProteinSequence)\n",
    "    # If the list is not empty\n",
    "    if tmpProtList:\n",
    "        # Merge the temporary protein list together with the list containing all peptides \n",
    "        allProteins += tmpProtList"
   ]
  },
  {
   "cell_type": "code",
   "execution_count": null,
   "metadata": {},
   "outputs": [],
   "source": [
    "# Read in the reference Protein\n",
    "_,_, referenceProtein = read_fasta_file(\"data/BRCA2_ref_protein.fa\")\n",
    "\n",
    "# Two empty dictionaries that will contain the information\n",
    "functionalBRCA2 = {}\n",
    "mutatedBRCA2 = {}\n",
    "\n",
    "# Iterate over each valid protein\n",
    "for Protein in allProteins:\n",
    "    # Check that length of the protein is equal to length of the reference protein. \n",
    "    if len(Protein) == len(referenceProtein):\n",
    "        # Extract hamming distance, and location of any mutation and the mutation itself\n",
    "        distance, location, mutation = hamming_distance(Protein, referenceProtein)\n",
    "        \n",
    "        # If the hamming distance is zero, the proteins are identical. \n",
    "        if distance == 0:\n",
    "            functionalBRCA2['Sequence'] = Protein\n",
    "        else: \n",
    "            mutatedBRCA2['Sequence'] = Protein\n",
    "            mutatedBRCA2['Location'] = location\n",
    "            mutatedBRCA2['Mutation'] = mutation"
   ]
  },
  {
   "cell_type": "code",
   "execution_count": null,
   "metadata": {},
   "outputs": [],
   "source": [
    "mutatedBRCA2['Sequence']"
   ]
  },
  {
   "cell_type": "code",
   "execution_count": null,
   "metadata": {},
   "outputs": [],
   "source": []
  }
 ],
 "metadata": {
  "kernelspec": {
   "display_name": "Python 3",
   "language": "python",
   "name": "python3"
  },
  "language_info": {
   "codemirror_mode": {
    "name": "ipython",
    "version": 3
   },
   "file_extension": ".py",
   "mimetype": "text/x-python",
   "name": "python",
   "nbconvert_exporter": "python",
   "pygments_lexer": "ipython3",
   "version": "3.7.9"
  }
 },
 "nbformat": 4,
 "nbformat_minor": 4
}
