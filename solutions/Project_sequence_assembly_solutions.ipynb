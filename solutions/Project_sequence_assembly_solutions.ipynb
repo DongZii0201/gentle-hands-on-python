{
 "cells": [
  {
   "cell_type": "markdown",
   "metadata": {},
   "source": [
    "# Project solutions"
   ]
  },
  {
   "cell_type": "code",
   "execution_count": null,
   "metadata": {},
   "outputs": [],
   "source": [
    "fragments = [\n",
    "    \"GAATTAGATAAATTCAAATTAGACTTAGGAAGGAATGTTCCCAATAGTAGACATAAAAGTCTTCGCACAGTGAAAACTAAAATGGATCAAGCAGATGATG\",\n",
    "    \"TTCTTCAGAAGCTCCACCCTATAATTCTGAACCTGCAGAAGAATCTGAACATAAAAACAACAATTACGAACCAAACCTATTTAAAACTCCACAAAGGAAA\",\n",
    "    \"TGCCTATTGGATCCAAAGAGAGGCCAACATTTTTTGAAATTTTTAAGACACGCTGCAACAAAGCAGATTTAGGACCAATAAGTCTTAATTGGTTTGAAGA\",\n",
    "    \"CTCCACAAAGGAAACCATCTTATAATCAGCTGGCTTCAACTCCAATAATATTCAAAGAGCAAGGGCTGACTCTGCCGCTGTACCAATCTCCTGTAAAAGA\",\n",
    "    \"CAACATTTTTTGAAATTTTTAAGACACGCTGCAACAAAGCAGATTTAGGACCAATAAGTCTTAATTGGTTTGAAGAACTTTCTTCAGAAGCTCCACCCTA\",\n",
    "    \"GGCTGACTCTGCCGCTGTACCAATCTCCTGTAAAAGAATTAGATAAATTCAAATTAGACTTAGGAAGGAATGTTCCCAATAGTAGACATAAAAGTCTTCG\",\n",
    "    \"CAAAGAGAGGCCAACATTTTTTGAAATTTTTAAGACACGCTGCAACAAAGCAGATTTAGGACCAATAAGTCTTAATTGGTTTGAAGAACTTTCTTCAGAA\",\n",
    "    \"AGCAAGGGCTGACTCTGCCGCTGTACCAATCTCCTGTAAAAGAATTAGATAAATTCAAATTAGACTTAGGAAGGAATGTTCCCAATAGTAGACATAAAAG\",\n",
    "    \"TCAGCTGGCTTCAACTCCAATAATATTCAAAGAGCAAGGGCTGACTCTGCCGCTGTACCAATCTCCTGTAAAAGAATTAGATAAATTCAAATTAGACTTA\",\n",
    "    \"AATCTCCTGTAAAAGAATTAGATAAATTCAAATTAGACTTAGGAAGGAATGTTCCCAATAGTAGACATAAAAGTCTTCGCACAGTGAAAACTAAAATGGA\",\n",
    "    \"ATGCCTATTGGATCCAAAGAGAGGCCAACATTTTTTGAAATTTTTAAGACACGCTGCAACAAAGCAGATTTAGGACCAATAAGTCTTAATTGGTTTGAAG\",\n",
    "    \"GAATGTTCCCAATAGTAGACATAAAAGTCTTCGCACAGTGAAAACTAAAATGGATCAAGCAGATGATGTTTCCTGTCCACTTCTAAATTCTTGTCTTAGT\"\n",
    "]"
   ]
  },
  {
   "cell_type": "code",
   "execution_count": null,
   "metadata": {},
   "outputs": [],
   "source": [
    "def edit_distance(queryA, queryB):\n",
    "    if queryA == queryB:\n",
    "        return 0\n",
    "    \n",
    "    return 1\n",
    "    \n",
    "assert edit_distance('A', 'T') == 1\n",
    "assert edit_distance('G', 'G') == 0"
   ]
  },
  {
   "cell_type": "code",
   "execution_count": null,
   "metadata": {},
   "outputs": [],
   "source": [
    "def merge(fragA, fragB):\n",
    "    return fragA + fragB\n",
    "    \n",
    "assert merge(\"\", \"ATG\") == \"ATG\"\n",
    "assert merge(\"ATG\", \"\") == \"ATG\"\n",
    "assert merge(\"ATG\", \"CCT\") == \"ATGCCT\"\n",
    "assert merge(\"A\", \"TG\") == \"ATG\""
   ]
  },
  {
   "cell_type": "code",
   "execution_count": null,
   "metadata": {},
   "outputs": [],
   "source": [
    "def set_value_in_matrix(row, column, matrix, value):\n",
    "    matrix[row][column] = value\n",
    "    return matrix\n",
    "\n",
    "def get_value_from_matrix(row, column, matrix):\n",
    "    return matrix[row][column]\n",
    "    \n",
    "m = [[0, 1, 2], [3, 4, 5], [6, 7, 8]]\n",
    "assert get_value_from_matrix(0, 1, set_value_in_matrix(0, 1, m, 5)) == 5\n",
    "assert get_value_from_matrix(2, 0, set_value_in_matrix(2, 0, m, 81)) == 81\n",
    "assert get_value_from_matrix(2, 2, set_value_in_matrix(2, 2, m, 112)) == 112"
   ]
  },
  {
   "cell_type": "code",
   "execution_count": null,
   "metadata": {},
   "outputs": [],
   "source": [
    "def create_matrix(inputA, inputB):\n",
    "    row = [0] * (len(inputB) + 1)\n",
    "    m = []\n",
    "    for _ in range(len(inputA) + 1):\n",
    "        m.append(row.copy())\n",
    "    \n",
    "    return m\n",
    "\n",
    "assert create_matrix('','') == [[0]]\n",
    "assert create_matrix('dn', 'a') == [[0, 0], [0, 0], [0, 0]]"
   ]
  },
  {
   "cell_type": "code",
   "execution_count": null,
   "metadata": {},
   "outputs": [],
   "source": [
    "def init_matrix(inputA, inputB):\n",
    "    m = create_matrix(inputA, inputB)\n",
    "    rows = len(inputA) + 1\n",
    "    cols = len(inputB) + 1\n",
    "    \n",
    "    for i in range(rows):\n",
    "        m[i][0] = i\n",
    "        \n",
    "    for j in range(cols):\n",
    "        m[0][j] = j\n",
    "    \n",
    "    return m\n",
    "\n",
    "assert init_matrix('', '') == [[0]]\n",
    "assert init_matrix('dn', 'a') == [[0, 1], [1, 0], [2, 0]]"
   ]
  },
  {
   "cell_type": "code",
   "execution_count": null,
   "metadata": {},
   "outputs": [],
   "source": [
    "def edit_distance(queryA, queryB):\n",
    "    m = init_matrix(queryA, queryB)\n",
    "    rows = len(queryA) + 1\n",
    "    cols = len(queryB) + 1\n",
    "\n",
    "    for col in range(1, cols):\n",
    "        for row in range(1, rows):\n",
    "            if queryA[row - 1] == queryB[col - 1]:\n",
    "                cost = 0\n",
    "            else:\n",
    "                cost = 1\n",
    "            \n",
    "            m[row][col] = min([m[row-1][col-1] + cost,\n",
    "                               m[row][col - 1] + 1,\n",
    "                               m[row - 1][col] + 1\n",
    "                              ])\n",
    "            \n",
    "    return m[-1][-1]\n",
    "\n",
    "assert edit_distance('A', 'T') == 1\n",
    "assert edit_distance('G', 'G') == 0\n",
    "assert edit_distance('kitten', 'sitting') == 3\n",
    "assert edit_distance('', '') == 0\n",
    "assert edit_distance('ABCD', 'EFGH') == 4\n",
    "assert edit_distance('ABCD', 'ZBCZ') == 2"
   ]
  },
  {
   "cell_type": "code",
   "execution_count": null,
   "metadata": {},
   "outputs": [],
   "source": [
    "def sequence_identity(top, bottom):\n",
    "    identity = 0\n",
    "    for t, b in zip(top, bottom):\n",
    "        if t == b:\n",
    "            identity += 1\n",
    "        \n",
    "    return identity\n",
    "\n",
    "assert sequence_identity(\"\", \"\") == 0\n",
    "assert sequence_identity(\"A\", \"A\") == 1\n",
    "assert sequence_identity(\"A\", \"T\") == 0\n",
    "assert sequence_identity(\"ATGC\", \"CGTA\") == 0\n",
    "assert sequence_identity(\"ATGC\", \"ATGC\") == 4\n",
    "assert sequence_identity(\"-AA-TG-C\", \"AA-TTGGG\") == 3"
   ]
  },
  {
   "cell_type": "code",
   "execution_count": null,
   "metadata": {},
   "outputs": [],
   "source": [
    "def merge(top, bottom):\n",
    "    merged = \"\"\n",
    "    for t, b in zip(top, bottom):\n",
    "        if t == \"-\":\n",
    "            merged += b\n",
    "        else:\n",
    "            merged += t\n",
    "            \n",
    "    return merged\n",
    "\n",
    "assert merge(\"A\", \"A\") == \"A\"\n",
    "assert merge(\"A\", \"T\") == \"A\" or merge(\"A\", \"T\") == \"T\"\n",
    "assert merge(\"-A\", \"T-\") == \"TA\""
   ]
  },
  {
   "cell_type": "code",
   "execution_count": null,
   "metadata": {},
   "outputs": [],
   "source": [
    "from project import align, needleman_wunsch, score\n",
    "\n",
    "def assemble(frags):\n",
    "    n = len(frags)\n",
    "\n",
    "    for _ in range(n - 1):\n",
    "        # Generate all possible alignments\n",
    "        # Generate each alignment with align(frag1, frag2, needleman_wunsch)\n",
    "        alignments = {}\n",
    "        for i, frag1 in enumerate(frags):\n",
    "            for j in range(i + 1, len(frags)):\n",
    "                frag2 = frags[j]\n",
    "                alignments[(i, j)] = align(frag1, frag2, needleman_wunsch)\n",
    "        \n",
    "        # Pick the \"best\" alignment\n",
    "        best_i, best_j = max(alignments, key=lambda k: score(alignments[k]))\n",
    "        best = alignments[(best_i, best_j)]\n",
    "        \n",
    "        # Merge the best alignment into a contig\n",
    "        contig = merge(best[0], best[1])\n",
    "        \n",
    "        # Remove fragments from best from alignments\n",
    "        frags.pop(best_j)\n",
    "        frags.pop(best_i)\n",
    "        \n",
    "        # Add contig to alignments\n",
    "        frags.append(contig)\n",
    "        \n",
    "    return frags[0]\n",
    "\n",
    "sequence = assemble(fragments.copy())\n",
    "sequence"
   ]
  },
  {
   "cell_type": "code",
   "execution_count": null,
   "metadata": {},
   "outputs": [],
   "source": [
    "%matplotlib inline\n",
    "import matplotlib.pyplot as plt\n",
    "\n",
    "frequency = [0] * len(sequence)\n",
    "for fragment in fragments:\n",
    "    alignment = align(sequence, fragment, needleman_wunsch)\n",
    "    for i, a in enumerate(alignment[1]):\n",
    "        if a != '-':\n",
    "            frequency[i] += 1\n",
    "\n",
    "plt.bar(range(len(sequence)), frequency)"
   ]
  },
  {
   "cell_type": "markdown",
   "metadata": {},
   "source": [
    "## Blast search parameters\n",
    "\n",
    "![BLAST parameters](images/blast_search.png)\n",
    "\n",
    "## Search results\n",
    "\n",
    "![BLAST results](images/blast_results.png)"
   ]
  },
  {
   "cell_type": "code",
   "execution_count": null,
   "metadata": {},
   "outputs": [],
   "source": []
  }
 ],
 "metadata": {
  "kernelspec": {
   "display_name": "Python 3",
   "language": "python",
   "name": "python3"
  },
  "language_info": {
   "codemirror_mode": {
    "name": "ipython",
    "version": 3
   },
   "file_extension": ".py",
   "mimetype": "text/x-python",
   "name": "python",
   "nbconvert_exporter": "python",
   "pygments_lexer": "ipython3",
   "version": "3.7.9"
  }
 },
 "nbformat": 4,
 "nbformat_minor": 4
}
