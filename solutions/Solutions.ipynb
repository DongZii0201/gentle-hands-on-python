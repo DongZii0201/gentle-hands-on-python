{
 "cells": [
  {
   "cell_type": "markdown",
   "metadata": {},
   "source": [
    "# Solutions"
   ]
  },
  {
   "cell_type": "markdown",
   "metadata": {},
   "source": [
    "---\n",
    "### 2.6.1 Exercises\n",
    "\n",
    "Write a program where you ask for a number, convert it to an integer, and print out in a formatted string what your number is.\n",
    "\n",
    "---"
   ]
  },
  {
   "cell_type": "code",
   "execution_count": 1,
   "metadata": {},
   "outputs": [
    {
     "name": "stdout",
     "output_type": "stream",
     "text": [
      "Give me a number:5\n",
      "My number in integer form is 5\n"
     ]
    }
   ],
   "source": [
    "myFloatString = input(\"Give me a number:\")\n",
    "myInteger = int(float(myFloatString))\n",
    "print(\"My number in integer form is\", myInteger)"
   ]
  },
  {
   "cell_type": "markdown",
   "metadata": {},
   "source": [
    "---\n",
    "\n",
    "### Extra exercise 2.6.1-1\n",
    "Write a program that prints fractional part (numbers after the decimal point) of an input number\n",
    "\n",
    "---"
   ]
  },
  {
   "cell_type": "code",
   "execution_count": 2,
   "metadata": {},
   "outputs": [
    {
     "name": "stdout",
     "output_type": "stream",
     "text": [
      "Give me a number:5.5\n",
      "0.5\n"
     ]
    }
   ],
   "source": [
    "myNumber = float(input(\"Give me a number:\"))\n",
    "intPart = int(myNumber)\n",
    "print(myNumber - intPart)"
   ]
  },
  {
   "cell_type": "markdown",
   "metadata": {},
   "source": [
    "---\n",
    "\n",
    "### Extra exercise 2.6.1-2\n",
    "Write a program that computes the area of a circle with radius given by the user.\n",
    "\n",
    "---"
   ]
  },
  {
   "cell_type": "code",
   "execution_count": 5,
   "metadata": {},
   "outputs": [
    {
     "name": "stdout",
     "output_type": "stream",
     "text": [
      "Radius of a circle:2.5\n",
      "Area: 19.634954084936208\n"
     ]
    }
   ],
   "source": [
    "from math import pi\n",
    "radius = float(input(\"Radius of a circle:\"))\n",
    "print(\"Area:\", pi * (radius ** 2))"
   ]
  },
  {
   "cell_type": "markdown",
   "metadata": {},
   "source": [
    "---\n",
    "### 2.6.2 Exercises\n",
    "\n",
    "See what happens if you try to print a float as an integer, and an integer as a string. \n",
    "\n",
    "---"
   ]
  },
  {
   "cell_type": "code",
   "execution_count": 6,
   "metadata": {},
   "outputs": [
    {
     "name": "stdout",
     "output_type": "stream",
     "text": [
      "My float as integer 11\n",
      "My integer as string 12\n"
     ]
    }
   ],
   "source": [
    "myFloat = 11.4\n",
    "print(\"My float as integer\", int(myFloat))\n",
    "#This works\n",
    "\n",
    "myInt  = 12\n",
    "print(\"My integer as string\", str(myInt))\n",
    "#This works as well... but:\n",
    "\n",
    "myString = \"aa\"\n",
    "#print(\"My string as float\", float(myString))\n",
    "#will fail and give a TypeError - Python cannot convert \"aa\" into a float."
   ]
  },
  {
   "cell_type": "markdown",
   "metadata": {},
   "source": [
    "---\n",
    "\n",
    "### 2.7.1 Exercise\n",
    "Can you compare strings? What does it mean for one string to be less than another string? What does the following expression evaluate to and why?"
   ]
  },
  {
   "cell_type": "code",
   "execution_count": 1,
   "metadata": {},
   "outputs": [
    {
     "data": {
      "text/plain": [
       "True"
      ]
     },
     "execution_count": 1,
     "metadata": {},
     "output_type": "execute_result"
    }
   ],
   "source": [
    "\"three\" > \"six\""
   ]
  },
  {
   "cell_type": "markdown",
   "metadata": {},
   "source": [
    "Strings **can** be compared. It is clear you might want to check if 2 strings are the same, e.g.\n",
    "```python\n",
    "\"ATGC\" == \"ATTC\"\n",
    "```\n",
    "Strings are compared **alphabetically**, `'t'` is later in the alphabet than `'s'` so `'t' > 's'`."
   ]
  },
  {
   "cell_type": "markdown",
   "metadata": {},
   "source": [
    "----\n",
    "## 3.2.1 Exercise\n",
    "\n",
    "Mimic the following output of an aligner. Do this by playing around with the whitespaces in the lay-out options. \n",
    "\n",
    "```\n",
    "Uniquely mapped reads number |  5538917\n",
    "     Uniquely mapped reads % |    86.29\n",
    "```"
   ]
  },
  {
   "cell_type": "code",
   "execution_count": 6,
   "metadata": {},
   "outputs": [
    {
     "name": "stdout",
     "output_type": "stream",
     "text": [
      "  Uniquely mapped reads number |    5538917\n",
      "       Uniquely mapped reads % |      86.29\n"
     ]
    }
   ],
   "source": [
    "string1 = \"Uniquely mapped reads number\"\n",
    "string2 = \"Uniquely mapped reads %\"\n",
    "\n",
    "number1 = 5538917\n",
    "number2 = 86.293485\n",
    "\n",
    "print(f\"{string1:>30} | {number1:>10}\")\n",
    "print(f\"{string2:>30} | {number2:>10.2f}\")"
   ]
  },
  {
   "cell_type": "markdown",
   "metadata": {},
   "source": [
    "\n",
    "---\n",
    "### 4.3.1 Exercise\n",
    "\n",
    "Write a program where you ask the user for x and y, make sure that y is not zero, and print out x/y. \n",
    "\n",
    "---"
   ]
  },
  {
   "cell_type": "code",
   "execution_count": 11,
   "metadata": {},
   "outputs": [
    {
     "name": "stdout",
     "output_type": "stream",
     "text": [
      "Give a number: 5\n",
      "Give another number that is not zero: 3\n",
      "x divided by y = 1.67\n"
     ]
    }
   ],
   "source": [
    "# Write a program where you ask the user for x and y, make sure that y is not zero, and print out x/y. \n",
    "\n",
    "xString = input(\"Give a number: \")\n",
    "yString = input(\"Give another number that is not zero: \")\n",
    "\n",
    "x = float(xString)\n",
    "y = float(yString)\n",
    "\n",
    "if y == 0:\n",
    "    print(\"Error, you're y-number is 0\")\n",
    "if y != 0:\n",
    "    result = x/y\n",
    "    print(f\"x divided by y = {result:.2f}\")"
   ]
  },
  {
   "cell_type": "markdown",
   "metadata": {},
   "source": [
    "---\n",
    "\n",
    "### Extra exercise 4.3.1-1\n",
    "Write a program that asks the user for a number, then prints whether the number is even or odd.\n",
    "\n",
    "---"
   ]
  },
  {
   "cell_type": "code",
   "execution_count": null,
   "metadata": {},
   "outputs": [],
   "source": [
    "num = int(input(\"Number?\"))\n",
    "if (num % 2) == 0: #Even\n",
    "    print(\"Even\")\n",
    "else:\n",
    "    print(\"Odd\")"
   ]
  },
  {
   "cell_type": "markdown",
   "metadata": {},
   "source": [
    "---\n",
    "\n",
    "### Extra exercise 4.3.1-1\n",
    "Write a program that checks if a string is longer than a certain length, if it is, the string should be\n",
    "truncated and display ellipses (\"...\") as the last 3 characters. The truncated string + the ellipses should\n",
    "fit within the given length.\n",
    "    \n",
    "---"
   ]
  },
  {
   "cell_type": "code",
   "execution_count": null,
   "metadata": {},
   "outputs": [],
   "source": [
    "max_len = 10\n",
    "string = input(\"?\")\n",
    "\n",
    "if len(string) > max_len:\n",
    "    print(f\"{string[:max_len-3]}...\")\n",
    "else:\n",
    "    print(string)"
   ]
  },
  {
   "cell_type": "markdown",
   "metadata": {},
   "source": [
    "\n",
    "---\n",
    "### 4.4.1 Exercise\n",
    "\n",
    "Write a program where you ask the user for two words. Compare the words; if they are the same, print a message, if the first or second word is 'Stop', then also print a message. \n",
    "\n",
    "---"
   ]
  },
  {
   "cell_type": "code",
   "execution_count": null,
   "metadata": {},
   "outputs": [],
   "source": [
    "# Write a program where you ask the user for two words. Compare the words; if they are the same, print a message, if the first or second word is 'Stop', then also print a message.\n",
    "print(\"Give two words.\")\n",
    "firstWord = input(\"Write a word: \")\n",
    "secondWord = input(\"Write another word: \")\n",
    "\n",
    "if firstWord.lower() == 'stop':\n",
    "    print('First word is stop, so we stopped')\n",
    "elif secondWord.lower() == 'stop':\n",
    "    print('Second word is stop, so we stopped')\n",
    "elif firstWord.lower() == secondWord.lower():\n",
    "    print('Both words are the same')"
   ]
  },
  {
   "cell_type": "markdown",
   "metadata": {},
   "source": [
    "---\n",
    "### 4.4.2 Exercise\n",
    "\n",
    "Modify the code above so it prints that it is divisible by two and three when this is the case.\n",
    "\n",
    "---"
   ]
  },
  {
   "cell_type": "code",
   "execution_count": 3,
   "metadata": {},
   "outputs": [
    {
     "name": "stdout",
     "output_type": "stream",
     "text": [
      "x is not divisible by two, nor by three...\n",
      "x=13\n"
     ]
    }
   ],
   "source": [
    "# Solution with if-elif-else structure. \n",
    "x = 13\n",
    "\n",
    "if (x % 2) == 0 and (x % 3) == 0:\n",
    "    print(\"x is divisible by two and three!\")\n",
    "elif (x % 2) == 0:\n",
    "    print(\"x is divisible by two!\")\n",
    "elif (x % 3) == 0:\n",
    "    print(\"x is divisible by three!\")\n",
    "else:\n",
    "    print(\"x is not divisible by two, nor by three...\")\n",
    "\n",
    "print (f\"x={x}\")"
   ]
  },
  {
   "cell_type": "code",
   "execution_count": 2,
   "metadata": {},
   "outputs": [
    {
     "name": "stdout",
     "output_type": "stream",
     "text": [
      "x is divisible by two!\n",
      "x is divisible by three!\n",
      "x=12\n"
     ]
    }
   ],
   "source": [
    "# Solution with nested if structures\n",
    "x = 12\n",
    " \n",
    "if (x % 2) == 0:\n",
    "    print(\"x is divisible by two!\")\n",
    "    if (x % 3) == 0:\n",
    "        print(\"x is divisible by three!\")\n",
    "elif (x % 3) == 0:\n",
    "    print(\"x is divisible by three!\")\n",
    "else:\n",
    "    print(\"x is not divisible by two or three...\")\n",
    "\n",
    "print (f\"x={x}\")"
   ]
  },
  {
   "cell_type": "markdown",
   "metadata": {},
   "source": [
    "---\n",
    "### 5.2.2 Exercise\n",
    "\n",
    "Take the list [54,56,2,1,5223,6,23,57,3,7,3344], sort it in reverse order (largest value first) and print out the third value.\n",
    "\n",
    "---"
   ]
  },
  {
   "cell_type": "code",
   "execution_count": null,
   "metadata": {},
   "outputs": [],
   "source": [
    "# Take the list [54,56,2,1,5223,6,23,57,3,7,3344], sort it in reverse order (largest value first) and print out the third value.\n",
    "myList = [54,56,2,1,5223,6,23,57,3,7,3344]\n",
    "\n",
    "myList.sort()\n",
    "myList.reverse()\n",
    "\n",
    "print(myList[2])\n",
    "#The first element is at index 0, the third at index 3!"
   ]
  },
  {
   "cell_type": "markdown",
   "metadata": {},
   "source": [
    "---\n",
    "\n",
    "### Extra Exercise 5.2.2-1\n",
    "\n",
    "You're given a list containing some names and a corresponding list containing their rank by popularity.\n",
    "Print your name in capital letters if your name is in the list **and** in the top 20 most popular names,\n",
    "otherwise if your name is in the list and **not** in the 20 most popular names, print your name backwards.\n",
    "Otherwise, just print your name followed by the string, `\"is great at Python!\"`. \n",
    "\n",
    "---"
   ]
  },
  {
   "cell_type": "code",
   "execution_count": 14,
   "metadata": {},
   "outputs": [
    {
     "name": "stdout",
     "output_type": "stream",
     "text": [
      "ruuT\n"
     ]
    }
   ],
   "source": [
    "names = [\"Marie\", \"Lucas\", \"Viktor\", \"Elise\", \"Lotte\", \"Hugo\", \"Emma\", \"Elena\", \"Julia\", \"Maxime\", \"Alexander\", \"Tuur\"]\n",
    "rank =  [7,       6,       65,       14,      46,      15,     1,      7,       26,      37,       36,          73]\n",
    "\n",
    "my_name = \"Tuur\"\n",
    "\n",
    "if my_name in names:\n",
    "    name_index = names.index(my_name)\n",
    "    my_name_rank = rank[name_index]\n",
    "    if my_name_rank <= 20:\n",
    "        print(my_name.upper())\n",
    "    else:\n",
    "        print(my_name[::-1])\n",
    "else:\n",
    "    print(f\"{my_name} is great at Python!\")"
   ]
  },
  {
   "cell_type": "markdown",
   "metadata": {},
   "source": [
    "---\n",
    "\n",
    "### Extra Exercise 5.2.2-2\n",
    "You're given a list containing some data. Each element of the list is another list containing 2 values:\n",
    "the name of a country, and the average number of citations per citable document produced within that country.\n",
    "Print the name of the country with the second highest number of average citations.\n",
    "\n",
    "---"
   ]
  },
  {
   "cell_type": "code",
   "execution_count": 2,
   "metadata": {},
   "outputs": [
    {
     "name": "stdout",
     "output_type": "stream",
     "text": [
      "Federated States of Micronesia\n"
     ]
    }
   ],
   "source": [
    "data = [['Netherlands Antilles', 34.59],\n",
    "        ['Tokelau', 48.11],\n",
    "        ['Seychelles', 31.62],\n",
    "        ['Anguilla', 90.99],\n",
    "        ['Saint Lucia', 35.43],\n",
    "        ['Panama', 35.92],\n",
    "        ['Bermuda', 42.25],\n",
    "        ['Federated States of Micronesia', 59.29],\n",
    "        ['Gambia', 40.96],\n",
    "        ['Belize', 39.62]]\n",
    "from operator import itemgetter\n",
    "data.sort(key=itemgetter(1), reverse=True)\n",
    "print(data[1][0])"
   ]
  },
  {
   "cell_type": "markdown",
   "metadata": {},
   "source": [
    "---\n",
    "### 5.3.1 Exercise\n",
    "\n",
    "Start with the tuple ('a','B','c','D','e','F'), sort it, take the fourth value out, and print the result.\n",
    "\n",
    "---"
   ]
  },
  {
   "cell_type": "code",
   "execution_count": 16,
   "metadata": {},
   "outputs": [
    {
     "name": "stdout",
     "output_type": "stream",
     "text": [
      "Removing a\n",
      "Result is ('B', 'D', 'F', 'c', 'e')\n",
      "Result is ['B', 'D', 'F', 'c', 'e']\n"
     ]
    }
   ],
   "source": [
    "# Start with the tuple ('a','B','c','D','e','F'), sort it, take the fourth value out, and print the result.\n",
    "myTuple = ('a','B','c','D','e','F')\n",
    "myList = list(myTuple)\n",
    "myList.sort()\n",
    "#print(myList)\n",
    "\n",
    "print (f\"Removing {myList.pop(3)}\")\n",
    "print (f\"Result is {tuple(myList)}\")\n",
    "print (f\"Result is {myList}\")"
   ]
  },
  {
   "cell_type": "markdown",
   "metadata": {},
   "source": [
    "---\n",
    "\n",
    "### Extra Exercise 5.3.1-1\n",
    "Again, starting with the tuple, `('a','B','c','D','e','F')` sort only the values excluding the first and last elements\n",
    "(so sort 'B', 'c', 'D', 'e') then print the result including the first and last elements.\n",
    "This should look like: `('a', ...sorted middle.., 'F')`.\n",
    "\n",
    "---"
   ]
  },
  {
   "cell_type": "code",
   "execution_count": 22,
   "metadata": {},
   "outputs": [
    {
     "data": {
      "text/plain": [
       "('a', 'B', 'D', 'c', 'F')"
      ]
     },
     "execution_count": 22,
     "metadata": {},
     "output_type": "execute_result"
    }
   ],
   "source": [
    "myTuple = ('a','B','c','D','e','F')\n",
    "sortThis = list(myTuple[1:-2])\n",
    "sortThis.sort()\n",
    "tuple([myTuple[0]] + sortThis + [myTuple[-1]])"
   ]
  },
  {
   "cell_type": "markdown",
   "metadata": {},
   "source": [
    "---\n",
    "### 5.4.1 Exercise\n",
    "\n",
    "Ask the user for two words, then check whether they are the same (upper or lower case should not matter),if not check whether they have the same first letter (again case should not matter). If not, then print their length. \n",
    "\n",
    "---"
   ]
  },
  {
   "cell_type": "code",
   "execution_count": 17,
   "metadata": {},
   "outputs": [
    {
     "name": "stdout",
     "output_type": "stream",
     "text": [
      "Give first word:fjdkmq\n",
      "Give second word:jdqs\n",
      "6\n",
      "Word lengths are 6 and 4\n"
     ]
    }
   ],
   "source": [
    "# Ask the user for two words, then check whether they are the same (upper or lower case should not matter),if not check whether they have the same first letter (again case should not matter). If not, then print their length. \n",
    "firstWord = input(\"Give first word:\")\n",
    "secondWord = input(\"Give second word:\")\n",
    "\n",
    "if firstWord.upper() == secondWord.upper():\n",
    "    print(\"Words are the same (ignoring case).\")\n",
    "elif firstWord[0].upper() == secondWord[0].upper():\n",
    "    print(\"Words share the same first letter (ignoring case).\")\n",
    "else:\n",
    "    print(f\"Word lengths are {len(firstWord)} and {len(secondWord)}\")"
   ]
  },
  {
   "cell_type": "markdown",
   "metadata": {},
   "source": [
    "---\n",
    "### 5.5.1 Exercise\n",
    "\n",
    "Which letters are shared between the words \"perspicacious\" and \"circumlocution\"?\n",
    "\n",
    "---"
   ]
  },
  {
   "cell_type": "code",
   "execution_count": null,
   "metadata": {},
   "outputs": [],
   "source": []
  },
  {
   "cell_type": "markdown",
   "metadata": {},
   "source": [
    "---\n",
    "### 6.2.3 Exercise\n",
    "\n",
    "Write a program where you print out all positive numbers up to 1000 that can be divided by 13, or 17, or both. \n",
    "The output should be printed as : `Number 13 is divisible by 13`, or `Number 884 is divisible by 13 and 17`. \n",
    "Iterate through the list of numbers and the dividers by using (two) for-loops; one for the numbers and one for the dividers.\n",
    "\n",
    "---"
   ]
  },
  {
   "cell_type": "code",
   "execution_count": 18,
   "metadata": {},
   "outputs": [
    {
     "name": "stdout",
     "output_type": "stream",
     "text": [
      "Number 13 is divisible by 13\n",
      "Number 17 is divisible by 17\n",
      "Number 26 is divisible by 13\n",
      "Number 34 is divisible by 17\n",
      "Number 39 is divisible by 13\n",
      "Number 51 is divisible by 17\n",
      "Number 52 is divisible by 13\n",
      "Number 65 is divisible by 13\n",
      "Number 68 is divisible by 17\n",
      "Number 78 is divisible by 13\n",
      "Number 85 is divisible by 17\n",
      "Number 91 is divisible by 13\n",
      "Number 102 is divisible by 17\n",
      "Number 104 is divisible by 13\n",
      "Number 117 is divisible by 13\n",
      "Number 119 is divisible by 17\n",
      "Number 130 is divisible by 13\n",
      "Number 136 is divisible by 17\n",
      "Number 143 is divisible by 13\n",
      "Number 153 is divisible by 17\n",
      "Number 156 is divisible by 13\n",
      "Number 169 is divisible by 13\n",
      "Number 170 is divisible by 17\n",
      "Number 182 is divisible by 13\n",
      "Number 187 is divisible by 17\n",
      "Number 195 is divisible by 13\n",
      "Number 204 is divisible by 17\n",
      "Number 208 is divisible by 13\n",
      "Number 221 is divisible by 13 and 17\n",
      "Number 234 is divisible by 13\n",
      "Number 238 is divisible by 17\n",
      "Number 247 is divisible by 13\n",
      "Number 255 is divisible by 17\n",
      "Number 260 is divisible by 13\n",
      "Number 272 is divisible by 17\n",
      "Number 273 is divisible by 13\n",
      "Number 286 is divisible by 13\n",
      "Number 289 is divisible by 17\n",
      "Number 299 is divisible by 13\n",
      "Number 306 is divisible by 17\n",
      "Number 312 is divisible by 13\n",
      "Number 323 is divisible by 17\n",
      "Number 325 is divisible by 13\n",
      "Number 338 is divisible by 13\n",
      "Number 340 is divisible by 17\n",
      "Number 351 is divisible by 13\n",
      "Number 357 is divisible by 17\n",
      "Number 364 is divisible by 13\n",
      "Number 374 is divisible by 17\n",
      "Number 377 is divisible by 13\n",
      "Number 390 is divisible by 13\n",
      "Number 391 is divisible by 17\n",
      "Number 403 is divisible by 13\n",
      "Number 408 is divisible by 17\n",
      "Number 416 is divisible by 13\n",
      "Number 425 is divisible by 17\n",
      "Number 429 is divisible by 13\n",
      "Number 442 is divisible by 13 and 17\n",
      "Number 455 is divisible by 13\n",
      "Number 459 is divisible by 17\n",
      "Number 468 is divisible by 13\n",
      "Number 476 is divisible by 17\n",
      "Number 481 is divisible by 13\n",
      "Number 493 is divisible by 17\n",
      "Number 494 is divisible by 13\n",
      "Number 507 is divisible by 13\n",
      "Number 510 is divisible by 17\n",
      "Number 520 is divisible by 13\n",
      "Number 527 is divisible by 17\n",
      "Number 533 is divisible by 13\n",
      "Number 544 is divisible by 17\n",
      "Number 546 is divisible by 13\n",
      "Number 559 is divisible by 13\n",
      "Number 561 is divisible by 17\n",
      "Number 572 is divisible by 13\n",
      "Number 578 is divisible by 17\n",
      "Number 585 is divisible by 13\n",
      "Number 595 is divisible by 17\n",
      "Number 598 is divisible by 13\n",
      "Number 611 is divisible by 13\n",
      "Number 612 is divisible by 17\n",
      "Number 624 is divisible by 13\n",
      "Number 629 is divisible by 17\n",
      "Number 637 is divisible by 13\n",
      "Number 646 is divisible by 17\n",
      "Number 650 is divisible by 13\n",
      "Number 663 is divisible by 13 and 17\n",
      "Number 676 is divisible by 13\n",
      "Number 680 is divisible by 17\n",
      "Number 689 is divisible by 13\n",
      "Number 697 is divisible by 17\n",
      "Number 702 is divisible by 13\n",
      "Number 714 is divisible by 17\n",
      "Number 715 is divisible by 13\n",
      "Number 728 is divisible by 13\n",
      "Number 731 is divisible by 17\n",
      "Number 741 is divisible by 13\n",
      "Number 748 is divisible by 17\n",
      "Number 754 is divisible by 13\n",
      "Number 765 is divisible by 17\n",
      "Number 767 is divisible by 13\n",
      "Number 780 is divisible by 13\n",
      "Number 782 is divisible by 17\n",
      "Number 793 is divisible by 13\n",
      "Number 799 is divisible by 17\n",
      "Number 806 is divisible by 13\n",
      "Number 816 is divisible by 17\n",
      "Number 819 is divisible by 13\n",
      "Number 832 is divisible by 13\n",
      "Number 833 is divisible by 17\n",
      "Number 845 is divisible by 13\n",
      "Number 850 is divisible by 17\n",
      "Number 858 is divisible by 13\n",
      "Number 867 is divisible by 17\n",
      "Number 871 is divisible by 13\n",
      "Number 884 is divisible by 13 and 17\n",
      "Number 897 is divisible by 13\n",
      "Number 901 is divisible by 17\n",
      "Number 910 is divisible by 13\n",
      "Number 918 is divisible by 17\n",
      "Number 923 is divisible by 13\n",
      "Number 935 is divisible by 17\n",
      "Number 936 is divisible by 13\n",
      "Number 949 is divisible by 13\n",
      "Number 952 is divisible by 17\n",
      "Number 962 is divisible by 13\n",
      "Number 969 is divisible by 17\n",
      "Number 975 is divisible by 13\n",
      "Number 986 is divisible by 17\n",
      "Number 988 is divisible by 13\n"
     ]
    }
   ],
   "source": [
    "numbers = range(1,1001)\n",
    "dividers = [13,17]\n",
    "\n",
    "for number in numbers:\n",
    "    validDividers = []\n",
    "    for divider in dividers:\n",
    "        if number % divider == 0:\n",
    "            validDividers.append(divider)\n",
    "\n",
    "    if len(validDividers) == 1:\n",
    "        print(f\"Number {number} is divisible by {validDividers[0]}\")\n",
    "    elif len(validDividers) == 2:\n",
    "        print(f\"Number {number} is divisible by {validDividers[0]} and {validDividers[1]}\") "
   ]
  },
  {
   "cell_type": "markdown",
   "metadata": {},
   "source": [
    "---\n",
    "### 6.2.4 Exercise\n",
    "\n",
    "Write a program where you find, for each positive number up to 50, all numbers that can divide each number. E.g. 16 can be divided by 1, 2, 4, 8 and 16. 17 can be divided by... \n",
    "\n",
    "It's fine if you print the output like this: \n",
    "```\n",
    "Number 1 can be divided by 1!\n",
    "Number 2 can be divided by 1!\n",
    "Number 2 can be divided by 2!\n",
    "Number 3 can be divided by 1!\n",
    "```\n",
    "However, you can also try to print the output like this:\n",
    "```\n",
    "Number 4 can be divided by 1, 2, 4!\n",
    "```\n",
    "\n",
    "---"
   ]
  },
  {
   "cell_type": "code",
   "execution_count": 1,
   "metadata": {},
   "outputs": [
    {
     "name": "stdout",
     "output_type": "stream",
     "text": [
      "Number 1 can be divided by 1!\n",
      "Number 2 can be divided by 1!\n",
      "Number 2 can be divided by 2!\n",
      "Number 3 can be divided by 1!\n",
      "Number 3 can be divided by 3!\n",
      "Number 4 can be divided by 1!\n",
      "Number 4 can be divided by 2!\n",
      "Number 4 can be divided by 4!\n",
      "Number 5 can be divided by 1!\n",
      "Number 5 can be divided by 5!\n",
      "Number 6 can be divided by 1!\n",
      "Number 6 can be divided by 2!\n",
      "Number 6 can be divided by 3!\n",
      "Number 6 can be divided by 6!\n",
      "Number 7 can be divided by 1!\n",
      "Number 7 can be divided by 7!\n",
      "Number 8 can be divided by 1!\n",
      "Number 8 can be divided by 2!\n",
      "Number 8 can be divided by 4!\n",
      "Number 8 can be divided by 8!\n",
      "Number 9 can be divided by 1!\n",
      "Number 9 can be divided by 3!\n",
      "Number 9 can be divided by 9!\n",
      "Number 10 can be divided by 1!\n",
      "Number 10 can be divided by 2!\n",
      "Number 10 can be divided by 5!\n",
      "Number 10 can be divided by 10!\n",
      "Number 11 can be divided by 1!\n",
      "Number 11 can be divided by 11!\n",
      "Number 12 can be divided by 1!\n",
      "Number 12 can be divided by 2!\n",
      "Number 12 can be divided by 3!\n",
      "Number 12 can be divided by 4!\n",
      "Number 12 can be divided by 6!\n",
      "Number 12 can be divided by 12!\n",
      "Number 13 can be divided by 1!\n",
      "Number 13 can be divided by 13!\n",
      "Number 14 can be divided by 1!\n",
      "Number 14 can be divided by 2!\n",
      "Number 14 can be divided by 7!\n",
      "Number 14 can be divided by 14!\n",
      "Number 15 can be divided by 1!\n",
      "Number 15 can be divided by 3!\n",
      "Number 15 can be divided by 5!\n",
      "Number 15 can be divided by 15!\n",
      "Number 16 can be divided by 1!\n",
      "Number 16 can be divided by 2!\n",
      "Number 16 can be divided by 4!\n",
      "Number 16 can be divided by 8!\n",
      "Number 16 can be divided by 16!\n",
      "Number 17 can be divided by 1!\n",
      "Number 17 can be divided by 17!\n",
      "Number 18 can be divided by 1!\n",
      "Number 18 can be divided by 2!\n",
      "Number 18 can be divided by 3!\n",
      "Number 18 can be divided by 6!\n",
      "Number 18 can be divided by 9!\n",
      "Number 18 can be divided by 18!\n",
      "Number 19 can be divided by 1!\n",
      "Number 19 can be divided by 19!\n",
      "Number 20 can be divided by 1!\n",
      "Number 20 can be divided by 2!\n",
      "Number 20 can be divided by 4!\n",
      "Number 20 can be divided by 5!\n",
      "Number 20 can be divided by 10!\n",
      "Number 20 can be divided by 20!\n",
      "Number 21 can be divided by 1!\n",
      "Number 21 can be divided by 3!\n",
      "Number 21 can be divided by 7!\n",
      "Number 21 can be divided by 21!\n",
      "Number 22 can be divided by 1!\n",
      "Number 22 can be divided by 2!\n",
      "Number 22 can be divided by 11!\n",
      "Number 22 can be divided by 22!\n",
      "Number 23 can be divided by 1!\n",
      "Number 23 can be divided by 23!\n",
      "Number 24 can be divided by 1!\n",
      "Number 24 can be divided by 2!\n",
      "Number 24 can be divided by 3!\n",
      "Number 24 can be divided by 4!\n",
      "Number 24 can be divided by 6!\n",
      "Number 24 can be divided by 8!\n",
      "Number 24 can be divided by 12!\n",
      "Number 24 can be divided by 24!\n",
      "Number 25 can be divided by 1!\n",
      "Number 25 can be divided by 5!\n",
      "Number 25 can be divided by 25!\n",
      "Number 26 can be divided by 1!\n",
      "Number 26 can be divided by 2!\n",
      "Number 26 can be divided by 13!\n",
      "Number 26 can be divided by 26!\n",
      "Number 27 can be divided by 1!\n",
      "Number 27 can be divided by 3!\n",
      "Number 27 can be divided by 9!\n",
      "Number 27 can be divided by 27!\n",
      "Number 28 can be divided by 1!\n",
      "Number 28 can be divided by 2!\n",
      "Number 28 can be divided by 4!\n",
      "Number 28 can be divided by 7!\n",
      "Number 28 can be divided by 14!\n",
      "Number 28 can be divided by 28!\n",
      "Number 29 can be divided by 1!\n",
      "Number 29 can be divided by 29!\n",
      "Number 30 can be divided by 1!\n",
      "Number 30 can be divided by 2!\n",
      "Number 30 can be divided by 3!\n",
      "Number 30 can be divided by 5!\n",
      "Number 30 can be divided by 6!\n",
      "Number 30 can be divided by 10!\n",
      "Number 30 can be divided by 15!\n",
      "Number 30 can be divided by 30!\n",
      "Number 31 can be divided by 1!\n",
      "Number 31 can be divided by 31!\n",
      "Number 32 can be divided by 1!\n",
      "Number 32 can be divided by 2!\n",
      "Number 32 can be divided by 4!\n",
      "Number 32 can be divided by 8!\n",
      "Number 32 can be divided by 16!\n",
      "Number 32 can be divided by 32!\n",
      "Number 33 can be divided by 1!\n",
      "Number 33 can be divided by 3!\n",
      "Number 33 can be divided by 11!\n",
      "Number 33 can be divided by 33!\n",
      "Number 34 can be divided by 1!\n",
      "Number 34 can be divided by 2!\n",
      "Number 34 can be divided by 17!\n",
      "Number 34 can be divided by 34!\n",
      "Number 35 can be divided by 1!\n",
      "Number 35 can be divided by 5!\n",
      "Number 35 can be divided by 7!\n",
      "Number 35 can be divided by 35!\n",
      "Number 36 can be divided by 1!\n",
      "Number 36 can be divided by 2!\n",
      "Number 36 can be divided by 3!\n",
      "Number 36 can be divided by 4!\n",
      "Number 36 can be divided by 6!\n",
      "Number 36 can be divided by 9!\n",
      "Number 36 can be divided by 12!\n",
      "Number 36 can be divided by 18!\n",
      "Number 36 can be divided by 36!\n",
      "Number 37 can be divided by 1!\n",
      "Number 37 can be divided by 37!\n",
      "Number 38 can be divided by 1!\n",
      "Number 38 can be divided by 2!\n",
      "Number 38 can be divided by 19!\n",
      "Number 38 can be divided by 38!\n",
      "Number 39 can be divided by 1!\n",
      "Number 39 can be divided by 3!\n",
      "Number 39 can be divided by 13!\n",
      "Number 39 can be divided by 39!\n",
      "Number 40 can be divided by 1!\n",
      "Number 40 can be divided by 2!\n",
      "Number 40 can be divided by 4!\n",
      "Number 40 can be divided by 5!\n",
      "Number 40 can be divided by 8!\n",
      "Number 40 can be divided by 10!\n",
      "Number 40 can be divided by 20!\n",
      "Number 40 can be divided by 40!\n",
      "Number 41 can be divided by 1!\n",
      "Number 41 can be divided by 41!\n",
      "Number 42 can be divided by 1!\n",
      "Number 42 can be divided by 2!\n",
      "Number 42 can be divided by 3!\n",
      "Number 42 can be divided by 6!\n",
      "Number 42 can be divided by 7!\n",
      "Number 42 can be divided by 14!\n",
      "Number 42 can be divided by 21!\n",
      "Number 42 can be divided by 42!\n",
      "Number 43 can be divided by 1!\n",
      "Number 43 can be divided by 43!\n",
      "Number 44 can be divided by 1!\n",
      "Number 44 can be divided by 2!\n",
      "Number 44 can be divided by 4!\n",
      "Number 44 can be divided by 11!\n",
      "Number 44 can be divided by 22!\n",
      "Number 44 can be divided by 44!\n",
      "Number 45 can be divided by 1!\n",
      "Number 45 can be divided by 3!\n",
      "Number 45 can be divided by 5!\n",
      "Number 45 can be divided by 9!\n",
      "Number 45 can be divided by 15!\n",
      "Number 45 can be divided by 45!\n",
      "Number 46 can be divided by 1!\n",
      "Number 46 can be divided by 2!\n",
      "Number 46 can be divided by 23!\n",
      "Number 46 can be divided by 46!\n",
      "Number 47 can be divided by 1!\n",
      "Number 47 can be divided by 47!\n",
      "Number 48 can be divided by 1!\n",
      "Number 48 can be divided by 2!\n",
      "Number 48 can be divided by 3!\n",
      "Number 48 can be divided by 4!\n",
      "Number 48 can be divided by 6!\n",
      "Number 48 can be divided by 8!\n",
      "Number 48 can be divided by 12!\n",
      "Number 48 can be divided by 16!\n",
      "Number 48 can be divided by 24!\n",
      "Number 48 can be divided by 48!\n",
      "Number 49 can be divided by 1!\n",
      "Number 49 can be divided by 7!\n",
      "Number 49 can be divided by 49!\n",
      "Number 50 can be divided by 1!\n",
      "Number 50 can be divided by 2!\n",
      "Number 50 can be divided by 5!\n",
      "Number 50 can be divided by 10!\n",
      "Number 50 can be divided by 25!\n",
      "Number 50 can be divided by 50!\n"
     ]
    }
   ],
   "source": [
    "# Write a program where you find, for each positive number up to 50, all numbers that can divide each number. E.g. 16 can be divided by 1, 2, 4, 8 and 16. 17 can be divided by...\n",
    "myNumbers = range(1,51) \n",
    " \n",
    "for x in myNumbers:\n",
    "    dividers = []\n",
    "    for y in range(1, x+1):\n",
    "        if (x % y) == 0:\n",
    "            dividers.append(y)\n",
    " \n",
    "    for divider in dividers:\n",
    "        print (f\"Number {x} can be divided by {divider}!\")"
   ]
  },
  {
   "cell_type": "code",
   "execution_count": 4,
   "metadata": {
    "scrolled": true
   },
   "outputs": [
    {
     "name": "stdout",
     "output_type": "stream",
     "text": [
      "Number 1 can be divided by 1!\n",
      "Number 2 can be divided by 1, 2!\n",
      "Number 3 can be divided by 1, 3!\n",
      "Number 4 can be divided by 1, 2, 4!\n",
      "Number 5 can be divided by 1, 5!\n",
      "Number 6 can be divided by 1, 2, 3, 6!\n",
      "Number 7 can be divided by 1, 7!\n",
      "Number 8 can be divided by 1, 2, 4, 8!\n",
      "Number 9 can be divided by 1, 3, 9!\n",
      "Number 10 can be divided by 1, 2, 5, 10!\n",
      "Number 11 can be divided by 1, 11!\n",
      "Number 12 can be divided by 1, 2, 3, 4, 6, 12!\n",
      "Number 13 can be divided by 1, 13!\n",
      "Number 14 can be divided by 1, 2, 7, 14!\n",
      "Number 15 can be divided by 1, 3, 5, 15!\n",
      "Number 16 can be divided by 1, 2, 4, 8, 16!\n",
      "Number 17 can be divided by 1, 17!\n",
      "Number 18 can be divided by 1, 2, 3, 6, 9, 18!\n",
      "Number 19 can be divided by 1, 19!\n",
      "Number 20 can be divided by 1, 2, 4, 5, 10, 20!\n",
      "Number 21 can be divided by 1, 3, 7, 21!\n",
      "Number 22 can be divided by 1, 2, 11, 22!\n",
      "Number 23 can be divided by 1, 23!\n",
      "Number 24 can be divided by 1, 2, 3, 4, 6, 8, 12, 24!\n",
      "Number 25 can be divided by 1, 5, 25!\n",
      "Number 26 can be divided by 1, 2, 13, 26!\n",
      "Number 27 can be divided by 1, 3, 9, 27!\n",
      "Number 28 can be divided by 1, 2, 4, 7, 14, 28!\n",
      "Number 29 can be divided by 1, 29!\n",
      "Number 30 can be divided by 1, 2, 3, 5, 6, 10, 15, 30!\n",
      "Number 31 can be divided by 1, 31!\n",
      "Number 32 can be divided by 1, 2, 4, 8, 16, 32!\n",
      "Number 33 can be divided by 1, 3, 11, 33!\n",
      "Number 34 can be divided by 1, 2, 17, 34!\n",
      "Number 35 can be divided by 1, 5, 7, 35!\n",
      "Number 36 can be divided by 1, 2, 3, 4, 6, 9, 12, 18, 36!\n",
      "Number 37 can be divided by 1, 37!\n",
      "Number 38 can be divided by 1, 2, 19, 38!\n",
      "Number 39 can be divided by 1, 3, 13, 39!\n",
      "Number 40 can be divided by 1, 2, 4, 5, 8, 10, 20, 40!\n",
      "Number 41 can be divided by 1, 41!\n",
      "Number 42 can be divided by 1, 2, 3, 6, 7, 14, 21, 42!\n",
      "Number 43 can be divided by 1, 43!\n",
      "Number 44 can be divided by 1, 2, 4, 11, 22, 44!\n",
      "Number 45 can be divided by 1, 3, 5, 9, 15, 45!\n",
      "Number 46 can be divided by 1, 2, 23, 46!\n",
      "Number 47 can be divided by 1, 47!\n",
      "Number 48 can be divided by 1, 2, 3, 4, 6, 8, 12, 16, 24, 48!\n",
      "Number 49 can be divided by 1, 7, 49!\n",
      "Number 50 can be divided by 1, 2, 5, 10, 25, 50!\n"
     ]
    }
   ],
   "source": [
    "# The output is again not very nice here, you can replace the last two lines by this for nicer output:\n",
    "myNumbers = range(1,51)\n",
    " \n",
    "for x in myNumbers:\n",
    "    dividers = []\n",
    "    for y in range(1, x+1):\n",
    "        if (x % y) == 0:\n",
    "            dividers.append(str(y))\n",
    " \n",
    "    print (f\"Number {x} can be divided by {', '.join(dividers)}!\")"
   ]
  },
  {
   "cell_type": "markdown",
   "metadata": {},
   "source": [
    "---\n",
    "\n",
    "### 6.3.1 Exercise\n",
    "Can you think of a clearer way to write either (or both) of the above snippets with what you've learned so far?\n",
    "\n",
    "---"
   ]
  },
  {
   "cell_type": "code",
   "execution_count": 1,
   "metadata": {},
   "outputs": [
    {
     "data": {
      "text/plain": [
       "55"
      ]
     },
     "execution_count": 1,
     "metadata": {},
     "output_type": "execute_result"
    }
   ],
   "source": [
    "sum(range(1, 11))"
   ]
  },
  {
   "cell_type": "code",
   "execution_count": 2,
   "metadata": {},
   "outputs": [
    {
     "data": {
      "text/plain": [
       "'Hello,world,'"
      ]
     },
     "execution_count": 2,
     "metadata": {},
     "output_type": "execute_result"
    }
   ],
   "source": [
    "','.join(myList) + ','"
   ]
  },
  {
   "cell_type": "markdown",
   "metadata": {},
   "source": [
    "---\n",
    "### 6.3.2 Exercise\n",
    "\n",
    "Try to reproduce a for-loop (the example of numbers divisible by 17) by using a while-loop.\n",
    "\n",
    "---"
   ]
  },
  {
   "cell_type": "code",
   "execution_count": 20,
   "metadata": {},
   "outputs": [
    {
     "name": "stdout",
     "output_type": "stream",
     "text": [
      "17 is divisible by 17\n",
      "34 is divisible by 17\n"
     ]
    }
   ],
   "source": [
    "# Try to reproduce a for-loop (the example of numbers divisible by 17) by using a while-loop.\n",
    "myNumber = 1\n",
    "myDivider = 17\n",
    "\n",
    "while myNumber <= 50:\n",
    "    if (myNumber % myDivider) == 0: # Nothing left after division, so number is divisible.\n",
    "        print(f\"{myNumber} is divisible by {myDivider}\")\n",
    "    myNumber += 1"
   ]
  },
  {
   "cell_type": "markdown",
   "metadata": {},
   "source": [
    "---\n",
    "### 6.3.3 Exercise\n",
    "\n",
    "Write a program where you start with a list of numbers from 1 to 100, and you then remove every number from this list that can be divided by 3 or by 5. Print the result.  \n",
    "Tip: you have to make a copy of the original list here, otherwise Python will get 'confused' when you remove values from the list while it's looping over it. Use `[:]` for this purpose.  \n",
    "\n",
    "---"
   ]
  },
  {
   "cell_type": "code",
   "execution_count": null,
   "metadata": {},
   "outputs": [],
   "source": [
    "myNumberList = list(range(1,101))\n",
    "\n",
    "for number in myNumberList[:]:  \n",
    "    if (number % 3) == 0 or (number % 5) == 0:\n",
    "        myNumberList.pop(myNumberList.index(number))\n",
    "\n",
    "print(myNumberList)"
   ]
  },
  {
   "cell_type": "markdown",
   "metadata": {},
   "source": [
    "---\n",
    "### 6.3.4 Exercise\n",
    "\n",
    "Write a program where you ask the user for an integer (whole number), and keep on asking if they give the wrong input. Check whether the number can be divided by 7, and print the result.\n",
    "\n",
    "---"
   ]
  },
  {
   "cell_type": "code",
   "execution_count": null,
   "metadata": {},
   "outputs": [],
   "source": [
    "# Write a program where you ask the user for an integer (whole number), and keep on asking if they give the wrong input. Check whether the number can be divided by 7, and print the result.\n",
    "myNumberList = range(1,101)\n",
    " \n",
    "# Keep on checking until you have a number, prime the while loop as well\n",
    "isNumber = False\n",
    "while isNumber == False:\n",
    "    inputString = input(\"Give a number:\")\n",
    "    if inputString.isdigit():\n",
    "        isNumber = True\n",
    "        number = int(inputString)\n",
    "    else:\n",
    "        print(\"Incorrect, not a whole number, try again.\")\n",
    "    if not (number % 7):\n",
    "        print(f\"{number} can be divided by 7!\")\n",
    "    else: \n",
    "        print(\"Number not divisible by 7\")"
   ]
  },
  {
   "cell_type": "markdown",
   "metadata": {},
   "source": [
    "---\n",
    "### 7.2.1 Exercise\n",
    "\n",
    "Use a dictionary to track how many times each amino acid code appears in the following sequence:\n",
    "```\n",
    "SFTMHGTPVVNQVKVLTESNRISHHKILAIVGTAESNSEHPLGTAITKYCKQELDTETLGTCIDFQVVPGCGISCKVTNIEGLLHKNNWNIED  \n",
    "NNIKNASLVQIDASNEQSSTSSSMIIDAQISNALNAQQYKVLIGNREWMIRNGLVINNDVNDFMTEHERKGRTAVLVAVDDELCGLIAIADT\n",
    "```\n",
    "Tip: use the one-letter code as key in the dictionary, and the count as value.\n",
    "\n",
    "---"
   ]
  },
  {
   "cell_type": "code",
   "execution_count": 1,
   "metadata": {},
   "outputs": [
    {
     "name": "stdout",
     "output_type": "stream",
     "text": [
      "A 12\n",
      "C 5\n",
      "D 10\n",
      "E 12\n",
      "F 3\n",
      "G 11\n",
      "H 6\n",
      "I 18\n",
      "K 9\n",
      "L 14\n",
      "M 4\n",
      "N 18\n",
      "P 3\n",
      "Q 8\n",
      "R 5\n",
      "S 14\n",
      "T 14\n",
      "V 15\n",
      "W 2\n",
      "Y 2\n"
     ]
    }
   ],
   "source": [
    "# Another solution where we make a new dictionary with all the counted occurences of each value. \n",
    "mySequence = \"SFTMHGTPVVNQVKVLTESNRISHHKILAIVGTAESNSEHPLGTAITKYCKQELDTETLGTCIDFQVVPGCGISCKVTNIEGLLHKNNWNIEDNNIKNASLVQIDASNEQSSTSSSMIIDAQISNALNAQQYKVLIGNREWMIRNGLVINNDVNDFMTEHERKGRTAVLVAVDDELCGLIAIADT\"\n",
    "\n",
    "myDictionary = {\n",
    "     'A': 'Ala',\n",
    "     'C': 'Cys',\n",
    "     'D': 'Asp',\n",
    "     'E': 'Glu',\n",
    "     'F': 'Phe',\n",
    "     'G': 'Gly',\n",
    "     'H': 'His',\n",
    "     'I': 'Ile',\n",
    "     'K': 'Lys',\n",
    "     'L': 'Leu',\n",
    "     'M': 'Met',\n",
    "     'N': 'Asn',\n",
    "     'P': 'Pro',\n",
    "     'Q': 'Gln',\n",
    "     'R': 'Arg',\n",
    "     'S': 'Ser',\n",
    "     'T': 'Thr',\n",
    "     'V': 'Val',\n",
    "     'W': 'Trp',\n",
    "     'Y': 'Tyr'}\n",
    "\n",
    "\n",
    "for letter in list(myDictionary.keys()):\n",
    "    countLetter = mySequence.count(letter)\n",
    "    print(letter, countLetter)"
   ]
  },
  {
   "cell_type": "code",
   "execution_count": 3,
   "metadata": {},
   "outputs": [
    {
     "data": {
      "text/plain": [
       "{'A': 12,\n",
       " 'C': 5,\n",
       " 'D': 10,\n",
       " 'E': 12,\n",
       " 'F': 3,\n",
       " 'G': 11,\n",
       " 'H': 6,\n",
       " 'I': 18,\n",
       " 'K': 9,\n",
       " 'L': 14,\n",
       " 'M': 4,\n",
       " 'N': 18,\n",
       " 'P': 3,\n",
       " 'Q': 8,\n",
       " 'R': 5,\n",
       " 'S': 14,\n",
       " 'T': 14,\n",
       " 'V': 15,\n",
       " 'W': 2,\n",
       " 'Y': 2}"
      ]
     },
     "execution_count": 3,
     "metadata": {},
     "output_type": "execute_result"
    }
   ],
   "source": [
    "# Another solution where we make a new dictionary with all the counted occurences of each value. \n",
    "sequence = \"SFTMHGTPVVNQVKVLTESNRISHHKILAIVGTAESNSEHPLGTAITKYCKQELDTETLGTCIDFQVVPGCGISCKVTNIEGLLHKNNWNIEDNNIKNASLVQIDASNEQSSTSSSMIIDAQISNALNAQQYKVLIGNREWMIRNGLVINNDVNDFMTEHERKGRTAVLVAVDDELCGLIAIADT\"\n",
    "\n",
    "newDict = dict()\n",
    "for letter in list(myDictionary.keys()):\n",
    "    countLetter = sequence.count(letter)\n",
    "    newDict[letter] = countLetter\n",
    "newDict  "
   ]
  },
  {
   "cell_type": "markdown",
   "metadata": {},
   "source": [
    "---\n",
    "\n",
    "### Extra Exercise 7.2.1-1\n",
    "Use the dictionary you created in the previous exercise (8.2.1). Modify the dictionary so that its values are a \n",
    "dictionary containing 2 keys: the count as before, and also a fraction of the length of the sequence. e.g. if the\n",
    "letter 'S' appears 50% of the time it's value in the new dictionary will be `{\"count\":92, \"fraction\":0.5}`.\n",
    "\n",
    "---"
   ]
  },
  {
   "cell_type": "code",
   "execution_count": 11,
   "metadata": {},
   "outputs": [
    {
     "data": {
      "text/plain": [
       "{'A': {'count': 12, 'fraction': 0.06486486486486487},\n",
       " 'C': {'count': 5, 'fraction': 0.02702702702702703},\n",
       " 'D': {'count': 10, 'fraction': 0.05405405405405406},\n",
       " 'E': {'count': 12, 'fraction': 0.06486486486486487},\n",
       " 'F': {'count': 3, 'fraction': 0.016216216216216217},\n",
       " 'G': {'count': 11, 'fraction': 0.05945945945945946},\n",
       " 'H': {'count': 6, 'fraction': 0.032432432432432434},\n",
       " 'I': {'count': 18, 'fraction': 0.0972972972972973},\n",
       " 'K': {'count': 9, 'fraction': 0.04864864864864865},\n",
       " 'L': {'count': 14, 'fraction': 0.07567567567567568},\n",
       " 'M': {'count': 4, 'fraction': 0.021621621621621623},\n",
       " 'N': {'count': 18, 'fraction': 0.0972972972972973},\n",
       " 'P': {'count': 3, 'fraction': 0.016216216216216217},\n",
       " 'Q': {'count': 8, 'fraction': 0.043243243243243246},\n",
       " 'R': {'count': 5, 'fraction': 0.02702702702702703},\n",
       " 'S': {'count': 14, 'fraction': 0.07567567567567568},\n",
       " 'T': {'count': 14, 'fraction': 0.07567567567567568},\n",
       " 'V': {'count': 15, 'fraction': 0.08108108108108109},\n",
       " 'W': {'count': 2, 'fraction': 0.010810810810810811},\n",
       " 'Y': {'count': 2, 'fraction': 0.010810810810810811}}"
      ]
     },
     "execution_count": 11,
     "metadata": {},
     "output_type": "execute_result"
    }
   ],
   "source": [
    "seq_len = len(sequence)\n",
    "dict_frac = {}\n",
    "for letter, num in newDict.items():\n",
    "    dict_frac[letter] = {\"count\":num, \"fraction\":num / seq_len}\n",
    "    \n",
    "dict_frac"
   ]
  },
  {
   "cell_type": "markdown",
   "metadata": {},
   "source": [
    "---\n",
    "\n",
    "### Exercise 8.2.1\n",
    "\n",
    "Read in the file `gene.fa` which also resides in the `data/` folder. Make a variable with the title and a variable with the sequence.   \n",
    "Note: make sure there are no `\\n` in your sequence\n",
    "\n",
    "---"
   ]
  },
  {
   "cell_type": "code",
   "execution_count": null,
   "metadata": {},
   "outputs": [],
   "source": [
    "with open(\"data/gene.fa\") as fileHandle:\n",
    "    lines = fileHandle.readlines()\n",
    "    \n",
    "    sequence = \"\"\n",
    "    for line in lines:\n",
    "        if line.startswith('>'):\n",
    "            seq_id = line.rstrip()[1:]\n",
    "        else:\n",
    "            sequence += line.rstrip()\n",
    "\n",
    "print(seq_id)\n",
    "print(sequence)"
   ]
  },
  {
   "cell_type": "markdown",
   "metadata": {},
   "source": [
    "---\n",
    "\n",
    "### Exercise 8.2.2 (Extra)\n",
    "\n",
    "Count the number of times a carbon element appears in the file by using the following method. You can copy-paste most of the lines from the example above. \n",
    "\n",
    "---"
   ]
  },
  {
   "cell_type": "code",
   "execution_count": null,
   "metadata": {},
   "outputs": [],
   "source": [
    "# Open the file\n",
    "with open(\"data/TestFile.pdb\") as fileHandle:\n",
    "\n",
    "    # Initialise the line counter\n",
    "    lineCount = 0\n",
    "    \n",
    "    # Read in the file line by line simultaneously\n",
    "    for line in fileHandle: \n",
    "        # Extract columns from each line \n",
    "        columns = line.strip().split()\n",
    "        if columns[-1] == 'C':      # Alternatively, use \"if ' C ' in line:\"\n",
    "            lineCount += 1\n",
    "\n",
    "print(f\"Number of lines with ' C ': {lineCount}\")"
   ]
  },
  {
   "cell_type": "markdown",
   "metadata": {},
   "source": [
    "----\n",
    "### 8.3.1 Exercise\n",
    "Read in the file `data/TestFile.pdb`, and write out all lines that contain 'VAL' to a new file.\n",
    "\n",
    "----"
   ]
  },
  {
   "cell_type": "code",
   "execution_count": null,
   "metadata": {},
   "outputs": [],
   "source": [
    "# Read the file\n",
    "with open(\"data/TestFile.pdb\",\"r\") as f, open(\"data/fileWithVAL.pdb\",'w') as g:\n",
    "    # Loop over the lines\n",
    "    for line in f.readlines():\n",
    "        if line.startswith(\"ATOM\"):\n",
    "            if \"VAL\" in line:\n",
    "                g.write(line)\n",
    "\n",
    "with open(\"data/fileWithVAL.pdb\",'r') as h:\n",
    "    text = h.read()\n",
    "\n",
    "print(text)"
   ]
  },
  {
   "cell_type": "markdown",
   "metadata": {},
   "source": [
    "---\n",
    "\n",
    "### Extra Exercise 8.3.1-1\n",
    "Read in the file `\"data/TestFile.pdb\"`. Count the number of each residue (e.g. `VAL`, `ALA`, etc.).\n",
    "Write the results to a file in Comma Seperated Values (CSV) format. e.g.\n",
    "```\n",
    "Residue, Count\n",
    "VAL,3\n",
    "GLN,6\n",
    "```\n",
    "\n",
    "---"
   ]
  },
  {
   "cell_type": "code",
   "execution_count": 19,
   "metadata": {},
   "outputs": [],
   "source": [
    "import csv\n",
    "\n",
    "with open(\"../data/TestFile.pdb\") as pdb:\n",
    "    pdbdata = pdb.readlines()\n",
    "\n",
    "# Seperate out individual residues\n",
    "residues = []\n",
    "for record in pdbdata:\n",
    "    if record.startswith(\"ATOM \"):\n",
    "        residue = record[17:20]\n",
    "        seqnum = int(record[22:26].strip())\n",
    "\n",
    "        if len(residues) > 0:\n",
    "            if residues[-1][1] != seqnum:\n",
    "                residues.append((residue, seqnum))\n",
    "        else:\n",
    "            residues.append((residue, seqnum))\n",
    "\n",
    "# Count residues\n",
    "res_count = {}\n",
    "for residue, _ in residues:\n",
    "    if residue in res_count:\n",
    "        res_count[residue] += 1\n",
    "    else:\n",
    "        res_count[residue] = 1\n",
    "\n",
    "# Write CSV\n",
    "with open(\"residue_counts.csv\", 'w') as csvfile:\n",
    "    writer = csv.writer(csvfile)\n",
    "    writer.writerow([\"Residue\", \"Count\"])\n",
    "    for count in res_count.items():\n",
    "        writer.writerow(list(count))"
   ]
  },
  {
   "cell_type": "markdown",
   "metadata": {},
   "source": [
    "## Exercise 8.E \n",
    "\n",
    "**Advanced file reading and interpretation exercise** \n",
    "\n",
    "Read in the TestFile.pdb atom coordinate file, print out the title of the file, and find all atoms that have coordinates closer than 2 angstrom to the (x,y,z) coordinate (-8.7,-7.7,4.7). Print out the model number, residue number, atom name and atom serial for each; the model is indicated by:\n",
    "```\n",
    "MODEL     1\n",
    "```\n",
    "lines, the atom coordinate information is in:\n",
    "```\n",
    "ATOM      1  N   ASP A   1     -10.341  -9.922   9.398  1.00  0.00           N\n",
    "```\n",
    "lines, where column 1 is always ATOM, column 2 is the atom serial,  column 3 the atom name, column 4 the residue name, column 5 the chain code, column 6 the residue number, followed by the x, y and z coordinates in angstrom in columns 7, 8 and 9.\n",
    "\n",
    "Note that the distance between two coordinates is calculated as the square root of (x1-x2)²+(y1-y2)²+(z1-z2)²."
   ]
  },
  {
   "cell_type": "code",
   "execution_count": 6,
   "metadata": {},
   "outputs": [
    {
     "name": "stdout",
     "output_type": "stream",
     "text": [
      "The title is 'SOLUTION STRUCTURE OF A NON-EXISTENT PEPTIDE'\n",
      "Model 1, residue 2, atom CA (serial 16) is 1.51 away from reference.\n",
      "Model 1, residue 2, atom CB (serial 19) is 0.06 away from reference.\n",
      "Model 1, residue 2, atom CG1 (serial 20) is 1.49 away from reference.\n",
      "Model 1, residue 2, atom CG2 (serial 21) is 1.57 away from reference.\n",
      "Model 1, residue 2, atom HB (serial 24) is 1.10 away from reference.\n",
      "Model 2, residue 2, atom CA (serial 16) is 1.92 away from reference.\n",
      "Model 2, residue 2, atom CB (serial 19) is 1.46 away from reference.\n",
      "Model 2, residue 2, atom CG1 (serial 20) is 0.89 away from reference.\n",
      "Model 2, residue 2, atom HG11 (serial 25) is 0.78 away from reference.\n",
      "Model 2, residue 2, atom HG12 (serial 26) is 1.57 away from reference.\n",
      "Model 2, residue 2, atom HG13 (serial 27) is 1.87 away from reference.\n",
      "Model 3, residue 2, atom CB (serial 19) is 1.56 away from reference.\n",
      "Model 3, residue 2, atom CG1 (serial 20) is 1.72 away from reference.\n",
      "Model 3, residue 2, atom CG2 (serial 21) is 1.40 away from reference.\n",
      "Model 3, residue 2, atom HG11 (serial 25) is 1.44 away from reference.\n",
      "Model 3, residue 2, atom HG21 (serial 28) is 1.55 away from reference.\n",
      "Model 3, residue 2, atom HG23 (serial 30) is 1.48 away from reference.\n"
     ]
    }
   ],
   "source": [
    "# Open the file\n",
    "with open(\"data/TestFile.pdb\") as fileHandle:\n",
    "    # Read all the lines in the file (as separated by a newline character), and store them in the lines list\n",
    "    # Each element in this list corresponds to one line of the file!\n",
    "    lines = fileHandle.readlines()\n",
    "\n",
    "# Initialise some information\n",
    "searchCoordinate = (-8.7,-7.7,4.7)\n",
    "modelNumber = None\n",
    " \n",
    "# Loop over the lines, and do some basic string manipulations\n",
    "for line in lines:\n",
    "    line = line.strip()  # Remove starting and trailing spaces/tabs/newlines\n",
    "    \n",
    "    # Only do something if it's not an empty line\n",
    "    if line:\n",
    "        cols = line.split()   # Split the line by white spaces; depending on the format this could be commas, ...\n",
    " \n",
    "    # Print the title\n",
    "    if cols[0] == 'TITLE':\n",
    "        title = line.replace(cols[0],'')\n",
    "        title = title.strip()\n",
    "        print(f\"The title is '{title}'\")\n",
    " \n",
    "    # Track the model number\n",
    "    elif cols[0] == 'MODEL':\n",
    "        modelNumber = int(cols[1])\n",
    " \n",
    "    # For atom lines, calculate the distance\n",
    "    elif cols[0] == 'ATOM':\n",
    " \n",
    "        # Set some clear variable names and convert to the right type\n",
    "        atomSerial = int(cols[1])\n",
    "        atomName = cols[2]\n",
    "        residueNumber = int(cols[5])\n",
    "        x = float(cols[6])\n",
    "        y = float(cols[7])\n",
    "        z = float(cols[8])\n",
    " \n",
    "        # Calculate the distance\n",
    "        distance = ((x - searchCoordinate[0]) ** 2 + (y - searchCoordinate[1]) ** 2 + (z - searchCoordinate[2]) ** 2 ) ** 0.5\n",
    "        if distance < 2.0:\n",
    "            print(f\"Model {modelNumber}, residue {residueNumber}, atom {atomName} (serial {atomSerial}) is {distance:.2f} away from reference.\")\n"
   ]
  },
  {
   "cell_type": "markdown",
   "metadata": {},
   "source": [
    "---\n",
    "### 9.2.1 Exercise\n",
    "\n",
    "The Hamming distance between two strings of equal length is the number of positions at which the corresponding character are different. In a more general context, the Hamming distance is one of several string metrics for measuring the edit distance between two sequences. \n",
    "\n",
    "The Hamming distance between:\n",
    "\n",
    "\"karolin\" and \"kathrin\" is 3.\n",
    "\n",
    "Write a function called \"hamming_distance\" which accepts two strings and returns the calculated hamming distance. If the lengths of the two strings is unequal, return the value None. \n",
    "\n",
    "---"
   ]
  },
  {
   "cell_type": "code",
   "execution_count": 4,
   "metadata": {},
   "outputs": [
    {
     "name": "stdout",
     "output_type": "stream",
     "text": [
      "Lengths are unequal\n",
      "None\n"
     ]
    }
   ],
   "source": [
    "# string1 and string2 should be the same length.\n",
    "def hamming_distance(string1, string2): \n",
    "    \"\"\"Return the Hamming distance between equal-length sequences.\"\"\"\n",
    "    \n",
    "    if len(string1) == len(string2):\n",
    "        # Start with a distance of zero, and count up\n",
    "        distance = 0\n",
    "        # Loop over the indices of the string\n",
    "        for i in range(len(string1)):\n",
    "            # Add 1 to the distance if these two characters are not equal\n",
    "            if string1[i] != string2[i]:\n",
    "                distance += 1\n",
    "    else:\n",
    "        print(\"Lengths are unequal\")    \n",
    "        distance = None\n",
    "    # Return the final count of differences\n",
    "    return distance\n",
    "\n",
    "seq1 = \"GATCATACGA\"\n",
    "seq2 = \"CATCATACA\"\n",
    "print(hamming_distance(seq1,seq2))"
   ]
  },
  {
   "cell_type": "code",
   "execution_count": null,
   "metadata": {},
   "outputs": [],
   "source": [
    "# with zip!\n",
    "def hamming_distance(string1, string2): \n",
    "    \"\"\"Return the Hamming distance between equal-length sequences.\"\"\"\n",
    "    \n",
    "    if len(string1) != len(string2):\n",
    "        raise ValueError(\"Undefined for sequences of unequal length.\")\n",
    "    \n",
    "    # Start with a distance of zero, and count up\n",
    "    distance = 0\n",
    "    for s1,s2 in zip(string1,string2):\n",
    "        if s1 != s2:\n",
    "            distance +=1\n",
    "    return distance\n",
    "\n",
    "seq1 = \"GATCATAGA\"\n",
    "seq2 = \"CATCATACA\"\n",
    "print(hamming_distance(seq1,seq2))"
   ]
  },
  {
   "cell_type": "markdown",
   "metadata": {},
   "source": [
    "---\n",
    "### 9.2.2 Exercise\n",
    "\n",
    "Write a function that calculates the GC content of the sequence in a fasta file. For this example you can use [this fasta file](data/gene.fa) which contains the genetic sequence of a bone gla protein. The function must accept a fasta file as input file and will print the following:\n",
    "\n",
    "```\n",
    "The GC content of HSBGPG Human gene for bone gla protein (BGP) is\t 63.53%\n",
    "```\n",
    "\n",
    "The method [.startswith()](https://www.tutorialspoint.com/python/string_startswith.html) might help. The function should read the lines of the fasta file and if it starts with a '>' define the text that comes afterwards as the sequence ID. The other lines are part of the sequence. After reading through the lines, you can easily define the GC content by counting the bases and taking the average. \n",
    "\n",
    "---"
   ]
  },
  {
   "cell_type": "code",
   "execution_count": null,
   "metadata": {},
   "outputs": [],
   "source": [
    "# solution one\n",
    "def gc_content(file):\n",
    "    \"\"\"Calculate GC content of a fasta file (with one sequence)\"\"\"\n",
    "    sequence=\"\"\n",
    "    with open(file, 'r') as f:\n",
    "        for line in f:\n",
    "            if line.startswith('>'):\n",
    "                seq_id = line.rstrip()[1:]\n",
    "            else:\n",
    "                sequence += line.rstrip()\n",
    "    GC_content = (sequence.count('G') + sequence.count('C')) / len(sequence) * 100\n",
    "    print(f\"The GC content of {seq_id} is\\t {GC_content:.2f}%\")    \n",
    "    return GC_content\n",
    "    \n",
    "gc_content('data/gene.fa')"
   ]
  },
  {
   "cell_type": "code",
   "execution_count": null,
   "metadata": {},
   "outputs": [],
   "source": [
    "# solution two - very similar to one. \n",
    "def gc_content(file):\n",
    "    f = open(file, 'r')\n",
    "    sequence=\"\"\n",
    "    for line in f.readlines():  \n",
    "        if line.startswith('>'):\n",
    "            seq_id = line.rstrip()[1:]\n",
    "        else:\n",
    "            sequence += line.rstrip()\n",
    "    GC_content = (sequence.count('G') + sequence.count('C')) / len(sequence) * 100\n",
    "    print(f\"The GC content of {seq_id} is\\t {GC_content:.2f}%\")    \n",
    "    return GC_content\n",
    "    \n",
    "gc_content('data/gene.fa')"
   ]
  },
  {
   "cell_type": "code",
   "execution_count": 25,
   "metadata": {},
   "outputs": [
    {
     "name": "stdout",
     "output_type": "stream",
     "text": [
      "The GC content of HSBGPG Human gene for bone gla protein (BGP) is     63.53%\n"
     ]
    }
   ],
   "source": [
    "# solution three: seperate concerns\n",
    "def fastaEntry(entry):\n",
    "    id, *data = entry.split('\\n')\n",
    "    return (id.split()[0], ''.join(data))\n",
    "\n",
    "def fastaFormat(data):\n",
    "    return (fastaEntry(entry) for entry in data.split('>') if len(entry) > 0)\n",
    "\n",
    "def computeRatio(select, target):\n",
    "    return sum((target.count(selector) for selector in select)) / len(target)\n",
    "\n",
    "with open('../data/gene.fa') as f:\n",
    "    fasta = f.read()\n",
    "\n",
    "for id, sequence in fastaFormat(fasta):\n",
    "    print(f\"The GC content of {id} Human gene for bone gla protein (BGP) is     {computeRatio('GC', sequence) * 100:.2f}%\")"
   ]
  },
  {
   "cell_type": "markdown",
   "metadata": {},
   "source": [
    "---\n",
    "### 9.2.1 Exercises\n",
    "\n",
    "Download [this matrix file](data/Matrix.txt) (`Matrix.txt`) and save it in your directory. Then write a function to read a matrix file in this format, reorder the rows by the values in the given column, and printing out the result. The function should take as argument a file name and a column number. \n",
    "\n",
    "---"
   ]
  },
  {
   "cell_type": "code",
   "execution_count": null,
   "metadata": {},
   "outputs": [],
   "source": [
    "def sortMatrixByColumn(fileName,columnNumber):\n",
    "    #\n",
    "    # Read the tab-delimited file and store the values\n",
    "    #\n",
    " \n",
    "    with open(fileName) as fin:\n",
    "        lines = fin.readlines()\n",
    " \n",
    "    #\n",
    "    # Convert the data from the file into a Python list\n",
    "    #\n",
    " \n",
    "    matrix = []\n",
    "\n",
    "    for matrixRow in lines:\n",
    "        # Tab-delimited, so split line by \\t - this will give a list of strings\n",
    "        matrixColumns = matrixRow.rstrip().split(\"\\t\") \n",
    " \n",
    "        # Add a row to the matrix\n",
    "        matrix.append([])\n",
    " \n",
    "        # Add the columns, but convert the strings from the file into a float\n",
    "        for matrixValue in matrixColumns:\n",
    "            matrix[-1].append(float(matrixValue))\n",
    " \n",
    "    #\n",
    "    # Now sort by column - but have to track the row number as well!\n",
    "    #\n",
    " \n",
    "    selectedColumnValues = []\n",
    " \n",
    "    for rowNumber in range(len(matrix)):\n",
    " \n",
    "        selectedColumnValues.append((matrix[rowNumber][columnNumber],rowNumber))\n",
    " \n",
    "        selectedColumnValues.sort()\n",
    " \n",
    "    #\n",
    "    # Now print out the new matrix - the column value is now not interesting\n",
    "    # we want the row number!!\n",
    "    #\n",
    " \n",
    "    for (columnValue,rowNumber) in selectedColumnValues:  \n",
    "        columnValueStrings = []\n",
    "        for value in matrix[rowNumber]:\n",
    "            columnValueStrings.append(f\"{value:.3f}\")\n",
    "        print(\"\\t\".join(columnValueStrings))\n",
    " \n",
    " \n",
    "sortMatrixByColumn(\"data/matrix.txt\",3)"
   ]
  },
  {
   "cell_type": "markdown",
   "metadata": {},
   "source": [
    "---\n",
    "### 9.2.2 Exercises\n",
    "\n",
    "Modify the program to read in the TestFile.pdb file by using separate functions to \n",
    "1. get the title, \n",
    "2. dissect the information from the ATOM line and \n",
    "3. to calculate the distance to the reference distance\n",
    "\n",
    "---"
   ]
  },
  {
   "cell_type": "code",
   "execution_count": null,
   "metadata": {},
   "outputs": [],
   "source": [
    "def getTitle(line,cols):\n",
    " \n",
    "    # Gets the title\n",
    " \n",
    "    title = line.replace(cols[0],'')\n",
    "    title = title.strip()\n",
    " \n",
    "    return (\"The title is '%s'\" % title)\n",
    " \n",
    "def getAtomInfo(cols):\n",
    " \n",
    "    # Get relevant information from an ATOM line and convert to the right type\n",
    " \n",
    "    atomSerial = int(cols[1])\n",
    "    atomName = cols[2]\n",
    "    residueNumber = int(cols[5])\n",
    "    x = float(cols[6])\n",
    "    y = float(cols[7])\n",
    "    z = float(cols[8])\n",
    " \n",
    "    return (atomSerial,atomName,residueNumber,x,y,z)\n",
    " \n",
    "def calculateDistance(coordinate1,coordinate2):\n",
    " \n",
    "    # Calculate the distance between two 3 dimensional coordinates\n",
    " \n",
    "    return ((coordinate1[0] - coordinate2[0]) ** 2 + (coordinate1[1] - coordinate2[1]) ** 2 + (coordinate1[2] - coordinate2[2]) ** 2 ) ** 0.5\n",
    " \n",
    "\n",
    "# Open the file\n",
    "with open(\"data/TestFile.pdb\") as fileHandle:\n",
    "    # Read all the lines in the file (as separated by a newline character), and store them in the lines list\n",
    "    # Each element in this list corresponds to one line of the file!\n",
    "    lines = fileHandle.readlines()\n",
    "\n",
    "# Initialise some information\n",
    "searchCoordinate = (-8.7,-7.7,4.7)\n",
    "modelNumber = None\n",
    " \n",
    "# Loop over the lines, and do some basic string manipulations\n",
    "for line in lines:\n",
    " \n",
    "    line = line.strip()  # Remove starting and trailing spaces/tabs/newlines\n",
    " \n",
    "    # Only do something if it's not an empty line\n",
    "    if line:\n",
    "        cols = line.split()   # Split the line by white spaces; depending on the format this could be commas, ...\n",
    " \n",
    "        # Print off the title\n",
    "        if cols[0] == 'TITLE':\n",
    "            print(getTitle(line,cols))\n",
    " \n",
    "        # Track the model number\n",
    "        elif cols[0] == 'MODEL':\n",
    "            modelNumber = int(cols[1])\n",
    " \n",
    "        # For atom lines, calculate the distance\n",
    "        elif cols[0] == 'ATOM':\n",
    "            (atomSerial,atomName,residueNumber,x,y,z) = getAtomInfo(cols)\n",
    " \n",
    "            # Calculate the distance\n",
    "            distance = calculateDistance((x,y,z),searchCoordinate)\n",
    " \n",
    "            if distance < 2.0:\n",
    "                print(f\"Model {modelNumber}, residue {residueNumber}, atom {atomName} (serial {atomSerial}) is {distance:.2f} away from reference.\")"
   ]
  },
  {
   "cell_type": "markdown",
   "metadata": {},
   "source": [
    "Compared to the original program it is much easier to see what is going on here. Also, the calculateDistance() function is relevant for any other piece of code where you want to calculate distances between two 3D coordinates - it's not embedded in this bit of code any more and is useful anywhere that you need to do this."
   ]
  },
  {
   "cell_type": "markdown",
   "metadata": {},
   "source": [
    "---\n",
    "### 10.2.1 Exercise\n",
    "\n",
    "In the module `readFasta` there is a function that reads in a FASTA file with an RNA sequence and return the id, description and RNA sequence (in 3 base unit chunks). Import this module in a cell and call the function on the file `gene.fa`\n",
    "\n",
    "---"
   ]
  },
  {
   "cell_type": "code",
   "execution_count": null,
   "metadata": {},
   "outputs": [],
   "source": [
    "from modules.readFasta import readRnaFastaFile\n",
    "\n",
    "readRnaFastaFile(\"data/gene.fa\")"
   ]
  },
  {
   "cell_type": "markdown",
   "metadata": {},
   "source": [
    "\n",
    "---\n",
    "### 10.4.1 Exercises\n",
    "\n",
    "Make a new directory in which you write out 5 files with a 2 second delay. Each file should contain the date and time when it was originally written out.\n",
    "\n",
    "---\n"
   ]
  },
  {
   "cell_type": "code",
   "execution_count": 27,
   "metadata": {},
   "outputs": [
    {
     "name": "stdout",
     "output_type": "stream",
     "text": [
      "Written file timeTest\\myFile1.txt...\n",
      "Written file timeTest\\myFile2.txt...\n",
      "Written file timeTest\\myFile3.txt...\n",
      "Written file timeTest\\myFile4.txt...\n",
      "Written file timeTest\\myFile5.txt...\n"
     ]
    }
   ],
   "source": [
    "# 1\n",
    "import time, os\n",
    " \n",
    "\n",
    "# Create a variable for the directory name\n",
    "myDir = \"timeTest\"\n",
    "\n",
    "# Check whether the directory exists, if not create it\n",
    "if not os.path.exists(myDir):\n",
    "    os.mkdir(myDir)\n",
    "\n",
    "\n",
    "# Loop from 1 to 5\n",
    "for i in range(1,6):\n",
    "\n",
    "    # Get the current time\n",
    "    currentTime = time.ctime()\n",
    "\n",
    "    # Write out the file - use i to give a different name to each\n",
    "    filePath = os.path.join(myDir,f\"myFile{i}.txt\")\n",
    "\n",
    "    with open(filePath,'w') as outFileHandle:\n",
    "        outFileHandle.write(f\"{currentTime}\\n\")\n",
    "\n",
    "    print(f\"Written file {filePath}...\")\n",
    "\n",
    "    # Sleep for 2 seconds\n",
    "    time.sleep(2)"
   ]
  },
  {
   "cell_type": "markdown",
   "metadata": {},
   "source": [
    "---\n",
    "### 10.4.2 Exercises\n",
    "\n",
    "Write a program where you ask the user for a one-letter amino acid sequence, and print out the three-letter amino acid codes. Have a look at the `SequenceDicts.py` module and see how it can help you. \n",
    "\n",
    "---"
   ]
  },
  {
   "cell_type": "code",
   "execution_count": null,
   "metadata": {},
   "outputs": [],
   "source": [
    "# 3\n",
    "# Note how you can import a function (or variable) with a different name for your program!\n",
    "\n",
    "from modules.SequenceDicts import proteinOneToThree as oneToThreeLetterCodes\n",
    "\n",
    "oneLetterSeq = input('Give one letter sequence:')\n",
    " \n",
    "if oneLetterSeq:\n",
    "    for oneLetterCode in oneLetterSeq:\n",
    "        if oneLetterCode in oneToThreeLetterCodes.keys():\n",
    "            print(oneToThreeLetterCodes[oneLetterCode])\n",
    "        else:\n",
    "            print(f\"One letter code '{oneLetterCode}' is not a valid amino acid code!\")\n",
    "else:\n",
    "    print(\"You didn't give me any information!\")"
   ]
  },
  {
   "cell_type": "markdown",
   "metadata": {},
   "source": [
    "\n",
    "---\n",
    "### 10.4.3 Exercises\n",
    "\n",
    "Write a program where you translate the RNA sequence `data/rnaSeq.txt` into 3 letter amino acid codes. You can use the `readFasta.py` and `SequenceDicts.py` modules which contain valuable functions and a dictionary. \n",
    "\n",
    "---\n"
   ]
  },
  {
   "cell_type": "code",
   "execution_count": null,
   "metadata": {},
   "outputs": [],
   "source": [
    "from modules.SequenceDicts import standardRnaToProtein, proteinOneToThree\n",
    "\n",
    "from modules.readFasta import readRnaFastaFile\n",
    "\n",
    "(molName,description,sequenceInfo) = readRnaFastaFile(\"data/rnaSeq.txt\")\n",
    "proteinThreeLetterSeq = []\n",
    "\n",
    "for rnaCodon in sequenceInfo:\n",
    "\n",
    "    aaOneLetterCode = standardRnaToProtein[rnaCodon]\n",
    "    aaThreeLetterCode = proteinOneToThree[aaOneLetterCode]\n",
    "    proteinThreeLetterSeq.append(aaThreeLetterCode)\n",
    "\n",
    "print(proteinThreeLetterSeq)"
   ]
  },
  {
   "cell_type": "markdown",
   "metadata": {},
   "source": [
    "---\n",
    "### 10.4.4 Exercises\n",
    "\n",
    "Write a program that:\n",
    "- Has a function `readSampleInformationFile()` to read the information from this sample data file into a dictionary. Also check whether the file exists.\n",
    "- Has a function `getSampleIdsForValueRange()` that can extract sample IDs from this dictionary. Print the sample IDs for pH 6.0-7.0, temperature 280-290 and volume 200-220 using this function.\n",
    "\n",
    "---"
   ]
  },
  {
   "cell_type": "code",
   "execution_count": null,
   "metadata": {
    "jupyter": {
     "source_hidden": true
    }
   },
   "outputs": [],
   "source": [
    "import os\n",
    " \n",
    "def readSampleInformationFile(fileName):\n",
    " \n",
    "    # Read in the sample information file in .csv (comma-delimited) format\n",
    "\n",
    "    # Doublecheck if file exists\n",
    "    if not os.path.exists(fileName):\n",
    "        print(f\"File {fileName} does not exist!\")\n",
    "        return None\n",
    " \n",
    "    # Open the file and read the information\n",
    "    with open(fileName) as fileHandle:\n",
    "        lines = fileHandle.readlines()\n",
    "\n",
    "    # Now read the information. The first line has the header information which\n",
    "    # we are going to use to create the dictionary!\n",
    "\n",
    "    fileInfoDict = {}\n",
    "\n",
    "    headerCols = lines[0].strip().split(',')\n",
    "\n",
    "    # Now read in the information, use the first column as the key for the dictionary\n",
    "    # Note that you could organise this differently by creating a dictionary with\n",
    "    # the header names as keys, then a list of the values for each of the columns.\n",
    "\n",
    "    for line in lines[1:]:\n",
    " \n",
    "        line = line.strip()  # Remove newline characters\n",
    "        cols = line.split(',')\n",
    "\n",
    "        sampleId = int(cols[0])\n",
    "\n",
    "        fileInfoDict[sampleId] = {}\n",
    "\n",
    "        # Don't use the first column, is already the key!\n",
    "        for i in range(1,len(headerCols)):\n",
    "            valueName = headerCols[i]\n",
    " \n",
    "            value = cols[i]\n",
    "            if valueName in ('pH','temperature','volume'):\n",
    "                value = float(value)\n",
    "\n",
    "            fileInfoDict[sampleId][valueName] = value\n",
    "\n",
    "    # Return the dictionary with the file information\n",
    "    return fileInfoDict\n",
    "\n",
    "def getSampleIdsForValueRange(fileInfoDict,valueName,lowValue,highValue):\n",
    " \n",
    "    # Return the sample IDs that fit within the given value range for a kind of value\n",
    " \n",
    "    #sampleIdList = fileInfoDict.keys()\n",
    "    #sampleIdList.sort()\n",
    "    sampleIdList = sorted(fileInfoDict.keys())\n",
    "    sampleIdsFound = []\n",
    "\n",
    "    for sampleId in sampleIdList:\n",
    "\n",
    "        currentValue = fileInfoDict[sampleId][valueName]\n",
    " \n",
    "        if lowValue <= currentValue <= highValue:\n",
    "            sampleIdsFound.append(sampleId)\n",
    " \n",
    "    return sampleIdsFound\n",
    " \n",
    "if __name__ == '__main__':\n",
    " \n",
    "    fileInfoDict = readSampleInformationFile(\"../data/SampleInfo.txt\")\n",
    "\n",
    "    print(getSampleIdsForValueRange(fileInfoDict,'pH',6.0,7.0))\n",
    "    print(getSampleIdsForValueRange(fileInfoDict,'temperature',280,290))\n",
    "    print(getSampleIdsForValueRange(fileInfoDict,'volume',200,220))"
   ]
  },
  {
   "cell_type": "code",
   "execution_count": null,
   "metadata": {},
   "outputs": [],
   "source": []
  },
  {
   "cell_type": "markdown",
   "metadata": {},
   "source": [
    "# Project exercise\n",
    "*Practice makes perfect*  \n",
    "\n",
    "As we introduced a lot of new concepts it is important that you practice them so we can continue with new ones on the following days.\n",
    "\n",
    "----"
   ]
  },
  {
   "cell_type": "markdown",
   "metadata": {},
   "source": [
    "## Goal\n",
    "We will write a program where we read in a fasta file, extract the geneID, description and the sequence. Then, we will translate the RNA sequence into one-letter amino-acid codes & three-letter amino acid codes. The 'project exercise' is divided in small tasks which you can solve after each training day. "
   ]
  },
  {
   "cell_type": "markdown",
   "metadata": {},
   "source": [
    "**Day 1**:\n",
    "- Given the following python-code that reads in a file. Inspect the result of the cell below, how is the information stored? "
   ]
  },
  {
   "cell_type": "code",
   "execution_count": null,
   "metadata": {},
   "outputs": [],
   "source": [
    "# These lines of code will read in the file 'gene.fa' and store it in the variable fileInLines.\n",
    "with open('data/gene.fa') as fconnect:\n",
    "    fileInLines = fconnect.readlines()\n",
    "fileInLines"
   ]
  },
  {
   "cell_type": "markdown",
   "metadata": {},
   "source": [
    "- Extract the first line of the file, store the geneID in a variable and the description in another one. Tip: use slicing in combination with the methods `.split()`, `.join()` or `.replace()` could be helpful here. "
   ]
  },
  {
   "cell_type": "code",
   "execution_count": null,
   "metadata": {},
   "outputs": [],
   "source": [
    "# Get information from the first line - ignore the >\n",
    "firstLine = fileInLines[0]\n",
    "firstLineCols = firstLine[1:].split()\n",
    "geneID = firstLineCols[0]\n",
    "description = firstLine[1:].replace(geneID,'').strip()"
   ]
  },
  {
   "cell_type": "code",
   "execution_count": null,
   "metadata": {},
   "outputs": [],
   "source": [
    "# Get information from the first line - ignore the >\n",
    "firstLine = fileInLines[0]\n",
    "firstLineCols = firstLine[1:].split()\n",
    "geneID = firstLineCols[0]\n",
    "description = \" \".join(firstLineCols[1:])"
   ]
  },
  {
   "cell_type": "markdown",
   "metadata": {},
   "source": [
    "- Similarly, store the first line of the sequence in a variable named `firstSequence`, make sure to strip (trailing) whitespaces from the string. "
   ]
  },
  {
   "cell_type": "code",
   "execution_count": null,
   "metadata": {},
   "outputs": [],
   "source": [
    "# Storing the first line of the sequence & removing trailing whitespaces\n",
    "firstSequence = fileInLines[1].rstrip()\n",
    "firstSequence"
   ]
  },
  {
   "cell_type": "markdown",
   "metadata": {},
   "source": [
    "- The following python-code stores all of the possible RNA codons in a list. Inspect the result of this operation. How is the information stored?"
   ]
  },
  {
   "cell_type": "code",
   "execution_count": null,
   "metadata": {},
   "outputs": [],
   "source": [
    "from modules.SequenceDicts import standardRnaToProtein\n",
    "rnaCodons = list(standardRnaToProtein.keys())\n",
    "rnaCodons"
   ]
  },
  {
   "cell_type": "markdown",
   "metadata": {},
   "source": [
    "- Slice the first three codons from the `firstSequence` and check whether they are valid codons. Use an `if-else` statement and inform the user about its validity. Spoiler alert! You should find that the third codon is not a valid codon. Why is that? What should you do to fix this? "
   ]
  },
  {
   "cell_type": "code",
   "execution_count": null,
   "metadata": {},
   "outputs": [],
   "source": [
    "firstCodon = firstSequence[0:3]\n",
    "secondCodon = firstSequence[3:6]\n",
    "thirdCodon = firstSequence[6:9]\n",
    "if thirdCodon in rnaCodons:\n",
    "    print(f\"First codon is a valid codon\")\n",
    "else:\n",
    "    print(f\"This is not a valid codon\")"
   ]
  },
  {
   "cell_type": "code",
   "execution_count": null,
   "metadata": {},
   "outputs": [],
   "source": [
    "# Fixing spoiler alert\n",
    "rnaSequence = firstSequence.replace(\"T\", \"U\")"
   ]
  },
  {
   "cell_type": "markdown",
   "metadata": {},
   "source": [
    "- RNA is translated per group of 3 nucleotides A, C, G, T/U, called codons. Hence, in order to extract three-letter fragments from a string we will need to iterate over the string and extract all codons and translate them. We will learn how to do this in the [Loops chapter](06_Loops.ipynb). However, we already know how to create a list with the start indexes for the codons (0, 3, 6, ... end-of-string). Which arguments do we need to  pass on to the `range()` function to create such a list. "
   ]
  },
  {
   "cell_type": "code",
   "execution_count": null,
   "metadata": {},
   "outputs": [],
   "source": [
    "list(range(0,len(rnaSequence),3))"
   ]
  },
  {
   "cell_type": "markdown",
   "metadata": {},
   "source": [
    "**Day 2**:\n",
    "- Read in the file `rnaSeq.fa` and store the complete sequence in a new string `fullSequence`. Extract the geneID and the description as well, remember that you already found a solution to this problem!\n",
    "\n",
    "!!! We're working with a different fasta-file now!"
   ]
  },
  {
   "cell_type": "code",
   "execution_count": null,
   "metadata": {},
   "outputs": [],
   "source": [
    "# Read in file line by line. \n",
    "with open(\"data/rnaSeq.fa\") as fconnect:\n",
    "    lines = fconnect.readlines()\n",
    "\n",
    "# Now get the full sequence out\n",
    "fullSequence = \"\"\n",
    "for line in lines[1:]:\n",
    "    # Important to remove the \\n characters at end of the lines\n",
    "    line = line.strip()\n",
    "    # Concatenate the new sequence in the line into the new string fullSequence\n",
    "    fullSequence += line\n",
    "    \n",
    "# Get information from the first line - ignore the >\n",
    "firstLine = fileInLines[0]\n",
    "firstLineCols = firstLine[1:].split()\n",
    "geneID = firstLineCols[0]\n",
    "description = \" \".join(firstLineCols[1:])"
   ]
  },
  {
   "cell_type": "markdown",
   "metadata": {},
   "source": [
    "- Create a `for`-loop that iterates over the sequence and stores each codon in one list (named `codonList`) that will contain all of the codons, e.g. the sequence `'AGTCGTTAG'` will become `['AGT','CGT','TAG']`. Use the `range()`-function from day 1."
   ]
  },
  {
   "cell_type": "code",
   "execution_count": null,
   "metadata": {},
   "outputs": [],
   "source": [
    "codonList = []\n",
    "# Divide up the sequence depending on type (amino acid or nucleic acid)\n",
    "for seqIndex in range(0,len(fullSequence),3):\n",
    "    codonList.append(fullSequence[seqIndex:seqIndex+3])"
   ]
  },
  {
   "cell_type": "markdown",
   "metadata": {},
   "source": [
    "- Given the following two dictionaries, loop over each codon in the `codonList` and create a new list containing the three-letter amino-acids:\n",
    "  - `standardRnaToProtein`: containing the information to translate a RNA-codon to a one-letter amino-acid,\n",
    "  - `proteinOneToThree`: containing the information to link the one-letter to the three-letter amino acids.\n"
   ]
  },
  {
   "cell_type": "code",
   "execution_count": null,
   "metadata": {},
   "outputs": [],
   "source": [
    "from modules.SequenceDicts import standardRnaToProtein, proteinOneToThree\n",
    "print(standardRnaToProtein)\n",
    "print(proteinOneToThree)"
   ]
  },
  {
   "cell_type": "code",
   "execution_count": null,
   "metadata": {},
   "outputs": [],
   "source": [
    "proteinThreeLetterSeq = []\n",
    "\n",
    "for rnaCodon in codonList:\n",
    "    print(rnaCodon)\n",
    "    aaOneLetterCode = standardRnaToProtein[rnaCodon]\n",
    "    aaThreeLetterCode = proteinOneToThree[aaOneLetterCode]\n",
    "    proteinThreeLetterSeq.append(aaThreeLetterCode)\n",
    "print(proteinThreeLetterSeq)"
   ]
  },
  {
   "cell_type": "markdown",
   "metadata": {},
   "source": [
    "**Day 3**:\n",
    "- Write a function that puts everything together. It accepts only the name of fasta file, however has the following outputs:\n",
    "  - Always: geneID, description and the codonList.\n",
    "  - Only when asked: three-letter AA code\n",
    "- Let the function check whether the file exists."
   ]
  },
  {
   "cell_type": "code",
   "execution_count": null,
   "metadata": {},
   "outputs": [],
   "source": [
    "import os\n",
    " \n",
    "def readRnaFastaFile(fileName, threeLetterAA = False):\n",
    "    \"\"\"\n",
    "    This Function accepts a fasta file and the parameter threeLetterAA as input\n",
    "    Output: the geneID, description and full sequence of the fasta-file. \n",
    "    Optionally, use 'threeLetterAA = True' if you want a list with the AA codes.  \n",
    "    \"\"\"\n",
    "    # Check if file exists\n",
    "    if not os.path.exists(fileName):\n",
    "        print(\"Error: File {} not available!\".format(fileName))\n",
    "        return (None,None,None)\n",
    "    \n",
    "    # Read in the file\n",
    "    with open(fileName) as fconnect:\n",
    "        lines = fconnect.readlines()\n",
    "\n",
    "\n",
    "    sequenceInfo = []\n",
    "    geneID = None\n",
    "    description = None\n",
    "\n",
    "    # Get information from the first line - ignore the >\n",
    "    firstLine = lines[0]\n",
    "    firstLineCols = firstLine[1:].split()\n",
    "    geneID = firstLineCols[0]\n",
    "    description = firstLine[1:].replace(geneID,'').strip()\n",
    "\n",
    "    # Now get the full sequence out\n",
    "    fullSequence = \"\"\n",
    "    for line in lines[1:]:\n",
    "\n",
    "        line = line.strip()\n",
    "        fullSequence += line\n",
    "\n",
    "    codonList = []\n",
    "    # Divide up the sequence depending on type (amino acid or nucleic acid)\n",
    "    for seqIndex in range(0,len(fullSequence),3):\n",
    "        codonList.append(fullSequence[seqIndex:seqIndex+3])\n",
    "\n",
    "    # If the argument threeLetterAA is set to True, translate the sequence into three-letter AA codes\n",
    "    if threeLetterAA == True:\n",
    "        proteinThreeLetterSeq = []\n",
    "\n",
    "        for rnaCodon in codonList:\n",
    "            print(rnaCodon)\n",
    "            aaOneLetterCode = standardRnaToProtein[rnaCodon]\n",
    "            aaThreeLetterCode = proteinOneToThree[aaOneLetterCode]\n",
    "            proteinThreeLetterSeq.append(aaThreeLetterCode)\n",
    "    # If not set to True, return a None value.\n",
    "    else: \n",
    "        proteinThreeLetterSeq = None\n",
    "    \n",
    "    return (geneID, description, codonList, proteinThreeLetterSeq)"
   ]
  },
  {
   "cell_type": "code",
   "execution_count": null,
   "metadata": {},
   "outputs": [],
   "source": []
  },
  {
   "cell_type": "markdown",
   "metadata": {},
   "source": [
    "- Optionally, count the occurences of each AA and make a barplot.  "
   ]
  },
  {
   "cell_type": "code",
   "execution_count": null,
   "metadata": {},
   "outputs": [],
   "source": [
    "# Create barplot - to do"
   ]
  },
  {
   "cell_type": "markdown",
   "metadata": {},
   "source": [
    "### Project exercise extra\n",
    "Write a program that does the following:\n",
    "\n",
    "1. Ask the user for a full DNA sequence\n",
    "    - Make sure the sequence contains only GACT\n",
    "2. Once you have a valid sequence\n",
    "    - For each DNA fragment the user enters:\n",
    "        - Check if it occurs in the full sequence\n",
    "        - Print out the sequence position if so\n",
    "        - Track each fragment\n",
    "    - Keep on asking the user for DNA fragments, stop if they just press return\n",
    "3. As a summary, print out all fragments with their position that you tracked\n",
    "\n",
    "Tips to complete this exercise in case you get stuck.\n",
    "- Use while loops: you can use the condition to decide when to end the loop depending on the user input\n",
    "- Track the sequence fragment and position data using a list\n",
    "- Use string methods!\n",
    "- To check the full DNA sequence, you can count how many times each GACT letter occurs, add up these counts, and compare this value to the total length of the full DNA sequence"
   ]
  },
  {
   "cell_type": "code",
   "execution_count": null,
   "metadata": {},
   "outputs": [],
   "source": [
    "# This variable will be used for the while loop\n",
    "validSequence = False\n",
    " \n",
    "# Keep on going as long as the DNA sequence is not valid\n",
    "while not validSequence:\n",
    "    # Get a string from the user\n",
    "    fullDnaSequence = input(\"Please enter your full DNA sequence:\")\n",
    "    fullDnaSequence = fullDnaSequence.upper()\n",
    "    \n",
    "    # Count the GACT characters in the sequence\n",
    "    gactCount = 0\n",
    "    for code in 'GACT':\n",
    "        gactCount += fullDnaSequence.count(code)\n",
    " \n",
    "    # Check if the number of GACT characters matches the full length of the sequence\n",
    "    # and set validSequence to True if so - this will stop the while: loop\n",
    "    if gactCount == len(fullDnaSequence):\n",
    "        validSequence = True\n",
    "    else:\n",
    "        print(\"\\nInvalid sequence, only GACT allowed, try again!.\\n\")\n",
    "\n",
    "# Print some line breaks\n",
    "print(\"\\n\\n\")\n",
    " \n",
    "# Prime the list to track the DNA fragments and the variable for the while loop\n",
    "dnaFragmentInfo = []\n",
    "dnaFragment = input(\"Please give a DNA fragment to check:\")\n",
    " \n",
    "while dnaFragment:\n",
    "    \n",
    "    # Check if present at all\n",
    "    dnaFragmentCount = fullDnaSequence.count(dnaFragment)\n",
    "    if dnaFragmentCount:\n",
    "        currentDnaSequenceIndex = 0\n",
    "        for i in range(dnaFragmentCount):        \n",
    "            # Equivalent to currentDnaSequenceIndex = currentDnaSequenceIndex + fullDna...\n",
    "            currentDnaSequenceIndex += fullDnaSequence[currentDnaSequenceIndex:].index(dnaFragment)\n",
    " \n",
    "            print(f\"\\n  Fragment {dnaFragment} present at position {currentDnaSequenceIndex + 1}.\\n\")\n",
    "            dnaFragmentInfo.append((currentDnaSequenceIndex + 1,dnaFragment))\n",
    "            currentDnaSequenceIndex += 1\n",
    "    else:\n",
    "        print(f\"\\n  Fragment {dnaFragment} not present!\\n\")\n",
    " \n",
    "    dnaFragment = input(\"Please give a DNA fragment to check:\")\n",
    "\n",
    "# Print some line breaks\n",
    "print(\"\\n\\n\")\n",
    "\n",
    "# Print out the fragment information again, first sort it\n",
    "dnaFragmentInfo.sort()\n",
    "for (dnaFragmentPosition,dnaFragment) in dnaFragmentInfo:\n",
    "    print(f\"Found {dnaFragment} at position {dnaFragmentPosition}\")"
   ]
  }
 ],
 "metadata": {
  "kernelspec": {
   "display_name": "Python 3",
   "language": "python",
   "name": "python3"
  },
  "language_info": {
   "codemirror_mode": {
    "name": "ipython",
    "version": 3
   },
   "file_extension": ".py",
   "mimetype": "text/x-python",
   "name": "python",
   "nbconvert_exporter": "python",
   "pygments_lexer": "ipython3",
   "version": "3.7.5"
  }
 },
 "nbformat": 4,
 "nbformat_minor": 4
}
