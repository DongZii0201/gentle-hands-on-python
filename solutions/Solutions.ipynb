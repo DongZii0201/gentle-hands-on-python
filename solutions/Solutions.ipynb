{
 "cells": [
  {
   "cell_type": "markdown",
   "metadata": {
    "tags": []
   },
   "source": [
    "# Solutions\n",
    "\n",
    "| Chapter 2               | Chapter 3               | Chapter 4               | Chapter 5               | Chapter 6               | Chapter 7               | Chapter 8               | Chapter 9               | Chapter 10              |\n",
    "|-------------------------|-------------------------|-------------------------|-------------------------|-------------------------|-------------------------|-------------------------|-------------------------|-------------------------|\n",
    "| [2-1](#Exercise-2-1)    | [3-1](#Exercise-3-1)    | [4-1](#Exercise-4-1)    | [5-1](#Exercise-5-1)    | [6-1](#Exercise-6-1)    | [7-1](#Exercise-7-1)    | [8-1](#Exercise-8-1)    | [9.2.1](#9-2-1)         | [10-1](#Exercise-10-1)  |\n",
    "| [2-2](#Exercise-2-2)    | [3-2](#Exercise-3-2)    | [4-2](#Exercise-4-2)    | [5-2](#Exercise-5-2)    | [6-2](#Exercise-6-2)    | [7-2](#Exercise-7-2)    | [8-2](#Exercise-8-2)    | [9.2.2](#9-2-2)         |\n",
    "| [2-3](#Exercise-2-3)    | [3-3](#Exercise-3-3)    | [4-3](#Exercise-4-3)    | [5-3](#Exercise-5-3)    | [6-3](#Exercise-6-3)    | [7-3](#Exercise-7-3)    | [8-3](#Exercise-8-3)    | [9.4.1](#9-4-1)         |\n",
    "| [2-4](#Exercise-2-4)    | [3-4](#Exercise-3-4)    | [4-4](#Exercise-4-4)    | [5-4](#Exercise-5-4)    | [6-4](#Exercise-6-4)    | [7-4](#Exercise-7-4)    | [8-4](#Exercise-8-4)    | [9.4.2](#9-4-2)         |\n",
    "| [2-5](#Exercise-2-5)    | [3-5](#Exercise-3-5)    | [4-5](#Exercise-4-5)    | [5-5](#Exercise-5-5)    | [6-5](#Exercise-6-5)    | [7-5](#Exercise-7-5)    | [8-5](#Exercise-8-5)    | [9.4.3](#9-4-3)         |\n",
    "| [2-6](#Exercise-2-6)    | [3-6](#Exercise-3-6)    |                         | [5-6](#Exercise-5-6)    | [6-6](#Exercise-6-6)    |                         | [8-6](#Exercise-8-6)    | [9.4.4](#9-4-4)         |\n",
    "| [2-7](#Exercise-2-7)    |                         |                         | [5-7](#Exercise-5-7)    | [6-7](#Exercise-6-7)    |                         | [8-7](#Exercise-8-7)    |\n",
    "| [2-8](#Exercise-2-8)    |\n",
    "| [2-9](#Exercise-2-9)    |\n",
    "| [2-10](#Exercise-2-10)  |\n",
    "| [2-11](#Exercise-2-11)  |\n",
    "| [2-12](#Exercise-2-12)  |\n",
    "| [2-13](#Exercise-2-13)  |"
   ]
  },
  {
   "cell_type": "markdown",
   "metadata": {},
   "source": [
    "---\n",
    "### Exercise 2-1\n",
    "What happens when you try to divide by zero?"
   ]
  },
  {
   "cell_type": "code",
   "execution_count": 1,
   "metadata": {},
   "outputs": [
    {
     "ename": "ZeroDivisionError",
     "evalue": "division by zero",
     "output_type": "error",
     "traceback": [
      "\u001b[0;31m---------------------------------------------------------------------------\u001b[0m",
      "\u001b[0;31mZeroDivisionError\u001b[0m                         Traceback (most recent call last)",
      "\u001b[0;32m<ipython-input-1-adafc2937013>\u001b[0m in \u001b[0;36m<module>\u001b[0;34m\u001b[0m\n\u001b[0;32m----> 1\u001b[0;31m \u001b[0;36m5\u001b[0m \u001b[0;34m/\u001b[0m \u001b[0;36m0\u001b[0m\u001b[0;34m\u001b[0m\u001b[0;34m\u001b[0m\u001b[0m\n\u001b[0m",
      "\u001b[0;31mZeroDivisionError\u001b[0m: division by zero"
     ]
    }
   ],
   "source": [
    "5 / 0"
   ]
  },
  {
   "cell_type": "markdown",
   "metadata": {},
   "source": [
    "[&#9166;](#Solutions)\n",
    "\n",
    "---\n",
    "### Exercise 2-2\n",
    "Introduce brackets into this expression to make it evaluate to 5."
   ]
  },
  {
   "cell_type": "code",
   "execution_count": 2,
   "metadata": {},
   "outputs": [
    {
     "data": {
      "text/plain": [
       "5.0"
      ]
     },
     "execution_count": 2,
     "metadata": {},
     "output_type": "execute_result"
    }
   ],
   "source": [
    "(8 * 6 / 4 - 2) * 0.5"
   ]
  },
  {
   "cell_type": "markdown",
   "metadata": {},
   "source": [
    "[&#9166;](#Solutions)\n",
    "\n",
    "---\n",
    "### Exercise 2-3\n",
    "What do you expect this expression to evaluate to?"
   ]
  },
  {
   "cell_type": "code",
   "execution_count": 1,
   "metadata": {},
   "outputs": [
    {
     "ename": "TypeError",
     "evalue": "unsupported operand type(s) for +: 'int' and 'str'",
     "output_type": "error",
     "traceback": [
      "\u001b[0;31m---------------------------------------------------------------------------\u001b[0m",
      "\u001b[0;31mTypeError\u001b[0m                                 Traceback (most recent call last)",
      "\u001b[0;32m<ipython-input-1-f60006d25ffc>\u001b[0m in \u001b[0;36m<module>\u001b[0;34m\u001b[0m\n\u001b[0;32m----> 1\u001b[0;31m \u001b[0;36m3\u001b[0m \u001b[0;34m+\u001b[0m \u001b[0;34m'five'\u001b[0m\u001b[0;34m\u001b[0m\u001b[0;34m\u001b[0m\u001b[0m\n\u001b[0m",
      "\u001b[0;31mTypeError\u001b[0m: unsupported operand type(s) for +: 'int' and 'str'"
     ]
    }
   ],
   "source": [
    "3 + 'five'"
   ]
  },
  {
   "cell_type": "markdown",
   "metadata": {},
   "source": [
    "You will receive an error from the Python interpreter. Something like: `TypeError: unsupported operand type(s) for +: 'int' and 'str'`. When this happens it is important to **read the error message**. It will help you to diagnose and fix the mistake you made."
   ]
  },
  {
   "cell_type": "markdown",
   "metadata": {},
   "source": [
    "[&#9166;](#Solutions)\n",
    "\n",
    "---\n",
    "### Exercise 2-4\n",
    "Can you guess what the expression, `not False` will exaluate to?"
   ]
  },
  {
   "cell_type": "code",
   "execution_count": 2,
   "metadata": {},
   "outputs": [
    {
     "data": {
      "text/plain": [
       "True"
      ]
     },
     "execution_count": 2,
     "metadata": {},
     "output_type": "execute_result"
    }
   ],
   "source": [
    "not False == True"
   ]
  },
  {
   "cell_type": "markdown",
   "metadata": {},
   "source": [
    "[&#9166;](#Solutions)\n",
    "\n",
    "---\n",
    "### Exercise 2-5\n",
    "Make the expression in the following code cell evaluate to `True`. What is the `!=` operator doing?"
   ]
  },
  {
   "cell_type": "markdown",
   "metadata": {},
   "source": [
    "The `!=` operator can be read as \"not equal\". So modifying the expression to what is below should evaluate to `True`."
   ]
  },
  {
   "cell_type": "code",
   "execution_count": 3,
   "metadata": {},
   "outputs": [
    {
     "data": {
      "text/plain": [
       "True"
      ]
     },
     "execution_count": 3,
     "metadata": {},
     "output_type": "execute_result"
    }
   ],
   "source": [
    "\"hello\" != \"world\""
   ]
  },
  {
   "cell_type": "code",
   "execution_count": 2,
   "metadata": {},
   "outputs": [
    {
     "data": {
      "text/plain": [
       "True"
      ]
     },
     "execution_count": 2,
     "metadata": {},
     "output_type": "execute_result"
    }
   ],
   "source": [
    "\"hello\" == \"hello\""
   ]
  },
  {
   "cell_type": "markdown",
   "metadata": {},
   "source": [
    "[&#9166;](#Solutions)\n",
    "\n",
    "---\n",
    "### Exercise 2-6\n",
    "Predict the outcome of each of these operations before evaluating the cells to see if you're correct."
   ]
  },
  {
   "cell_type": "code",
   "execution_count": 3,
   "metadata": {},
   "outputs": [
    {
     "data": {
      "text/plain": [
       "True"
      ]
     },
     "execution_count": 3,
     "metadata": {},
     "output_type": "execute_result"
    }
   ],
   "source": [
    "10 >= (5 + 5)"
   ]
  },
  {
   "cell_type": "code",
   "execution_count": 4,
   "metadata": {},
   "outputs": [
    {
     "data": {
      "text/plain": [
       "True"
      ]
     },
     "execution_count": 4,
     "metadata": {},
     "output_type": "execute_result"
    }
   ],
   "source": [
    "(1 + 2 + 3 + 4) == 10"
   ]
  },
  {
   "cell_type": "code",
   "execution_count": 5,
   "metadata": {},
   "outputs": [
    {
     "data": {
      "text/plain": [
       "True"
      ]
     },
     "execution_count": 5,
     "metadata": {},
     "output_type": "execute_result"
    }
   ],
   "source": [
    "abs(-22) != 1"
   ]
  },
  {
   "cell_type": "code",
   "execution_count": 6,
   "metadata": {},
   "outputs": [
    {
     "data": {
      "text/plain": [
       "False"
      ]
     },
     "execution_count": 6,
     "metadata": {},
     "output_type": "execute_result"
    }
   ],
   "source": [
    "\"HELLO\" == \"hello\""
   ]
  },
  {
   "cell_type": "code",
   "execution_count": 7,
   "metadata": {},
   "outputs": [
    {
     "data": {
      "text/plain": [
       "False"
      ]
     },
     "execution_count": 7,
     "metadata": {},
     "output_type": "execute_result"
    }
   ],
   "source": [
    "len(\"hello\") <= 4"
   ]
  },
  {
   "cell_type": "code",
   "execution_count": 3,
   "metadata": {},
   "outputs": [
    {
     "data": {
      "text/plain": [
       "False"
      ]
     },
     "execution_count": 3,
     "metadata": {},
     "output_type": "execute_result"
    }
   ],
   "source": [
    "\"Guido \" + \"van Rossum\" == 65"
   ]
  },
  {
   "cell_type": "markdown",
   "metadata": {},
   "source": [
    "[&#9166;](#Solutions)\n",
    "\n",
    "---\n",
    "### Exercise 2-7\n",
    "Write a program where you ask the computer a question and the computer prints out the answer \"42\"."
   ]
  },
  {
   "cell_type": "code",
   "execution_count": 4,
   "metadata": {},
   "outputs": [
    {
     "name": "stdin",
     "output_type": "stream",
     "text": [
      "Ask me a question: What is the meaning of life, the universe, and everything?\n"
     ]
    },
    {
     "name": "stdout",
     "output_type": "stream",
     "text": [
      "42\n"
     ]
    }
   ],
   "source": [
    "input(\"Ask me a question:\")\n",
    "print(42)"
   ]
  },
  {
   "cell_type": "code",
   "execution_count": 5,
   "metadata": {},
   "outputs": [
    {
     "name": "stdin",
     "output_type": "stream",
     "text": [
      "Give me a number: 5.5\n"
     ]
    },
    {
     "data": {
      "text/plain": [
       "0.5"
      ]
     },
     "execution_count": 5,
     "metadata": {},
     "output_type": "execute_result"
    }
   ],
   "source": [
    "myNumber = float(input(\"Give me a number:\"))\n",
    "intPart = int(myNumber)\n",
    "myNumber - intPart"
   ]
  },
  {
   "cell_type": "markdown",
   "metadata": {},
   "source": [
    "[&#9166;](#Solutions)\n",
    "\n",
    "---\n",
    "### Exercise 2-8\n",
    "Write a program that computes the area of a circle with radius given by the user."
   ]
  },
  {
   "cell_type": "code",
   "execution_count": 6,
   "metadata": {},
   "outputs": [
    {
     "name": "stdin",
     "output_type": "stream",
     "text": [
      "Radius of a circle: 3.14159\n"
     ]
    },
    {
     "data": {
      "text/plain": [
       "31.006224300558934"
      ]
     },
     "execution_count": 6,
     "metadata": {},
     "output_type": "execute_result"
    }
   ],
   "source": [
    "from math import pi\n",
    "radius = float(input(\"Radius of a circle:\"))\n",
    "pi * (radius ** 2)"
   ]
  },
  {
   "cell_type": "markdown",
   "metadata": {},
   "source": [
    "[&#9166;](#Solutions)\n",
    "\n",
    "---\n",
    "\n",
    "### Exercise 2-9\n",
    "Can you compare strings? What does it mean for one string to be less than another string? What does the following expression evaluate to and why?"
   ]
  },
  {
   "cell_type": "code",
   "execution_count": null,
   "metadata": {},
   "outputs": [],
   "source": [
    "\"three\" > \"six\""
   ]
  },
  {
   "cell_type": "markdown",
   "metadata": {},
   "source": [
    "Strings **can** be compared. It is clear you might want to check if 2 strings are the same, e.g.\n",
    "```python\n",
    "\"ATGC\" == \"ATTC\"\n",
    "```\n",
    "Strings are compared **alphabetically**, `'t'` is later in the alphabet than `'s'` so `'t' > 's'`."
   ]
  },
  {
   "cell_type": "markdown",
   "metadata": {},
   "source": [
    "[&#9166;](#Solutions)\n",
    "\n",
    "---\n",
    "\n",
    "### Exercise 2-10\n",
    "You know that the `*` symbol is the operator for multiplication, `+` is addition, `/` is division, etc. Here is a new operator, see if you can find out what it does:\n",
    "* `//` (e.g. `5 // 2`)"
   ]
  },
  {
   "cell_type": "code",
   "execution_count": 7,
   "metadata": {},
   "outputs": [
    {
     "data": {
      "text/plain": [
       "2"
      ]
     },
     "execution_count": 7,
     "metadata": {},
     "output_type": "execute_result"
    }
   ],
   "source": [
    "5 // 2 # Integer division (ignores the fractional part of the result)"
   ]
  },
  {
   "cell_type": "markdown",
   "metadata": {},
   "source": [
    "[&#9166;](#Solutions)\n",
    "\n",
    "---\n",
    "### Exercise 2-11\n",
    "Use the `int()` function to convert fractional numbers (like `3.14159`) into integers."
   ]
  },
  {
   "cell_type": "code",
   "execution_count": 15,
   "metadata": {},
   "outputs": [
    {
     "data": {
      "text/plain": [
       "3"
      ]
     },
     "execution_count": 15,
     "metadata": {},
     "output_type": "execute_result"
    }
   ],
   "source": [
    "int(3.14159)"
   ]
  },
  {
   "cell_type": "code",
   "execution_count": 16,
   "metadata": {},
   "outputs": [
    {
     "data": {
      "text/plain": [
       "-1"
      ]
     },
     "execution_count": 16,
     "metadata": {},
     "output_type": "execute_result"
    }
   ],
   "source": [
    "int(-1.2345)"
   ]
  },
  {
   "cell_type": "markdown",
   "metadata": {},
   "source": [
    "[&#9166;](#Solutions)\n",
    "\n",
    "---\n",
    "### Exercise 2-12\n",
    "Give the variable `n` a value and display `True` if `n` is even, otherwise display `False`"
   ]
  },
  {
   "cell_type": "code",
   "execution_count": 11,
   "metadata": {},
   "outputs": [
    {
     "data": {
      "text/plain": [
       "False"
      ]
     },
     "execution_count": 11,
     "metadata": {},
     "output_type": "execute_result"
    }
   ],
   "source": [
    "n = 5\n",
    "n % 2 == 0"
   ]
  },
  {
   "cell_type": "markdown",
   "metadata": {
    "tags": []
   },
   "source": [
    "[&#9166;](#Solutions)\n",
    "\n",
    "---\n",
    "### Exercise 2-13\n",
    "Write a program to ask the user for their name, then print out a greeting using their name. You can use the `input()` and `print()` commands."
   ]
  },
  {
   "cell_type": "code",
   "execution_count": 14,
   "metadata": {},
   "outputs": [
    {
     "name": "stdin",
     "output_type": "stream",
     "text": [
      "What is your name James\n"
     ]
    },
    {
     "name": "stdout",
     "output_type": "stream",
     "text": [
      "Hello James\n"
     ]
    }
   ],
   "source": [
    "name = input(\"What is your name\")\n",
    "print(\"Hello\", name)"
   ]
  },
  {
   "cell_type": "markdown",
   "metadata": {},
   "source": [
    "[&#9166;](#Solutions)\n",
    "\n",
    "---\n",
    "### Exercise 3-1\n",
    "How would you test the following function. Write some tests, try to discover a bug."
   ]
  },
  {
   "cell_type": "code",
   "execution_count": 11,
   "metadata": {},
   "outputs": [
    {
     "ename": "AssertionError",
     "evalue": "",
     "output_type": "error",
     "traceback": [
      "\u001b[0;31m---------------------------------------------------------------------------\u001b[0m",
      "\u001b[0;31mAssertionError\u001b[0m                            Traceback (most recent call last)",
      "\u001b[0;32m<ipython-input-11-f18492f48323>\u001b[0m in \u001b[0;36m<module>\u001b[0;34m\u001b[0m\n\u001b[1;32m      7\u001b[0m \u001b[0;31m# Write your tests here\u001b[0m\u001b[0;34m\u001b[0m\u001b[0;34m\u001b[0m\u001b[0;34m\u001b[0m\u001b[0m\n\u001b[1;32m      8\u001b[0m \u001b[0;31m# Reading the function, I immediately suspect its returning me the integer part. Lets write a test for that hypothesis\u001b[0m\u001b[0;34m\u001b[0m\u001b[0;34m\u001b[0m\u001b[0;34m\u001b[0m\u001b[0m\n\u001b[0;32m----> 9\u001b[0;31m \u001b[0;32massert\u001b[0m \u001b[0;36m5\u001b[0m \u001b[0;34m==\u001b[0m \u001b[0mfractional_part\u001b[0m\u001b[0;34m(\u001b[0m\u001b[0;36m5.5\u001b[0m\u001b[0;34m)\u001b[0m\u001b[0;34m\u001b[0m\u001b[0;34m\u001b[0m\u001b[0m\n\u001b[0m",
      "\u001b[0;31mAssertionError\u001b[0m: "
     ]
    }
   ],
   "source": [
    "def fractional_part(number):\n",
    "    \"\"\"Find the fractional part of an input floating point number.\"\"\"\n",
    "    int_part = int(number) + 1\n",
    "    frac_part = int_part + number\n",
    "    return int_part\n",
    "\n",
    "# Write your tests here\n",
    "# Reading the function, I immediately suspect its returning me the integer part. Lets write a test for that hypothesis\n",
    "assert 5 == fractional_part(5.5)"
   ]
  },
  {
   "cell_type": "code",
   "execution_count": 12,
   "metadata": {},
   "outputs": [],
   "source": [
    "# No, but it seems to be adding 1 to the integer part. Let's check that:\n",
    "assert 6 == fractional_part(5.5) # Yes, no output means that assertion was correct. Lets fix the function:"
   ]
  },
  {
   "cell_type": "code",
   "execution_count": 15,
   "metadata": {},
   "outputs": [
    {
     "ename": "AssertionError",
     "evalue": "",
     "output_type": "error",
     "traceback": [
      "\u001b[0;31m---------------------------------------------------------------------------\u001b[0m",
      "\u001b[0;31mAssertionError\u001b[0m                            Traceback (most recent call last)",
      "\u001b[0;32m<ipython-input-15-a3c3ad2b484b>\u001b[0m in \u001b[0;36m<module>\u001b[0;34m\u001b[0m\n\u001b[1;32m      5\u001b[0m     \u001b[0;32mreturn\u001b[0m \u001b[0mfrac_part\u001b[0m\u001b[0;34m\u001b[0m\u001b[0;34m\u001b[0m\u001b[0m\n\u001b[1;32m      6\u001b[0m \u001b[0;34m\u001b[0m\u001b[0m\n\u001b[0;32m----> 7\u001b[0;31m \u001b[0;32massert\u001b[0m \u001b[0;36m0.5\u001b[0m \u001b[0;34m==\u001b[0m \u001b[0mfractional_part\u001b[0m\u001b[0;34m(\u001b[0m\u001b[0;36m5.5\u001b[0m\u001b[0;34m)\u001b[0m \u001b[0;31m# No this still fails. What's the fractional part computation doing?\u001b[0m\u001b[0;34m\u001b[0m\u001b[0;34m\u001b[0m\u001b[0m\n\u001b[0m\u001b[1;32m      8\u001b[0m \u001b[0;32massert\u001b[0m \u001b[0;36m10.5\u001b[0m \u001b[0;34m==\u001b[0m \u001b[0mfractional_part\u001b[0m\u001b[0;34m(\u001b[0m\u001b[0;36m5.5\u001b[0m\u001b[0;34m)\u001b[0m \u001b[0;31m# That succeeds. It's adding rather than subtracting. Lets fix that...\u001b[0m\u001b[0;34m\u001b[0m\u001b[0;34m\u001b[0m\u001b[0m\n",
      "\u001b[0;31mAssertionError\u001b[0m: "
     ]
    }
   ],
   "source": [
    "def fractional_part(number):\n",
    "    \"\"\"Find the fractional part of an input floating point number.\"\"\"\n",
    "    int_part = int(number)\n",
    "    frac_part = int_part + number\n",
    "    return frac_part\n",
    "\n",
    "assert 0.5 == fractional_part(5.5) # No this still fails. What's the fractional part computation doing?\n",
    "assert 10.5 == fractional_part(5.5) # That succeeds. It's adding rather than subtracting. Lets fix that..."
   ]
  },
  {
   "cell_type": "code",
   "execution_count": 16,
   "metadata": {},
   "outputs": [
    {
     "ename": "AssertionError",
     "evalue": "",
     "output_type": "error",
     "traceback": [
      "\u001b[0;31m---------------------------------------------------------------------------\u001b[0m",
      "\u001b[0;31mAssertionError\u001b[0m                            Traceback (most recent call last)",
      "\u001b[0;32m<ipython-input-16-2788debf1ebe>\u001b[0m in \u001b[0;36m<module>\u001b[0;34m\u001b[0m\n\u001b[1;32m      7\u001b[0m \u001b[0;32massert\u001b[0m \u001b[0;36m0\u001b[0m \u001b[0;34m==\u001b[0m \u001b[0mfractional_part\u001b[0m\u001b[0;34m(\u001b[0m\u001b[0;36m0\u001b[0m\u001b[0;34m)\u001b[0m\u001b[0;34m\u001b[0m\u001b[0;34m\u001b[0m\u001b[0m\n\u001b[1;32m      8\u001b[0m \u001b[0;32massert\u001b[0m \u001b[0;36m0.5\u001b[0m \u001b[0;34m==\u001b[0m \u001b[0mfractional_part\u001b[0m\u001b[0;34m(\u001b[0m\u001b[0;36m5.5\u001b[0m\u001b[0;34m)\u001b[0m\u001b[0;34m\u001b[0m\u001b[0;34m\u001b[0m\u001b[0m\n\u001b[0;32m----> 9\u001b[0;31m \u001b[0;32massert\u001b[0m \u001b[0;36m0.2\u001b[0m \u001b[0;34m==\u001b[0m \u001b[0mfractional_part\u001b[0m\u001b[0;34m(\u001b[0m\u001b[0;34m-\u001b[0m\u001b[0;36m8.2\u001b[0m\u001b[0;34m)\u001b[0m\u001b[0;34m\u001b[0m\u001b[0;34m\u001b[0m\u001b[0m\n\u001b[0m",
      "\u001b[0;31mAssertionError\u001b[0m: "
     ]
    }
   ],
   "source": [
    "def fractional_part(number):\n",
    "    \"\"\"Find the fractional part of an input floating point number.\"\"\"\n",
    "    int_part = int(number)\n",
    "    frac_part = number - int_part\n",
    "    return frac_part\n",
    "\n",
    "assert 0 == fractional_part(0)\n",
    "assert 0.5 == fractional_part(5.5)\n",
    "assert 0.2 == fractional_part(-8.2)"
   ]
  },
  {
   "cell_type": "markdown",
   "metadata": {},
   "source": [
    "We're nearly there. Just have to deal with negative values..."
   ]
  },
  {
   "cell_type": "code",
   "execution_count": 21,
   "metadata": {},
   "outputs": [
    {
     "ename": "AssertionError",
     "evalue": "0.1999999999999993",
     "output_type": "error",
     "traceback": [
      "\u001b[0;31m---------------------------------------------------------------------------\u001b[0m",
      "\u001b[0;31mAssertionError\u001b[0m                            Traceback (most recent call last)",
      "\u001b[0;32m<ipython-input-21-f57ada255a43>\u001b[0m in \u001b[0;36m<module>\u001b[0;34m\u001b[0m\n\u001b[1;32m      7\u001b[0m \u001b[0;32massert\u001b[0m \u001b[0;36m0\u001b[0m \u001b[0;34m==\u001b[0m \u001b[0mfractional_part\u001b[0m\u001b[0;34m(\u001b[0m\u001b[0;36m0\u001b[0m\u001b[0;34m)\u001b[0m\u001b[0;34m\u001b[0m\u001b[0;34m\u001b[0m\u001b[0m\n\u001b[1;32m      8\u001b[0m \u001b[0;32massert\u001b[0m \u001b[0;36m0.5\u001b[0m \u001b[0;34m==\u001b[0m \u001b[0mfractional_part\u001b[0m\u001b[0;34m(\u001b[0m\u001b[0;36m5.5\u001b[0m\u001b[0;34m)\u001b[0m\u001b[0;34m\u001b[0m\u001b[0;34m\u001b[0m\u001b[0m\n\u001b[0;32m----> 9\u001b[0;31m \u001b[0;32massert\u001b[0m \u001b[0;36m0.2\u001b[0m \u001b[0;34m==\u001b[0m \u001b[0mfractional_part\u001b[0m\u001b[0;34m(\u001b[0m\u001b[0;34m-\u001b[0m\u001b[0;36m8.2\u001b[0m\u001b[0;34m)\u001b[0m\u001b[0;34m,\u001b[0m \u001b[0;34mf\"{fractional_part(-8.2)}\"\u001b[0m\u001b[0;34m\u001b[0m\u001b[0;34m\u001b[0m\u001b[0m\n\u001b[0m",
      "\u001b[0;31mAssertionError\u001b[0m: 0.1999999999999993"
     ]
    }
   ],
   "source": [
    "def fractional_part(number):\n",
    "    \"\"\"Find the fractional part of an input floating point number.\"\"\"\n",
    "    int_part = abs(int(number))\n",
    "    frac_part = abs(number) - int_part\n",
    "    return frac_part\n",
    "\n",
    "assert 0 == fractional_part(0)\n",
    "assert 0.5 == fractional_part(5.5)\n",
    "assert 0.2 == fractional_part(-8.2), f\"{fractional_part(-8.2)}\""
   ]
  },
  {
   "cell_type": "markdown",
   "metadata": {},
   "source": [
    "Ah! Remember floating point approximation! Fixing this is left as an exercise."
   ]
  },
  {
   "cell_type": "markdown",
   "metadata": {},
   "source": [
    "[&#9166;](#Solutions)\n",
    "\n",
    "---\n",
    "\n",
    "### Exercise 3-2\n",
    "Write a function called `distance` that accepts 2 numbers called `x` and `y` as arguments and computes the euclidean distance of the coordinate $(x,y)$ from the origin $(0,0)$ $$d(x, y) = \\sqrt{x^2 + y^2}$$"
   ]
  },
  {
   "cell_type": "code",
   "execution_count": 11,
   "metadata": {},
   "outputs": [],
   "source": [
    "from math import sqrt\n",
    "\n",
    "# Write your function here\n",
    "def distance(x, y):\n",
    "    \"Distance between coordinate (x,y) and origin.\"\n",
    "    return sqrt(x**2 + y**2)\n",
    "\n",
    "assert 5 == distance(3, 4), f\"The coordinate (3,4) is 5 units from the origin, not {distance(3,4)} units.\"\n",
    "assert 13 == distance(5, 12), f\"The coordinate (4,12) is 13 units from the origin, not {distance(5,12)} units.\"\n",
    "assert 17 == distance(8, 15), f\"The coordinate (8,15) is 17 units from the origin, not {distance(8,15)} units.\"\n",
    "assert distance.__doc__ is not None, \"You should write a docstring to help other use your function.\""
   ]
  },
  {
   "cell_type": "markdown",
   "metadata": {},
   "source": [
    "[&#9166;](#Solutions)\n",
    " \n",
    "---\n",
    "### Exercise 3-3\n",
    "Write a function called `l2norm` that computes the euclidean distance between any 2 arbitrary points in 3D space.\n",
    "\n",
    "$$\\ell^{2}(\\vec{a}, \\vec{b}) = \\sqrt{\\sum_{k=1}^3(x_k - y_k)^2}$$"
   ]
  },
  {
   "cell_type": "code",
   "execution_count": 47,
   "metadata": {},
   "outputs": [],
   "source": [
    "from math import sqrt\n",
    "\n",
    "def l2norm(x1, y1, z1, x2, y2, z2):\n",
    "    return sqrt((x1 - x2)**2 + (y1 - y2)**2 + (z1 - z2)**2)\n",
    "\n",
    "assert l2norm(0, 0, 0, 0, 0, 0) == 0, f\"Expected 0, got: {l2norm(0, 0, 0, 0, 0, 0)}\"\n",
    "assert l2norm(0, 0, 0, 0, 0, 1) == 1, f\"Expected 1, got: {l2norm(0, 0, 0, 0, 0, 1)}\"\n",
    "assert l2norm(0, 0, 0, 0, -1, 0) == 1, f\"Expected 1, got: {l2norm(0, 0, 0, 0, -1, 0)}\"\n",
    "assert l2norm(0, 0, 0, 2.2, 0, 0) == 2.2, f\"Expected 0, got: {l2norm(0, 0, 0, 2.2, 0, 0)}\"\n",
    "assert l2norm(0, 0, -2.2, 0, 0, 0) == 2.2, f\"Expected 0, got: {l2norm(0, 0, -2.2, 0, 0, 0)}\"\n",
    "assert l2norm(0, 5.1, 0, 0, 0, 0) == 5.1, f\"Expected 0, got: {l2norm(0, 5.1, 0, 0, 0, 0)}\"\n",
    "assert l2norm(0.2, 0, 0, 0, 0, 0) == 0.2, f\"Expected 0.1, got: {l2norm(0.2, 0, 0, 0, 0, 0)}\"\n",
    "assert l2norm(0, 0, 0, 3, 4, 12) == 13.0, f\"Expected 0, got: {l2norm(0, 0, 0, 3, 4, 12)}\""
   ]
  },
  {
   "cell_type": "markdown",
   "metadata": {},
   "source": [
    "[&#9166;](#Solutions)\n",
    "\n",
    "---\n",
    "### Exercise 3-4\n",
    "Since programs are just functions composed of functions and values, it is time for you to write a non-trivial program.\n",
    "\n",
    "Write a program called `ball_height` that accepts coordinates relative to a thrower (e.g. 5 metres east, and 7.5 metres south) and compute the height of a ball, thrown in their direction, when it reaches them. Hint: use the `ball_trajectory()` and distance functions we've defined above."
   ]
  },
  {
   "cell_type": "code",
   "execution_count": 24,
   "metadata": {},
   "outputs": [],
   "source": [
    "def ball_height(x, y):\n",
    "    \"Ball height at coordinate (x,y) after being thrown from the origin.\"\n",
    "    return ball_trajectory(distance(x, y))\n",
    "\n",
    "assert abs(ball_height(0.2, 0.9) - 7.5195) < 0.0001, f\"Got:{ball_height(0.2, 0.9)}; Expected: 7.5195\"\n",
    "assert abs(ball_height(0.1, 0.75) - 6.4213) < 0.0001, f\"Got:{ball_height(0.1, 0.75)}; Expected: 6.4213\"\n",
    "assert abs(ball_height(1, 2.5) - 12.4258) < 0.0001, f\"Got:{ball_height(1, 2.5)}; Expected: 12.4258\"\n",
    "assert ball_height.__doc__ is not None, \"You should write a docstring to help other use your function.\""
   ]
  },
  {
   "cell_type": "markdown",
   "metadata": {},
   "source": [
    "[&#9166;](#Solutions)\n",
    "\n",
    "---\n",
    "\n",
    "### Exercise 3-5\n",
    "Now that you've seen that functions and values can be composed to build programs lets write a function composing function called `compose()`"
   ]
  },
  {
   "cell_type": "code",
   "execution_count": 3,
   "metadata": {},
   "outputs": [],
   "source": [
    "def compose(funA, funB):\n",
    "    \"Compose 2 functions that take a single argument into a single function\"\n",
    "    def composed(x):\n",
    "        return funA(funB(x))\n",
    "    \n",
    "    return composed\n",
    "\n",
    "assert (compose(str, len)(\"hello\")) == \"5\" , f\"I expected '5', got: {compose(str, len)('hello')}\"\n",
    "assert (compose(sum, list)({1, 3, 5})) == 9, f\"I expected 9, got: {compose(sum, list)({1, 3, 5})}\""
   ]
  },
  {
   "cell_type": "markdown",
   "metadata": {},
   "source": [
    "[&#9166;](#Solutions)\n",
    "\n",
    "---\n",
    "### Exercise 3-6\n",
    "Two functions are defined below that operate on text. The first, called `first()`, gets the first chatacter in the string. The second, called `rest()` drops the first character in the string and returns the \"rest\". Use `compose()` with these 2 functions (`first()` and `rest()`) to write a function to get the second character in any string."
   ]
  },
  {
   "cell_type": "code",
   "execution_count": 7,
   "metadata": {},
   "outputs": [],
   "source": [
    "def first(text):\n",
    "    \"Return the first character in the input string\"\n",
    "    return text[0]\n",
    "\n",
    "def rest(text):\n",
    "    \"Return the input string without the first character\"\n",
    "    return text[1:]\n",
    "\n",
    "second = compose(first, rest)\n",
    "\n",
    "assert second(\"hello\") == \"e\", f\"Expected 'e', got: {second('hello')}\"\n",
    "assert second(\"at\") == 't', f\"Expected 't', got: {second('at')}\""
   ]
  },
  {
   "cell_type": "markdown",
   "metadata": {},
   "source": [
    "What happends when you pass a single character to `second()`?"
   ]
  },
  {
   "cell_type": "code",
   "execution_count": 8,
   "metadata": {},
   "outputs": [
    {
     "ename": "IndexError",
     "evalue": "string index out of range",
     "output_type": "error",
     "traceback": [
      "\u001b[0;31m---------------------------------------------------------------------------\u001b[0m",
      "\u001b[0;31mIndexError\u001b[0m                                Traceback (most recent call last)",
      "\u001b[0;32m<ipython-input-8-012b37c567a4>\u001b[0m in \u001b[0;36m<module>\u001b[0;34m\u001b[0m\n\u001b[0;32m----> 1\u001b[0;31m \u001b[0msecond\u001b[0m\u001b[0;34m(\u001b[0m\u001b[0;34m'a'\u001b[0m\u001b[0;34m)\u001b[0m\u001b[0;34m\u001b[0m\u001b[0;34m\u001b[0m\u001b[0m\n\u001b[0m",
      "\u001b[0;32m<ipython-input-3-ec59fc28c8fe>\u001b[0m in \u001b[0;36mcomposed\u001b[0;34m(x)\u001b[0m\n\u001b[1;32m      2\u001b[0m     \u001b[0;34m\"Compose 2 functions that take a single argument into a single function\"\u001b[0m\u001b[0;34m\u001b[0m\u001b[0;34m\u001b[0m\u001b[0m\n\u001b[1;32m      3\u001b[0m     \u001b[0;32mdef\u001b[0m \u001b[0mcomposed\u001b[0m\u001b[0;34m(\u001b[0m\u001b[0mx\u001b[0m\u001b[0;34m)\u001b[0m\u001b[0;34m:\u001b[0m\u001b[0;34m\u001b[0m\u001b[0;34m\u001b[0m\u001b[0m\n\u001b[0;32m----> 4\u001b[0;31m         \u001b[0;32mreturn\u001b[0m \u001b[0mfunA\u001b[0m\u001b[0;34m(\u001b[0m\u001b[0mfunB\u001b[0m\u001b[0;34m(\u001b[0m\u001b[0mx\u001b[0m\u001b[0;34m)\u001b[0m\u001b[0;34m)\u001b[0m\u001b[0;34m\u001b[0m\u001b[0;34m\u001b[0m\u001b[0m\n\u001b[0m\u001b[1;32m      5\u001b[0m \u001b[0;34m\u001b[0m\u001b[0m\n\u001b[1;32m      6\u001b[0m     \u001b[0;32mreturn\u001b[0m \u001b[0mcomposed\u001b[0m\u001b[0;34m\u001b[0m\u001b[0;34m\u001b[0m\u001b[0m\n",
      "\u001b[0;32m<ipython-input-7-9aadd6749e37>\u001b[0m in \u001b[0;36mfirst\u001b[0;34m(text)\u001b[0m\n\u001b[1;32m      1\u001b[0m \u001b[0;32mdef\u001b[0m \u001b[0mfirst\u001b[0m\u001b[0;34m(\u001b[0m\u001b[0mtext\u001b[0m\u001b[0;34m)\u001b[0m\u001b[0;34m:\u001b[0m\u001b[0;34m\u001b[0m\u001b[0;34m\u001b[0m\u001b[0m\n\u001b[1;32m      2\u001b[0m     \u001b[0;34m\"Return the first character in the input string\"\u001b[0m\u001b[0;34m\u001b[0m\u001b[0;34m\u001b[0m\u001b[0m\n\u001b[0;32m----> 3\u001b[0;31m     \u001b[0;32mreturn\u001b[0m \u001b[0mtext\u001b[0m\u001b[0;34m[\u001b[0m\u001b[0;36m0\u001b[0m\u001b[0;34m]\u001b[0m\u001b[0;34m\u001b[0m\u001b[0;34m\u001b[0m\u001b[0m\n\u001b[0m\u001b[1;32m      4\u001b[0m \u001b[0;34m\u001b[0m\u001b[0m\n\u001b[1;32m      5\u001b[0m \u001b[0;32mdef\u001b[0m \u001b[0mrest\u001b[0m\u001b[0;34m(\u001b[0m\u001b[0mtext\u001b[0m\u001b[0;34m)\u001b[0m\u001b[0;34m:\u001b[0m\u001b[0;34m\u001b[0m\u001b[0;34m\u001b[0m\u001b[0m\n",
      "\u001b[0;31mIndexError\u001b[0m: string index out of range"
     ]
    }
   ],
   "source": [
    "second('a')"
   ]
  },
  {
   "cell_type": "code",
   "execution_count": 6,
   "metadata": {},
   "outputs": [
    {
     "data": {
      "text/plain": [
       "''"
      ]
     },
     "execution_count": 6,
     "metadata": {},
     "output_type": "execute_result"
    }
   ],
   "source": [
    "rest('a')"
   ]
  },
  {
   "cell_type": "markdown",
   "metadata": {},
   "source": [
    "The `rest()` function is called first with the argument 'a'. This returns the empty string `''` from which `first()` cannot get the first character."
   ]
  },
  {
   "cell_type": "markdown",
   "metadata": {},
   "source": [
    "[&#9166;](#Solutions)\n",
    "\n",
    "---\n",
    "### Exercise 4-1\n",
    "\n",
    "Two functions are defined below that operate on text. The first, called `first()`, gets the first chatacter in the string. The second, called `rest()` drops the first character in the string and returns the \"rest\". Use `compose()` with these 2 functions (`first()` and `rest()`) to write a function to get the second character in any string."
   ]
  },
  {
   "cell_type": "code",
   "execution_count": null,
   "metadata": {},
   "outputs": [],
   "source": [
    "def fizzbuzz1(number):\n",
    "    if number % 3 == 0 and number % 5 == 0:\n",
    "        return \"Fizz Buzz\"\n",
    "    if number % 3 == 0:\n",
    "        return \"Fizz\"\n",
    "    if number % 5 == 0:\n",
    "        return \"Buzz\"\n",
    "    \n",
    "print(fizzbuzz1(33)) # Should print \"Fizz\"\n",
    "print(fizzbuzz1(30)) # Should print \"Fizz Buzz\"\n",
    "print(fizzbuzz1(20)) # Should print \"Buzz\""
   ]
  },
  {
   "cell_type": "markdown",
   "metadata": {},
   "source": [
    "[&#9166;](#Solutions)\n",
    "\n",
    "---\n",
    "### Exercise 4-2\n",
    "\n",
    "Can you spot (and fix!) the bug caused by incorrect grouping of code in the following snippet?\n",
    "<details>\n",
    "    <summary>What should the <code>clamp_0_10()</code> function do?</summary>\n",
    "    <ul>\n",
    "        <li>if <code>value</code> is lower than 0 (e.g. -2 or -7), it will be overwritten by the value 0</li>\n",
    "        <li>if <code>value</code> is higher than 10 (e.g. 132 or 17), it will be overwritten by the value 10.</li>\n",
    "        <li>otherwise, if <code>value</code> is between 0 and 10 it will be returned unchanged.\n",
    "    </ul>\n",
    "</details>"
   ]
  },
  {
   "cell_type": "code",
   "execution_count": 3,
   "metadata": {},
   "outputs": [
    {
     "name": "stdout",
     "output_type": "stream",
     "text": [
      "-5 is too small\n",
      "Input: -5, expected:  0, got: 0\n",
      "Input:  0, expected:  0, got: 0\n",
      "Input:  5, expected:  5, got: 5\n",
      "Input: 10, expected: 10, got: 10\n",
      "11 is too big\n",
      "Input: 11, expected: 10, got: 10\n"
     ]
    }
   ],
   "source": [
    "def clamp_0_10(value):\n",
    "    \"Bound value between 0 and 10 inclusive\"\n",
    "    minimum_value = 0\n",
    "    maximum_value = 10\n",
    "    \n",
    "    if value < minimum_value:\n",
    "        print(f\"{value} is too small\")\n",
    "        value = minimum_value\n",
    "    \n",
    "    if value > maximum_value:\n",
    "        print(f\"{value} is too big\")\n",
    "        value = maximum_value\n",
    "    return value\n",
    "\n",
    "print(f\"Input: -5, expected:  0, got: {clamp_0_10(-5)}\")\n",
    "print(f\"Input:  0, expected:  0, got: {clamp_0_10(0)}\")\n",
    "print(f\"Input:  5, expected:  5, got: {clamp_0_10(5)}\")\n",
    "print(f\"Input: 10, expected: 10, got: {clamp_0_10(10)}\")\n",
    "print(f\"Input: 11, expected: 10, got: {clamp_0_10(11)}\")"
   ]
  },
  {
   "cell_type": "markdown",
   "metadata": {},
   "source": [
    "[&#9166;](#Solutions)\n",
    "\n",
    "---\n",
    "### Exercise 4-3\n",
    "\n",
    "Write a program to compute division that checks for division by zero. Complete your code in the template provided below by replacing the `_` characters."
   ]
  },
  {
   "cell_type": "code",
   "execution_count": 5,
   "metadata": {},
   "outputs": [
    {
     "name": "stdout",
     "output_type": "stream",
     "text": [
      "You cannot divide by zero\n",
      "1.0\n"
     ]
    }
   ],
   "source": [
    "def division(x, y):\n",
    "    if y == 0:\n",
    "        return \"You cannot divide by zero\"\n",
    "    \n",
    "    return x / y\n",
    "\n",
    "print(division(1, 0)) # Should print \"You cannot divide by zero\"\n",
    "print(division(1, 1)) # Should print 1.0"
   ]
  },
  {
   "cell_type": "markdown",
   "metadata": {},
   "source": [
    "[&#9166;](#Solutions)\n",
    "\n",
    "---\n",
    "### Exercise 4-4\n",
    "\n",
    "Write a function that returns \"odd\" when its input is odd, and \"even\" otherwise. Also add you own test to ensure your answer is correct."
   ]
  },
  {
   "cell_type": "code",
   "execution_count": 6,
   "metadata": {},
   "outputs": [],
   "source": [
    "def even_or_odd(num):\n",
    "    if (num % 2) != 0:\n",
    "        return \"odd\"\n",
    "\n",
    "    return \"even\"\n",
    "\n",
    "assert even_or_odd(1) == \"odd\"\n",
    "assert even_or_odd(2) == \"even\""
   ]
  },
  {
   "cell_type": "markdown",
   "metadata": {},
   "source": [
    "[&#9166;](#Solutions)\n",
    "\n",
    "---\n",
    "### Exercise 4-5\n",
    "\n",
    "Extend the fizzbuzz function you wrote earlier by returning the input number if it doesn't match any of the conditions.\n",
    "\n",
    "A reminder, if `number`\n",
    "* is a multiple of `3`, return `\"Fizz\"`\n",
    "* is a miltiple of `5`, return `\"Buzz\"`\n",
    "* is a multiple of `3` **and** `5`, return `\"Fizz Buzz\"`\n",
    "* otherwise, return number\n",
    "\n",
    "Use the template provided below, replace the `_` characters."
   ]
  },
  {
   "cell_type": "code",
   "execution_count": 15,
   "metadata": {},
   "outputs": [
    {
     "name": "stdout",
     "output_type": "stream",
     "text": [
      "Fizz\n",
      "Fizz Buzz\n",
      "Buzz\n",
      "16\n"
     ]
    }
   ],
   "source": [
    "def fizzbuzz2(number):\n",
    "    if number % 3 == 0 and number % 5 == 0:\n",
    "        return \"Fizz Buzz\"\n",
    "    elif number % 3 == 0:\n",
    "        return \"Fizz\"\n",
    "    elif number % 5 == 0:\n",
    "        return \"Buzz\"\n",
    "    else:\n",
    "        return number\n",
    "    \n",
    "print(fizzbuzz2(33)) # Should print \"Fizz\"\n",
    "print(fizzbuzz2(30)) # Should print \"Fizz Buzz\"\n",
    "print(fizzbuzz2(20)) # Should print \"Buzz\"\n",
    "print(fizzbuzz2(16)) # Should print 16"
   ]
  },
  {
   "cell_type": "markdown",
   "metadata": {},
   "source": [
    "[&#9166;](#Solutions)\n",
    "\n",
    "---\n",
    "\n",
    "### Exercise 5-1\n",
    "Write a function called `fizzbuzz3()` that returns a list containing the FizzBuzz game played up to 15."
   ]
  },
  {
   "cell_type": "code",
   "execution_count": 10,
   "metadata": {},
   "outputs": [
    {
     "data": {
      "text/plain": [
       "[1,\n",
       " 2,\n",
       " 'Fizz',\n",
       " 4,\n",
       " 'Buzz',\n",
       " 'Fizz',\n",
       " 7,\n",
       " 8,\n",
       " 'Fizz',\n",
       " 'Buzz',\n",
       " 11,\n",
       " 'Fizz',\n",
       " 13,\n",
       " 14,\n",
       " 'Fizz Buzz']"
      ]
     },
     "execution_count": 10,
     "metadata": {},
     "output_type": "execute_result"
    }
   ],
   "source": [
    "def fizzbuzz3():\n",
    "    \"Play the Fizz Buzz game up to 15.\"\n",
    "    return [1, 2, \"Fizz\", 4, \"Buzz\", \"Fizz\", 7, 8, \"Fizz\", \"Buzz\", 11, \"Fizz\", 13, 14, \"Fizz Buzz\"]\n",
    "\n",
    "fizzbuzz3()"
   ]
  },
  {
   "cell_type": "markdown",
   "metadata": {},
   "source": [
    "[&#9166;](#Solutions)\n",
    "\n",
    "---\n",
    "\n",
    "### Exercise 5-2\n",
    "Write a function that accepts a nested list as an argument and returns the original list with second element reversed. For example, given input `[[1, 2], [3, 4]]`, return `[[1, 2], [4, 3]]`."
   ]
  },
  {
   "cell_type": "code",
   "execution_count": 11,
   "metadata": {},
   "outputs": [],
   "source": [
    "def reverse_second(arg):\n",
    "    \"Reverse the second element of a nested list.\"\n",
    "    if len(arg) >= 2:\n",
    "        arg[1] = arg[1][::-1]\n",
    "        return arg\n",
    "    else:\n",
    "        return arg\n",
    "\n",
    "assert reverse_second([[1]]) == [[1]], f\"Expected [[1]], got: {reverse_second([[1]])}\"\n",
    "assert reverse_second([[1], [2]]) == [[1], [2]], f\"Expected [[1], [2]], got {reverse_second([[1], [2]])}\"\n",
    "assert reverse_second([[1, 5], [10, 9, 8]]) == [[1, 5], [8, 9, 10]], f\"Expected [[1, 5], [8, 9, 10]], got: {reverse_second([[1, 5], [10, 9, 8]])}\"\n",
    "assert reverse_second([1, ['h', 'e', 'l', 'l', 'o'], 2]) == [1, ['o', 'l', 'l', 'e', 'h'], 2], f\"Expected [1, ['o', 'l', 'l', 'e', 'h'], 2], got: {reverse_second([1, ['h', 'e', 'l', 'l', 'o'], 2])}\""
   ]
  },
  {
   "cell_type": "markdown",
   "metadata": {},
   "source": [
    "[&#9166;](#Solutions)\n",
    "\n",
    "---\n",
    "### Exercise 5-3\n",
    "Slicing presents a possible solution to playing the FizzBuzz game: slice starting at the 3$^{rd}$ element of a list with a `step` of 3, assign an appropriately sized list of `[\"Fizz\"]` strings. The same for 5. Write a function, called `fizzbuzz4()` that attempts to play the Fizz Buzz game in this way. The input will be a list containing the counted numbers, you should use slicing to replace the appropriate numbers with `\"Fizz\"` or `\"Buzz\"`."
   ]
  },
  {
   "cell_type": "code",
   "execution_count": 12,
   "metadata": {},
   "outputs": [
    {
     "data": {
      "text/plain": [
       "[1,\n",
       " 2,\n",
       " 'Fizz',\n",
       " 4,\n",
       " 'Buzz',\n",
       " 'Fizz',\n",
       " 7,\n",
       " 8,\n",
       " 'Fizz',\n",
       " 'Buzz',\n",
       " 11,\n",
       " 'Fizz',\n",
       " 13,\n",
       " 14,\n",
       " 'Buzz']"
      ]
     },
     "execution_count": 12,
     "metadata": {},
     "output_type": "execute_result"
    }
   ],
   "source": [
    "def fizzbuzz4(counted):\n",
    "    counted[2::3] = [\"Fizz\"] * (len(counted) // 3)\n",
    "    counted[4::5] = [\"Buzz\"] * (len(counted) // 5)\n",
    "    return counted\n",
    "\n",
    "fizzbuzz4([1, 2, 3, 4, 5, 6, 7, 8, 9, 10, 11, 12, 13, 14, 15])"
   ]
  },
  {
   "cell_type": "markdown",
   "metadata": {},
   "source": [
    "Does `fizzbuzz4()` correctly play the Fizz Buzz game? What is wrong with this solution?\n",
    "\n",
    "No. The case where a number is a multiple of `3` **and** of `5` is not handled correctly."
   ]
  },
  {
   "cell_type": "markdown",
   "metadata": {
    "tags": []
   },
   "source": [
    "[&#9166;](#Solutions)\n",
    "\n",
    "---\n",
    "### Exercise 5-4\n",
    "Write a function that accepts a list of scores (highest is better) and return the score of third place (bronze medal)."
   ]
  },
  {
   "cell_type": "code",
   "execution_count": 15,
   "metadata": {},
   "outputs": [],
   "source": [
    "def bronze_medal(scores):\n",
    "    return sorted(scores, reverse=True)[2]\n",
    "\n",
    "assert bronze_medal([54,56,2,1,5223,6,23,57,3,7,3344]) == 57, f\"Expected 57, got: {bronze_medal([54,56,2,1,5223,6,23,57,3,7,3344])}\""
   ]
  },
  {
   "cell_type": "markdown",
   "metadata": {},
   "source": [
    "[&#9166;](#Solutions)\n",
    "\n",
    "---\n",
    "### Exercise 5-5\n",
    "You're given a list containing some data. Each element of the list is another list containing 2 values: the name of a country, and the average number of citations per citable document produced within that country. Write a function that takes this list as an argument and returns the name of the country with the second highest number of average citations.\n",
    "    <!-- Data are from: https://www.scimagojr.com/countryrank.php?order=cd&ord=desc -->"
   ]
  },
  {
   "cell_type": "code",
   "execution_count": 21,
   "metadata": {},
   "outputs": [
    {
     "data": {
      "text/plain": [
       "'Federated States of Micronesia'"
      ]
     },
     "execution_count": 21,
     "metadata": {},
     "output_type": "execute_result"
    }
   ],
   "source": [
    "data = [['Netherlands Antilles', 38.46],\n",
    "        ['Tokelau', 51.9],\n",
    "        ['Seychelles', 33.56],\n",
    "        ['Anguilla', 133.98],\n",
    "        ['Saint Lucia', 37.31],\n",
    "        ['Panama', 37.87],\n",
    "        ['Bermuda', 43.33],\n",
    "        ['Federated States of Micronesia', 85.49],\n",
    "        ['Gambia', 42.14],\n",
    "        ['Belize', 41.59]]\n",
    "from operator import itemgetter\n",
    "\n",
    "def second_highest_citations(countries):\n",
    "    return sorted(countries, key=itemgetter(1), reverse=True)[1][0]\n",
    "\n",
    "second_highest_citations(data)"
   ]
  },
  {
   "cell_type": "markdown",
   "metadata": {},
   "source": [
    "[&#9166;](#Solutions)\n",
    "\n",
    "---\n",
    "### Exercise 5-6\n",
    "\n",
    "Write a function that takes 2 parameters: a string to truncate (`text`), and a maximum length (`max_len`) that checks if `text` is longer than `max_len`, if it is, the string should be\n",
    "truncated and display ellipses (\"...\") as the last 3 characters. The truncated string + the ellipses should\n",
    "fit within `max_len`."
   ]
  },
  {
   "cell_type": "code",
   "execution_count": 13,
   "metadata": {},
   "outputs": [],
   "source": [
    "def truncate(text, max_len):\n",
    "    if len(text) > max_len:\n",
    "        return text[:max_len-3] + \"...\"\n",
    "\n",
    "    return text\n",
    "\n",
    "assert truncate(\"hello world\", 10) == \"hello w...\", f\"Expected 'hello w...', got: {truncate('hello world', 10)}\"\n",
    "assert truncate('python', 6) == 'python', f\"Expected 'python', got: {truncate('python', 6)}\""
   ]
  },
  {
   "cell_type": "markdown",
   "metadata": {},
   "source": [
    "[&#9166;](#Solutions)\n",
    "\n",
    "---\n",
    "### Exercise 5-7\n",
    "Write a function that takes a collection (a string, list, or tuple) and sort only the values excluding the first and last elements (so sort the middle elements) then return a the same as the input type with this structure:\n",
    "* A list should look like: `[first_element, ...sorted middle.., last_element]`\n",
    "* A tuple should look like: `(first_element, ...sorted middle.., last_element)`\n",
    "* A string should look like: `\"first_character ...sorted middle... last_element)`\n",
    "* Otherwise (if the argument is not a list, tuple, or string) just return the argument unmodified.\n",
    "\n",
    "Fill in the template below. The string version has been completed for you:"
   ]
  },
  {
   "cell_type": "code",
   "execution_count": 23,
   "metadata": {},
   "outputs": [],
   "source": [
    "def sorted_middle(collection):\n",
    "    \"Sort a collection excluding the first and last elements\"\n",
    "    if type(collection) == str:\n",
    "        return collection[0] + (''.join(sorted(collection[1:-1]))) + collection[-1]\n",
    "    if type(collection) == tuple:\n",
    "        return (collection[0],) + tuple(sorted(collection[1:-1])) + (collection[-1],)\n",
    "    if type(collection) == list:\n",
    "        return [collection[0]] + sorted(collection[1:-1]) + [collection[-1]]\n",
    "    return collection\n",
    "\n",
    "assert sorted_middle(\"hello\") == \"hello\", f\"Expected 'hello', got: {sorted_middle('hello')}\"\n",
    "assert sorted_middle('sequence') == 'sceenque', f\"Expected 'hello', got: {sorted_middle('sequence')}\"\n",
    "assert sorted_middle([\"h\", \"e\", \"l\", \"l\", \"o\"]) == [\"h\", \"e\", \"l\", \"l\", \"o\"], f\"Expected ['h', 'e', 'l', 'l', 'o'], got: {sorted_middle(['h', 'e', 'l', 'l', 'o'])}\"\n",
    "assert sorted_middle(['s', 'e', 'q', 'u', 'e', 'n', 'c', 'e']) == ['s', 'c', 'e', 'e', 'n', 'q', 'u', 'e'], f\"Expected ['s', 'c', 'e', 'e', 'n', 'q', 'u', 'e'], got: {sorted_middle(['s', 'e', 'q', 'u', 'e', 'n', 'c', 'e'])}\"\n",
    "assert sorted_middle((\"h\", \"e\", \"l\", \"l\", \"o\")) == (\"h\", \"e\", \"l\", \"l\", \"o\"), f\"Expected ('h', 'e', 'l', 'l', 'o'), got: {sorted_middle(('h', 'e', 'l', 'l', 'o'))}\"\n",
    "assert sorted_middle(('s', 'e', 'q', 'u', 'e', 'n', 'c', 'e')) == ('s', 'c', 'e', 'e', 'n', 'q', 'u', 'e'), f\"Expected ('s', 'c', 'e', 'e', 'n', 'q', 'u', 'e'), got: {sorted_middle(('s', 'e', 'q', 'u', 'e', 'n', 'c', 'e'))}\"\n",
    "assert sorted_middle(5) == 5, f\"Expected 5, got: {sorted_middle(5)}\""
   ]
  },
  {
   "cell_type": "markdown",
   "metadata": {},
   "source": [
    "[&#9166;](#Solutions)\n",
    "\n",
    "---\n",
    "### Exercise 6-1\n",
    "Write a function to play the fizzbuzz game up to `15`. You function should accept no arguments and return a list starting at `1` that tracks the progress of a game of Fizz Buzz.\n",
    "\n",
    "That is, your function should use a loop to produce this list: `[1, 2, 'Fizz', 4, 'Buzz', 'Fizz', 7, 8, 'Fizz', 'Buzz', 11, 'Fizz', 13, 14, 'Fizz Buzz']`"
   ]
  },
  {
   "cell_type": "code",
   "execution_count": 50,
   "metadata": {},
   "outputs": [
    {
     "data": {
      "text/plain": [
       "[1,\n",
       " 2,\n",
       " 'Fizz',\n",
       " 4,\n",
       " 'Buzz',\n",
       " 'Fizz',\n",
       " 7,\n",
       " 8,\n",
       " 'Fizz',\n",
       " 'Buzz',\n",
       " 11,\n",
       " 'Fizz',\n",
       " 13,\n",
       " 14,\n",
       " 'Fizz Buzz']"
      ]
     },
     "execution_count": 50,
     "metadata": {},
     "output_type": "execute_result"
    }
   ],
   "source": [
    "def fizzbuzz5():\n",
    "    game = []\n",
    "    for number in [1, 2, 3, 4, 5, 6, 7, 8, 9, 10, 11, 12, 13, 14, 15]:\n",
    "        if number % 5 == 0 and number % 3 == 0:\n",
    "            game = game + [\"Fizz Buzz\"]\n",
    "        elif number % 5 == 0:\n",
    "            game = game + [\"Buzz\"]\n",
    "        elif number % 3 == 0:\n",
    "            game = game + [\"Fizz\"]\n",
    "        else:\n",
    "            game = game + [number]\n",
    "    \n",
    "    return game\n",
    "\n",
    "assert fizzbuzz5() == [1, 2, 'Fizz', 4, 'Buzz', 'Fizz', 7, 8, 'Fizz', 'Buzz', 11, 'Fizz', 13, 14, 'Fizz Buzz'], \"Output is not correct :(\"\n",
    "fizzbuzz5()"
   ]
  },
  {
   "cell_type": "markdown",
   "metadata": {
    "tags": []
   },
   "source": [
    "[&#9166;](#Solutions)\n",
    "\n",
    "---\n",
    "### Exercise 6-2\n",
    "Finally, we have all of the tools we need to write a concise program to play Fizz Buzz. Write a function called `fizzbuzz6` that takes an integer argument which is the number to count up to and returns a list starting at 1 tracking the progress of playing the Fizz Buzz game."
   ]
  },
  {
   "cell_type": "code",
   "execution_count": 55,
   "metadata": {},
   "outputs": [
    {
     "data": {
      "text/plain": [
       "[1,\n",
       " 2,\n",
       " 'Fizz',\n",
       " 4,\n",
       " 'Buzz',\n",
       " 'Fizz',\n",
       " 7,\n",
       " 8,\n",
       " 'Fizz',\n",
       " 'Buzz',\n",
       " 11,\n",
       " 'Fizz',\n",
       " 13,\n",
       " 14,\n",
       " 'Fizz Buzz',\n",
       " 16,\n",
       " 17,\n",
       " 'Fizz',\n",
       " 19,\n",
       " 'Buzz',\n",
       " 'Fizz',\n",
       " 22,\n",
       " 23,\n",
       " 'Fizz',\n",
       " 'Buzz',\n",
       " 26,\n",
       " 'Fizz',\n",
       " 28,\n",
       " 29,\n",
       " 'Fizz Buzz']"
      ]
     },
     "execution_count": 55,
     "metadata": {},
     "output_type": "execute_result"
    }
   ],
   "source": [
    "def fizzbuzz6(end):\n",
    "    \"Play Fizz Buzz\"\n",
    "    game = []\n",
    "    for count in range(1, end+1):\n",
    "        if count % 5 == 0 and count % 3 == 0:\n",
    "            game = game + [\"Fizz Buzz\"]\n",
    "        elif count % 5 == 0:\n",
    "            game = game + [\"Buzz\"]\n",
    "        elif count % 3 == 0:\n",
    "            game = game + [\"Fizz\"]\n",
    "        else:\n",
    "            game = game + [count]\n",
    "\n",
    "    return game\n",
    "\n",
    "assert fizzbuzz6(0) == []\n",
    "assert fizzbuzz6(2) == [1, 2]\n",
    "assert fizzbuzz6(5) == [1, 2, 'Fizz', 4, 'Buzz']\n",
    "assert fizzbuzz6(15) == [1, 2, 'Fizz', 4, 'Buzz', 'Fizz', 7, 8, 'Fizz', 'Buzz', 11, 'Fizz', 13, 14, 'Fizz Buzz']\n",
    "\n",
    "fizzbuzz6(30)"
   ]
  },
  {
   "cell_type": "markdown",
   "metadata": {},
   "source": [
    "[&#9166;](#Solutions)\n",
    "\n",
    "---\n",
    "### Exercise 6-3\n",
    "Write a function that computes the factorial of its argument."
   ]
  },
  {
   "cell_type": "code",
   "execution_count": 59,
   "metadata": {},
   "outputs": [],
   "source": [
    "def myfactorial(number):\n",
    "    factorial = 1\n",
    "    for i in range(1, number + 1):\n",
    "        factorial = factorial * i\n",
    "    return factorial\n",
    "\n",
    "assert myfactorial(0) == 1, f\"Expected 1, got: {myfactorial(0)}\"\n",
    "assert myfactorial(1) == 1, f\"Expected 1, got: {myfactorial(1)}\"\n",
    "assert myfactorial(2) == 2, f\"Expected 1, got: {myfactorial(2)}\"\n",
    "assert myfactorial(5) == 120, f\"Expected 1, got: {myfactorial(5)}\""
   ]
  },
  {
   "cell_type": "markdown",
   "metadata": {},
   "source": [
    "[&#9166;](#Solutions)\n",
    "\n",
    "---\n",
    "### Exercise 6-4\n",
    "Below is the definition of a function to sum numbers from 1 to the argument. You have 2 tasks:\n",
    "\n",
    "1. Identify and fix the bug using techniques you have explored so far.\n",
    "1. Find the Python standard library function that does the same or similar thing."
   ]
  },
  {
   "cell_type": "code",
   "execution_count": 64,
   "metadata": {},
   "outputs": [],
   "source": [
    "def mysum(end):\n",
    "    \"Sum numbers [1-end] inclusive\"\n",
    "    total = 0\n",
    "    for number in range(1, end + 1): #Change range() parameters\n",
    "        total += number # Use +=\n",
    "    \n",
    "    return total\n",
    "\n",
    "assert mysum(1) == sum(range(1, 2))\n",
    "assert mysum(10) == sum(range(1, 11))"
   ]
  },
  {
   "cell_type": "code",
   "execution_count": null,
   "metadata": {},
   "outputs": [],
   "source": [
    "def mysum(end):\n",
    "    return sum(range(1, end))"
   ]
  },
  {
   "cell_type": "markdown",
   "metadata": {},
   "source": [
    "[&#9166;](#Solutions)\n",
    "\n",
    "---\n",
    "### Exercise 6-5\n",
    "Once again, below is the deefinition of a function that takes a list of strings and joins them into a single string with comma seperators.\n",
    "\n",
    "Here are 2 examples of the expected output:\n",
    "```python\n",
    ">>> myjoin([\"hello\", \"world\"])\n",
    "\"hello,world\"\n",
    "\n",
    ">>> myjoin([\"sample1\", \"0.5\"])\n",
    "\"sample1,0.5\"\n",
    "```\n",
    "\n",
    "You have 2 tasks:\n",
    "\n",
    "1. Identify and fix the bug using techniques you have explored so far.\n",
    "1. Find the Python standard library function that does the same or similar thing."
   ]
  },
  {
   "cell_type": "code",
   "execution_count": 68,
   "metadata": {},
   "outputs": [],
   "source": [
    "def myjoin(strings):\n",
    "    joined = \"\"\n",
    "    for string in strings[:-1]:\n",
    "        joined += string + \",\"\n",
    "    \n",
    "    return joined + strings[-1]\n",
    "\n",
    "assert myjoin([\"hello\", \"world\"]) == \"hello,world\"\n",
    "assert myjoin([\"sample1\", \"0.5\"]) == \"sample1,0.5\""
   ]
  },
  {
   "cell_type": "code",
   "execution_count": null,
   "metadata": {},
   "outputs": [],
   "source": [
    "','.join(strings)"
   ]
  },
  {
   "cell_type": "markdown",
   "metadata": {},
   "source": [
    "[&#9166;](#Solutions)\n",
    "\n",
    "---\n",
    "### Exercise 6-6\n",
    "The Hamming distance between two strings of equal length is the number of positions at which the corresponding character are different. In a more general context, the Hamming distance is one of several string metrics for measuring the _distance_ between two sequences. \n",
    "\n",
    "For example, the Hamming distance between:\n",
    "\n",
    "\"karolin\" and \"kathrin\" is 3.\n",
    "\n",
    "Write a function called \"hamming_distance\" which accepts two strings and returns the calculated hamming distance. If the lengths of the two strings is unequal, return the value None. "
   ]
  },
  {
   "cell_type": "code",
   "execution_count": 70,
   "metadata": {},
   "outputs": [
    {
     "name": "stdout",
     "output_type": "stream",
     "text": [
      "2\n"
     ]
    }
   ],
   "source": [
    "def hamming_distance(string1, string2): \n",
    "    \"\"\"Return the Hamming distance between equal-length sequences.\"\"\"\n",
    "    # Start with a distance of zero, and count up\n",
    "    distance = 0\n",
    "    for s1,s2 in zip(string1,string2):\n",
    "        distance += (s1 != s2)\n",
    "    return distance\n",
    "\n",
    "seq1 = \"GATCATAGA\"\n",
    "seq2 = \"CATCATACA\"\n",
    "print(hamming_distance(seq1,seq2))"
   ]
  },
  {
   "cell_type": "markdown",
   "metadata": {},
   "source": [
    "[&#9166;](#Solutions)\n",
    "\n",
    "---\n",
    "### Exercise 6-7\n",
    "You're given a list containing some names and a corresponding list containing their rank by popularity.\n",
    "Write a function that takes a name as its argument, the behaviour of the function depends on 3 conditions:\n",
    "* If the name is in the `names` list and in the top 20 most popular names: Return a 2-tuple containing the name and rank (E.g. if the argument is \"Elise\", your function should return `(\"Elise\", 14)`)\n",
    "* If the name is in the `names` list but not in the top 20 most popular names: Return the name reversed (E.g. if the argument is \"Alexander\", your function should return \"rednaxelA\")\n",
    "* Otherwise, return the name followed by the string `\" is great at Python!\"` (E.g. if the argument is \"Hannah\", your function should return \"Hannah is great at Python!\")\n",
    "\n",
    "    <!-- Data from: https://www.behindthename.com/top/lists/belgium -->"
   ]
  },
  {
   "cell_type": "code",
   "execution_count": 12,
   "metadata": {},
   "outputs": [],
   "source": [
    "names = [\"Marie\", \"Lucas\", \"Viktor\", \"Elise\", \"Lotte\", \"Hugo\", \"Emma\", \"Elena\", \"Julia\", \"Maxime\", \"Alexander\", \"Tuur\", \"Nina\", \"James\"]\n",
    "ranks = [7,       6,       65,       14,      46,      15,     1,      7,       26,      37,       36,          73,     25,     87]\n",
    "\n",
    "def baby_name(name):\n",
    "    if name not in names:\n",
    "        return name + \" is great at Python!\"\n",
    "    \n",
    "    for baby, rank in zip(names, ranks):\n",
    "        if baby == name:\n",
    "            if rank <= 20:\n",
    "                return (name, rank)\n",
    "            else:\n",
    "                return name[::-1]\n",
    "\n",
    "assert baby_name(\"Elise\") == ('Elise', 14), f\"Expected ('Elise', 14), got: {baby_name('Elise')}\"\n",
    "assert baby_name(\"Alexander\") == 'rednaxelA', f\" Expected 'rednaxelA', got: {baby_name('Alexander')}\"\n",
    "assert baby_name(\"Hannah\") == \"Hannah is great at Python!\", f\"Expected 'Hannah is great at Python!', got: {baby_name('Hannah')}\"\n",
    "assert baby_name(\"Elena\") == ('Elena', 7), f\"Expected ('Elena', 7), got: {baby_name('Elena')}\""
   ]
  },
  {
   "cell_type": "markdown",
   "metadata": {},
   "source": [
    "[&#9166;](#Solutions)\n",
    "\n",
    "---\n",
    "### Exercise 7-1\n",
    "Construct a dictionary containing the keys, \"BEL\", \"RUS', \"AUS\", and \"GLO\" and decimal numbers for values (You can pick any number you like).\n",
    "\n",
    "**This is one of many valid solutions**"
   ]
  },
  {
   "cell_type": "code",
   "execution_count": 71,
   "metadata": {},
   "outputs": [
    {
     "data": {
      "text/plain": [
       "{'BEL': 16.2, 'RUS': -9.1, 'AUS': 37.8, 'GLO': 22.4}"
      ]
     },
     "execution_count": 71,
     "metadata": {},
     "output_type": "execute_result"
    }
   ],
   "source": [
    "{\n",
    "    \"BEL\": 16.2,\n",
    "    \"RUS\": -9.1,\n",
    "    \"AUS\": 37.8,\n",
    "    \"GLO\": 22.4\n",
    "}"
   ]
  },
  {
   "cell_type": "markdown",
   "metadata": {},
   "source": [
    "[&#9166;](#Solutions)\n",
    "\n",
    "---\n",
    "### Exercise 7-2\n",
    "Write a function that takes a sequence of amino-acids represented by their single letter code. Return a list of three-letter-codes. For example, given the input: `\"EIKGGQ\"` return `['Glu', 'Ile', 'Lys', 'Gly', 'Gly', 'Gln']`"
   ]
  },
  {
   "cell_type": "code",
   "execution_count": 76,
   "metadata": {},
   "outputs": [],
   "source": [
    "# You should already have this dictionary defined\n",
    "three_letter_codes = {\n",
    "     'A': 'Ala',\n",
    "     'C': 'Cys',\n",
    "     'D': 'Asp',\n",
    "     'E': 'Glu',\n",
    "     'F': 'Phe',\n",
    "     'G': 'Gly',\n",
    "     'H': 'His',\n",
    "     'I': 'Ile',\n",
    "     'K': 'Lys',\n",
    "     'L': 'Leu',\n",
    "     'M': 'Met',\n",
    "     'N': 'Asn',\n",
    "     'P': 'Pro',\n",
    "     'Q': 'Gln',\n",
    "     'R': 'Arg',\n",
    "     'S': 'Ser',\n",
    "     'T': 'Thr',\n",
    "     'V': 'Val',\n",
    "     'W': 'Trp',\n",
    "     'Y': 'Tyr'}\n",
    "\n",
    "def one_to_three_letter_code(sequence):\n",
    "    result = []\n",
    "    for aa in sequence:\n",
    "        result += [three_letter_codes[aa]]\n",
    "    return result\n",
    "\n",
    "assert one_to_three_letter_code(\"EIKGGQ\") == ['Glu', 'Ile', 'Lys', 'Gly', 'Gly', 'Gln'], f\"Did not expect {one_to_three_letter_code('EIKGGQ')}\"\n",
    "assert one_to_three_letter_code(\"PRAPY\") == ['Pro', 'Arg', 'Ala', 'Pro', 'Tyr'], f\"Did not expect {one_to_three_letter_code('PRAPY')}\""
   ]
  },
  {
   "cell_type": "markdown",
   "metadata": {},
   "source": [
    "[&#9166;](#Solutions)\n",
    "\n",
    "---\n",
    "### Exercise 7-3\n",
    "Write a function that accepts an amino-acid sequence and returns a dictionary keyed by the amino-acid single-letter-code and the value is the frequency of observation of that amino-acid in the sequence.\n",
    "\n",
    "For example, `frequencies(\"AACD\")` should return this dictionary: `{\"A\": 2, \"C\": 1, \"D\": 1}`."
   ]
  },
  {
   "cell_type": "code",
   "execution_count": 87,
   "metadata": {},
   "outputs": [],
   "source": [
    "def frequencies1(sequence):\n",
    "    counts = {}\n",
    "    for residue in sequence:\n",
    "        if residue in counts:\n",
    "            counts[residue] += 1\n",
    "        else:\n",
    "            counts[residue] = 1\n",
    "\n",
    "    return counts\n",
    "\n",
    "\n",
    "sequence = \"SFTMHGTPVVNQVKVLTESNRISHHKILAIVGTAESNSEHPLGTAITKYCKQELDTETLGTCIDFQVVPGCGISCKVTNIEGLLHKNNWNIEDNNIKNASLVQIDASNEQSSTSSSMIIDAQISNALNAQQYKVLIGNREWMIRNGLVINNDVNDFMTEHERKGRTAVLVAVDDELCGLIAIADT\"\n",
    "expected = {'A': 12, 'C': 5, 'D': 10, 'E': 12, 'F': 3, 'G': 11, 'H': 6, 'I': 18, 'K': 9, 'L': 14, 'M': 4, 'N': 18, 'P': 3, 'Q': 8, 'R': 5, 'S': 14, 'T': 14, 'V': 15, 'W': 2, 'Y': 2}\n",
    "\n",
    "assert frequencies1(\"AACD\") == {\"A\": 2, \"C\": 1, \"D\": 1}, f\"Unexpected {frequencies1('AACD')}\"\n",
    "assert frequencies1(sequence) == expected, f\"Unexpected {frequencies1(sequence)}\""
   ]
  },
  {
   "cell_type": "code",
   "execution_count": 85,
   "metadata": {},
   "outputs": [],
   "source": [
    "# Another possible solution\n",
    "from collections import Counter\n",
    "\n",
    "def frequencies2(sequence):\n",
    "    return dict(Counter(sequence))\n",
    "\n",
    "assert frequencies2(\"AACD\") == {\"A\": 2, \"C\": 1, \"D\": 1}, f\"Unexpected {frequencies2('AACD')}\"\n",
    "assert frequencies2(sequence) == expected, f\"Unexpected {frequencies2(sequence)}\""
   ]
  },
  {
   "cell_type": "markdown",
   "metadata": {},
   "source": [
    "[&#9166;](#Solutions)\n",
    "\n",
    "---\n",
    "### Exercise 7-4\n",
    "Write a function that transforms the result of your `frequencies()` function above by modifying the dictionary so that its values are a dictionary containing 2 keys: the count as before,\n",
    "and also a fraction of the length of the sequence. e.g. if the letter 'S' appears 50% of the time it's value in the new dictionary will be `{\"count\":92, \"fraction\":0.5}`"
   ]
  },
  {
   "cell_type": "code",
   "execution_count": 88,
   "metadata": {},
   "outputs": [
    {
     "data": {
      "text/plain": [
       "{'S': {'count': 14, 'fraction': 0.07567567567567568},\n",
       " 'F': {'count': 3, 'fraction': 0.016216216216216217},\n",
       " 'T': {'count': 14, 'fraction': 0.07567567567567568},\n",
       " 'M': {'count': 4, 'fraction': 0.021621621621621623},\n",
       " 'H': {'count': 6, 'fraction': 0.032432432432432434},\n",
       " 'G': {'count': 11, 'fraction': 0.05945945945945946},\n",
       " 'P': {'count': 3, 'fraction': 0.016216216216216217},\n",
       " 'V': {'count': 15, 'fraction': 0.08108108108108109},\n",
       " 'N': {'count': 18, 'fraction': 0.0972972972972973},\n",
       " 'Q': {'count': 8, 'fraction': 0.043243243243243246},\n",
       " 'K': {'count': 9, 'fraction': 0.04864864864864865},\n",
       " 'L': {'count': 14, 'fraction': 0.07567567567567568},\n",
       " 'E': {'count': 12, 'fraction': 0.06486486486486487},\n",
       " 'R': {'count': 5, 'fraction': 0.02702702702702703},\n",
       " 'I': {'count': 18, 'fraction': 0.0972972972972973},\n",
       " 'A': {'count': 12, 'fraction': 0.06486486486486487},\n",
       " 'Y': {'count': 2, 'fraction': 0.010810810810810811},\n",
       " 'C': {'count': 5, 'fraction': 0.02702702702702703},\n",
       " 'D': {'count': 10, 'fraction': 0.05405405405405406},\n",
       " 'W': {'count': 2, 'fraction': 0.010810810810810811}}"
      ]
     },
     "execution_count": 88,
     "metadata": {},
     "output_type": "execute_result"
    }
   ],
   "source": [
    "def amino_acid_fractions(freqs):\n",
    "    total_length = 0\n",
    "    # First, go through the frequences dictionary and sum the total number of amino-acids\n",
    "    for freq in freqs.values():\n",
    "        total_length += freq\n",
    "    \n",
    "    # Now we construct a new dictionary in the structure requested\n",
    "    fracs = {}\n",
    "    for aa, freq in freqs.items():\n",
    "        fracs[aa] = {\"count\": freq, \"fraction\": freq / total_length}\n",
    "    \n",
    "    return fracs\n",
    "\n",
    "amino_acid_fractions(frequences2(sequence))"
   ]
  },
  {
   "cell_type": "markdown",
   "metadata": {
    "tags": []
   },
   "source": [
    "[&#9166;](#Solutions)\n",
    "\n",
    "---\n",
    "### Exercise 7-5\n",
    "Write a function that accepts a list of observations (See the dictionary you created in Exercise 7-1) and returns a dictionary with the same structure but the values are the averages of the input. For example, consider these input observations:\n",
    "\n",
    "```python\n",
    "[\n",
    "    {\"BEL\": 5.7, \"RUS\": -12.8, \"AUS\": 42.6, \"GLO\": 22.1},\n",
    "    {\"BEL\": 10.2, \"RUS\": -2.0, \"AUS\": 37.8, \"GLO\": 21.2},\n",
    "    {\"BEL\": 14.7, \"RUS\": 1.3, \"AUS\": 18.3, \"GLO\": 23.6}\n",
    "]\n",
    "```\n",
    "\n",
    "The output of your function should be:\n",
    "```python\n",
    "{\"BEL\": 10.2, \"RUS\": -4.5, \"AUS\": 32.9, \"GLO\": 22.3}\n",
    "```"
   ]
  },
  {
   "cell_type": "code",
   "execution_count": 8,
   "metadata": {},
   "outputs": [
    {
     "name": "stdout",
     "output_type": "stream",
     "text": [
      "{'BEL': 10.2, 'RUS': -4.5, 'AUS': 32.9, 'GLO': 22.3}\n"
     ]
    }
   ],
   "source": [
    "def average_temperature(observations):\n",
    "    temp_sum = {\"BEL\": 0, \"RUS\": 0, \"AUS\": 0, \"GLO\": 0}\n",
    "    for observation in observations:\n",
    "        temp_sum[\"BEL\"] += observation[\"BEL\"]\n",
    "        temp_sum[\"RUS\"] += observation[\"RUS\"]\n",
    "        temp_sum[\"AUS\"] += observation[\"AUS\"]\n",
    "        temp_sum[\"GLO\"] += observation[\"GLO\"]\n",
    "\n",
    "    return {\"BEL\": temp_sum[\"BEL\"] / len(observations),\n",
    "            \"RUS\": temp_sum[\"RUS\"] / len(observations),\n",
    "            \"AUS\": temp_sum[\"AUS\"] / len(observations),\n",
    "            \"GLO\": temp_sum[\"GLO\"] / len(observations)\n",
    "           }\n",
    "\n",
    "example = [\n",
    "    {\"BEL\": 5.7, \"RUS\": -12.8, \"AUS\": 42.6, \"GLO\": 22.1},\n",
    "    {\"BEL\": 10.2, \"RUS\": -2.0, \"AUS\": 37.8, \"GLO\": 21.2},\n",
    "    {\"BEL\": 14.7, \"RUS\": 1.3, \"AUS\": 18.3, \"GLO\": 23.6}\n",
    "]\n",
    "\n",
    "print(average_temperature(example))\n",
    "assert average_temperature(example) == {\"BEL\": 10.2, \"RUS\": -4.5, \"AUS\": 32.9, \"GLO\": 22.3}, f\"Got {average_temperature(example)}\""
   ]
  },
  {
   "cell_type": "markdown",
   "metadata": {},
   "source": [
    "[&#9166;](#Solutions)\n",
    "\n",
    "---\n",
    "### Exercise 8-1\n",
    "Write a function to _clean_ the data we read from the file. The input to your function will be a dictionary like this:\n",
    "\n",
    "```python\n",
    "{\n",
    "  'Time': '1901-05',\n",
    "  'Anomaly (deg C)': '-0.24934465',\n",
    "  'Lower confidence limit (2.5%)': '-0.44425672',\n",
    "  'Upper confidence limit (97.5%)': '-0.05443258'\n",
    "}\n",
    "```\n",
    "\n",
    "The output of your function should look like this:\n",
    "\n",
    "```python\n",
    "{\n",
    "  'Time': datetime.datetime(1901, 5, 1, 0, 0),\n",
    "  'Temperature': -0.24934465\n",
    "}\n",
    "```"
   ]
  },
  {
   "cell_type": "code",
   "execution_count": null,
   "metadata": {},
   "outputs": [],
   "source": [
    "def clean_global_data(reading):\n",
    "    \"Clean a global data dictionary\"\n",
    "    return {\n",
    "        'Time': datetime.strptime(reading['Time'], \"%Y-%m\"),\n",
    "        'Temperature': float(reading['Anomaly (deg C)'])\n",
    "    }\n",
    "\n",
    "assert clean_global_data({'Time': '1901-05','Anomaly (deg C)': '-0.24934465','Lower confidence limit (2.5%)': '-0.44425672','Upper confidence limit (97.5%)': '-0.05443258'}) == {'Time': datetime(1901, 5, 1, 0, 0),'Temperature': -0.24934465}"
   ]
  },
  {
   "cell_type": "markdown",
   "metadata": {},
   "source": [
    "[&#9166;](#Solutions)\n",
    "\n",
    "---\n",
    "\n",
    "### Exercise 8-2\n",
    "\n",
    "Write a function that reads the global temperature data file and returns a list of cleaned dictionaries."
   ]
  },
  {
   "cell_type": "code",
   "execution_count": null,
   "metadata": {},
   "outputs": [],
   "source": [
    "def global_data(filename):\n",
    "    \"Read global data into a list of cleaned dictionaries.\"\n",
    "    data = []\n",
    "    with open(filename) as global_data_manager:\n",
    "        reader = csv.DictReader(global_data_manager)\n",
    "    \n",
    "        for reading in reader:\n",
    "            data += [clean_global_data(reading)]\n",
    "            \n",
    "    return data\n",
    "\n",
    "assert global_data(\"data/HadCRUT.5.0.1.0.analysis.summary_series.global.monthly.csv\")[4] == {'Time': datetime(1901, 5, 1, 0, 0),'Temperature': -0.24934465}"
   ]
  },
  {
   "cell_type": "markdown",
   "metadata": {},
   "source": [
    "[&#9166;](#Solutions)\n",
    "\n",
    "---\n",
    "### Exercise 8-3\n",
    "Write a function that takes a list of dictionaries as an argument and saves them to a CSV formatted file."
   ]
  },
  {
   "cell_type": "code",
   "execution_count": null,
   "metadata": {},
   "outputs": [],
   "source": [
    "def save_data(data, filename):\n",
    "    \"Save cleaned climate data into a CSV file\"\n",
    "    with open(filename, mode=\"w\") as file_resource:\n",
    "        writer = csv.DictWriter(file_resource, fieldnames=[\"Time\", \"Temperature\"])\n",
    "        writer.writeheader()\n",
    "        writer.writerows(data)\n",
    "\n",
    "glo = global_data(\"data/HadCRUT.5.0.1.0.analysis.summary_series.global.monthly.csv\")\n",
    "save_data(glo, \"data/global_data.csv\")"
   ]
  },
  {
   "cell_type": "markdown",
   "metadata": {},
   "source": [
    "[&#9166;](#Solutions)\n",
    "\n",
    "---\n",
    "### Exercise 8-4\n",
    "Write a function to clean the country data we read from the web. The input to your function will be a dictionary like this:\n",
    "\n",
    "```python\n",
    "{\n",
    "  'Temperature - (Celsius)': '5.76',\n",
    "  'Year': '1901',\n",
    "  'Statistics': 'May Average',\n",
    "  'Country': 'Belgium',\n",
    "  'ISO3': 'BEL'\n",
    "}\n",
    "```\n",
    "The output of your function should look like this:\n",
    "\n",
    "```python\n",
    "{\n",
    "  'Time': datetime.datetime(1901, 5, 1, 0, 0),\n",
    "  'Temperature': 5.76\n",
    "}\n",
    "```"
   ]
  },
  {
   "cell_type": "code",
   "execution_count": null,
   "metadata": {},
   "outputs": [],
   "source": [
    "def clean_country_data(data):\n",
    "    \"Clean a country data dictionary\"\n",
    "    return {\n",
    "        'Time': datetime.strptime(data['Year'] + '-' + data['Statistics'][:3], \"%Y-%b\"),\n",
    "        'Temperature': float(data['Temperature - (Celsius)'])\n",
    "    }\n",
    "\n",
    "assert clean_country_data(bel_data[0]) == {'Time': datetime(1901, 1, 1, 0, 0), 'Temperature': 4.04}"
   ]
  },
  {
   "cell_type": "markdown",
   "metadata": {},
   "source": [
    "[&#9166;](#Solutions)\n",
    "\n",
    "---\n",
    "### Exercise 8-5: Load country data\n",
    "Write a function that accepts a URL and returns a list of dictionaries containing 'Time' and 'Temperature' keys. Use the second code cell to save the cleaned data using the `save_data()` function you wrote earlier."
   ]
  },
  {
   "cell_type": "code",
   "execution_count": null,
   "metadata": {},
   "outputs": [],
   "source": [
    "def country_data(url):\n",
    "    \"\"\n",
    "    data = []\n",
    "    with request.urlopen(url) as ctry_data_manager:\n",
    "        text_data = ctry_data_manager.read().decode().splitlines()\n",
    "        reader = csv.DictReader(text_data, skipinitialspace=True)\n",
    "    \n",
    "        for reading in reader:\n",
    "            data += [clean_country_data(reading)]\n",
    "    return data\n",
    "\n",
    "assert country_data(\"https://climateknowledgeportal.worldbank.org/api/data/get-download-data/historical/tas/1901-2020/BEL/Belgium\")[4] == {'Time': datetime(1901, 5, 1, 0, 0),'Temperature': 9.15}\n",
    "assert country_data(\"https://climateknowledgeportal.worldbank.org/api/data/get-download-data/historical/tas/1901-2020/RUS/Russia\")[4] == {'Time': datetime(1901, 5, 1, 0, 0),'Temperature': 2.01}\n",
    "assert country_data(\"https://climateknowledgeportal.worldbank.org/api/data/get-download-data/historical/tas/1901-2020/AUS/Australia\")[4] == {'Time': datetime(1901, 5, 1, 0, 0),'Temperature': 18.02}"
   ]
  },
  {
   "cell_type": "code",
   "execution_count": null,
   "metadata": {},
   "outputs": [],
   "source": [
    "save_data(country_data(\"https://climateknowledgeportal.worldbank.org/api/data/get-download-data/historical/tas/1901-2020/BEL/Belgium\"), \"data/bel_data.csv\")\n",
    "save_data(country_data(\"https://climateknowledgeportal.worldbank.org/api/data/get-download-data/historical/tas/1901-2020/RUS/Russia\"), \"data/rus_data.csv\")\n",
    "save_data(country_data(\"https://climateknowledgeportal.worldbank.org/api/data/get-download-data/historical/tas/1901-2020/AUS/Australia\"), \"data/aus_data.csv\")"
   ]
  },
  {
   "cell_type": "markdown",
   "metadata": {},
   "source": [
    "[&#9166;](#Solutions)\n",
    "\n",
    "---\n",
    "### Exercise 8-6\n",
    "Write a function to serialise your cleaned climate data to a file in the JSON format."
   ]
  },
  {
   "cell_type": "code",
   "execution_count": null,
   "metadata": {},
   "outputs": [],
   "source": [
    "def save_data_json(data, filename):\n",
    "    def repr_datetime(date):\n",
    "        return date.strftime(\"%Y-%b\")\n",
    "\n",
    "    with open(filename, mode=\"w\") as file_resource:\n",
    "        json.dump(data, file_resource, default=repr_datetime)\n",
    "\n",
    "save_data_json(country_data(\"https://climateknowledgeportal.worldbank.org/api/data/get-download-data/historical/tas/1901-2020/RUS/Russia\"), \"russia.json\")"
   ]
  },
  {
   "cell_type": "markdown",
   "metadata": {},
   "source": [
    "[&#9166;](#Solutions)\n",
    "\n",
    "---\n",
    "### Exercise 8-7\n",
    "\n",
    "Write a function that calculates the GC content of the sequence in a fasta file. For this example you can use [this fasta file](data/gene.fa), or [this one](data/rnaSeq.fa). The function must accept a file name of a FASTA formatted file and will should return a list of tuples containing `(sequence_label, gc_content)`.\n",
    "\n",
    "<details>\n",
    "    <summary>What is GC Content?</summary>\n",
    "    The GC-content of a nucleotide sequence is given by the percentage of symbols in the string that are 'C' or 'G'. For example, the GC-content of \"AGCTATAG\" is 37.5%.\n",
    "</details>\n",
    "<br />\n",
    "\n",
    "The [startswith()](https://www.tutorialspoint.com/python/string_startswith.html), [splitlines()](https://www.w3schools.com/python/ref_string_splitlines.asp), or [split()](https://www.w3schools.com/python/ref_string_split.asp) functions might help. The function should read the lines of the fasta file and if it starts with a '>' define the text that comes afterwards as the sequence ID. The other lines are part of the sequence. After reading through the lines, you can easily define the GC content by counting the bases. "
   ]
  },
  {
   "cell_type": "code",
   "execution_count": null,
   "metadata": {},
   "outputs": [],
   "source": [
    "def gc_content(filename):\n",
    "    entries = []\n",
    "    with open(filename) as file_resource:\n",
    "        for entry in file_resource.read().split('>'):\n",
    "            elements = entry.splitlines()\n",
    "            if len(elements) > 0:\n",
    "                seq = ''.join(elements[1:])\n",
    "                gc = (seq.count('G') + seq.count('C')) / len(seq)\n",
    "                entries += [(elements[0], gc)]\n",
    "\n",
    "    return entries\n",
    "\n",
    "assert len(gc_content(\"data/gene.fa\")) == 1\n",
    "assert gc_content(\"data/gene.fa\")[0][0] == 'HSBGPG Human gene for bone gla protein (BGP)', f\"Got {gc_content('data/gene.fa')[0][0]}\"\n",
    "assert abs(gc_content(\"data/gene.fa\")[0][1] - 0.6353) < 0.0001, f\"Got {gc_content('data/gene.fa')[0][1]}\""
   ]
  },
  {
   "cell_type": "markdown",
   "metadata": {},
   "source": [
    "[&#9166;](#Solutions)\n",
    "\n",
    "---\n",
    "<a id=\"9-2-1\"></a>\n",
    "### 9.2.1 Exercises\n",
    "\n",
    "Download [this matrix file](data/Matrix.txt) (`Matrix.txt`) and save it in your directory. Then write a function to read a matrix file in this format, reorder the rows by the values in the given column, and printing out the result. The function should take as argument a file name and a column number. \n",
    "\n",
    "---"
   ]
  },
  {
   "cell_type": "code",
   "execution_count": null,
   "metadata": {},
   "outputs": [],
   "source": [
    "def sortMatrixByColumn(fileName,columnNumber):\n",
    "    #\n",
    "    # Read the tab-delimited file and store the values\n",
    "    #\n",
    " \n",
    "    with open(fileName) as fin:\n",
    "        lines = fin.readlines()\n",
    " \n",
    "    #\n",
    "    # Convert the data from the file into a Python list\n",
    "    #\n",
    " \n",
    "    matrix = []\n",
    "\n",
    "    for matrixRow in lines:\n",
    "        # Tab-delimited, so split line by \\t - this will give a list of strings\n",
    "        matrixColumns = matrixRow.rstrip().split(\"\\t\") \n",
    " \n",
    "        # Add a row to the matrix\n",
    "        matrix.append([])\n",
    " \n",
    "        # Add the columns, but convert the strings from the file into a float\n",
    "        for matrixValue in matrixColumns:\n",
    "            matrix[-1].append(float(matrixValue))\n",
    " \n",
    "    #\n",
    "    # Now sort by column - but have to track the row number as well!\n",
    "    #\n",
    " \n",
    "    selectedColumnValues = []\n",
    " \n",
    "    for rowNumber in range(len(matrix)):\n",
    " \n",
    "        selectedColumnValues.append((matrix[rowNumber][columnNumber],rowNumber))\n",
    " \n",
    "        selectedColumnValues.sort()\n",
    " \n",
    "    #\n",
    "    # Now print out the new matrix - the column value is now not interesting\n",
    "    # we want the row number!!\n",
    "    #\n",
    " \n",
    "    for (columnValue,rowNumber) in selectedColumnValues:  \n",
    "        columnValueStrings = []\n",
    "        for value in matrix[rowNumber]:\n",
    "            columnValueStrings.append(f\"{value:.3f}\")\n",
    "        print(\"\\t\".join(columnValueStrings))\n",
    " \n",
    " \n",
    "sortMatrixByColumn(\"data/matrix.txt\",3)"
   ]
  },
  {
   "cell_type": "markdown",
   "metadata": {},
   "source": [
    "[&#9166;](#Solutions)\n",
    "\n",
    "---\n",
    "<a id=\"9-2-2\"></a>\n",
    "### 9.2.2 Exercises\n",
    "\n",
    "Modify the program to read in the TestFile.pdb file by using separate functions to \n",
    "1. get the title, \n",
    "2. dissect the information from the ATOM line and \n",
    "3. to calculate the distance to the reference distance\n",
    "\n",
    "---"
   ]
  },
  {
   "cell_type": "code",
   "execution_count": null,
   "metadata": {},
   "outputs": [],
   "source": [
    "def getTitle(line,cols):\n",
    " \n",
    "    # Gets the title\n",
    " \n",
    "    title = line.replace(cols[0],'')\n",
    "    title = title.strip()\n",
    " \n",
    "    return (\"The title is '%s'\" % title)\n",
    " \n",
    "def getAtomInfo(cols):\n",
    " \n",
    "    # Get relevant information from an ATOM line and convert to the right type\n",
    " \n",
    "    atomSerial = int(cols[1])\n",
    "    atomName = cols[2]\n",
    "    residueNumber = int(cols[5])\n",
    "    x = float(cols[6])\n",
    "    y = float(cols[7])\n",
    "    z = float(cols[8])\n",
    " \n",
    "    return (atomSerial,atomName,residueNumber,x,y,z)\n",
    " \n",
    "def calculateDistance(coordinate1,coordinate2):\n",
    " \n",
    "    # Calculate the distance between two 3 dimensional coordinates\n",
    " \n",
    "    return ((coordinate1[0] - coordinate2[0]) ** 2 + (coordinate1[1] - coordinate2[1]) ** 2 + (coordinate1[2] - coordinate2[2]) ** 2 ) ** 0.5\n",
    " \n",
    "\n",
    "# Open the file\n",
    "with open(\"data/TestFile.pdb\") as fileHandle:\n",
    "    # Read all the lines in the file (as separated by a newline character), and store them in the lines list\n",
    "    # Each element in this list corresponds to one line of the file!\n",
    "    lines = fileHandle.readlines()\n",
    "\n",
    "# Initialise some information\n",
    "searchCoordinate = (-8.7,-7.7,4.7)\n",
    "modelNumber = None\n",
    " \n",
    "# Loop over the lines, and do some basic string manipulations\n",
    "for line in lines:\n",
    " \n",
    "    line = line.strip()  # Remove starting and trailing spaces/tabs/newlines\n",
    " \n",
    "    # Only do something if it's not an empty line\n",
    "    if line:\n",
    "        cols = line.split()   # Split the line by white spaces; depending on the format this could be commas, ...\n",
    " \n",
    "        # Print off the title\n",
    "        if cols[0] == 'TITLE':\n",
    "            print(getTitle(line,cols))\n",
    " \n",
    "        # Track the model number\n",
    "        elif cols[0] == 'MODEL':\n",
    "            modelNumber = int(cols[1])\n",
    " \n",
    "        # For atom lines, calculate the distance\n",
    "        elif cols[0] == 'ATOM':\n",
    "            (atomSerial,atomName,residueNumber,x,y,z) = getAtomInfo(cols)\n",
    " \n",
    "            # Calculate the distance\n",
    "            distance = calculateDistance((x,y,z),searchCoordinate)\n",
    " \n",
    "            if distance < 2.0:\n",
    "                print(f\"Model {modelNumber}, residue {residueNumber}, atom {atomName} (serial {atomSerial}) is {distance:.2f} away from reference.\")"
   ]
  },
  {
   "cell_type": "markdown",
   "metadata": {},
   "source": [
    "Compared to the original program it is much easier to see what is going on here. Also, the calculateDistance() function is relevant for any other piece of code where you want to calculate distances between two 3D coordinates - it's not embedded in this bit of code any more and is useful anywhere that you need to do this."
   ]
  },
  {
   "cell_type": "markdown",
   "metadata": {},
   "source": [
    "[&#9166;](#Solutions)\n",
    "\n",
    "---\n",
    "### 9.2.1 Exercise\n",
    "\n",
    "In the module `readFasta` there is a function that reads in a FASTA file with an RNA sequence and return the id, description and RNA sequence (in 3 base unit chunks). Import this module in a cell and call the function on the file `gene.fa`\n",
    "\n",
    "---"
   ]
  },
  {
   "cell_type": "code",
   "execution_count": null,
   "metadata": {},
   "outputs": [],
   "source": [
    "from modules.readFasta import readRnaFastaFile\n",
    "\n",
    "readRnaFastaFile(\"data/gene.fa\")"
   ]
  },
  {
   "cell_type": "code",
   "execution_count": null,
   "metadata": {},
   "outputs": [],
   "source": []
  },
  {
   "cell_type": "markdown",
   "metadata": {},
   "source": [
    "[&#9166;](#Solutions)\n",
    "\n",
    "---\n",
    "<a id=\"9-4-1\"></a>\n",
    "### 9.4.1 Exercises\n",
    "\n",
    "Make a new directory in which you write out 5 files with a 2 second delay. Each file should contain the date and time when it was originally written out.\n",
    "\n",
    "---\n"
   ]
  },
  {
   "cell_type": "code",
   "execution_count": null,
   "metadata": {},
   "outputs": [],
   "source": [
    "# 1\n",
    "import time, os\n",
    " \n",
    "\n",
    "# Create a variable for the directory name\n",
    "myDir = \"timeTest\"\n",
    "\n",
    "# Check whether the directory exists, if not create it\n",
    "if not os.path.exists(myDir):\n",
    "    os.mkdir(myDir)\n",
    "\n",
    "# Loop from 1 to 5\n",
    "for i in range(1,6):\n",
    "\n",
    "    # Get the current time\n",
    "    currentTime = time.ctime()\n",
    "\n",
    "    # Write out the file - use i to give a different name to each\n",
    "    filePath = os.path.join(myDir,f\"myFile{i}.txt\")\n",
    "\n",
    "    with open(filePath,'w') as outFileHandle:\n",
    "        outFileHandle.write(f\"{currentTime}\\n\")\n",
    "\n",
    "    print(f\"Written file {filePath}...\")\n",
    "\n",
    "    # Sleep for 2 seconds\n",
    "    time.sleep(2)"
   ]
  },
  {
   "cell_type": "markdown",
   "metadata": {},
   "source": [
    "[&#9166;](#Solutions)\n",
    "\n",
    "---\n",
    "<a id=\"9-4-2\"></a>\n",
    "### 9.4.2 Exercises\n",
    "\n",
    "Write a program where you ask the user for a one-letter amino acid sequence, and print out the three-letter amino acid codes. Have a look at the `SequenceDicts.py` module and see how it can help you. \n",
    "\n",
    "---"
   ]
  },
  {
   "cell_type": "code",
   "execution_count": null,
   "metadata": {},
   "outputs": [],
   "source": [
    "# 3\n",
    "# Note how you can import a function (or variable) with a different name for your program!\n",
    "\n",
    "from modules.SequenceDicts import proteinOneToThree as oneToThreeLetterCodes\n",
    "\n",
    "oneLetterSeq = input('Give one letter sequence:')\n",
    " \n",
    "if oneLetterSeq:\n",
    "    for oneLetterCode in oneLetterSeq:\n",
    "        if oneLetterCode in oneToThreeLetterCodes.keys():\n",
    "            print(oneToThreeLetterCodes[oneLetterCode])\n",
    "        else:\n",
    "            print(f\"One letter code '{oneLetterCode}' is not a valid amino acid code!\")\n",
    "else:\n",
    "    print(\"You didn't give me any information!\")"
   ]
  },
  {
   "cell_type": "markdown",
   "metadata": {},
   "source": [
    "[&#9166;](#Solutions)\n",
    "\n",
    "---\n",
    "<a id=\"9-4-3\"></a>\n",
    "### 9.4.3 Exercises\n",
    "\n",
    "Write a program where you translate the RNA sequence `data/rnaSeq.txt` into 3 letter amino acid codes. You can use the `readFasta.py` and `SequenceDicts.py` modules which contain valuable functions and a dictionary. \n",
    "\n",
    "---\n"
   ]
  },
  {
   "cell_type": "code",
   "execution_count": null,
   "metadata": {},
   "outputs": [],
   "source": [
    "from modules.SequenceDicts import standardRnaToProtein, proteinOneToThree\n",
    "\n",
    "from modules.readFasta import readRnaFastaFile\n",
    "\n",
    "(molName,description,sequenceInfo) = readRnaFastaFile(\"data/rnaSeq.txt\")\n",
    "proteinThreeLetterSeq = []\n",
    "\n",
    "for rnaCodon in sequenceInfo:\n",
    "\n",
    "    aaOneLetterCode = standardRnaToProtein[rnaCodon]\n",
    "    aaThreeLetterCode = proteinOneToThree[aaOneLetterCode]\n",
    "    proteinThreeLetterSeq.append(aaThreeLetterCode)\n",
    "\n",
    "print(proteinThreeLetterSeq)"
   ]
  },
  {
   "cell_type": "markdown",
   "metadata": {},
   "source": [
    "[&#9166;](#Solutions)\n",
    "\n",
    "---\n",
    "<a id=\"9-4-4\"></a>\n",
    "### 9.4.4 Exercises\n",
    "\n",
    "Write a program that:\n",
    "- Has a function `readSampleInformationFile()` to read the information from this sample data file into a dictionary. Also check whether the file exists.\n",
    "- Has a function `getSampleIdsForValueRange()` that can extract sample IDs from this dictionary. Print the sample IDs for pH 6.0-7.0, temperature 280-290 and volume 200-220 using this function.\n",
    "\n",
    "---"
   ]
  },
  {
   "cell_type": "code",
   "execution_count": null,
   "metadata": {},
   "outputs": [],
   "source": []
  }
 ],
 "metadata": {
  "kernelspec": {
   "display_name": "Python 3",
   "language": "python",
   "name": "python3"
  },
  "language_info": {
   "codemirror_mode": {
    "name": "ipython",
    "version": 3
   },
   "file_extension": ".py",
   "mimetype": "text/x-python",
   "name": "python",
   "nbconvert_exporter": "python",
   "pygments_lexer": "ipython3",
   "version": "3.9.2"
  }
 },
 "nbformat": 4,
 "nbformat_minor": 4
}
