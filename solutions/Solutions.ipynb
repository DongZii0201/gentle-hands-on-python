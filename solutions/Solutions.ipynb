{
 "cells": [
  {
   "cell_type": "markdown",
   "metadata": {
    "tags": []
   },
   "source": [
    "# Solutions\n",
    "\n",
    "| Chapter 2               | Chapter 3               | Chapter 4               | Chapter 5               | Chapter 6               | Chapter 7               | Chapter 8               | Chapter 9               |\n",
    "|-------------------------|-------------------------|-------------------------|-------------------------|-------------------------|-------------------------|-------------------------|-------------------------|\n",
    "| [2-1](#Exercise-2-1)    | [3-2](#Exercise-3-2)    | [4-1](#Exercise-4-1)    | [5-1](#Exercise-5-1)    | [6-1](#Exercise-6-1)    | [7-1](#Exercise-7-1)    | [8-1](#Exercise-8-1)    | [9-1](#Exercise-9-1)    |\n",
    "| [2-2](#Exercise-2-2)    | [3-3](#Exercise-3-3)    | [4-2](#Exercise-4-2)    | [5-2](#Exercise-5-2)    | [6-2](#Exercise-6-2)    | [7-2](#Exercise-7-2)    | [8-2](#Exercise-8-2)    | [9-2](#Exercise-9-2)    |\n",
    "| [2-3](#Exercise-2-3)    | [3-4](#Exercise-3-4)    | [4-3](#Exercise-4-3)    | [5-3](#Exercise-5-3)    | [6-3](#Exercise-6-3)    | [7-3](#Exercise-7-3)    | [8-3](#Exercise-8-3)    |\n",
    "| [2-4](#Exercise-2-4)    | [3-5](#Exercise-3-5)    | [4-4](#Exercise-4-4)    | [5-4](#Exercise-5-4)    | [6-4](#Exercise-6-4)    | [7-4](#Exercise-7-4)    | [8-4](#Exercise-8-4)    |\n",
    "| [2-5](#Exercise-2-5)    | [3-6](#Exercise-3-6)    | [4-5](#Exercise-4-5)    | [5-5](#Exercise-5-5)    | [6-5](#Exercise-6-5)    | [7-5](#Exercise-7-5)    | [8-5](#Exercise-8-5)    |\n",
    "| [2-6](#Exercise-2-6)    | [3-7](#Exercise-3-7)    |                         | [5-6](#Exercise-5-6)    | [6-6](#Exercise-6-6)    |                         |                         |\n",
    "| [2-7](#Exercise-2-7)    |                         |                         |                         | [6-7](#Exercise-6-7)    |                         |                         |\n",
    "| [2-8](#Exercise-2-8)    |\n",
    "| [2-9](#Exercise-2-9)    |\n",
    "| [2-10](#Exercise-2-10)  |"
   ]
  },
  {
   "cell_type": "markdown",
   "metadata": {},
   "source": [
    "---\n",
    "### Exercise 2-1\n",
    "What happens when you try to divide by zero?"
   ]
  },
  {
   "cell_type": "code",
   "execution_count": 1,
   "metadata": {},
   "outputs": [
    {
     "ename": "ZeroDivisionError",
     "evalue": "division by zero",
     "output_type": "error",
     "traceback": [
      "\u001b[0;31m---------------------------------------------------------------------------\u001b[0m",
      "\u001b[0;31mZeroDivisionError\u001b[0m                         Traceback (most recent call last)",
      "\u001b[0;32m<ipython-input-1-adafc2937013>\u001b[0m in \u001b[0;36m<module>\u001b[0;34m\u001b[0m\n\u001b[0;32m----> 1\u001b[0;31m \u001b[0;36m5\u001b[0m \u001b[0;34m/\u001b[0m \u001b[0;36m0\u001b[0m\u001b[0;34m\u001b[0m\u001b[0;34m\u001b[0m\u001b[0m\n\u001b[0m",
      "\u001b[0;31mZeroDivisionError\u001b[0m: division by zero"
     ]
    }
   ],
   "source": [
    "5 / 0"
   ]
  },
  {
   "cell_type": "markdown",
   "metadata": {},
   "source": [
    "[&#9166;](#Solutions)\n",
    "\n",
    "---\n",
    "### Exercise 2-2\n",
    "Introduce brackets into this expression to make it evaluate to 5."
   ]
  },
  {
   "cell_type": "code",
   "execution_count": 2,
   "metadata": {},
   "outputs": [
    {
     "data": {
      "text/plain": [
       "5.0"
      ]
     },
     "execution_count": 2,
     "metadata": {},
     "output_type": "execute_result"
    }
   ],
   "source": [
    "(8 * 6 / 4 - 2) * 0.5"
   ]
  },
  {
   "cell_type": "markdown",
   "metadata": {},
   "source": [
    "[&#9166;](#Solutions)\n",
    "\n",
    "---\n",
    "### Exercise 2-3\n",
    "What do you expect this expression to evaluate to?"
   ]
  },
  {
   "cell_type": "code",
   "execution_count": 1,
   "metadata": {},
   "outputs": [
    {
     "ename": "TypeError",
     "evalue": "unsupported operand type(s) for +: 'int' and 'str'",
     "output_type": "error",
     "traceback": [
      "\u001b[0;31m---------------------------------------------------------------------------\u001b[0m",
      "\u001b[0;31mTypeError\u001b[0m                                 Traceback (most recent call last)",
      "\u001b[0;32m<ipython-input-1-f60006d25ffc>\u001b[0m in \u001b[0;36m<module>\u001b[0;34m\u001b[0m\n\u001b[0;32m----> 1\u001b[0;31m \u001b[0;36m3\u001b[0m \u001b[0;34m+\u001b[0m \u001b[0;34m'five'\u001b[0m\u001b[0;34m\u001b[0m\u001b[0;34m\u001b[0m\u001b[0m\n\u001b[0m",
      "\u001b[0;31mTypeError\u001b[0m: unsupported operand type(s) for +: 'int' and 'str'"
     ]
    }
   ],
   "source": [
    "3 + 'five'"
   ]
  },
  {
   "cell_type": "markdown",
   "metadata": {},
   "source": [
    "You will receive an error from the Python interpreter. Something like: `TypeError: unsupported operand type(s) for +: 'int' and 'str'`. When this happens it is important to **read the error message**. It will help you to diagnose and fix the mistake you made."
   ]
  },
  {
   "cell_type": "markdown",
   "metadata": {},
   "source": [
    "[&#9166;](#Solutions)\n",
    "\n",
    "---\n",
    "### Exercise 2-4\n",
    "Make the expression in the following code cell evaluate to `True`. What is the `!=` operator doing?"
   ]
  },
  {
   "cell_type": "markdown",
   "metadata": {},
   "source": [
    "The `!=` operator can be read as \"not equal\". So modifying the expression to what is below should evaluate to `True`."
   ]
  },
  {
   "cell_type": "code",
   "execution_count": 3,
   "metadata": {},
   "outputs": [
    {
     "data": {
      "text/plain": [
       "True"
      ]
     },
     "execution_count": 3,
     "metadata": {},
     "output_type": "execute_result"
    }
   ],
   "source": [
    "\"hello\" != \"world\""
   ]
  },
  {
   "cell_type": "code",
   "execution_count": 2,
   "metadata": {},
   "outputs": [
    {
     "data": {
      "text/plain": [
       "True"
      ]
     },
     "execution_count": 2,
     "metadata": {},
     "output_type": "execute_result"
    }
   ],
   "source": [
    "\"hello\" == \"hello\""
   ]
  },
  {
   "cell_type": "markdown",
   "metadata": {},
   "source": [
    "[&#9166;](#Solutions)\n",
    "\n",
    "---\n",
    "### Exercise 2-5\n",
    "Predict the outcome of each of these operations before evaluating the cells to see if you're correct."
   ]
  },
  {
   "cell_type": "code",
   "execution_count": 3,
   "metadata": {},
   "outputs": [
    {
     "data": {
      "text/plain": [
       "True"
      ]
     },
     "execution_count": 3,
     "metadata": {},
     "output_type": "execute_result"
    }
   ],
   "source": [
    "10 >= (5 + 5)"
   ]
  },
  {
   "cell_type": "code",
   "execution_count": 4,
   "metadata": {},
   "outputs": [
    {
     "data": {
      "text/plain": [
       "True"
      ]
     },
     "execution_count": 4,
     "metadata": {},
     "output_type": "execute_result"
    }
   ],
   "source": [
    "(1 + 2 + 3 + 4) == 10"
   ]
  },
  {
   "cell_type": "code",
   "execution_count": 5,
   "metadata": {},
   "outputs": [
    {
     "data": {
      "text/plain": [
       "True"
      ]
     },
     "execution_count": 5,
     "metadata": {},
     "output_type": "execute_result"
    }
   ],
   "source": [
    "abs(-22) != 1"
   ]
  },
  {
   "cell_type": "code",
   "execution_count": 6,
   "metadata": {},
   "outputs": [
    {
     "data": {
      "text/plain": [
       "False"
      ]
     },
     "execution_count": 6,
     "metadata": {},
     "output_type": "execute_result"
    }
   ],
   "source": [
    "\"HELLO\" == \"hello\""
   ]
  },
  {
   "cell_type": "code",
   "execution_count": 7,
   "metadata": {},
   "outputs": [
    {
     "data": {
      "text/plain": [
       "False"
      ]
     },
     "execution_count": 7,
     "metadata": {},
     "output_type": "execute_result"
    }
   ],
   "source": [
    "len(\"hello\") <= 4"
   ]
  },
  {
   "cell_type": "code",
   "execution_count": 3,
   "metadata": {},
   "outputs": [
    {
     "data": {
      "text/plain": [
       "False"
      ]
     },
     "execution_count": 3,
     "metadata": {},
     "output_type": "execute_result"
    }
   ],
   "source": [
    "\"Guido \" + \"van Rossum\" == 65"
   ]
  },
  {
   "cell_type": "markdown",
   "metadata": {},
   "source": [
    "[&#9166;](#Solutions)\n",
    "\n",
    "---\n",
    "### Exercise 2-6\n",
    "Write a program where you ask the computer a question and the computer prints out the answer \"42\"."
   ]
  },
  {
   "cell_type": "code",
   "execution_count": 4,
   "metadata": {},
   "outputs": [
    {
     "name": "stdin",
     "output_type": "stream",
     "text": [
      "Ask me a question: What is the meaning of life, the universe, and everything?\n"
     ]
    },
    {
     "name": "stdout",
     "output_type": "stream",
     "text": [
      "42\n"
     ]
    }
   ],
   "source": [
    "input(\"Ask me a question:\")\n",
    "print(42)"
   ]
  },
  {
   "cell_type": "code",
   "execution_count": 5,
   "metadata": {},
   "outputs": [
    {
     "name": "stdin",
     "output_type": "stream",
     "text": [
      "Give me a number: 5.5\n"
     ]
    },
    {
     "data": {
      "text/plain": [
       "0.5"
      ]
     },
     "execution_count": 5,
     "metadata": {},
     "output_type": "execute_result"
    }
   ],
   "source": [
    "myNumber = float(input(\"Give me a number:\"))\n",
    "intPart = int(myNumber)\n",
    "myNumber - intPart"
   ]
  },
  {
   "cell_type": "markdown",
   "metadata": {},
   "source": [
    "[&#9166;](#Solutions)\n",
    "\n",
    "---\n",
    "### Exercise 2-7\n",
    "Write a program that computes the area of a circle with radius given by the user."
   ]
  },
  {
   "cell_type": "code",
   "execution_count": 6,
   "metadata": {},
   "outputs": [
    {
     "name": "stdin",
     "output_type": "stream",
     "text": [
      "Radius of a circle: 3.14159\n"
     ]
    },
    {
     "data": {
      "text/plain": [
       "31.006224300558934"
      ]
     },
     "execution_count": 6,
     "metadata": {},
     "output_type": "execute_result"
    }
   ],
   "source": [
    "from math import pi\n",
    "radius = float(input(\"Radius of a circle:\"))\n",
    "pi * (radius ** 2)"
   ]
  },
  {
   "cell_type": "markdown",
   "metadata": {},
   "source": [
    "[&#9166;](#Solutions)\n",
    "\n",
    "---\n",
    "\n",
    "### Exercise 2-8\n",
    "Can you compare strings? What does it mean for one string to be less than another string? What does the following expression evaluate to and why?"
   ]
  },
  {
   "cell_type": "code",
   "execution_count": null,
   "metadata": {},
   "outputs": [],
   "source": [
    "\"three\" > \"six\""
   ]
  },
  {
   "cell_type": "markdown",
   "metadata": {},
   "source": [
    "Strings **can** be compared. It is clear you might want to check if 2 strings are the same, e.g.\n",
    "```python\n",
    "\"ATGC\" == \"ATTC\"\n",
    "```\n",
    "Strings are compared **alphabetically**, `'t'` is later in the alphabet than `'s'` so `'t' > 's'`."
   ]
  },
  {
   "cell_type": "markdown",
   "metadata": {},
   "source": [
    "[&#9166;](#Solutions)\n",
    "\n",
    "---\n",
    "### Exercise 2-9\n",
    "Use the `int()` function to convert fractional numbers (like `3.14159`) into integers."
   ]
  },
  {
   "cell_type": "code",
   "execution_count": 15,
   "metadata": {},
   "outputs": [
    {
     "data": {
      "text/plain": [
       "3"
      ]
     },
     "execution_count": 15,
     "metadata": {},
     "output_type": "execute_result"
    }
   ],
   "source": [
    "int(3.14159)"
   ]
  },
  {
   "cell_type": "code",
   "execution_count": 16,
   "metadata": {},
   "outputs": [
    {
     "data": {
      "text/plain": [
       "-1"
      ]
     },
     "execution_count": 16,
     "metadata": {},
     "output_type": "execute_result"
    }
   ],
   "source": [
    "int(-1.2345)"
   ]
  },
  {
   "cell_type": "markdown",
   "metadata": {},
   "source": [
    "[&#9166;](#Solutions)\n",
    "\n",
    "---\n",
    "### Exercise 2-10\n",
    "Give the variable `n` a value and display `True` if `n` is even, otherwise display `False`"
   ]
  },
  {
   "cell_type": "code",
   "execution_count": 11,
   "metadata": {},
   "outputs": [
    {
     "data": {
      "text/plain": [
       "False"
      ]
     },
     "execution_count": 11,
     "metadata": {},
     "output_type": "execute_result"
    }
   ],
   "source": [
    "n = 5\n",
    "n % 2 == 0"
   ]
  },
  {
   "cell_type": "markdown",
   "metadata": {},
   "source": [
    "[&#9166;](#Solutions)\n",
    "\n",
    "---\n",
    "### Exercise 3-2\n",
    "Try to guess what will be printed before executing the cell."
   ]
  },
  {
   "cell_type": "code",
   "execution_count": 2,
   "metadata": {},
   "outputs": [
    {
     "name": "stdout",
     "output_type": "stream",
     "text": [
      "5 blob 4 16\n"
     ]
    }
   ],
   "source": [
    "def my_square(number):\n",
    "    \"\"\"Compute the square of the input.\"\"\"\n",
    "    return number ** 2\n",
    "\n",
    "a = len(\"hello\")\n",
    "b = \"blob\"\n",
    "c = len(b)\n",
    "d = my_square(c)\n",
    "\n",
    "print(a, b, c, d)"
   ]
  },
  {
   "cell_type": "markdown",
   "metadata": {},
   "source": [
    "[&#9166;](#Solutions)\n",
    "\n",
    "---\n",
    "### Exercise 3-3\n",
    "In general youf function should evaluate to some value using the `return` keyword. What happens if you forget to use a `return`? What happens if you `return` with no value?"
   ]
  },
  {
   "cell_type": "code",
   "execution_count": 5,
   "metadata": {},
   "outputs": [
    {
     "name": "stdout",
     "output_type": "stream",
     "text": [
      "None\n"
     ]
    }
   ],
   "source": [
    "def a_function():\n",
    "    6\n",
    "    # No return\n",
    "\n",
    "print(a_function())"
   ]
  },
  {
   "cell_type": "code",
   "execution_count": 6,
   "metadata": {},
   "outputs": [
    {
     "name": "stdout",
     "output_type": "stream",
     "text": [
      "None\n"
     ]
    }
   ],
   "source": [
    "def a_function():\n",
    "    # Return with no value\n",
    "    return\n",
    "\n",
    "print(a_function())"
   ]
  },
  {
   "cell_type": "markdown",
   "metadata": {},
   "source": [
    "[&#9166;](#Solutions)\n",
    "\n",
    "---\n",
    "### Exercise 3-4\n",
    "Python treats functions the same as any other variable. A variable has a name and a value, in this case the value is a function. This means that you can define a function _inside another function definition_ and return that! Use this exercise to try this."
   ]
  },
  {
   "cell_type": "code",
   "execution_count": 7,
   "metadata": {},
   "outputs": [
    {
     "data": {
      "text/plain": [
       "10"
      ]
     },
     "execution_count": 7,
     "metadata": {},
     "output_type": "execute_result"
    }
   ],
   "source": [
    "def outside_function(val1):\n",
    "    first_val = val1\n",
    "    \n",
    "    def inside_function(val2):\n",
    "        return first_val + val2\n",
    "    \n",
    "    return inside_function\n",
    "\n",
    "function = outside_function(3)\n",
    "function(7)"
   ]
  },
  {
   "cell_type": "markdown",
   "metadata": {},
   "source": [
    "Can you use the substitution mental model to understand what this code does?"
   ]
  },
  {
   "cell_type": "code",
   "execution_count": 9,
   "metadata": {},
   "outputs": [
    {
     "data": {
      "text/plain": [
       "10"
      ]
     },
     "execution_count": 9,
     "metadata": {},
     "output_type": "execute_result"
    }
   ],
   "source": [
    "# Step 1: replace outside_function argument val1 = 3\n",
    "first_val = 3\n",
    "def inside_function(val2):\n",
    "    return first_val + val2\n",
    "\n",
    "function = inside_function\n",
    "function(7)"
   ]
  },
  {
   "cell_type": "code",
   "execution_count": 10,
   "metadata": {},
   "outputs": [
    {
     "data": {
      "text/plain": [
       "10"
      ]
     },
     "execution_count": 10,
     "metadata": {},
     "output_type": "execute_result"
    }
   ],
   "source": [
    "# Step 2: replace function with inside_function\n",
    "first_val = 3\n",
    "def inside_function(val2):\n",
    "    return first_val + val2\n",
    "\n",
    "inside_function(7)"
   ]
  },
  {
   "cell_type": "code",
   "execution_count": 11,
   "metadata": {},
   "outputs": [
    {
     "data": {
      "text/plain": [
       "10"
      ]
     },
     "execution_count": 11,
     "metadata": {},
     "output_type": "execute_result"
    }
   ],
   "source": [
    "# Step 3: replace inside_function argument val2 = 7\n",
    "first_val = 3\n",
    "val2 = 7\n",
    "first_val + val2"
   ]
  },
  {
   "cell_type": "markdown",
   "metadata": {},
   "source": [
    "[&#9166;](#Solutions)\n",
    "\n",
    "---\n",
    "### Exercise 3-5\n",
    "How would you test the following function. Write some tests, try to discover a bug."
   ]
  },
  {
   "cell_type": "code",
   "execution_count": 11,
   "metadata": {},
   "outputs": [
    {
     "ename": "AssertionError",
     "evalue": "",
     "output_type": "error",
     "traceback": [
      "\u001b[0;31m---------------------------------------------------------------------------\u001b[0m",
      "\u001b[0;31mAssertionError\u001b[0m                            Traceback (most recent call last)",
      "\u001b[0;32m<ipython-input-11-f18492f48323>\u001b[0m in \u001b[0;36m<module>\u001b[0;34m\u001b[0m\n\u001b[1;32m      7\u001b[0m \u001b[0;31m# Write your tests here\u001b[0m\u001b[0;34m\u001b[0m\u001b[0;34m\u001b[0m\u001b[0;34m\u001b[0m\u001b[0m\n\u001b[1;32m      8\u001b[0m \u001b[0;31m# Reading the function, I immediately suspect its returning me the integer part. Lets write a test for that hypothesis\u001b[0m\u001b[0;34m\u001b[0m\u001b[0;34m\u001b[0m\u001b[0;34m\u001b[0m\u001b[0m\n\u001b[0;32m----> 9\u001b[0;31m \u001b[0;32massert\u001b[0m \u001b[0;36m5\u001b[0m \u001b[0;34m==\u001b[0m \u001b[0mfractional_part\u001b[0m\u001b[0;34m(\u001b[0m\u001b[0;36m5.5\u001b[0m\u001b[0;34m)\u001b[0m\u001b[0;34m\u001b[0m\u001b[0;34m\u001b[0m\u001b[0m\n\u001b[0m",
      "\u001b[0;31mAssertionError\u001b[0m: "
     ]
    }
   ],
   "source": [
    "def fractional_part(number):\n",
    "    \"\"\"Find the fractional part of an input floating point number.\"\"\"\n",
    "    int_part = int(number) + 1\n",
    "    frac_part = int_part + number\n",
    "    return int_part\n",
    "\n",
    "# Write your tests here\n",
    "# Reading the function, I immediately suspect its returning me the integer part. Lets write a test for that hypothesis\n",
    "assert 5 == fractional_part(5.5)"
   ]
  },
  {
   "cell_type": "code",
   "execution_count": 12,
   "metadata": {},
   "outputs": [],
   "source": [
    "# No, but it seems to be adding 1 to the integer part. Let's check that:\n",
    "assert 6 == fractional_part(5.5) # Yes, no output means that assertion was correct. Lets fix the function:"
   ]
  },
  {
   "cell_type": "code",
   "execution_count": 15,
   "metadata": {},
   "outputs": [
    {
     "ename": "AssertionError",
     "evalue": "",
     "output_type": "error",
     "traceback": [
      "\u001b[0;31m---------------------------------------------------------------------------\u001b[0m",
      "\u001b[0;31mAssertionError\u001b[0m                            Traceback (most recent call last)",
      "\u001b[0;32m<ipython-input-15-a3c3ad2b484b>\u001b[0m in \u001b[0;36m<module>\u001b[0;34m\u001b[0m\n\u001b[1;32m      5\u001b[0m     \u001b[0;32mreturn\u001b[0m \u001b[0mfrac_part\u001b[0m\u001b[0;34m\u001b[0m\u001b[0;34m\u001b[0m\u001b[0m\n\u001b[1;32m      6\u001b[0m \u001b[0;34m\u001b[0m\u001b[0m\n\u001b[0;32m----> 7\u001b[0;31m \u001b[0;32massert\u001b[0m \u001b[0;36m0.5\u001b[0m \u001b[0;34m==\u001b[0m \u001b[0mfractional_part\u001b[0m\u001b[0;34m(\u001b[0m\u001b[0;36m5.5\u001b[0m\u001b[0;34m)\u001b[0m \u001b[0;31m# No this still fails. What's the fractional part computation doing?\u001b[0m\u001b[0;34m\u001b[0m\u001b[0;34m\u001b[0m\u001b[0m\n\u001b[0m\u001b[1;32m      8\u001b[0m \u001b[0;32massert\u001b[0m \u001b[0;36m10.5\u001b[0m \u001b[0;34m==\u001b[0m \u001b[0mfractional_part\u001b[0m\u001b[0;34m(\u001b[0m\u001b[0;36m5.5\u001b[0m\u001b[0;34m)\u001b[0m \u001b[0;31m# That succeeds. It's adding rather than subtracting. Lets fix that...\u001b[0m\u001b[0;34m\u001b[0m\u001b[0;34m\u001b[0m\u001b[0m\n",
      "\u001b[0;31mAssertionError\u001b[0m: "
     ]
    }
   ],
   "source": [
    "def fractional_part(number):\n",
    "    \"\"\"Find the fractional part of an input floating point number.\"\"\"\n",
    "    int_part = int(number)\n",
    "    frac_part = int_part + number\n",
    "    return frac_part\n",
    "\n",
    "assert 0.5 == fractional_part(5.5) # No this still fails. What's the fractional part computation doing?\n",
    "assert 10.5 == fractional_part(5.5) # That succeeds. It's adding rather than subtracting. Lets fix that..."
   ]
  },
  {
   "cell_type": "code",
   "execution_count": 16,
   "metadata": {},
   "outputs": [
    {
     "ename": "AssertionError",
     "evalue": "",
     "output_type": "error",
     "traceback": [
      "\u001b[0;31m---------------------------------------------------------------------------\u001b[0m",
      "\u001b[0;31mAssertionError\u001b[0m                            Traceback (most recent call last)",
      "\u001b[0;32m<ipython-input-16-2788debf1ebe>\u001b[0m in \u001b[0;36m<module>\u001b[0;34m\u001b[0m\n\u001b[1;32m      7\u001b[0m \u001b[0;32massert\u001b[0m \u001b[0;36m0\u001b[0m \u001b[0;34m==\u001b[0m \u001b[0mfractional_part\u001b[0m\u001b[0;34m(\u001b[0m\u001b[0;36m0\u001b[0m\u001b[0;34m)\u001b[0m\u001b[0;34m\u001b[0m\u001b[0;34m\u001b[0m\u001b[0m\n\u001b[1;32m      8\u001b[0m \u001b[0;32massert\u001b[0m \u001b[0;36m0.5\u001b[0m \u001b[0;34m==\u001b[0m \u001b[0mfractional_part\u001b[0m\u001b[0;34m(\u001b[0m\u001b[0;36m5.5\u001b[0m\u001b[0;34m)\u001b[0m\u001b[0;34m\u001b[0m\u001b[0;34m\u001b[0m\u001b[0m\n\u001b[0;32m----> 9\u001b[0;31m \u001b[0;32massert\u001b[0m \u001b[0;36m0.2\u001b[0m \u001b[0;34m==\u001b[0m \u001b[0mfractional_part\u001b[0m\u001b[0;34m(\u001b[0m\u001b[0;34m-\u001b[0m\u001b[0;36m8.2\u001b[0m\u001b[0;34m)\u001b[0m\u001b[0;34m\u001b[0m\u001b[0;34m\u001b[0m\u001b[0m\n\u001b[0m",
      "\u001b[0;31mAssertionError\u001b[0m: "
     ]
    }
   ],
   "source": [
    "def fractional_part(number):\n",
    "    \"\"\"Find the fractional part of an input floating point number.\"\"\"\n",
    "    int_part = int(number)\n",
    "    frac_part = number - int_part\n",
    "    return frac_part\n",
    "\n",
    "assert 0 == fractional_part(0)\n",
    "assert 0.5 == fractional_part(5.5)\n",
    "assert 0.2 == fractional_part(-8.2)"
   ]
  },
  {
   "cell_type": "markdown",
   "metadata": {},
   "source": [
    "We're nearly there. Just have to deal with negative values..."
   ]
  },
  {
   "cell_type": "code",
   "execution_count": 25,
   "metadata": {},
   "outputs": [
    {
     "ename": "AssertionError",
     "evalue": "0.1999999999999993",
     "output_type": "error",
     "traceback": [
      "\u001b[0;31m---------------------------------------------------------------------------\u001b[0m",
      "\u001b[0;31mAssertionError\u001b[0m                            Traceback (most recent call last)",
      "\u001b[0;32m<ipython-input-25-361055d1c0a8>\u001b[0m in \u001b[0;36m<module>\u001b[0;34m\u001b[0m\n\u001b[1;32m      7\u001b[0m \u001b[0;32massert\u001b[0m \u001b[0;36m0\u001b[0m \u001b[0;34m==\u001b[0m \u001b[0mfractional_part\u001b[0m\u001b[0;34m(\u001b[0m\u001b[0;36m0\u001b[0m\u001b[0;34m)\u001b[0m\u001b[0;34m\u001b[0m\u001b[0;34m\u001b[0m\u001b[0m\n\u001b[1;32m      8\u001b[0m \u001b[0;32massert\u001b[0m \u001b[0;36m0.5\u001b[0m \u001b[0;34m==\u001b[0m \u001b[0mfractional_part\u001b[0m\u001b[0;34m(\u001b[0m\u001b[0;36m5.5\u001b[0m\u001b[0;34m)\u001b[0m\u001b[0;34m\u001b[0m\u001b[0;34m\u001b[0m\u001b[0m\n\u001b[0;32m----> 9\u001b[0;31m \u001b[0;32massert\u001b[0m \u001b[0;36m0.2\u001b[0m \u001b[0;34m==\u001b[0m \u001b[0mfractional_part\u001b[0m\u001b[0;34m(\u001b[0m\u001b[0;34m-\u001b[0m\u001b[0;36m8.2\u001b[0m\u001b[0;34m)\u001b[0m\u001b[0;34m,\u001b[0m \u001b[0mstr\u001b[0m\u001b[0;34m(\u001b[0m\u001b[0mfractional_part\u001b[0m\u001b[0;34m(\u001b[0m\u001b[0;34m-\u001b[0m\u001b[0;36m8.2\u001b[0m\u001b[0;34m)\u001b[0m\u001b[0;34m)\u001b[0m\u001b[0;34m\u001b[0m\u001b[0;34m\u001b[0m\u001b[0m\n\u001b[0m",
      "\u001b[0;31mAssertionError\u001b[0m: 0.1999999999999993"
     ]
    }
   ],
   "source": [
    "def fractional_part(number):\n",
    "    \"\"\"Find the fractional part of an input floating point number.\"\"\"\n",
    "    int_part = abs(int(number))\n",
    "    frac_part = abs(number) - int_part\n",
    "    return frac_part\n",
    "\n",
    "assert 0 == fractional_part(0)\n",
    "assert 0.5 == fractional_part(5.5)\n",
    "assert 0.2 == fractional_part(-8.2), str(fractional_part(-8.2))"
   ]
  },
  {
   "cell_type": "markdown",
   "metadata": {},
   "source": [
    "Ah! Remember floating point approximation! Fixing this is left as an exercise."
   ]
  },
  {
   "cell_type": "markdown",
   "metadata": {},
   "source": [
    "[&#9166;](#Solutions)\n",
    " \n",
    "---\n",
    "### Exercise 3-6\n",
    "Write a function called `distance` that accepts 2 numbers called `x` and `y` as arguments and computes the euclidean distance of the coordinate $(x,y)$ from the origin $(0,0)$ $$d(x, y) = \\sqrt{x^2 + y^2}$$"
   ]
  },
  {
   "cell_type": "code",
   "execution_count": 2,
   "metadata": {},
   "outputs": [],
   "source": [
    "from math import sqrt\n",
    "\n",
    "# Write your function here\n",
    "def distance(x, y):\n",
    "    \"Distance between coordinate (x,y) and origin.\"\n",
    "    return sqrt(x**2 + y**2)\n",
    "\n",
    "assert 5 == distance(3, 4), \"The coordinate (3,4) is 5 units from the origin, not \" + str(distance(3,4)) + \"units.\"\n",
    "assert 13 == distance(5, 12), \"The coordinate (4,12) is 13 units from the origin, not \" + str(distance(5,12)) + \" units.\"\n",
    "assert 17 == distance(8, 15), \"The coordinate (8,15) is 17 units from the origin, not \" + str(distance(8,15)) + \" units.\"\n",
    "assert distance.__doc__ is not None, \"You should write a docstring to help other use your function.\""
   ]
  },
  {
   "cell_type": "markdown",
   "metadata": {},
   "source": [
    "[&#9166;](#Solutions)\n",
    "\n",
    "---\n",
    "### Exercise 3-7\n",
    "Can you compose the `len()` and `my_square()` functions to compute the square of the length of the string `\"humpty dumpty\"`?"
   ]
  },
  {
   "cell_type": "code",
   "execution_count": 6,
   "metadata": {},
   "outputs": [],
   "source": [
    "the_string = \"humpty dumpty\"\n",
    "sq_len = my_square(len(the_string))\n",
    "\n",
    "assert 169 == sq_len"
   ]
  },
  {
   "cell_type": "markdown",
   "metadata": {},
   "source": [
    "[&#9166;](#Solutions)\n",
    "\n",
    "---\n",
    "### Exercise 4-1\n",
    "\n",
    "Two functions are defined below that operate on text. The first, called `first()`, gets the first chatacter in the string. The second, called `rest()` drops the first character in the string and returns the \"rest\". Use `compose()` with these 2 functions (`first()` and `rest()`) to write a function to get the second character in any string."
   ]
  },
  {
   "cell_type": "code",
   "execution_count": 7,
   "metadata": {},
   "outputs": [],
   "source": [
    "def fizzbuzz1(number):\n",
    "    if number % 3 == 0 and number % 5 == 0:\n",
    "        return \"Fizz Buzz\"\n",
    "    if number % 3 == 0:\n",
    "        return \"Fizz\"\n",
    "    if number % 5 == 0:\n",
    "        return \"Buzz\"\n",
    "    \n",
    "assert \"Fizz\" == fizzbuzz1(33), \"Expected: \\\"Fizz\\\", got: \" + str(fizzbuzz1(33))\n",
    "assert \"Fizz Buzz\" == fizzbuzz1(30), \"Expected: \\\"Fizz Buzz\\\", got: \" + str(fizzbuzz1(30))\n",
    "assert \"Buzz\" == fizzbuzz1(20), \"Expected: \\\"Buzz\\\", got: \" + str(fizzbuzz1(20))"
   ]
  },
  {
   "cell_type": "markdown",
   "metadata": {},
   "source": [
    "[&#9166;](#Solutions)\n",
    "\n",
    "---\n",
    "### Exercise 4-2\n",
    "\n",
    "Can you spot (and fix!) the bug caused by incorrect grouping of code in the following snippet?\n",
    "<details>\n",
    "    <summary>What should the <code>clamp_0_10()</code> function do?</summary>\n",
    "    <ul>\n",
    "        <li>if <code>value</code> is lower than 0 (e.g. -2 or -7), it will be overwritten by the value 0</li>\n",
    "        <li>if <code>value</code> is higher than 10 (e.g. 132 or 17), it will be overwritten by the value 10.</li>\n",
    "        <li>otherwise, if <code>value</code> is between 0 and 10 it will be returned unchanged.\n",
    "    </ul>\n",
    "</details>"
   ]
  },
  {
   "cell_type": "code",
   "execution_count": 8,
   "metadata": {},
   "outputs": [
    {
     "name": "stdout",
     "output_type": "stream",
     "text": [
      "-5 is too small\n",
      "11 is too big\n"
     ]
    }
   ],
   "source": [
    "def clamp_0_10(value):\n",
    "    \"Bound value between 0 and 10 inclusive\"\n",
    "    minimum_value = 0\n",
    "    maximum_value = 10\n",
    "    \n",
    "    if value < minimum_value:\n",
    "        print(value, \"is too small\")\n",
    "        value = minimum_value\n",
    "    \n",
    "    if value > maximum_value:\n",
    "        print(value, \"is too big\")\n",
    "        value = maximum_value\n",
    "    return value\n",
    "\n",
    "assert 0 == clamp_0_10(-5), \"Input: -5, expected:  0, got: \" + str(clamp_0_10(-5))\n",
    "assert 0 == clamp_0_10(0), \"Input:  0, expected:  0, got: \" + str(clamp_0_10(0))\n",
    "assert 5 == clamp_0_10(5), \"Input:  5, expected:  5, got: \" + str(clamp_0_10(5))\n",
    "assert 10 == clamp_0_10(10), \"Input: 10, expected: 10, got: \" + str(clamp_0_10(10))\n",
    "assert 10 == clamp_0_10(11), \"Input: 11, expected: 10, got: \" + str(clamp_0_10(11))"
   ]
  },
  {
   "cell_type": "markdown",
   "metadata": {},
   "source": [
    "[&#9166;](#Solutions)\n",
    "\n",
    "---\n",
    "### Exercise 4-3\n",
    "\n",
    "Write a program to compute division that checks for division by zero. Complete your code in the template provided below by replacing the `_` characters."
   ]
  },
  {
   "cell_type": "code",
   "execution_count": 9,
   "metadata": {},
   "outputs": [],
   "source": [
    "def division(x, y):\n",
    "    if y == 0:\n",
    "        return \"You cannot divide by zero\"\n",
    "    \n",
    "    return x / y\n",
    "\n",
    "assert \"You cannot divide by zero\" == division(1, 0), \"Expected: \\\"You cannot divide by zero\\\", got: \" + str(division(1, 0))\n",
    "assert 1.0 == division(1, 1), \"Expected: 1.0, got: \" + str(division(1, 1))"
   ]
  },
  {
   "cell_type": "markdown",
   "metadata": {},
   "source": [
    "[&#9166;](#Solutions)\n",
    "\n",
    "---\n",
    "### Exercise 4-4\n",
    "\n",
    "Write a function that returns \"odd\" when its input is odd, and \"even\" otherwise. Also add you own test to ensure your answer is correct."
   ]
  },
  {
   "cell_type": "code",
   "execution_count": 6,
   "metadata": {},
   "outputs": [],
   "source": [
    "def even_or_odd(num):\n",
    "    if (num % 2) != 0:\n",
    "        return \"odd\"\n",
    "\n",
    "    return \"even\"\n",
    "\n",
    "assert even_or_odd(1) == \"odd\"\n",
    "assert even_or_odd(2) == \"even\""
   ]
  },
  {
   "cell_type": "markdown",
   "metadata": {},
   "source": [
    "[&#9166;](#Solutions)\n",
    "\n",
    "---\n",
    "### Exercise 4-5\n",
    "\n",
    "Extend the fizzbuzz function you wrote earlier by returning the input number if it doesn't match any of the conditions.\n",
    "\n",
    "A reminder, if `number`\n",
    "* is a multiple of `3`, return `\"Fizz\"`\n",
    "* is a miltiple of `5`, return `\"Buzz\"`\n",
    "* is a multiple of `3` **and** `5`, return `\"Fizz Buzz\"`\n",
    "* otherwise, return number\n",
    "\n",
    "Use the template provided below, replace the `_` characters."
   ]
  },
  {
   "cell_type": "code",
   "execution_count": 10,
   "metadata": {},
   "outputs": [],
   "source": [
    "def fizzbuzz2(number):\n",
    "    if number % 3 == 0 and number % 5 == 0:\n",
    "        return \"Fizz Buzz\"\n",
    "    elif number % 3 == 0:\n",
    "        return \"Fizz\"\n",
    "    elif number % 5 == 0:\n",
    "        return \"Buzz\"\n",
    "    else:\n",
    "        return number\n",
    "    \n",
    "assert \"Fizz\" == fizzbuzz2(33), \"Expected: \\\"Fizz\\\", got: \" + str(fizzbuzz2(33))\n",
    "assert \"Fizz Buzz\" == fizzbuzz2(30), \"Expected: \\\"Fizz Buzz\\\", got: \" + str(fizzbuzz2(30))\n",
    "assert \"Buzz\" == fizzbuzz2(20), \"Expected: \\\"Buzz\\\", got: \" + str(fizzbuzz2(20))\n",
    "assert 16 == fizzbuzz2(16), \"Expected: 16, got: \" + str(fizzbuzz2(16))"
   ]
  },
  {
   "cell_type": "markdown",
   "metadata": {},
   "source": [
    "[&#9166;](#Solutions)\n",
    "\n",
    "---\n",
    "\n",
    "### Exercise 5-1\n",
    "Write a function called `fizzbuzz3()` that returns a list containing the FizzBuzz game played up to 15."
   ]
  },
  {
   "cell_type": "code",
   "execution_count": 10,
   "metadata": {},
   "outputs": [
    {
     "data": {
      "text/plain": [
       "[1,\n",
       " 2,\n",
       " 'Fizz',\n",
       " 4,\n",
       " 'Buzz',\n",
       " 'Fizz',\n",
       " 7,\n",
       " 8,\n",
       " 'Fizz',\n",
       " 'Buzz',\n",
       " 11,\n",
       " 'Fizz',\n",
       " 13,\n",
       " 14,\n",
       " 'Fizz Buzz']"
      ]
     },
     "execution_count": 10,
     "metadata": {},
     "output_type": "execute_result"
    }
   ],
   "source": [
    "def fizzbuzz3():\n",
    "    \"Play the Fizz Buzz game up to 15.\"\n",
    "    return [1, 2, \"Fizz\", 4, \"Buzz\", \"Fizz\", 7, 8, \"Fizz\", \"Buzz\", 11, \"Fizz\", 13, 14, \"Fizz Buzz\"]\n",
    "\n",
    "fizzbuzz3()"
   ]
  },
  {
   "cell_type": "markdown",
   "metadata": {},
   "source": [
    "[&#9166;](#Solutions)\n",
    "\n",
    "---\n",
    "\n",
    "### Exercise 5-2\n",
    "Write a function that accepts a nested list as an argument and returns the original list with second element reversed. For example, given input `[[1, 2], [3, 4]]`, return `[[1, 2], [4, 3]]`."
   ]
  },
  {
   "cell_type": "code",
   "execution_count": 11,
   "metadata": {},
   "outputs": [],
   "source": [
    "def reverse_second(arg):\n",
    "    \"Reverse the second element of a nested list.\"\n",
    "    if len(arg) >= 2:\n",
    "        arg[1] = arg[1][::-1]\n",
    "        return arg\n",
    "    else:\n",
    "        return arg\n",
    "\n",
    "assert reverse_second([[1]]) == [[1]], \"Expected [[1]], got: \" + str(reverse_second([[1]]))\n",
    "assert reverse_second([[1], [2]]) == [[1], [2]], \"Expected [[1], [2]], got: \" + str(reverse_second([[1], [2]]))\n",
    "assert reverse_second([[1, 5], [10, 9, 8]]) == [[1, 5], [8, 9, 10]], \"Expected [[1, 5], [8, 9, 10]], got: \" + str(reverse_second([[1, 5], [10, 9, 8]]))\n",
    "assert reverse_second([1, ['h', 'e', 'l', 'l', 'o'], 2]) == [1, ['o', 'l', 'l', 'e', 'h'], 2], \"Expected [1, ['o', 'l', 'l', 'e', 'h'], 2], got: \" + str(reverse_second([1, ['h', 'e', 'l', 'l', 'o'], 2]))"
   ]
  },
  {
   "cell_type": "markdown",
   "metadata": {},
   "source": [
    "[&#9166;](#Solutions)\n",
    "\n",
    "---\n",
    "### Exercise 5-3\n",
    "Slicing presents a possible solution to playing the FizzBuzz game: slice starting at the 3$^{rd}$ element of a list with a `step` of 3, assign an appropriately sized list of `[\"Fizz\"]` strings. The same for 5. Write a function, called `fizzbuzz4()` that attempts to play the Fizz Buzz game in this way. The input will be a list containing the counted numbers, you should use slicing to replace the appropriate numbers with `\"Fizz\"` or `\"Buzz\"`."
   ]
  },
  {
   "cell_type": "code",
   "execution_count": 12,
   "metadata": {},
   "outputs": [
    {
     "data": {
      "text/plain": [
       "[1,\n",
       " 2,\n",
       " 'Fizz',\n",
       " 4,\n",
       " 'Buzz',\n",
       " 'Fizz',\n",
       " 7,\n",
       " 8,\n",
       " 'Fizz',\n",
       " 'Buzz',\n",
       " 11,\n",
       " 'Fizz',\n",
       " 13,\n",
       " 14,\n",
       " 'Buzz']"
      ]
     },
     "execution_count": 12,
     "metadata": {},
     "output_type": "execute_result"
    }
   ],
   "source": [
    "def fizzbuzz4(counted):\n",
    "    counted[2::3] = [\"Fizz\"] * (len(counted) // 3)\n",
    "    counted[4::5] = [\"Buzz\"] * (len(counted) // 5)\n",
    "    return counted\n",
    "\n",
    "fizzbuzz4([1, 2, 3, 4, 5, 6, 7, 8, 9, 10, 11, 12, 13, 14, 15])"
   ]
  },
  {
   "cell_type": "markdown",
   "metadata": {},
   "source": [
    "Does `fizzbuzz4()` correctly play the Fizz Buzz game? What is wrong with this solution?\n",
    "\n",
    "No. The case where a number is a multiple of `3` **and** of `5` is not handled correctly."
   ]
  },
  {
   "cell_type": "markdown",
   "metadata": {
    "tags": []
   },
   "source": [
    "[&#9166;](#Solutions)\n",
    "\n",
    "---\n",
    "### Exercise 5-4\n",
    "Write a function that accepts a list of scores (highest is better) and return the score of third place (bronze medal)."
   ]
  },
  {
   "cell_type": "code",
   "execution_count": 12,
   "metadata": {},
   "outputs": [],
   "source": [
    "def bronze_medal(scores):\n",
    "    return sorted(scores, reverse=True)[2]\n",
    "\n",
    "assert bronze_medal([54,56,2,1,5223,6,23,57,3,7,3344]) == 57, \"Expected: 57, got: \" + str(bronze_medal([54,56,2,1,5223,6,23,57,3,7,3344]))"
   ]
  },
  {
   "cell_type": "markdown",
   "metadata": {},
   "source": [
    "[&#9166;](#Solutions)\n",
    "\n",
    "---\n",
    "### Exercise 5-5\n",
    "You're given a list containing some data. Each element of the list is another list containing 2 values: the name of a country, and the average number of citations per citable document produced within that country. Write a function that takes this list as an argument and returns the name of the country with the second highest number of average citations.\n",
    "    <!-- Data are from: https://www.scimagojr.com/countryrank.php?order=cd&ord=desc -->"
   ]
  },
  {
   "cell_type": "code",
   "execution_count": 21,
   "metadata": {},
   "outputs": [
    {
     "data": {
      "text/plain": [
       "'Federated States of Micronesia'"
      ]
     },
     "execution_count": 21,
     "metadata": {},
     "output_type": "execute_result"
    }
   ],
   "source": [
    "data = [['Netherlands Antilles', 38.46],\n",
    "        ['Tokelau', 51.9],\n",
    "        ['Seychelles', 33.56],\n",
    "        ['Anguilla', 133.98],\n",
    "        ['Saint Lucia', 37.31],\n",
    "        ['Panama', 37.87],\n",
    "        ['Bermuda', 43.33],\n",
    "        ['Federated States of Micronesia', 85.49],\n",
    "        ['Gambia', 42.14],\n",
    "        ['Belize', 41.59]]\n",
    "from operator import itemgetter\n",
    "\n",
    "def second_highest_citations(countries):\n",
    "    return sorted(countries, key=itemgetter(1), reverse=True)[1][0]\n",
    "\n",
    "second_highest_citations(data)"
   ]
  },
  {
   "cell_type": "markdown",
   "metadata": {},
   "source": [
    "[&#9166;](#Solutions)\n",
    "\n",
    "---\n",
    "### Exercise 5-6\n",
    "\n",
    "Write a function that takes 2 parameters: a string to truncate (`text`), and a maximum length (`max_len`) that checks if `text` is longer than `max_len`, if it is, the string should be\n",
    "truncated and display ellipses (\"...\") as the last 3 characters. The truncated string + the ellipses should\n",
    "fit within `max_len`."
   ]
  },
  {
   "cell_type": "code",
   "execution_count": 13,
   "metadata": {},
   "outputs": [],
   "source": [
    "def truncate(text, max_len):\n",
    "    if len(text) > max_len:\n",
    "        return text[:max_len-3] + \"...\"\n",
    "\n",
    "    return text\n",
    "\n",
    "assert truncate(\"hello world\", 10) == \"hello w...\", \"Expected: 'hello w...', got: \" + str(truncate('hello world', 10))\n",
    "assert truncate('python', 6) == 'python', \"Expected: 'python', got: \" + str(truncate('python', 6))"
   ]
  },
  {
   "cell_type": "markdown",
   "metadata": {},
   "source": [
    "[&#9166;](#Solutions)\n",
    "\n",
    "---\n",
    "### Exercise 6-1\n",
    "Write a function to play the fizzbuzz game up to `15`. You function should accept no arguments and return a list starting at `1` that tracks the progress of a game of Fizz Buzz.\n",
    "\n",
    "That is, your function should use a loop to produce this list: `[1, 2, 'Fizz', 4, 'Buzz', 'Fizz', 7, 8, 'Fizz', 'Buzz', 11, 'Fizz', 13, 14, 'Fizz Buzz']`"
   ]
  },
  {
   "cell_type": "code",
   "execution_count": 50,
   "metadata": {},
   "outputs": [
    {
     "data": {
      "text/plain": [
       "[1,\n",
       " 2,\n",
       " 'Fizz',\n",
       " 4,\n",
       " 'Buzz',\n",
       " 'Fizz',\n",
       " 7,\n",
       " 8,\n",
       " 'Fizz',\n",
       " 'Buzz',\n",
       " 11,\n",
       " 'Fizz',\n",
       " 13,\n",
       " 14,\n",
       " 'Fizz Buzz']"
      ]
     },
     "execution_count": 50,
     "metadata": {},
     "output_type": "execute_result"
    }
   ],
   "source": [
    "def fizzbuzz5():\n",
    "    game = []\n",
    "    for number in [1, 2, 3, 4, 5, 6, 7, 8, 9, 10, 11, 12, 13, 14, 15]:\n",
    "        if number % 5 == 0 and number % 3 == 0:\n",
    "            game = game + [\"Fizz Buzz\"]\n",
    "        elif number % 5 == 0:\n",
    "            game = game + [\"Buzz\"]\n",
    "        elif number % 3 == 0:\n",
    "            game = game + [\"Fizz\"]\n",
    "        else:\n",
    "            game = game + [number]\n",
    "    \n",
    "    return game\n",
    "\n",
    "assert fizzbuzz5() == [1, 2, 'Fizz', 4, 'Buzz', 'Fizz', 7, 8, 'Fizz', 'Buzz', 11, 'Fizz', 13, 14, 'Fizz Buzz'], \"Output is not correct :(\"\n",
    "fizzbuzz5()"
   ]
  },
  {
   "cell_type": "markdown",
   "metadata": {
    "tags": []
   },
   "source": [
    "[&#9166;](#Solutions)\n",
    "\n",
    "---\n",
    "### Exercise 6-2\n",
    "Finally, we have all of the tools we need to write a concise program to play Fizz Buzz. Write a function called `fizzbuzz6` that takes an integer argument which is the number to count up to and returns a list starting at 1 tracking the progress of playing the Fizz Buzz game."
   ]
  },
  {
   "cell_type": "code",
   "execution_count": 55,
   "metadata": {},
   "outputs": [
    {
     "data": {
      "text/plain": [
       "[1,\n",
       " 2,\n",
       " 'Fizz',\n",
       " 4,\n",
       " 'Buzz',\n",
       " 'Fizz',\n",
       " 7,\n",
       " 8,\n",
       " 'Fizz',\n",
       " 'Buzz',\n",
       " 11,\n",
       " 'Fizz',\n",
       " 13,\n",
       " 14,\n",
       " 'Fizz Buzz',\n",
       " 16,\n",
       " 17,\n",
       " 'Fizz',\n",
       " 19,\n",
       " 'Buzz',\n",
       " 'Fizz',\n",
       " 22,\n",
       " 23,\n",
       " 'Fizz',\n",
       " 'Buzz',\n",
       " 26,\n",
       " 'Fizz',\n",
       " 28,\n",
       " 29,\n",
       " 'Fizz Buzz']"
      ]
     },
     "execution_count": 55,
     "metadata": {},
     "output_type": "execute_result"
    }
   ],
   "source": [
    "def fizzbuzz6(end):\n",
    "    \"Play Fizz Buzz\"\n",
    "    game = []\n",
    "    for count in range(1, end+1):\n",
    "        if count % 5 == 0 and count % 3 == 0:\n",
    "            game = game + [\"Fizz Buzz\"]\n",
    "        elif count % 5 == 0:\n",
    "            game = game + [\"Buzz\"]\n",
    "        elif count % 3 == 0:\n",
    "            game = game + [\"Fizz\"]\n",
    "        else:\n",
    "            game = game + [count]\n",
    "\n",
    "    return game\n",
    "\n",
    "assert fizzbuzz6(0) == []\n",
    "assert fizzbuzz6(2) == [1, 2]\n",
    "assert fizzbuzz6(5) == [1, 2, 'Fizz', 4, 'Buzz']\n",
    "assert fizzbuzz6(15) == [1, 2, 'Fizz', 4, 'Buzz', 'Fizz', 7, 8, 'Fizz', 'Buzz', 11, 'Fizz', 13, 14, 'Fizz Buzz']\n",
    "\n",
    "fizzbuzz6(30)"
   ]
  },
  {
   "cell_type": "markdown",
   "metadata": {},
   "source": [
    "[&#9166;](#Solutions)\n",
    "\n",
    "---\n",
    "### Exercise 6-3\n",
    "Write a function that computes the factorial of its argument."
   ]
  },
  {
   "cell_type": "code",
   "execution_count": 15,
   "metadata": {},
   "outputs": [],
   "source": [
    "def myfactorial(number):\n",
    "    factorial = 1\n",
    "    for i in range(1, number + 1):\n",
    "        factorial = factorial * i\n",
    "    return factorial\n",
    "\n",
    "assert myfactorial(0) == 1, \"Expected 1, got: \" + str(myfactorial(0))\n",
    "assert myfactorial(1) == 1, \"Expected 1, got: \" + str(myfactorial(1))\n",
    "assert myfactorial(2) == 2, \"Expected 2, got: \" + str(myfactorial(2))\n",
    "assert myfactorial(5) == 120, \"Expected 120, got: \" + str(myfactorial(5))"
   ]
  },
  {
   "cell_type": "markdown",
   "metadata": {},
   "source": [
    "[&#9166;](#Solutions)\n",
    "\n",
    "---\n",
    "### Exercise 6-4: Summing numbers\n",
    "Below is the definition of a function to sum numbers from in the argument (a list). You have 2 tasks:\n",
    "\n",
    "1. Identify and fix the bug(s) using techniques you have explored so far.\n",
    "1. Find the Python standard library function that does the same thing (Hint: you can look through [this list](https://docs.python.org/3/library/functions.html))."
   ]
  },
  {
   "cell_type": "code",
   "execution_count": 2,
   "metadata": {},
   "outputs": [],
   "source": [
    "def mysum(data):\n",
    "    \"Sum all of the numbers in the input list (called data)\"\n",
    "    total = 0\n",
    "    for number in data:\n",
    "        total = total + number\n",
    "    \n",
    "    return total\n",
    "\n",
    "assert mysum(range(1, 2)) == sum(range(1, 2))\n",
    "assert mysum(range(1, 11)) == sum(range(1, 11))"
   ]
  },
  {
   "cell_type": "code",
   "execution_count": 3,
   "metadata": {},
   "outputs": [],
   "source": [
    "def mysum(data):\n",
    "    return sum(data)"
   ]
  },
  {
   "cell_type": "markdown",
   "metadata": {},
   "source": [
    "[&#9166;](#Solutions)\n",
    "\n",
    "---\n",
    "### Exercise 6-5\n",
    "Once again, below is the deefinition of a function that takes a list of strings and joins them into a single string with comma seperators.\n",
    "\n",
    "Here are 2 examples of the expected output:\n",
    "```python\n",
    ">>> myjoin([\"hello\", \"world\"])\n",
    "\"hello,world\"\n",
    "\n",
    ">>> myjoin([\"sample1\", \"0.5\"])\n",
    "\"sample1,0.5\"\n",
    "```\n",
    "\n",
    "Your task is to identify and fix the bug(s) using techniques you have explored so far. The Python function to do this looks like, `','.join(strings)`."
   ]
  },
  {
   "cell_type": "code",
   "execution_count": 68,
   "metadata": {},
   "outputs": [],
   "source": [
    "def myjoin(strings):\n",
    "    joined = \"\"\n",
    "    for string in strings[:-1]:\n",
    "        joined = joined + string + \",\"\n",
    "    \n",
    "    return joined + strings[-1]\n",
    "\n",
    "assert myjoin([\"hello\", \"world\"]) == \"hello,world\"\n",
    "assert myjoin([\"sample1\", \"0.5\"]) == \"sample1,0.5\""
   ]
  },
  {
   "cell_type": "code",
   "execution_count": null,
   "metadata": {},
   "outputs": [],
   "source": [
    "','.join(strings)"
   ]
  },
  {
   "cell_type": "markdown",
   "metadata": {},
   "source": [
    "[&#9166;](#Solutions)\n",
    "\n",
    "---\n",
    "### Exercise 6-6\n",
    "The Hamming distance between two strings of equal length is the number of positions at which the corresponding characters are different. In a more general context, the Hamming distance is one of several string metrics for measuring the _distance_ between two sequences. \n",
    "\n",
    "For example, the Hamming distance between:\n",
    "\n",
    "\"karolin\" and \"kathrin\" is 3.\n",
    "\n",
    "Write a function called \"hamming_distance\" which accepts two strings and returns the calculated hamming distance. If the lengths of the two strings is unequal, return the value `None`. "
   ]
  },
  {
   "cell_type": "code",
   "execution_count": 1,
   "metadata": {},
   "outputs": [],
   "source": [
    "def hamming_distance(string1, string2): \n",
    "    \"\"\"Return the Hamming distance between equal-length sequences.\"\"\"\n",
    "    # Start with a distance of zero, and count up\n",
    "    distance = 0\n",
    "    for char in zip(string1,string2):\n",
    "        if char[0] != char[1]:\n",
    "            distance = distance + 1\n",
    "    return distance\n",
    "\n",
    "seq1 = \"GATCATAGA\"\n",
    "seq2 = \"CATCATACA\"\n",
    "assert hamming_distance(seq1,seq2) == 2, \"Expected 2, got: \" + str(hamming_distance(seq1,seq2))"
   ]
  },
  {
   "cell_type": "markdown",
   "metadata": {},
   "source": [
    "[&#9166;](#Solutions)\n",
    "\n",
    "---\n",
    "### Exercise 6-7\n",
    "You're given a list containing some names and a corresponding list containing their rank by popularity.\n",
    "Write a function that takes a name as its argument, the behaviour of the function depends on 3 conditions:\n",
    "* If the name is in the `names` list and in the top 20 most popular names: Return a 2-tuple containing the name and rank (E.g. if the argument is \"Elise\", your function should return `(\"Elise\", 14)`)\n",
    "* If the name is in the `names` list but not in the top 20 most popular names: Return the name reversed (E.g. if the argument is \"Alexander\", your function should return \"rednaxelA\")\n",
    "* Otherwise, return the name followed by the string `\" is great at Python!\"` (E.g. if the argument is \"Tatiana\", your function should return \"Tatiana is great at Python!\")\n",
    "\n",
    "    <!-- Data from: https://www.behindthename.com/top/lists/belgium -->"
   ]
  },
  {
   "cell_type": "code",
   "execution_count": 3,
   "metadata": {},
   "outputs": [],
   "source": [
    "names = [\"Marie\", \"Lucas\", \"Viktor\", \"Elise\", \"Lotte\", \"Hugo\", \"Emma\", \"Elena\", \"Julia\", \"Maxime\", \"Alexander\", \"Tuur\", \"Nina\", \"James\", \"Bruna\"]\n",
    "ranks = [7,       6,       65,       14,      46,      15,     1,      7,       26,      37,       36,          73,     25,     87,      1228]\n",
    "\n",
    "def baby_name(name):\n",
    "    if name not in names:\n",
    "        return name + \" is great at Python!\"\n",
    "    \n",
    "    for name_and_rank in zip(names, ranks):\n",
    "        baby = name_and_rank[0]\n",
    "        rank = name_and_rank[1]\n",
    "        if baby == name:\n",
    "            if rank <= 20:\n",
    "                return (name, rank)\n",
    "            else:\n",
    "                return name[::-1]\n",
    "\n",
    "assert baby_name(\"Elise\") == ('Elise', 14), \"Expected ('Elise', 14), got: \" + str(baby_name('Elise'))\n",
    "assert baby_name(\"Alexander\") == 'rednaxelA', \" Expected 'rednaxelA', got: \" + str(baby_name('Alexander'))\n",
    "assert baby_name(\"Tatiana\") == \"Tatiana is great at Python!\", \"Expected 'Tatiana is great at Python!', got: \" + str(baby_name('Tatiana'))\n",
    "assert baby_name(\"Elena\") == ('Elena', 7), \"Expected ('Elena', 7), got: \" + str(baby_name('Elena'))"
   ]
  },
  {
   "cell_type": "markdown",
   "metadata": {},
   "source": [
    "[&#9166;](#Solutions)\n",
    "\n",
    "---\n",
    "### Exercise 7-1\n",
    "Construct a dictionary containing the keys, \"BEL\", \"RUS', \"AUS\", and \"GLO\" and decimal numbers for values (You can pick any number you like).\n",
    "\n",
    "**This is one of many valid solutions**"
   ]
  },
  {
   "cell_type": "code",
   "execution_count": 71,
   "metadata": {},
   "outputs": [
    {
     "data": {
      "text/plain": [
       "{'BEL': 16.2, 'RUS': -9.1, 'AUS': 37.8, 'GLO': 22.4}"
      ]
     },
     "execution_count": 71,
     "metadata": {},
     "output_type": "execute_result"
    }
   ],
   "source": [
    "{\n",
    "    \"BEL\": 16.2,\n",
    "    \"RUS\": -9.1,\n",
    "    \"AUS\": 37.8,\n",
    "    \"GLO\": 22.4\n",
    "}"
   ]
  },
  {
   "cell_type": "markdown",
   "metadata": {},
   "source": [
    "[&#9166;](#Solutions)\n",
    "\n",
    "---\n",
    "### Exercise 7-2\n",
    "\n",
    "Write a function that takes a single letter amino acid code as an\n",
    "argument and returns a three letter code. If the argument is not a valid\n",
    "single letter code then you should return the string `\"Unknown\"`. **You\n",
    "should use the `three_letter_codes` dictionary we defined earlier\n",
    "without modifying it.**"
   ]
  },
  {
   "cell_type": "code",
   "execution_count": null,
   "metadata": {},
   "outputs": [],
   "source": [
    "def lookup_three_letter_code(code: str) -> str:\n",
    "    if code in three_letter_codes:\n",
    "        return three_letter_codes[code]\n",
    "    \n",
    "    return \"Unknown\"\n",
    "\n",
    "assert \"Ala\" == lookup_three_letter_code(\"A\"), \"Expected 'Ala', got: \" + str(lookup_three_letter_code(\"A\"))\n",
    "assert \"Unknown\" == lookup_three_letter_code(\"X\"), \"Expected 'Unknown', got: \" + str(lookup_three_letter_code(\"X\"))\n",
    "assert \"Unknown\" == lookup_three_letter_code(\"Belgium\"), \"Expected 'Unknown', got: \" + str(lookup_three_letter_code(\"Belgium\"))\n",
    "assert \"Unknown\" == lookup_three_letter_code(\"m\"), \"Expected 'Unknown', got: \" + str(lookup_three_letter_code(\"m\"))\n",
    "assert \"Met\" == lookup_three_letter_code(\"M\"), \"Expected 'Met', got: \" + str(lookup_three_letter_code(\"M\"))"
   ]
  },
  {
   "cell_type": "markdown",
   "metadata": {},
   "source": [
    "[&#9166;](#Solutions)\n",
    "\n",
    "---\n",
    "### Exercise 7-3\n",
    "Write a function that takes a sequence of amino-acids represented by their single letter code. Return a list of three-letter-codes. For example, given the input: `\"EIKGGQ\"` return `['Glu', 'Ile', 'Lys', 'Gly', 'Gly', 'Gln']`"
   ]
  },
  {
   "cell_type": "code",
   "execution_count": 18,
   "metadata": {},
   "outputs": [],
   "source": [
    "# You should already have this dictionary defined\n",
    "three_letter_codes = {\n",
    "     'A': 'Ala',\n",
    "     'C': 'Cys',\n",
    "     'D': 'Asp',\n",
    "     'E': 'Glu',\n",
    "     'F': 'Phe',\n",
    "     'G': 'Gly',\n",
    "     'H': 'His',\n",
    "     'I': 'Ile',\n",
    "     'K': 'Lys',\n",
    "     'L': 'Leu',\n",
    "     'M': 'Met',\n",
    "     'N': 'Asn',\n",
    "     'P': 'Pro',\n",
    "     'Q': 'Gln',\n",
    "     'R': 'Arg',\n",
    "     'S': 'Ser',\n",
    "     'T': 'Thr',\n",
    "     'V': 'Val',\n",
    "     'W': 'Trp',\n",
    "     'Y': 'Tyr'}\n",
    "\n",
    "def one_to_three_letter_code(sequence):\n",
    "    result = []\n",
    "    for aa in sequence:\n",
    "        result = result + [three_letter_codes[aa]]\n",
    "    return result\n",
    "\n",
    "assert one_to_three_letter_code(\"EIKGGQ\") == ['Glu', 'Ile', 'Lys', 'Gly', 'Gly', 'Gln'], \"Did not expect \" + str(one_to_three_letter_code('EIKGGQ'))\n",
    "assert one_to_three_letter_code(\"PRAPY\") == ['Pro', 'Arg', 'Ala', 'Pro', 'Tyr'], \"Did not expect \" + str(one_to_three_letter_code('PRAPY'))"
   ]
  },
  {
   "cell_type": "markdown",
   "metadata": {},
   "source": [
    "[&#9166;](#Solutions)\n",
    "\n",
    "---\n",
    "### Exercise 7-4\n",
    "Write a function that accepts an amino-acid sequence and returns a dictionary keyed by the amino-acid single-letter-code and the value is the frequency of observation of that amino-acid in the sequence."
   ]
  },
  {
   "cell_type": "code",
   "execution_count": 2,
   "metadata": {},
   "outputs": [],
   "source": [
    "def frequencies1(sequence):\n",
    "    counts = {}\n",
    "    for residue in sequence:\n",
    "        if residue in counts:\n",
    "            counts[residue] = counts[residue] + 1\n",
    "        else:\n",
    "            counts[residue] = 1\n",
    "\n",
    "    return counts\n",
    "\n",
    "\n",
    "assert frequencies1(\"AACD\") == {\"A\": 2, \"C\": 1, \"D\": 1}, \"Unexpected \" + str(frequencies1('AACD'))\n",
    "\n",
    "sequence = \"SFTMHGTPVVNQVKVLTESNRISHHKILAIVGTAESNSEHPLGTAITKYCKQELDTETLGTCIDFQVVPGCGISCKVTNIEGLLHKNNWNIEDNNIKNASLVQIDASNEQSSTSSSMIIDAQISNALNAQQYKVLIGNREWMIRNGLVINNDVNDFMTEHERKGRTAVLVAVDDELCGLIAIADT\"\n",
    "expected = {'A': 12, 'C': 5, 'D': 10, 'E': 12, 'F': 3, 'G': 11, 'H': 6, 'I': 18, 'K': 9, 'L': 14, 'M': 4, 'N': 18, 'P': 3, 'Q': 8, 'R': 5, 'S': 14, 'T': 14, 'V': 15, 'W': 2, 'Y': 2}\n",
    "assert frequencies1(sequence) == expected, \"Unexpected \" + str(frequencies1(sequence))"
   ]
  },
  {
   "cell_type": "code",
   "execution_count": 3,
   "metadata": {},
   "outputs": [],
   "source": [
    "# A shorter solution using the collections library\n",
    "from collections import Counter\n",
    "\n",
    "def frequencies2(sequence):\n",
    "    return dict(Counter(sequence))\n",
    "\n",
    "assert frequencies2(\"AACD\") == {\"A\": 2, \"C\": 1, \"D\": 1}, \"Unexpected \" + str(frequencies2('AACD'))\n",
    "assert frequencies2(sequence) == expected, \"Unexpected \" + str(frequencies2(sequence))"
   ]
  },
  {
   "cell_type": "code",
   "execution_count": 4,
   "metadata": {},
   "outputs": [],
   "source": [
    "# Another short solution using a default dictionary\n",
    "from collections import defaultdict\n",
    "\n",
    "def frequencies3(sequence):\n",
    "    counts = defaultdict(int) # This is a trick: int() == 0\n",
    "    for residue in sequence:\n",
    "        counts[residue] = counts[residue] + 1\n",
    "    \n",
    "    return counts\n",
    "\n",
    "assert frequencies3(\"AACD\") == {\"A\": 2, \"C\": 1, \"D\": 1}, \"Unexpected \" + str(frequencies3('AACD'))\n",
    "assert frequencies3(sequence) == expected, \"Unexpected \" + str(frequencies3(sequence))"
   ]
  },
  {
   "cell_type": "markdown",
   "metadata": {
    "tags": []
   },
   "source": [
    "[&#9166;](#Solutions)\n",
    "\n",
    "---\n",
    "### Exercise 7-5\n",
    "Write a function that accepts a list of observations (See the dictionary you created in Exercise 7-1) and returns a dictionary with the same structure but the values are the averages of the input. For example, consider these input observations:\n",
    "\n",
    "```python\n",
    "[\n",
    "    {\"BEL\": 5.7, \"RUS\": -12.8, \"AUS\": 42.6, \"GLO\": 22.1},\n",
    "    {\"BEL\": 10.2, \"RUS\": -2.0, \"AUS\": 37.8, \"GLO\": 21.2},\n",
    "    {\"BEL\": 14.7, \"RUS\": 1.3, \"AUS\": 18.3, \"GLO\": 23.6}\n",
    "]\n",
    "```\n",
    "\n",
    "The output of your function should be:\n",
    "```python\n",
    "{\"BEL\": 10.2, \"RUS\": -4.5, \"AUS\": 32.9, \"GLO\": 22.3}\n",
    "```"
   ]
  },
  {
   "cell_type": "code",
   "execution_count": 6,
   "metadata": {},
   "outputs": [],
   "source": [
    "def average_temperature(observations):\n",
    "    temp_sum = {}\n",
    "    for observation in observations:\n",
    "        for region in observation:\n",
    "            if region in temp_sum:\n",
    "                temp_sum[region] = temp_sum[region] + observation[region]\n",
    "            else:\n",
    "                temp_sum[region] = observation[region]\n",
    "                \n",
    "    averages = {}\n",
    "    for region in temp_sum:\n",
    "        averages[region] = temp_sum[region] / len(observations)\n",
    "        \n",
    "    return averages\n",
    "\n",
    "example = [\n",
    "    {\"BEL\": 5.7, \"RUS\": -12.8, \"AUS\": 42.6, \"GLO\": 22.1},\n",
    "    {\"BEL\": 10.2, \"RUS\": -2.0, \"AUS\": 37.8, \"GLO\": 21.2},\n",
    "    {\"BEL\": 14.7, \"RUS\": 1.3, \"AUS\": 18.3, \"GLO\": 23.6}\n",
    "]\n",
    "\n",
    "assert average_temperature([]) == {}, \"Expected {}, got: \" + str(average_temperature([]))\n",
    "assert average_temperature(example) == {\"BEL\": 10.2, \"RUS\": -4.5, \"AUS\": 32.9, \"GLO\": 22.3}, \"Got \" + str(average_temperature(example))"
   ]
  },
  {
   "cell_type": "markdown",
   "metadata": {},
   "source": [
    "[&#9166;](#Solutions)\n",
    "\n",
    "---\n",
    "### Exercise 8-1\n",
    "Write a function to _clean_ the data we read from the file. The input to your function will be a dictionary like this:\n",
    "\n",
    "```python\n",
    "{\n",
    "  'Time': '1901-05',\n",
    "  'Anomaly (deg C)': '-0.24934465',\n",
    "  'Lower confidence limit (2.5%)': '-0.44425672',\n",
    "  'Upper confidence limit (97.5%)': '-0.05443258'\n",
    "}\n",
    "```\n",
    "\n",
    "The output of your function should look like this:\n",
    "\n",
    "```python\n",
    "{\n",
    "  'Time': datetime.datetime(1901, 5, 1, 0, 0),\n",
    "  'Temperature': -0.24934465\n",
    "}\n",
    "```"
   ]
  },
  {
   "cell_type": "code",
   "execution_count": null,
   "metadata": {},
   "outputs": [],
   "source": [
    "def clean_global_data(reading):\n",
    "    \"Clean a global data dictionary\"\n",
    "    return {\n",
    "        'Time': datetime.strptime(reading['Time'], \"%Y-%m\"),\n",
    "        'Temperature': float(reading['Anomaly (deg C)'])\n",
    "    }\n",
    "\n",
    "assert clean_global_data({'Time': '1901-05','Anomaly (deg C)': '-0.24934465','Lower confidence limit (2.5%)': '-0.44425672','Upper confidence limit (97.5%)': '-0.05443258'}) == {'Time': datetime(1901, 5, 1, 0, 0),'Temperature': -0.24934465}"
   ]
  },
  {
   "cell_type": "markdown",
   "metadata": {},
   "source": [
    "[&#9166;](#Solutions)\n",
    "\n",
    "---\n",
    "\n",
    "### Exercise 8-2\n",
    "\n",
    "Write a function that reads the global temperature data file and returns a list of cleaned dictionaries."
   ]
  },
  {
   "cell_type": "code",
   "execution_count": null,
   "metadata": {},
   "outputs": [],
   "source": [
    "def global_data(filename):\n",
    "    \"Read global data into a list of cleaned dictionaries.\"\n",
    "    data = []\n",
    "    with open(filename) as global_data_manager:\n",
    "        reader = csv.DictReader(global_data_manager)\n",
    "    \n",
    "        for reading in reader:\n",
    "            data = data + [clean_global_data(reading)]\n",
    "            \n",
    "    return data\n",
    "\n",
    "assert global_data(\"data/HadCRUT.5.0.1.0.analysis.summary_series.global.monthly.csv\")[4] == {'Time': datetime(1901, 5, 1, 0, 0),'Temperature': -0.24934465}"
   ]
  },
  {
   "cell_type": "markdown",
   "metadata": {},
   "source": [
    "[&#9166;](#Solutions)\n",
    "\n",
    "---\n",
    "### Exercise 8-3\n",
    "Write a function that takes a list of dictionaries as an argument and saves them to a CSV formatted file."
   ]
  },
  {
   "cell_type": "code",
   "execution_count": null,
   "metadata": {},
   "outputs": [],
   "source": [
    "def save_data(data, filename):\n",
    "    \"Save cleaned climate data into a CSV file\"\n",
    "    with open(filename, mode=\"w\") as file_resource:\n",
    "        writer = csv.DictWriter(file_resource, fieldnames=[\"Time\", \"Temperature\"])\n",
    "        writer.writeheader()\n",
    "        writer.writerows(data)\n",
    "\n",
    "glo = global_data(\"data/HadCRUT.5.0.1.0.analysis.summary_series.global.monthly.csv\")\n",
    "save_data(glo, \"data/global_data.csv\")"
   ]
  },
  {
   "cell_type": "markdown",
   "metadata": {},
   "source": [
    "[&#9166;](#Solutions)\n",
    "\n",
    "---\n",
    "### Exercise 8-4\n",
    "Write a function to clean the country data we read from the web. The input to your function will be a dictionary like this:\n",
    "\n",
    "```python\n",
    "{\n",
    "  'Temperature - (Celsius)': '5.76',\n",
    "  'Year': '1901',\n",
    "  'Statistics': 'May Average',\n",
    "  'Country': 'Belgium',\n",
    "  'ISO3': 'BEL'\n",
    "}\n",
    "```\n",
    "The output of your function should look like this:\n",
    "\n",
    "```python\n",
    "{\n",
    "  'Time': datetime.datetime(1901, 5, 1, 0, 0),\n",
    "  'Temperature': 5.76\n",
    "}\n",
    "```"
   ]
  },
  {
   "cell_type": "code",
   "execution_count": null,
   "metadata": {},
   "outputs": [],
   "source": [
    "def clean_country_data(data):\n",
    "    \"Clean a country data dictionary\"\n",
    "    return {\n",
    "        'Time': datetime.strptime(data['Year'] + '-' + data['Statistics'][:3], \"%Y-%b\"),\n",
    "        'Temperature': float(data['Temperature - (Celsius)'])\n",
    "    }\n",
    "\n",
    "assert clean_country_data(bel_data[0]) == {'Time': datetime(1901, 1, 1, 0, 0), 'Temperature': 4.04}"
   ]
  },
  {
   "cell_type": "markdown",
   "metadata": {},
   "source": [
    "[&#9166;](#Solutions)\n",
    "\n",
    "---\n",
    "### Exercise 8-5: Load country data\n",
    "Write a function that accepts a URL and returns a list of dictionaries containing 'Time' and 'Temperature' keys. Use the second code cell to save the cleaned data using the `save_data()` function you wrote earlier."
   ]
  },
  {
   "cell_type": "code",
   "execution_count": null,
   "metadata": {},
   "outputs": [],
   "source": [
    "def country_data(url):\n",
    "    \"Read country data from a URL into a list of cleaned dictionaries.\"\n",
    "    data = []\n",
    "    with request.urlopen(url) as ctry_data_manager:\n",
    "        text_data = ctry_data_manager.read().decode().splitlines()\n",
    "        reader = csv.DictReader(text_data, skipinitialspace=True)\n",
    "    \n",
    "        for reading in reader:\n",
    "            data = data + [clean_country_data(reading)]\n",
    "    return data\n",
    "\n",
    "assert country_data(\"https://climateknowledgeportal.worldbank.org/api/data/get-download-data/historical/tas/1901-2020/BEL/Belgium\")[4] == {'Time': datetime(1901, 5, 1, 0, 0),'Temperature': 9.15}\n",
    "assert country_data(\"https://climateknowledgeportal.worldbank.org/api/data/get-download-data/historical/tas/1901-2020/RUS/Russia\")[4] == {'Time': datetime(1901, 5, 1, 0, 0),'Temperature': 2.01}\n",
    "assert country_data(\"https://climateknowledgeportal.worldbank.org/api/data/get-download-data/historical/tas/1901-2020/AUS/Australia\")[4] == {'Time': datetime(1901, 5, 1, 0, 0),'Temperature': 18.02}"
   ]
  },
  {
   "cell_type": "code",
   "execution_count": null,
   "metadata": {},
   "outputs": [],
   "source": [
    "save_data(country_data(\"https://climateknowledgeportal.worldbank.org/api/data/get-download-data/historical/tas/1901-2020/BEL/Belgium\"), \"data/bel_data.csv\")\n",
    "save_data(country_data(\"https://climateknowledgeportal.worldbank.org/api/data/get-download-data/historical/tas/1901-2020/RUS/Russia\"), \"data/rus_data.csv\")\n",
    "save_data(country_data(\"https://climateknowledgeportal.worldbank.org/api/data/get-download-data/historical/tas/1901-2020/AUS/Australia\"), \"data/aus_data.csv\")"
   ]
  },
  {
   "cell_type": "markdown",
   "metadata": {},
   "source": [
    "[&#9166;](#Solutions)\n",
    "\n",
    "---\n",
    "### Exercise 9-1\n",
    "Check that the code below is correct then generate a plot with the smoothed data overlaid on the unsmoothed data."
   ]
  },
  {
   "cell_type": "code",
   "execution_count": null,
   "metadata": {},
   "outputs": [],
   "source": [
    "def moving_average(data, window_size):\n",
    "    smoothed = []\n",
    "    for window_begin in range(len(data) - window_size + 1):\n",
    "        # list(range(window_begin, window_begin + window_size))]\n",
    "        temperatures = []\n",
    "        for index in range(window_begin, window_begin + window_size):\n",
    "            temperatures = temperatures + [data[index]['Temperature']]\n",
    "            \n",
    "        avg = sum(temperatures) / window_size\n",
    "        \n",
    "        smoothed = smoothes + [{\n",
    "            'Temperature': avg,\n",
    "            'Time': data[window_begin + (window_size // 2)]['Time']\n",
    "        }]\n",
    "    \n",
    "    return smoothed\n",
    "\n",
    "glo_average = moving_average(global_data, 24)"
   ]
  },
  {
   "cell_type": "code",
   "execution_count": null,
   "metadata": {},
   "outputs": [],
   "source": [
    "glo_avg_dates = []\n",
    "glo_avg_temperatures = []\n",
    "for reading in glo_average:\n",
    "    glo_avg_dates = glo_avg_dates + [reading['Time']]\n",
    "    glo_avg_temperatures = glo_avg_temperatures + [reading['Temperature']]"
   ]
  },
  {
   "cell_type": "code",
   "execution_count": null,
   "metadata": {},
   "outputs": [],
   "source": [
    "plt.figure()\n",
    "plt.plot(dates, temperatures, color='lightblue', linewidth=3)\n",
    "plt.plot(glo_avg_dates, glo_avg_temperatures, color='darkblue', linewidth=3)\n",
    "plt.title(\"Global climate anomaly relative to 1960-1991 reference\")\n",
    "plt.xlabel(\"Time\")\n",
    "plt.ylabel(\"Temperature anomaly\")"
   ]
  },
  {
   "cell_type": "markdown",
   "metadata": {},
   "source": [
    "![Global anomaly](../images/global_climate_plot.png)"
   ]
  },
  {
   "cell_type": "markdown",
   "metadata": {},
   "source": [
    "[&#9166;](#Solutions)\n",
    "\n",
    "---\n",
    "### Exercise 9-2\n",
    "Create plots like you did above for each country. Remember that functions can save you for repeating work."
   ]
  },
  {
   "cell_type": "code",
   "execution_count": null,
   "metadata": {},
   "outputs": [],
   "source": [
    "def extract_dates_and_temps(data):\n",
    "    dates = []\n",
    "    temperatures = []\n",
    "    for reading in data:\n",
    "        dates = dates + [reading['Time']]\n",
    "        temperatures = temperatures + [reading['Temperature']]\n",
    "    return (dates, temperatures)\n",
    "\n",
    "def make_plot(title, y_label, data):\n",
    "    (dates, temps) = extract_dates_and_temps(data)\n",
    "    \n",
    "    (avg_dates, avg_temps) = extract_dates_and_temps(moving_average(data, 24))\n",
    "    \n",
    "    plt.figure()\n",
    "    plt.plot(dates, temps, color='lightblue', linewidth=3)\n",
    "    plt.plot(avg_dates, avg_temps, color='darkblue', linewidth=3)\n",
    "    plt.title(title)\n",
    "    plt.xlabel(\"Time\")\n",
    "    plt.ylabel(y_label)\n",
    "    plt.show()"
   ]
  },
  {
   "cell_type": "code",
   "execution_count": null,
   "metadata": {
    "tags": []
   },
   "outputs": [],
   "source": [
    "make_plot(\"Global climate anomaly relative to 1960-1991 reference\", \"Temperature anomaly\", global_data)"
   ]
  },
  {
   "cell_type": "markdown",
   "metadata": {},
   "source": [
    "![Global anomaly](../images/global_climate_plot.png)"
   ]
  },
  {
   "cell_type": "code",
   "execution_count": null,
   "metadata": {},
   "outputs": [],
   "source": [
    "make_plot(\"Belgium temperature\", \"Temperature\", bel_data)"
   ]
  },
  {
   "cell_type": "markdown",
   "metadata": {},
   "source": [
    "![Belgium anomaly](../images/belgium_climate_plot.png)"
   ]
  },
  {
   "cell_type": "code",
   "execution_count": null,
   "metadata": {},
   "outputs": [],
   "source": [
    "make_plot(\"Russia temperature\", \"Temperature\", rus_data)"
   ]
  },
  {
   "cell_type": "markdown",
   "metadata": {},
   "source": [
    "![Russia anomaly](../images/russia_climate_plot.png)"
   ]
  },
  {
   "cell_type": "code",
   "execution_count": null,
   "metadata": {},
   "outputs": [],
   "source": [
    "make_plot(\"Australia temperature\", \"Temperature\", aus_data)"
   ]
  },
  {
   "cell_type": "markdown",
   "metadata": {},
   "source": [
    "![Australia anomaly](../images/australia_climate_plot.png)"
   ]
  },
  {
   "cell_type": "markdown",
   "metadata": {},
   "source": [
    "[&#9166;](#Solutions)"
   ]
  }
 ],
 "metadata": {
  "kernelspec": {
   "display_name": "Python 3 (ipykernel)",
   "language": "python",
   "name": "python3"
  },
  "language_info": {
   "codemirror_mode": {
    "name": "ipython",
    "version": 3
   },
   "file_extension": ".py",
   "mimetype": "text/x-python",
   "name": "python",
   "nbconvert_exporter": "python",
   "pygments_lexer": "ipython3",
   "version": "3.10.5"
  }
 },
 "nbformat": 4,
 "nbformat_minor": 4
}
