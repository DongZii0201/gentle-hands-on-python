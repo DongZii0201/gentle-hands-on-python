{
 "cells": [
  {
   "cell_type": "markdown",
   "metadata": {},
   "source": [
    "# Thinking like a programmer\n",
    "In this exercise you will describe to an alien (or a computer; something without your intuition) how to complete a\n",
    "relatively simple (for you) task. It requires you to break the task down into trivial steps.\n",
    "\n",
    "There's no wrong way to do this, it is simply trying to demonstrate _computational thinking_."
   ]
  },
  {
   "cell_type": "markdown",
   "metadata": {},
   "source": [
    "## An Example:\n",
    "Describe how to make a cup of coffee. We'll have to think about everything we need (e.g. mug, water, coffee powder, teaspoon, milk) and we'll have to break down the process in smaller parts.  "
   ]
  },
  {
   "cell_type": "code",
   "execution_count": null,
   "metadata": {},
   "outputs": [],
   "source": [
    "# Step 1: Retrieve a mug from the cupboard\n",
    "\n",
    "# Step 2: Place the mug in the centre of the table top\n",
    "\n",
    "# Step 3: Boil a kettle of water\n",
    "\n",
    "# Step 4: While the kettle is boiling, retrieve a jar of instant coffee\n",
    "\n",
    "# Step 5: Retrieve a teaspoon from the cuttlery draw\n",
    "\n",
    "# Step 6: Place 1 filled teaspoon of coffee powder into the mug in the centre of the table\n",
    "\n",
    "# Step 7: Once the water is boiling, pour the boiling water from the kettle into the mug up to 2cm from the lip\n",
    "\n",
    "# Step 8: Retrieve milk from the refrigerator\n",
    "\n",
    "# Step 9: Fill the remainder of the mug with milk up to 1cm from the lip\n",
    "\n",
    "# Step 10: Use the teaspoon to stir the contents of the mug 5 times."
   ]
  },
  {
   "cell_type": "markdown",
   "metadata": {},
   "source": [
    "## Your task:\n",
    "Descibe the process of making a pizza. Use (at least) the following ingredients: dough, tomato sauce, cheese and mushrooms. \n",
    "\n",
    "You'll be divided in subgroups and together think of each step in the process of making a pizza. Write them down in a list of sentences in which each sentence describes a process and in your opinion is interpretable by a computer. \n",
    "When you're done, copy-paste your approach into the chat. "
   ]
  },
  {
   "cell_type": "code",
   "execution_count": null,
   "metadata": {},
   "outputs": [],
   "source": [
    "# Make a pizza\n",
    "\n",
    "# An overview of the ingredients and the amount of each ingredient you need\n",
    "# A list of the topping ingredients\n",
    "# Preheat oven\n",
    "# Start by unrolling the dough as a base for the toppings\n",
    "# Add each topping in the toppings ingredient list on the pizza\n",
    "# Add some extra cheese or olives if you like\n",
    "# Check whether the oven is at temperature. If not, let it heat a bit longer until it reaches a temperature of 220°C\n",
    "# Bake the pizza for 15 minutes\n"
   ]
  },
  {
   "cell_type": "code",
   "execution_count": null,
   "metadata": {},
   "outputs": [],
   "source": [
    "# Make a pizza\n",
    "\n",
    "# An overview of the ingredients and the amount of each ingredient you need \n",
    "dough = 100 #g\n",
    "tomato_sauce = 50 #mL\n",
    "cheese = {\"Gruyere\" : 100, \"Mozarella\" : 20} #g\n",
    "mushrooms = 3 #amount of mushrooms needed\n",
    "\n",
    "# A list of the topping ingredients\n",
    "toppings = [tomato_sauce, cheese, mushrooms]\n",
    "\n",
    "# Preheat oven\n",
    "heat_oven()\n",
    "\n",
    "# Start by unrolling the dough as a base for the toppings\n",
    "pizza = unroll(dough, dough_roller)\n",
    "\n",
    "# Add each topping in the toppings ingredient list on the pizza\n",
    "for eachIngredient in ingredients:\n",
    "    pizza.add(eachIngredient)\n",
    "    \n",
    "# Add some extra cheese or olives if you like\n",
    "if you_like_extra_cheese():\n",
    "    pizza.add(cheese)\n",
    "elif you_like_olives(): \n",
    "    pizza.add(olives)\n",
    "\n",
    "# Check whether the oven is at temperature. If not, let it heat a bit longer until it reaches a temperature of 220°C\n",
    "while oven < 220: \n",
    "    heat_oven()\n",
    "\n",
    "# Bake the pizza for 15 minutes\n",
    "bake_pizza(15)"
   ]
  }
 ],
 "metadata": {
  "kernelspec": {
   "display_name": "Python 3",
   "language": "python",
   "name": "python3"
  },
  "language_info": {
   "codemirror_mode": {
    "name": "ipython",
    "version": 3
   },
   "file_extension": ".py",
   "mimetype": "text/x-python",
   "name": "python",
   "nbconvert_exporter": "python",
   "pygments_lexer": "ipython3",
   "version": "3.7.3"
  }
 },
 "nbformat": 4,
 "nbformat_minor": 4
}
