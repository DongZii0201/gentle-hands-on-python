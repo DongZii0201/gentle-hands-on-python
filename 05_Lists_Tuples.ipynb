{
 "cells": [
  {
   "cell_type": "markdown",
   "metadata": {},
   "source": [
    "# Collecting things together\n",
    "\n",
    "> _\"Simple is better than complex.\"_\n",
    ">\n",
    "> -- Zen of Python by Tim Peters\n",
    "\n",
    "## 1. Shopping lists? Todo lists? FizzBuzz lists?\n",
    "\n",
    "So far we've seen how to store a single value in a variable that you can use in your program. It is also possible to assign a _collection_ of values to a name. In Python, *lists* and *tuples* are examples of such collections.\n",
    "\n",
    "A list is an _ordered_ collection of arbitrary python values that are possibly nested. This is not unlike a shopping list. Your shopping list might look like this:\n",
    "\n",
    "> * Apples\n",
    "> * Milk\n",
    "> * Dinner:\n",
    ">   * Chicken\n",
    ">   * Chips\n",
    ">   * Salad\n",
    "> * Snacks\n",
    "\n",
    "\n",
    "You can make a list in Python by seperating each value in a list with comma's and placing these between square `[]` brackets."
   ]
  },
  {
   "cell_type": "code",
   "execution_count": null,
   "metadata": {},
   "outputs": [],
   "source": [
    "# Your shopping list in Python\n",
    "[\"Apples\", \"Milk\", [\"Chicken\", \"Chips\", \"Salad\"], \"Snacks\"]"
   ]
  },
  {
   "cell_type": "code",
   "execution_count": null,
   "metadata": {},
   "outputs": [],
   "source": [
    "[1, 2, \"Fizz\", 4, \"Buzz\"]"
   ]
  },
  {
   "cell_type": "code",
   "execution_count": null,
   "metadata": {
    "tags": []
   },
   "outputs": [],
   "source": [
    "[[\"foo\"], \"bar\", [[\"baz\"], \"zoom\"]]"
   ]
  },
  {
   "cell_type": "code",
   "execution_count": null,
   "metadata": {},
   "outputs": [],
   "source": [
    "[1, [2, 2, [3, 3, 3, [4, 4, 4, 4]]]]"
   ]
  },
  {
   "cell_type": "markdown",
   "metadata": {},
   "source": [
    "You can use the `+` operator to combine lists together like this:"
   ]
  },
  {
   "cell_type": "code",
   "execution_count": null,
   "metadata": {},
   "outputs": [],
   "source": [
    "[1, 2] + [3, 4]"
   ]
  },
  {
   "cell_type": "markdown",
   "metadata": {},
   "source": [
    "This also gives you a way to _append_ to a list:"
   ]
  },
  {
   "cell_type": "code",
   "execution_count": null,
   "metadata": {},
   "outputs": [],
   "source": [
    "mylist = [1, 2, 3]\n",
    "mylist = mylist + [4, 5]\n",
    "mylist"
   ]
  },
  {
   "cell_type": "markdown",
   "metadata": {},
   "source": [
    "We can also _multiply_ a list by a number, as we did with strings last week:"
   ]
  },
  {
   "cell_type": "code",
   "execution_count": null,
   "metadata": {},
   "outputs": [],
   "source": [
    "[1, 2, 3] * 3"
   ]
  },
  {
   "cell_type": "markdown",
   "metadata": {},
   "source": [
    "Last week we looked at the FizzBuzz counting game (review chapter 4 to catch up). We implemented a function to return \"Fizz\" on multiples of 3, \"Buzz\" on multiples of 5, \"Fizz Buzz\" on multiples of 3 **and** 5, and the input number otherwise. Lists give us a way to store these results for a range of numbers.\n",
    "\n",
    "---\n",
    "\n",
    "### Exercise 5-1: More Fizz Buzz\n",
    "Write a function called `fizzbuzz3()` that returns a list containing the FizzBuzz game played up to 15."
   ]
  },
  {
   "cell_type": "code",
   "execution_count": null,
   "metadata": {},
   "outputs": [],
   "source": [
    "def fizzbuzz3():\n",
    "    \"Play the Fizz Buzz game up to 15.\"\n",
    "    return _\n",
    "\n",
    "fizzbuzz3()"
   ]
  },
  {
   "cell_type": "markdown",
   "metadata": {},
   "source": [
    "[Advanced question](Advanced%20Exercises.ipynb#5-1)\n",
    "\n",
    "---\n",
    "\n",
    "## 2. What's the length?\n",
    "\n",
    "What is the length of this list `[1, [2, [3, 4]]]`? If you say `2`, you're right. If you say `4`, you're also right! However, Python only agrees with you if you said `2`. This is because Python does not look at the structure of the values in a list. So when you ask Python, `len([1, [2, [3, 4]]])`? Python sees, `len([💩, 💩])`.\n",
    "\n",
    "You may wonder if there is a way to compute the number of nested values (`4` in the above example), this is left as an advanced exercise.\n",
    "\n",
    "## 3. Slicing\n",
    "Last week we briefly looked at _indexing_ into some text. What is the 3$^{rd}$ character in the string `my_string`?\n",
    "\n",
    "```python\n",
    "my_string = \"Some text goes here\"\n",
    "my_string[2] == 'm'\n",
    "```\n",
    "\n",
    "_Slicing_ is a generalisation of _indexing_ which allows you to view a part (or a _slice_) of the values in a collection. Similarly to indexing, the syntax looks like this:\n",
    "```python\n",
    "myList[start_index : end_index : step]\n",
    "```\n",
    "**Remember:** Python always starts counting from index 0 (meaning, the beginning of the list `+ 0` elements).\n",
    "\n",
    "Here are some examples. Try to guess the output before you execute each cell."
   ]
  },
  {
   "cell_type": "code",
   "execution_count": null,
   "metadata": {},
   "outputs": [],
   "source": [
    "my_list = [0, 1, 2, 3, 4, 5, 6, 7, 8, 9] # In this list, the indexes and the values are the same\n",
    "my_list"
   ]
  },
  {
   "cell_type": "code",
   "execution_count": null,
   "metadata": {},
   "outputs": [],
   "source": [
    "my_list[1]"
   ]
  },
  {
   "cell_type": "code",
   "execution_count": null,
   "metadata": {},
   "outputs": [],
   "source": [
    "my_list[54]"
   ]
  },
  {
   "cell_type": "code",
   "execution_count": null,
   "metadata": {},
   "outputs": [],
   "source": [
    "my_list[1:2]"
   ]
  },
  {
   "cell_type": "code",
   "execution_count": null,
   "metadata": {},
   "outputs": [],
   "source": [
    "my_list[1:3]"
   ]
  },
  {
   "cell_type": "markdown",
   "metadata": {},
   "source": [
    "You will see above that the slicing operation always stops just short of the _end_index_.\n",
    "\n",
    "**Q:** What's before the beginning of the list? At index `-1`? **A:** The _end_ of the list!"
   ]
  },
  {
   "cell_type": "code",
   "execution_count": null,
   "metadata": {},
   "outputs": [],
   "source": [
    "my_list[-1]"
   ]
  },
  {
   "cell_type": "code",
   "execution_count": null,
   "metadata": {},
   "outputs": [],
   "source": [
    "my_list[5:-1]"
   ]
  },
  {
   "cell_type": "markdown",
   "metadata": {},
   "source": [
    "There is a special shortcut for slicing _from the beginning_ or _to the end_:"
   ]
  },
  {
   "cell_type": "code",
   "execution_count": null,
   "metadata": {},
   "outputs": [],
   "source": [
    "my_list[:5]"
   ]
  },
  {
   "cell_type": "code",
   "execution_count": null,
   "metadata": {},
   "outputs": [],
   "source": [
    "my_list[5:]"
   ]
  },
  {
   "cell_type": "code",
   "execution_count": null,
   "metadata": {
    "scrolled": true
   },
   "outputs": [],
   "source": [
    "my_list[:-4]"
   ]
  },
  {
   "cell_type": "code",
   "execution_count": null,
   "metadata": {},
   "outputs": [],
   "source": [
    "my_list[-4:]"
   ]
  },
  {
   "cell_type": "markdown",
   "metadata": {},
   "source": [
    "Copy the whole list:"
   ]
  },
  {
   "cell_type": "code",
   "execution_count": null,
   "metadata": {
    "scrolled": true
   },
   "outputs": [],
   "source": [
    "a_copy = my_list[:] # Shorthand for slice from begin to end\n",
    "print(a_copy)"
   ]
  },
  {
   "cell_type": "markdown",
   "metadata": {},
   "source": [
    "Change the step:"
   ]
  },
  {
   "cell_type": "code",
   "execution_count": null,
   "metadata": {},
   "outputs": [],
   "source": [
    "my_list[0:10:2]"
   ]
  },
  {
   "cell_type": "code",
   "execution_count": null,
   "metadata": {},
   "outputs": [],
   "source": [
    "my_list[::-1]"
   ]
  },
  {
   "cell_type": "markdown",
   "metadata": {},
   "source": [
    "We can also _assign_ to slices:"
   ]
  },
  {
   "cell_type": "code",
   "execution_count": null,
   "metadata": {},
   "outputs": [],
   "source": [
    "my_list[0] = 42\n",
    "my_list"
   ]
  },
  {
   "cell_type": "code",
   "execution_count": null,
   "metadata": {},
   "outputs": [],
   "source": [
    "my_list[4:] = [2, 1, 0]\n",
    "my_list"
   ]
  },
  {
   "cell_type": "markdown",
   "metadata": {},
   "source": [
    "---\n",
    "\n",
    "### Exercise 5-2: Slicing nested lists\n",
    "Write a function that accepts a nested list as an argument and returns the original list with second element reversed. For example, given input `[[1, 2], [3, 4]]`, return `[[1, 2], [4, 3]]`."
   ]
  },
  {
   "cell_type": "code",
   "execution_count": null,
   "metadata": {},
   "outputs": [],
   "source": [
    "def reverse_second(arg):\n",
    "    \"Reverse the second element of a nested list.\"\n",
    "    if len(arg) >= 2:\n",
    "        return _\n",
    "    else:\n",
    "        return _\n",
    "\n",
    "assert reverse_second([[1]]) == [[1]], \"Expected [[1]], got: \" + str(reverse_second([[1]]))\n",
    "assert reverse_second([[1], [2]]) == [[1], [2]], \"Expected [[1], [2]], got: \" + str(reverse_second([[1], [2]]))\n",
    "assert reverse_second([[1, 5], [10, 9, 8]]) == [[1, 5], [8, 9, 10]], \"Expected [[1, 5], [8, 9, 10]], got: \" + str(reverse_second([[1, 5], [10, 9, 8]]))\n",
    "assert reverse_second([1, ['h', 'e', 'l', 'l', 'o'], 2]) == [1, ['o', 'l', 'l', 'e', 'h'], 2], \"Expected [1, ['o', 'l', 'l', 'e', 'h'], 2], got: \" + str(reverse_second([1, ['h', 'e', 'l', 'l', 'o'], 2]))"
   ]
  },
  {
   "cell_type": "markdown",
   "metadata": {},
   "source": [
    "---\n",
    "\n",
    "### Exercise 5-3: Sliced FizzBuzz\n",
    "Slicing presents a possible solution to playing the FizzBuzz game: slice starting at the 3$^{rd}$ element of a list with a `step` of 3, assign an appropriately sized list of `[\"Fizz\"]` strings. The same for 5. Write a function, called `fizzbuzz4()` that attempts to play the Fizz Buzz game in this way. The input will be a list containing the counted numbers, you should use slicing to replace the appropriate numbers with `\"Fizz\"` or `\"Buzz\"`."
   ]
  },
  {
   "cell_type": "code",
   "execution_count": null,
   "metadata": {},
   "outputs": [],
   "source": [
    "def fizzbuzz4(counted):\n",
    "    counted[_:_:3] = [\"Fizz\"] * (len(counted) // 3)\n",
    "    counted[_:_:5] = [\"Buzz\"] * (len(counted) // 5)\n",
    "    return counted\n",
    "\n",
    "fizzbuzz4([1, 2, 3, 4, 5, 6, 7, 8, 9, 10, 11, 12, 13, 14, 15])"
   ]
  },
  {
   "cell_type": "markdown",
   "metadata": {},
   "source": [
    "Does `fizzbuzz4()` correctly play the Fizz Buzz game? What is wrong with this solution?"
   ]
  },
  {
   "cell_type": "markdown",
   "metadata": {
    "tags": []
   },
   "source": [
    "[Advanced question](Advanced%20Exercises.ipynb#5-2)\n",
    "\n",
    "---\n",
    "\n",
    "## 3. Operating on Lists and using Python utilities\n",
    "\n",
    "In the following section we will use the `operator` library which is part of the Python standard library (if you're interested, see the documentation [here](https://docs.python.org/3/library/operator.html)). The `operator` library defines functions that are equivalent to the usual operators you've seen so far (e.g. `+`, `*`, _indexing_, etc.). Let's begin by importing the `operator` library. Run the next code cell:"
   ]
  },
  {
   "cell_type": "code",
   "execution_count": null,
   "metadata": {},
   "outputs": [],
   "source": [
    "import operator"
   ]
  },
  {
   "cell_type": "markdown",
   "metadata": {},
   "source": [
    "As you progress through the course we will use other facilities provided by the Python standard library. It's very useful to be aware of them so that you don't need to re-invent what is already available.\n",
    "\n",
    "You might already appreciate the utility of lists, if not the next few exercises aim to demonstrate how they can be useful. In order to complete the next exercises you will need to know how to perform some operations on lists as a whole. Here are 3 new things to become acquainted with:\n",
    "\n",
    "* The `sorted()` function will sort any collection, including lists\n",
    "* The `in` operator is a predicate evaluating to `True` if `x in collection`.\n",
    "* `operator.itemgetter()` from the `operator` library.\n",
    "\n",
    "The first 2 definitions are available to you without needing to `import` a library. These descriptions probably seem very vague, so let's experiment with them to see what they do..."
   ]
  },
  {
   "cell_type": "code",
   "execution_count": null,
   "metadata": {},
   "outputs": [],
   "source": [
    "sorted([5, 10, 2, 7, 1])"
   ]
  },
  {
   "cell_type": "code",
   "execution_count": null,
   "metadata": {},
   "outputs": [],
   "source": [
    "sorted([[5], [2], [7], [1]])"
   ]
  },
  {
   "cell_type": "code",
   "execution_count": null,
   "metadata": {},
   "outputs": [],
   "source": [
    "6 in [1, 3, 5, 7, 9]"
   ]
  },
  {
   "cell_type": "code",
   "execution_count": null,
   "metadata": {},
   "outputs": [],
   "source": [
    "8 in [2, 4, 6, 8, 10]"
   ]
  },
  {
   "cell_type": "markdown",
   "metadata": {
    "tags": []
   },
   "source": [
    "We can customise the bahaviour of the `sorted()` function by giving it some extra arguments.\n",
    "\n",
    "```python\n",
    ">>> help(sorted)\n",
    "Help on built-in function sorted in module builtins:\n",
    "\n",
    "sorted(iterable, /, *, key=None, reverse=False)\n",
    "    Return a new list containing all items from the iterable in ascending order.\n",
    "    \n",
    "    A custom key function can be supplied to customize the sort order, and the\n",
    "    reverse flag can be set to request the result in descending order.\n",
    "```\n",
    "\n",
    "For example, what if you wish to sort this list by the second value in each nested list: `[[5, \"golden rings\"], [2, \"turtle doves\"], [7, \"swans a-swimming\"], [1, \"partridge in a pear tree\"]]`? Does calling `sorted()` on this list do what we want?"
   ]
  },
  {
   "cell_type": "code",
   "execution_count": null,
   "metadata": {},
   "outputs": [],
   "source": [
    "sorted([[5, \"golden rings\"], [2, \"turtle doves\"], [7, \"swans a-swimming\"], [1, \"partridge in a pear tree\"]])"
   ]
  },
  {
   "cell_type": "markdown",
   "metadata": {},
   "source": [
    "No! It's sorting on the first value in each nested list, we want it to sort on the second! For this, the `sorted()` function accepts an argument called, `key` which is a function that accepts an element of the list and returns the value to sort on. So the key function in our case should be:"
   ]
  },
  {
   "cell_type": "code",
   "execution_count": null,
   "metadata": {},
   "outputs": [],
   "source": [
    "def key_second_element(element):\n",
    "    \"Use in sorting keyed on the second element of nested lists\"\n",
    "    return element[1]"
   ]
  },
  {
   "cell_type": "markdown",
   "metadata": {},
   "source": [
    "Now we can use this to sort our list..."
   ]
  },
  {
   "cell_type": "code",
   "execution_count": null,
   "metadata": {},
   "outputs": [],
   "source": [
    "sorted([[5, \"golden rings\"], [2, \"turtle doves\"], [7, \"swans a-swimming\"], [1, \"partridge in a pear tree\"]], key=key_second_element)"
   ]
  },
  {
   "cell_type": "markdown",
   "metadata": {},
   "source": [
    "Great! This is exactly what we wanted! ... But we're not finished yet. We didn't need to _re-invent what already exists_! `key_second_element` is just an indexing operation. So the `operator` library that we imported ealier has a function to do just that, it's called `itemgetter`. Let's play with it then try sorting our list with it again..."
   ]
  },
  {
   "cell_type": "code",
   "execution_count": null,
   "metadata": {},
   "outputs": [],
   "source": [
    "operator.itemgetter(0)(['a', 'B'])"
   ]
  },
  {
   "cell_type": "code",
   "execution_count": null,
   "metadata": {},
   "outputs": [],
   "source": [
    "operator.itemgetter(1)(['a', 'B'])"
   ]
  },
  {
   "cell_type": "code",
   "execution_count": null,
   "metadata": {},
   "outputs": [],
   "source": [
    "sorted([[5, \"golden rings\"], [2, \"turtle doves\"], [7, \"swans a-swimming\"], [1, \"partridge in a pear tree\"]], key=operator.itemgetter(1))"
   ]
  },
  {
   "cell_type": "markdown",
   "metadata": {},
   "source": [
    "`sorted()` also allows you to sort in reverse order with an argument named `reverse`. Let's sort some numbers in reverse order..."
   ]
  },
  {
   "cell_type": "code",
   "execution_count": null,
   "metadata": {},
   "outputs": [],
   "source": [
    "sorted([1, 2, 3, 4, 5, 6], reverse=True)"
   ]
  },
  {
   "cell_type": "markdown",
   "metadata": {},
   "source": [
    "Of course, there is much to explore in the Python standard library but these functions will get you a long way. The next series of exercises challenge you to use these facilities in some interesting ways..."
   ]
  },
  {
   "cell_type": "markdown",
   "metadata": {},
   "source": [
    "---\n",
    "### Exercise 5-4: Bronze medal\n",
    "\n",
    "Write a function that accepts a list of scores (highest is better) and return the score of third place (bronze medal)."
   ]
  },
  {
   "cell_type": "code",
   "execution_count": null,
   "metadata": {},
   "outputs": [],
   "source": [
    "def bronze_medal(scores):\n",
    "    return _\n",
    "\n",
    "assert bronze_medal([54,56,2,1,5223,6,23,57,3,7,3344]) == 57, \"Expected: 57, got: \" + str(bronze_medal([54,56,2,1,5223,6,23,57,3,7,3344]))"
   ]
  },
  {
   "cell_type": "markdown",
   "metadata": {},
   "source": [
    "---\n",
    "\n",
    "### Exercise 5-5: Citations\n",
    "You're given a list containing some data. Each element of the list is another list containing 2 values: the name of a country, and the average number of citations per citable document produced within that country. Write a function that takes this list as an argument and returns the name of the country with the second highest number of average citations.\n",
    "    <!-- Data are from: https://www.scimagojr.com/countryrank.php?order=cd&ord=desc -->"
   ]
  },
  {
   "cell_type": "code",
   "execution_count": null,
   "metadata": {},
   "outputs": [],
   "source": [
    "data = [['Netherlands Antilles', 38.46],\n",
    "        ['Tokelau', 51.9],\n",
    "        ['Seychelles', 33.56],\n",
    "        ['Anguilla', 133.98],\n",
    "        ['Saint Lucia', 37.31],\n",
    "        ['Panama', 37.87],\n",
    "        ['Bermuda', 43.33],\n",
    "        ['Federated States of Micronesia', 85.49],\n",
    "        ['Gambia', 42.14],\n",
    "        ['Belize', 41.59]]"
   ]
  },
  {
   "cell_type": "markdown",
   "metadata": {},
   "source": [
    "[Advanced question](Advanced%20Exercises.ipynb#5-5)\n",
    "\n",
    "---\n",
    "\n",
    "## 4. Tuples\n",
    "Similar to *lists* are *tuples* - essentially they are the same, except that a tuple cannot be modified.\n",
    "Once created a tuple is _immutable_. This can be useful for _reasoning_ about your program.\n",
    "\n",
    "Let's start by making a new tuple by putting values between parentheses `()`: "
   ]
  },
  {
   "cell_type": "code",
   "execution_count": null,
   "metadata": {},
   "outputs": [],
   "source": [
    "(\"A\",\"B\",\"C\",\"D\",\"E\",\"F\")"
   ]
  },
  {
   "cell_type": "markdown",
   "metadata": {},
   "source": [
    "We can extract values from a tuple by slicing, the same way as with lists:"
   ]
  },
  {
   "cell_type": "code",
   "execution_count": null,
   "metadata": {},
   "outputs": [],
   "source": [
    "(\"A\",\"B\",\"C\",\"D\",\"E\",\"F\")[3]"
   ]
  },
  {
   "cell_type": "markdown",
   "metadata": {},
   "source": [
    "But we can't modify a value in the tuple:"
   ]
  },
  {
   "cell_type": "code",
   "execution_count": null,
   "metadata": {},
   "outputs": [],
   "source": [
    "(\"A\",\"B\",\"C\",\"D\",\"E\",\"F\")[3] = \"A\""
   ]
  },
  {
   "cell_type": "markdown",
   "metadata": {},
   "source": [
    "You can convert between lists and tuples by using `list()` and `tuple()` functions:"
   ]
  },
  {
   "cell_type": "code",
   "execution_count": null,
   "metadata": {
    "scrolled": true
   },
   "outputs": [],
   "source": [
    "my_tuple = (\"A\",\"B\",\"C\",\"D\",\"E\",\"F\")\n",
    "my_list = [0, 1, 2, 3, 4, 5, 6, 7, 8, 9]\n",
    " \n",
    "my_new_tuple = tuple(my_list)\n",
    "my_new_list = list(my_tuple)\n",
    " \n",
    "print(f\"{my_new_list=} and {my_new_tuple=}\")"
   ]
  },
  {
   "cell_type": "markdown",
   "metadata": {},
   "source": [
    "You can find out the length (number of elements) in a list or tuple with `len()`:"
   ]
  },
  {
   "cell_type": "code",
   "execution_count": null,
   "metadata": {},
   "outputs": [],
   "source": [
    "len((\"A\",\"B\",\"C\",\"D\",\"E\",\"F\"))"
   ]
  },
  {
   "cell_type": "markdown",
   "metadata": {},
   "source": [
    "## 5. Strings... Reloaded\n",
    "\n",
    "Strings are a special case. They behave similarly to tuples but can only contain characters:"
   ]
  },
  {
   "cell_type": "code",
   "execution_count": null,
   "metadata": {},
   "outputs": [],
   "source": [
    "\"This is a sentence.\"[0:5]          # Take the first five characters"
   ]
  },
  {
   "cell_type": "code",
   "execution_count": null,
   "metadata": {},
   "outputs": [],
   "source": [
    "sorted(\"This is a sentence.\")"
   ]
  },
  {
   "cell_type": "code",
   "execution_count": null,
   "metadata": {},
   "outputs": [],
   "source": [
    "list(\"This is a sentence.\"[::-1])"
   ]
  },
  {
   "cell_type": "markdown",
   "metadata": {},
   "source": [
    "You cannot re-assign strings as you do with lists though, the following example does not work:"
   ]
  },
  {
   "cell_type": "code",
   "execution_count": null,
   "metadata": {},
   "outputs": [],
   "source": [
    "\"   This is a sentence.  \"[5] = \"J\""
   ]
  },
  {
   "cell_type": "markdown",
   "metadata": {},
   "source": [
    "---\n",
    "### Exercise 5-6: Truncate\n",
    "\n",
    "Write a function that takes 2 parameters: a string to truncate (`text`), and a maximum length (`max_len`) that checks if `text` is longer than `max_len`, if it is, the string should be\n",
    "truncated and display ellipses (\"...\") as the last 3 characters. The truncated string + the ellipses should\n",
    "fit within `max_len`."
   ]
  },
  {
   "cell_type": "code",
   "execution_count": null,
   "metadata": {},
   "outputs": [],
   "source": [
    "def truncate(text, max_len):\n",
    "    if _ > max_len:\n",
    "        return _\n",
    "\n",
    "    return text\n",
    "\n",
    "assert truncate(\"hello world\", 10) == \"hello w...\", \"Expected: 'hello w...', got: \" + str(truncate('hello world', 10))\n",
    "assert truncate('python', 6) == 'python', \"Expected: 'python', got: \" + str(truncate('python', 6))"
   ]
  },
  {
   "cell_type": "markdown",
   "metadata": {},
   "source": [
    "[Advanced question](Advanced%20Exercises.ipynb#5-6)\n",
    "\n",
    "---\n",
    "\n",
    "## 6. Chapter Review\n",
    "In this chapter, you learned how to store a collection of values in a `list`, or a `tuple` or a `str`. You are now able to access and operate on values in a *list*, *tuple*, or *str* collection.\n",
    "\n",
    "The _order_ of values in these collections is well defined. *Lists* are different from *Tuples* insofar as they can be changed over time, whereas a tuples and strings are immutable once created. All of these collections can have multiple identical values, but strings can only contain characters.\n",
    "\n",
    "Here's a nice overview of the properties of *lists*, *tuples*, and *strings*. \n",
    "\n",
    "| Python Collection | Syntax | Mutable? |\n",
    "|:------------|:---------------|:--------:|\n",
    "| `List` | `[]` | ✔ |\n",
    "| `Tuple` | `()` | ❌ |\n",
    "| `String` | `\"\"` or `''` or `\"\"\"\"\"\"` | ❌ |\n",
    "\n",
    "\n",
    "### Review Questions\n",
    "\n",
    "1. What are collections (lists, tuples, strings, etc.) used for?\n",
    "<details>\n",
    "    <summary>Answer</summary>\n",
    "    To collect values together. \n",
    "</details>\n",
    "\n",
    "\n",
    "2. How are tuples different from lists?\n",
    "<details>\n",
    "    <summary>Answer</summary>\n",
    "    Tuples cannot be changed after you create them.\n",
    "</details>\n",
    "\n",
    "\n",
    "3. What is _slicing_?\n",
    "<details>\n",
    "    <summary>Answer</summary>\n",
    "    Slicing is a way to access elements (or ranges of elements) in a collection.\n",
    "</details>\n",
    "\n",
    "\n",
    "4. If the elements of a list or tuple can be _anything_, what elements can a string contain?\n",
    "<details>\n",
    "    <summary>Answer</summary>\n",
    "    A string is a collection that can only contain characters.\n",
    "</details>\n",
    "\n",
    "\n",
    "5. In what way are strings similar to tuples?\n",
    "<details>\n",
    "    <summary>Answer</summary>\n",
    "    They are both collections that are immutable.\n",
    "</details>\n",
    "\n",
    "\n",
    "6. Can you sort a tuple or a string?\n",
    "<details>\n",
    "    <summary>Answer</summary>\n",
    "    Yes, you can call the <code>sorted()</code> function\n",
    "    to get a sorted list of their elements.\n",
    "</details>\n",
    "\n"
   ]
  },
  {
   "cell_type": "markdown",
   "metadata": {},
   "source": [
    "## 7. Supporting material\n",
    "* [Automate the Boring Stuff with Python, Chapter 4](http://automatetheboringstuff.com/2e/chapter4/)\n",
    "* [Automate the Boring Stuff with Python video course, Lesson 13](https://youtu.be/5n6o1MaXDoE)\n",
    "* [Real Python: Lists and Tuples](https://realpython.com/python-lists-tuples/)\n",
    "* [How to Design Programs, Chapter 6](https://htdp.org/2003-09-26/Book/curriculum-Z-H-9.html#node_chap_6)\n",
    "* [Programming Python, Chapter 14](https://www.linuxtopia.org/online_books/programming_books/python_programming/python_ch14.html)\n",
    "\n",
    "## 8. Next session\n",
    "\n",
    "Go to our [next chapter](06_Loops.ipynb). "
   ]
  },
  {
   "cell_type": "code",
   "execution_count": null,
   "metadata": {},
   "outputs": [],
   "source": []
  }
 ],
 "metadata": {
  "kernelspec": {
   "display_name": "Python 3 (ipykernel)",
   "language": "python",
   "name": "python3"
  },
  "language_info": {
   "codemirror_mode": {
    "name": "ipython",
    "version": 3
   },
   "file_extension": ".py",
   "mimetype": "text/x-python",
   "name": "python",
   "nbconvert_exporter": "python",
   "pygments_lexer": "ipython3",
   "version": "3.10.5"
  }
 },
 "nbformat": 4,
 "nbformat_minor": 4
}
