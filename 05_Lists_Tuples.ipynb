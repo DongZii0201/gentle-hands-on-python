{
 "cells": [
  {
   "cell_type": "markdown",
   "metadata": {},
   "source": [
    "# 5. Lists & Tuples\n",
    "\n",
    "> _\"Simple is better than complex.\"_\n",
    "\n",
    "## 5.1 Introduction\n",
    "\n",
    "So far we've seen variables where you essentially assign a value to a name that you can use in the program. It is also possible to assign a _collection_ of values to a name. In Python *lists*, *tuples* and *sets* are examples of such collections. In this chapter we will focus on *lists* and *tuples*. "
   ]
  },
  {
   "cell_type": "markdown",
   "metadata": {},
   "source": [
    "## 5.2 Lists and `range()`\n",
    "\n",
    "You can make your own Python list from scratch. Each value in a list is separated by comma's and the value is defined within square `[]` brackets."
   ]
  },
  {
   "cell_type": "code",
   "execution_count": null,
   "metadata": {},
   "outputs": [],
   "source": [
    "myList = [5, 3, 5, 13, 33]\n",
    "myList"
   ]
  },
  {
   "cell_type": "markdown",
   "metadata": {},
   "source": [
    "A list can have multiple identical values. In the example above there are two values of 5. \n",
    "\n",
    "You can also use the `range()` function. Try this:\n"
   ]
  },
  {
   "cell_type": "code",
   "execution_count": null,
   "metadata": {},
   "outputs": [],
   "source": [
    "range(10)"
   ]
  },
  {
   "cell_type": "markdown",
   "metadata": {},
   "source": [
    "The `range()` function above will give you a sequence of integers starting from 0, incrementing by 1 and stopping at the number you defined, however with this number **not** included in the list. That's however not very clear from the output, let's convert it to a list:"
   ]
  },
  {
   "cell_type": "code",
   "execution_count": null,
   "metadata": {},
   "outputs": [],
   "source": [
    "myList = list(range(10))\n",
    "myList"
   ]
  },
  {
   "cell_type": "markdown",
   "metadata": {},
   "source": [
    "You should get the following output: `[0, 1, 2, 3, 4, 5, 6, 7, 8, 9]`, a list starting at the number 0, incrementing with steps of 1 and stopping at the number before 10, hence at 9. \n",
    "\n",
    "You can start from a different number as well:"
   ]
  },
  {
   "cell_type": "code",
   "execution_count": null,
   "metadata": {},
   "outputs": [],
   "source": [
    "myList = list(range(3,12))\n",
    "myList"
   ]
  },
  {
   "cell_type": "markdown",
   "metadata": {},
   "source": [
    "or increase the step size (the default is step size is `1`):\n",
    "\n"
   ]
  },
  {
   "cell_type": "code",
   "execution_count": null,
   "metadata": {},
   "outputs": [],
   "source": [
    "myList = list(range(1,12,2))\n",
    "myList"
   ]
  },
  {
   "cell_type": "markdown",
   "metadata": {},
   "source": [
    "These are all examples of lists consisting of integers. Nonetheless, all of the following is also possible"
   ]
  },
  {
   "cell_type": "code",
   "execution_count": null,
   "metadata": {},
   "outputs": [],
   "source": [
    "# A list with floats & integers:\n",
    "myFloatList = [1.0, 5, 3.5, 4]\n",
    "\n",
    "# A list with strings:\n",
    "myStringsList = ['this', 'is', 'some', 'text']\n",
    "\n",
    "# A combination of all of the above:\n",
    "myComboList = ['a', 1, 0.5]"
   ]
  },
  {
   "cell_type": "markdown",
   "metadata": {},
   "source": [
    "### 5.2.1 Slicing\n",
    "_Slicing_ allows you to **view** a part (or a _slice_) of the values in types like `list()`. It even has a special syntax:\n",
    "```python\n",
    "myList[start_index : end_index : step]\n",
    "```\n",
    "**Note:** Python always starts counting from index 0 (meaning, the beginning of the list `+ 0` elements).\n",
    "\n",
    "Some examples:"
   ]
  },
  {
   "cell_type": "code",
   "execution_count": null,
   "metadata": {},
   "outputs": [],
   "source": [
    "myList = list(range(10))\n",
    "myList[0]"
   ]
  },
  {
   "cell_type": "markdown",
   "metadata": {},
   "source": [
    "**Q:** What's before the beginning of the list? At index `-1`? **A:** The _end_ of the list!"
   ]
  },
  {
   "cell_type": "code",
   "execution_count": null,
   "metadata": {},
   "outputs": [],
   "source": [
    "myList[-1]"
   ]
  },
  {
   "cell_type": "markdown",
   "metadata": {},
   "source": [
    "_Ranges_ of indexes:"
   ]
  },
  {
   "cell_type": "code",
   "execution_count": null,
   "metadata": {},
   "outputs": [],
   "source": [
    "myList[1:2]"
   ]
  },
  {
   "cell_type": "code",
   "execution_count": null,
   "metadata": {},
   "outputs": [],
   "source": [
    "myList[:5]"
   ]
  },
  {
   "cell_type": "code",
   "execution_count": null,
   "metadata": {},
   "outputs": [],
   "source": [
    "myList[5:]"
   ]
  },
  {
   "cell_type": "code",
   "execution_count": null,
   "metadata": {
    "scrolled": true
   },
   "outputs": [],
   "source": [
    "myList[:-4]"
   ]
  },
  {
   "cell_type": "code",
   "execution_count": null,
   "metadata": {},
   "outputs": [],
   "source": [
    "myList[-4:]"
   ]
  },
  {
   "cell_type": "markdown",
   "metadata": {},
   "source": [
    "Copy the whole list:"
   ]
  },
  {
   "cell_type": "code",
   "execution_count": null,
   "metadata": {
    "scrolled": true
   },
   "outputs": [],
   "source": [
    "myList[:]"
   ]
  },
  {
   "cell_type": "markdown",
   "metadata": {},
   "source": [
    "Change the step:"
   ]
  },
  {
   "cell_type": "code",
   "execution_count": null,
   "metadata": {},
   "outputs": [],
   "source": [
    "myList[0:10:2]"
   ]
  },
  {
   "cell_type": "code",
   "execution_count": null,
   "metadata": {},
   "outputs": [],
   "source": [
    "myList[::-1]"
   ]
  },
  {
   "cell_type": "markdown",
   "metadata": {},
   "source": [
    "We can also _assign_ to slices:"
   ]
  },
  {
   "cell_type": "code",
   "execution_count": null,
   "metadata": {},
   "outputs": [],
   "source": [
    "myList[0] = 42\n",
    "myList"
   ]
  },
  {
   "cell_type": "code",
   "execution_count": null,
   "metadata": {},
   "outputs": [],
   "source": [
    "myList[4:] = [2, 1, 0]\n",
    "myList"
   ]
  },
  {
   "cell_type": "markdown",
   "metadata": {},
   "source": [
    "### 5.2.2 List methods\n",
    "\n",
    "An important feature of lists is that they can _grow_ and _shrink_ - you can add and remove values, change the order, ... .\n",
    "You can do such modifications by calling a *method* on the list itself. Some examples of methods are:\n",
    "- Add elements\n",
    "    - `append()` to append an item to the end of the list\n",
    "    - `insert()` to add an item at the specified index\n",
    "    - `extend()` to extend an item\n",
    "- Delete elements\n",
    "    - `remove()` to remove the specified item\n",
    "    - `pop()` to remove the specified index (or the last item if index is not specified)\n",
    "    - `del` keyword removes the specified index\n",
    "    - `clear()` method empties the list\n",
    "- Sorting:\n",
    "    - `sort()` will sort the list in an ordered way\n",
    "    - `reverse()` will reverse the order of the list\n",
    "- Copy of a list with the `copy()` method\n",
    "\n"
   ]
  },
  {
   "cell_type": "markdown",
   "metadata": {},
   "source": [
    "In the cells below you should explore. Experiment with using the above methods."
   ]
  },
  {
   "cell_type": "code",
   "execution_count": null,
   "metadata": {},
   "outputs": [],
   "source": [
    "myList = []             # Create an empty list\n",
    "myList.append(5)        # Add a single value to the back of the list\n",
    "myList"
   ]
  },
  {
   "cell_type": "code",
   "execution_count": null,
   "metadata": {},
   "outputs": [],
   "source": [
    "myList.insert(0,9)      # Insert a value in the list at index (element position) 0\n",
    "myList"
   ]
  },
  {
   "cell_type": "code",
   "execution_count": null,
   "metadata": {},
   "outputs": [],
   "source": [
    "myList.extend([99,3,5]) # Extend the list with another list\n",
    "myList"
   ]
  },
  {
   "cell_type": "code",
   "execution_count": null,
   "metadata": {},
   "outputs": [],
   "source": [
    "myRemovedElement = myList.pop(3)  # Remove the fourth element in the list and return it\n",
    "print(f\"I removed {myRemovedElement}\")\n",
    "myList"
   ]
  },
  {
   "cell_type": "code",
   "execution_count": null,
   "metadata": {},
   "outputs": [],
   "source": [
    "myList.sort()           # You can sort the elements in a list - this will change their order\n",
    "myList"
   ]
  },
  {
   "cell_type": "code",
   "execution_count": null,
   "metadata": {},
   "outputs": [],
   "source": [
    "myList.reverse()        # Or reverse the order of the list\n",
    "myList"
   ]
  },
  {
   "cell_type": "markdown",
   "metadata": {},
   "source": [
    "Recall that slicing a list gives you a new list:"
   ]
  },
  {
   "cell_type": "code",
   "execution_count": null,
   "metadata": {},
   "outputs": [],
   "source": [
    "myList = list(range(15))"
   ]
  },
  {
   "cell_type": "code",
   "execution_count": null,
   "metadata": {},
   "outputs": [],
   "source": [
    "# Make a copy of the list as we're slicing all elements of the list.\n",
    "myListCopy = myList[:]\n",
    "myListCopy"
   ]
  },
  {
   "cell_type": "code",
   "execution_count": null,
   "metadata": {},
   "outputs": [],
   "source": [
    "# Another way of making a copy of a list:\n",
    "myListCopy = myList.copy()"
   ]
  },
  {
   "cell_type": "markdown",
   "metadata": {},
   "source": [
    "There are two other methods you can use on lists:\n",
    "- `index()` returns the index of the first element with the specified value\n",
    "- `count()` returns the number of elements with the specified value"
   ]
  },
  {
   "cell_type": "code",
   "execution_count": null,
   "metadata": {},
   "outputs": [],
   "source": [
    "myList = list(range(1,15))\n",
    "myList"
   ]
  },
  {
   "cell_type": "code",
   "execution_count": null,
   "metadata": {},
   "outputs": [],
   "source": [
    "myList.count(10)   # Will count the amount of times the value 10 occurs in this list"
   ]
  },
  {
   "cell_type": "code",
   "execution_count": null,
   "metadata": {},
   "outputs": [],
   "source": [
    "myList.count(\"A\")  # This always works, and will return 0 if nothing is found"
   ]
  },
  {
   "cell_type": "code",
   "execution_count": null,
   "metadata": {},
   "outputs": [],
   "source": [
    "myList.index(10)   # Will give the index of the element with value 10 - in this case 9 because the list index starts at 0."
   ]
  },
  {
   "cell_type": "code",
   "execution_count": null,
   "metadata": {},
   "outputs": [],
   "source": [
    "#print(myList.index(\"A\"))  # This will crash the program - the value to look for has to be present in the list!!!"
   ]
  },
  {
   "cell_type": "markdown",
   "metadata": {},
   "source": [
    "The function `dir()` will list all the methods that you can use on a variable (list, string, dictionary), functions etc. It allows us to extract information on which operations we can perform on an available object, however also lets us discover new methods. "
   ]
  },
  {
   "cell_type": "code",
   "execution_count": null,
   "metadata": {},
   "outputs": [],
   "source": [
    "dir(myList)"
   ]
  },
  {
   "cell_type": "markdown",
   "metadata": {},
   "source": [
    "---\n",
    "### 5.2.2 Exercise - A\n",
    "\n",
    "Take the list [54,56,2,1,5223,6,23,57,3,7,3344], sort it in reverse order (largest value first) and print out the third value."
   ]
  },
  {
   "cell_type": "code",
   "execution_count": null,
   "metadata": {},
   "outputs": [],
   "source": []
  },
  {
   "cell_type": "markdown",
   "metadata": {},
   "source": [
    "---\n",
    "### 5.2.2 Exercise - B\n",
    "\n",
    "Write a function that accepts a list, sorts it in reverse order and extracts the first value"
   ]
  },
  {
   "cell_type": "code",
   "execution_count": null,
   "metadata": {},
   "outputs": [],
   "source": [
    "def firstInList(myList):\n",
    "    # Write the code (similar to the exercise here above)\n",
    "    ...\n",
    "    return ..."
   ]
  },
  {
   "cell_type": "code",
   "execution_count": null,
   "metadata": {},
   "outputs": [],
   "source": [
    "assert 5223 == firstInList([54,56,2,1,5223,6,23,57,3,7,3344])\n",
    "assert 57 == firstInList([54,2,6,23,57,3,7])"
   ]
  },
  {
   "cell_type": "markdown",
   "metadata": {},
   "source": [
    "<details>\n",
    "    <summary>&#9654; Extra exercise 5.2.2-1</summary>\n",
    "    You're given a list containing some names and a corresponding list containing their rank by popularity.\n",
    "    Print your name in capital letters if your name is in the list <b>and</b> in the top 20 most popular names, otherwise\n",
    "    if your name is in the list and <b>not</b> in the 20 most popular names, print your name backwards. Otherwise, just\n",
    "    print your name followed by the string, <code>\"is great at Python!\"</code>.\n",
    "    <!-- Data from: https://www.behindthename.com/top/lists/belgium -->\n",
    "</details>"
   ]
  },
  {
   "cell_type": "code",
   "execution_count": null,
   "metadata": {},
   "outputs": [],
   "source": [
    "names = [\"Marie\", \"Lucas\", \"Viktor\", \"Elise\", \"Lotte\", \"Hugo\", \"Emma\", \"Elena\", \"Julia\", \"Maxime\", \"Alexander\", \"Tuur\"]\n",
    "rank =  [7,       6,       65,       14,      46,      15,     1,      7,       26,      37,       36,          73]"
   ]
  },
  {
   "cell_type": "markdown",
   "metadata": {},
   "source": [
    "<details>\n",
    "    <summary>&#9654; Extra exercise 5.2.2-2</summary>\n",
    "    You're given a list containing some data. Each element of the list is another list containing 2 values:\n",
    "    the name of a country, and the average number of citations per citable document produced within that country.\n",
    "    Print the name of the country with the second highest number of average citations.\n",
    "    <!-- Data are from: https://www.scimagojr.com/countryrank.php?order=cd&ord=desc -->\n",
    "</details>"
   ]
  },
  {
   "cell_type": "code",
   "execution_count": null,
   "metadata": {},
   "outputs": [],
   "source": [
    "data = [['Netherlands Antilles', 34.59],\n",
    "        ['Tokelau', 48.11],\n",
    "        ['Seychelles', 31.62],\n",
    "        ['Anguilla', 90.99],\n",
    "        ['Saint Lucia', 35.43],\n",
    "        ['Panama', 35.92],\n",
    "        ['Bermuda', 42.25],\n",
    "        ['Federated States of Micronesia', 59.29],\n",
    "        ['Gambia', 40.96],\n",
    "        ['Belize', 39.62]]"
   ]
  },
  {
   "cell_type": "markdown",
   "metadata": {},
   "source": [
    "## 5.3 Tuples  \n",
    "Similar to *lists* are *tuples* - essentially they are the same, except that a tuple cannot be modified.\n",
    "Once created a tuple is _immutable_. This can be useful for _reasoning_ about your program.\n",
    "\n",
    "Let's start by making a new tuple by putting values between parentheses `()`: "
   ]
  },
  {
   "cell_type": "code",
   "execution_count": null,
   "metadata": {},
   "outputs": [],
   "source": [
    "myTuple = (\"A\",\"B\",\"C\",\"D\",\"E\",\"F\")\n",
    "myTuple"
   ]
  },
  {
   "cell_type": "markdown",
   "metadata": {},
   "source": [
    "We can extract values from a tuple by slicing, the same way as with lists:"
   ]
  },
  {
   "cell_type": "code",
   "execution_count": null,
   "metadata": {},
   "outputs": [],
   "source": [
    "myTuple[3]"
   ]
  },
  {
   "cell_type": "markdown",
   "metadata": {},
   "source": [
    "But we can't modify a value in the tuple:"
   ]
  },
  {
   "cell_type": "code",
   "execution_count": null,
   "metadata": {},
   "outputs": [],
   "source": [
    "myTuple[3] = \"A\""
   ]
  },
  {
   "cell_type": "markdown",
   "metadata": {},
   "source": [
    "We can verify its immutability by listing the available operations that we can perform on a tuple with `dir()`. You will notice that you can only count the occurrence of values with `count` and extract indeces of a value with `index`.  "
   ]
  },
  {
   "cell_type": "code",
   "execution_count": null,
   "metadata": {},
   "outputs": [],
   "source": [
    "dir(myTuple)"
   ]
  },
  {
   "cell_type": "markdown",
   "metadata": {},
   "source": [
    "**Warning note!!** It is important to remember that if you create a tuple with one value you have to use a comma after\n",
    "your first value. This is to distinguish a tuple from mathematical grouping parentheses."
   ]
  },
  {
   "cell_type": "code",
   "execution_count": null,
   "metadata": {},
   "outputs": [],
   "source": [
    "myTuple = (\"My string\",)\n",
    "myTuple"
   ]
  },
  {
   "cell_type": "code",
   "execution_count": null,
   "metadata": {},
   "outputs": [],
   "source": [
    "myWrongTuple = (\"My string\")  # The brackets here don't do anything.\n",
    "myWrongTuple"
   ]
  },
  {
   "cell_type": "markdown",
   "metadata": {},
   "source": [
    "You can convert between lists and tuples by using `list()` and `tuple()` functions:"
   ]
  },
  {
   "cell_type": "code",
   "execution_count": null,
   "metadata": {
    "scrolled": true
   },
   "outputs": [],
   "source": [
    "myTuple = (\"A\",\"B\",\"C\",\"D\",\"E\",\"F\")\n",
    "myList = [0, 1, 2, 3, 4, 5, 6, 7, 8, 9]\n",
    " \n",
    "myNewTuple = tuple(myList)\n",
    "myNewList = list(myTuple)\n",
    " \n",
    "print(f\"myList={myList} and myNewTuple={myNewTuple}\")\n"
   ]
  },
  {
   "cell_type": "markdown",
   "metadata": {},
   "source": [
    "You can find out the length (number of elements) in a list or tuple with `len()`:"
   ]
  },
  {
   "cell_type": "code",
   "execution_count": null,
   "metadata": {},
   "outputs": [],
   "source": [
    "myTuple = (\"A\",\"B\",\"C\",\"D\",\"E\",\"F\")\n",
    "len(myTuple)"
   ]
  },
  {
   "cell_type": "markdown",
   "metadata": {},
   "source": [
    "---\n",
    "### 5.3.1 Exercise\n",
    "\n",
    "Start with the tuple `('a','B','c','D','e','F')`, sort it, take the fourth value out, and print the result.\n",
    "\n",
    "---"
   ]
  },
  {
   "cell_type": "code",
   "execution_count": null,
   "metadata": {},
   "outputs": [],
   "source": [
    "myTuple = ('a','B','c','D','e','F')"
   ]
  },
  {
   "cell_type": "markdown",
   "metadata": {},
   "source": [
    "<details>\n",
    "    <summary>&#9654; Extra exercise 5.3.1-1</summary>\n",
    "    Again, starting with the tuple, <code>('a','B','c','D','e','F')</code> sort only the values excluding the first\n",
    "    and last elements (so sort 'B', 'c', 'D', 'e') then print the result including the first and last elements. This\n",
    "    should look like: <code>('a', ...sorted middle.., 'F')</code>.\n",
    "</details>"
   ]
  },
  {
   "cell_type": "code",
   "execution_count": null,
   "metadata": {},
   "outputs": [],
   "source": [
    "myTuple = ('a','B','c','D','e','F')"
   ]
  },
  {
   "cell_type": "markdown",
   "metadata": {},
   "source": [
    "## 5.4 Strings\n",
    "\n",
    "Strings are a special case. They behave similarly to tuples but can only contain characters:"
   ]
  },
  {
   "cell_type": "code",
   "execution_count": null,
   "metadata": {},
   "outputs": [],
   "source": [
    "myString = \"This is a sentence.\"\n",
    "\n",
    "myString[0:5]          # Take the first five characters"
   ]
  },
  {
   "cell_type": "code",
   "execution_count": null,
   "metadata": {},
   "outputs": [],
   "source": [
    "myString.count(\"e\")    # Count the number of 'e' characters"
   ]
  },
  {
   "cell_type": "code",
   "execution_count": null,
   "metadata": {},
   "outputs": [],
   "source": [
    "myString.index(\"i\")    # Give the index of the first 'i' character"
   ]
  },
  {
   "cell_type": "markdown",
   "metadata": {},
   "source": [
    "You cannot re-assign strings as you do with lists though, the following example does not work:"
   ]
  },
  {
   "cell_type": "code",
   "execution_count": null,
   "metadata": {},
   "outputs": [],
   "source": [
    "myString = \"   This is a sentence.  \""
   ]
  },
  {
   "cell_type": "code",
   "execution_count": null,
   "metadata": {},
   "outputs": [],
   "source": [
    "print(myString.upper())       # Upper-case all characters"
   ]
  },
  {
   "cell_type": "code",
   "execution_count": null,
   "metadata": {},
   "outputs": [],
   "source": [
    "print(myString.lower())       # Lower-case all characters"
   ]
  },
  {
   "cell_type": "code",
   "execution_count": null,
   "metadata": {},
   "outputs": [],
   "source": [
    "print(myString.strip())       # Strip leading and trailing spaces/tabs/newlines"
   ]
  },
  {
   "cell_type": "code",
   "execution_count": null,
   "metadata": {},
   "outputs": [],
   "source": [
    "print(myString.split())       # Split the line into elements - default is splitting by whitespace characters"
   ]
  },
  {
   "cell_type": "code",
   "execution_count": null,
   "metadata": {},
   "outputs": [],
   "source": [
    "print(myString.replace(' is ',' was '))  # Replace ' is ' by ' was '. Spaces are necessary, otherwise the 'is' in 'This' will be replaced!"
   ]
  },
  {
   "cell_type": "markdown",
   "metadata": {},
   "source": [
    "These are the methods that we will use the most during this course. A list with all string methods and a full description can be found in the [Python documentation](https://docs.python.org/3/library/stdtypes.html#string-methods), or simply type `help(myString)`"
   ]
  },
  {
   "cell_type": "code",
   "execution_count": null,
   "metadata": {},
   "outputs": [],
   "source": [
    "help(myString)"
   ]
  },
  {
   "cell_type": "markdown",
   "metadata": {},
   "source": [
    "---\n",
    "### 5.4.1 Exercise\n",
    "\n",
    "Ask the user for two words, then check whether they are the same (upper or lower case should not matter), if not check whether they have the same first letter (again case should not matter). If not, then print their length. \n",
    "\n",
    "---"
   ]
  },
  {
   "cell_type": "code",
   "execution_count": null,
   "metadata": {},
   "outputs": [],
   "source": []
  },
  {
   "cell_type": "markdown",
   "metadata": {},
   "source": [
    "## 5.5 Chapter Review\n",
    "We have learned how to store a collection of values in a `list()` and `tuple()`. We're also capable of accessing values within a *list* or *tuple* and we know how to do modifications on *lists* (we'll see 1 reason why this is useful later). \n",
    "\n",
    "The _order_ of values in a `list()` or `tuple()` are well defined. *Lists* are different from *Tuples* as they can be changed over time, whereas a tuple is immutable once created. Both *lists* and *tuples* can have multiple identical values in their collection. Keen on exploring them?\n",
    "Have a look at [the extra chapter on lists, tuples and sets](extra-course-parts/5_Lists_Tuples_Sets_Extra.ipynb)\n",
    "\n",
    "Here's a nice overview of the properties of *lists*, *tuples*, and *strings*. \n",
    "\n",
    "| Python Collection | Representation | Mutable? |\n",
    "|:------------|:---------------|:--------:|\n",
    "| `List` | `[]` | ✔ |\n",
    "| `Tuple` | `()` | ❌ |\n",
    "| `String` | `\"\"` or `''` or `\"\"\"\"\"\"` | ❌ |\n",
    "\n",
    "\n",
    "### Review Questions\n",
    "\n",
    "1. What are lists used for?\n",
    "<details>\n",
    "    <summary>&#9654; Answer</summary>\n",
    "    To collect values together. \n",
    "</details>\n",
    "\n",
    "\n",
    "2. How are tuples different from lists?\n",
    "<details>\n",
    "    <summary>&#9654; Answer</summary>\n",
    "    Tuples cannot be changed after you create them.\n",
    "</details>\n",
    "\n",
    "\n",
    "3. What is _slicing_?\n",
    "<details>\n",
    "    <summary>&#9654; Answer</summary>\n",
    "    Slicing is a way to access elements (or ranges of elements) in a collection.\n",
    "</details>\n",
    "\n",
    "\n",
    "4. If the elements of a list or tuple can be _anything_, what elements can a string contain?\n",
    "<details>\n",
    "    <summary>&#9654; Answer</summary>\n",
    "    A string is a collection that can only contain characters.\n",
    "</details>\n",
    "\n",
    "\n",
    "5. In what way are strings similar to tuples?\n",
    "<details>\n",
    "    <summary>&#9654; Answer</summary>\n",
    "    They are both collections that are immutable.\n",
    "</details>\n",
    "\n",
    "\n",
    "6. Can you sort a tuple or a string?\n",
    "<details>\n",
    "    <summary>&#9654; Answer</summary>\n",
    "    They don't have mutating <code>sort()</code> methods, but you can call the function <code>sorted()</code> on them\n",
    "    to get a sorted list of their elements.\n",
    "</details>\n",
    "\n",
    "\n",
    "7. What happens if you call the `.index()` method on a list where the value doesn't exist?\n",
    "<details>\n",
    "    <summary>&#9654; Answer</summary>\n",
    "    The program crashed with an error message, <code>ValueError: substring not found</code>.\n",
    "</details>"
   ]
  },
  {
   "cell_type": "markdown",
   "metadata": {},
   "source": [
    "## 5.6 Next session\n",
    "\n",
    "Go to our [next chapter](06_Loops.ipynb). "
   ]
  }
 ],
 "metadata": {
  "kernelspec": {
   "display_name": "Python 3",
   "language": "python",
   "name": "python3"
  },
  "language_info": {
   "codemirror_mode": {
    "name": "ipython",
    "version": 3
   },
   "file_extension": ".py",
   "mimetype": "text/x-python",
   "name": "python",
   "nbconvert_exporter": "python",
   "pygments_lexer": "ipython3",
   "version": "3.7.9"
  }
 },
 "nbformat": 4,
 "nbformat_minor": 4
}
